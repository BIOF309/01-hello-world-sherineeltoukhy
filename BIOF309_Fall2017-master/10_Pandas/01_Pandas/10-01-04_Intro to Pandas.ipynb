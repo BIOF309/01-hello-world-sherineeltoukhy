{
 "metadata": {
  "name": "Intro to Pandas"
 },
 "nbformat": 3,
 "nbformat_minor": 0,
 "worksheets": [
  {
   "cells": [
    {
     "cell_type": "markdown",
     "metadata": {},
     "source": [
      "### Pandas consists of:\n",
      "\n",
      "\u2022 A set of labeled array data structures, the primary of which are Series/TimeSeries and DataFrame\n",
      "\n",
      "\u2022 Index objects enabling both simple axis indexing and multi-level (lookups, data alignment, and reindexing)\n",
      "\n",
      "\u2022 An integrated group by engine for aggregating and transforming data sets\n",
      "\n",
      "\u2022 Date range generation (date_range) \n",
      "\n",
      "\u2022 Input/Output tools: loading tabular data from flat files (CSV, delimited, Excel), and saving and loading\n",
      "pandas objects from the fast and efficient PyTables/HDF5 format.\n",
      "\n",
      "\u2022 Memory-efficent \u201csparse\u201d versions of the standard data structures for storing data that is mostly missing or\n",
      "mostly constant (some fixed value)\n",
      "\n",
      "\u2022 Moving window statistics (rolling mean, rolling standard deviation, etc.)\n",
      "\n",
      "\u2022 Static and moving window linear and panel regression"
     ]
    },
    {
     "cell_type": "markdown",
     "metadata": {},
     "source": [
      "- [Pandas documentation](http://pandas.pydata.org/pandas-docs/dev)\n",
      "- [Pandas code repository](https://github.com/pydata/pandas)\n",
      "- [Pandas code example: Stock price analysis](https://github.com/pydata/pandas/blob/master/examples/finance.py)\n",
      "- [Pandas code example: Stock price regression](https://github.com/pydata/pandas/blob/master/examples/regressions.py)\n",
      "- [Clean data with Google Refine](http://code.google.com/p/google-refine/)"
     ]
    },
    {
     "cell_type": "markdown",
     "metadata": {},
     "source": [
      "##Two types of Data\n",
      "\n",
      "Numerical \n",
      "\n",
      "+ continious\n",
      "\n",
      "+ discrete\n",
      "\n",
      "+ interval (calendar, units of temprature)\n",
      "\n",
      "+ ratio \n",
      "\n",
      "Categorical\n",
      "\n",
      "+ Nominal: Differentiated by names...examples include gender, nationality. Think = or !=\n",
      "\n",
      "+ Ordinal: Rank Order, Think =, !=, <, >\n",
      "\n",
      "Can data be sorted...\n",
      "Blue, Red, Green => [-1, 0, 1] \n",
      "\n",
      "The data type is not inherent in the data \u2014 it only arises from its context. Think average of 2 zip codes...\n",
      "\n",
      "###Types of Data\n",
      "Univariate: single variable\n",
      "\n",
      "    We typically want to know how individual points are distributed, shape of disribution, whether its symmetric, does it have outliers!\n",
      "\n",
      "\n",
      "Bivariate: Two variables. \n",
      "\n",
      "    We usually want to know whether there is a relationship between 2 quantities. \n",
      "\n",
      "\n",
      "Multivariate: > 2 variables.\n",
      "\n",
      "    We typically want to find a smaller group of variables that still contains most of the info in the data set.\n"
     ]
    },
    {
     "cell_type": "markdown",
     "metadata": {},
     "source": [
      "## Questions about data sets\n",
      "\n",
      "Num of records\n",
      "\n",
      "Num of data fields\n",
      "\n",
      "Does data fit into memory? single disk? disk array? \n",
      "\n",
      "How many missing values? Junk values?\n",
      "\n",
      "How many duplicates?\n",
      "\n",
      "Are there labels (for dependent variable)?\n",
      "\n",
      "Are there keys?\n",
      "\n",
      "** May have to format & normalize data (timezones, monetary unit values etc...)\n",
      "\n",
      "\n",
      "## Questions about data fields\n",
      "\n",
      "### Data fields\n",
      "What is the mean, variance, mode, median...?\n",
      "\n",
      "What is the distribution? Hint: Plot historgram\n",
      "\n",
      "What are extreme values, missing values, unusual values?\n",
      "\n",
      "\n",
      "### Pairs of data fields\n",
      "What is the correlation? Plot scatter plot\n",
      "\n",
      "### Visualize the data  \n",
      "\n",
      "Histograms, scatter plots, etc...\n",
      "You can produce plots, but not be able to print them\n",
      "\n",
      "\n",
      "Sample Data\n",
      "\n",
      "Randomly pick some of the records.\n",
      "\n",
      "###Take care of your data\n",
      "All data sets are self-explanatory and reproducible.\n",
      "\n",
      "To ensure data is self-explanatory, include all the information necessary to make sense of it.\n",
      " \n",
      "To ensure data is reproducible, keep track of its source and the cleaning and conditioning transformations (original data set if you have merged data sets).\n",
      "  \n",
      "\n",
      "###Data Analysis Motivation\n",
      "\n",
      "####Use Case Fraud Detection\n",
      "\n",
      "Events: Credit card transactions\n",
      "\n",
      "Entities: Credit card accounts\n",
      "\n",
      "Features: # of transactions past 10 minutes\n",
      "\n",
      "Models: CART (Classification and regression trees)\n",
      "\n",
      "Scores: Likelihood of fraudulent account\n",
      "\n",
      "\n",
      "\n",
      "###Use Case Online Adv\n",
      "\n",
      "Events: Impressions & clicks\n",
      "\n",
      "Entities: Cookies, user IDs\n",
      "\n",
      "Features: # of impressions per category\n",
      "\n",
      "Models: Clusters, trees, recommendation\n",
      "\n",
      "Scores: Likelihood of clicking \n",
      "\n",
      "Ask for more Data\n",
      "\n",
      "Ask for more Orthogonal Data"
     ]
    },
    {
     "cell_type": "code",
     "collapsed": false,
     "input": [
      "import pandas as pd\n",
      "import numpy as np"
     ],
     "language": "python",
     "metadata": {},
     "outputs": [],
     "prompt_number": 3
    },
    {
     "cell_type": "code",
     "collapsed": false,
     "input": [
      "from IPython.core.display import Image \n",
      "Image(filename='data/data_structs.png')\n",
      "\n",
      "# all data structs are value mutable, but not size mutable\n",
      "# methods produce new objects, leaving input objects untouched"
     ],
     "language": "python",
     "metadata": {},
     "outputs": [
      {
       "output_type": "pyout",
       "png": "[encoded data removed]",
       "prompt_number": 1,
       "text": [
        "<IPython.core.display.Image at 0x10d34d150>"
       ]
      }
     ],
     "prompt_number": 1
    },
    {
     "cell_type": "markdown",
     "metadata": {},
     "source": [
      "##Series"
     ]
    },
    {
     "cell_type": "code",
     "collapsed": false,
     "input": [
      "# s = Series(data, index=index)\n",
      "# data => a Python dict, an ndarray, a scalar value \n",
      "# NaN for missing data\n",
      "sample_series = pd.Series(randn(5), index=['val 1', 'val 2', 'val 3', 'val 4', 'val 5'])\n",
      "sample_series"
     ],
     "language": "python",
     "metadata": {},
     "outputs": [
      {
       "output_type": "pyout",
       "prompt_number": 7,
       "text": [
        "val 1    1.583716\n",
        "val 2   -0.030864\n",
        "val 3   -0.686428\n",
        "val 4    0.832826\n",
        "val 5    0.941874\n",
        "dtype: float64"
       ]
      }
     ],
     "prompt_number": 7
    },
    {
     "cell_type": "code",
     "collapsed": false,
     "input": [
      "sample_series.values"
     ],
     "language": "python",
     "metadata": {},
     "outputs": [
      {
       "output_type": "pyout",
       "prompt_number": 8,
       "text": [
        "array([ 1.58371555, -0.03086417, -0.68642844,  0.83282612,  0.94187392])"
       ]
      }
     ],
     "prompt_number": 8
    },
    {
     "cell_type": "code",
     "collapsed": false,
     "input": [
      "d = {'val 1' : 0., 'val 2' : 1., 'val 3' : 2.}\n",
      "pd.Series(d)"
     ],
     "language": "python",
     "metadata": {},
     "outputs": [
      {
       "output_type": "pyout",
       "prompt_number": 9,
       "text": [
        "val 1    0\n",
        "val 2    1\n",
        "val 3    2\n",
        "dtype: float64"
       ]
      }
     ],
     "prompt_number": 9
    },
    {
     "cell_type": "code",
     "collapsed": false,
     "input": [
      "sample_series[0]"
     ],
     "language": "python",
     "metadata": {},
     "outputs": [
      {
       "output_type": "pyout",
       "prompt_number": 10,
       "text": [
        "1.583715550039045"
       ]
      }
     ],
     "prompt_number": 10
    },
    {
     "cell_type": "code",
     "collapsed": false,
     "input": [
      "sample_series[sample_series > sample_series.median()]"
     ],
     "language": "python",
     "metadata": {},
     "outputs": [
      {
       "output_type": "pyout",
       "prompt_number": 11,
       "text": [
        "val 1    1.583716\n",
        "val 5    0.941874\n",
        "dtype: float64"
       ]
      }
     ],
     "prompt_number": 11
    },
    {
     "cell_type": "code",
     "collapsed": false,
     "input": [
      "np.exp(sample_series)"
     ],
     "language": "python",
     "metadata": {},
     "outputs": [
      {
       "output_type": "pyout",
       "prompt_number": 12,
       "text": [
        "val 1    4.873028\n",
        "val 2    0.969607\n",
        "val 3    0.503371\n",
        "val 4    2.299809\n",
        "val 5    2.564783\n",
        "dtype: float64"
       ]
      }
     ],
     "prompt_number": 12
    },
    {
     "cell_type": "code",
     "collapsed": false,
     "input": [
      "sample_series"
     ],
     "language": "python",
     "metadata": {},
     "outputs": [
      {
       "output_type": "pyout",
       "prompt_number": 13,
       "text": [
        "val 1    1.583716\n",
        "val 2   -0.030864\n",
        "val 3   -0.686428\n",
        "val 4    0.832826\n",
        "val 5    0.941874\n",
        "dtype: float64"
       ]
      }
     ],
     "prompt_number": 13
    },
    {
     "cell_type": "code",
     "collapsed": false,
     "input": [
      "# compute the percent change over a given number of periods\n",
      "sample_series.pct_change()"
     ],
     "language": "python",
     "metadata": {},
     "outputs": [
      {
       "output_type": "pyout",
       "prompt_number": 14,
       "text": [
        "val 1          NaN\n",
        "val 2    -1.019488\n",
        "val 3    21.240301\n",
        "val 4    -2.213274\n",
        "val 5     0.130937\n",
        "dtype: float64"
       ]
      }
     ],
     "prompt_number": 14
    },
    {
     "cell_type": "code",
     "collapsed": false,
     "input": [
      "sample_series2 = pd.Series(randn(6))\n",
      "sample_series3 = pd.Series(randn(6))\n",
      "sample_series2.cov(sample_series3)"
     ],
     "language": "python",
     "metadata": {},
     "outputs": [
      {
       "output_type": "pyout",
       "prompt_number": 15,
       "text": [
        "0.8603487111080218"
       ]
      }
     ],
     "prompt_number": 15
    },
    {
     "cell_type": "markdown",
     "metadata": {},
     "source": [
      "##DataFrame"
     ]
    },
    {
     "cell_type": "code",
     "collapsed": false,
     "input": [
      "# DataFrame is one of : \n",
      "#  Dict of 1D ndarrays, lists, dicts, or Series\n",
      "#  2-D numpy.ndarray\n",
      "#  Structured or record ndarray\n",
      "#  A Series\n",
      "#  Another DataFrame\n",
      "d = {'one' : pd.Series([1., 2., 3.], index=['a', 'b', 'c']),\n",
      "     'two' : pd.Series([1., 2., 3., 4.], index=['a', 'b', 'c', 'd'])}\n",
      "d"
     ],
     "language": "python",
     "metadata": {},
     "outputs": [
      {
       "output_type": "pyout",
       "prompt_number": 45,
       "text": [
        "{'one': a    1\n",
        "b    2\n",
        "c    3\n",
        "dtype: float64,\n",
        " 'two': a    1\n",
        "b    2\n",
        "c    3\n",
        "d    4\n",
        "dtype: float64}"
       ]
      }
     ],
     "prompt_number": 45
    },
    {
     "cell_type": "code",
     "collapsed": false,
     "input": [
      "df = pd.DataFrame(d, index=['d', 'b', 'a'], columns=['one', 'two'])\n",
      "df"
     ],
     "language": "python",
     "metadata": {},
     "outputs": [
      {
       "html": [
        "<div style=\"max-height:1000px;max-width:1500px;overflow:auto;\">\n",
        "<table border=\"1\" class=\"dataframe\">\n",
        "  <thead>\n",
        "    <tr style=\"text-align: right;\">\n",
        "      <th></th>\n",
        "      <th>one</th>\n",
        "      <th>two</th>\n",
        "    </tr>\n",
        "  </thead>\n",
        "  <tbody>\n",
        "    <tr>\n",
        "      <th>d</th>\n",
        "      <td>NaN</td>\n",
        "      <td> 4</td>\n",
        "    </tr>\n",
        "    <tr>\n",
        "      <th>b</th>\n",
        "      <td>  2</td>\n",
        "      <td> 2</td>\n",
        "    </tr>\n",
        "    <tr>\n",
        "      <th>a</th>\n",
        "      <td>  1</td>\n",
        "      <td> 1</td>\n",
        "    </tr>\n",
        "  </tbody>\n",
        "</table>\n",
        "</div>"
       ],
       "output_type": "pyout",
       "prompt_number": 46,
       "text": [
        "   one  two\n",
        "d  NaN    4\n",
        "b    2    2\n",
        "a    1    1"
       ]
      }
     ],
     "prompt_number": 46
    },
    {
     "cell_type": "code",
     "collapsed": false,
     "input": [
      "df.index"
     ],
     "language": "python",
     "metadata": {},
     "outputs": [
      {
       "output_type": "pyout",
       "prompt_number": 38,
       "text": [
        "Index([d, b, a], dtype=object)"
       ]
      }
     ],
     "prompt_number": 38
    },
    {
     "cell_type": "code",
     "collapsed": false,
     "input": [
      "df.columns"
     ],
     "language": "python",
     "metadata": {},
     "outputs": [
      {
       "output_type": "pyout",
       "prompt_number": 39,
       "text": [
        "Index([one, two], dtype=object)"
       ]
      }
     ],
     "prompt_number": 39
    },
    {
     "cell_type": "code",
     "collapsed": false,
     "input": [
      "# Column selection, addition, deletion\n",
      "Image(filename='data/ind_sel.png')"
     ],
     "language": "python",
     "metadata": {},
     "outputs": [
      {
       "output_type": "pyout",
       "png": "[encoded data removed]",
       "prompt_number": 47,
       "text": [
        "<IPython.core.display.Image at 0x10ea87cd0>"
       ]
      }
     ],
     "prompt_number": 47
    },
    {
     "cell_type": "code",
     "collapsed": false,
     "input": [
      "Image(filename='data/correlation.png')"
     ],
     "language": "python",
     "metadata": {},
     "outputs": [
      {
       "output_type": "pyout",
       "png": "[encoded data removed]",
       "prompt_number": 41,
       "text": [
        "<IPython.core.display.Image at 0x10ea87850>"
       ]
      }
     ],
     "prompt_number": 41
    },
    {
     "cell_type": "code",
     "collapsed": false,
     "input": [
      "df['three'] = df['two'] * 2\n",
      "df"
     ],
     "language": "python",
     "metadata": {},
     "outputs": [
      {
       "html": [
        "<div style=\"max-height:1000px;max-width:1500px;overflow:auto;\">\n",
        "<table border=\"1\" class=\"dataframe\">\n",
        "  <thead>\n",
        "    <tr style=\"text-align: right;\">\n",
        "      <th></th>\n",
        "      <th>one</th>\n",
        "      <th>two</th>\n",
        "      <th>three</th>\n",
        "    </tr>\n",
        "  </thead>\n",
        "  <tbody>\n",
        "    <tr>\n",
        "      <th>d</th>\n",
        "      <td>NaN</td>\n",
        "      <td> 4</td>\n",
        "      <td> 8</td>\n",
        "    </tr>\n",
        "    <tr>\n",
        "      <th>b</th>\n",
        "      <td>  2</td>\n",
        "      <td> 2</td>\n",
        "      <td> 4</td>\n",
        "    </tr>\n",
        "    <tr>\n",
        "      <th>a</th>\n",
        "      <td>  1</td>\n",
        "      <td> 1</td>\n",
        "      <td> 2</td>\n",
        "    </tr>\n",
        "  </tbody>\n",
        "</table>\n",
        "</div>"
       ],
       "output_type": "pyout",
       "prompt_number": 48,
       "text": [
        "   one  two  three\n",
        "d  NaN    4      8\n",
        "b    2    2      4\n",
        "a    1    1      2"
       ]
      }
     ],
     "prompt_number": 48
    },
    {
     "cell_type": "code",
     "collapsed": false,
     "input": [
      "df['flag'] = df['two'] > 2\n",
      "df"
     ],
     "language": "python",
     "metadata": {},
     "outputs": [
      {
       "html": [
        "<div style=\"max-height:1000px;max-width:1500px;overflow:auto;\">\n",
        "<table border=\"1\" class=\"dataframe\">\n",
        "  <thead>\n",
        "    <tr style=\"text-align: right;\">\n",
        "      <th></th>\n",
        "      <th>one</th>\n",
        "      <th>two</th>\n",
        "      <th>three</th>\n",
        "      <th>flag</th>\n",
        "    </tr>\n",
        "  </thead>\n",
        "  <tbody>\n",
        "    <tr>\n",
        "      <th>d</th>\n",
        "      <td>NaN</td>\n",
        "      <td> 4</td>\n",
        "      <td> 8</td>\n",
        "      <td>  True</td>\n",
        "    </tr>\n",
        "    <tr>\n",
        "      <th>b</th>\n",
        "      <td>  2</td>\n",
        "      <td> 2</td>\n",
        "      <td> 4</td>\n",
        "      <td> False</td>\n",
        "    </tr>\n",
        "    <tr>\n",
        "      <th>a</th>\n",
        "      <td>  1</td>\n",
        "      <td> 1</td>\n",
        "      <td> 2</td>\n",
        "      <td> False</td>\n",
        "    </tr>\n",
        "  </tbody>\n",
        "</table>\n",
        "</div>"
       ],
       "output_type": "pyout",
       "prompt_number": 49,
       "text": [
        "   one  two  three   flag\n",
        "d  NaN    4      8   True\n",
        "b    2    2      4  False\n",
        "a    1    1      2  False"
       ]
      }
     ],
     "prompt_number": 49
    },
    {
     "cell_type": "code",
     "collapsed": false,
     "input": [
      "df = pd.DataFrame(randn(10, 4), columns=['A', 'B', 'C', 'D'])\n",
      "df2 = pd.DataFrame(randn(7, 3), columns=['A', 'B', 'C'])\n",
      "df + df2\n"
     ],
     "language": "python",
     "metadata": {},
     "outputs": [
      {
       "html": [
        "<div style=\"max-height:1000px;max-width:1500px;overflow:auto;\">\n",
        "<table border=\"1\" class=\"dataframe\">\n",
        "  <thead>\n",
        "    <tr style=\"text-align: right;\">\n",
        "      <th></th>\n",
        "      <th>A</th>\n",
        "      <th>B</th>\n",
        "      <th>C</th>\n",
        "      <th>D</th>\n",
        "    </tr>\n",
        "  </thead>\n",
        "  <tbody>\n",
        "    <tr>\n",
        "      <th>0</th>\n",
        "      <td>-0.837710</td>\n",
        "      <td> 1.362020</td>\n",
        "      <td> 2.190839</td>\n",
        "      <td>NaN</td>\n",
        "    </tr>\n",
        "    <tr>\n",
        "      <th>1</th>\n",
        "      <td>-0.561747</td>\n",
        "      <td>-0.205782</td>\n",
        "      <td>-3.197528</td>\n",
        "      <td>NaN</td>\n",
        "    </tr>\n",
        "    <tr>\n",
        "      <th>2</th>\n",
        "      <td> 0.290202</td>\n",
        "      <td>-0.389255</td>\n",
        "      <td>-1.146254</td>\n",
        "      <td>NaN</td>\n",
        "    </tr>\n",
        "    <tr>\n",
        "      <th>3</th>\n",
        "      <td>-0.099179</td>\n",
        "      <td> 0.221975</td>\n",
        "      <td>-1.525860</td>\n",
        "      <td>NaN</td>\n",
        "    </tr>\n",
        "    <tr>\n",
        "      <th>4</th>\n",
        "      <td>-1.216379</td>\n",
        "      <td>-0.186940</td>\n",
        "      <td> 0.258686</td>\n",
        "      <td>NaN</td>\n",
        "    </tr>\n",
        "    <tr>\n",
        "      <th>5</th>\n",
        "      <td>-0.754142</td>\n",
        "      <td>-1.810639</td>\n",
        "      <td> 0.508232</td>\n",
        "      <td>NaN</td>\n",
        "    </tr>\n",
        "    <tr>\n",
        "      <th>6</th>\n",
        "      <td> 0.515946</td>\n",
        "      <td>-0.239984</td>\n",
        "      <td> 0.747752</td>\n",
        "      <td>NaN</td>\n",
        "    </tr>\n",
        "    <tr>\n",
        "      <th>7</th>\n",
        "      <td>      NaN</td>\n",
        "      <td>      NaN</td>\n",
        "      <td>      NaN</td>\n",
        "      <td>NaN</td>\n",
        "    </tr>\n",
        "    <tr>\n",
        "      <th>8</th>\n",
        "      <td>      NaN</td>\n",
        "      <td>      NaN</td>\n",
        "      <td>      NaN</td>\n",
        "      <td>NaN</td>\n",
        "    </tr>\n",
        "    <tr>\n",
        "      <th>9</th>\n",
        "      <td>      NaN</td>\n",
        "      <td>      NaN</td>\n",
        "      <td>      NaN</td>\n",
        "      <td>NaN</td>\n",
        "    </tr>\n",
        "  </tbody>\n",
        "</table>\n",
        "</div>"
       ],
       "output_type": "pyout",
       "prompt_number": 50,
       "text": [
        "          A         B         C   D\n",
        "0 -0.837710  1.362020  2.190839 NaN\n",
        "1 -0.561747 -0.205782 -3.197528 NaN\n",
        "2  0.290202 -0.389255 -1.146254 NaN\n",
        "3 -0.099179  0.221975 -1.525860 NaN\n",
        "4 -1.216379 -0.186940  0.258686 NaN\n",
        "5 -0.754142 -1.810639  0.508232 NaN\n",
        "6  0.515946 -0.239984  0.747752 NaN\n",
        "7       NaN       NaN       NaN NaN\n",
        "8       NaN       NaN       NaN NaN\n",
        "9       NaN       NaN       NaN NaN"
       ]
      }
     ],
     "prompt_number": 50
    },
    {
     "cell_type": "markdown",
     "metadata": {},
     "source": [
      "- [NumPy Broadcasting](http://docs.scipy.org/doc/numpy/user/basics.broadcasting.html)"
     ]
    },
    {
     "cell_type": "code",
     "collapsed": false,
     "input": [
      "# transpose first 5 rows\n",
      "df[:5].T"
     ],
     "language": "python",
     "metadata": {},
     "outputs": [
      {
       "html": [
        "<div style=\"max-height:1000px;max-width:1500px;overflow:auto;\">\n",
        "<table border=\"1\" class=\"dataframe\">\n",
        "  <thead>\n",
        "    <tr style=\"text-align: right;\">\n",
        "      <th></th>\n",
        "      <th>0</th>\n",
        "      <th>1</th>\n",
        "      <th>2</th>\n",
        "      <th>3</th>\n",
        "      <th>4</th>\n",
        "    </tr>\n",
        "  </thead>\n",
        "  <tbody>\n",
        "    <tr>\n",
        "      <th>A</th>\n",
        "      <td>-0.701839</td>\n",
        "      <td>-0.352239</td>\n",
        "      <td> 0.168684</td>\n",
        "      <td> 0.323164</td>\n",
        "      <td>-0.276530</td>\n",
        "    </tr>\n",
        "    <tr>\n",
        "      <th>B</th>\n",
        "      <td> 0.424179</td>\n",
        "      <td>-0.090045</td>\n",
        "      <td>-2.012156</td>\n",
        "      <td> 0.333679</td>\n",
        "      <td>-0.993900</td>\n",
        "    </tr>\n",
        "    <tr>\n",
        "      <th>C</th>\n",
        "      <td> 0.969552</td>\n",
        "      <td>-2.123662</td>\n",
        "      <td>-0.482454</td>\n",
        "      <td>-1.524441</td>\n",
        "      <td> 0.436182</td>\n",
        "    </tr>\n",
        "    <tr>\n",
        "      <th>D</th>\n",
        "      <td> 0.193336</td>\n",
        "      <td> 0.039856</td>\n",
        "      <td>-0.448875</td>\n",
        "      <td>-0.530219</td>\n",
        "      <td> 0.346277</td>\n",
        "    </tr>\n",
        "  </tbody>\n",
        "</table>\n",
        "</div>"
       ],
       "output_type": "pyout",
       "prompt_number": 51,
       "text": [
        "          0         1         2         3         4\n",
        "A -0.701839 -0.352239  0.168684  0.323164 -0.276530\n",
        "B  0.424179 -0.090045 -2.012156  0.333679 -0.993900\n",
        "C  0.969552 -2.123662 -0.482454 -1.524441  0.436182\n",
        "D  0.193336  0.039856 -0.448875 -0.530219  0.346277"
       ]
      }
     ],
     "prompt_number": 51
    },
    {
     "cell_type": "markdown",
     "metadata": {},
     "source": [
      "## Panel \n",
      "less-used, container for 3-dimensional data"
     ]
    },
    {
     "cell_type": "code",
     "collapsed": false,
     "input": [
      "# items: axis 0, each item corresponds to a DataFrame contained inside\n",
      "# major_axis: axis 1, it is the index (rows) of each of the DataFrames\n",
      "# minor_axis: axis 2, it is the columns of each of the DataFrames\n",
      "wp = pd.Panel(randn(2, 5, 4), items=['Item1', 'Item2'],\n",
      "         major_axis=pd.date_range('1/1/2000', periods=5),\n",
      "         minor_axis=['A', 'B', 'C', 'D'])\n",
      "wp"
     ],
     "language": "python",
     "metadata": {},
     "outputs": [
      {
       "output_type": "pyout",
       "prompt_number": 53,
       "text": [
        "<class 'pandas.core.panel.Panel'>\n",
        "Dimensions: 2 (items) x 5 (major_axis) x 4 (minor_axis)\n",
        "Items axis: Item1 to Item2\n",
        "Major_axis axis: 2000-01-01 00:00:00 to 2000-01-05 00:00:00\n",
        "Minor_axis axis: A to D"
       ]
      }
     ],
     "prompt_number": 53
    },
    {
     "cell_type": "code",
     "collapsed": false,
     "input": [
      "wp['Item1']"
     ],
     "language": "python",
     "metadata": {},
     "outputs": [
      {
       "html": [
        "<div style=\"max-height:1000px;max-width:1500px;overflow:auto;\">\n",
        "<table border=\"1\" class=\"dataframe\">\n",
        "  <thead>\n",
        "    <tr style=\"text-align: right;\">\n",
        "      <th></th>\n",
        "      <th>A</th>\n",
        "      <th>B</th>\n",
        "      <th>C</th>\n",
        "      <th>D</th>\n",
        "    </tr>\n",
        "  </thead>\n",
        "  <tbody>\n",
        "    <tr>\n",
        "      <th>2000-01-01</th>\n",
        "      <td> 1.318086</td>\n",
        "      <td> 0.262673</td>\n",
        "      <td> 0.964613</td>\n",
        "      <td>-0.071859</td>\n",
        "    </tr>\n",
        "    <tr>\n",
        "      <th>2000-01-02</th>\n",
        "      <td>-0.221876</td>\n",
        "      <td>-0.839133</td>\n",
        "      <td>-1.162672</td>\n",
        "      <td>-0.176416</td>\n",
        "    </tr>\n",
        "    <tr>\n",
        "      <th>2000-01-03</th>\n",
        "      <td> 0.311523</td>\n",
        "      <td>-0.248981</td>\n",
        "      <td> 0.711103</td>\n",
        "      <td>-0.007247</td>\n",
        "    </tr>\n",
        "    <tr>\n",
        "      <th>2000-01-04</th>\n",
        "      <td> 0.465819</td>\n",
        "      <td>-1.435261</td>\n",
        "      <td>-1.071583</td>\n",
        "      <td>-2.272159</td>\n",
        "    </tr>\n",
        "    <tr>\n",
        "      <th>2000-01-05</th>\n",
        "      <td>-1.180359</td>\n",
        "      <td>-1.718676</td>\n",
        "      <td> 2.485351</td>\n",
        "      <td> 0.945967</td>\n",
        "    </tr>\n",
        "  </tbody>\n",
        "</table>\n",
        "</div>"
       ],
       "output_type": "pyout",
       "prompt_number": 54,
       "text": [
        "                   A         B         C         D\n",
        "2000-01-01  1.318086  0.262673  0.964613 -0.071859\n",
        "2000-01-02 -0.221876 -0.839133 -1.162672 -0.176416\n",
        "2000-01-03  0.311523 -0.248981  0.711103 -0.007247\n",
        "2000-01-04  0.465819 -1.435261 -1.071583 -2.272159\n",
        "2000-01-05 -1.180359 -1.718676  2.485351  0.945967"
       ]
      }
     ],
     "prompt_number": 54
    },
    {
     "cell_type": "code",
     "collapsed": false,
     "input": [
      "wp['Item2']"
     ],
     "language": "python",
     "metadata": {},
     "outputs": [
      {
       "html": [
        "<div style=\"max-height:1000px;max-width:1500px;overflow:auto;\">\n",
        "<table border=\"1\" class=\"dataframe\">\n",
        "  <thead>\n",
        "    <tr style=\"text-align: right;\">\n",
        "      <th></th>\n",
        "      <th>A</th>\n",
        "      <th>B</th>\n",
        "      <th>C</th>\n",
        "      <th>D</th>\n",
        "    </tr>\n",
        "  </thead>\n",
        "  <tbody>\n",
        "    <tr>\n",
        "      <th>2000-01-01</th>\n",
        "      <td>-1.676086</td>\n",
        "      <td>-0.621843</td>\n",
        "      <td>-0.590170</td>\n",
        "      <td> 0.458871</td>\n",
        "    </tr>\n",
        "    <tr>\n",
        "      <th>2000-01-02</th>\n",
        "      <td>-0.186563</td>\n",
        "      <td>-0.784361</td>\n",
        "      <td> 0.612034</td>\n",
        "      <td>-0.751312</td>\n",
        "    </tr>\n",
        "    <tr>\n",
        "      <th>2000-01-03</th>\n",
        "      <td>-0.574059</td>\n",
        "      <td>-0.524901</td>\n",
        "      <td>-0.704731</td>\n",
        "      <td>-1.337540</td>\n",
        "    </tr>\n",
        "    <tr>\n",
        "      <th>2000-01-04</th>\n",
        "      <td>-0.190683</td>\n",
        "      <td>-0.359239</td>\n",
        "      <td> 1.270178</td>\n",
        "      <td> 1.277753</td>\n",
        "    </tr>\n",
        "    <tr>\n",
        "      <th>2000-01-05</th>\n",
        "      <td> 1.386356</td>\n",
        "      <td> 0.823776</td>\n",
        "      <td>-0.674059</td>\n",
        "      <td> 1.107486</td>\n",
        "    </tr>\n",
        "  </tbody>\n",
        "</table>\n",
        "</div>"
       ],
       "output_type": "pyout",
       "prompt_number": 55,
       "text": [
        "                   A         B         C         D\n",
        "2000-01-01 -1.676086 -0.621843 -0.590170  0.458871\n",
        "2000-01-02 -0.186563 -0.784361  0.612034 -0.751312\n",
        "2000-01-03 -0.574059 -0.524901 -0.704731 -1.337540\n",
        "2000-01-04 -0.190683 -0.359239  1.270178  1.277753\n",
        "2000-01-05  1.386356  0.823776 -0.674059  1.107486"
       ]
      }
     ],
     "prompt_number": 55
    },
    {
     "cell_type": "markdown",
     "metadata": {},
     "source": [
      "### Pandas aligns labelled data"
     ]
    },
    {
     "cell_type": "code",
     "collapsed": false,
     "input": [
      "cd data/"
     ],
     "language": "python",
     "metadata": {},
     "outputs": [
      {
       "output_type": "stream",
       "stream": "stdout",
       "text": [
        "/Users/Babalu/Documents/data_analysis/meetup/data\n"
       ]
      }
     ],
     "prompt_number": 63
    },
    {
     "cell_type": "code",
     "collapsed": false,
     "input": [
      "import pandas as pd \n",
      "from pandas import Series, DataFrame, Panel\n",
      "from IPython.display import HTML"
     ],
     "language": "python",
     "metadata": {},
     "outputs": [],
     "prompt_number": 64
    },
    {
     "cell_type": "code",
     "collapsed": false,
     "input": [
      "dataset = 'Pandas'\n",
      "users = pd.read_csv('AUDUSD_Ticks.csv')"
     ],
     "language": "python",
     "metadata": {},
     "outputs": [],
     "prompt_number": 65
    },
    {
     "cell_type": "code",
     "collapsed": false,
     "input": [
      "users"
     ],
     "language": "python",
     "metadata": {},
     "outputs": [
      {
       "html": [
        "<pre>\n",
        "&ltclass 'pandas.core.frame.DataFrame'&gt\n",
        "Int64Index: 58460 entries, 0 to 58459\n",
        "Data columns (total 5 columns):\n",
        "Time         58460  non-null values\n",
        "Ask          58460  non-null values\n",
        "Bid          58460  non-null values\n",
        "AskVolume    58460  non-null values\n",
        "BidVolume    58460  non-null values\n",
        "dtypes: float64(4), object(1)\n",
        "</pre>"
       ],
       "output_type": "pyout",
       "prompt_number": 66,
       "text": [
        "<class 'pandas.core.frame.DataFrame'>\n",
        "Int64Index: 58460 entries, 0 to 58459\n",
        "Data columns (total 5 columns):\n",
        "Time         58460  non-null values\n",
        "Ask          58460  non-null values\n",
        "Bid          58460  non-null values\n",
        "AskVolume    58460  non-null values\n",
        "BidVolume    58460  non-null values\n",
        "dtypes: float64(4), object(1)"
       ]
      }
     ],
     "prompt_number": 66
    },
    {
     "cell_type": "markdown",
     "metadata": {},
     "source": [
      "### Series is a list with labelled items"
     ]
    },
    {
     "cell_type": "code",
     "collapsed": false,
     "input": [
      "# Series({...})\n",
      "users.Bid"
     ],
     "language": "python",
     "metadata": {},
     "outputs": [
      {
       "output_type": "pyout",
       "prompt_number": 69,
       "text": [
        "0     1.02727\n",
        "1     1.02727\n",
        "2     1.02727\n",
        "3     1.02726\n",
        "4     1.02729\n",
        "5     1.02728\n",
        "6     1.02728\n",
        "7     1.02726\n",
        "8     1.02726\n",
        "9     1.02726\n",
        "10    1.02726\n",
        "11    1.02727\n",
        "12    1.02726\n",
        "13    1.02727\n",
        "14    1.02727\n",
        "...\n",
        "58445    1.02562\n",
        "58446    1.02562\n",
        "58447    1.02564\n",
        "58448    1.02567\n",
        "58449    1.02564\n",
        "58450    1.02562\n",
        "58451    1.02561\n",
        "58452    1.02561\n",
        "58453    1.02558\n",
        "58454    1.02559\n",
        "58455    1.02559\n",
        "58456    1.02557\n",
        "58457    1.02557\n",
        "58458    1.02556\n",
        "58459    1.02558\n",
        "Name: Bid, Length: 58460, dtype: float64"
       ]
      }
     ],
     "prompt_number": 69
    },
    {
     "cell_type": "code",
     "collapsed": false,
     "input": [
      "users.Bid[4]"
     ],
     "language": "python",
     "metadata": {},
     "outputs": [
      {
       "output_type": "pyout",
       "prompt_number": 70,
       "text": [
        "1.02729"
       ]
      }
     ],
     "prompt_number": 70
    },
    {
     "cell_type": "markdown",
     "metadata": {},
     "source": [
      "### DataFrame is a table with labelled columns and rows"
     ]
    },
    {
     "cell_type": "code",
     "collapsed": false,
     "input": [
      "bid_ask_prices = DataFrame(dict(\n",
      "    bid=users.Bid,\n",
      "    ask=users.Ask))\n",
      "\n",
      "HTML(bid_ask_prices.head(10).to_html())"
     ],
     "language": "python",
     "metadata": {},
     "outputs": [
      {
       "html": [
        "<table border=\"1\" class=\"dataframe\">\n",
        "  <thead>\n",
        "    <tr style=\"text-align: right;\">\n",
        "      <th></th>\n",
        "      <th>ask</th>\n",
        "      <th>bid</th>\n",
        "    </tr>\n",
        "  </thead>\n",
        "  <tbody>\n",
        "    <tr>\n",
        "      <th>0</th>\n",
        "      <td> 1.02741</td>\n",
        "      <td> 1.02727</td>\n",
        "    </tr>\n",
        "    <tr>\n",
        "      <th>1</th>\n",
        "      <td> 1.02742</td>\n",
        "      <td> 1.02727</td>\n",
        "    </tr>\n",
        "    <tr>\n",
        "      <th>2</th>\n",
        "      <td> 1.02741</td>\n",
        "      <td> 1.02727</td>\n",
        "    </tr>\n",
        "    <tr>\n",
        "      <th>3</th>\n",
        "      <td> 1.02741</td>\n",
        "      <td> 1.02726</td>\n",
        "    </tr>\n",
        "    <tr>\n",
        "      <th>4</th>\n",
        "      <td> 1.02742</td>\n",
        "      <td> 1.02729</td>\n",
        "    </tr>\n",
        "    <tr>\n",
        "      <th>5</th>\n",
        "      <td> 1.02742</td>\n",
        "      <td> 1.02728</td>\n",
        "    </tr>\n",
        "    <tr>\n",
        "      <th>6</th>\n",
        "      <td> 1.02742</td>\n",
        "      <td> 1.02728</td>\n",
        "    </tr>\n",
        "    <tr>\n",
        "      <th>7</th>\n",
        "      <td> 1.02742</td>\n",
        "      <td> 1.02726</td>\n",
        "    </tr>\n",
        "    <tr>\n",
        "      <th>8</th>\n",
        "      <td> 1.02742</td>\n",
        "      <td> 1.02726</td>\n",
        "    </tr>\n",
        "    <tr>\n",
        "      <th>9</th>\n",
        "      <td> 1.02742</td>\n",
        "      <td> 1.02726</td>\n",
        "    </tr>\n",
        "  </tbody>\n",
        "</table>"
       ],
       "output_type": "pyout",
       "prompt_number": 71,
       "text": [
        "<IPython.core.display.HTML at 0x1101c6390>"
       ]
      }
     ],
     "prompt_number": 71
    },
    {
     "cell_type": "code",
     "collapsed": false,
     "input": [
      "bid_ask_prices[:3]"
     ],
     "language": "python",
     "metadata": {},
     "outputs": [
      {
       "html": [
        "<div style=\"max-height:1000px;max-width:1500px;overflow:auto;\">\n",
        "<table border=\"1\" class=\"dataframe\">\n",
        "  <thead>\n",
        "    <tr style=\"text-align: right;\">\n",
        "      <th></th>\n",
        "      <th>ask</th>\n",
        "      <th>bid</th>\n",
        "    </tr>\n",
        "  </thead>\n",
        "  <tbody>\n",
        "    <tr>\n",
        "      <th>0</th>\n",
        "      <td> 1.02741</td>\n",
        "      <td> 1.02727</td>\n",
        "    </tr>\n",
        "    <tr>\n",
        "      <th>1</th>\n",
        "      <td> 1.02742</td>\n",
        "      <td> 1.02727</td>\n",
        "    </tr>\n",
        "    <tr>\n",
        "      <th>2</th>\n",
        "      <td> 1.02741</td>\n",
        "      <td> 1.02727</td>\n",
        "    </tr>\n",
        "  </tbody>\n",
        "</table>\n",
        "</div>"
       ],
       "output_type": "pyout",
       "prompt_number": 72,
       "text": [
        "       ask      bid\n",
        "0  1.02741  1.02727\n",
        "1  1.02742  1.02727\n",
        "2  1.02741  1.02727"
       ]
      }
     ],
     "prompt_number": 72
    },
    {
     "cell_type": "code",
     "collapsed": false,
     "input": [
      "bid_ask_volume = DataFrame(dict(\n",
      "    bid=users.BidVolume,\n",
      "    ask=users.AskVolume))\n",
      "\n",
      "HTML(bid_ask_volume.head(10).to_html())"
     ],
     "language": "python",
     "metadata": {},
     "outputs": [
      {
       "html": [
        "<table border=\"1\" class=\"dataframe\">\n",
        "  <thead>\n",
        "    <tr style=\"text-align: right;\">\n",
        "      <th></th>\n",
        "      <th>ask</th>\n",
        "      <th>bid</th>\n",
        "    </tr>\n",
        "  </thead>\n",
        "  <tbody>\n",
        "    <tr>\n",
        "      <th>0</th>\n",
        "      <td> 1.50</td>\n",
        "      <td> 3.00</td>\n",
        "    </tr>\n",
        "    <tr>\n",
        "      <th>1</th>\n",
        "      <td> 1.50</td>\n",
        "      <td> 1.50</td>\n",
        "    </tr>\n",
        "    <tr>\n",
        "      <th>2</th>\n",
        "      <td> 1.50</td>\n",
        "      <td> 1.50</td>\n",
        "    </tr>\n",
        "    <tr>\n",
        "      <th>3</th>\n",
        "      <td> 1.50</td>\n",
        "      <td> 2.63</td>\n",
        "    </tr>\n",
        "    <tr>\n",
        "      <th>4</th>\n",
        "      <td> 1.50</td>\n",
        "      <td> 1.50</td>\n",
        "    </tr>\n",
        "    <tr>\n",
        "      <th>5</th>\n",
        "      <td> 2.25</td>\n",
        "      <td> 1.50</td>\n",
        "    </tr>\n",
        "    <tr>\n",
        "      <th>6</th>\n",
        "      <td> 3.00</td>\n",
        "      <td> 1.50</td>\n",
        "    </tr>\n",
        "    <tr>\n",
        "      <th>7</th>\n",
        "      <td> 3.00</td>\n",
        "      <td> 5.25</td>\n",
        "    </tr>\n",
        "    <tr>\n",
        "      <th>8</th>\n",
        "      <td> 3.00</td>\n",
        "      <td> 5.25</td>\n",
        "    </tr>\n",
        "    <tr>\n",
        "      <th>9</th>\n",
        "      <td> 2.25</td>\n",
        "      <td> 3.75</td>\n",
        "    </tr>\n",
        "  </tbody>\n",
        "</table>"
       ],
       "output_type": "pyout",
       "prompt_number": 100,
       "text": [
        "<IPython.core.display.HTML at 0x10eb8b850>"
       ]
      }
     ],
     "prompt_number": 100
    },
    {
     "cell_type": "markdown",
     "metadata": {},
     "source": [
      "### Panel is a collection of labelled tables"
     ]
    },
    {
     "cell_type": "code",
     "collapsed": false,
     "input": [
      "bid_ask_panel = Panel(dict(\n",
      "    prices=bid_ask_prices,\n",
      "    volume=bid_ask_volume))\n",
      "\n",
      "bid_ask_panel['volume'] "
     ],
     "language": "python",
     "metadata": {},
     "outputs": [
      {
       "html": [
        "<pre>\n",
        "&ltclass 'pandas.core.frame.DataFrame'&gt\n",
        "Int64Index: 58460 entries, 0 to 58459\n",
        "Data columns (total 2 columns):\n",
        "ask    58460  non-null values\n",
        "bid    58460  non-null values\n",
        "dtypes: float64(2)\n",
        "</pre>"
       ],
       "output_type": "pyout",
       "prompt_number": 101,
       "text": [
        "<class 'pandas.core.frame.DataFrame'>\n",
        "Int64Index: 58460 entries, 0 to 58459\n",
        "Data columns (total 2 columns):\n",
        "ask    58460  non-null values\n",
        "bid    58460  non-null values\n",
        "dtypes: float64(2)"
       ]
      }
     ],
     "prompt_number": 101
    },
    {
     "cell_type": "markdown",
     "metadata": {},
     "source": [
      "Becareful of using `len()` to find the number of rows in a `DataFrame` inside a `Panel`.  \n",
      "\n",
      "`Panel` will pad non-matching rows and columns across `DataFrames` with `NaN` and `len()` will include padded rows.  Instead, use `DataFrame.count()`."
     ]
    },
    {
     "cell_type": "markdown",
     "metadata": {},
     "source": [
      "### Reindexing"
     ]
    },
    {
     "cell_type": "code",
     "collapsed": false,
     "input": [
      "df = DataFrame(np.array(xrange(1,10)).reshape(3,3), index='x y z'.split(), columns='a b c'.split())\n",
      "print df.cumsum()"
     ],
     "language": "python",
     "metadata": {},
     "outputs": [
      {
       "output_type": "stream",
       "stream": "stdout",
       "text": [
        "    a   b   c\n",
        "x   1   2   3\n",
        "y   5   7   9\n",
        "z  12  15  18\n"
       ]
      }
     ],
     "prompt_number": 84
    },
    {
     "cell_type": "code",
     "collapsed": false,
     "input": [
      "df1 = df.reindex(index=list('zyx'), columns=list('cab'))\n",
      "df1"
     ],
     "language": "python",
     "metadata": {},
     "outputs": [
      {
       "html": [
        "<div style=\"max-height:1000px;max-width:1500px;overflow:auto;\">\n",
        "<table border=\"1\" class=\"dataframe\">\n",
        "  <thead>\n",
        "    <tr style=\"text-align: right;\">\n",
        "      <th></th>\n",
        "      <th>c</th>\n",
        "      <th>a</th>\n",
        "      <th>b</th>\n",
        "    </tr>\n",
        "  </thead>\n",
        "  <tbody>\n",
        "    <tr>\n",
        "      <th>z</th>\n",
        "      <td> 9</td>\n",
        "      <td> 7</td>\n",
        "      <td> 8</td>\n",
        "    </tr>\n",
        "    <tr>\n",
        "      <th>y</th>\n",
        "      <td> 6</td>\n",
        "      <td> 4</td>\n",
        "      <td> 5</td>\n",
        "    </tr>\n",
        "    <tr>\n",
        "      <th>x</th>\n",
        "      <td> 3</td>\n",
        "      <td> 1</td>\n",
        "      <td> 2</td>\n",
        "    </tr>\n",
        "  </tbody>\n",
        "</table>\n",
        "</div>"
       ],
       "output_type": "pyout",
       "prompt_number": 86,
       "text": [
        "   c  a  b\n",
        "z  9  7  8\n",
        "y  6  4  5\n",
        "x  3  1  2"
       ]
      }
     ],
     "prompt_number": 86
    },
    {
     "cell_type": "code",
     "collapsed": false,
     "input": [
      "df2 = DataFrame(np.array(range(1, 10)).reshape(3,3), index=list('zyx'), columns=list('cba'))\n",
      "df2"
     ],
     "language": "python",
     "metadata": {},
     "outputs": [
      {
       "html": [
        "<div style=\"max-height:1000px;max-width:1500px;overflow:auto;\">\n",
        "<table border=\"1\" class=\"dataframe\">\n",
        "  <thead>\n",
        "    <tr style=\"text-align: right;\">\n",
        "      <th></th>\n",
        "      <th>c</th>\n",
        "      <th>b</th>\n",
        "      <th>a</th>\n",
        "    </tr>\n",
        "  </thead>\n",
        "  <tbody>\n",
        "    <tr>\n",
        "      <th>z</th>\n",
        "      <td> 1</td>\n",
        "      <td> 2</td>\n",
        "      <td> 3</td>\n",
        "    </tr>\n",
        "    <tr>\n",
        "      <th>y</th>\n",
        "      <td> 4</td>\n",
        "      <td> 5</td>\n",
        "      <td> 6</td>\n",
        "    </tr>\n",
        "    <tr>\n",
        "      <th>x</th>\n",
        "      <td> 7</td>\n",
        "      <td> 8</td>\n",
        "      <td> 9</td>\n",
        "    </tr>\n",
        "  </tbody>\n",
        "</table>\n",
        "</div>"
       ],
       "output_type": "pyout",
       "prompt_number": 87,
       "text": [
        "   c  b  a\n",
        "z  1  2  3\n",
        "y  4  5  6\n",
        "x  7  8  9"
       ]
      }
     ],
     "prompt_number": 87
    },
    {
     "cell_type": "code",
     "collapsed": false,
     "input": [
      "df2.reindex_like(df1)"
     ],
     "language": "python",
     "metadata": {},
     "outputs": [
      {
       "html": [
        "<div style=\"max-height:1000px;max-width:1500px;overflow:auto;\">\n",
        "<table border=\"1\" class=\"dataframe\">\n",
        "  <thead>\n",
        "    <tr style=\"text-align: right;\">\n",
        "      <th></th>\n",
        "      <th>c</th>\n",
        "      <th>a</th>\n",
        "      <th>b</th>\n",
        "    </tr>\n",
        "  </thead>\n",
        "  <tbody>\n",
        "    <tr>\n",
        "      <th>z</th>\n",
        "      <td> 1</td>\n",
        "      <td> 3</td>\n",
        "      <td> 2</td>\n",
        "    </tr>\n",
        "    <tr>\n",
        "      <th>y</th>\n",
        "      <td> 4</td>\n",
        "      <td> 6</td>\n",
        "      <td> 5</td>\n",
        "    </tr>\n",
        "    <tr>\n",
        "      <th>x</th>\n",
        "      <td> 7</td>\n",
        "      <td> 9</td>\n",
        "      <td> 8</td>\n",
        "    </tr>\n",
        "  </tbody>\n",
        "</table>\n",
        "</div>"
       ],
       "output_type": "pyout",
       "prompt_number": 88,
       "text": [
        "   c  a  b\n",
        "z  1  3  2\n",
        "y  4  6  5\n",
        "x  7  9  8"
       ]
      }
     ],
     "prompt_number": 88
    },
    {
     "cell_type": "markdown",
     "metadata": {},
     "source": [
      "### Aggregation"
     ]
    },
    {
     "cell_type": "code",
     "collapsed": false,
     "input": [
      "df = DataFrame(dict(\n",
      "    Position=['Point Guard', 'Forward', 'Shooting Guard', 'Center'],\n",
      "    YrsOfExperience=[8, 9, 10, 7], \n",
      "    score=[18, 13, 20, 15]))\n",
      "df"
     ],
     "language": "python",
     "metadata": {},
     "outputs": [
      {
       "html": [
        "<div style=\"max-height:1000px;max-width:1500px;overflow:auto;\">\n",
        "<table border=\"1\" class=\"dataframe\">\n",
        "  <thead>\n",
        "    <tr style=\"text-align: right;\">\n",
        "      <th></th>\n",
        "      <th>Position</th>\n",
        "      <th>YrsOfExperience</th>\n",
        "      <th>score</th>\n",
        "    </tr>\n",
        "  </thead>\n",
        "  <tbody>\n",
        "    <tr>\n",
        "      <th>0</th>\n",
        "      <td>    Point Guard</td>\n",
        "      <td>  8</td>\n",
        "      <td> 18</td>\n",
        "    </tr>\n",
        "    <tr>\n",
        "      <th>1</th>\n",
        "      <td>        Forward</td>\n",
        "      <td>  9</td>\n",
        "      <td> 13</td>\n",
        "    </tr>\n",
        "    <tr>\n",
        "      <th>2</th>\n",
        "      <td> Shooting Guard</td>\n",
        "      <td> 10</td>\n",
        "      <td> 20</td>\n",
        "    </tr>\n",
        "    <tr>\n",
        "      <th>3</th>\n",
        "      <td>         Center</td>\n",
        "      <td>  7</td>\n",
        "      <td> 15</td>\n",
        "    </tr>\n",
        "  </tbody>\n",
        "</table>\n",
        "</div>"
       ],
       "output_type": "pyout",
       "prompt_number": 90,
       "text": [
        "         Position  YrsOfExperience  score\n",
        "0     Point Guard                8     18\n",
        "1         Forward                9     13\n",
        "2  Shooting Guard               10     20\n",
        "3          Center                7     15"
       ]
      }
     ],
     "prompt_number": 90
    },
    {
     "cell_type": "code",
     "collapsed": false,
     "input": [
      "df.groupby('Position').mean()"
     ],
     "language": "python",
     "metadata": {},
     "outputs": [
      {
       "html": [
        "<div style=\"max-height:1000px;max-width:1500px;overflow:auto;\">\n",
        "<table border=\"1\" class=\"dataframe\">\n",
        "  <thead>\n",
        "    <tr style=\"text-align: right;\">\n",
        "      <th></th>\n",
        "      <th>YrsOfExperience</th>\n",
        "      <th>score</th>\n",
        "    </tr>\n",
        "    <tr>\n",
        "      <th>Position</th>\n",
        "      <th></th>\n",
        "      <th></th>\n",
        "    </tr>\n",
        "  </thead>\n",
        "  <tbody>\n",
        "    <tr>\n",
        "      <th>Center</th>\n",
        "      <td>  7</td>\n",
        "      <td> 15</td>\n",
        "    </tr>\n",
        "    <tr>\n",
        "      <th>Forward</th>\n",
        "      <td>  9</td>\n",
        "      <td> 13</td>\n",
        "    </tr>\n",
        "    <tr>\n",
        "      <th>Point Guard</th>\n",
        "      <td>  8</td>\n",
        "      <td> 18</td>\n",
        "    </tr>\n",
        "    <tr>\n",
        "      <th>Shooting Guard</th>\n",
        "      <td> 10</td>\n",
        "      <td> 20</td>\n",
        "    </tr>\n",
        "  </tbody>\n",
        "</table>\n",
        "</div>"
       ],
       "output_type": "pyout",
       "prompt_number": 91,
       "text": [
        "                YrsOfExperience  score\n",
        "Position                              \n",
        "Center                        7     15\n",
        "Forward                       9     13\n",
        "Point Guard                   8     18\n",
        "Shooting Guard               10     20"
       ]
      }
     ],
     "prompt_number": 91
    },
    {
     "cell_type": "code",
     "collapsed": false,
     "input": [
      "df.groupby('YrsOfExperience').mean()"
     ],
     "language": "python",
     "metadata": {},
     "outputs": [
      {
       "html": [
        "<div style=\"max-height:1000px;max-width:1500px;overflow:auto;\">\n",
        "<table border=\"1\" class=\"dataframe\">\n",
        "  <thead>\n",
        "    <tr style=\"text-align: right;\">\n",
        "      <th></th>\n",
        "      <th>score</th>\n",
        "    </tr>\n",
        "    <tr>\n",
        "      <th>YrsOfExperience</th>\n",
        "      <th></th>\n",
        "    </tr>\n",
        "  </thead>\n",
        "  <tbody>\n",
        "    <tr>\n",
        "      <th>7 </th>\n",
        "      <td> 15</td>\n",
        "    </tr>\n",
        "    <tr>\n",
        "      <th>8 </th>\n",
        "      <td> 18</td>\n",
        "    </tr>\n",
        "    <tr>\n",
        "      <th>9 </th>\n",
        "      <td> 13</td>\n",
        "    </tr>\n",
        "    <tr>\n",
        "      <th>10</th>\n",
        "      <td> 20</td>\n",
        "    </tr>\n",
        "  </tbody>\n",
        "</table>\n",
        "</div>"
       ],
       "output_type": "pyout",
       "prompt_number": 92,
       "text": [
        "                 score\n",
        "YrsOfExperience       \n",
        "7                   15\n",
        "8                   18\n",
        "9                   13\n",
        "10                  20"
       ]
      }
     ],
     "prompt_number": 92
    },
    {
     "cell_type": "code",
     "collapsed": false,
     "input": [
      "print df.groupby('YrsOfExperience').aggregate([np.sum, np.mean, np.max, np.min])"
     ],
     "language": "python",
     "metadata": {},
     "outputs": [
      {
       "output_type": "stream",
       "stream": "stdout",
       "text": [
        "                 score                  \n",
        "                   sum  mean  amax  amin\n",
        "YrsOfExperience                         \n",
        "7                   15    15    15    15\n",
        "8                   18    18    18    18\n",
        "9                   13    13    13    13\n",
        "10                  20    20    20    20\n"
       ]
      }
     ],
     "prompt_number": 98
    },
    {
     "cell_type": "code",
     "collapsed": false,
     "input": [
      "df.groupby('Position').describe()"
     ],
     "language": "python",
     "metadata": {},
     "outputs": [
      {
       "html": [
        "<div style=\"max-height:1000px;max-width:1500px;overflow:auto;\">\n",
        "<table border=\"1\" class=\"dataframe\">\n",
        "  <thead>\n",
        "    <tr style=\"text-align: right;\">\n",
        "      <th></th>\n",
        "      <th></th>\n",
        "      <th>YrsOfExperience</th>\n",
        "      <th>score</th>\n",
        "    </tr>\n",
        "    <tr>\n",
        "      <th>Position</th>\n",
        "      <th></th>\n",
        "      <th></th>\n",
        "      <th></th>\n",
        "    </tr>\n",
        "  </thead>\n",
        "  <tbody>\n",
        "    <tr>\n",
        "      <th rowspan=\"8\" valign=\"top\">Center</th>\n",
        "      <th>count</th>\n",
        "      <td>  1</td>\n",
        "      <td>  1</td>\n",
        "    </tr>\n",
        "    <tr>\n",
        "      <th>mean</th>\n",
        "      <td>  7</td>\n",
        "      <td> 15</td>\n",
        "    </tr>\n",
        "    <tr>\n",
        "      <th>std</th>\n",
        "      <td>NaN</td>\n",
        "      <td>NaN</td>\n",
        "    </tr>\n",
        "    <tr>\n",
        "      <th>min</th>\n",
        "      <td>  7</td>\n",
        "      <td> 15</td>\n",
        "    </tr>\n",
        "    <tr>\n",
        "      <th>25%</th>\n",
        "      <td>  7</td>\n",
        "      <td> 15</td>\n",
        "    </tr>\n",
        "    <tr>\n",
        "      <th>50%</th>\n",
        "      <td>  7</td>\n",
        "      <td> 15</td>\n",
        "    </tr>\n",
        "    <tr>\n",
        "      <th>75%</th>\n",
        "      <td>  7</td>\n",
        "      <td> 15</td>\n",
        "    </tr>\n",
        "    <tr>\n",
        "      <th>max</th>\n",
        "      <td>  7</td>\n",
        "      <td> 15</td>\n",
        "    </tr>\n",
        "    <tr>\n",
        "      <th rowspan=\"8\" valign=\"top\">Forward</th>\n",
        "      <th>count</th>\n",
        "      <td>  1</td>\n",
        "      <td>  1</td>\n",
        "    </tr>\n",
        "    <tr>\n",
        "      <th>mean</th>\n",
        "      <td>  9</td>\n",
        "      <td> 13</td>\n",
        "    </tr>\n",
        "    <tr>\n",
        "      <th>std</th>\n",
        "      <td>NaN</td>\n",
        "      <td>NaN</td>\n",
        "    </tr>\n",
        "    <tr>\n",
        "      <th>min</th>\n",
        "      <td>  9</td>\n",
        "      <td> 13</td>\n",
        "    </tr>\n",
        "    <tr>\n",
        "      <th>25%</th>\n",
        "      <td>  9</td>\n",
        "      <td> 13</td>\n",
        "    </tr>\n",
        "    <tr>\n",
        "      <th>50%</th>\n",
        "      <td>  9</td>\n",
        "      <td> 13</td>\n",
        "    </tr>\n",
        "    <tr>\n",
        "      <th>75%</th>\n",
        "      <td>  9</td>\n",
        "      <td> 13</td>\n",
        "    </tr>\n",
        "    <tr>\n",
        "      <th>max</th>\n",
        "      <td>  9</td>\n",
        "      <td> 13</td>\n",
        "    </tr>\n",
        "    <tr>\n",
        "      <th rowspan=\"8\" valign=\"top\">Point Guard</th>\n",
        "      <th>count</th>\n",
        "      <td>  1</td>\n",
        "      <td>  1</td>\n",
        "    </tr>\n",
        "    <tr>\n",
        "      <th>mean</th>\n",
        "      <td>  8</td>\n",
        "      <td> 18</td>\n",
        "    </tr>\n",
        "    <tr>\n",
        "      <th>std</th>\n",
        "      <td>NaN</td>\n",
        "      <td>NaN</td>\n",
        "    </tr>\n",
        "    <tr>\n",
        "      <th>min</th>\n",
        "      <td>  8</td>\n",
        "      <td> 18</td>\n",
        "    </tr>\n",
        "    <tr>\n",
        "      <th>25%</th>\n",
        "      <td>  8</td>\n",
        "      <td> 18</td>\n",
        "    </tr>\n",
        "    <tr>\n",
        "      <th>50%</th>\n",
        "      <td>  8</td>\n",
        "      <td> 18</td>\n",
        "    </tr>\n",
        "    <tr>\n",
        "      <th>75%</th>\n",
        "      <td>  8</td>\n",
        "      <td> 18</td>\n",
        "    </tr>\n",
        "    <tr>\n",
        "      <th>max</th>\n",
        "      <td>  8</td>\n",
        "      <td> 18</td>\n",
        "    </tr>\n",
        "    <tr>\n",
        "      <th rowspan=\"8\" valign=\"top\">Shooting Guard</th>\n",
        "      <th>count</th>\n",
        "      <td>  1</td>\n",
        "      <td>  1</td>\n",
        "    </tr>\n",
        "    <tr>\n",
        "      <th>mean</th>\n",
        "      <td> 10</td>\n",
        "      <td> 20</td>\n",
        "    </tr>\n",
        "    <tr>\n",
        "      <th>std</th>\n",
        "      <td>NaN</td>\n",
        "      <td>NaN</td>\n",
        "    </tr>\n",
        "    <tr>\n",
        "      <th>min</th>\n",
        "      <td> 10</td>\n",
        "      <td> 20</td>\n",
        "    </tr>\n",
        "    <tr>\n",
        "      <th>25%</th>\n",
        "      <td> 10</td>\n",
        "      <td> 20</td>\n",
        "    </tr>\n",
        "    <tr>\n",
        "      <th>50%</th>\n",
        "      <td> 10</td>\n",
        "      <td> 20</td>\n",
        "    </tr>\n",
        "    <tr>\n",
        "      <th>75%</th>\n",
        "      <td> 10</td>\n",
        "      <td> 20</td>\n",
        "    </tr>\n",
        "    <tr>\n",
        "      <th>max</th>\n",
        "      <td> 10</td>\n",
        "      <td> 20</td>\n",
        "    </tr>\n",
        "  </tbody>\n",
        "</table>\n",
        "</div>"
       ],
       "output_type": "pyout",
       "prompt_number": 99,
       "text": [
        "                      YrsOfExperience  score\n",
        "Position                                    \n",
        "Center         count                1      1\n",
        "               mean                 7     15\n",
        "               std                NaN    NaN\n",
        "               min                  7     15\n",
        "               25%                  7     15\n",
        "               50%                  7     15\n",
        "               75%                  7     15\n",
        "               max                  7     15\n",
        "Forward        count                1      1\n",
        "               mean                 9     13\n",
        "               std                NaN    NaN\n",
        "               min                  9     13\n",
        "               25%                  9     13\n",
        "               50%                  9     13\n",
        "               75%                  9     13\n",
        "               max                  9     13\n",
        "Point Guard    count                1      1\n",
        "               mean                 8     18\n",
        "               std                NaN    NaN\n",
        "               min                  8     18\n",
        "               25%                  8     18\n",
        "               50%                  8     18\n",
        "               75%                  8     18\n",
        "               max                  8     18\n",
        "Shooting Guard count                1      1\n",
        "               mean                10     20\n",
        "               std                NaN    NaN\n",
        "               min                 10     20\n",
        "               25%                 10     20\n",
        "               50%                 10     20\n",
        "               75%                 10     20\n",
        "               max                 10     20"
       ]
      }
     ],
     "prompt_number": 99
    }
   ],
   "metadata": {}
  }
 ]
}