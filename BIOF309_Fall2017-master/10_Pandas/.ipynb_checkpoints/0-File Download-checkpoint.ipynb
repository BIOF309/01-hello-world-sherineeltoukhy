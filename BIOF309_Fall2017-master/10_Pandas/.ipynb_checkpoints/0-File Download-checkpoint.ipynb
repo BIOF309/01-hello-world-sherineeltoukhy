{
 "cells": [
  {
   "cell_type": "markdown",
   "metadata": {
    "button": false,
    "deletable": true,
    "new_sheet": false,
    "run_control": {
     "read_only": false
    }
   },
   "source": [
    "# 1. Please download files for class from: http://bit.ly/nih-python\n",
    "\n",
    "# 2. Please download \"Intro to Data Analysis.zip\"\n",
    "\n",
    "# 3. Please unzip the archive file (double click to unzip on a Mac)\n",
    "\n",
    "# 4. Start the Jupyter Notebook\n",
    "\n",
    "# 4.1 Open Anaconda Navigator (green circle logo) on desktop and launch Jupyter Notebook OR\n",
    "\n",
    "# 4.2 Type \"~/anaconda/bin/jupyter notebook\" in the terminal\n",
    "\n",
    "\n",
    "# 5. In the Jupyter Dashboard, navigate to where ever you saved the unzipped folder\n",
    "\n",
    "# 6. Open \"Intro to Data Analysis with Python.ipynb\""
   ]
  },
  {
   "cell_type": "code",
   "execution_count": null,
   "metadata": {
    "button": false,
    "collapsed": true,
    "deletable": true,
    "new_sheet": false,
    "run_control": {
     "read_only": false
    }
   },
   "outputs": [],
   "source": []
  }
 ],
 "metadata": {
  "anaconda-cloud": {},
  "kernelspec": {
   "display_name": "Python 3",
   "language": "python",
   "name": "python3"
  },
  "language_info": {
   "codemirror_mode": {
    "name": "ipython",
    "version": 3
   },
   "file_extension": ".py",
   "mimetype": "text/x-python",
   "name": "python",
   "nbconvert_exporter": "python",
   "pygments_lexer": "ipython3",
   "version": "3.5.0"
  }
 },
 "nbformat": 4,
 "nbformat_minor": 0
}
