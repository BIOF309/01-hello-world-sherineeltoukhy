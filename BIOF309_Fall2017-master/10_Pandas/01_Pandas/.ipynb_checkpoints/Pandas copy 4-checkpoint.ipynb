{
 "cells": [
  {
   "cell_type": "markdown",
   "metadata": {
    "button": false,
    "deletable": true,
    "new_sheet": false,
    "run_control": {
     "read_only": false
    }
   },
   "source": [
    "#Pandas\n",
    "\n",
    "* Indexing\n",
    "* Renaming\n",
    "* Missing Values\n",
    "* Groupby\n",
    "* Statistic\n",
    "* Merge Join\n",
    "* Plotting\n",
    "* NumPy Array extraction"
   ]
  },
  {
   "cell_type": "code",
   "execution_count": 1,
   "metadata": {
    "button": false,
    "collapsed": false,
    "deletable": true,
    "new_sheet": false,
    "run_control": {
     "read_only": false
    }
   },
   "outputs": [],
   "source": [
    "import pandas as pd\n",
    "import numpy as np"
   ]
  },
  {
   "cell_type": "markdown",
   "metadata": {
    "button": false,
    "deletable": true,
    "new_sheet": false,
    "run_control": {
     "read_only": false
    }
   },
   "source": [
    "#Series"
   ]
  },
  {
   "cell_type": "code",
   "execution_count": 2,
   "metadata": {
    "button": false,
    "collapsed": false,
    "deletable": true,
    "new_sheet": false,
    "run_control": {
     "read_only": false
    }
   },
   "outputs": [],
   "source": [
    "index = ['a','b','c','d','e']"
   ]
  },
  {
   "cell_type": "code",
   "execution_count": 3,
   "metadata": {
    "button": false,
    "collapsed": false,
    "deletable": true,
    "new_sheet": false,
    "run_control": {
     "read_only": false
    }
   },
   "outputs": [
    {
     "data": {
      "text/plain": [
       "a    0\n",
       "b    1\n",
       "c    2\n",
       "d    3\n",
       "e    4"
      ]
     },
     "execution_count": 3,
     "metadata": {},
     "output_type": "execute_result"
    }
   ],
   "source": [
    "pd.Series(np.arange(5), index=index)"
   ]
  },
  {
   "cell_type": "code",
   "execution_count": 4,
   "metadata": {
    "button": false,
    "collapsed": false,
    "deletable": true,
    "new_sheet": false,
    "run_control": {
     "read_only": false
    }
   },
   "outputs": [],
   "source": [
    "series = pd.Series(np.arange(5), index=index)"
   ]
  },
  {
   "cell_type": "code",
   "execution_count": 5,
   "metadata": {
    "button": false,
    "collapsed": false,
    "deletable": true,
    "new_sheet": false,
    "run_control": {
     "read_only": false
    }
   },
   "outputs": [
    {
     "data": {
      "text/plain": [
       "(0, 1)"
      ]
     },
     "execution_count": 5,
     "metadata": {},
     "output_type": "execute_result"
    }
   ],
   "source": [
    "series['a'], series['b']"
   ]
  },
  {
   "cell_type": "code",
   "execution_count": 6,
   "metadata": {
    "button": false,
    "collapsed": false,
    "deletable": true,
    "new_sheet": false,
    "run_control": {
     "read_only": false
    }
   },
   "outputs": [
    {
     "data": {
      "text/plain": [
       "a    0\n",
       "b    1"
      ]
     },
     "execution_count": 6,
     "metadata": {},
     "output_type": "execute_result"
    }
   ],
   "source": [
    "series[:2]"
   ]
  },
  {
   "cell_type": "markdown",
   "metadata": {
    "button": false,
    "deletable": true,
    "new_sheet": false,
    "run_control": {
     "read_only": false
    }
   },
   "source": [
    "Dictionary like numpy array"
   ]
  },
  {
   "cell_type": "markdown",
   "metadata": {
    "button": false,
    "deletable": true,
    "new_sheet": false,
    "run_control": {
     "read_only": false
    }
   },
   "source": [
    "#DataFrame\n",
    "\n",
    "* Dataframe is dict like, you can index column names or lists of column names\n",
    "* df.ix gives you numpy like indexing semantics.\n",
    "* avoid integer column names\n",
    "* The first dimension is the index.  Subsequent dimensions are the columns"
   ]
  },
  {
   "cell_type": "code",
   "execution_count": 25,
   "metadata": {
    "button": false,
    "collapsed": false,
    "deletable": true,
    "new_sheet": false,
    "run_control": {
     "read_only": false
    }
   },
   "outputs": [
    {
     "name": "stdout",
     "output_type": "stream",
     "text": [
      "          a  number 2\n",
      "0  0.368084  0.421787\n",
      "1  0.229685  0.473038\n",
      "2  0.084496  0.423581\n",
      "3  0.471824  0.106331\n",
      "4  0.213787  0.870784\n"
     ]
    }
   ],
   "source": [
    "df = pd.DataFrame({'a' : np.random.random(5), 'number 2' : np.random.random(5)})\n",
    "print df"
   ]
  },
  {
   "cell_type": "code",
   "execution_count": 28,
   "metadata": {
    "button": false,
    "collapsed": false,
    "deletable": true,
    "new_sheet": false,
    "run_control": {
     "read_only": false
    }
   },
   "outputs": [
    {
     "data": {
      "text/plain": [
       "0    0.368084\n",
       "1    0.229685\n",
       "2    0.084496\n",
       "3    0.471824\n",
       "4    0.213787\n",
       "Name: a"
      ]
     },
     "execution_count": 28,
     "metadata": {},
     "output_type": "execute_result"
    }
   ],
   "source": [
    "df['a']"
   ]
  },
  {
   "cell_type": "code",
   "execution_count": 31,
   "metadata": {
    "button": false,
    "collapsed": false,
    "deletable": true,
    "new_sheet": false,
    "run_control": {
     "read_only": false
    }
   },
   "outputs": [
    {
     "data": {
      "text/html": [
       "<div style=\"max-height:1000px;max-width:1500px;overflow:auto;\">\n",
       "<table border=\"1\" class=\"dataframe\">\n",
       "  <thead>\n",
       "    <tr style=\"text-align: right;\">\n",
       "      <th></th>\n",
       "      <th>a</th>\n",
       "      <th>number 2</th>\n",
       "    </tr>\n",
       "  </thead>\n",
       "  <tbody>\n",
       "    <tr>\n",
       "      <th>0</th>\n",
       "      <td> 0.368084</td>\n",
       "      <td> 0.421787</td>\n",
       "    </tr>\n",
       "    <tr>\n",
       "      <th>1</th>\n",
       "      <td> 0.229685</td>\n",
       "      <td> 0.473038</td>\n",
       "    </tr>\n",
       "    <tr>\n",
       "      <th>2</th>\n",
       "      <td> 0.084496</td>\n",
       "      <td> 0.423581</td>\n",
       "    </tr>\n",
       "    <tr>\n",
       "      <th>3</th>\n",
       "      <td> 0.471824</td>\n",
       "      <td> 0.106331</td>\n",
       "    </tr>\n",
       "  </tbody>\n",
       "</table>\n",
       "</div>"
      ],
      "text/plain": [
       "          a  number 2\n",
       "0  0.368084  0.421787\n",
       "1  0.229685  0.473038\n",
       "2  0.084496  0.423581\n",
       "3  0.471824  0.106331"
      ]
     },
     "execution_count": 31,
     "metadata": {},
     "output_type": "execute_result"
    }
   ],
   "source": [
    "df.ix[:3]"
   ]
  },
  {
   "cell_type": "code",
   "execution_count": 40,
   "metadata": {
    "button": false,
    "collapsed": false,
    "deletable": true,
    "new_sheet": false,
    "run_control": {
     "read_only": false
    }
   },
   "outputs": [
    {
     "data": {
      "text/html": [
       "<div style=\"max-height:1000px;max-width:1500px;overflow:auto;\">\n",
       "<table border=\"1\" class=\"dataframe\">\n",
       "  <thead>\n",
       "    <tr style=\"text-align: right;\">\n",
       "      <th></th>\n",
       "      <th>a</th>\n",
       "      <th>b</th>\n",
       "      <th>c</th>\n",
       "    </tr>\n",
       "  </thead>\n",
       "  <tbody>\n",
       "    <tr>\n",
       "      <th>one</th>\n",
       "      <td> 0.839328</td>\n",
       "      <td> 0.884319</td>\n",
       "      <td> 0.146035</td>\n",
       "    </tr>\n",
       "    <tr>\n",
       "      <th>two</th>\n",
       "      <td> 0.985391</td>\n",
       "      <td> 0.596175</td>\n",
       "      <td> 0.093844</td>\n",
       "    </tr>\n",
       "    <tr>\n",
       "      <th>three</th>\n",
       "      <td> 0.034033</td>\n",
       "      <td> 0.807279</td>\n",
       "      <td> 0.377040</td>\n",
       "    </tr>\n",
       "    <tr>\n",
       "      <th>four</th>\n",
       "      <td> 0.189969</td>\n",
       "      <td> 0.692195</td>\n",
       "      <td> 0.113060</td>\n",
       "    </tr>\n",
       "    <tr>\n",
       "      <th>five</th>\n",
       "      <td> 0.089404</td>\n",
       "      <td> 0.376146</td>\n",
       "      <td> 0.339184</td>\n",
       "    </tr>\n",
       "  </tbody>\n",
       "</table>\n",
       "</div>"
      ],
      "text/plain": [
       "              a         b         c\n",
       "one    0.839328  0.884319  0.146035\n",
       "two    0.985391  0.596175  0.093844\n",
       "three  0.034033  0.807279  0.377040\n",
       "four   0.189969  0.692195  0.113060\n",
       "five   0.089404  0.376146  0.339184"
      ]
     },
     "execution_count": 40,
     "metadata": {},
     "output_type": "execute_result"
    }
   ],
   "source": [
    "df = pd.DataFrame({'a' : np.random.random(5), 'b':np.random.random(5), 'c' : np.random.random(5)}, index=['one', 'two', 'three', 'four', 'five'])\n",
    "df"
   ]
  },
  {
   "cell_type": "code",
   "execution_count": 42,
   "metadata": {
    "button": false,
    "collapsed": false,
    "deletable": true,
    "new_sheet": false,
    "run_control": {
     "read_only": false
    }
   },
   "outputs": [
    {
     "data": {
      "text/html": [
       "<div style=\"max-height:1000px;max-width:1500px;overflow:auto;\">\n",
       "<table border=\"1\" class=\"dataframe\">\n",
       "  <thead>\n",
       "    <tr style=\"text-align: right;\">\n",
       "      <th></th>\n",
       "      <th>a</th>\n",
       "      <th>b</th>\n",
       "      <th>c</th>\n",
       "    </tr>\n",
       "  </thead>\n",
       "  <tbody>\n",
       "    <tr>\n",
       "      <th>two</th>\n",
       "      <td> 0.985391</td>\n",
       "      <td> 0.596175</td>\n",
       "      <td> 0.093844</td>\n",
       "    </tr>\n",
       "    <tr>\n",
       "      <th>three</th>\n",
       "      <td> 0.034033</td>\n",
       "      <td> 0.807279</td>\n",
       "      <td> 0.377040</td>\n",
       "    </tr>\n",
       "    <tr>\n",
       "      <th>four</th>\n",
       "      <td> 0.189969</td>\n",
       "      <td> 0.692195</td>\n",
       "      <td> 0.113060</td>\n",
       "    </tr>\n",
       "    <tr>\n",
       "      <th>five</th>\n",
       "      <td> 0.089404</td>\n",
       "      <td> 0.376146</td>\n",
       "      <td> 0.339184</td>\n",
       "    </tr>\n",
       "  </tbody>\n",
       "</table>\n",
       "</div>"
      ],
      "text/plain": [
       "              a         b         c\n",
       "two    0.985391  0.596175  0.093844\n",
       "three  0.034033  0.807279  0.377040\n",
       "four   0.189969  0.692195  0.113060\n",
       "five   0.089404  0.376146  0.339184"
      ]
     },
     "execution_count": 42,
     "metadata": {},
     "output_type": "execute_result"
    }
   ],
   "source": [
    "df.ix['two':'five']"
   ]
  },
  {
   "cell_type": "markdown",
   "metadata": {
    "button": false,
    "deletable": true,
    "new_sheet": false,
    "run_control": {
     "read_only": false
    }
   },
   "source": [
    "#Indexing by Datetime"
   ]
  },
  {
   "cell_type": "code",
   "execution_count": 33,
   "metadata": {
    "button": false,
    "collapsed": false,
    "deletable": true,
    "new_sheet": false,
    "run_control": {
     "read_only": false
    }
   },
   "outputs": [
    {
     "name": "stdout",
     "output_type": "stream",
     "text": [
      "<class 'pandas.tseries.index.DatetimeIndex'>\n",
      "[2013-03-14 00:00:00, ..., 2013-03-14 00:49:00]\n",
      "Length: 50, Freq: T, Timezone: None\n"
     ]
    }
   ],
   "source": [
    "rng = pd.date_range('3/14/2013', periods=50, freq='T')\n",
    "print rng"
   ]
  },
  {
   "cell_type": "code",
   "execution_count": 38,
   "metadata": {
    "button": false,
    "collapsed": false,
    "deletable": true,
    "new_sheet": false,
    "run_control": {
     "read_only": false
    }
   },
   "outputs": [
    {
     "data": {
      "text/html": [
       "<div style=\"max-height:1000px;max-width:1500px;overflow:auto;\">\n",
       "<table border=\"1\" class=\"dataframe\">\n",
       "  <thead>\n",
       "    <tr style=\"text-align: right;\">\n",
       "      <th></th>\n",
       "      <th>pt_1</th>\n",
       "      <th>pt_2</th>\n",
       "    </tr>\n",
       "  </thead>\n",
       "  <tbody>\n",
       "    <tr>\n",
       "      <th>2013-03-14 00:00:00</th>\n",
       "      <td> 0.139022</td>\n",
       "      <td>-0.902456</td>\n",
       "    </tr>\n",
       "    <tr>\n",
       "      <th>2013-03-14 00:01:00</th>\n",
       "      <td>-0.910978</td>\n",
       "      <td> 1.826735</td>\n",
       "    </tr>\n",
       "    <tr>\n",
       "      <th>2013-03-14 00:02:00</th>\n",
       "      <td>-0.221121</td>\n",
       "      <td>-0.681686</td>\n",
       "    </tr>\n",
       "    <tr>\n",
       "      <th>2013-03-14 00:03:00</th>\n",
       "      <td>-0.488326</td>\n",
       "      <td> 0.865892</td>\n",
       "    </tr>\n",
       "    <tr>\n",
       "      <th>2013-03-14 00:04:00</th>\n",
       "      <td>-1.123205</td>\n",
       "      <td>-0.539297</td>\n",
       "    </tr>\n",
       "  </tbody>\n",
       "</table>\n",
       "</div>"
      ],
      "text/plain": [
       "                         pt_1      pt_2\n",
       "2013-03-14 00:00:00  0.139022 -0.902456\n",
       "2013-03-14 00:01:00 -0.910978  1.826735\n",
       "2013-03-14 00:02:00 -0.221121 -0.681686\n",
       "2013-03-14 00:03:00 -0.488326  0.865892\n",
       "2013-03-14 00:04:00 -1.123205 -0.539297"
      ]
     },
     "execution_count": 38,
     "metadata": {},
     "output_type": "execute_result"
    }
   ],
   "source": [
    "d = {'pt_1':pd.Series(randn(len(rng)), index=rng), 'pt_2':pd.Series(randn(len(rng)), index=rng)}\n",
    "df = pd.DataFrame(d)\n",
    "df.head(5)"
   ]
  },
  {
   "cell_type": "code",
   "execution_count": 35,
   "metadata": {
    "button": false,
    "collapsed": false,
    "deletable": true,
    "new_sheet": false,
    "run_control": {
     "read_only": false
    }
   },
   "outputs": [
    {
     "data": {
      "text/html": [
       "<div style=\"max-height:1000px;max-width:1500px;overflow:auto;\">\n",
       "<table border=\"1\" class=\"dataframe\">\n",
       "  <thead>\n",
       "    <tr style=\"text-align: right;\">\n",
       "      <th></th>\n",
       "      <th>pt_1</th>\n",
       "      <th>pt_2</th>\n",
       "    </tr>\n",
       "  </thead>\n",
       "  <tbody>\n",
       "    <tr>\n",
       "      <th>2013-03-14 00:00:00</th>\n",
       "      <td>-0.709028</td>\n",
       "      <td> 1.968836</td>\n",
       "    </tr>\n",
       "    <tr>\n",
       "      <th>2013-03-14 00:01:00</th>\n",
       "      <td>-1.002573</td>\n",
       "      <td>-0.128686</td>\n",
       "    </tr>\n",
       "    <tr>\n",
       "      <th>2013-03-14 00:02:00</th>\n",
       "      <td> 0.071095</td>\n",
       "      <td> 0.856226</td>\n",
       "    </tr>\n",
       "    <tr>\n",
       "      <th>2013-03-14 00:03:00</th>\n",
       "      <td> 2.016434</td>\n",
       "      <td> 0.161054</td>\n",
       "    </tr>\n",
       "    <tr>\n",
       "      <th>2013-03-14 00:04:00</th>\n",
       "      <td> 1.415303</td>\n",
       "      <td>-0.649090</td>\n",
       "    </tr>\n",
       "    <tr>\n",
       "      <th>2013-03-14 00:05:00</th>\n",
       "      <td>-0.600021</td>\n",
       "      <td> 0.676255</td>\n",
       "    </tr>\n",
       "    <tr>\n",
       "      <th>2013-03-14 00:06:00</th>\n",
       "      <td> 1.594985</td>\n",
       "      <td>-0.582391</td>\n",
       "    </tr>\n",
       "    <tr>\n",
       "      <th>2013-03-14 00:07:00</th>\n",
       "      <td>-0.663377</td>\n",
       "      <td>-1.168662</td>\n",
       "    </tr>\n",
       "    <tr>\n",
       "      <th>2013-03-14 00:08:00</th>\n",
       "      <td>-0.583373</td>\n",
       "      <td> 1.338487</td>\n",
       "    </tr>\n",
       "    <tr>\n",
       "      <th>2013-03-14 00:09:00</th>\n",
       "      <td> 1.987060</td>\n",
       "      <td> 1.060700</td>\n",
       "    </tr>\n",
       "    <tr>\n",
       "      <th>2013-03-14 00:10:00</th>\n",
       "      <td> 0.616671</td>\n",
       "      <td>-0.300373</td>\n",
       "    </tr>\n",
       "    <tr>\n",
       "      <th>2013-03-14 00:11:00</th>\n",
       "      <td> 2.420452</td>\n",
       "      <td> 1.665964</td>\n",
       "    </tr>\n",
       "    <tr>\n",
       "      <th>2013-03-14 00:12:00</th>\n",
       "      <td> 1.023087</td>\n",
       "      <td>-0.441069</td>\n",
       "    </tr>\n",
       "    <tr>\n",
       "      <th>2013-03-14 00:13:00</th>\n",
       "      <td>-0.156677</td>\n",
       "      <td> 0.685528</td>\n",
       "    </tr>\n",
       "    <tr>\n",
       "      <th>2013-03-14 00:14:00</th>\n",
       "      <td>-0.088246</td>\n",
       "      <td> 1.025240</td>\n",
       "    </tr>\n",
       "    <tr>\n",
       "      <th>2013-03-14 00:15:00</th>\n",
       "      <td> 0.936033</td>\n",
       "      <td> 2.148406</td>\n",
       "    </tr>\n",
       "    <tr>\n",
       "      <th>2013-03-14 00:16:00</th>\n",
       "      <td> 0.654561</td>\n",
       "      <td> 0.216501</td>\n",
       "    </tr>\n",
       "    <tr>\n",
       "      <th>2013-03-14 00:17:00</th>\n",
       "      <td>-0.562621</td>\n",
       "      <td> 0.066577</td>\n",
       "    </tr>\n",
       "    <tr>\n",
       "      <th>2013-03-14 00:18:00</th>\n",
       "      <td>-0.346596</td>\n",
       "      <td>-0.111699</td>\n",
       "    </tr>\n",
       "    <tr>\n",
       "      <th>2013-03-14 00:19:00</th>\n",
       "      <td> 0.785941</td>\n",
       "      <td> 0.898306</td>\n",
       "    </tr>\n",
       "    <tr>\n",
       "      <th>2013-03-14 00:20:00</th>\n",
       "      <td> 1.209717</td>\n",
       "      <td> 0.580751</td>\n",
       "    </tr>\n",
       "    <tr>\n",
       "      <th>2013-03-14 00:21:00</th>\n",
       "      <td>-1.652340</td>\n",
       "      <td>-1.306449</td>\n",
       "    </tr>\n",
       "    <tr>\n",
       "      <th>2013-03-14 00:22:00</th>\n",
       "      <td>-0.759567</td>\n",
       "      <td> 0.393284</td>\n",
       "    </tr>\n",
       "    <tr>\n",
       "      <th>2013-03-14 00:23:00</th>\n",
       "      <td> 0.515564</td>\n",
       "      <td> 1.278258</td>\n",
       "    </tr>\n",
       "    <tr>\n",
       "      <th>2013-03-14 00:24:00</th>\n",
       "      <td>-1.533498</td>\n",
       "      <td>-0.506517</td>\n",
       "    </tr>\n",
       "    <tr>\n",
       "      <th>2013-03-14 00:25:00</th>\n",
       "      <td> 1.415616</td>\n",
       "      <td> 0.170434</td>\n",
       "    </tr>\n",
       "    <tr>\n",
       "      <th>2013-03-14 00:26:00</th>\n",
       "      <td>-0.332769</td>\n",
       "      <td>-1.532849</td>\n",
       "    </tr>\n",
       "    <tr>\n",
       "      <th>2013-03-14 00:27:00</th>\n",
       "      <td>-1.073198</td>\n",
       "      <td> 0.636741</td>\n",
       "    </tr>\n",
       "    <tr>\n",
       "      <th>2013-03-14 00:28:00</th>\n",
       "      <td>-1.703232</td>\n",
       "      <td>-0.746653</td>\n",
       "    </tr>\n",
       "    <tr>\n",
       "      <th>2013-03-14 00:29:00</th>\n",
       "      <td> 0.301707</td>\n",
       "      <td>-0.023583</td>\n",
       "    </tr>\n",
       "    <tr>\n",
       "      <th>2013-03-14 00:30:00</th>\n",
       "      <td>-0.459286</td>\n",
       "      <td> 0.229291</td>\n",
       "    </tr>\n",
       "    <tr>\n",
       "      <th>2013-03-14 00:31:00</th>\n",
       "      <td> 0.059357</td>\n",
       "      <td>-0.237899</td>\n",
       "    </tr>\n",
       "    <tr>\n",
       "      <th>2013-03-14 00:32:00</th>\n",
       "      <td>-0.524525</td>\n",
       "      <td> 0.802250</td>\n",
       "    </tr>\n",
       "    <tr>\n",
       "      <th>2013-03-14 00:33:00</th>\n",
       "      <td>-1.607276</td>\n",
       "      <td>-0.203812</td>\n",
       "    </tr>\n",
       "    <tr>\n",
       "      <th>2013-03-14 00:34:00</th>\n",
       "      <td>-1.581123</td>\n",
       "      <td>-0.211987</td>\n",
       "    </tr>\n",
       "    <tr>\n",
       "      <th>2013-03-14 00:35:00</th>\n",
       "      <td>-0.545353</td>\n",
       "      <td> 0.466657</td>\n",
       "    </tr>\n",
       "    <tr>\n",
       "      <th>2013-03-14 00:36:00</th>\n",
       "      <td>-0.349185</td>\n",
       "      <td> 0.162689</td>\n",
       "    </tr>\n",
       "    <tr>\n",
       "      <th>2013-03-14 00:37:00</th>\n",
       "      <td> 1.222611</td>\n",
       "      <td> 0.548749</td>\n",
       "    </tr>\n",
       "    <tr>\n",
       "      <th>2013-03-14 00:38:00</th>\n",
       "      <td>-0.089193</td>\n",
       "      <td> 0.635375</td>\n",
       "    </tr>\n",
       "    <tr>\n",
       "      <th>2013-03-14 00:39:00</th>\n",
       "      <td> 0.725059</td>\n",
       "      <td> 2.316202</td>\n",
       "    </tr>\n",
       "    <tr>\n",
       "      <th>2013-03-14 00:40:00</th>\n",
       "      <td> 0.760151</td>\n",
       "      <td>-2.053999</td>\n",
       "    </tr>\n",
       "    <tr>\n",
       "      <th>2013-03-14 00:41:00</th>\n",
       "      <td>-0.166340</td>\n",
       "      <td>-0.906287</td>\n",
       "    </tr>\n",
       "    <tr>\n",
       "      <th>2013-03-14 00:42:00</th>\n",
       "      <td> 0.544402</td>\n",
       "      <td> 0.613321</td>\n",
       "    </tr>\n",
       "    <tr>\n",
       "      <th>2013-03-14 00:43:00</th>\n",
       "      <td> 1.339693</td>\n",
       "      <td> 0.435234</td>\n",
       "    </tr>\n",
       "    <tr>\n",
       "      <th>2013-03-14 00:44:00</th>\n",
       "      <td>-0.696242</td>\n",
       "      <td>-0.851065</td>\n",
       "    </tr>\n",
       "    <tr>\n",
       "      <th>2013-03-14 00:45:00</th>\n",
       "      <td> 0.190538</td>\n",
       "      <td> 1.490117</td>\n",
       "    </tr>\n",
       "    <tr>\n",
       "      <th>2013-03-14 00:46:00</th>\n",
       "      <td> 0.671803</td>\n",
       "      <td>-0.009313</td>\n",
       "    </tr>\n",
       "    <tr>\n",
       "      <th>2013-03-14 00:47:00</th>\n",
       "      <td>-1.001122</td>\n",
       "      <td> 0.869508</td>\n",
       "    </tr>\n",
       "    <tr>\n",
       "      <th>2013-03-14 00:48:00</th>\n",
       "      <td> 0.345728</td>\n",
       "      <td> 0.700509</td>\n",
       "    </tr>\n",
       "    <tr>\n",
       "      <th>2013-03-14 00:49:00</th>\n",
       "      <td> 0.401707</td>\n",
       "      <td> 0.340094</td>\n",
       "    </tr>\n",
       "  </tbody>\n",
       "</table>\n",
       "</div>"
      ],
      "text/plain": [
       "                         pt_1      pt_2\n",
       "2013-03-14 00:00:00 -0.709028  1.968836\n",
       "2013-03-14 00:01:00 -1.002573 -0.128686\n",
       "2013-03-14 00:02:00  0.071095  0.856226\n",
       "2013-03-14 00:03:00  2.016434  0.161054\n",
       "2013-03-14 00:04:00  1.415303 -0.649090\n",
       "2013-03-14 00:05:00 -0.600021  0.676255\n",
       "2013-03-14 00:06:00  1.594985 -0.582391\n",
       "2013-03-14 00:07:00 -0.663377 -1.168662\n",
       "2013-03-14 00:08:00 -0.583373  1.338487\n",
       "2013-03-14 00:09:00  1.987060  1.060700\n",
       "2013-03-14 00:10:00  0.616671 -0.300373\n",
       "2013-03-14 00:11:00  2.420452  1.665964\n",
       "2013-03-14 00:12:00  1.023087 -0.441069\n",
       "2013-03-14 00:13:00 -0.156677  0.685528\n",
       "2013-03-14 00:14:00 -0.088246  1.025240\n",
       "2013-03-14 00:15:00  0.936033  2.148406\n",
       "2013-03-14 00:16:00  0.654561  0.216501\n",
       "2013-03-14 00:17:00 -0.562621  0.066577\n",
       "2013-03-14 00:18:00 -0.346596 -0.111699\n",
       "2013-03-14 00:19:00  0.785941  0.898306\n",
       "2013-03-14 00:20:00  1.209717  0.580751\n",
       "2013-03-14 00:21:00 -1.652340 -1.306449\n",
       "2013-03-14 00:22:00 -0.759567  0.393284\n",
       "2013-03-14 00:23:00  0.515564  1.278258\n",
       "2013-03-14 00:24:00 -1.533498 -0.506517\n",
       "2013-03-14 00:25:00  1.415616  0.170434\n",
       "2013-03-14 00:26:00 -0.332769 -1.532849\n",
       "2013-03-14 00:27:00 -1.073198  0.636741\n",
       "2013-03-14 00:28:00 -1.703232 -0.746653\n",
       "2013-03-14 00:29:00  0.301707 -0.023583\n",
       "2013-03-14 00:30:00 -0.459286  0.229291\n",
       "2013-03-14 00:31:00  0.059357 -0.237899\n",
       "2013-03-14 00:32:00 -0.524525  0.802250\n",
       "2013-03-14 00:33:00 -1.607276 -0.203812\n",
       "2013-03-14 00:34:00 -1.581123 -0.211987\n",
       "2013-03-14 00:35:00 -0.545353  0.466657\n",
       "2013-03-14 00:36:00 -0.349185  0.162689\n",
       "2013-03-14 00:37:00  1.222611  0.548749\n",
       "2013-03-14 00:38:00 -0.089193  0.635375\n",
       "2013-03-14 00:39:00  0.725059  2.316202\n",
       "2013-03-14 00:40:00  0.760151 -2.053999\n",
       "2013-03-14 00:41:00 -0.166340 -0.906287\n",
       "2013-03-14 00:42:00  0.544402  0.613321\n",
       "2013-03-14 00:43:00  1.339693  0.435234\n",
       "2013-03-14 00:44:00 -0.696242 -0.851065\n",
       "2013-03-14 00:45:00  0.190538  1.490117\n",
       "2013-03-14 00:46:00  0.671803 -0.009313\n",
       "2013-03-14 00:47:00 -1.001122  0.869508\n",
       "2013-03-14 00:48:00  0.345728  0.700509\n",
       "2013-03-14 00:49:00  0.401707  0.340094"
      ]
     },
     "execution_count": 35,
     "metadata": {},
     "output_type": "execute_result"
    }
   ],
   "source": [
    "df"
   ]
  },
  {
   "cell_type": "code",
   "execution_count": 43,
   "metadata": {
    "button": false,
    "collapsed": false,
    "deletable": true,
    "new_sheet": false,
    "run_control": {
     "read_only": false
    }
   },
   "outputs": [],
   "source": [
    "ts = pd.Series(randn(len(rng)), index=rng)"
   ]
  },
  {
   "cell_type": "code",
   "execution_count": null,
   "metadata": {
    "button": false,
    "collapsed": false,
    "deletable": true,
    "new_sheet": false,
    "run_control": {
     "read_only": false
    }
   },
   "outputs": [],
   "source": []
  },
  {
   "cell_type": "code",
   "execution_count": null,
   "metadata": {
    "button": false,
    "collapsed": false,
    "deletable": true,
    "new_sheet": false,
    "run_control": {
     "read_only": false
    }
   },
   "outputs": [],
   "source": []
  },
  {
   "cell_type": "code",
   "execution_count": null,
   "metadata": {
    "button": false,
    "collapsed": false,
    "deletable": true,
    "new_sheet": false,
    "run_control": {
     "read_only": false
    }
   },
   "outputs": [],
   "source": []
  },
  {
   "cell_type": "code",
   "execution_count": null,
   "metadata": {
    "button": false,
    "collapsed": false,
    "deletable": true,
    "new_sheet": false,
    "run_control": {
     "read_only": false
    }
   },
   "outputs": [],
   "source": []
  },
  {
   "cell_type": "code",
   "execution_count": null,
   "metadata": {
    "button": false,
    "collapsed": false,
    "deletable": true,
    "new_sheet": false,
    "run_control": {
     "read_only": false
    }
   },
   "outputs": [],
   "source": []
  },
  {
   "cell_type": "code",
   "execution_count": null,
   "metadata": {
    "button": false,
    "collapsed": false,
    "deletable": true,
    "new_sheet": false,
    "run_control": {
     "read_only": false
    }
   },
   "outputs": [],
   "source": []
  },
  {
   "cell_type": "code",
   "execution_count": null,
   "metadata": {
    "button": false,
    "collapsed": false,
    "deletable": true,
    "new_sheet": false,
    "run_control": {
     "read_only": false
    }
   },
   "outputs": [],
   "source": []
  },
  {
   "cell_type": "code",
   "execution_count": null,
   "metadata": {
    "button": false,
    "collapsed": false,
    "deletable": true,
    "new_sheet": false,
    "run_control": {
     "read_only": false
    }
   },
   "outputs": [],
   "source": []
  },
  {
   "cell_type": "code",
   "execution_count": null,
   "metadata": {
    "button": false,
    "collapsed": false,
    "deletable": true,
    "new_sheet": false,
    "run_control": {
     "read_only": false
    }
   },
   "outputs": [],
   "source": []
  },
  {
   "cell_type": "code",
   "execution_count": null,
   "metadata": {
    "button": false,
    "collapsed": false,
    "deletable": true,
    "new_sheet": false,
    "run_control": {
     "read_only": false
    }
   },
   "outputs": [],
   "source": []
  }
 ],
 "metadata": {
  "kernelspec": {
   "display_name": "Python 3",
   "language": "python",
   "name": "python3"
  },
  "language_info": {
   "codemirror_mode": {
    "name": "ipython",
    "version": 3
   },
   "file_extension": ".py",
   "mimetype": "text/x-python",
   "name": "python",
   "nbconvert_exporter": "python",
   "pygments_lexer": "ipython3",
   "version": "3.5.0"
  }
 },
 "nbformat": 4,
 "nbformat_minor": 0
}
