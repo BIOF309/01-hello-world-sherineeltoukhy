{
 "cells": [
  {
   "cell_type": "markdown",
   "metadata": {
    "slideshow": {
     "slide_type": "slide"
    }
   },
   "source": [
    "# National Institutes of Allergy and Infectious Disease (NIAID)\n",
    "---\n",
    "## Bioinformatics and Computational Biosciences Branch (BCBB)\n",
    "---\n",
    "### R. Burke Squires\n",
    "---\n",
    "#### BCBB / OCICB / OSMO / OD / NIAID / NIH"
   ]
  },
  {
   "cell_type": "markdown",
   "metadata": {
    "slideshow": {
     "slide_type": "slide"
    }
   },
   "source": [
    "## NIAID Bioinformatics and Computational Biosciences (BCBB)\n",
    "\n",
    "### Darrell Hurt, Ph.D., Branch Chief\n",
    "\n",
    "---\n",
    "#### Collaborative Consulting\n",
    "\n",
    "We do collaborative research with NIAID / NIH researchers\n",
    "\n",
    "#### Biomedical and Data Science Related Products\n",
    "\n",
    "We develop Biomedical and Data Science Related Products in the areas of:\n",
    "\n",
    "- 3D Printing\n",
    "- Microbiome Analysis (Nephele Microbiome Analysis Portal)\n",
    "- Tuberculosis Research (TB Research Portal)\n",
    "- Clinical Research\n",
    "- Biomedical Analysis Tools and Portals"
   ]
  },
  {
   "cell_type": "markdown",
   "metadata": {
    "collapsed": true,
    "slideshow": {
     "slide_type": "slide"
    }
   },
   "source": [
    "<img src=\"http://www.niaid.nih.gov/sites/default/files/BCBB_AllStaff.png\">"
   ]
  },
  {
   "cell_type": "markdown",
   "metadata": {
    "slideshow": {
     "slide_type": "slide"
    }
   },
   "source": [
    "## YouTube Channel\n",
    "\n",
    "Explore videos at:\n",
    "\n",
    "- [NIAID’s Bioinformatics channel](https://www.youtube.com/user/NIAIDBioinformatics)\n",
    "- [The 3D Print Exchange channel](http://www.youtube.com/channel/UCNmPN3UVxRrKbgsxSIKFxzQ)\n",
    "\n",
    "## Web Applications\n",
    "\n",
    "- [NIH 3D Print Exchange](http://3dprint.nih.gov/)\n",
    "- [Nephele - Microbiome Analysis Portal](https://nephele.niaid.nih.gov)\n",
    "- [Hemagglutinin Structure Prediction (HASP) Server](https://www.niaid.nih.gov/node/3405)\n",
    "- [Papillomavirus Episteme (PaVE)](https://www.niaid.nih.gov/node/3395)\n",
    "- [JoinSolver](http://joinsolver.niaid.nih.gov/)\n",
    "\n",
    "## Twitter\n",
    "\n",
    "- [NIAID Bioinformatics](https://twitter.com/niaidbioit)\n",
    "\n",
    "## Downloadable Desktop Applications\n",
    "\n",
    "- [Networks on Circular Chromosome (NetCirChro)](https://www.niaid.nih.gov/node/3396)\n",
    "- [Simplified Presentation of Incredibly Complex Evaluations (SPICE)](https://www.niaid.nih.gov/node/3397)\n",
    "- [Desktop cDNA Annotation System (dCAS)](https://www.niaid.nih.gov/node/3398)\n",
    "- [BRB-Array Tools: DAPfinder and DAPview](https://www.niaid.nih.gov/node/3404)"
   ]
  }
 ],
 "metadata": {
  "anaconda-cloud": {},
  "celltoolbar": "Slideshow",
  "kernelspec": {
   "display_name": "Python [default]",
   "language": "python",
   "name": "python3"
  },
  "language_info": {
   "codemirror_mode": {
    "name": "ipython",
    "version": 3
   },
   "file_extension": ".py",
   "mimetype": "text/x-python",
   "name": "python",
   "nbconvert_exporter": "python",
   "pygments_lexer": "ipython3",
   "version": "3.5.3"
  }
 },
 "nbformat": 4,
 "nbformat_minor": 1
}
