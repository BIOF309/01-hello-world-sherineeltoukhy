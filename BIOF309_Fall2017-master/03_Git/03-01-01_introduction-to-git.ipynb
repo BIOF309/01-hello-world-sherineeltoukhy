{
 "cells": [
  {
   "cell_type": "markdown",
   "metadata": {},
   "source": [
    "---\n",
    "title: Introduction to Version Control and Git\n",
    "teaching: 30\n",
    "exercises: 0\n",
    "questions:\n",
    "- \"What is version control and why should I use it?\"\n",
    "- \"How do I get set up to use Git?\"\n",
    "- \"Where does Git store information?\"\n",
    "objectives:\n",
    "- \"Understand the benefits of an automated version control system.\"\n",
    "- \"Understand the basics of how Git works.\"\n",
    "- \"Configure `git` the first time it is used on a computer.\"\n",
    "- \"Understand the meaning of the `--global` configuration flag.\"\n",
    "- \"Create a local Git repository.\"\n",
    "keypoints:\n",
    "- \"Version control is like an unlimited 'undo'.\"\n",
    "- \"Version control also allows many people to work in parallel.\"\n",
    "- \"All changes tracked by git are stored in the hidden repository '.git'.\"\n",
    "-   \"Use `git config` to configure a user name, email address, editor, and other preferences once per machine.\"\n",
    "- \"`git init` initializes a repository.\"\n",
    "- \"`git status` shows the status of a repository.\"\n",
    "\n",
    "---\n",
    "\n",
    "We'll start by exploring how version control can be used\n",
    "to keep track of what one person did and when.\n",
    "Even if you aren't collaborating with other people,\n",
    "automated version control is much better than this situation:\n",
    "\n",
    "[![Piled Higher and Deeper by Jorge Cham, http://www.phdcomics.com/comics/archive_print.php?comicid=1531](../fig/fig/phd101212s.png)](http://www.phdcomics.com)\n",
    "\n",
    "\"Piled Higher and Deeper\" by Jorge Cham, http://www.phdcomics.com\n",
    "\n",
    "We've all been in this situation before: it seems ridiculous to have\n",
    "multiple nearly-identical versions of the same document. Some word\n",
    "processors let us deal with this a little better, such as Microsoft\n",
    "Word's \"Track Changes\" or Google Docs' [version\n",
    "history](https://support.google.com/docs/answer/190843?hl=en).\n",
    "\n",
    "Version control systems start with a base version of the document and\n",
    "then save just the changes you made at each step of the way. You can\n",
    "think of it as a tape: if you rewind the tape and start at the base\n",
    "document, then you can play back each change and end up with your\n",
    "latest version.\n",
    "\n",
    "![Changes Are Saved Sequentially](../fig/fig/play-changes.svg)\n",
    "\n",
    "Once you think of changes as separate from the document itself, you\n",
    "can then think about \"playing back\" different sets of changes onto the\n",
    "base document and getting different versions of the document. For\n",
    "example, two users can make independent sets of changes based on the\n",
    "same document.\n",
    "\n",
    "![Different Versions Can be Saved](../fig/fig/versions.svg)\n",
    "\n",
    "If there aren't conflicts, you can even play two sets of changes onto the same base document.\n",
    "\n",
    "![Multiple Versions Can be Merged](../fig/fig/merge.svg)\n",
    "\n",
    "A version control system is a tool that keeps track of these changes for us and\n",
    "helps us version and merge our files. It allows you to\n",
    "decide which changes make up the next version, called a\n",
    "[commit]({{ page.root }}/reference/#commit), and keeps useful metadata about them. The\n",
    "complete history of commits for a particular project and their metadata make up\n",
    "a [repository]({{ page.root }}/reference/#repository). Repositories can be kept in sync\n",
    "across different computers facilitating collaboration among different people.\n",
    "\n",
    "> ## The Long History of Version Control Systems\n",
    ">\n",
    "> Automated version control systems are nothing new.\n",
    "> Tools like RCS, CVS, or Subversion have been around since the early 1980s and are used by many large companies.\n",
    "> However, many of these are now becoming considered as legacy systems due to various limitations in their capabilities.\n",
    "> In particular, the more modern systems, such as Git and [Mercurial](http://swcarpentry.github.io/hg-novice/)\n",
    "> are *distributed*, meaning that they do not need a centralized server to host the repository.\n",
    "> These modern systems also include powerful merging tools that make it possible for multiple authors to work within\n",
    "> the same files concurrently.\n",
    "{: .callout}\n",
    "\n",
    "> ## Paper Writing\n",
    ">\n",
    "> *   Imagine you drafted an excellent paragraph for a paper you are writing, but later ruin it. How would you retrieve\n",
    ">     the *excellent* version of your conclusion? Is it even possible?\n",
    ">\n",
    "> *   Imagine you have 5 co-authors. How would you manage the changes and comments they make to your paper?\n",
    ">     If you use LibreOffice Writer or Microsoft Word, what happens if you accept changes made using the\n",
    ">     `Track Changes` option? Do you have a history of those changes?\n",
    "{: .challenge}\n",
    "\n",
    "\n",
    "## Setting up Git\n",
    "When we use Git on a new computer for the first time, we need to configure a\n",
    "[few things](http://swcarpentry.github.io/git-novice/02-setup/). Below are a\n",
    "few examples of configurations we will set as we get started with Git:\n",
    "\n",
    "*   our name and email address,\n",
    "*   to colorize our output,\n",
    "*   what our preferred text editor is,\n",
    "*   and that we want to use these settings globally (i.e. for every project)\n",
    "\n",
    "On a command line, Git commands are written as `git verb`,\n",
    "where `verb` is what we actually want to do. So we should type:"
   ]
  },
  {
   "cell_type": "code",
   "execution_count": null,
   "metadata": {},
   "outputs": [],
   "source": [
    "!git config --global user.name \"our name\"\n",
    "!git config --global user.email \"our email address\"\n",
    "!git config --global color.ui \"auto\"\n",
    "!git config --global core.editor \"atom --wait\""
   ]
  },
  {
   "cell_type": "markdown",
   "metadata": {},
   "source": [
    "{: .source}\n",
    "\n",
    "This user name and email will be associated with your subsequent Git activity,\n",
    "which means that any changes pushed to [GitHub](http://github.com/),\n",
    "[BitBucket](http://bitbucket.org/), [GitLab](http://gitlab.com/) or another Git\n",
    "host server in a later lesson will include this information. If you are\n",
    "concerned about privacy, please review GitHub's\n",
    "[instructions](https://help.github.com/articles/keeping-your-email-address-private/)\n",
    " for keeping your email address private.\n",
    "\n",
    "\n",
    "The four commands we just ran above only need to be run once: the flag `--global` tells Git\n",
    "to use the settings for every project, in your user account, on this computer.\n",
    "\n",
    "You can check your settings at any time:"
   ]
  },
  {
   "cell_type": "code",
   "execution_count": null,
   "metadata": {},
   "outputs": [],
   "source": [
    "!git config --list"
   ]
  },
  {
   "cell_type": "markdown",
   "metadata": {},
   "source": [
    "{: .source}\n",
    "\n",
    "You can reconfigure these settings whenever you wish.\n",
    "\n",
    "> ## Proxy\n",
    ">\n",
    "> In some networks you need to use a\n",
    "> [proxy](https://en.wikipedia.org/wiki/Proxy_server). If this is the case, you\n",
    "> may also need to tell Git about the proxy:\n",
    ">\n",
    "> ~~~\n",
    "> !git config --global http.proxy proxy-url\n",
    "> !git config --global https.proxy proxy-url\n",
    "> ~~~\n",
    "> {: .source}\n",
    ">\n",
    "> To disable the proxy, use\n",
    ">\n",
    "> ~~~\n",
    "> !git config --global --unset http.proxy\n",
    "> !git config --global --unset https.proxy\n",
    "> ~~~\n",
    "> {: .source}\n",
    "{: .callout}\n",
    "\n",
    "> ## Git Help and Manual\n",
    ">\n",
    "> Always remember that if you forget a git command, you can access the list of command by using -h and access the git manual by using --help :\n",
    ">\n",
    "> ~~~\n",
    "> !git config -h\n",
    "> !git config --help\n",
    "> ~~~\n",
    "> {: .source}\n",
    "{: .callout}\n",
    "\n",
    "\n",
    "## Initializing a Git repository\n",
    "\n",
    "To start using Git we must first create a git repository for a given project. In\n",
    "order to track the content of our current analysis we want to make sure we are\n",
    "in the correct directory. Let's check the contents of the directory too:"
   ]
  },
  {
   "cell_type": "code",
   "execution_count": null,
   "metadata": {},
   "outputs": [],
   "source": [
    "%cd ~/reproducibility_course\n",
    "%ls"
   ]
  },
  {
   "cell_type": "markdown",
   "metadata": {},
   "source": [
    "{: .source}"
   ]
  },
  {
   "cell_type": "code",
   "execution_count": null,
   "metadata": {},
   "outputs": [],
   "source": [
    "metasearch/ metasearch_analysis.py"
   ]
  },
  {
   "cell_type": "markdown",
   "metadata": {},
   "source": [
    "{: .output}\n",
    "\n",
    "We will create a git repository in this directory, which we can do by using the\n",
    "`git init` command:"
   ]
  },
  {
   "cell_type": "code",
   "execution_count": null,
   "metadata": {},
   "outputs": [],
   "source": [
    "!git init\n",
    "%ls"
   ]
  },
  {
   "cell_type": "markdown",
   "metadata": {},
   "source": [
    "{: .source}"
   ]
  },
  {
   "cell_type": "code",
   "execution_count": null,
   "metadata": {},
   "outputs": [],
   "source": [
    "metasearch/  metasearch_analysis.py"
   ]
  },
  {
   "cell_type": "markdown",
   "metadata": {},
   "source": [
    "{: .output}\n",
    "\n",
    "It appears that nothing has changed. But if we add the `-a` flag to show all\n",
    "files, including hidden ones, we can see that Git has created a hidden directory\n",
    "called `.git`:"
   ]
  },
  {
   "cell_type": "code",
   "execution_count": null,
   "metadata": {},
   "outputs": [],
   "source": [
    "%ls -a"
   ]
  },
  {
   "cell_type": "markdown",
   "metadata": {},
   "source": [
    "{: .source}"
   ]
  },
  {
   "cell_type": "code",
   "execution_count": null,
   "metadata": {},
   "outputs": [],
   "source": [
    "./  ../  .git/  metasearch/  metasearch_analysis.py"
   ]
  },
  {
   "cell_type": "markdown",
   "metadata": {},
   "source": [
    "{: .output}\n",
    "\n",
    "Git stores information about the project in this special sub-directory. If we\n",
    "ever delete it, we will lose the project's history.\n",
    "\n",
    "We can check that everything is set up correctly by asking Git to tell us the\n",
    "status of our project. It should display the following text:"
   ]
  },
  {
   "cell_type": "code",
   "execution_count": null,
   "metadata": {},
   "outputs": [],
   "source": [
    "!git status"
   ]
  },
  {
   "cell_type": "markdown",
   "metadata": {},
   "source": [
    "{: .source}"
   ]
  },
  {
   "cell_type": "code",
   "execution_count": null,
   "metadata": {},
   "outputs": [],
   "source": [
    "On branch master\n",
    "\n",
    "Initial commit\n",
    "\n",
    "Untracked files:\n",
    "  (use \"git add <file>...\" to include in what will be committed)\n",
    "\n",
    "        metasearch/\n",
    "        metasearch_analysis.py\n",
    "\n",
    "nothing added to commit but untracked files present (use \"git add\" to track)"
   ]
  },
  {
   "cell_type": "markdown",
   "metadata": {},
   "source": [
    "{: .output}"
   ]
  }
 ],
 "metadata": {},
 "nbformat": 4,
 "nbformat_minor": 2
}
