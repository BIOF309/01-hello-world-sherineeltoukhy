{
 "cells": [
  {
   "cell_type": "markdown",
   "metadata": {},
   "source": [
    "---\n",
    "title:  Versioning edits with Git\n",
    "teaching: 30\n",
    "exercises: 0\n",
    "questions:\n",
    "- \"How do I record changes in Git?\"\n",
    "- \"How do I record notes about what changes I made and why?\"\n",
    "objectives:\n",
    "- \"Go through the modify-add-commit cycle for one or more files.\"\n",
    "- \"Explain where information is stored at each stage of Git commit workflow.\"\n",
    "keypoints:\n",
    "- \"Files can be stored in a project's working directory (which users see), the staging area (where the next commit is being built up) and the local repository (where commits are permanently recorded).\"\n",
    "- \"`git add` puts files in the staging area.\"\n",
    "- \"`git commit` saves the staged content as a new commit in the local repository.\"\n",
    "- \"Always write a log message when committing changes.\"\n",
    "- \"View previous commits using the `git log` command.\"\n",
    "---\n",
    "\n",
    "We can check the contents of the file that we previously saved in our project directory using the `%less` magic:"
   ]
  },
  {
   "cell_type": "code",
   "execution_count": null,
   "metadata": {},
   "outputs": [],
   "source": [
    "%less metasearch_analysis.py"
   ]
  },
  {
   "cell_type": "markdown",
   "metadata": {},
   "source": [
    "{: .source}"
   ]
  },
  {
   "cell_type": "code",
   "execution_count": null,
   "metadata": {},
   "outputs": [],
   "source": [
    "# coding: utf-8\n",
    "# get_ipython().system('git clone https://github.com/OpenNeuroLab/metasearch.git')"
   ]
  },
  {
   "cell_type": "markdown",
   "metadata": {},
   "source": [
    "{: .output}\n",
    "\n",
    "\n",
    "As we saw previously the status of our git repository shows us that we have\n",
    "this untracked file along with our directory with data:"
   ]
  },
  {
   "cell_type": "code",
   "execution_count": null,
   "metadata": {},
   "outputs": [],
   "source": [
    "!git status"
   ]
  },
  {
   "cell_type": "markdown",
   "metadata": {},
   "source": [
    "{: .source}"
   ]
  },
  {
   "cell_type": "code",
   "execution_count": null,
   "metadata": {},
   "outputs": [],
   "source": [
    "On branch master\n",
    "\n",
    "Initial commit\n",
    "\n",
    "Untracked files:\n",
    "  (use \"git add <file>...\" to include in what will be committed)\n",
    "\n",
    "        metasearch/\n",
    "        metasearch_analysis.py\n",
    "\n",
    "nothing added to commit but untracked files present (use \"git add\" to track)"
   ]
  },
  {
   "cell_type": "markdown",
   "metadata": {},
   "source": [
    "{: .output}\n",
    "\n",
    "The first step in tracking a file in Git is to add it to the Git staging area.\n",
    "\n",
    "![The file lifecycle in git](../fig/git_add.png)\n",
    "Modified figure from git-scm.com\n",
    "\n",
    "\n",
    "In order to add a file to the Git staging area we use \"git add\":"
   ]
  },
  {
   "cell_type": "code",
   "execution_count": null,
   "metadata": {},
   "outputs": [],
   "source": [
    "!git add metasearch_analysis.py"
   ]
  },
  {
   "cell_type": "markdown",
   "metadata": {},
   "source": [
    "{: .source}\n",
    "\n",
    "We check how this changed the way Git see our current project with the \"git status\" command once again:"
   ]
  },
  {
   "cell_type": "code",
   "execution_count": null,
   "metadata": {},
   "outputs": [],
   "source": [
    "!git status"
   ]
  },
  {
   "cell_type": "markdown",
   "metadata": {},
   "source": [
    "{: .source}"
   ]
  },
  {
   "cell_type": "code",
   "execution_count": null,
   "metadata": {},
   "outputs": [],
   "source": [
    "On branch master\n",
    "\n",
    "Initial commit\n",
    "\n",
    "Changes to be committed:\n",
    "  (use \"git rm --cached <file>...\" to unstage)\n",
    "\n",
    "        new file:   metasearch_analysis.py\n",
    "\n",
    "Untracked files:\n",
    "  (use \"git add <file>...\" to include in what will be committed)\n",
    "\n",
    "        metasearch/\n"
   ]
  },
  {
   "cell_type": "markdown",
   "metadata": {},
   "source": [
    "{: .output}\n",
    "\n",
    "Git now knows that it's supposed to keep track of `metasearch_analysis.py`, but\n",
    "it hasn't recorded these changes permanently in its repository yet. To\n",
    "permanently store the current state of the metasearch_analysis.py file in the\n",
    "Git repository we need to commit the changes that are staged. We use the `git\n",
    "commit` command for this:"
   ]
  },
  {
   "cell_type": "code",
   "execution_count": null,
   "metadata": {},
   "outputs": [],
   "source": [
    "!git commit -m \"add script for our analysis\""
   ]
  },
  {
   "cell_type": "markdown",
   "metadata": {},
   "source": [
    "{: .source}"
   ]
  },
  {
   "cell_type": "code",
   "execution_count": null,
   "metadata": {},
   "outputs": [],
   "source": [
    "[master (root-commit) 0c89fa2] add script for our analysis\n",
    " 1 file changed, 2 insertions(+)\n",
    " create mode 100644 metasearch_analysis.py"
   ]
  },
  {
   "cell_type": "markdown",
   "metadata": {},
   "source": [
    "{: .output}\n",
    "\n",
    "> ## The staging area helps to keep track of different changes\n",
    "> \n",
    "> If you think of Git as taking snapshots of changes over the life of a\n",
    "> project, \"git add\" specifies *what* will go in a snapshot (putting things in\n",
    "> the staging area), and \"git commit\" then *actually takes* the snapshot, and\n",
    "> makes a permanent record of it (as a commit). If you don't have anything\n",
    "> staged when you type \"git commit\", Git will prompt you to use \"git commit -a\"\n",
    "> or \"git commit --all\", which is kind of like gathering *everyone* for the\n",
    "> picture! However, it's almost always better to explicitly add things to the\n",
    "> staging area, because you might commit changes you forgot you made. Try to\n",
    "> stage things manually, or you might find yourself searching for \"git undo\n",
    "> commit\" more than you would like!\n",
    "{: .callout}\n",
    "\n",
    "When we run \"git commit\", Git takes everything we have told it to save by using\n",
    "\"git add\" and stores a copy permanently inside the special `.git` directory.\n",
    "This permanent copy is called a [commit]({{ page.root }}/reference/#commit) (or\n",
    "[revision]({{ page.root }}/reference/#revision)) and its short identifier is\n",
    "`0c89fa2` (Your commit may have another identifier.)\n",
    "\n",
    "We use the `-m` flag (for \"message\") to record a short, descriptive, and\n",
    "specific comment that will help us remember later on what we did and why. If we\n",
    "just run \"git commit\" without the `-m` option, Git will launch `atom` (or\n",
    "whatever other editor we configured as `core.editor`) so that we can write a\n",
    "longer message.\n",
    "\n",
    "[Good commit messages][commit-messages] start with a brief (<50 characters) summary of\n",
    "changes made in the commit.  If you want to go into more detail, add\n",
    "a blank line between the summary line and your additional notes.\n",
    "\n",
    "Now when we run \"git status\" we see:"
   ]
  },
  {
   "cell_type": "code",
   "execution_count": null,
   "metadata": {},
   "outputs": [],
   "source": [
    "!git status"
   ]
  },
  {
   "cell_type": "markdown",
   "metadata": {},
   "source": [
    "{: .source}"
   ]
  },
  {
   "cell_type": "code",
   "execution_count": null,
   "metadata": {},
   "outputs": [],
   "source": [
    "On branch master\n",
    "Untracked files:\n",
    "  (use \"git add <file>...\" to include in what will be committed)\n",
    "\n",
    "        metasearch/\n",
    "\n",
    "nothing added to commit but untracked files present (use \"git add\" to track)"
   ]
  },
  {
   "cell_type": "markdown",
   "metadata": {},
   "source": [
    "{: .output}\n",
    "\n",
    "Not only is the metasearch_analysis.py file now tracked but it is also\n",
    "no longer part of the output of  \"git status\". It is now in the unmodified\n",
    "state. When we look at our repository's history we can observe our commit. For\n",
    "this, we use \"git log\":"
   ]
  },
  {
   "cell_type": "code",
   "execution_count": null,
   "metadata": {},
   "outputs": [],
   "source": [
    "!git log"
   ]
  },
  {
   "cell_type": "markdown",
   "metadata": {},
   "source": [
    "{: .source}"
   ]
  },
  {
   "cell_type": "code",
   "execution_count": null,
   "metadata": {},
   "outputs": [],
   "source": [
    "commit 0c89fa2638154272519761de68189f8bb0d0b789\n",
    "Author: XXX <XXX@hotmail.com>\n",
    "Date:   Mon Feb 27 16:12:08 2012 -0500\n",
    "\n",
    "    add script for our analysis"
   ]
  },
  {
   "cell_type": "markdown",
   "metadata": {},
   "source": [
    "{: .output}\n",
    "\n",
    "\"git log\" lists all commits  made to a repository in reverse chronological\n",
    "order. The listing for each commit includes the commit's full identifier (which\n",
    "starts with the same characters as the short identifier printed by the `git\n",
    "commit` command earlier), the commit's author, when it was created, and the log\n",
    "message Git was given when the commit was created.\n",
    "\n",
    "## Where Are My Changes?\n",
    "If we run `%ls` at this point, we will see that there has been no obvious change\n",
    "to the filesystem:"
   ]
  },
  {
   "cell_type": "code",
   "execution_count": null,
   "metadata": {},
   "outputs": [],
   "source": [
    "%ls"
   ]
  },
  {
   "cell_type": "markdown",
   "metadata": {},
   "source": [
    "{: .source}"
   ]
  },
  {
   "cell_type": "code",
   "execution_count": null,
   "metadata": {},
   "outputs": [],
   "source": [
    "metasearch/ metasearch_analysis.py"
   ]
  },
  {
   "cell_type": "markdown",
   "metadata": {},
   "source": [
    "{: .output}\n",
    "\n",
    "There are no obvious changes observed in the project directory because Git\n",
    "saves information about files' history in the special `.git` directory\n",
    "mentioned earlier so that our filesystem doesn't become cluttered (and so that\n",
    "we can't accidentally edit or delete an old version).\n",
    "  \n",
    "## The Git Lifecycle\n",
    "\n",
    "We have now seen the different states that files typically inhabit as Git\n",
    "tracks them. The default file state is unmodified. Any time we make a change to\n",
    "any of our files tracked by Git we will observe that they are listed as\n",
    "modified. We must stage and then commit such changes to return the files to\n",
    "their unmodified state.\n",
    "\n",
    "The cycle of making changes to files, staging these changes, and then\n",
    "committing them is continually repeated and our project continues to develop\n",
    "with each file being represented in the Git repository as a combination of\n",
    "committed changes. We will start working through such a cycle now by making\n",
    "another edit to our analysis script. For now we'll just add a comment to\n",
    "document the fact that we are using data from the the Open Neuroimaging\n",
    "Laboratory at http://openneu.ro.\n",
    "\n",
    "![The file lifecycle in git](../fig/git_workflow.png)\n",
    "Figure from git-scm.com\n",
    "\n",
    "\n",
    ">## Editing our script file\n",
    "> If not already open in our text editor atom, we should now open it using the IPython `%edit` magic:\n",
    "> ~~~\n",
    "> %edit metasearch_analysis.py\n",
    "> ~~~\n",
    "> {: .source}\n",
    "{: .callout}\n",
    "\n",
    "Once we have finished editing our script we should observe something like the following:"
   ]
  },
  {
   "cell_type": "code",
   "execution_count": null,
   "metadata": {},
   "outputs": [],
   "source": [
    "%less metasearch_analysis.py"
   ]
  },
  {
   "cell_type": "markdown",
   "metadata": {},
   "source": [
    "{: .source}"
   ]
  },
  {
   "cell_type": "code",
   "execution_count": null,
   "metadata": {},
   "outputs": [],
   "source": [
    "# coding: utf-8\n",
    "# Download the data from the Open Neuroimaging Labaroatory, see http://openneu.ro\n",
    "# get_ipython().system('git clone https://github.com/OpenNeuroLab/metasearch.git')"
   ]
  },
  {
   "cell_type": "markdown",
   "metadata": {},
   "source": [
    "{: .output}\n",
    "\n",
    "At this point we will see that Git now views this as a modified file:"
   ]
  },
  {
   "cell_type": "code",
   "execution_count": null,
   "metadata": {},
   "outputs": [],
   "source": [
    "!git status"
   ]
  },
  {
   "cell_type": "markdown",
   "metadata": {},
   "source": [
    "{: .source}"
   ]
  },
  {
   "cell_type": "code",
   "execution_count": null,
   "metadata": {},
   "outputs": [],
   "source": [
    "On branch master\n",
    "Changes not staged for commit:\n",
    "  (use \"git add <file>...\" to update what will be committed)\n",
    "  (use \"git checkout -- <file>...\" to discard changes in working directory)\n",
    "\n",
    "        modified:   metasearch_analysis.py\n",
    "\n",
    "Untracked files:\n",
    "  (use \"git add <file>...\" to include in what will be committed)\n",
    "\n",
    "        metasearch/\n",
    "\n",
    "no changes added to commit (use \"git add\" and/or \"git commit -a\")"
   ]
  },
  {
   "cell_type": "markdown",
   "metadata": {},
   "source": [
    "{: .output}\n",
    "\n",
    "We previously used \"git add\" to add an untracked file to the staging area. This\n",
    "time we will use it to add a modified file to the staging area."
   ]
  },
  {
   "cell_type": "code",
   "execution_count": null,
   "metadata": {},
   "outputs": [],
   "source": [
    "!git add metasearch_analysis.py"
   ]
  },
  {
   "cell_type": "markdown",
   "metadata": {},
   "source": [
    "{: .source}\n",
    "\n",
    "Finally to complete the Git life-cycle for this current change-set we will commit our staged changes:"
   ]
  },
  {
   "cell_type": "code",
   "execution_count": null,
   "metadata": {},
   "outputs": [],
   "source": [
    "!git commit -m \"add comment about Open Neuroimaging Laboratory\""
   ]
  },
  {
   "cell_type": "markdown",
   "metadata": {},
   "source": [
    "{: .source}"
   ]
  },
  {
   "cell_type": "code",
   "execution_count": null,
   "metadata": {},
   "outputs": [],
   "source": [
    "[master b7dfff7] add comment about Open Neuroimaging Laboratory\n",
    " 1 file changed, 2 insertions(+), 1 deletion(-)"
   ]
  },
  {
   "cell_type": "markdown",
   "metadata": {},
   "source": [
    "{: .output}\n",
    "\n",
    "We can use the \"git status\" and \"git log\" commands to confirm that an\n",
    "additional commit is stored in the Git repository and no staged or unstaged\n",
    "changes exist for the file metasearch_analysis.py.\n",
    "\n",
    "\n",
    "\n",
    "\n",
    "\n",
    "## What if I don't want Git to track some of my changes?\n",
    "There are many reasons we might want git to overlook certain files or sub-\n",
    "directories in our project.\n",
    "\n",
    " One such case is if our data contains Personally identifiable information\n",
    "(PII). While Git helps us to share our code but we can't do this if we have\n",
    "added PII to the Git repository. To help with this we can explicitly include a\n",
    "directory in which we will add such data or perhaps even code so that we\n",
    "prevent accidentally tracking such content. Let's create such a directory and\n",
    "add our dataset to it so that we don't accidentally include things we don't\n",
    "want to."
   ]
  },
  {
   "cell_type": "code",
   "execution_count": null,
   "metadata": {},
   "outputs": [],
   "source": [
    "Path('data_not_in_repo').mkdir()"
   ]
  },
  {
   "cell_type": "markdown",
   "metadata": {},
   "source": [
    "{: .python}\n",
    "\n",
    "The metasearch directory is itself a git repository. We definitely don't want to track this. While this is sometimes something we might want to do, in our case it would be best to make sure that the metasearch directory remains untracked. To move this directory using the pathlib library is  a little cumbersome so we shall use the ipython `%mv` magic to do this:"
   ]
  },
  {
   "cell_type": "code",
   "execution_count": null,
   "metadata": {},
   "outputs": [],
   "source": [
    " %mv metasearch data_not_in_repo"
   ]
  },
  {
   "cell_type": "markdown",
   "metadata": {},
   "source": [
    "{: .python}\n",
    "\n",
    "Now to make sure that git does not track this directory we add its name to a\n",
    "file called .gitignore in our current directory:"
   ]
  },
  {
   "cell_type": "code",
   "execution_count": null,
   "metadata": {},
   "outputs": [],
   "source": [
    "Path('.gitignore').write_text('data_not_in_repo')"
   ]
  },
  {
   "cell_type": "markdown",
   "metadata": {},
   "source": [
    "{: .source}\n",
    "\n",
    "Now when we check the status we no longer see the metasearch directory as\n",
    "untracked by the repository. Furthermore, we will not be able to add any of the\n",
    "files in this directory into the git repository.\n",
    "\n",
    "\n",
    "  \n",
    "> ## Editing and Staging\n",
    "> \n",
    "> We have made a data_not_in_repo directory and we have moved the metasearch\n",
    "> directory into it. We want to stage these commands for subsequent commit\n",
    "> Fill in the blank spaces in the code below to achieve this:\n",
    "> \n",
    "> ~~~\n",
    "> %hist -n g data_not_in_repo\n",
    "> %hist -n g metasearch\n",
    "> %save -a metasearch_analysis.py ____\n",
    "> !git add ____\n",
    "> ~~~\n",
    "> {: .python}\n",
    "{: .challenge}\n",
    "\n",
    "> ##  Committing\n",
    "> \n",
    ">  What commit message should we use for the changes we staged in the last\n",
    ">  question? Have a think about and then choose one of the following for a subsequent commit:\n",
    ">  \n",
    "> 1. \"Using pathlib\"\n",
    "> 2. \"Create a data_not_in_repo directory to avoid tracking some files and move the metasearch directory here\"\n",
    "> 3. \"Make and add to data_not_in_repo\"\n",
    "> 4. \"Change metasearch.py\"\n",
    "> \n",
    "> \n",
    "> > ## Solution\n",
    "> > \n",
    "> > Answer 1 is not descriptive enough. Answer 2 is too long and this wasn't a\n",
    "> > particularly extensive change. While answer 4 could be considered useful in\n",
    "> > some contexts it is answer 3 that strikes the balance well between being\n",
    "> > concise and descriptive\n",
    "> > \n",
    "> {: .solution}\n",
    "{: .challenge}\n",
    "\n",
    "\n",
    "[commit-messages]: http://tbaggery.com/2008/04/19/a-note-about-git-commit-messages.html"
   ]
  }
 ],
 "metadata": {},
 "nbformat": 4,
 "nbformat_minor": 2
}
