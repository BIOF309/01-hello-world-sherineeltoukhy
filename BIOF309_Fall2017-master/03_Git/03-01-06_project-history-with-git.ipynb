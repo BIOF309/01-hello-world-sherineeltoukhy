{
 "cells": [
  {
   "cell_type": "markdown",
   "metadata": {},
   "source": [
    "---\n",
    "title: Keeping track of changes with Git\n",
    "teaching: 30\n",
    "exercises: 0\n",
    "questions:\n",
    "- \"How can I identify old versions of files?\"\n",
    "- \"How do I review my changes?\"\n",
    "- \"How can I recover old versions of files?\"\n",
    "objectives:\n",
    "- \"Explain what the HEAD of a repository is and how to use it.\"\n",
    "- \"Identify and use Git commit numbers.\"\n",
    "- \"Compare various versions of tracked files.\"\n",
    "- \"Restore old versions of files.\"\n",
    "keypoints:\n",
    "- \"`git diff` displays differences between commits.\"\n",
    "- \"`git checkout` recovers old versions of files.\"\n",
    "---\n",
    "\n",
    "*   As we saw in the previous lesson, we can refer to commits by their\n",
    "identifiers.\n",
    "*  The most recent commit of the working directory can also be referred to by using the identifier\n",
    "   `HEAD`.\n",
    "* Every previous commit can in turn be referenced by adding the `~` symbol and incrementing the number\n",
    "    * So the most recent commit is HEAD, the previous one is HEAD~1 (pronounced HEAD minus 1), and so on.\n",
    "* The diff command allows us to observe differences between difference versions of our working directory\n",
    "\n",
    "## View differences between files\n",
    "\n",
    "To see the difference between our modified files and our last commit we can use"
   ]
  },
  {
   "cell_type": "code",
   "execution_count": null,
   "metadata": {},
   "outputs": [],
   "source": [
    "!git diff HEAD "
   ]
  },
  {
   "cell_type": "markdown",
   "metadata": {},
   "source": [
    "{: .bash}"
   ]
  },
  {
   "cell_type": "code",
   "execution_count": null,
   "metadata": {},
   "outputs": [],
   "source": [
    "output"
   ]
  },
  {
   "cell_type": "markdown",
   "metadata": {},
   "source": [
    "{: .output}\n",
    "\n",
    "We can specify a specific file for this:"
   ]
  },
  {
   "cell_type": "code",
   "execution_count": null,
   "metadata": {},
   "outputs": [],
   "source": [
    "!git diff HEAD metasearch_analysis.py"
   ]
  },
  {
   "cell_type": "markdown",
   "metadata": {},
   "source": [
    "{: .python}"
   ]
  },
  {
   "cell_type": "code",
   "execution_count": null,
   "metadata": {},
   "outputs": [],
   "source": [
    "output"
   ]
  },
  {
   "cell_type": "markdown",
   "metadata": {},
   "source": [
    "{: .output}\n",
    "\n",
    "We can look for difference between to previous revisions too:"
   ]
  },
  {
   "cell_type": "code",
   "execution_count": null,
   "metadata": {},
   "outputs": [],
   "source": [
    "!git diff HEAD~3 HEAD~2 metasearch_analysis.py"
   ]
  },
  {
   "cell_type": "markdown",
   "metadata": {},
   "source": [
    "{: .python}"
   ]
  },
  {
   "cell_type": "code",
   "execution_count": null,
   "metadata": {},
   "outputs": [],
   "source": [
    "output"
   ]
  },
  {
   "cell_type": "markdown",
   "metadata": {},
   "source": [
    "{: .output}\n",
    "\n",
    "\n",
    "We can also refer to commits using those long strings of digits and letters\n",
    "that `git log` displays. These are unique IDs for the changes, and \"unique\"\n",
    "really does mean unique: every change to any set of files on any computer has a\n",
    "unique 40-character identifier. Our first commit was given the ID\n",
    "XXX, so let's try this:"
   ]
  },
  {
   "cell_type": "code",
   "execution_count": null,
   "metadata": {},
   "outputs": [],
   "source": [
    "!git diff XXX "
   ]
  },
  {
   "cell_type": "markdown",
   "metadata": {},
   "source": [
    "{: .python}"
   ]
  },
  {
   "cell_type": "code",
   "execution_count": null,
   "metadata": {},
   "outputs": [],
   "source": [
    "output"
   ]
  },
  {
   "cell_type": "markdown",
   "metadata": {},
   "source": [
    "{: .output}\n",
    "\n",
    "That's the right answer, but typing out random 40-character strings is\n",
    "annoying, so Git lets us use just the first few characters:"
   ]
  },
  {
   "cell_type": "code",
   "execution_count": null,
   "metadata": {},
   "outputs": [],
   "source": [
    "!git diff X"
   ]
  },
  {
   "cell_type": "markdown",
   "metadata": {},
   "source": [
    "{: .bash}"
   ]
  },
  {
   "cell_type": "code",
   "execution_count": null,
   "metadata": {},
   "outputs": [],
   "source": [
    "output"
   ]
  },
  {
   "cell_type": "markdown",
   "metadata": {},
   "source": [
    "{: .output}\n",
    "\n",
    "Finally, a convenient way to search all versions of a file at once for a particular string is to use the `-p` flag for the `git log` command:"
   ]
  },
  {
   "cell_type": "code",
   "execution_count": null,
   "metadata": {},
   "outputs": [],
   "source": [
    "log = !git log -p\n",
    "[x for x in log if 'clone' in x]"
   ]
  },
  {
   "cell_type": "markdown",
   "metadata": {},
   "source": [
    "{: .python}"
   ]
  },
  {
   "cell_type": "code",
   "execution_count": null,
   "metadata": {},
   "outputs": [],
   "source": [
    "output"
   ]
  },
  {
   "cell_type": "markdown",
   "metadata": {},
   "source": [
    "{: .output}\n",
    "\n",
    "\n",
    "## Working with the history\n",
    "\n",
    "All right! So we can save changes to files and see what we've changed—now how\n",
    "can we restore older versions of things? Let's suppose we accidentally\n",
    "delete our file:"
   ]
  },
  {
   "cell_type": "code",
   "execution_count": null,
   "metadata": {},
   "outputs": [],
   "source": [
    "%save metasearch_analysis 15 # Type Y to confirm"
   ]
  },
  {
   "cell_type": "markdown",
   "metadata": {},
   "source": [
    "{: .python}\n",
    "\n",
    "`git status` now tells us that the file has been changed,\n",
    "but those changes haven't been staged:"
   ]
  },
  {
   "cell_type": "code",
   "execution_count": null,
   "metadata": {},
   "outputs": [],
   "source": [
    "!git status"
   ]
  },
  {
   "cell_type": "markdown",
   "metadata": {},
   "source": [
    "{: .python}"
   ]
  },
  {
   "cell_type": "code",
   "execution_count": null,
   "metadata": {},
   "outputs": [],
   "source": [
    "output"
   ]
  },
  {
   "cell_type": "markdown",
   "metadata": {},
   "source": [
    "{: .output}\n",
    "\n",
    "We can put things back the way they were by using `git checkout`:"
   ]
  },
  {
   "cell_type": "code",
   "execution_count": null,
   "metadata": {},
   "outputs": [],
   "source": [
    "!git checkout HEAD metasearch_analysis.py"
   ]
  },
  {
   "cell_type": "markdown",
   "metadata": {},
   "source": [
    "{: .python}\n",
    "\n",
    "As you might guess from its name, `git checkout` checks out (i.e., restores) an\n",
    "old version of a file. In this case, we're telling Git that we want to recover\n",
    "the version of the file recorded in `HEAD`, which is the last saved commit. If\n",
    "we want to go back even further, we can use a commit identifier instead:"
   ]
  },
  {
   "cell_type": "code",
   "execution_count": null,
   "metadata": {},
   "outputs": [],
   "source": [
    "$ git checkout HEAD~3 metasearch_analysis.py"
   ]
  },
  {
   "cell_type": "markdown",
   "metadata": {},
   "source": [
    "{: .python}\n",
    "\n",
    "> ## Don't Lose Your HEAD\n",
    "> \n",
    "> Above we used\n",
    "> \n",
    "> ~~~\n",
    "> $ git checkout HEAD~3 metasearch_analysis.py\n",
    "> ~~~\n",
    "> {: .python}\n",
    "> \n",
    "> to revert metasearch_analysis.py to its previous state. If you forget to\n",
    "> specify the file in that command, Git will tell you that \"You are in\n",
    "> 'detached HEAD' state.\" In this state, you shouldn't make any changes. You\n",
    "> can fix this by reattaching your head using ``git checkout master``\n",
    "{: .callout}\n",
    "\n",
    "It's important to remember that we must use the commit number that identifies\n",
    "the state of the repository *before* the change we're trying to undo. A common\n",
    "mistake is to use the number of the commit in which we made the change we're\n",
    "trying to get rid of. Git messages written in the imperative help with this. \n",
    "\n",
    "If we want to go back to a version of our file before we started working on a\n",
    "new feature that has not worked out and caused lots of bugs the commit message\n",
    "\"Start adding excellent new feature\" is probably the first one to avoid and we\n",
    "should jump one step further back in our history.\n",
    "\n",
    "\n",
    "So, to put it all together, here's how Git works in cartoon form:\n",
    "\n",
    "![http://figshare.com/articles/How_Git_works_a_cartoon/1328266](../fig/fig/git_staging.svg)\n",
    "\n",
    "## Other useful points to note\n",
    "\n",
    "* Remember to keep building up history's with the git lifecycle. When you\n",
    "  finally decide you really need to use git to recover some code of many months\n",
    "  ago you'll be grateful for your diligence then.\n",
    "* [Learngitbranching](http://learngitbranching.js.org) is a great place to learn more advanced manipulation in git.\n",
    "* Many editors have plugins to extend the functionality. Once you are\n",
    "  comfortable with the basics of Git, they can really improve the experience of\n",
    "  using git. Frequently the best way to use the more obscure commands is to go\n",
    "  back to the command line though. Many times the only straight-forward\n",
    "  solution is to a problem you are having is to type an incantation to Git at\n",
    "  the command line.\n",
    "\n",
    "\n",
    "\n",
    "> ## Simplifying the Common Case\n",
    ">\n",
    "> If you read the output of `git status` carefully,\n",
    "> you'll see that it includes this hint:\n",
    ">\n",
    "> ~~~\n",
    "> (use \"git checkout -- <file>...\" to discard changes in working directory)\n",
    "> ~~~\n",
    "> {: .bash}\n",
    ">\n",
    "> As it says,\n",
    "> `git checkout` without a version identifier restores files to the state saved in `HEAD`.\n",
    "> The double dash `--` is needed to separate the names of the files being recovered\n",
    "> from the command itself:\n",
    "> without it,\n",
    "> Git would try to use the name of the file as the commit identifier.\n",
    "{: .callout}\n",
    "\n",
    "The fact that files can be reverted one by one\n",
    "tends to change the way people organize their work.\n",
    "If everything is in one large document,\n",
    "it's hard (but not impossible) to undo changes to the introduction\n",
    "without also undoing changes made later to the conclusion.\n",
    "If the introduction and conclusion are stored in separate files,\n",
    "on the other hand,\n",
    "moving backward and forward in time becomes much easier.\n",
    "\n",
    "> ## Recovering Older Versions of a File\n",
    ">\n",
    "> Jennifer has made changes to the Python script that she has been working on for weeks, and the\n",
    "> modifications she made this morning \"broke\" the script and it no longer runs. She has spent\n",
    "> ~ 1hr trying to fix it, with no luck...\n",
    ">\n",
    "> Luckily, she has been keeping track of her project's versions using Git! Which commands below will\n",
    "> let her recover the last committed version of her Python script called\n",
    "> `data_cruncher.py`?\n",
    ">\n",
    "> 1. `$ git checkout HEAD`\n",
    ">\n",
    "> 2. `$ git checkout HEAD data_cruncher.py`\n",
    ">\n",
    "> 3. `$ git checkout HEAD~1 data_cruncher.py`\n",
    ">\n",
    "> 4. `$ git checkout <unique ID of last commit> data_cruncher.py`\n",
    ">\n",
    "> 5. Both 2 and 4\n",
    "{: .challenge}\n",
    "\n",
    "> ## Reverting a Commit\n",
    ">\n",
    "> Jennifer is collaborating on her Python script with her colleagues and\n",
    "> realises her last commit to the group repository is wrong and wants to\n",
    "> undo it.  Jennifer needs to undo correctly so everyone in the group\n",
    "> repository gets the correct change.  `git revert [wrong commit ID]`\n",
    "> will make a new commit that undoes Jennifer's previous wrong\n",
    "> commit. Therefore `git revert` is different than `git checkout [commit\n",
    "> ID]` because `checkout` is for local changes not committed to the\n",
    "> group repository.  Below are the right steps and explanations for\n",
    "> Jennifer to use `git revert`, what is the missing command?\n",
    ">\n",
    "> 1. ________ # Look at the git history of the project to find the commit ID\n",
    ">\n",
    "> 2. Copy the ID (the first few characters of the ID, e.g. 0b1d055).\n",
    ">\n",
    "> 3. `git revert [commit ID]`\n",
    ">\n",
    "> 4. Type in the new commit message.\n",
    ">\n",
    "> 5. Save and close\n",
    "{: .challenge}\n",
    "\n",
    "> ## Understanding Workflow and History\n",
    ">\n",
    "> What is the output of cat venus.txt at the end of this set of commands?\n",
    ">\n",
    "> ~~~\n",
    "> $ cd planets\n",
    "> $ nano venus.txt #input the following text: Venus is beautiful and full of love\n",
    "> $ git add venus.txt\n",
    "> $ nano venus.txt #add the following text: Venus is too hot to be suitable as a base\n",
    "> $ git commit -m \"comments on Venus as an unsuitable base\"\n",
    "> $ git checkout HEAD venus.txt\n",
    "> $ cat venus.txt #this will print the contents of venus.txt to the screen\n",
    "> ~~~\n",
    "> {: .bash}\n",
    ">\n",
    "> 1.\n",
    ">\n",
    "> ~~~\n",
    "> Venus is too hot to be suitable as a base\n",
    "> ~~~\n",
    "> {: .output}\n",
    ">\n",
    "> 2.\n",
    ">\n",
    "> ~~~\n",
    "> Venus is beautiful and full of love\n",
    "> ~~~\n",
    "> {: .output}\n",
    ">\n",
    "> 3.\n",
    ">\n",
    "> ~~~\n",
    "> Venus is beautiful and full of love\n",
    "> Venus is too hot to be suitable as a base\n",
    "> ~~~\n",
    "> {: .output}\n",
    ">\n",
    "> 4.\n",
    ">\n",
    "> ~~~\n",
    "> Error because you have changed venus.txt without committing the changes\n",
    "> ~~~\n",
    "> {: .output}\n",
    "{: .challenge}\n",
    "\n",
    "> ## Checking Understanding of `git diff`\n",
    ">\n",
    "> Consider this command: `git diff HEAD~3 mars.txt`. What do you predict this command\n",
    "> will do if you execute it? What happens when you do execute it? Why?\n",
    ">\n",
    "> Try another command, `git diff [ID] mars.txt`, where [ID] is replaced with\n",
    "> the unique identifier for your most recent commit. What do you think will happen,\n",
    "> and what does happen?\n",
    "{: .challenge}\n",
    "\n",
    "> ## Getting Rid of Staged Changes\n",
    ">\n",
    "> `git checkout` can be used to restore a previous commit when unstaged changes have\n",
    "> been made, but will it also work for changes that have been staged but not committed?\n",
    "> Make a change to `mars.txt`, add that change, and use `git checkout` to see if\n",
    "> you can remove your change.\n",
    "{: .challenge}\n",
    "\n",
    "> ## Explore and Summarize Histories\n",
    ">\n",
    "> Exploring history is an important part of git, often it is a challenge to find\n",
    "> the right commit ID, especially if the commit is from several months ago.\n",
    ">\n",
    "> Imaging the `planets` project has more than 50 files.\n",
    "> You would like to find a commit with specific text in `mars.txt` is modified.\n",
    "> When you type `git log`, a very long list appeared,\n",
    "> How can you narrow down the search?\n",
    ">\n",
    "> Recorded that the `git diff` command allow us to explore one specific file,\n",
    "> e.g. `git diff mars.txt`. We can apply the similar idea here.\n",
    ">\n",
    "> ~~~\n",
    "> $ git log mars.txt\n",
    "> ~~~\n",
    "> {: .bash}\n",
    ">\n",
    "> Unfortunately some of these commit messages are very ambiguous e.g. `update files`.\n",
    "> How can you search through these files?\n",
    ">\n",
    "> Both `git diff` and `git log` are very useful and they summarize different part of the history for you.\n",
    "> Is that possible to combine both? Let's try the following:\n",
    ">\n",
    "> ~~~\n",
    "> $ git log --patch mars.txt\n",
    "> ~~~\n",
    "> {: .bash}\n",
    ">\n",
    "> You should get a long list of output, and you should be able to see both commit messages and the difference between each commit.\n",
    ">\n",
    "> Question: What does the following command do?\n",
    ">\n",
    "> ~~~\n",
    "> $ git log --patch HEAD~3 HEAD~1 *.txt\n",
    "> ~~~\n",
    "> {: .bash}\n",
    "{: .challenge}"
   ]
  }
 ],
 "metadata": {},
 "nbformat": 4,
 "nbformat_minor": 2
}
