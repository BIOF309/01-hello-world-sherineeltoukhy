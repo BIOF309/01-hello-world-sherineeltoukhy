{
 "cells": [
  {
   "cell_type": "markdown",
   "metadata": {
    "button": false,
    "deletable": true,
    "new_sheet": false,
    "run_control": {
     "read_only": false
    },
    "slideshow": {
     "slide_type": "slide"
    }
   },
   "source": [
    "# Biopython - Additional Examples\n",
    "---\n",
    "### R. Burke Squires\n",
    "### NIAID Bioinformatics & Computational Biosciences Branch"
   ]
  },
  {
   "cell_type": "markdown",
   "metadata": {
    "button": false,
    "deletable": true,
    "new_sheet": false,
    "run_control": {
     "read_only": false
    }
   },
   "source": [
    "---"
   ]
  },
  {
   "cell_type": "markdown",
   "metadata": {
    "button": false,
    "deletable": true,
    "new_sheet": false,
    "run_control": {
     "read_only": false
    }
   },
   "source": [
    "#### What's New\n",
    "\n",
    "https://raw.githubusercontent.com/biopython/biopython/master/NEWS"
   ]
  },
  {
   "cell_type": "markdown",
   "metadata": {
    "button": false,
    "deletable": true,
    "new_sheet": false,
    "run_control": {
     "read_only": false
    }
   },
   "source": [
    "Searching in PubMed:"
   ]
  },
  {
   "cell_type": "code",
   "execution_count": 4,
   "metadata": {
    "button": false,
    "collapsed": false,
    "deletable": true,
    "new_sheet": false,
    "run_control": {
     "read_only": false
    },
    "slideshow": {
     "slide_type": "slide"
    }
   },
   "outputs": [
    {
     "name": "stdout",
     "output_type": "stream",
     "text": [
      "Getting 3 publications containing Tuberculosis...\n",
      "Total number of publications containing Tuberculosis: 234450\n",
      "\n",
      "title: Secretory Proteome Analysis of Streptomycin-Resistant Mycobacterium tuberculosis Clinical Isolates.\n",
      "authors: ['Sharma D', 'Bisht D']\n",
      "source: SLAS Discov. 2017 Mar 1:2472555217698428. doi: 10.1177/2472555217698428.\n",
      "\n",
      "title: Fragment-sized EthR inhibitors exhibit exceptionally strong ethionamide boosting effect in whole cell Mycobacterium tuberculosis assays.\n",
      "authors: ['Nikiforov PO', 'Blaszczyk M', 'Surade S', 'Boshoff HI', 'Sajid A', 'Delorme V', 'Deboosere N', 'Brodin P', 'Baulard AR', 'Barry Rd CE', 'Blundell TL', 'Abell C']\n",
      "source: ACS Chem Biol. 2017 Mar 17. doi: 10.1021/acschembio.7b00091.\n",
      "\n",
      "title: Lactococcus lactis carrying a DNA vaccine coding for the ESAT-6 antigen increases IL-17 cytokine secretion and boosts the BCG vaccine immune response.\n",
      "authors: ['Pereira VB', 'da Cunha VP', 'Preisser TM', 'Souza BM', 'Zurita Turk M', 'De Castro CP', 'Azevedo MS', 'Miyoshi A']\n",
      "source: J Appl Microbiol. 2017 Mar 17. doi: 10.1111/jam.13449.\n",
      "\n"
     ]
    }
   ],
   "source": [
    "from Bio import Entrez\n",
    "from Bio import Medline\n",
    "\n",
    "MAX_COUNT = 3\n",
    "TERM = 'Tuberculosis'\n",
    "\n",
    "print('Getting {0} publications containing {1}...'.format(MAX_COUNT, TERM))\n",
    "Entrez.email = 'A.N.Other@example.com'\n",
    "h = Entrez.esearch(db='pubmed', retmax=MAX_COUNT, term=TERM)\n",
    "result = Entrez.read(h)\n",
    "print('Total number of publications containing {0}: {1}'.format(TERM, result['Count']))\n",
    "\n",
    "ids = result['IdList']\n",
    "h = Entrez.efetch(db='pubmed', id=ids, rettype='medline', retmode='text')\n",
    "records = Medline.parse(h)\n",
    "print()\n",
    "handle = Entrez.efetch(db=\"pubmed\", id=ids, rettype=\"medline\", retmode=\"text\")\n",
    "records = Medline.parse(handle)\n",
    "\n",
    "for record in records:\n",
    "    print(\"title:\", record.get(\"TI\", \"?\"))\n",
    "    print(\"authors:\", record.get(\"AU\", \"?\"))\n",
    "    print(\"source:\", record.get(\"SO\", \"?\"))\n",
    "    print()"
   ]
  },
  {
   "cell_type": "code",
   "execution_count": null,
   "metadata": {
    "button": false,
    "collapsed": false,
    "deletable": true,
    "new_sheet": false,
    "run_control": {
     "read_only": false
    }
   },
   "outputs": [],
   "source": [
    "I have also used these other modeils with great success:\n",
    "    \n",
    "    "
   ]
  },
  {
   "cell_type": "markdown",
   "metadata": {
    "button": false,
    "deletable": true,
    "new_sheet": false,
    "run_control": {
     "read_only": false
    },
    "slideshow": {
     "slide_type": "slide"
    }
   },
   "source": [
    "## Additional Resources"
   ]
  },
  {
   "cell_type": "markdown",
   "metadata": {
    "button": false,
    "deletable": true,
    "new_sheet": false,
    "run_control": {
     "read_only": false
    },
    "slideshow": {
     "slide_type": "slide"
    }
   },
   "source": [
    "# EMBOSS\n",
    "1. European Molecular Biology Open Source Suite\n",
    "\n",
    "    A.http://emboss.sourceforge.net\n",
    "\n",
    "2.Command line programs to accomplish many bioinformatics tasks\n",
    "\n",
    "3.Try out on [Helix](http://www.bioinformatics.nl/emboss-explorer/)\n",
    "\n",
    "4.Biopython supports through [Bio.EMBOSS](http://Biopython.org/DIST/docs/api/Bio.Emboss-module.html)\n"
   ]
  },
  {
   "cell_type": "code",
   "execution_count": null,
   "metadata": {
    "button": false,
    "collapsed": false,
    "deletable": true,
    "new_sheet": false,
    "run_control": {
     "read_only": false
    }
   },
   "outputs": [],
   "source": [
    "from Bio.Emboss.Applications import WaterCommandline\n",
    "water_cmd = WaterCommandline(gapopen=10, gapextend=0.5)\n",
    "water_cmd.asequence = \"asis:ACCCGGGCGCGGT\"\n",
    "water_cmd.bsequence = \"asis:ACCCGAGCGCGGT\"\n",
    "water_cmd.outfile = \"temp_water.txt\"\n",
    "print(water_cmd)\n",
    "stdout, stderr = water_cmd()"
   ]
  },
  {
   "cell_type": "code",
   "execution_count": null,
   "metadata": {
    "button": false,
    "collapsed": true,
    "deletable": true,
    "new_sheet": false,
    "run_control": {
     "read_only": false
    }
   },
   "outputs": [],
   "source": [
    "# %load temp_water.txt\n",
    "########################################\n",
    "# Program: water\n",
    "# Rundate: Fri 13 Nov 2015 10:58:49\n",
    "# Commandline: water\n",
    "#    -outfile temp_water.txt\n",
    "#    -asequence asis:ACCCGGGCGCGGT\n",
    "#    -bsequence asis:ACCCGAGCGCGGT\n",
    "#    -gapopen 10\n",
    "#    -gapextend 0.5\n",
    "# Align_format: srspair\n",
    "# Report_file: temp_water.txt\n",
    "########################################\n",
    "\n",
    "#=======================================\n",
    "#\n",
    "# Aligned_sequences: 2\n",
    "# 1: asis\n",
    "# 2: asis\n",
    "# Matrix: EDNAFULL\n",
    "# Gap_penalty: 10.0\n",
    "# Extend_penalty: 0.5\n",
    "#\n",
    "# Length: 13\n",
    "# Identity:      12/13 (92.3%)\n",
    "# Similarity:    12/13 (92.3%)\n",
    "# Gaps:           0/13 ( 0.0%)\n",
    "# Score: 56.0\n",
    "# \n",
    "#\n",
    "#=======================================\n",
    "\n",
    "asis               1 ACCCGGGCGCGGT     13\n",
    "                     |||||.|||||||\n",
    "asis               1 ACCCGAGCGCGGT     13\n",
    "\n",
    "\n",
    "#---------------------------------------\n",
    "#---------------------------------------\n"
   ]
  },
  {
   "cell_type": "markdown",
   "metadata": {
    "button": false,
    "deletable": true,
    "new_sheet": false,
    "run_control": {
     "read_only": false
    },
    "slideshow": {
     "slide_type": "slide"
    }
   },
   "source": [
    "## Q & A\n",
    "\n",
    "Collaborations welcome\n",
    "\n",
    "richard.squires ~at~ nih.gov\n",
    "\n",
    "ScienceApps ~at~ niaid.nih.gov\n"
   ]
  },
  {
   "cell_type": "code",
   "execution_count": null,
   "metadata": {
    "button": false,
    "collapsed": true,
    "deletable": true,
    "new_sheet": false,
    "run_control": {
     "read_only": false
    }
   },
   "outputs": [],
   "source": []
  }
 ],
 "metadata": {
  "anaconda-cloud": {},
  "kernelspec": {
   "display_name": "Python 3",
   "language": "python",
   "name": "python3"
  },
  "language_info": {
   "codemirror_mode": {
    "name": "ipython",
    "version": 3
   },
   "file_extension": ".py",
   "mimetype": "text/x-python",
   "name": "python",
   "nbconvert_exporter": "python",
   "pygments_lexer": "ipython3",
   "version": "3.6.0"
  }
 },
 "nbformat": 4,
 "nbformat_minor": 1
}
