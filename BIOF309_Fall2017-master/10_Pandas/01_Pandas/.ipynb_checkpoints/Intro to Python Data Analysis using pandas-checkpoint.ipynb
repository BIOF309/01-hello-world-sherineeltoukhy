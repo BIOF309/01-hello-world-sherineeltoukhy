{
 "cells": [
  {
   "cell_type": "markdown",
   "metadata": {
    "button": false,
    "deletable": true,
    "editable": true,
    "new_sheet": false,
    "run_control": {
     "read_only": false
    }
   },
   "source": [
    "# Introduction to Python Data Analysis using pandas\n",
    "---\n",
    "## R. Burke Squires"
   ]
  },
  {
   "cell_type": "markdown",
   "metadata": {
    "button": false,
    "deletable": true,
    "editable": true,
    "new_sheet": false,
    "run_control": {
     "read_only": false
    }
   },
   "source": [
    "---"
   ]
  },
  {
   "cell_type": "markdown",
   "metadata": {
    "button": false,
    "deletable": true,
    "editable": true,
    "new_sheet": false,
    "run_control": {
     "read_only": false
    }
   },
   "source": [
    "# Outline:"
   ]
  },
  {
   "cell_type": "markdown",
   "metadata": {
    "button": false,
    "deletable": true,
    "editable": true,
    "new_sheet": false,
    "run_control": {
     "read_only": false
    }
   },
   "source": [
    "- Numpy\n",
    "- Pandas\n",
    "    - Importing Data\n",
    "    - Removing missing values\n",
    "    - Fun with Columns\n",
    "    - Filtering\n",
    "    - Grouping\n",
    "    - Plotting\n",
    "    - Getting data out\n",
    "    - Reading and writing to Excel"
   ]
  },
  {
   "cell_type": "markdown",
   "metadata": {
    "button": false,
    "deletable": true,
    "editable": true,
    "new_sheet": false,
    "run_control": {
     "read_only": false
    }
   },
   "source": [
    "---"
   ]
  },
  {
   "cell_type": "markdown",
   "metadata": {
    "button": false,
    "deletable": true,
    "editable": true,
    "new_sheet": false,
    "run_control": {
     "read_only": false
    },
    "slideshow": {
     "slide_type": "slide"
    }
   },
   "source": [
    "[Numpy](http://numpy.scipy.org/) is the fundamental library for scientific computing in Python. It contains list like objects that work like arrays, matrices, and data tables. This is how scientists typically expect data to behave. Numpy also provides linear algebra, Fourier transforms, random number generation, and tools for integrating C/C++ and Fortran code.\n",
    "\n",
    "[Matplotlib](http://matplotlib.org/) is the reigning library for 2D (with budding support for 3D) scientific plotting in Python. It produces publication quality figures in a variety of hardcopy formats and interactive environments across platforms.  Between Numpy and Matplotlib, much of MATLAB's functionality can be replaced with Python.\n",
    "\n",
    "If you primarily want to work with tables of data, [Pandas](pandas), which depends on Numpy, is probably the module that you want to start with.\n",
    "\n",
    "Source: Software Carpentry, http://software-carpentry.org"
   ]
  },
  {
   "cell_type": "markdown",
   "metadata": {
    "button": false,
    "deletable": true,
    "editable": true,
    "new_sheet": false,
    "run_control": {
     "read_only": false
    }
   },
   "source": [
    "## Why Numpy?"
   ]
  },
  {
   "cell_type": "markdown",
   "metadata": {
    "button": false,
    "deletable": true,
    "editable": true,
    "new_sheet": false,
    "run_control": {
     "read_only": false
    },
    "slideshow": {
     "slide_type": "slide"
    }
   },
   "source": [
    "Python was never designed originally for scientific computing, and contains many high-level abstractions necessary to enable its enormously flexible object-oriented interface.  In Python, storing most integers requires more than just 4-8 bytes.  It also requires at least a couple pointers per-integer.  Performing a calculation on two numbers requires one or two bytecode operations, each of which can take dozens of CPU instructions for each pass through the Python eval loop.  And when it comes to looping and index operations of Python lists the situation is even more dire.\n",
    "\n",
    "### A basic example\n",
    "\n",
    "`Z = A + B * C`\n",
    "\n"
   ]
  },
  {
   "cell_type": "markdown",
   "metadata": {
    "button": false,
    "deletable": true,
    "editable": true,
    "new_sheet": false,
    "run_control": {
     "read_only": false
    }
   },
   "source": [
    "### Using pure Python:"
   ]
  },
  {
   "cell_type": "code",
   "execution_count": 1,
   "metadata": {
    "button": false,
    "collapsed": false,
    "deletable": true,
    "editable": true,
    "new_sheet": false,
    "run_control": {
     "read_only": false
    },
    "slideshow": {
     "slide_type": "fragment"
    }
   },
   "outputs": [],
   "source": [
    "# Create 3 lists of a million ints\n",
    "A = range(1000000)\n",
    "B = range(1000000)\n",
    "C = range(1000000)"
   ]
  },
  {
   "cell_type": "code",
   "execution_count": 2,
   "metadata": {
    "button": false,
    "collapsed": false,
    "deletable": true,
    "editable": true,
    "new_sheet": false,
    "run_control": {
     "read_only": false
    },
    "slideshow": {
     "slide_type": "fragment"
    }
   },
   "outputs": [
    {
     "name": "stdout",
     "output_type": "stream",
     "text": [
      "Took 0.757086992263794 seconds\n"
     ]
    }
   ],
   "source": [
    "# Time doing the operation with a for loop\n",
    "import time\n",
    "\n",
    "start_time = time.time()\n",
    "\n",
    "Z = []\n",
    "for idx in range(len(A)):\n",
    "    Z.append(A[idx] + B[idx] * C[idx])\n",
    "    \n",
    "print('Took', time.time() - start_time, 'seconds')\n",
    "    \n",
    "# print Z  # DON'T DO THIS!  It will print all 10000 array items"
   ]
  },
  {
   "cell_type": "markdown",
   "metadata": {
    "button": false,
    "deletable": true,
    "editable": true,
    "new_sheet": false,
    "run_control": {
     "read_only": false
    }
   },
   "source": [
    "### Using Numpy:"
   ]
  },
  {
   "cell_type": "code",
   "execution_count": 3,
   "metadata": {
    "button": false,
    "collapsed": false,
    "deletable": true,
    "editable": true,
    "new_sheet": false,
    "run_control": {
     "read_only": false
    },
    "slideshow": {
     "slide_type": "fragment"
    }
   },
   "outputs": [],
   "source": [
    "# Create 3 Numpy arrays with a million ints\n",
    "\n",
    "import numpy as np\n",
    "\n",
    "A = np.arange(1000000)\n",
    "B = np.arange(1000000)\n",
    "C = np.arange(1000000)"
   ]
  },
  {
   "cell_type": "code",
   "execution_count": 4,
   "metadata": {
    "button": false,
    "collapsed": false,
    "deletable": true,
    "editable": true,
    "new_sheet": false,
    "run_control": {
     "read_only": false
    },
    "slideshow": {
     "slide_type": "fragment"
    }
   },
   "outputs": [
    {
     "name": "stdout",
     "output_type": "stream",
     "text": [
      "Took 0.0299990177154541 seconds\n"
     ]
    }
   ],
   "source": [
    "# Time the operation with Numpy\n",
    "start_time = time.time()\n",
    "\n",
    "Z = A + B * C\n",
    "\n",
    "print('Took', time.time() - start_time, 'seconds')"
   ]
  },
  {
   "cell_type": "code",
   "execution_count": 5,
   "metadata": {
    "button": false,
    "collapsed": false,
    "deletable": true,
    "editable": true,
    "new_sheet": false,
    "run_control": {
     "read_only": false
    }
   },
   "outputs": [
    {
     "name": "stdout",
     "output_type": "stream",
     "text": [
      "Numpy is  22.312563638045273 times faster\n"
     ]
    }
   ],
   "source": [
    "print('Numpy is ', 0.402293920517  / 0.0180299282074 , 'times faster')"
   ]
  },
  {
   "cell_type": "code",
   "execution_count": 6,
   "metadata": {
    "button": false,
    "collapsed": false,
    "deletable": true,
    "editable": true,
    "new_sheet": false,
    "run_control": {
     "read_only": false
    }
   },
   "outputs": [
    {
     "name": "stdout",
     "output_type": "stream",
     "text": [
      "[           0            2            6 ..., 999995000006 999997000002\n",
      " 999999000000]\n"
     ]
    }
   ],
   "source": [
    "# Print the result\n",
    "\n",
    "Z = A + B * C\n",
    "\n",
    "print(Z)"
   ]
  },
  {
   "cell_type": "markdown",
   "metadata": {
    "button": false,
    "deletable": true,
    "editable": true,
    "new_sheet": false,
    "run_control": {
     "read_only": false
    }
   },
   "source": [
    "In addition to just *looking* simpler, the Numpy version is significantly faster. The for loop disappears completely and is replaced by vectorized array operations."
   ]
  },
  {
   "cell_type": "markdown",
   "metadata": {
    "button": false,
    "deletable": true,
    "editable": true,
    "new_sheet": false,
    "run_control": {
     "read_only": false
    }
   },
   "source": [
    "### Memory Usage:\n",
    "\n",
    "3 x 1000000 lists of Python ints: **96 MB**\n",
    "\n",
    "3 x 1000000 Numpy arrays of 64-bit ints: **32 MB**"
   ]
  },
  {
   "cell_type": "markdown",
   "metadata": {
    "button": false,
    "deletable": true,
    "editable": true,
    "new_sheet": false,
    "run_control": {
     "read_only": false
    }
   },
   "source": [
    "## Numpy and Matplotlib"
   ]
  },
  {
   "cell_type": "code",
   "execution_count": 7,
   "metadata": {
    "button": false,
    "collapsed": false,
    "deletable": true,
    "editable": true,
    "new_sheet": false,
    "run_control": {
     "read_only": false
    }
   },
   "outputs": [
    {
     "name": "stdout",
     "output_type": "stream",
     "text": [
      "Populating the interactive namespace from numpy and matplotlib\n"
     ]
    },
    {
     "data": {
      "image/png": "[encoded data removed]",
      "text/plain": [
       "<matplotlib.figure.Figure at 0x1098ef400>"
      ]
     },
     "metadata": {},
     "output_type": "display_data"
    }
   ],
   "source": [
    "%pylab inline\n",
    "import numpy as np\n",
    "\n",
    "ax = subplot(111)\n",
    "x = np.arange(0.0, 5.0, 0.01)\n",
    "y = np.cos(x * np.pi)\n",
    "lines, = plot(x, y, lw=3)\n",
    "ylim(-1.5, 1.5)\n",
    "show()"
   ]
  },
  {
   "cell_type": "markdown",
   "metadata": {
    "button": false,
    "deletable": true,
    "editable": true,
    "new_sheet": false,
    "run_control": {
     "read_only": false
    }
   },
   "source": [
    "Unlike Python lists, __NumPy arrays are homogeneous: all values must have exactly the same type.__ This allows values to be packed together, which saves memory and is much faster to process.\n",
    "\n",
    "If we give NumPy initial values of different types, it finds the most general type and stores all the values in the array using that type. For example, if we construct an array from an integer and a float, the array's values are both floats.\n",
    "\n",
    "__Note:__ Axis 0 and 1 are shown below."
   ]
  },
  {
   "cell_type": "markdown",
   "metadata": {
    "button": false,
    "deletable": true,
    "editable": true,
    "new_sheet": false,
    "run_control": {
     "read_only": false
    }
   },
   "source": [
    "<img src=\"files/img/python-operations-across-axes.svg\" alt=\"Operations Across Axes\" />"
   ]
  },
  {
   "cell_type": "markdown",
   "metadata": {
    "button": false,
    "deletable": true,
    "editable": true,
    "new_sheet": false,
    "run_control": {
     "read_only": false
    }
   },
   "source": [
    "# An Introduction to Pandas\n",
    "\n",
    "** Presentation originally developed by Michael Hansen, modified slightly by Jeff Shelton **\n",
    "\n",
    "**pandas** is a Python package providing fast, flexible, and expressive data structures designed to work with *relational* or *labeled* data both. It is a fundamental high-level building block for doing practical, real world data analysis in Python. \n",
    "\n",
    "pandas is well suited for:\n",
    "\n",
    "- Tabular data with heterogeneously-typed columns, as in an SQL table or Excel spreadsheet\n",
    "- Ordered and unordered (not necessarily fixed-frequency) time series data.\n",
    "- Arbitrary matrix data (homogeneously typed or heterogeneous) with row and column labels\n",
    "- Any other form of observational / statistical data sets. The data actually need not be labeled at all to be placed into a pandas data structure\n",
    "\n",
    "\n",
    "Key features:\n",
    "    \n",
    "- Easy handling of **missing data**\n",
    "- **Size mutability**: columns can be inserted and deleted from DataFrame and higher dimensional objects\n",
    "- Automatic and explicit **data alignment**: objects can be explicitly aligned to a set of labels, or the data can be aligned automatically\n",
    "- Powerful, flexible **group by functionality** to perform split-apply-combine operations on data sets\n",
    "- Intelligent label-based **slicing, fancy indexing, and subsetting** of large data sets\n",
    "- Intuitive **merging and joining** data sets\n",
    "- Flexible **reshaping and pivoting** of data sets\n",
    "- **Hierarchical labeling** of axes\n",
    "- Robust **IO tools** for loading data from flat files, Excel files, databases, and HDF5\n",
    "- **Time series functionality**: date range generation and frequency conversion, moving window statistics, moving window linear regressions, date shifting and lagging, etc."
   ]
  },
  {
   "cell_type": "markdown",
   "metadata": {
    "button": false,
    "deletable": true,
    "editable": true,
    "new_sheet": false,
    "run_control": {
     "read_only": false
    }
   },
   "source": [
    "When dealing with numeric matrices and vectors in Python, [NumPy](http://www.numpy.org/) makes life a lot easier.\n",
    "For more complex data, however, it leaves a lot to be desired.\n",
    "If you're used to working with [data frames in R](http://www.r-tutor.com/r-introduction/data-frame), doing data analysis directly with NumPy feels like a step back.\n",
    "\n",
    "Fortunately, some nice folks have written the [Python Data Analysis Library](http://pandas.pydata.org/) (a.k.a. pandas).\n",
    "Pandas provides an R-like `DataFrame`, produces high quality plots with [matplotlib](http://matplotlib.org/), and integrates nicely with other libraries that expect NumPy arrays.\n",
    "\n",
    "In this tutorial, we'll go through the basics of pandas using a year's worth of weather data from [Weather Underground](http://www.wunderground.com/).\n",
    "Pandas has a **lot** of functionality, so we'll only be able to cover a small fraction of what you can do.\n",
    "Check out the (very readable) [pandas docs](http://pandas.pydata.org/pandas-docs/stable/) if you want to learn more."
   ]
  },
  {
   "cell_type": "code",
   "execution_count": 8,
   "metadata": {
    "button": false,
    "collapsed": false,
    "deletable": true,
    "editable": true,
    "new_sheet": false,
    "run_control": {
     "read_only": false
    }
   },
   "outputs": [
    {
     "data": {
      "text/html": [
       "<iframe src=http://pandas.pydata.org width=800 height=350></iframe>"
      ],
      "text/plain": [
       "<IPython.core.display.HTML object>"
      ]
     },
     "execution_count": 8,
     "metadata": {},
     "output_type": "execute_result"
    }
   ],
   "source": [
    "from IPython.core.display import HTML\n",
    "HTML(\"<iframe src=http://pandas.pydata.org width=800 height=350></iframe>\")"
   ]
  },
  {
   "cell_type": "markdown",
   "metadata": {
    "button": false,
    "deletable": true,
    "editable": true,
    "new_sheet": false,
    "run_control": {
     "read_only": false
    }
   },
   "source": [
    "## Getting Started"
   ]
  },
  {
   "cell_type": "markdown",
   "metadata": {
    "button": false,
    "deletable": true,
    "editable": true,
    "new_sheet": false,
    "run_control": {
     "read_only": false
    }
   },
   "source": [
    "OK, let's get started by importing the pandas library."
   ]
  },
  {
   "cell_type": "code",
   "execution_count": 9,
   "metadata": {
    "button": false,
    "collapsed": false,
    "deletable": true,
    "editable": true,
    "new_sheet": false,
    "run_control": {
     "read_only": false
    }
   },
   "outputs": [
    {
     "name": "stderr",
     "output_type": "stream",
     "text": [
      "//anaconda/lib/python3.4/importlib/_bootstrap.py:321: UserWarning: Module argparse was already imported from //anaconda/lib/python3.4/argparse.py, but /anaconda/lib/python3.4/site-packages is being added to sys.path\n",
      "  return f(*args, **kwds)\n"
     ]
    }
   ],
   "source": [
    "import pandas"
   ]
  },
  {
   "cell_type": "markdown",
   "metadata": {
    "button": false,
    "deletable": true,
    "editable": true,
    "new_sheet": false,
    "run_control": {
     "read_only": false
    }
   },
   "source": [
    "Next, let's read in [our data](data/weather_year.csv).\n",
    "Because it's in a CSV file, we can use pandas' `read_csv` function to pull it directly into a [DataFrame](http://pandas.pydata.org/pandas-docs/stable/dsintro.html#dataframe)."
   ]
  },
  {
   "cell_type": "code",
   "execution_count": 10,
   "metadata": {
    "button": false,
    "collapsed": true,
    "deletable": true,
    "editable": true,
    "new_sheet": false,
    "run_control": {
     "read_only": false
    }
   },
   "outputs": [],
   "source": [
    "data = pandas.read_csv(\"data/weather_year.csv\")"
   ]
  },
  {
   "cell_type": "markdown",
   "metadata": {
    "button": false,
    "deletable": true,
    "editable": true,
    "new_sheet": false,
    "run_control": {
     "read_only": false
    }
   },
   "source": [
    "We can get a summary of the DataFrame by asking for some information:"
   ]
  },
  {
   "cell_type": "code",
   "execution_count": 11,
   "metadata": {
    "button": false,
    "collapsed": false,
    "deletable": true,
    "editable": true,
    "new_sheet": false,
    "run_control": {
     "read_only": false
    }
   },
   "outputs": [
    {
     "name": "stdout",
     "output_type": "stream",
     "text": [
      "<class 'pandas.core.frame.DataFrame'>\n",
      "Int64Index: 366 entries, 0 to 365\n",
      "Data columns (total 23 columns):\n",
      "EDT                           366 non-null object\n",
      "Max TemperatureF              366 non-null int64\n",
      "Mean TemperatureF             366 non-null int64\n",
      "Min TemperatureF              366 non-null int64\n",
      "Max Dew PointF                366 non-null int64\n",
      "MeanDew PointF                366 non-null int64\n",
      "Min DewpointF                 366 non-null int64\n",
      "Max Humidity                  366 non-null int64\n",
      " Mean Humidity                366 non-null int64\n",
      " Min Humidity                 366 non-null int64\n",
      " Max Sea Level PressureIn     366 non-null float64\n",
      " Mean Sea Level PressureIn    366 non-null float64\n",
      " Min Sea Level PressureIn     366 non-null float64\n",
      " Max VisibilityMiles          366 non-null int64\n",
      " Mean VisibilityMiles         366 non-null int64\n",
      " Min VisibilityMiles          366 non-null int64\n",
      " Max Wind SpeedMPH            366 non-null int64\n",
      " Mean Wind SpeedMPH           366 non-null int64\n",
      " Max Gust SpeedMPH            365 non-null float64\n",
      "PrecipitationIn               366 non-null object\n",
      " CloudCover                   366 non-null int64\n",
      " Events                       162 non-null object\n",
      " WindDirDegrees               366 non-null int64\n",
      "dtypes: float64(4), int64(16), object(3)\n",
      "memory usage: 68.6+ KB\n"
     ]
    }
   ],
   "source": [
    "data.info()"
   ]
  },
  {
   "cell_type": "markdown",
   "metadata": {
    "button": false,
    "deletable": true,
    "editable": true,
    "new_sheet": false,
    "run_control": {
     "read_only": false
    }
   },
   "source": [
    "This gives us a lot of insight. First, we can see that there are 366 rows (entries) -- a year and a day's worth of weather. Each column is printed along with however many \"non-null\" values are present.\n",
    "We'll talk more about [null (or missing) values in pandas](http://pandas.pydata.org/pandas-docs/stable/missing_data.html) later, but for now we can note that only the \"Max Gust SpeedMPH\" and \"Events\" columns have fewer than 366 non-null values.\n",
    "Lastly, the data types (dtypes) of the columns are printed at the very bottom. We can see that there are 4 `float64`, 16 `int64`, and 3 `object` columns."
   ]
  },
  {
   "cell_type": "code",
   "execution_count": 12,
   "metadata": {
    "button": false,
    "collapsed": false,
    "deletable": true,
    "editable": true,
    "new_sheet": false,
    "run_control": {
     "read_only": false
    }
   },
   "outputs": [
    {
     "data": {
      "text/plain": [
       "366"
      ]
     },
     "execution_count": 12,
     "metadata": {},
     "output_type": "execute_result"
    }
   ],
   "source": [
    "len(data)"
   ]
  },
  {
   "cell_type": "markdown",
   "metadata": {
    "button": false,
    "deletable": true,
    "editable": true,
    "new_sheet": false,
    "run_control": {
     "read_only": false
    }
   },
   "source": [
    "Using `len` on a DataFrame will give you the number of rows. You can get the column names using the `columns` property."
   ]
  },
  {
   "cell_type": "code",
   "execution_count": 13,
   "metadata": {
    "button": false,
    "collapsed": false,
    "deletable": true,
    "editable": true,
    "new_sheet": false,
    "run_control": {
     "read_only": false
    }
   },
   "outputs": [
    {
     "data": {
      "text/plain": [
       "Index(['EDT', 'Max TemperatureF', 'Mean TemperatureF', 'Min TemperatureF',\n",
       "       'Max Dew PointF', 'MeanDew PointF', 'Min DewpointF', 'Max Humidity',\n",
       "       ' Mean Humidity', ' Min Humidity', ' Max Sea Level PressureIn',\n",
       "       ' Mean Sea Level PressureIn', ' Min Sea Level PressureIn',\n",
       "       ' Max VisibilityMiles', ' Mean VisibilityMiles', ' Min VisibilityMiles',\n",
       "       ' Max Wind SpeedMPH', ' Mean Wind SpeedMPH', ' Max Gust SpeedMPH',\n",
       "       'PrecipitationIn', ' CloudCover', ' Events', ' WindDirDegrees'],\n",
       "      dtype='object')"
      ]
     },
     "execution_count": 13,
     "metadata": {},
     "output_type": "execute_result"
    }
   ],
   "source": [
    "data.columns"
   ]
  },
  {
   "cell_type": "markdown",
   "metadata": {
    "button": false,
    "deletable": true,
    "editable": true,
    "new_sheet": false,
    "run_control": {
     "read_only": false
    }
   },
   "source": [
    "Columns can be accessed in two ways. The first is using the DataFrame like a dictionary with string keys:"
   ]
  },
  {
   "cell_type": "code",
   "execution_count": 14,
   "metadata": {
    "button": false,
    "collapsed": false,
    "deletable": true,
    "editable": true,
    "new_sheet": false,
    "run_control": {
     "read_only": false
    }
   },
   "outputs": [
    {
     "data": {
      "text/plain": [
       "0      2012-3-10\n",
       "1      2012-3-11\n",
       "2      2012-3-12\n",
       "3      2012-3-13\n",
       "4      2012-3-14\n",
       "5      2012-3-15\n",
       "6      2012-3-16\n",
       "7      2012-3-17\n",
       "8      2012-3-18\n",
       "9      2012-3-19\n",
       "10     2012-3-20\n",
       "11     2012-3-21\n",
       "12     2012-3-22\n",
       "13     2012-3-23\n",
       "14     2012-3-24\n",
       "15     2012-3-25\n",
       "16     2012-3-26\n",
       "17     2012-3-27\n",
       "18     2012-3-28\n",
       "19     2012-3-29\n",
       "20     2012-3-30\n",
       "21     2012-3-31\n",
       "22      2012-4-1\n",
       "23      2012-4-2\n",
       "24      2012-4-3\n",
       "25      2012-4-4\n",
       "26      2012-4-5\n",
       "27      2012-4-6\n",
       "28      2012-4-7\n",
       "29      2012-4-8\n",
       "         ...    \n",
       "336     2013-2-9\n",
       "337    2013-2-10\n",
       "338    2013-2-11\n",
       "339    2013-2-12\n",
       "340    2013-2-13\n",
       "341    2013-2-14\n",
       "342    2013-2-15\n",
       "343    2013-2-16\n",
       "344    2013-2-17\n",
       "345    2013-2-18\n",
       "346    2013-2-19\n",
       "347    2013-2-20\n",
       "348    2013-2-21\n",
       "349    2013-2-22\n",
       "350    2013-2-23\n",
       "351    2013-2-24\n",
       "352    2013-2-25\n",
       "353    2013-2-26\n",
       "354    2013-2-27\n",
       "355    2013-2-28\n",
       "356     2013-3-1\n",
       "357     2013-3-2\n",
       "358     2013-3-3\n",
       "359     2013-3-4\n",
       "360     2013-3-5\n",
       "361     2013-3-6\n",
       "362     2013-3-7\n",
       "363     2013-3-8\n",
       "364     2013-3-9\n",
       "365    2013-3-10\n",
       "Name: EDT, dtype: object"
      ]
     },
     "execution_count": 14,
     "metadata": {},
     "output_type": "execute_result"
    }
   ],
   "source": [
    "data[\"EDT\"]"
   ]
  },
  {
   "cell_type": "markdown",
   "metadata": {
    "button": false,
    "deletable": true,
    "editable": true,
    "new_sheet": false,
    "run_control": {
     "read_only": false
    }
   },
   "source": [
    "You can get multiple columns out at the same time by passing in a list of strings."
   ]
  },
  {
   "cell_type": "code",
   "execution_count": 15,
   "metadata": {
    "button": false,
    "collapsed": false,
    "deletable": true,
    "editable": true,
    "new_sheet": false,
    "run_control": {
     "read_only": false
    }
   },
   "outputs": [
    {
     "data": {
      "text/html": [
       "<div style=\"max-height:1000px;max-width:1500px;overflow:auto;\">\n",
       "<table border=\"1\" class=\"dataframe\">\n",
       "  <thead>\n",
       "    <tr style=\"text-align: right;\">\n",
       "      <th></th>\n",
       "      <th>EDT</th>\n",
       "      <th>Mean TemperatureF</th>\n",
       "    </tr>\n",
       "  </thead>\n",
       "  <tbody>\n",
       "    <tr>\n",
       "      <th>0</th>\n",
       "      <td>2012-3-10</td>\n",
       "      <td>40</td>\n",
       "    </tr>\n",
       "    <tr>\n",
       "      <th>1</th>\n",
       "      <td>2012-3-11</td>\n",
       "      <td>49</td>\n",
       "    </tr>\n",
       "    <tr>\n",
       "      <th>2</th>\n",
       "      <td>2012-3-12</td>\n",
       "      <td>62</td>\n",
       "    </tr>\n",
       "    <tr>\n",
       "      <th>3</th>\n",
       "      <td>2012-3-13</td>\n",
       "      <td>63</td>\n",
       "    </tr>\n",
       "    <tr>\n",
       "      <th>4</th>\n",
       "      <td>2012-3-14</td>\n",
       "      <td>62</td>\n",
       "    </tr>\n",
       "    <tr>\n",
       "      <th>5</th>\n",
       "      <td>2012-3-15</td>\n",
       "      <td>69</td>\n",
       "    </tr>\n",
       "    <tr>\n",
       "      <th>6</th>\n",
       "      <td>2012-3-16</td>\n",
       "      <td>64</td>\n",
       "    </tr>\n",
       "    <tr>\n",
       "      <th>7</th>\n",
       "      <td>2012-3-17</td>\n",
       "      <td>62</td>\n",
       "    </tr>\n",
       "    <tr>\n",
       "      <th>8</th>\n",
       "      <td>2012-3-18</td>\n",
       "      <td>70</td>\n",
       "    </tr>\n",
       "    <tr>\n",
       "      <th>9</th>\n",
       "      <td>2012-3-19</td>\n",
       "      <td>72</td>\n",
       "    </tr>\n",
       "    <tr>\n",
       "      <th>10</th>\n",
       "      <td>2012-3-20</td>\n",
       "      <td>71</td>\n",
       "    </tr>\n",
       "    <tr>\n",
       "      <th>11</th>\n",
       "      <td>2012-3-21</td>\n",
       "      <td>71</td>\n",
       "    </tr>\n",
       "    <tr>\n",
       "      <th>12</th>\n",
       "      <td>2012-3-22</td>\n",
       "      <td>69</td>\n",
       "    </tr>\n",
       "    <tr>\n",
       "      <th>13</th>\n",
       "      <td>2012-3-23</td>\n",
       "      <td>64</td>\n",
       "    </tr>\n",
       "    <tr>\n",
       "      <th>14</th>\n",
       "      <td>2012-3-24</td>\n",
       "      <td>56</td>\n",
       "    </tr>\n",
       "    <tr>\n",
       "      <th>15</th>\n",
       "      <td>2012-3-25</td>\n",
       "      <td>61</td>\n",
       "    </tr>\n",
       "    <tr>\n",
       "      <th>16</th>\n",
       "      <td>2012-3-26</td>\n",
       "      <td>54</td>\n",
       "    </tr>\n",
       "    <tr>\n",
       "      <th>17</th>\n",
       "      <td>2012-3-27</td>\n",
       "      <td>54</td>\n",
       "    </tr>\n",
       "    <tr>\n",
       "      <th>18</th>\n",
       "      <td>2012-3-28</td>\n",
       "      <td>64</td>\n",
       "    </tr>\n",
       "    <tr>\n",
       "      <th>19</th>\n",
       "      <td>2012-3-29</td>\n",
       "      <td>58</td>\n",
       "    </tr>\n",
       "    <tr>\n",
       "      <th>20</th>\n",
       "      <td>2012-3-30</td>\n",
       "      <td>66</td>\n",
       "    </tr>\n",
       "    <tr>\n",
       "      <th>21</th>\n",
       "      <td>2012-3-31</td>\n",
       "      <td>58</td>\n",
       "    </tr>\n",
       "    <tr>\n",
       "      <th>22</th>\n",
       "      <td>2012-4-1</td>\n",
       "      <td>64</td>\n",
       "    </tr>\n",
       "    <tr>\n",
       "      <th>23</th>\n",
       "      <td>2012-4-2</td>\n",
       "      <td>62</td>\n",
       "    </tr>\n",
       "    <tr>\n",
       "      <th>24</th>\n",
       "      <td>2012-4-3</td>\n",
       "      <td>69</td>\n",
       "    </tr>\n",
       "    <tr>\n",
       "      <th>25</th>\n",
       "      <td>2012-4-4</td>\n",
       "      <td>62</td>\n",
       "    </tr>\n",
       "    <tr>\n",
       "      <th>26</th>\n",
       "      <td>2012-4-5</td>\n",
       "      <td>53</td>\n",
       "    </tr>\n",
       "    <tr>\n",
       "      <th>27</th>\n",
       "      <td>2012-4-6</td>\n",
       "      <td>48</td>\n",
       "    </tr>\n",
       "    <tr>\n",
       "      <th>28</th>\n",
       "      <td>2012-4-7</td>\n",
       "      <td>50</td>\n",
       "    </tr>\n",
       "    <tr>\n",
       "      <th>29</th>\n",
       "      <td>2012-4-8</td>\n",
       "      <td>56</td>\n",
       "    </tr>\n",
       "    <tr>\n",
       "      <th>...</th>\n",
       "      <td>...</td>\n",
       "      <td>...</td>\n",
       "    </tr>\n",
       "    <tr>\n",
       "      <th>336</th>\n",
       "      <td>2013-2-9</td>\n",
       "      <td>33</td>\n",
       "    </tr>\n",
       "    <tr>\n",
       "      <th>337</th>\n",
       "      <td>2013-2-10</td>\n",
       "      <td>44</td>\n",
       "    </tr>\n",
       "    <tr>\n",
       "      <th>338</th>\n",
       "      <td>2013-2-11</td>\n",
       "      <td>45</td>\n",
       "    </tr>\n",
       "    <tr>\n",
       "      <th>339</th>\n",
       "      <td>2013-2-12</td>\n",
       "      <td>35</td>\n",
       "    </tr>\n",
       "    <tr>\n",
       "      <th>340</th>\n",
       "      <td>2013-2-13</td>\n",
       "      <td>37</td>\n",
       "    </tr>\n",
       "    <tr>\n",
       "      <th>341</th>\n",
       "      <td>2013-2-14</td>\n",
       "      <td>42</td>\n",
       "    </tr>\n",
       "    <tr>\n",
       "      <th>342</th>\n",
       "      <td>2013-2-15</td>\n",
       "      <td>30</td>\n",
       "    </tr>\n",
       "    <tr>\n",
       "      <th>343</th>\n",
       "      <td>2013-2-16</td>\n",
       "      <td>24</td>\n",
       "    </tr>\n",
       "    <tr>\n",
       "      <th>344</th>\n",
       "      <td>2013-2-17</td>\n",
       "      <td>24</td>\n",
       "    </tr>\n",
       "    <tr>\n",
       "      <th>345</th>\n",
       "      <td>2013-2-18</td>\n",
       "      <td>43</td>\n",
       "    </tr>\n",
       "    <tr>\n",
       "      <th>346</th>\n",
       "      <td>2013-2-19</td>\n",
       "      <td>35</td>\n",
       "    </tr>\n",
       "    <tr>\n",
       "      <th>347</th>\n",
       "      <td>2013-2-20</td>\n",
       "      <td>21</td>\n",
       "    </tr>\n",
       "    <tr>\n",
       "      <th>348</th>\n",
       "      <td>2013-2-21</td>\n",
       "      <td>24</td>\n",
       "    </tr>\n",
       "    <tr>\n",
       "      <th>349</th>\n",
       "      <td>2013-2-22</td>\n",
       "      <td>34</td>\n",
       "    </tr>\n",
       "    <tr>\n",
       "      <th>350</th>\n",
       "      <td>2013-2-23</td>\n",
       "      <td>31</td>\n",
       "    </tr>\n",
       "    <tr>\n",
       "      <th>351</th>\n",
       "      <td>2013-2-24</td>\n",
       "      <td>33</td>\n",
       "    </tr>\n",
       "    <tr>\n",
       "      <th>352</th>\n",
       "      <td>2013-2-25</td>\n",
       "      <td>36</td>\n",
       "    </tr>\n",
       "    <tr>\n",
       "      <th>353</th>\n",
       "      <td>2013-2-26</td>\n",
       "      <td>40</td>\n",
       "    </tr>\n",
       "    <tr>\n",
       "      <th>354</th>\n",
       "      <td>2013-2-27</td>\n",
       "      <td>36</td>\n",
       "    </tr>\n",
       "    <tr>\n",
       "      <th>355</th>\n",
       "      <td>2013-2-28</td>\n",
       "      <td>35</td>\n",
       "    </tr>\n",
       "    <tr>\n",
       "      <th>356</th>\n",
       "      <td>2013-3-1</td>\n",
       "      <td>34</td>\n",
       "    </tr>\n",
       "    <tr>\n",
       "      <th>357</th>\n",
       "      <td>2013-3-2</td>\n",
       "      <td>30</td>\n",
       "    </tr>\n",
       "    <tr>\n",
       "      <th>358</th>\n",
       "      <td>2013-3-3</td>\n",
       "      <td>28</td>\n",
       "    </tr>\n",
       "    <tr>\n",
       "      <th>359</th>\n",
       "      <td>2013-3-4</td>\n",
       "      <td>30</td>\n",
       "    </tr>\n",
       "    <tr>\n",
       "      <th>360</th>\n",
       "      <td>2013-3-5</td>\n",
       "      <td>35</td>\n",
       "    </tr>\n",
       "    <tr>\n",
       "      <th>361</th>\n",
       "      <td>2013-3-6</td>\n",
       "      <td>31</td>\n",
       "    </tr>\n",
       "    <tr>\n",
       "      <th>362</th>\n",
       "      <td>2013-3-7</td>\n",
       "      <td>32</td>\n",
       "    </tr>\n",
       "    <tr>\n",
       "      <th>363</th>\n",
       "      <td>2013-3-8</td>\n",
       "      <td>35</td>\n",
       "    </tr>\n",
       "    <tr>\n",
       "      <th>364</th>\n",
       "      <td>2013-3-9</td>\n",
       "      <td>45</td>\n",
       "    </tr>\n",
       "    <tr>\n",
       "      <th>365</th>\n",
       "      <td>2013-3-10</td>\n",
       "      <td>52</td>\n",
       "    </tr>\n",
       "  </tbody>\n",
       "</table>\n",
       "<p>366 rows × 2 columns</p>\n",
       "</div>"
      ],
      "text/plain": [
       "           EDT  Mean TemperatureF\n",
       "0    2012-3-10                 40\n",
       "1    2012-3-11                 49\n",
       "2    2012-3-12                 62\n",
       "3    2012-3-13                 63\n",
       "4    2012-3-14                 62\n",
       "5    2012-3-15                 69\n",
       "6    2012-3-16                 64\n",
       "7    2012-3-17                 62\n",
       "8    2012-3-18                 70\n",
       "9    2012-3-19                 72\n",
       "10   2012-3-20                 71\n",
       "11   2012-3-21                 71\n",
       "12   2012-3-22                 69\n",
       "13   2012-3-23                 64\n",
       "14   2012-3-24                 56\n",
       "15   2012-3-25                 61\n",
       "16   2012-3-26                 54\n",
       "17   2012-3-27                 54\n",
       "18   2012-3-28                 64\n",
       "19   2012-3-29                 58\n",
       "20   2012-3-30                 66\n",
       "21   2012-3-31                 58\n",
       "22    2012-4-1                 64\n",
       "23    2012-4-2                 62\n",
       "24    2012-4-3                 69\n",
       "25    2012-4-4                 62\n",
       "26    2012-4-5                 53\n",
       "27    2012-4-6                 48\n",
       "28    2012-4-7                 50\n",
       "29    2012-4-8                 56\n",
       "..         ...                ...\n",
       "336   2013-2-9                 33\n",
       "337  2013-2-10                 44\n",
       "338  2013-2-11                 45\n",
       "339  2013-2-12                 35\n",
       "340  2013-2-13                 37\n",
       "341  2013-2-14                 42\n",
       "342  2013-2-15                 30\n",
       "343  2013-2-16                 24\n",
       "344  2013-2-17                 24\n",
       "345  2013-2-18                 43\n",
       "346  2013-2-19                 35\n",
       "347  2013-2-20                 21\n",
       "348  2013-2-21                 24\n",
       "349  2013-2-22                 34\n",
       "350  2013-2-23                 31\n",
       "351  2013-2-24                 33\n",
       "352  2013-2-25                 36\n",
       "353  2013-2-26                 40\n",
       "354  2013-2-27                 36\n",
       "355  2013-2-28                 35\n",
       "356   2013-3-1                 34\n",
       "357   2013-3-2                 30\n",
       "358   2013-3-3                 28\n",
       "359   2013-3-4                 30\n",
       "360   2013-3-5                 35\n",
       "361   2013-3-6                 31\n",
       "362   2013-3-7                 32\n",
       "363   2013-3-8                 35\n",
       "364   2013-3-9                 45\n",
       "365  2013-3-10                 52\n",
       "\n",
       "[366 rows x 2 columns]"
      ]
     },
     "execution_count": 15,
     "metadata": {},
     "output_type": "execute_result"
    }
   ],
   "source": [
    "data[[\"EDT\", \"Mean TemperatureF\"]]"
   ]
  },
  {
   "cell_type": "markdown",
   "metadata": {
    "button": false,
    "deletable": true,
    "editable": true,
    "new_sheet": false,
    "run_control": {
     "read_only": false
    }
   },
   "source": [
    "The second way to access columns is using the dot syntax. This only works if your column name could also be a Python variable name (i.e., no spaces), and if it doesn't collide with another DataFrame property or function name (e.g., count, sum)."
   ]
  },
  {
   "cell_type": "code",
   "execution_count": 16,
   "metadata": {
    "button": false,
    "collapsed": false,
    "deletable": true,
    "editable": true,
    "new_sheet": false,
    "run_control": {
     "read_only": false
    }
   },
   "outputs": [
    {
     "data": {
      "text/plain": [
       "0      2012-3-10\n",
       "1      2012-3-11\n",
       "2      2012-3-12\n",
       "3      2012-3-13\n",
       "4      2012-3-14\n",
       "5      2012-3-15\n",
       "6      2012-3-16\n",
       "7      2012-3-17\n",
       "8      2012-3-18\n",
       "9      2012-3-19\n",
       "10     2012-3-20\n",
       "11     2012-3-21\n",
       "12     2012-3-22\n",
       "13     2012-3-23\n",
       "14     2012-3-24\n",
       "15     2012-3-25\n",
       "16     2012-3-26\n",
       "17     2012-3-27\n",
       "18     2012-3-28\n",
       "19     2012-3-29\n",
       "20     2012-3-30\n",
       "21     2012-3-31\n",
       "22      2012-4-1\n",
       "23      2012-4-2\n",
       "24      2012-4-3\n",
       "25      2012-4-4\n",
       "26      2012-4-5\n",
       "27      2012-4-6\n",
       "28      2012-4-7\n",
       "29      2012-4-8\n",
       "         ...    \n",
       "336     2013-2-9\n",
       "337    2013-2-10\n",
       "338    2013-2-11\n",
       "339    2013-2-12\n",
       "340    2013-2-13\n",
       "341    2013-2-14\n",
       "342    2013-2-15\n",
       "343    2013-2-16\n",
       "344    2013-2-17\n",
       "345    2013-2-18\n",
       "346    2013-2-19\n",
       "347    2013-2-20\n",
       "348    2013-2-21\n",
       "349    2013-2-22\n",
       "350    2013-2-23\n",
       "351    2013-2-24\n",
       "352    2013-2-25\n",
       "353    2013-2-26\n",
       "354    2013-2-27\n",
       "355    2013-2-28\n",
       "356     2013-3-1\n",
       "357     2013-3-2\n",
       "358     2013-3-3\n",
       "359     2013-3-4\n",
       "360     2013-3-5\n",
       "361     2013-3-6\n",
       "362     2013-3-7\n",
       "363     2013-3-8\n",
       "364     2013-3-9\n",
       "365    2013-3-10\n",
       "Name: EDT, dtype: object"
      ]
     },
     "execution_count": 16,
     "metadata": {},
     "output_type": "execute_result"
    }
   ],
   "source": [
    "data.EDT"
   ]
  },
  {
   "cell_type": "markdown",
   "metadata": {
    "button": false,
    "deletable": true,
    "editable": true,
    "new_sheet": false,
    "run_control": {
     "read_only": false
    }
   },
   "source": [
    "We'll be mostly using the dot syntax here because you can auto-complete the names in IPython. The first pandas function we'll learn about is `head()`. This gives us the first 5 items in a column (or the first 5 rows in the DataFrame)."
   ]
  },
  {
   "cell_type": "code",
   "execution_count": 17,
   "metadata": {
    "button": false,
    "collapsed": false,
    "deletable": true,
    "editable": true,
    "new_sheet": false,
    "run_control": {
     "read_only": false
    }
   },
   "outputs": [
    {
     "data": {
      "text/plain": [
       "0    2012-3-10\n",
       "1    2012-3-11\n",
       "2    2012-3-12\n",
       "3    2012-3-13\n",
       "4    2012-3-14\n",
       "Name: EDT, dtype: object"
      ]
     },
     "execution_count": 17,
     "metadata": {},
     "output_type": "execute_result"
    }
   ],
   "source": [
    "data.EDT.head()"
   ]
  },
  {
   "cell_type": "markdown",
   "metadata": {
    "button": false,
    "deletable": true,
    "editable": true,
    "new_sheet": false,
    "run_control": {
     "read_only": false
    }
   },
   "source": [
    "Passing in a number `n` gives us the first `n` items in the column. There is also a corresponding `tail()` method that gives the *last* `n` items or rows."
   ]
  },
  {
   "cell_type": "code",
   "execution_count": 18,
   "metadata": {
    "button": false,
    "collapsed": false,
    "deletable": true,
    "editable": true,
    "new_sheet": false,
    "run_control": {
     "read_only": false
    }
   },
   "outputs": [
    {
     "data": {
      "text/plain": [
       "0    2012-3-10\n",
       "1    2012-3-11\n",
       "2    2012-3-12\n",
       "3    2012-3-13\n",
       "4    2012-3-14\n",
       "5    2012-3-15\n",
       "6    2012-3-16\n",
       "7    2012-3-17\n",
       "8    2012-3-18\n",
       "9    2012-3-19\n",
       "Name: EDT, dtype: object"
      ]
     },
     "execution_count": 18,
     "metadata": {},
     "output_type": "execute_result"
    }
   ],
   "source": [
    "data.EDT.head(10)"
   ]
  },
  {
   "cell_type": "markdown",
   "metadata": {
    "button": false,
    "deletable": true,
    "editable": true,
    "new_sheet": false,
    "run_control": {
     "read_only": false
    }
   },
   "source": [
    "This also works with the dictionary syntax."
   ]
  },
  {
   "cell_type": "code",
   "execution_count": 19,
   "metadata": {
    "button": false,
    "collapsed": false,
    "deletable": true,
    "editable": true,
    "new_sheet": false,
    "run_control": {
     "read_only": false
    }
   },
   "outputs": [
    {
     "data": {
      "text/plain": [
       "0    40\n",
       "1    49\n",
       "2    62\n",
       "3    63\n",
       "4    62\n",
       "Name: Mean TemperatureF, dtype: int64"
      ]
     },
     "execution_count": 19,
     "metadata": {},
     "output_type": "execute_result"
    }
   ],
   "source": [
    "data[\"Mean TemperatureF\"].head()"
   ]
  },
  {
   "cell_type": "markdown",
   "metadata": {
    "button": false,
    "deletable": true,
    "editable": true,
    "new_sheet": false,
    "run_control": {
     "read_only": false
    }
   },
   "source": [
    "## Exercise 1:\n",
    "\n",
    "How would we get the second to last date (EDT) in the dataset?"
   ]
  },
  {
   "cell_type": "code",
   "execution_count": 20,
   "metadata": {
    "button": false,
    "collapsed": false,
    "deletable": true,
    "editable": true,
    "new_sheet": false,
    "run_control": {
     "read_only": false
    }
   },
   "outputs": [
    {
     "data": {
      "text/plain": [
       "'2013-3-9'"
      ]
     },
     "execution_count": 20,
     "metadata": {},
     "output_type": "execute_result"
    }
   ],
   "source": [
    "data.EDT[364]"
   ]
  },
  {
   "cell_type": "markdown",
   "metadata": {
    "button": false,
    "deletable": true,
    "editable": true,
    "new_sheet": false,
    "run_control": {
     "read_only": false
    }
   },
   "source": [
    "If the data in the column is numeric, you can use `describe()` to get some stats on it."
   ]
  },
  {
   "cell_type": "code",
   "execution_count": 21,
   "metadata": {
    "button": false,
    "collapsed": false,
    "deletable": true,
    "editable": true,
    "new_sheet": false,
    "run_control": {
     "read_only": false
    }
   },
   "outputs": [
    {
     "data": {
      "text/plain": [
       "count    366.000000\n",
       "mean      55.683060\n",
       "std       18.436506\n",
       "min       11.000000\n",
       "25%       41.000000\n",
       "50%       59.000000\n",
       "75%       70.750000\n",
       "max       89.000000\n",
       "Name: Mean TemperatureF, dtype: float64"
      ]
     },
     "execution_count": 21,
     "metadata": {},
     "output_type": "execute_result"
    }
   ],
   "source": [
    "data[\"Mean TemperatureF\"].describe()"
   ]
  },
  {
   "cell_type": "markdown",
   "metadata": {
    "button": false,
    "deletable": true,
    "editable": true,
    "new_sheet": false,
    "run_control": {
     "read_only": false
    }
   },
   "source": [
    "## Fun with Columns"
   ]
  },
  {
   "cell_type": "markdown",
   "metadata": {
    "button": false,
    "deletable": true,
    "editable": true,
    "new_sheet": false,
    "run_control": {
     "read_only": false
    }
   },
   "source": [
    "The column names in `data` are a little unwieldy, so we're going to rename them. This is as easy as assigning a new list of column names to the `columns` property of the DataFrame."
   ]
  },
  {
   "cell_type": "code",
   "execution_count": 22,
   "metadata": {
    "button": false,
    "collapsed": true,
    "deletable": true,
    "editable": true,
    "new_sheet": false,
    "run_control": {
     "read_only": false
    }
   },
   "outputs": [],
   "source": [
    "data.columns = [\"date\", \"max_temp\", \"mean_temp\", \"min_temp\", \"max_dew\",\n",
    "                \"mean_dew\", \"min_dew\", \"max_humidity\", \"mean_humidity\",\n",
    "                \"min_humidity\", \"max_pressure\", \"mean_pressure\",\n",
    "                \"min_pressure\", \"max_visibilty\", \"mean_visibility\",\n",
    "                \"min_visibility\", \"max_wind\", \"mean_wind\", \"min_wind\",\n",
    "                \"precipitation\", \"cloud_cover\", \"events\", \"wind_dir\"]"
   ]
  },
  {
   "cell_type": "markdown",
   "metadata": {
    "button": false,
    "deletable": true,
    "editable": true,
    "new_sheet": false,
    "run_control": {
     "read_only": false
    }
   },
   "source": [
    "These should be in the same order as the original columns. Let's take another look at our DataFrame summary."
   ]
  },
  {
   "cell_type": "code",
   "execution_count": 23,
   "metadata": {
    "button": false,
    "collapsed": false,
    "deletable": true,
    "editable": true,
    "new_sheet": false,
    "run_control": {
     "read_only": false
    }
   },
   "outputs": [
    {
     "name": "stdout",
     "output_type": "stream",
     "text": [
      "<class 'pandas.core.frame.DataFrame'>\n",
      "Int64Index: 366 entries, 0 to 365\n",
      "Data columns (total 23 columns):\n",
      "date               366 non-null object\n",
      "max_temp           366 non-null int64\n",
      "mean_temp          366 non-null int64\n",
      "min_temp           366 non-null int64\n",
      "max_dew            366 non-null int64\n",
      "mean_dew           366 non-null int64\n",
      "min_dew            366 non-null int64\n",
      "max_humidity       366 non-null int64\n",
      "mean_humidity      366 non-null int64\n",
      "min_humidity       366 non-null int64\n",
      "max_pressure       366 non-null float64\n",
      "mean_pressure      366 non-null float64\n",
      "min_pressure       366 non-null float64\n",
      "max_visibilty      366 non-null int64\n",
      "mean_visibility    366 non-null int64\n",
      "min_visibility     366 non-null int64\n",
      "max_wind           366 non-null int64\n",
      "mean_wind          366 non-null int64\n",
      "min_wind           365 non-null float64\n",
      "precipitation      366 non-null object\n",
      "cloud_cover        366 non-null int64\n",
      "events             162 non-null object\n",
      "wind_dir           366 non-null int64\n",
      "dtypes: float64(4), int64(16), object(3)\n",
      "memory usage: 68.6+ KB\n"
     ]
    }
   ],
   "source": [
    "data.info()"
   ]
  },
  {
   "cell_type": "markdown",
   "metadata": {
    "button": false,
    "deletable": true,
    "editable": true,
    "new_sheet": false,
    "run_control": {
     "read_only": false
    }
   },
   "source": [
    "Now our columns can all be accessed using the dot syntax!"
   ]
  },
  {
   "cell_type": "code",
   "execution_count": 24,
   "metadata": {
    "button": false,
    "collapsed": false,
    "deletable": true,
    "editable": true,
    "new_sheet": false,
    "run_control": {
     "read_only": false
    }
   },
   "outputs": [
    {
     "data": {
      "text/plain": [
       "0    40\n",
       "1    49\n",
       "2    62\n",
       "3    63\n",
       "4    62\n",
       "Name: mean_temp, dtype: int64"
      ]
     },
     "execution_count": 24,
     "metadata": {},
     "output_type": "execute_result"
    }
   ],
   "source": [
    "data.mean_temp.head()"
   ]
  },
  {
   "cell_type": "markdown",
   "metadata": {
    "button": false,
    "deletable": true,
    "editable": true,
    "new_sheet": false,
    "run_control": {
     "read_only": false
    }
   },
   "source": [
    "There are lots useful methods on columns, such as `std()` to get the standard deviation. Most of pandas' methods will happily ignore missing values like `NaN`."
   ]
  },
  {
   "cell_type": "code",
   "execution_count": 25,
   "metadata": {
    "button": false,
    "collapsed": false,
    "deletable": true,
    "editable": true,
    "new_sheet": false,
    "run_control": {
     "read_only": false
    }
   },
   "outputs": [
    {
     "data": {
      "text/plain": [
       "18.436505996251075"
      ]
     },
     "execution_count": 25,
     "metadata": {},
     "output_type": "execute_result"
    }
   ],
   "source": [
    "data.mean_temp.std()"
   ]
  },
  {
   "cell_type": "markdown",
   "metadata": {
    "button": false,
    "deletable": true,
    "editable": true,
    "new_sheet": false,
    "run_control": {
     "read_only": false
    }
   },
   "source": [
    "Some methods, like `plot()` and `hist()` produce plots using [matplotlib](http://matplotlib.org/).\n",
    "\n",
    "To make plots using Matplotlib, you must first enable IPython's matplotlib mode. To do this, run the `%matplotlib inline` magic command to enable plotting in the current Notebook. \\[If that doesn't work (because you have an older version of IPython), try `%pylab inline`. You may also have to restart the IPython kernel.\\]\n",
    "\n",
    "We'll go over plotting in more detail later."
   ]
  },
  {
   "cell_type": "code",
   "execution_count": 26,
   "metadata": {
    "button": false,
    "collapsed": false,
    "deletable": true,
    "editable": true,
    "new_sheet": false,
    "run_control": {
     "read_only": false
    }
   },
   "outputs": [
    {
     "data": {
      "text/plain": [
       "<matplotlib.axes._subplots.AxesSubplot at 0x10c88c080>"
      ]
     },
     "execution_count": 26,
     "metadata": {},
     "output_type": "execute_result"
    },
    {
     "data": {
      "image/png": "[encoded data removed]",
      "text/plain": [
       "<matplotlib.figure.Figure at 0x10c84ad68>"
      ]
     },
     "metadata": {},
     "output_type": "display_data"
    }
   ],
   "source": [
    "%matplotlib inline\n",
    "data.mean_temp.hist()"
   ]
  },
  {
   "cell_type": "markdown",
   "metadata": {
    "button": false,
    "deletable": true,
    "editable": true,
    "new_sheet": false,
    "run_control": {
     "read_only": false
    }
   },
   "source": [
    "If you want to add labels and save the plot as a `png` file that is sized 800 pixels by 600 pixels:"
   ]
  },
  {
   "cell_type": "code",
   "execution_count": 27,
   "metadata": {
    "button": false,
    "collapsed": false,
    "deletable": true,
    "editable": true,
    "new_sheet": false,
    "run_control": {
     "read_only": false
    }
   },
   "outputs": [
    {
     "data": {
      "image/png": "[encoded data removed]",
      "text/plain": [
       "<matplotlib.figure.Figure at 0x10c8fd780>"
      ]
     },
     "metadata": {},
     "output_type": "display_data"
    }
   ],
   "source": [
    "ax = data.mean_temp.hist()   # get plot axes object\n",
    "ax.set_xlabel('Daily Mean Temperature (F)')\n",
    "ax.set_ylabel('# of Occurances')\n",
    "ax.set_title('Mean Temperature Histogram')\n",
    "\n",
    "fig = ax.get_figure()        # get plot figure object\n",
    "fig.set_size_inches(8,6)     # set plot size\n",
    "fig.savefig('MeanTempHistogram.png', dpi=100)"
   ]
  },
  {
   "cell_type": "markdown",
   "metadata": {
    "button": false,
    "deletable": true,
    "editable": true,
    "new_sheet": false,
    "run_control": {
     "read_only": false
    }
   },
   "source": [
    "By the way, many of the column-specific methods also work on the entire DataFrame. Instead of a single number, you'll get a result for each column."
   ]
  },
  {
   "cell_type": "code",
   "execution_count": 28,
   "metadata": {
    "button": false,
    "collapsed": false,
    "deletable": true,
    "editable": true,
    "new_sheet": false,
    "run_control": {
     "read_only": false
    }
   },
   "outputs": [
    {
     "data": {
      "text/plain": [
       "max_temp           20.361247\n",
       "mean_temp          18.436506\n",
       "min_temp           17.301141\n",
       "max_dew            16.397178\n",
       "mean_dew           16.829996\n",
       "min_dew            17.479449\n",
       "max_humidity        9.108438\n",
       "mean_humidity       9.945591\n",
       "min_humidity       15.360261\n",
       "max_pressure        0.172189\n",
       "mean_pressure       0.174112\n",
       "min_pressure        0.182476\n",
       "max_visibilty       0.073821\n",
       "mean_visibility     1.875406\n",
       "min_visibility      3.792219\n",
       "max_wind            5.564329\n",
       "mean_wind           3.200940\n",
       "min_wind            8.131092\n",
       "cloud_cover         2.707261\n",
       "wind_dir           94.045080\n",
       "dtype: float64"
      ]
     },
     "execution_count": 28,
     "metadata": {},
     "output_type": "execute_result"
    }
   ],
   "source": [
    "data.std()"
   ]
  },
  {
   "cell_type": "markdown",
   "metadata": {
    "button": false,
    "deletable": true,
    "editable": true,
    "new_sheet": false,
    "run_control": {
     "read_only": false
    }
   },
   "source": [
    "## Exercise 2:\n",
    "\n",
    "What is the range of temperatures in the dataset?\n",
    "\n",
    "*Hint: columns have `max()` and `min()` methods.*"
   ]
  },
  {
   "cell_type": "code",
   "execution_count": 29,
   "metadata": {
    "button": false,
    "collapsed": false,
    "deletable": true,
    "editable": true,
    "new_sheet": false,
    "run_control": {
     "read_only": false
    }
   },
   "outputs": [
    {
     "data": {
      "text/plain": [
       "106"
      ]
     },
     "execution_count": 29,
     "metadata": {},
     "output_type": "execute_result"
    }
   ],
   "source": [
    "data.max_temp.max()"
   ]
  },
  {
   "cell_type": "markdown",
   "metadata": {
    "button": false,
    "deletable": true,
    "editable": true,
    "new_sheet": false,
    "run_control": {
     "read_only": false
    }
   },
   "source": [
    "## Bulk Operations with `apply()`"
   ]
  },
  {
   "cell_type": "markdown",
   "metadata": {
    "button": false,
    "deletable": true,
    "editable": true,
    "new_sheet": false,
    "run_control": {
     "read_only": false
    }
   },
   "source": [
    "Methods like `sum()` and `std()` work on entire columns. We can run our own functions across all values in a column (or row) using `apply()`.\n",
    "\n",
    "To give you an idea of how this works, let's consider the \"date\" column in our DataFrame (formally \"EDT\")."
   ]
  },
  {
   "cell_type": "code",
   "execution_count": 30,
   "metadata": {
    "button": false,
    "collapsed": false,
    "deletable": true,
    "editable": true,
    "new_sheet": false,
    "run_control": {
     "read_only": false
    }
   },
   "outputs": [
    {
     "data": {
      "text/plain": [
       "0    2012-3-10\n",
       "1    2012-3-11\n",
       "2    2012-3-12\n",
       "3    2012-3-13\n",
       "4    2012-3-14\n",
       "Name: date, dtype: object"
      ]
     },
     "execution_count": 30,
     "metadata": {},
     "output_type": "execute_result"
    }
   ],
   "source": [
    "data.date.head()"
   ]
  },
  {
   "cell_type": "markdown",
   "metadata": {
    "button": false,
    "deletable": true,
    "editable": true,
    "new_sheet": false,
    "run_control": {
     "read_only": false
    }
   },
   "source": [
    "We can use the `values` property of the column to get a list of values for the column. Inspecting the first value reveals that these are strings with a particular format."
   ]
  },
  {
   "cell_type": "code",
   "execution_count": 31,
   "metadata": {
    "button": false,
    "collapsed": false,
    "deletable": true,
    "editable": true,
    "new_sheet": false,
    "run_control": {
     "read_only": false
    }
   },
   "outputs": [
    {
     "data": {
      "text/plain": [
       "'2012-3-10'"
      ]
     },
     "execution_count": 31,
     "metadata": {},
     "output_type": "execute_result"
    }
   ],
   "source": [
    "first_date = data.date.values[0]\n",
    "first_date"
   ]
  },
  {
   "cell_type": "markdown",
   "metadata": {
    "button": false,
    "deletable": true,
    "editable": true,
    "new_sheet": false,
    "run_control": {
     "read_only": false
    }
   },
   "source": [
    "The `strptime` function from the `datetime` module will make quick work of this date string. There are many [more shortcuts available](http://docs.python.org/2/library/datetime.html#strftime-and-strptime-behavior) for `strptime`."
   ]
  },
  {
   "cell_type": "code",
   "execution_count": 32,
   "metadata": {
    "button": false,
    "collapsed": false,
    "deletable": true,
    "editable": true,
    "new_sheet": false,
    "run_control": {
     "read_only": false
    }
   },
   "outputs": [
    {
     "data": {
      "text/plain": [
       "datetime.datetime(2012, 3, 10, 0, 0)"
      ]
     },
     "execution_count": 32,
     "metadata": {},
     "output_type": "execute_result"
    }
   ],
   "source": [
    "# Import the datetime class from the datetime module\n",
    "from datetime import datetime\n",
    "\n",
    "# Convert date string to datetime object\n",
    "datetime.strptime(first_date, \"%Y-%m-%d\")"
   ]
  },
  {
   "cell_type": "markdown",
   "metadata": {
    "button": false,
    "deletable": true,
    "editable": true,
    "new_sheet": false,
    "run_control": {
     "read_only": false
    }
   },
   "source": [
    "Using the `apply()` method, which takes a function (**without** the parentheses), we can apply `strptime` to each value in the column. We'll overwrite the string date values with their Python `datetime` equivalents."
   ]
  },
  {
   "cell_type": "code",
   "execution_count": 33,
   "metadata": {
    "button": false,
    "collapsed": false,
    "deletable": true,
    "editable": true,
    "new_sheet": false,
    "run_control": {
     "read_only": false
    }
   },
   "outputs": [
    {
     "data": {
      "text/plain": [
       "0   2012-03-10\n",
       "1   2012-03-11\n",
       "2   2012-03-12\n",
       "3   2012-03-13\n",
       "4   2012-03-14\n",
       "Name: date, dtype: datetime64[ns]"
      ]
     },
     "execution_count": 33,
     "metadata": {},
     "output_type": "execute_result"
    }
   ],
   "source": [
    "# Define a function to convert strings to dates\n",
    "def string_to_date(date_string):\n",
    "    return datetime.strptime(date_string, \"%Y-%m-%d\")\n",
    "\n",
    "# Run the function on every date string and overwrite the column\n",
    "data.date = data.date.apply(string_to_date)\n",
    "data.date.head()"
   ]
  },
  {
   "cell_type": "markdown",
   "metadata": {
    "button": false,
    "deletable": true,
    "editable": true,
    "new_sheet": false,
    "run_control": {
     "read_only": false
    }
   },
   "source": [
    "Let's go one step futher. Each row in our DataFrame represents the weather from a single day. Each row in a DataFrame is associated with an *index*, which is a label that uniquely identifies a row.\n",
    "\n",
    "Our row indices up to now have been auto-generated by pandas, and are simply integers from 0 to 365. If we use dates instead of integers for our index, we will get some extra benefits from pandas when plotting later on. Overwriting the index is as easy as assigning to the `index` property of the DataFrame."
   ]
  },
  {
   "cell_type": "code",
   "execution_count": 34,
   "metadata": {
    "button": false,
    "collapsed": false,
    "deletable": true,
    "editable": true,
    "new_sheet": false,
    "run_control": {
     "read_only": false
    }
   },
   "outputs": [
    {
     "name": "stdout",
     "output_type": "stream",
     "text": [
      "<class 'pandas.core.frame.DataFrame'>\n",
      "DatetimeIndex: 366 entries, 2012-03-10 to 2013-03-10\n",
      "Data columns (total 23 columns):\n",
      "date               366 non-null datetime64[ns]\n",
      "max_temp           366 non-null int64\n",
      "mean_temp          366 non-null int64\n",
      "min_temp           366 non-null int64\n",
      "max_dew            366 non-null int64\n",
      "mean_dew           366 non-null int64\n",
      "min_dew            366 non-null int64\n",
      "max_humidity       366 non-null int64\n",
      "mean_humidity      366 non-null int64\n",
      "min_humidity       366 non-null int64\n",
      "max_pressure       366 non-null float64\n",
      "mean_pressure      366 non-null float64\n",
      "min_pressure       366 non-null float64\n",
      "max_visibilty      366 non-null int64\n",
      "mean_visibility    366 non-null int64\n",
      "min_visibility     366 non-null int64\n",
      "max_wind           366 non-null int64\n",
      "mean_wind          366 non-null int64\n",
      "min_wind           365 non-null float64\n",
      "precipitation      366 non-null object\n",
      "cloud_cover        366 non-null int64\n",
      "events             162 non-null object\n",
      "wind_dir           366 non-null int64\n",
      "dtypes: datetime64[ns](1), float64(4), int64(16), object(2)\n",
      "memory usage: 68.6+ KB\n"
     ]
    }
   ],
   "source": [
    "data.index = data.date\n",
    "data.info()"
   ]
  },
  {
   "cell_type": "markdown",
   "metadata": {
    "button": false,
    "deletable": true,
    "editable": true,
    "new_sheet": false,
    "run_control": {
     "read_only": false
    }
   },
   "source": [
    "Now we can quickly look up a row by its date with the `loc[]` property \\[[see docs](http://pandas.pydata.org/pandas-docs/stable/indexing.html)], which locates records by label."
   ]
  },
  {
   "cell_type": "code",
   "execution_count": 35,
   "metadata": {
    "button": false,
    "collapsed": false,
    "deletable": true,
    "editable": true,
    "new_sheet": false,
    "run_control": {
     "read_only": false
    }
   },
   "outputs": [
    {
     "data": {
      "text/plain": [
       "date               2012-08-19 00:00:00\n",
       "max_temp                            82\n",
       "mean_temp                           67\n",
       "min_temp                            51\n",
       "max_dew                             56\n",
       "mean_dew                            50\n",
       "min_dew                             42\n",
       "max_humidity                        96\n",
       "mean_humidity                       62\n",
       "min_humidity                        28\n",
       "max_pressure                     29.95\n",
       "mean_pressure                    29.92\n",
       "min_pressure                     29.89\n",
       "max_visibilty                       10\n",
       "mean_visibility                     10\n",
       "min_visibility                      10\n",
       "max_wind                            14\n",
       "mean_wind                            3\n",
       "min_wind                            21\n",
       "precipitation                     0.00\n",
       "cloud_cover                          1\n",
       "events                             NaN\n",
       "wind_dir                             1\n",
       "Name: 2012-08-19 00:00:00, dtype: object"
      ]
     },
     "execution_count": 35,
     "metadata": {},
     "output_type": "execute_result"
    }
   ],
   "source": [
    "data.loc[datetime(2012, 8, 19)]"
   ]
  },
  {
   "cell_type": "markdown",
   "metadata": {
    "button": false,
    "deletable": true,
    "editable": true,
    "new_sheet": false,
    "run_control": {
     "read_only": false
    }
   },
   "source": [
    "We can also access a row (or range of rows) with the `iloc[]` property, which locates records by integer index."
   ]
  },
  {
   "cell_type": "code",
   "execution_count": 36,
   "metadata": {
    "button": false,
    "collapsed": false,
    "deletable": true,
    "editable": true,
    "new_sheet": false,
    "run_control": {
     "read_only": false
    }
   },
   "outputs": [
    {
     "data": {
      "text/plain": [
       "date\n",
       "2012-03-17    78\n",
       "2012-03-18    80\n",
       "2012-03-19    84\n",
       "2012-03-20    84\n",
       "2012-03-21    84\n",
       "2012-03-22    81\n",
       "2012-03-23    73\n",
       "2012-03-24    65\n",
       "Name: max_temp, dtype: int64"
      ]
     },
     "execution_count": 36,
     "metadata": {},
     "output_type": "execute_result"
    }
   ],
   "source": [
    "data.max_temp.iloc[7:15]"
   ]
  },
  {
   "cell_type": "markdown",
   "metadata": {
    "button": false,
    "deletable": true,
    "editable": true,
    "new_sheet": false,
    "run_control": {
     "read_only": false
    }
   },
   "source": [
    "With all of the dates in the index now, we no longer need the \"date\" column. Let's drop it."
   ]
  },
  {
   "cell_type": "code",
   "execution_count": 37,
   "metadata": {
    "button": false,
    "collapsed": false,
    "deletable": true,
    "editable": true,
    "new_sheet": false,
    "run_control": {
     "read_only": false
    }
   },
   "outputs": [
    {
     "data": {
      "text/plain": [
       "Index(['max_temp', 'mean_temp', 'min_temp', 'max_dew', 'mean_dew', 'min_dew',\n",
       "       'max_humidity', 'mean_humidity', 'min_humidity', 'max_pressure',\n",
       "       'mean_pressure', 'min_pressure', 'max_visibilty', 'mean_visibility',\n",
       "       'min_visibility', 'max_wind', 'mean_wind', 'min_wind', 'precipitation',\n",
       "       'cloud_cover', 'events', 'wind_dir'],\n",
       "      dtype='object')"
      ]
     },
     "execution_count": 37,
     "metadata": {},
     "output_type": "execute_result"
    }
   ],
   "source": [
    "data = data.drop(\"date\", axis=1)\n",
    "data.columns"
   ]
  },
  {
   "cell_type": "markdown",
   "metadata": {
    "button": false,
    "deletable": true,
    "editable": true,
    "new_sheet": false,
    "run_control": {
     "read_only": false
    }
   },
   "source": [
    "Note that we need to pass in `axis=1` in order to drop a column. For more details, check out the [documentation](http://pandas.pydata.org/pandas-docs/stable/generated/pandas.DataFrame.drop.html) for `drop`. The index values can now be accessed as `data.index.values`."
   ]
  },
  {
   "cell_type": "markdown",
   "metadata": {
    "button": false,
    "deletable": true,
    "editable": true,
    "new_sheet": false,
    "run_control": {
     "read_only": false
    }
   },
   "source": [
    "## Exercise 3:\n",
    "\n",
    "Print out the cloud cover for each day in May.\n",
    "\n",
    "*Hint: you can make datetime objects with the `datetime(year, month, day)` function*\n",
    "\n",
    "*For extra credit, try using the `date_range()` function; see [pandas.date_range](http://pandas.pydata.org/pandas-docs/stable/generated/pandas.date_range.html)*"
   ]
  },
  {
   "cell_type": "code",
   "execution_count": 38,
   "metadata": {
    "button": false,
    "collapsed": false,
    "deletable": true,
    "editable": true,
    "new_sheet": false,
    "run_control": {
     "read_only": false
    }
   },
   "outputs": [
    {
     "name": "stdout",
     "output_type": "stream",
     "text": [
      "<class 'pandas.tseries.index.DatetimeIndex'>\n"
     ]
    }
   ],
   "source": [
    "datetime(2012, 5, 1)  # May 1st of 2012\n",
    "print(type(data.index))"
   ]
  },
  {
   "cell_type": "code",
   "execution_count": 39,
   "metadata": {
    "button": false,
    "collapsed": false,
    "deletable": true,
    "editable": true,
    "new_sheet": false,
    "run_control": {
     "read_only": false
    }
   },
   "outputs": [
    {
     "data": {
      "text/plain": [
       "2012-05-01    6\n",
       "2012-05-02    1\n",
       "2012-05-03    0\n",
       "2012-05-04    6\n",
       "2012-05-05    3\n",
       "2012-05-06    0\n",
       "2012-05-07    5\n",
       "2012-05-08    4\n",
       "2012-05-09    3\n",
       "2012-05-10    1\n",
       "2012-05-11    0\n",
       "2012-05-12    1\n",
       "2012-05-13    4\n",
       "2012-05-14    4\n",
       "2012-05-15    0\n",
       "2012-05-16    0\n",
       "2012-05-17    0\n",
       "2012-05-18    0\n",
       "2012-05-19    0\n",
       "2012-05-20    1\n",
       "2012-05-21    4\n",
       "2012-05-22    2\n",
       "2012-05-23    0\n",
       "2012-05-24    0\n",
       "2012-05-25    2\n",
       "2012-05-26    0\n",
       "2012-05-27    0\n",
       "2012-05-28    0\n",
       "2012-05-29    4\n",
       "2012-05-30    1\n",
       "2012-05-31    4\n",
       "Freq: D, Name: cloud_cover, dtype: int64"
      ]
     },
     "execution_count": 39,
     "metadata": {},
     "output_type": "execute_result"
    }
   ],
   "source": [
    "#data.cloud_cover.loc[datetime(2012, 5, 1)]\n",
    "rng = pandas.date_range('5/1/2012','5/31/2012',freq='D') \n",
    "data.cloud_cover.loc[rng]"
   ]
  },
  {
   "cell_type": "markdown",
   "metadata": {
    "button": false,
    "deletable": true,
    "editable": true,
    "new_sheet": false,
    "run_control": {
     "read_only": false
    }
   },
   "source": [
    "## Handing Missing Values"
   ]
  },
  {
   "cell_type": "markdown",
   "metadata": {
    "button": false,
    "deletable": true,
    "editable": true,
    "new_sheet": false,
    "run_control": {
     "read_only": false
    }
   },
   "source": [
    "Pandas considers values like `NaN` and `None` to represent missing data. The `count()` function [[see docs](http://pandas.pydata.org/pandas-docs/stable/generated/pandas.DataFrame.count.html)] can be used to tell whether values are missing. We use the parameter `axis=0` to indicate that we want to perform the count by rows, rather than columns."
   ]
  },
  {
   "cell_type": "code",
   "execution_count": 40,
   "metadata": {
    "button": false,
    "collapsed": false,
    "deletable": true,
    "editable": true,
    "new_sheet": false,
    "run_control": {
     "read_only": false
    }
   },
   "outputs": [
    {
     "data": {
      "text/plain": [
       "max_temp           366\n",
       "mean_temp          366\n",
       "min_temp           366\n",
       "max_dew            366\n",
       "mean_dew           366\n",
       "min_dew            366\n",
       "max_humidity       366\n",
       "mean_humidity      366\n",
       "min_humidity       366\n",
       "max_pressure       366\n",
       "mean_pressure      366\n",
       "min_pressure       366\n",
       "max_visibilty      366\n",
       "mean_visibility    366\n",
       "min_visibility     366\n",
       "max_wind           366\n",
       "mean_wind          366\n",
       "min_wind           365\n",
       "precipitation      366\n",
       "cloud_cover        366\n",
       "events             162\n",
       "wind_dir           366\n",
       "dtype: int64"
      ]
     },
     "execution_count": 40,
     "metadata": {},
     "output_type": "execute_result"
    }
   ],
   "source": [
    "data.count(axis=0)"
   ]
  },
  {
   "cell_type": "markdown",
   "metadata": {
    "button": false,
    "deletable": true,
    "editable": true,
    "new_sheet": false,
    "run_control": {
     "read_only": false
    }
   },
   "source": [
    "It is pretty obvious that there are a lot of `NaN` entrys for the `events` column; 204 to be exact. Let's take a look at a few values from the `events` column:"
   ]
  },
  {
   "cell_type": "code",
   "execution_count": 41,
   "metadata": {
    "button": false,
    "collapsed": false,
    "deletable": true,
    "editable": true,
    "new_sheet": false,
    "run_control": {
     "read_only": false
    }
   },
   "outputs": [
    {
     "data": {
      "text/plain": [
       "date\n",
       "2012-03-10                  NaN\n",
       "2012-03-11                 Rain\n",
       "2012-03-12                 Rain\n",
       "2012-03-13                  NaN\n",
       "2012-03-14                  NaN\n",
       "2012-03-15    Rain-Thunderstorm\n",
       "2012-03-16                  NaN\n",
       "2012-03-17     Fog-Thunderstorm\n",
       "2012-03-18                 Rain\n",
       "2012-03-19                  NaN\n",
       "Name: events, dtype: object"
      ]
     },
     "execution_count": 41,
     "metadata": {},
     "output_type": "execute_result"
    }
   ],
   "source": [
    "data.events.head(10)"
   ]
  },
  {
   "cell_type": "markdown",
   "metadata": {
    "button": false,
    "deletable": true,
    "editable": true,
    "new_sheet": false,
    "run_control": {
     "read_only": false
    }
   },
   "source": [
    "This isn't exactly what we want. One option is to drop all rows in the DataFrame with missing \"events\" values using the `dropna()` function \\[[see docs](http://pandas.pydata.org/pandas-docs/stable/generated/pandas.DataFrame.dropna.html)]."
   ]
  },
  {
   "cell_type": "code",
   "execution_count": 42,
   "metadata": {
    "button": false,
    "collapsed": false,
    "deletable": true,
    "editable": true,
    "new_sheet": false,
    "run_control": {
     "read_only": false
    }
   },
   "outputs": [
    {
     "name": "stdout",
     "output_type": "stream",
     "text": [
      "<class 'pandas.core.frame.DataFrame'>\n",
      "DatetimeIndex: 162 entries, 2012-03-11 to 2013-03-06\n",
      "Data columns (total 22 columns):\n",
      "max_temp           162 non-null int64\n",
      "mean_temp          162 non-null int64\n",
      "min_temp           162 non-null int64\n",
      "max_dew            162 non-null int64\n",
      "mean_dew           162 non-null int64\n",
      "min_dew            162 non-null int64\n",
      "max_humidity       162 non-null int64\n",
      "mean_humidity      162 non-null int64\n",
      "min_humidity       162 non-null int64\n",
      "max_pressure       162 non-null float64\n",
      "mean_pressure      162 non-null float64\n",
      "min_pressure       162 non-null float64\n",
      "max_visibilty      162 non-null int64\n",
      "mean_visibility    162 non-null int64\n",
      "min_visibility     162 non-null int64\n",
      "max_wind           162 non-null int64\n",
      "mean_wind          162 non-null int64\n",
      "min_wind           162 non-null float64\n",
      "precipitation      162 non-null object\n",
      "cloud_cover        162 non-null int64\n",
      "events             162 non-null object\n",
      "wind_dir           162 non-null int64\n",
      "dtypes: float64(4), int64(16), object(2)\n",
      "memory usage: 29.1+ KB\n"
     ]
    }
   ],
   "source": [
    "data.dropna(subset=[\"events\"]).info()"
   ]
  },
  {
   "cell_type": "markdown",
   "metadata": {
    "button": false,
    "deletable": true,
    "editable": true,
    "new_sheet": false,
    "run_control": {
     "read_only": false
    }
   },
   "source": [
    "Note that this didn't affect `data`; we're just looking at a copy.\n",
    "\n",
    "Instead of dropping rows with missing values, let's fill them with empty strings (you'll see why in a moment). This is easily done with the `fillna()` function. We'll go ahead and overwrite the \"events\" column with empty string missing values instead of `NaN`."
   ]
  },
  {
   "cell_type": "code",
   "execution_count": 43,
   "metadata": {
    "button": false,
    "collapsed": false,
    "deletable": true,
    "editable": true,
    "new_sheet": false,
    "run_control": {
     "read_only": false
    }
   },
   "outputs": [
    {
     "data": {
      "text/plain": [
       "date\n",
       "2012-03-10                     \n",
       "2012-03-11                 Rain\n",
       "2012-03-12                 Rain\n",
       "2012-03-13                     \n",
       "2012-03-14                     \n",
       "2012-03-15    Rain-Thunderstorm\n",
       "2012-03-16                     \n",
       "2012-03-17     Fog-Thunderstorm\n",
       "2012-03-18                 Rain\n",
       "2012-03-19                     \n",
       "Name: events, dtype: object"
      ]
     },
     "execution_count": 43,
     "metadata": {},
     "output_type": "execute_result"
    }
   ],
   "source": [
    "data.events = data.events.fillna(\"\")\n",
    "data.events.head(10)"
   ]
  },
  {
   "cell_type": "markdown",
   "metadata": {
    "button": false,
    "deletable": true,
    "editable": true,
    "new_sheet": false,
    "run_control": {
     "read_only": false
    }
   },
   "source": [
    "Now we repeat the `count` function for the `events` column:"
   ]
  },
  {
   "cell_type": "code",
   "execution_count": 44,
   "metadata": {
    "button": false,
    "collapsed": false,
    "deletable": true,
    "editable": true,
    "new_sheet": false,
    "run_control": {
     "read_only": false
    }
   },
   "outputs": [
    {
     "data": {
      "text/plain": [
       "366"
      ]
     },
     "execution_count": 44,
     "metadata": {},
     "output_type": "execute_result"
    }
   ],
   "source": [
    "data.events.count()"
   ]
  },
  {
   "cell_type": "markdown",
   "metadata": {
    "button": false,
    "deletable": true,
    "editable": true,
    "new_sheet": false,
    "run_control": {
     "read_only": false
    }
   },
   "source": [
    "As desired, there are no longer any empty entries in the `events` column. Why did we not need the `axis=0` parameter this time?"
   ]
  },
  {
   "cell_type": "markdown",
   "metadata": {
    "button": false,
    "deletable": true,
    "editable": true,
    "new_sheet": false,
    "run_control": {
     "read_only": false
    }
   },
   "source": [
    "## Iteratively Accessing Rows"
   ]
  },
  {
   "cell_type": "markdown",
   "metadata": {
    "button": false,
    "deletable": true,
    "editable": true,
    "new_sheet": false,
    "run_control": {
     "read_only": false
    }
   },
   "source": [
    "You can iterate over each row in the DataFrame with `iterrows()`. Note that this function returns **both** the index and the row. Also, you must access columns in the row you get back from `iterrows()` with the dictionary syntax."
   ]
  },
  {
   "cell_type": "code",
   "execution_count": 45,
   "metadata": {
    "button": false,
    "collapsed": false,
    "deletable": true,
    "editable": true,
    "new_sheet": false,
    "run_control": {
     "read_only": false
    }
   },
   "outputs": [
    {
     "data": {
      "text/plain": [
       "'Days with rain: 121'"
      ]
     },
     "execution_count": 45,
     "metadata": {},
     "output_type": "execute_result"
    }
   ],
   "source": [
    "num_rain = 0\n",
    "for idx, row in data.iterrows():\n",
    "    if \"Rain\" in row[\"events\"]:\n",
    "        num_rain += 1\n",
    "\n",
    "\"Days with rain: {0}\".format(num_rain)"
   ]
  },
  {
   "cell_type": "markdown",
   "metadata": {
    "button": false,
    "deletable": true,
    "editable": true,
    "new_sheet": false,
    "run_control": {
     "read_only": false
    }
   },
   "source": [
    "## Exercise 4:\n",
    "\n",
    "Was there any November rain?\n",
    "\n",
    "*Hint*: check out the `strftime()` function on `datetime` objects and the [documentation](http://docs.python.org/2/library/datetime.html#strftime-and-strptime-behavior)"
   ]
  },
  {
   "cell_type": "code",
   "execution_count": 46,
   "metadata": {
    "button": false,
    "collapsed": false,
    "deletable": true,
    "editable": true,
    "new_sheet": false,
    "run_control": {
     "read_only": false
    }
   },
   "outputs": [
    {
     "data": {
      "text/plain": [
       "'January'"
      ]
     },
     "execution_count": 46,
     "metadata": {},
     "output_type": "execute_result"
    }
   ],
   "source": [
    "d = datetime(2012, 1, 1)\n",
    "d.strftime(\"%B\")"
   ]
  },
  {
   "cell_type": "code",
   "execution_count": null,
   "metadata": {
    "button": false,
    "collapsed": false,
    "deletable": true,
    "editable": true,
    "new_sheet": false,
    "run_control": {
     "read_only": false
    }
   },
   "outputs": [],
   "source": []
  },
  {
   "cell_type": "markdown",
   "metadata": {
    "button": false,
    "deletable": true,
    "editable": true,
    "new_sheet": false,
    "run_control": {
     "read_only": false
    }
   },
   "source": [
    "## Filtering"
   ]
  },
  {
   "cell_type": "markdown",
   "metadata": {
    "button": false,
    "deletable": true,
    "editable": true,
    "new_sheet": false,
    "run_control": {
     "read_only": false
    }
   },
   "source": [
    "Most of your time using pandas will likely be devoted to selecting rows of interest from a DataFrame. In addition to strings, the dictionary syntax accepts requests like:"
   ]
  },
  {
   "cell_type": "code",
   "execution_count": 47,
   "metadata": {
    "button": false,
    "collapsed": false,
    "deletable": true,
    "editable": true,
    "new_sheet": false,
    "run_control": {
     "read_only": false
    }
   },
   "outputs": [
    {
     "name": "stdout",
     "output_type": "stream",
     "text": [
      "<class 'pandas.core.frame.DataFrame'>\n",
      "DatetimeIndex: 21 entries, 2012-11-24 to 2013-03-06\n",
      "Data columns (total 22 columns):\n",
      "max_temp           21 non-null int64\n",
      "mean_temp          21 non-null int64\n",
      "min_temp           21 non-null int64\n",
      "max_dew            21 non-null int64\n",
      "mean_dew           21 non-null int64\n",
      "min_dew            21 non-null int64\n",
      "max_humidity       21 non-null int64\n",
      "mean_humidity      21 non-null int64\n",
      "min_humidity       21 non-null int64\n",
      "max_pressure       21 non-null float64\n",
      "mean_pressure      21 non-null float64\n",
      "min_pressure       21 non-null float64\n",
      "max_visibilty      21 non-null int64\n",
      "mean_visibility    21 non-null int64\n",
      "min_visibility     21 non-null int64\n",
      "max_wind           21 non-null int64\n",
      "mean_wind          21 non-null int64\n",
      "min_wind           21 non-null float64\n",
      "precipitation      21 non-null object\n",
      "cloud_cover        21 non-null int64\n",
      "events             21 non-null object\n",
      "wind_dir           21 non-null int64\n",
      "dtypes: float64(4), int64(16), object(2)\n",
      "memory usage: 3.8+ KB\n"
     ]
    }
   ],
   "source": [
    "freezing_days = data[data.max_temp <= 32]\n",
    "freezing_days.info()"
   ]
  },
  {
   "cell_type": "markdown",
   "metadata": {
    "button": false,
    "deletable": true,
    "editable": true,
    "new_sheet": false,
    "run_control": {
     "read_only": false
    }
   },
   "source": [
    "We get back another DataFrame with fewer rows (21 in this case). This DataFrame can be filtered down even more by adding a constrain that the temperature be greater than 20 degrees, in addition to being below freezing."
   ]
  },
  {
   "cell_type": "code",
   "execution_count": 48,
   "metadata": {
    "button": false,
    "collapsed": false,
    "deletable": true,
    "editable": true,
    "new_sheet": false,
    "run_control": {
     "read_only": false
    }
   },
   "outputs": [
    {
     "name": "stdout",
     "output_type": "stream",
     "text": [
      "<class 'pandas.core.frame.DataFrame'>\n",
      "DatetimeIndex: 7 entries, 2012-11-24 to 2013-03-06\n",
      "Data columns (total 22 columns):\n",
      "max_temp           7 non-null int64\n",
      "mean_temp          7 non-null int64\n",
      "min_temp           7 non-null int64\n",
      "max_dew            7 non-null int64\n",
      "mean_dew           7 non-null int64\n",
      "min_dew            7 non-null int64\n",
      "max_humidity       7 non-null int64\n",
      "mean_humidity      7 non-null int64\n",
      "min_humidity       7 non-null int64\n",
      "max_pressure       7 non-null float64\n",
      "mean_pressure      7 non-null float64\n",
      "min_pressure       7 non-null float64\n",
      "max_visibilty      7 non-null int64\n",
      "mean_visibility    7 non-null int64\n",
      "min_visibility     7 non-null int64\n",
      "max_wind           7 non-null int64\n",
      "mean_wind          7 non-null int64\n",
      "min_wind           7 non-null float64\n",
      "precipitation      7 non-null object\n",
      "cloud_cover        7 non-null int64\n",
      "events             7 non-null object\n",
      "wind_dir           7 non-null int64\n",
      "dtypes: float64(4), int64(16), object(2)\n",
      "memory usage: 1.3+ KB\n"
     ]
    }
   ],
   "source": [
    "cold_days = freezing_days[freezing_days.min_temp >= 20]\n",
    "cold_days.info()"
   ]
  },
  {
   "cell_type": "markdown",
   "metadata": {
    "button": false,
    "deletable": true,
    "editable": true,
    "new_sheet": false,
    "run_control": {
     "read_only": false
    }
   },
   "source": [
    "To see the high and low temperatures for the selected days:"
   ]
  },
  {
   "cell_type": "code",
   "execution_count": 49,
   "metadata": {
    "button": false,
    "collapsed": false,
    "deletable": true,
    "editable": true,
    "new_sheet": false,
    "run_control": {
     "read_only": false
    }
   },
   "outputs": [
    {
     "data": {
      "text/html": [
       "<div style=\"max-height:1000px;max-width:1500px;overflow:auto;\">\n",
       "<table border=\"1\" class=\"dataframe\">\n",
       "  <thead>\n",
       "    <tr style=\"text-align: right;\">\n",
       "      <th></th>\n",
       "      <th>max_temp</th>\n",
       "      <th>min_temp</th>\n",
       "    </tr>\n",
       "    <tr>\n",
       "      <th>date</th>\n",
       "      <th></th>\n",
       "      <th></th>\n",
       "    </tr>\n",
       "  </thead>\n",
       "  <tbody>\n",
       "    <tr>\n",
       "      <th>2012-11-24</th>\n",
       "      <td>31</td>\n",
       "      <td>21</td>\n",
       "    </tr>\n",
       "    <tr>\n",
       "      <th>2012-12-21</th>\n",
       "      <td>29</td>\n",
       "      <td>22</td>\n",
       "    </tr>\n",
       "    <tr>\n",
       "      <th>2012-12-29</th>\n",
       "      <td>32</td>\n",
       "      <td>23</td>\n",
       "    </tr>\n",
       "    <tr>\n",
       "      <th>2013-01-01</th>\n",
       "      <td>32</td>\n",
       "      <td>20</td>\n",
       "    </tr>\n",
       "    <tr>\n",
       "      <th>2013-01-25</th>\n",
       "      <td>30</td>\n",
       "      <td>20</td>\n",
       "    </tr>\n",
       "    <tr>\n",
       "      <th>2013-03-02</th>\n",
       "      <td>32</td>\n",
       "      <td>27</td>\n",
       "    </tr>\n",
       "    <tr>\n",
       "      <th>2013-03-06</th>\n",
       "      <td>32</td>\n",
       "      <td>29</td>\n",
       "    </tr>\n",
       "  </tbody>\n",
       "</table>\n",
       "</div>"
      ],
      "text/plain": [
       "            max_temp  min_temp\n",
       "date                          \n",
       "2012-11-24        31        21\n",
       "2012-12-21        29        22\n",
       "2012-12-29        32        23\n",
       "2013-01-01        32        20\n",
       "2013-01-25        30        20\n",
       "2013-03-02        32        27\n",
       "2013-03-06        32        29"
      ]
     },
     "execution_count": 49,
     "metadata": {},
     "output_type": "execute_result"
    }
   ],
   "source": [
    "cold_days[[\"max_temp\",\"min_temp\"]]"
   ]
  },
  {
   "cell_type": "markdown",
   "metadata": {
    "button": false,
    "deletable": true,
    "editable": true,
    "new_sheet": false,
    "run_control": {
     "read_only": false
    }
   },
   "source": [
    "Using boolean operations, we could have chosen to apply both filters to the original DataFrame at the same time."
   ]
  },
  {
   "cell_type": "code",
   "execution_count": 50,
   "metadata": {
    "button": false,
    "collapsed": false,
    "deletable": true,
    "editable": true,
    "new_sheet": false,
    "run_control": {
     "read_only": false
    }
   },
   "outputs": [
    {
     "data": {
      "text/html": [
       "<div style=\"max-height:1000px;max-width:1500px;overflow:auto;\">\n",
       "<table border=\"1\" class=\"dataframe\">\n",
       "  <thead>\n",
       "    <tr style=\"text-align: right;\">\n",
       "      <th></th>\n",
       "      <th>max_temp</th>\n",
       "      <th>mean_temp</th>\n",
       "      <th>min_temp</th>\n",
       "      <th>max_dew</th>\n",
       "      <th>mean_dew</th>\n",
       "      <th>min_dew</th>\n",
       "      <th>max_humidity</th>\n",
       "      <th>mean_humidity</th>\n",
       "      <th>min_humidity</th>\n",
       "      <th>max_pressure</th>\n",
       "      <th>...</th>\n",
       "      <th>max_visibilty</th>\n",
       "      <th>mean_visibility</th>\n",
       "      <th>min_visibility</th>\n",
       "      <th>max_wind</th>\n",
       "      <th>mean_wind</th>\n",
       "      <th>min_wind</th>\n",
       "      <th>precipitation</th>\n",
       "      <th>cloud_cover</th>\n",
       "      <th>events</th>\n",
       "      <th>wind_dir</th>\n",
       "    </tr>\n",
       "    <tr>\n",
       "      <th>date</th>\n",
       "      <th></th>\n",
       "      <th></th>\n",
       "      <th></th>\n",
       "      <th></th>\n",
       "      <th></th>\n",
       "      <th></th>\n",
       "      <th></th>\n",
       "      <th></th>\n",
       "      <th></th>\n",
       "      <th></th>\n",
       "      <th></th>\n",
       "      <th></th>\n",
       "      <th></th>\n",
       "      <th></th>\n",
       "      <th></th>\n",
       "      <th></th>\n",
       "      <th></th>\n",
       "      <th></th>\n",
       "      <th></th>\n",
       "      <th></th>\n",
       "      <th></th>\n",
       "    </tr>\n",
       "  </thead>\n",
       "  <tbody>\n",
       "    <tr>\n",
       "      <th>2012-11-24</th>\n",
       "      <td>31</td>\n",
       "      <td>26</td>\n",
       "      <td>21</td>\n",
       "      <td>20</td>\n",
       "      <td>18</td>\n",
       "      <td>15</td>\n",
       "      <td>81</td>\n",
       "      <td>72</td>\n",
       "      <td>63</td>\n",
       "      <td>30.30</td>\n",
       "      <td>...</td>\n",
       "      <td>10</td>\n",
       "      <td>10</td>\n",
       "      <td>9</td>\n",
       "      <td>9</td>\n",
       "      <td>4</td>\n",
       "      <td>14</td>\n",
       "      <td>0.00</td>\n",
       "      <td>4</td>\n",
       "      <td></td>\n",
       "      <td>270</td>\n",
       "    </tr>\n",
       "    <tr>\n",
       "      <th>2012-12-21</th>\n",
       "      <td>29</td>\n",
       "      <td>26</td>\n",
       "      <td>22</td>\n",
       "      <td>25</td>\n",
       "      <td>19</td>\n",
       "      <td>15</td>\n",
       "      <td>85</td>\n",
       "      <td>74</td>\n",
       "      <td>63</td>\n",
       "      <td>30.21</td>\n",
       "      <td>...</td>\n",
       "      <td>10</td>\n",
       "      <td>5</td>\n",
       "      <td>0</td>\n",
       "      <td>25</td>\n",
       "      <td>14</td>\n",
       "      <td>39</td>\n",
       "      <td>0.02</td>\n",
       "      <td>7</td>\n",
       "      <td>Fog-Snow</td>\n",
       "      <td>285</td>\n",
       "    </tr>\n",
       "    <tr>\n",
       "      <th>2012-12-29</th>\n",
       "      <td>32</td>\n",
       "      <td>28</td>\n",
       "      <td>23</td>\n",
       "      <td>28</td>\n",
       "      <td>25</td>\n",
       "      <td>16</td>\n",
       "      <td>92</td>\n",
       "      <td>80</td>\n",
       "      <td>68</td>\n",
       "      <td>30.29</td>\n",
       "      <td>...</td>\n",
       "      <td>10</td>\n",
       "      <td>3</td>\n",
       "      <td>0</td>\n",
       "      <td>18</td>\n",
       "      <td>9</td>\n",
       "      <td>29</td>\n",
       "      <td>0.20</td>\n",
       "      <td>8</td>\n",
       "      <td>Fog-Snow</td>\n",
       "      <td>308</td>\n",
       "    </tr>\n",
       "    <tr>\n",
       "      <th>2013-01-01</th>\n",
       "      <td>32</td>\n",
       "      <td>26</td>\n",
       "      <td>20</td>\n",
       "      <td>31</td>\n",
       "      <td>25</td>\n",
       "      <td>16</td>\n",
       "      <td>92</td>\n",
       "      <td>83</td>\n",
       "      <td>74</td>\n",
       "      <td>30.20</td>\n",
       "      <td>...</td>\n",
       "      <td>9</td>\n",
       "      <td>5</td>\n",
       "      <td>2</td>\n",
       "      <td>14</td>\n",
       "      <td>5</td>\n",
       "      <td>15</td>\n",
       "      <td>T</td>\n",
       "      <td>8</td>\n",
       "      <td></td>\n",
       "      <td>353</td>\n",
       "    </tr>\n",
       "    <tr>\n",
       "      <th>2013-01-25</th>\n",
       "      <td>30</td>\n",
       "      <td>25</td>\n",
       "      <td>20</td>\n",
       "      <td>18</td>\n",
       "      <td>12</td>\n",
       "      <td>0</td>\n",
       "      <td>74</td>\n",
       "      <td>57</td>\n",
       "      <td>39</td>\n",
       "      <td>30.35</td>\n",
       "      <td>...</td>\n",
       "      <td>10</td>\n",
       "      <td>8</td>\n",
       "      <td>1</td>\n",
       "      <td>16</td>\n",
       "      <td>7</td>\n",
       "      <td>21</td>\n",
       "      <td>0.02</td>\n",
       "      <td>6</td>\n",
       "      <td>Snow</td>\n",
       "      <td>192</td>\n",
       "    </tr>\n",
       "    <tr>\n",
       "      <th>2013-03-02</th>\n",
       "      <td>32</td>\n",
       "      <td>30</td>\n",
       "      <td>27</td>\n",
       "      <td>27</td>\n",
       "      <td>22</td>\n",
       "      <td>19</td>\n",
       "      <td>85</td>\n",
       "      <td>72</td>\n",
       "      <td>59</td>\n",
       "      <td>30.14</td>\n",
       "      <td>...</td>\n",
       "      <td>10</td>\n",
       "      <td>9</td>\n",
       "      <td>2</td>\n",
       "      <td>20</td>\n",
       "      <td>8</td>\n",
       "      <td>23</td>\n",
       "      <td>T</td>\n",
       "      <td>8</td>\n",
       "      <td>Snow</td>\n",
       "      <td>351</td>\n",
       "    </tr>\n",
       "    <tr>\n",
       "      <th>2013-03-06</th>\n",
       "      <td>32</td>\n",
       "      <td>31</td>\n",
       "      <td>29</td>\n",
       "      <td>27</td>\n",
       "      <td>26</td>\n",
       "      <td>25</td>\n",
       "      <td>92</td>\n",
       "      <td>85</td>\n",
       "      <td>78</td>\n",
       "      <td>30.31</td>\n",
       "      <td>...</td>\n",
       "      <td>10</td>\n",
       "      <td>5</td>\n",
       "      <td>1</td>\n",
       "      <td>22</td>\n",
       "      <td>9</td>\n",
       "      <td>33</td>\n",
       "      <td>0.04</td>\n",
       "      <td>8</td>\n",
       "      <td>Snow</td>\n",
       "      <td>314</td>\n",
       "    </tr>\n",
       "  </tbody>\n",
       "</table>\n",
       "<p>7 rows × 22 columns</p>\n",
       "</div>"
      ],
      "text/plain": [
       "            max_temp  mean_temp  min_temp  max_dew  mean_dew  min_dew  \\\n",
       "date                                                                    \n",
       "2012-11-24        31         26        21       20        18       15   \n",
       "2012-12-21        29         26        22       25        19       15   \n",
       "2012-12-29        32         28        23       28        25       16   \n",
       "2013-01-01        32         26        20       31        25       16   \n",
       "2013-01-25        30         25        20       18        12        0   \n",
       "2013-03-02        32         30        27       27        22       19   \n",
       "2013-03-06        32         31        29       27        26       25   \n",
       "\n",
       "            max_humidity  mean_humidity  min_humidity  max_pressure    ...     \\\n",
       "date                                                                   ...      \n",
       "2012-11-24            81             72            63         30.30    ...      \n",
       "2012-12-21            85             74            63         30.21    ...      \n",
       "2012-12-29            92             80            68         30.29    ...      \n",
       "2013-01-01            92             83            74         30.20    ...      \n",
       "2013-01-25            74             57            39         30.35    ...      \n",
       "2013-03-02            85             72            59         30.14    ...      \n",
       "2013-03-06            92             85            78         30.31    ...      \n",
       "\n",
       "            max_visibilty  mean_visibility  min_visibility  max_wind  \\\n",
       "date                                                                   \n",
       "2012-11-24             10               10               9         9   \n",
       "2012-12-21             10                5               0        25   \n",
       "2012-12-29             10                3               0        18   \n",
       "2013-01-01              9                5               2        14   \n",
       "2013-01-25             10                8               1        16   \n",
       "2013-03-02             10                9               2        20   \n",
       "2013-03-06             10                5               1        22   \n",
       "\n",
       "            mean_wind  min_wind  precipitation  cloud_cover    events  \\\n",
       "date                                                                    \n",
       "2012-11-24          4        14           0.00            4             \n",
       "2012-12-21         14        39           0.02            7  Fog-Snow   \n",
       "2012-12-29          9        29           0.20            8  Fog-Snow   \n",
       "2013-01-01          5        15              T            8             \n",
       "2013-01-25          7        21           0.02            6      Snow   \n",
       "2013-03-02          8        23              T            8      Snow   \n",
       "2013-03-06          9        33           0.04            8      Snow   \n",
       "\n",
       "            wind_dir  \n",
       "date                  \n",
       "2012-11-24       270  \n",
       "2012-12-21       285  \n",
       "2012-12-29       308  \n",
       "2013-01-01       353  \n",
       "2013-01-25       192  \n",
       "2013-03-02       351  \n",
       "2013-03-06       314  \n",
       "\n",
       "[7 rows x 22 columns]"
      ]
     },
     "execution_count": 50,
     "metadata": {},
     "output_type": "execute_result"
    }
   ],
   "source": [
    "data[(data.max_temp <= 32) & (data.min_temp >= 20)]"
   ]
  },
  {
   "cell_type": "markdown",
   "metadata": {
    "button": false,
    "deletable": true,
    "editable": true,
    "new_sheet": false,
    "run_control": {
     "read_only": false
    }
   },
   "source": [
    "It's important to understand what's really going on underneath with filtering. Let's look at what kind of object we actually get back when creating a filter."
   ]
  },
  {
   "cell_type": "code",
   "execution_count": 51,
   "metadata": {
    "button": false,
    "collapsed": false,
    "deletable": true,
    "editable": true,
    "new_sheet": false,
    "run_control": {
     "read_only": false
    }
   },
   "outputs": [
    {
     "data": {
      "text/plain": [
       "pandas.core.series.Series"
      ]
     },
     "execution_count": 51,
     "metadata": {},
     "output_type": "execute_result"
    }
   ],
   "source": [
    "temp_max = data.max_temp <= 32\n",
    "type(temp_max)"
   ]
  },
  {
   "cell_type": "markdown",
   "metadata": {
    "button": false,
    "deletable": true,
    "editable": true,
    "new_sheet": false,
    "run_control": {
     "read_only": false
    }
   },
   "source": [
    "This is a pandas `Series` object, which is the one-dimensional equivalent of a DataFrame. Because our DataFrame uses datetime objects for the index, we have a specialized `TimeSeries` object.\n",
    "\n",
    "What's inside the filter?"
   ]
  },
  {
   "cell_type": "code",
   "execution_count": 52,
   "metadata": {
    "button": false,
    "collapsed": false,
    "deletable": true,
    "editable": true,
    "new_sheet": false,
    "run_control": {
     "read_only": false
    }
   },
   "outputs": [
    {
     "data": {
      "text/plain": [
       "date\n",
       "2012-03-10    False\n",
       "2012-03-11    False\n",
       "2012-03-12    False\n",
       "2012-03-13    False\n",
       "2012-03-14    False\n",
       "2012-03-15    False\n",
       "2012-03-16    False\n",
       "2012-03-17    False\n",
       "2012-03-18    False\n",
       "2012-03-19    False\n",
       "2012-03-20    False\n",
       "2012-03-21    False\n",
       "2012-03-22    False\n",
       "2012-03-23    False\n",
       "2012-03-24    False\n",
       "2012-03-25    False\n",
       "2012-03-26    False\n",
       "2012-03-27    False\n",
       "2012-03-28    False\n",
       "2012-03-29    False\n",
       "2012-03-30    False\n",
       "2012-03-31    False\n",
       "2012-04-01    False\n",
       "2012-04-02    False\n",
       "2012-04-03    False\n",
       "2012-04-04    False\n",
       "2012-04-05    False\n",
       "2012-04-06    False\n",
       "2012-04-07    False\n",
       "2012-04-08    False\n",
       "              ...  \n",
       "2013-02-09    False\n",
       "2013-02-10    False\n",
       "2013-02-11    False\n",
       "2013-02-12    False\n",
       "2013-02-13    False\n",
       "2013-02-14    False\n",
       "2013-02-15    False\n",
       "2013-02-16     True\n",
       "2013-02-17    False\n",
       "2013-02-18    False\n",
       "2013-02-19    False\n",
       "2013-02-20     True\n",
       "2013-02-21    False\n",
       "2013-02-22    False\n",
       "2013-02-23    False\n",
       "2013-02-24    False\n",
       "2013-02-25    False\n",
       "2013-02-26    False\n",
       "2013-02-27    False\n",
       "2013-02-28    False\n",
       "2013-03-01    False\n",
       "2013-03-02     True\n",
       "2013-03-03    False\n",
       "2013-03-04    False\n",
       "2013-03-05    False\n",
       "2013-03-06     True\n",
       "2013-03-07    False\n",
       "2013-03-08    False\n",
       "2013-03-09    False\n",
       "2013-03-10    False\n",
       "Name: max_temp, dtype: bool"
      ]
     },
     "execution_count": 52,
     "metadata": {},
     "output_type": "execute_result"
    }
   ],
   "source": [
    "temp_max"
   ]
  },
  {
   "cell_type": "markdown",
   "metadata": {
    "button": false,
    "deletable": true,
    "editable": true,
    "new_sheet": false,
    "run_control": {
     "read_only": false
    }
   },
   "source": [
    "Our filter is nothing more than a `Series` with a *boolean value for every item in the index*. When we \"run the filter\" as so:"
   ]
  },
  {
   "cell_type": "code",
   "execution_count": 53,
   "metadata": {
    "button": false,
    "collapsed": false,
    "deletable": true,
    "editable": true,
    "new_sheet": false,
    "run_control": {
     "read_only": false
    }
   },
   "outputs": [
    {
     "name": "stdout",
     "output_type": "stream",
     "text": [
      "<class 'pandas.core.frame.DataFrame'>\n",
      "DatetimeIndex: 21 entries, 2012-11-24 to 2013-03-06\n",
      "Data columns (total 22 columns):\n",
      "max_temp           21 non-null int64\n",
      "mean_temp          21 non-null int64\n",
      "min_temp           21 non-null int64\n",
      "max_dew            21 non-null int64\n",
      "mean_dew           21 non-null int64\n",
      "min_dew            21 non-null int64\n",
      "max_humidity       21 non-null int64\n",
      "mean_humidity      21 non-null int64\n",
      "min_humidity       21 non-null int64\n",
      "max_pressure       21 non-null float64\n",
      "mean_pressure      21 non-null float64\n",
      "min_pressure       21 non-null float64\n",
      "max_visibilty      21 non-null int64\n",
      "mean_visibility    21 non-null int64\n",
      "min_visibility     21 non-null int64\n",
      "max_wind           21 non-null int64\n",
      "mean_wind          21 non-null int64\n",
      "min_wind           21 non-null float64\n",
      "precipitation      21 non-null object\n",
      "cloud_cover        21 non-null int64\n",
      "events             21 non-null object\n",
      "wind_dir           21 non-null int64\n",
      "dtypes: float64(4), int64(16), object(2)\n",
      "memory usage: 3.8+ KB\n"
     ]
    }
   ],
   "source": [
    "data[temp_max].info()"
   ]
  },
  {
   "cell_type": "markdown",
   "metadata": {
    "button": false,
    "deletable": true,
    "editable": true,
    "new_sheet": false,
    "run_control": {
     "read_only": false
    }
   },
   "source": [
    "pandas lines up the rows of the DataFrame and the filter using the index, and then keeps the rows with a `True` filter value. That's it.\n",
    "\n",
    "Let's create another filter."
   ]
  },
  {
   "cell_type": "code",
   "execution_count": 54,
   "metadata": {
    "button": false,
    "collapsed": false,
    "deletable": true,
    "editable": true,
    "new_sheet": false,
    "run_control": {
     "read_only": false
    }
   },
   "outputs": [
    {
     "data": {
      "text/plain": [
       "date\n",
       "2012-03-10     True\n",
       "2012-03-11     True\n",
       "2012-03-12     True\n",
       "2012-03-13     True\n",
       "2012-03-14     True\n",
       "2012-03-15     True\n",
       "2012-03-16     True\n",
       "2012-03-17     True\n",
       "2012-03-18     True\n",
       "2012-03-19     True\n",
       "2012-03-20     True\n",
       "2012-03-21     True\n",
       "2012-03-22     True\n",
       "2012-03-23     True\n",
       "2012-03-24     True\n",
       "2012-03-25     True\n",
       "2012-03-26     True\n",
       "2012-03-27     True\n",
       "2012-03-28     True\n",
       "2012-03-29     True\n",
       "2012-03-30     True\n",
       "2012-03-31     True\n",
       "2012-04-01     True\n",
       "2012-04-02     True\n",
       "2012-04-03     True\n",
       "2012-04-04     True\n",
       "2012-04-05     True\n",
       "2012-04-06     True\n",
       "2012-04-07     True\n",
       "2012-04-08     True\n",
       "              ...  \n",
       "2013-02-09     True\n",
       "2013-02-10     True\n",
       "2013-02-11     True\n",
       "2013-02-12     True\n",
       "2013-02-13     True\n",
       "2013-02-14     True\n",
       "2013-02-15     True\n",
       "2013-02-16    False\n",
       "2013-02-17    False\n",
       "2013-02-18     True\n",
       "2013-02-19     True\n",
       "2013-02-20    False\n",
       "2013-02-21    False\n",
       "2013-02-22     True\n",
       "2013-02-23     True\n",
       "2013-02-24     True\n",
       "2013-02-25     True\n",
       "2013-02-26     True\n",
       "2013-02-27     True\n",
       "2013-02-28     True\n",
       "2013-03-01     True\n",
       "2013-03-02     True\n",
       "2013-03-03    False\n",
       "2013-03-04    False\n",
       "2013-03-05     True\n",
       "2013-03-06     True\n",
       "2013-03-07     True\n",
       "2013-03-08     True\n",
       "2013-03-09     True\n",
       "2013-03-10     True\n",
       "Name: min_temp, dtype: bool"
      ]
     },
     "execution_count": 54,
     "metadata": {},
     "output_type": "execute_result"
    }
   ],
   "source": [
    "temp_min = data.min_temp >= 20\n",
    "temp_min"
   ]
  },
  {
   "cell_type": "markdown",
   "metadata": {
    "button": false,
    "deletable": true,
    "editable": true,
    "new_sheet": false,
    "run_control": {
     "read_only": false
    }
   },
   "source": [
    "Now we can see what the boolean operations are doing. Something like `&` (**not** `and`)..."
   ]
  },
  {
   "cell_type": "code",
   "execution_count": 55,
   "metadata": {
    "button": false,
    "collapsed": false,
    "deletable": true,
    "editable": true,
    "new_sheet": false,
    "run_control": {
     "read_only": false
    }
   },
   "outputs": [
    {
     "data": {
      "text/plain": [
       "date\n",
       "2012-03-10    False\n",
       "2012-03-11    False\n",
       "2012-03-12    False\n",
       "2012-03-13    False\n",
       "2012-03-14    False\n",
       "2012-03-15    False\n",
       "2012-03-16    False\n",
       "2012-03-17    False\n",
       "2012-03-18    False\n",
       "2012-03-19    False\n",
       "2012-03-20    False\n",
       "2012-03-21    False\n",
       "2012-03-22    False\n",
       "2012-03-23    False\n",
       "2012-03-24    False\n",
       "2012-03-25    False\n",
       "2012-03-26    False\n",
       "2012-03-27    False\n",
       "2012-03-28    False\n",
       "2012-03-29    False\n",
       "2012-03-30    False\n",
       "2012-03-31    False\n",
       "2012-04-01    False\n",
       "2012-04-02    False\n",
       "2012-04-03    False\n",
       "2012-04-04    False\n",
       "2012-04-05    False\n",
       "2012-04-06    False\n",
       "2012-04-07    False\n",
       "2012-04-08    False\n",
       "              ...  \n",
       "2013-02-09    False\n",
       "2013-02-10    False\n",
       "2013-02-11    False\n",
       "2013-02-12    False\n",
       "2013-02-13    False\n",
       "2013-02-14    False\n",
       "2013-02-15    False\n",
       "2013-02-16    False\n",
       "2013-02-17    False\n",
       "2013-02-18    False\n",
       "2013-02-19    False\n",
       "2013-02-20    False\n",
       "2013-02-21    False\n",
       "2013-02-22    False\n",
       "2013-02-23    False\n",
       "2013-02-24    False\n",
       "2013-02-25    False\n",
       "2013-02-26    False\n",
       "2013-02-27    False\n",
       "2013-02-28    False\n",
       "2013-03-01    False\n",
       "2013-03-02     True\n",
       "2013-03-03    False\n",
       "2013-03-04    False\n",
       "2013-03-05    False\n",
       "2013-03-06     True\n",
       "2013-03-07    False\n",
       "2013-03-08    False\n",
       "2013-03-09    False\n",
       "2013-03-10    False\n",
       "dtype: bool"
      ]
     },
     "execution_count": 55,
     "metadata": {},
     "output_type": "execute_result"
    }
   ],
   "source": [
    "temp_min & temp_max"
   ]
  },
  {
   "cell_type": "markdown",
   "metadata": {
    "button": false,
    "deletable": true,
    "editable": true,
    "new_sheet": false,
    "run_control": {
     "read_only": false
    }
   },
   "source": [
    "...is just lining up the two filters using the index, performing a boolean AND operation, and returning the result as another `Series`.\n",
    "\n",
    "We can do other boolean operations too, like OR:"
   ]
  },
  {
   "cell_type": "code",
   "execution_count": 56,
   "metadata": {
    "button": false,
    "collapsed": false,
    "deletable": true,
    "editable": true,
    "new_sheet": false,
    "run_control": {
     "read_only": false
    }
   },
   "outputs": [
    {
     "data": {
      "text/plain": [
       "date\n",
       "2012-03-10     True\n",
       "2012-03-11     True\n",
       "2012-03-12     True\n",
       "2012-03-13     True\n",
       "2012-03-14     True\n",
       "2012-03-15     True\n",
       "2012-03-16     True\n",
       "2012-03-17     True\n",
       "2012-03-18     True\n",
       "2012-03-19     True\n",
       "2012-03-20     True\n",
       "2012-03-21     True\n",
       "2012-03-22     True\n",
       "2012-03-23     True\n",
       "2012-03-24     True\n",
       "2012-03-25     True\n",
       "2012-03-26     True\n",
       "2012-03-27     True\n",
       "2012-03-28     True\n",
       "2012-03-29     True\n",
       "2012-03-30     True\n",
       "2012-03-31     True\n",
       "2012-04-01     True\n",
       "2012-04-02     True\n",
       "2012-04-03     True\n",
       "2012-04-04     True\n",
       "2012-04-05     True\n",
       "2012-04-06     True\n",
       "2012-04-07     True\n",
       "2012-04-08     True\n",
       "              ...  \n",
       "2013-02-09     True\n",
       "2013-02-10     True\n",
       "2013-02-11     True\n",
       "2013-02-12     True\n",
       "2013-02-13     True\n",
       "2013-02-14     True\n",
       "2013-02-15     True\n",
       "2013-02-16     True\n",
       "2013-02-17    False\n",
       "2013-02-18     True\n",
       "2013-02-19     True\n",
       "2013-02-20     True\n",
       "2013-02-21    False\n",
       "2013-02-22     True\n",
       "2013-02-23     True\n",
       "2013-02-24     True\n",
       "2013-02-25     True\n",
       "2013-02-26     True\n",
       "2013-02-27     True\n",
       "2013-02-28     True\n",
       "2013-03-01     True\n",
       "2013-03-02     True\n",
       "2013-03-03    False\n",
       "2013-03-04    False\n",
       "2013-03-05     True\n",
       "2013-03-06     True\n",
       "2013-03-07     True\n",
       "2013-03-08     True\n",
       "2013-03-09     True\n",
       "2013-03-10     True\n",
       "dtype: bool"
      ]
     },
     "execution_count": 56,
     "metadata": {},
     "output_type": "execute_result"
    }
   ],
   "source": [
    "temp_min | temp_max"
   ]
  },
  {
   "cell_type": "markdown",
   "metadata": {
    "button": false,
    "deletable": true,
    "editable": true,
    "new_sheet": false,
    "run_control": {
     "read_only": false
    }
   },
   "source": [
    "Because the result is just another `Series`, we have all of the regular pandas functions at our disposal. The `any()` function returns `True` if any value in the `Series` is `True`."
   ]
  },
  {
   "cell_type": "code",
   "execution_count": 57,
   "metadata": {
    "button": false,
    "collapsed": false,
    "deletable": true,
    "editable": true,
    "new_sheet": false,
    "run_control": {
     "read_only": false
    }
   },
   "outputs": [
    {
     "data": {
      "text/plain": [
       "True"
      ]
     },
     "execution_count": 57,
     "metadata": {},
     "output_type": "execute_result"
    }
   ],
   "source": [
    "temp_both = temp_min & temp_max\n",
    "temp_both.any()"
   ]
  },
  {
   "cell_type": "markdown",
   "metadata": {
    "button": false,
    "deletable": true,
    "editable": true,
    "new_sheet": false,
    "run_control": {
     "read_only": false
    }
   },
   "source": [
    "Sometimes filters aren't so intuitive. This (sadly) doesn't work:"
   ]
  },
  {
   "cell_type": "code",
   "execution_count": 58,
   "metadata": {
    "button": false,
    "collapsed": true,
    "deletable": true,
    "editable": true,
    "new_sheet": false,
    "run_control": {
     "read_only": false
    }
   },
   "outputs": [],
   "source": [
    "try:\n",
    "    data[\"Rain\" in data.events]\n",
    "except:\n",
    "    pass # \"KeyError: no item named False\""
   ]
  },
  {
   "cell_type": "markdown",
   "metadata": {
    "button": false,
    "deletable": true,
    "editable": true,
    "new_sheet": false,
    "run_control": {
     "read_only": false
    }
   },
   "source": [
    "We can wrap it up in an `apply()` call fairly easily, though:"
   ]
  },
  {
   "cell_type": "code",
   "execution_count": 59,
   "metadata": {
    "button": false,
    "collapsed": false,
    "deletable": true,
    "editable": true,
    "new_sheet": false,
    "run_control": {
     "read_only": false
    }
   },
   "outputs": [
    {
     "name": "stdout",
     "output_type": "stream",
     "text": [
      "<class 'pandas.core.frame.DataFrame'>\n",
      "DatetimeIndex: 121 entries, 2012-03-11 to 2013-03-05\n",
      "Data columns (total 22 columns):\n",
      "max_temp           121 non-null int64\n",
      "mean_temp          121 non-null int64\n",
      "min_temp           121 non-null int64\n",
      "max_dew            121 non-null int64\n",
      "mean_dew           121 non-null int64\n",
      "min_dew            121 non-null int64\n",
      "max_humidity       121 non-null int64\n",
      "mean_humidity      121 non-null int64\n",
      "min_humidity       121 non-null int64\n",
      "max_pressure       121 non-null float64\n",
      "mean_pressure      121 non-null float64\n",
      "min_pressure       121 non-null float64\n",
      "max_visibilty      121 non-null int64\n",
      "mean_visibility    121 non-null int64\n",
      "min_visibility     121 non-null int64\n",
      "max_wind           121 non-null int64\n",
      "mean_wind          121 non-null int64\n",
      "min_wind           121 non-null float64\n",
      "precipitation      121 non-null object\n",
      "cloud_cover        121 non-null int64\n",
      "events             121 non-null object\n",
      "wind_dir           121 non-null int64\n",
      "dtypes: float64(4), int64(16), object(2)\n",
      "memory usage: 21.7+ KB\n"
     ]
    }
   ],
   "source": [
    "data[data.events.apply(lambda e: \"Rain\" in e)].info()"
   ]
  },
  {
   "cell_type": "markdown",
   "metadata": {
    "button": false,
    "deletable": true,
    "editable": true,
    "new_sheet": false,
    "run_control": {
     "read_only": false
    }
   },
   "source": [
    "## Exercise 5:\n",
    "\n",
    "Before starting the exercise, let's convert the precipitation column in the dataset to floating point numbers. It's currently full of strings because of the \"T\" value, which stands for \"trace amount of precipitation.\""
   ]
  },
  {
   "cell_type": "code",
   "execution_count": 60,
   "metadata": {
    "button": false,
    "collapsed": false,
    "deletable": true,
    "editable": true,
    "new_sheet": false,
    "run_control": {
     "read_only": false
    }
   },
   "outputs": [
    {
     "data": {
      "text/plain": [
       "date\n",
       "2012-03-10    0.00\n",
       "2012-03-11       T\n",
       "2012-03-12    0.03\n",
       "2012-03-13    0.00\n",
       "2012-03-14    0.00\n",
       "Name: precipitation, dtype: object"
      ]
     },
     "execution_count": 60,
     "metadata": {},
     "output_type": "execute_result"
    }
   ],
   "source": [
    "data.precipitation.head()"
   ]
  },
  {
   "cell_type": "markdown",
   "metadata": {
    "button": false,
    "deletable": true,
    "editable": true,
    "new_sheet": false,
    "run_control": {
     "read_only": false
    }
   },
   "source": [
    "We'll replace \"T\" with a very small number, and convert the rest of the strings to floats:"
   ]
  },
  {
   "cell_type": "code",
   "execution_count": 61,
   "metadata": {
    "button": false,
    "collapsed": false,
    "deletable": true,
    "editable": true,
    "new_sheet": false,
    "run_control": {
     "read_only": false
    }
   },
   "outputs": [
    {
     "data": {
      "text/plain": [
       "date\n",
       "2012-03-10    0.000000e+00\n",
       "2012-03-11    1.000000e-10\n",
       "2012-03-12    3.000000e-02\n",
       "2012-03-13    0.000000e+00\n",
       "2012-03-14    0.000000e+00\n",
       "Name: precipitation, dtype: float64"
      ]
     },
     "execution_count": 61,
     "metadata": {},
     "output_type": "execute_result"
    }
   ],
   "source": [
    "# Convert precipitation to floating point number\n",
    "# \"T\" means \"trace of precipitation\"\n",
    "def precipitation_to_float(precip_str):\n",
    "    if precip_str == \"T\":\n",
    "        return 1e-10  # Very small value\n",
    "    return float(precip_str)\n",
    "\n",
    "data.precipitation = data.precipitation.apply(precipitation_to_float)\n",
    "data.precipitation.head()"
   ]
  },
  {
   "cell_type": "markdown",
   "metadata": {
    "button": false,
    "deletable": true,
    "editable": true,
    "new_sheet": false,
    "run_control": {
     "read_only": false
    }
   },
   "source": [
    "Now on to the exercise.\n",
    "\n",
    "What was the coldest and hottest it ever got when there was no cloud cover and no precipitation?"
   ]
  },
  {
   "cell_type": "code",
   "execution_count": null,
   "metadata": {
    "button": false,
    "collapsed": false,
    "deletable": true,
    "editable": true,
    "new_sheet": false,
    "run_control": {
     "read_only": false
    }
   },
   "outputs": [],
   "source": []
  },
  {
   "cell_type": "markdown",
   "metadata": {
    "button": false,
    "deletable": true,
    "editable": true,
    "new_sheet": false,
    "run_control": {
     "read_only": false
    }
   },
   "source": [
    "## Grouping"
   ]
  },
  {
   "cell_type": "markdown",
   "metadata": {
    "button": false,
    "deletable": true,
    "editable": true,
    "new_sheet": false,
    "run_control": {
     "read_only": false
    }
   },
   "source": [
    "Besides `apply()`, another great DataFrame function is `groupby()`.\n",
    "It will group a DataFrame by one or more columns, and let you iterate through each group.\n",
    "\n",
    "As an example, let's group our DataFrame by the \"cloud_cover\" column (a value ranging from 0 to 8)."
   ]
  },
  {
   "cell_type": "code",
   "execution_count": 62,
   "metadata": {
    "button": false,
    "collapsed": false,
    "deletable": true,
    "editable": true,
    "new_sheet": false,
    "run_control": {
     "read_only": false
    }
   },
   "outputs": [
    {
     "data": {
      "text/plain": [
       "{0: 59.730769230769234,\n",
       " 1: 61.415094339622641,\n",
       " 2: 59.727272727272727,\n",
       " 3: 58.0625,\n",
       " 4: 51.5,\n",
       " 5: 50.827586206896555,\n",
       " 6: 57.727272727272727,\n",
       " 7: 46.5,\n",
       " 8: 40.909090909090907}"
      ]
     },
     "execution_count": 62,
     "metadata": {},
     "output_type": "execute_result"
    }
   ],
   "source": [
    "cover_temps = {}\n",
    "for cover, cover_data in data.groupby(\"cloud_cover\"):\n",
    "    cover_temps[cover] = cover_data.mean_temp.mean()  # The mean mean temp!\n",
    "cover_temps"
   ]
  },
  {
   "cell_type": "markdown",
   "metadata": {
    "button": false,
    "deletable": true,
    "editable": true,
    "new_sheet": false,
    "run_control": {
     "read_only": false
    }
   },
   "source": [
    "When you iterate through the result of `groupby()`, you will get a tuple.\n",
    "The first item is the column value, and the second item is a filtered DataFrame (where the column equals the first tuple value).\n",
    "\n",
    "You can group by more than one column as well.\n",
    "In this case, the first tuple item returned by `groupby()` will itself be a tuple with the value of each column."
   ]
  },
  {
   "cell_type": "code",
   "execution_count": 63,
   "metadata": {
    "button": false,
    "collapsed": false,
    "deletable": true,
    "editable": true,
    "new_sheet": false,
    "run_control": {
     "read_only": false
    }
   },
   "outputs": [
    {
     "name": "stdout",
     "output_type": "stream",
     "text": [
      "Cover: 0, Events: , Count: 99\n",
      "Cover: 0, Events: Fog, Count: 2\n",
      "Cover: 0, Events: Rain, Count: 2\n",
      "Cover: 0, Events: Thunderstorm, Count: 1\n",
      "Cover: 1, Events: , Count: 35\n",
      "Cover: 1, Events: Fog, Count: 5\n",
      "Cover: 1, Events: Fog-Rain, Count: 1\n",
      "Cover: 1, Events: Rain, Count: 4\n",
      "Cover: 1, Events: Rain-Thunderstorm, Count: 2\n",
      "Cover: 1, Events: Thunderstorm, Count: 6\n",
      "Cover: 2, Events: , Count: 20\n",
      "Cover: 2, Events: Fog, Count: 1\n",
      "Cover: 2, Events: Rain, Count: 5\n",
      "Cover: 2, Events: Rain-Thunderstorm, Count: 4\n",
      "Cover: 2, Events: Snow, Count: 1\n",
      "Cover: 2, Events: Thunderstorm, Count: 2\n",
      "Cover: 3, Events: , Count: 12\n",
      "Cover: 3, Events: Fog, Count: 2\n",
      "Cover: 3, Events: Fog-Rain-Thunderstorm, Count: 3\n",
      "Cover: 3, Events: Fog-Thunderstorm, Count: 1\n",
      "Cover: 3, Events: Rain, Count: 9\n",
      "Cover: 3, Events: Rain-Thunderstorm, Count: 4\n",
      "Cover: 3, Events: Snow, Count: 1\n",
      "Cover: 4, Events: , Count: 16\n",
      "Cover: 4, Events: Fog, Count: 3\n",
      "Cover: 4, Events: Fog-Rain, Count: 2\n",
      "Cover: 4, Events: Fog-Rain-Thunderstorm, Count: 2\n",
      "Cover: 4, Events: Rain, Count: 10\n",
      "Cover: 4, Events: Rain-Thunderstorm, Count: 6\n",
      "Cover: 4, Events: Snow, Count: 1\n",
      "Cover: 5, Events: , Count: 9\n",
      "Cover: 5, Events: Fog-Rain, Count: 1\n",
      "Cover: 5, Events: Fog-Rain-Snow, Count: 1\n",
      "Cover: 5, Events: Rain, Count: 13\n",
      "Cover: 5, Events: Rain-Thunderstorm, Count: 3\n",
      "Cover: 5, Events: Snow, Count: 2\n",
      "Cover: 6, Events: , Count: 3\n",
      "Cover: 6, Events: Fog-Rain, Count: 2\n",
      "Cover: 6, Events: Fog-Rain-Snow, Count: 1\n",
      "Cover: 6, Events: Fog-Rain-Thunderstorm, Count: 2\n",
      "Cover: 6, Events: Rain, Count: 9\n",
      "Cover: 6, Events: Rain-Thunderstorm, Count: 4\n",
      "Cover: 6, Events: Snow, Count: 1\n",
      "Cover: 7, Events: , Count: 5\n",
      "Cover: 7, Events: Fog-Rain, Count: 1\n",
      "Cover: 7, Events: Fog-Rain-Thunderstorm, Count: 1\n",
      "Cover: 7, Events: Fog-Snow, Count: 3\n",
      "Cover: 7, Events: Rain, Count: 6\n",
      "Cover: 7, Events: Rain-Thunderstorm, Count: 3\n",
      "Cover: 7, Events: Snow, Count: 1\n",
      "Cover: 8, Events: , Count: 5\n",
      "Cover: 8, Events: Fog-Rain, Count: 4\n",
      "Cover: 8, Events: Fog-Rain-Snow, Count: 1\n",
      "Cover: 8, Events: Fog-Rain-Snow-Thunderstorm, Count: 1\n",
      "Cover: 8, Events: Fog-Snow, Count: 2\n",
      "Cover: 8, Events: Rain, Count: 11\n",
      "Cover: 8, Events: Rain-Snow, Count: 3\n",
      "Cover: 8, Events: Snow, Count: 6\n"
     ]
    }
   ],
   "source": [
    "for (cover, events), group_data in data.groupby([\"cloud_cover\", \"events\"]):\n",
    "    print(\"Cover: {0}, Events: {1}, Count: {2}\".format(cover, events, len(group_data)))"
   ]
  },
  {
   "cell_type": "markdown",
   "metadata": {
    "button": false,
    "deletable": true,
    "editable": true,
    "new_sheet": false,
    "run_control": {
     "read_only": false
    }
   },
   "source": [
    "## Creating New Columns"
   ]
  },
  {
   "cell_type": "markdown",
   "metadata": {
    "button": false,
    "deletable": true,
    "editable": true,
    "new_sheet": false,
    "run_control": {
     "read_only": false
    }
   },
   "source": [
    "Weather events in our DataFrame are stored in strings like \"Rain-Thunderstorm\" to represent that it rained and there was a thunderstorm that day. Let's split them out into boolean \"rain\", \"thunderstorm\", etc. columns.\n",
    "\n",
    "First, let's discover the different kinds of weather events we have with `unique()`."
   ]
  },
  {
   "cell_type": "code",
   "execution_count": 64,
   "metadata": {
    "button": false,
    "collapsed": false,
    "deletable": true,
    "editable": true,
    "new_sheet": false,
    "run_control": {
     "read_only": false
    }
   },
   "outputs": [
    {
     "data": {
      "text/plain": [
       "array(['', 'Rain', 'Rain-Thunderstorm', 'Fog-Thunderstorm', 'Fog-Rain',\n",
       "       'Thunderstorm', 'Fog-Rain-Thunderstorm', 'Fog', 'Fog-Rain-Snow',\n",
       "       'Fog-Rain-Snow-Thunderstorm', 'Fog-Snow', 'Snow', 'Rain-Snow'], dtype=object)"
      ]
     },
     "execution_count": 64,
     "metadata": {},
     "output_type": "execute_result"
    }
   ],
   "source": [
    "data.events.unique()"
   ]
  },
  {
   "cell_type": "markdown",
   "metadata": {
    "button": false,
    "deletable": true,
    "editable": true,
    "new_sheet": false,
    "run_control": {
     "read_only": false
    }
   },
   "source": [
    "Looks like we have \"Rain\", \"Thunderstorm\", \"Fog\", and \"Snow\" events. Creating a new column for each of these event kinds is a piece of cake with the dictionary syntax."
   ]
  },
  {
   "cell_type": "code",
   "execution_count": 65,
   "metadata": {
    "button": false,
    "collapsed": false,
    "deletable": true,
    "editable": true,
    "new_sheet": false,
    "run_control": {
     "read_only": false
    }
   },
   "outputs": [
    {
     "name": "stdout",
     "output_type": "stream",
     "text": [
      "<class 'pandas.core.frame.DataFrame'>\n",
      "DatetimeIndex: 366 entries, 2012-03-10 to 2013-03-10\n",
      "Data columns (total 26 columns):\n",
      "max_temp           366 non-null int64\n",
      "mean_temp          366 non-null int64\n",
      "min_temp           366 non-null int64\n",
      "max_dew            366 non-null int64\n",
      "mean_dew           366 non-null int64\n",
      "min_dew            366 non-null int64\n",
      "max_humidity       366 non-null int64\n",
      "mean_humidity      366 non-null int64\n",
      "min_humidity       366 non-null int64\n",
      "max_pressure       366 non-null float64\n",
      "mean_pressure      366 non-null float64\n",
      "min_pressure       366 non-null float64\n",
      "max_visibilty      366 non-null int64\n",
      "mean_visibility    366 non-null int64\n",
      "min_visibility     366 non-null int64\n",
      "max_wind           366 non-null int64\n",
      "mean_wind          366 non-null int64\n",
      "min_wind           365 non-null float64\n",
      "precipitation      366 non-null float64\n",
      "cloud_cover        366 non-null int64\n",
      "events             366 non-null object\n",
      "wind_dir           366 non-null int64\n",
      "rain               366 non-null bool\n",
      "thunderstorm       366 non-null bool\n",
      "fog                366 non-null bool\n",
      "snow               366 non-null bool\n",
      "dtypes: bool(4), float64(5), int64(16), object(1)\n",
      "memory usage: 67.2+ KB\n"
     ]
    }
   ],
   "source": [
    "for event_kind in [\"Rain\", \"Thunderstorm\", \"Fog\", \"Snow\"]:\n",
    "    col_name = event_kind.lower()  # Turn \"Rain\" into \"rain\", etc.\n",
    "    data[col_name] = data.events.apply(lambda e: event_kind in e)\n",
    "data.info()"
   ]
  },
  {
   "cell_type": "markdown",
   "metadata": {
    "button": false,
    "deletable": true,
    "editable": true,
    "new_sheet": false,
    "run_control": {
     "read_only": false
    }
   },
   "source": [
    "Our new columns show up at the bottom. We can access them now with the dot syntax."
   ]
  },
  {
   "cell_type": "code",
   "execution_count": 66,
   "metadata": {
    "button": false,
    "collapsed": false,
    "deletable": true,
    "editable": true,
    "new_sheet": false,
    "run_control": {
     "read_only": false
    }
   },
   "outputs": [
    {
     "data": {
      "text/plain": [
       "date\n",
       "2012-03-10    False\n",
       "2012-03-11     True\n",
       "2012-03-12     True\n",
       "2012-03-13    False\n",
       "2012-03-14    False\n",
       "2012-03-15     True\n",
       "2012-03-16    False\n",
       "2012-03-17    False\n",
       "2012-03-18     True\n",
       "2012-03-19    False\n",
       "2012-03-20    False\n",
       "2012-03-21    False\n",
       "2012-03-22     True\n",
       "2012-03-23     True\n",
       "2012-03-24     True\n",
       "2012-03-25    False\n",
       "2012-03-26    False\n",
       "2012-03-27    False\n",
       "2012-03-28    False\n",
       "2012-03-29     True\n",
       "2012-03-30     True\n",
       "2012-03-31    False\n",
       "2012-04-01     True\n",
       "2012-04-02    False\n",
       "2012-04-03    False\n",
       "2012-04-04     True\n",
       "2012-04-05     True\n",
       "2012-04-06    False\n",
       "2012-04-07    False\n",
       "2012-04-08     True\n",
       "              ...  \n",
       "2013-02-09    False\n",
       "2013-02-10     True\n",
       "2013-02-11    False\n",
       "2013-02-12    False\n",
       "2013-02-13    False\n",
       "2013-02-14    False\n",
       "2013-02-15    False\n",
       "2013-02-16    False\n",
       "2013-02-17    False\n",
       "2013-02-18     True\n",
       "2013-02-19     True\n",
       "2013-02-20    False\n",
       "2013-02-21     True\n",
       "2013-02-22     True\n",
       "2013-02-23    False\n",
       "2013-02-24    False\n",
       "2013-02-25    False\n",
       "2013-02-26     True\n",
       "2013-02-27    False\n",
       "2013-02-28     True\n",
       "2013-03-01    False\n",
       "2013-03-02    False\n",
       "2013-03-03    False\n",
       "2013-03-04     True\n",
       "2013-03-05     True\n",
       "2013-03-06    False\n",
       "2013-03-07    False\n",
       "2013-03-08    False\n",
       "2013-03-09    False\n",
       "2013-03-10    False\n",
       "Name: rain, dtype: bool"
      ]
     },
     "execution_count": 66,
     "metadata": {},
     "output_type": "execute_result"
    }
   ],
   "source": [
    "data.rain"
   ]
  },
  {
   "cell_type": "markdown",
   "metadata": {
    "button": false,
    "deletable": true,
    "editable": true,
    "new_sheet": false,
    "run_control": {
     "read_only": false
    }
   },
   "source": [
    "We can also do cool things like find out how many `True` values there are (i.e., how many days had rain)..."
   ]
  },
  {
   "cell_type": "code",
   "execution_count": 67,
   "metadata": {
    "button": false,
    "collapsed": false,
    "deletable": true,
    "editable": true,
    "new_sheet": false,
    "run_control": {
     "read_only": false
    }
   },
   "outputs": [
    {
     "data": {
      "text/plain": [
       "121"
      ]
     },
     "execution_count": 67,
     "metadata": {},
     "output_type": "execute_result"
    }
   ],
   "source": [
    "data.rain.sum()"
   ]
  },
  {
   "cell_type": "markdown",
   "metadata": {
    "button": false,
    "deletable": true,
    "editable": true,
    "new_sheet": false,
    "run_control": {
     "read_only": false
    }
   },
   "source": [
    "...and get all the days that had both rain and snow!"
   ]
  },
  {
   "cell_type": "code",
   "execution_count": 68,
   "metadata": {
    "button": false,
    "collapsed": false,
    "deletable": true,
    "editable": true,
    "new_sheet": false,
    "run_control": {
     "read_only": false
    }
   },
   "outputs": [
    {
     "name": "stdout",
     "output_type": "stream",
     "text": [
      "<class 'pandas.core.frame.DataFrame'>\n",
      "DatetimeIndex: 7 entries, 2012-11-12 to 2013-03-05\n",
      "Data columns (total 26 columns):\n",
      "max_temp           7 non-null int64\n",
      "mean_temp          7 non-null int64\n",
      "min_temp           7 non-null int64\n",
      "max_dew            7 non-null int64\n",
      "mean_dew           7 non-null int64\n",
      "min_dew            7 non-null int64\n",
      "max_humidity       7 non-null int64\n",
      "mean_humidity      7 non-null int64\n",
      "min_humidity       7 non-null int64\n",
      "max_pressure       7 non-null float64\n",
      "mean_pressure      7 non-null float64\n",
      "min_pressure       7 non-null float64\n",
      "max_visibilty      7 non-null int64\n",
      "mean_visibility    7 non-null int64\n",
      "min_visibility     7 non-null int64\n",
      "max_wind           7 non-null int64\n",
      "mean_wind          7 non-null int64\n",
      "min_wind           7 non-null float64\n",
      "precipitation      7 non-null float64\n",
      "cloud_cover        7 non-null int64\n",
      "events             7 non-null object\n",
      "wind_dir           7 non-null int64\n",
      "rain               7 non-null bool\n",
      "thunderstorm       7 non-null bool\n",
      "fog                7 non-null bool\n",
      "snow               7 non-null bool\n",
      "dtypes: bool(4), float64(5), int64(16), object(1)\n",
      "memory usage: 1.3+ KB\n"
     ]
    }
   ],
   "source": [
    "data[data.rain & data.snow].info()"
   ]
  },
  {
   "cell_type": "markdown",
   "metadata": {
    "button": false,
    "deletable": true,
    "editable": true,
    "new_sheet": false,
    "run_control": {
     "read_only": false
    }
   },
   "source": [
    "## Exercise 6:\n",
    "\n",
    "Was the mean temperature more variable on days with rain and snow than on days with just rain or just snow?\n",
    "\n",
    "*Hint: don't forget the `std()` function*"
   ]
  },
  {
   "cell_type": "code",
   "execution_count": null,
   "metadata": {
    "button": false,
    "collapsed": false,
    "deletable": true,
    "editable": true,
    "new_sheet": false,
    "run_control": {
     "read_only": false
    }
   },
   "outputs": [],
   "source": []
  },
  {
   "cell_type": "markdown",
   "metadata": {
    "button": false,
    "deletable": true,
    "editable": true,
    "new_sheet": false,
    "run_control": {
     "read_only": false
    }
   },
   "source": [
    "## Plotting"
   ]
  },
  {
   "cell_type": "markdown",
   "metadata": {
    "button": false,
    "deletable": true,
    "editable": true,
    "new_sheet": false,
    "run_control": {
     "read_only": false
    }
   },
   "source": [
    "We've already seen how the `hist()` function makes generating histograms a snap. Let's look at the `plot()` function now."
   ]
  },
  {
   "cell_type": "code",
   "execution_count": 69,
   "metadata": {
    "button": false,
    "collapsed": false,
    "deletable": true,
    "editable": true,
    "new_sheet": false,
    "run_control": {
     "read_only": false
    }
   },
   "outputs": [
    {
     "data": {
      "text/plain": [
       "<matplotlib.axes._subplots.AxesSubplot at 0x10c8a1908>"
      ]
     },
     "execution_count": 69,
     "metadata": {},
     "output_type": "execute_result"
    },
    {
     "data": {
      "image/png": "[encoded data removed]",
      "text/plain": [
       "<matplotlib.figure.Figure at 0x10c942c88>"
      ]
     },
     "metadata": {},
     "output_type": "display_data"
    }
   ],
   "source": [
    "data.max_temp.plot()"
   ]
  },
  {
   "cell_type": "markdown",
   "metadata": {
    "button": false,
    "deletable": true,
    "editable": true,
    "new_sheet": false,
    "run_control": {
     "read_only": false
    }
   },
   "source": [
    "That one line of code did a **lot** for us. First, it created a nice looking line plot using the maximum temperature column from our DataFrame. Second, because we used `datetime` objects in our index, pandas labeled the x-axis appropriately.\n",
    "\n",
    "Pandas is smart too. If we're only looking at a couple of days, the x-axis looks different:"
   ]
  },
  {
   "cell_type": "code",
   "execution_count": 70,
   "metadata": {
    "button": false,
    "collapsed": false,
    "deletable": true,
    "editable": true,
    "new_sheet": false,
    "run_control": {
     "read_only": false
    }
   },
   "outputs": [
    {
     "data": {
      "text/plain": [
       "<matplotlib.axes._subplots.AxesSubplot at 0x10c942160>"
      ]
     },
     "execution_count": 70,
     "metadata": {},
     "output_type": "execute_result"
    },
    {
     "data": {
      "image/png": "[encoded data removed]",
      "text/plain": [
       "<matplotlib.figure.Figure at 0x10d626c18>"
      ]
     },
     "metadata": {},
     "output_type": "display_data"
    }
   ],
   "source": [
    "data.max_temp.tail().plot()"
   ]
  },
  {
   "cell_type": "markdown",
   "metadata": {
    "button": false,
    "deletable": true,
    "editable": true,
    "new_sheet": false,
    "run_control": {
     "read_only": false
    }
   },
   "source": [
    "Prefer a bar plot? Pandas has got your covered."
   ]
  },
  {
   "cell_type": "code",
   "execution_count": 71,
   "metadata": {
    "button": false,
    "collapsed": false,
    "deletable": true,
    "editable": true,
    "new_sheet": false,
    "run_control": {
     "read_only": false
    }
   },
   "outputs": [
    {
     "data": {
      "text/plain": [
       "<matplotlib.axes._subplots.AxesSubplot at 0x10d68d5f8>"
      ]
     },
     "execution_count": 71,
     "metadata": {},
     "output_type": "execute_result"
    },
    {
     "data": {
      "image/png": "[encoded data removed]",
      "text/plain": [
       "<matplotlib.figure.Figure at 0x10d690780>"
      ]
     },
     "metadata": {},
     "output_type": "display_data"
    }
   ],
   "source": [
    "data.max_temp.tail().plot(kind=\"bar\", rot=10)"
   ]
  },
  {
   "cell_type": "markdown",
   "metadata": {
    "button": false,
    "deletable": true,
    "editable": true,
    "new_sheet": false,
    "run_control": {
     "read_only": false
    }
   },
   "source": [
    "The `plot()` function returns a matplotlib `AxesSubPlot` object. You can pass this object into subsequent calls to `plot()` in order to compose plots.\n",
    "\n",
    "Although `plot()` takes a variety of parameters to customize your plot, users familiar with matplotlib will feel right at home with the `AxesSubPlot` object."
   ]
  },
  {
   "cell_type": "code",
   "execution_count": 72,
   "metadata": {
    "button": false,
    "collapsed": false,
    "deletable": true,
    "editable": true,
    "new_sheet": false,
    "run_control": {
     "read_only": false
    }
   },
   "outputs": [
    {
     "data": {
      "text/plain": [
       "<matplotlib.text.Text at 0x10da23908>"
      ]
     },
     "execution_count": 72,
     "metadata": {},
     "output_type": "execute_result"
    },
    {
     "data": {
      "image/png": "[encoded data removed]",
      "text/plain": [
       "<matplotlib.figure.Figure at 0x10d6e08d0>"
      ]
     },
     "metadata": {},
     "output_type": "display_data"
    }
   ],
   "source": [
    "ax = data.max_temp.plot(title=\"Min and Max Temperatures\")\n",
    "data.min_temp.plot(style=\"red\", ax=ax)\n",
    "ax.set_ylabel(\"Temperature (F)\")"
   ]
  },
  {
   "cell_type": "markdown",
   "metadata": {
    "button": false,
    "deletable": true,
    "editable": true,
    "new_sheet": false,
    "run_control": {
     "read_only": false
    }
   },
   "source": [
    "## Exercise 7:\n",
    "\n",
    "Add the mean temperature to the previous plot using a green line. Also, add a legend with the `legend()` method of `ax`."
   ]
  },
  {
   "cell_type": "code",
   "execution_count": null,
   "metadata": {
    "button": false,
    "collapsed": false,
    "deletable": true,
    "editable": true,
    "new_sheet": false,
    "run_control": {
     "read_only": false
    }
   },
   "outputs": [],
   "source": []
  },
  {
   "cell_type": "markdown",
   "metadata": {
    "button": false,
    "deletable": true,
    "editable": true,
    "new_sheet": false,
    "run_control": {
     "read_only": false
    }
   },
   "source": [
    "## Getting Data Out"
   ]
  },
  {
   "cell_type": "markdown",
   "metadata": {
    "button": false,
    "deletable": true,
    "editable": true,
    "new_sheet": false,
    "run_control": {
     "read_only": false
    }
   },
   "source": [
    "Writing data out in pandas is as easy as getting data in. To save our DataFrame out to a new csv file, we can just do this:"
   ]
  },
  {
   "cell_type": "code",
   "execution_count": 73,
   "metadata": {
    "button": false,
    "collapsed": true,
    "deletable": true,
    "editable": true,
    "new_sheet": false,
    "run_control": {
     "read_only": false
    }
   },
   "outputs": [],
   "source": [
    "data.to_csv(\"data/weather-mod.csv\")"
   ]
  },
  {
   "cell_type": "markdown",
   "metadata": {
    "button": false,
    "deletable": true,
    "editable": true,
    "new_sheet": false,
    "run_control": {
     "read_only": false
    }
   },
   "source": [
    "Want to make that tab separated instead? No problem."
   ]
  },
  {
   "cell_type": "code",
   "execution_count": 74,
   "metadata": {
    "button": false,
    "collapsed": true,
    "deletable": true,
    "editable": true,
    "new_sheet": false,
    "run_control": {
     "read_only": false
    }
   },
   "outputs": [],
   "source": [
    "data.to_csv(\"data/weather-mod.tsv\", sep=\"\\t\")"
   ]
  },
  {
   "cell_type": "markdown",
   "metadata": {
    "button": false,
    "deletable": true,
    "editable": true,
    "new_sheet": false,
    "run_control": {
     "read_only": false
    }
   },
   "source": [
    "There's also support for [reading and writing Excel files](http://pandas.pydata.org/pandas-docs/stable/io.html#excel-files), if you need it."
   ]
  },
  {
   "cell_type": "markdown",
   "metadata": {
    "button": false,
    "deletable": true,
    "editable": true,
    "new_sheet": false,
    "run_control": {
     "read_only": false
    }
   },
   "source": [
    "## Reading Excel Files"
   ]
  },
  {
   "cell_type": "markdown",
   "metadata": {
    "button": false,
    "deletable": true,
    "editable": true,
    "new_sheet": false,
    "run_control": {
     "read_only": false
    }
   },
   "source": [
    "The read_excel() method can read Excel 2003 (.xls) and Excel 2007 (.xlsx) files using the xlrd Python module and use the same parsing code as the above to convert tabular data into a DataFrame. See the cookbook for some advanced strategies\n",
    "\n",
    "Besides read_excel you can also read Excel files using the ExcelFile class. The following two commands are equivalent:"
   ]
  },
  {
   "cell_type": "code",
   "execution_count": 75,
   "metadata": {
    "button": false,
    "collapsed": false,
    "deletable": true,
    "editable": true,
    "new_sheet": false,
    "run_control": {
     "read_only": false
    }
   },
   "outputs": [
    {
     "data": {
      "text/html": [
       "<div style=\"max-height:1000px;max-width:1500px;overflow:auto;\">\n",
       "<table border=\"1\" class=\"dataframe\">\n",
       "  <thead>\n",
       "    <tr style=\"text-align: right;\">\n",
       "      <th></th>\n",
       "      <th>Jan</th>\n",
       "      <th>Feb</th>\n",
       "      <th>March</th>\n",
       "      <th>April</th>\n",
       "      <th>May</th>\n",
       "      <th>June</th>\n",
       "      <th>date</th>\n",
       "    </tr>\n",
       "  </thead>\n",
       "  <tbody>\n",
       "    <tr>\n",
       "      <th>0</th>\n",
       "      <td>1</td>\n",
       "      <td>2</td>\n",
       "      <td>4</td>\n",
       "      <td>6</td>\n",
       "      <td>8</td>\n",
       "      <td>10</td>\n",
       "      <td>40909</td>\n",
       "    </tr>\n",
       "    <tr>\n",
       "      <th>1</th>\n",
       "      <td>2</td>\n",
       "      <td>4</td>\n",
       "      <td>8</td>\n",
       "      <td>12</td>\n",
       "      <td>16</td>\n",
       "      <td>20</td>\n",
       "      <td>40910</td>\n",
       "    </tr>\n",
       "    <tr>\n",
       "      <th>2</th>\n",
       "      <td>3</td>\n",
       "      <td>6</td>\n",
       "      <td>12</td>\n",
       "      <td>18</td>\n",
       "      <td>24</td>\n",
       "      <td>30</td>\n",
       "      <td>40911</td>\n",
       "    </tr>\n",
       "    <tr>\n",
       "      <th>3</th>\n",
       "      <td>4</td>\n",
       "      <td>8</td>\n",
       "      <td>16</td>\n",
       "      <td>24</td>\n",
       "      <td>32</td>\n",
       "      <td>40</td>\n",
       "      <td>40912</td>\n",
       "    </tr>\n",
       "    <tr>\n",
       "      <th>4</th>\n",
       "      <td>5</td>\n",
       "      <td>10</td>\n",
       "      <td>20</td>\n",
       "      <td>30</td>\n",
       "      <td>40</td>\n",
       "      <td>50</td>\n",
       "      <td>40913</td>\n",
       "    </tr>\n",
       "    <tr>\n",
       "      <th>5</th>\n",
       "      <td>6</td>\n",
       "      <td>12</td>\n",
       "      <td>24</td>\n",
       "      <td>36</td>\n",
       "      <td>48</td>\n",
       "      <td>60</td>\n",
       "      <td>40914</td>\n",
       "    </tr>\n",
       "    <tr>\n",
       "      <th>6</th>\n",
       "      <td>7</td>\n",
       "      <td>14</td>\n",
       "      <td>28</td>\n",
       "      <td>42</td>\n",
       "      <td>56</td>\n",
       "      <td>70</td>\n",
       "      <td>40915</td>\n",
       "    </tr>\n",
       "    <tr>\n",
       "      <th>7</th>\n",
       "      <td>8</td>\n",
       "      <td>16</td>\n",
       "      <td>32</td>\n",
       "      <td>48</td>\n",
       "      <td>64</td>\n",
       "      <td>80</td>\n",
       "      <td>40916</td>\n",
       "    </tr>\n",
       "    <tr>\n",
       "      <th>8</th>\n",
       "      <td>9</td>\n",
       "      <td>18</td>\n",
       "      <td>36</td>\n",
       "      <td>54</td>\n",
       "      <td>72</td>\n",
       "      <td>90</td>\n",
       "      <td>40917</td>\n",
       "    </tr>\n",
       "  </tbody>\n",
       "</table>\n",
       "</div>"
      ],
      "text/plain": [
       "   Jan  Feb  March  April  May  June   date\n",
       "0    1    2      4      6    8    10  40909\n",
       "1    2    4      8     12   16    20  40910\n",
       "2    3    6     12     18   24    30  40911\n",
       "3    4    8     16     24   32    40  40912\n",
       "4    5   10     20     30   40    50  40913\n",
       "5    6   12     24     36   48    60  40914\n",
       "6    7   14     28     42   56    70  40915\n",
       "7    8   16     32     48   64    80  40916\n",
       "8    9   18     36     54   72    90  40917"
      ]
     },
     "execution_count": 75,
     "metadata": {},
     "output_type": "execute_result"
    }
   ],
   "source": [
    "# using the ExcelFile class\n",
    "xls = pandas.ExcelFile('data/mock_data.xls')\n",
    "xls.parse('Sheet1', index_col=None, na_values=['NA'])\n",
    "\n",
    "# using the read_excel function\n",
    "pandas.read_excel('data/mock_data.xls', 'Sheet1', index_col=None, na_values=['NA'])"
   ]
  },
  {
   "cell_type": "code",
   "execution_count": 76,
   "metadata": {
    "button": false,
    "collapsed": false,
    "deletable": true,
    "editable": true,
    "new_sheet": false,
    "run_control": {
     "read_only": false
    }
   },
   "outputs": [
    {
     "data": {
      "text/html": [
       "<div style=\"max-height:1000px;max-width:1500px;overflow:auto;\">\n",
       "<table border=\"1\" class=\"dataframe\">\n",
       "  <thead>\n",
       "    <tr style=\"text-align: right;\">\n",
       "      <th></th>\n",
       "      <th>Jan</th>\n",
       "      <th>Feb</th>\n",
       "      <th>March</th>\n",
       "      <th>April</th>\n",
       "      <th>May</th>\n",
       "      <th>June</th>\n",
       "      <th>date</th>\n",
       "    </tr>\n",
       "  </thead>\n",
       "  <tbody>\n",
       "    <tr>\n",
       "      <th>0</th>\n",
       "      <td>1</td>\n",
       "      <td>2</td>\n",
       "      <td>4</td>\n",
       "      <td>6</td>\n",
       "      <td>8</td>\n",
       "      <td>10</td>\n",
       "      <td>40909</td>\n",
       "    </tr>\n",
       "    <tr>\n",
       "      <th>1</th>\n",
       "      <td>2</td>\n",
       "      <td>4</td>\n",
       "      <td>8</td>\n",
       "      <td>12</td>\n",
       "      <td>16</td>\n",
       "      <td>20</td>\n",
       "      <td>40910</td>\n",
       "    </tr>\n",
       "    <tr>\n",
       "      <th>2</th>\n",
       "      <td>3</td>\n",
       "      <td>6</td>\n",
       "      <td>12</td>\n",
       "      <td>18</td>\n",
       "      <td>24</td>\n",
       "      <td>30</td>\n",
       "      <td>40911</td>\n",
       "    </tr>\n",
       "    <tr>\n",
       "      <th>3</th>\n",
       "      <td>4</td>\n",
       "      <td>8</td>\n",
       "      <td>16</td>\n",
       "      <td>24</td>\n",
       "      <td>32</td>\n",
       "      <td>40</td>\n",
       "      <td>40912</td>\n",
       "    </tr>\n",
       "    <tr>\n",
       "      <th>4</th>\n",
       "      <td>5</td>\n",
       "      <td>10</td>\n",
       "      <td>20</td>\n",
       "      <td>30</td>\n",
       "      <td>40</td>\n",
       "      <td>50</td>\n",
       "      <td>40913</td>\n",
       "    </tr>\n",
       "    <tr>\n",
       "      <th>5</th>\n",
       "      <td>6</td>\n",
       "      <td>12</td>\n",
       "      <td>24</td>\n",
       "      <td>36</td>\n",
       "      <td>48</td>\n",
       "      <td>60</td>\n",
       "      <td>40914</td>\n",
       "    </tr>\n",
       "    <tr>\n",
       "      <th>6</th>\n",
       "      <td>7</td>\n",
       "      <td>14</td>\n",
       "      <td>28</td>\n",
       "      <td>42</td>\n",
       "      <td>56</td>\n",
       "      <td>70</td>\n",
       "      <td>40915</td>\n",
       "    </tr>\n",
       "    <tr>\n",
       "      <th>7</th>\n",
       "      <td>8</td>\n",
       "      <td>16</td>\n",
       "      <td>32</td>\n",
       "      <td>48</td>\n",
       "      <td>64</td>\n",
       "      <td>80</td>\n",
       "      <td>40916</td>\n",
       "    </tr>\n",
       "    <tr>\n",
       "      <th>8</th>\n",
       "      <td>9</td>\n",
       "      <td>18</td>\n",
       "      <td>36</td>\n",
       "      <td>54</td>\n",
       "      <td>72</td>\n",
       "      <td>90</td>\n",
       "      <td>40917</td>\n",
       "    </tr>\n",
       "  </tbody>\n",
       "</table>\n",
       "</div>"
      ],
      "text/plain": [
       "   Jan  Feb  March  April  May  June   date\n",
       "0    1    2      4      6    8    10  40909\n",
       "1    2    4      8     12   16    20  40910\n",
       "2    3    6     12     18   24    30  40911\n",
       "3    4    8     16     24   32    40  40912\n",
       "4    5   10     20     30   40    50  40913\n",
       "5    6   12     24     36   48    60  40914\n",
       "6    7   14     28     42   56    70  40915\n",
       "7    8   16     32     48   64    80  40916\n",
       "8    9   18     36     54   72    90  40917"
      ]
     },
     "execution_count": 76,
     "metadata": {},
     "output_type": "execute_result"
    }
   ],
   "source": [
    "#Using the sheet name:\n",
    "\n",
    "pandas.read_excel('data/mock_data.xls', 'Sheet1', index_col=None, na_values=['NA'])\n",
    "\n",
    "#Using the sheet index:\n",
    "\n",
    "pandas.read_excel('data/mock_data.xls', 0, index_col=None, na_values=['NA'])\n",
    "\n",
    "#Using all default values:\n",
    "\n",
    "pandas.read_excel('data/mock_data.xls')"
   ]
  },
  {
   "cell_type": "markdown",
   "metadata": {
    "button": false,
    "deletable": true,
    "editable": true,
    "new_sheet": false,
    "run_control": {
     "read_only": false
    }
   },
   "source": [
    "## Miscellanea"
   ]
  },
  {
   "cell_type": "markdown",
   "metadata": {
    "button": false,
    "deletable": true,
    "editable": true,
    "new_sheet": false,
    "run_control": {
     "read_only": false
    }
   },
   "source": [
    "We've only covered a small fraction of the pandas library here.\n",
    "Before I wrap up, however, there are a few miscellaneous tips I'd like to go over.\n",
    "\n",
    "First, it can be confusing to know when an operation will modify a DataFrame and when it will return a copy to you.\n",
    "Pandas behavior here is entirely dictated by NumPy, and some situations are unintuitive.\n",
    "\n",
    "For example, what do you think will happen here?"
   ]
  },
  {
   "cell_type": "code",
   "execution_count": 77,
   "metadata": {
    "button": false,
    "collapsed": false,
    "deletable": true,
    "editable": true,
    "new_sheet": false,
    "run_control": {
     "read_only": false
    }
   },
   "outputs": [
    {
     "data": {
      "text/plain": [
       "date\n",
       "2012-03-10    56\n",
       "2012-03-11    67\n",
       "2012-03-12    71\n",
       "2012-03-13    76\n",
       "2012-03-14    80\n",
       "Name: max_temp, dtype: int64"
      ]
     },
     "execution_count": 77,
     "metadata": {},
     "output_type": "execute_result"
    }
   ],
   "source": [
    "for idx, row in data.iterrows():\n",
    "    row[\"max_temp\"] = 0\n",
    "data.max_temp.head()"
   ]
  },
  {
   "cell_type": "markdown",
   "metadata": {
    "button": false,
    "deletable": true,
    "editable": true,
    "new_sheet": false,
    "run_control": {
     "read_only": false
    }
   },
   "source": [
    "Contrary to what you might expect, modifying `row` did **not** modify `data`!\n",
    "This is because `row` is a copy, and does not point back to the original DataFrame.\n",
    "\n",
    "Here's the right way to do it:"
   ]
  },
  {
   "cell_type": "code",
   "execution_count": 78,
   "metadata": {
    "button": false,
    "collapsed": false,
    "deletable": true,
    "editable": true,
    "new_sheet": false,
    "run_control": {
     "read_only": false
    }
   },
   "outputs": [
    {
     "name": "stderr",
     "output_type": "stream",
     "text": [
      "//anaconda/lib/python3.4/site-packages/pandas/core/indexing.py:118: SettingWithCopyWarning: \n",
      "A value is trying to be set on a copy of a slice from a DataFrame\n",
      "\n",
      "See the the caveats in the documentation: http://pandas.pydata.org/pandas-docs/stable/indexing.html#indexing-view-versus-copy\n",
      "  self._setitem_with_indexer(indexer, value)\n"
     ]
    },
    {
     "data": {
      "text/plain": [
       "False"
      ]
     },
     "execution_count": 78,
     "metadata": {},
     "output_type": "execute_result"
    }
   ],
   "source": [
    "for idx, row in data.iterrows():\n",
    "    data.max_temp.loc[idx] = 0\n",
    "any(data.max_temp != 0)  # Any rows with max_temp not equal to zero?"
   ]
  },
  {
   "cell_type": "markdown",
   "metadata": {
    "button": false,
    "deletable": true,
    "editable": true,
    "new_sheet": false,
    "run_control": {
     "read_only": false
    }
   },
   "source": [
    "When using `apply()`, the default behavior is to go over columns."
   ]
  },
  {
   "cell_type": "code",
   "execution_count": 79,
   "metadata": {
    "button": false,
    "collapsed": false,
    "deletable": true,
    "editable": true,
    "new_sheet": false,
    "run_control": {
     "read_only": false
    }
   },
   "outputs": [
    {
     "data": {
      "text/plain": [
       "max_temp                  max_temp\n",
       "mean_temp                mean_temp\n",
       "min_temp                  min_temp\n",
       "max_dew                    max_dew\n",
       "mean_dew                  mean_dew\n",
       "min_dew                    min_dew\n",
       "max_humidity          max_humidity\n",
       "mean_humidity        mean_humidity\n",
       "min_humidity          min_humidity\n",
       "max_pressure          max_pressure\n",
       "mean_pressure        mean_pressure\n",
       "min_pressure          min_pressure\n",
       "max_visibilty        max_visibilty\n",
       "mean_visibility    mean_visibility\n",
       "min_visibility      min_visibility\n",
       "max_wind                  max_wind\n",
       "mean_wind                mean_wind\n",
       "min_wind                  min_wind\n",
       "precipitation        precipitation\n",
       "cloud_cover            cloud_cover\n",
       "events                      events\n",
       "wind_dir                  wind_dir\n",
       "rain                          rain\n",
       "thunderstorm          thunderstorm\n",
       "fog                            fog\n",
       "snow                          snow\n",
       "dtype: object"
      ]
     },
     "execution_count": 79,
     "metadata": {},
     "output_type": "execute_result"
    }
   ],
   "source": [
    "data.apply(lambda c: c.name)"
   ]
  },
  {
   "cell_type": "markdown",
   "metadata": {
    "button": false,
    "deletable": true,
    "editable": true,
    "new_sheet": false,
    "run_control": {
     "read_only": false
    }
   },
   "source": [
    "You can make `apply()` go over rows by passing `axis=1`"
   ]
  },
  {
   "cell_type": "code",
   "execution_count": 80,
   "metadata": {
    "button": false,
    "collapsed": false,
    "deletable": true,
    "editable": true,
    "new_sheet": false,
    "run_control": {
     "read_only": false
    }
   },
   "outputs": [
    {
     "data": {
      "text/plain": [
       "date\n",
       "2012-03-10    0.19\n",
       "2012-03-11    0.24\n",
       "2012-03-12    0.25\n",
       "2012-03-13    0.15\n",
       "2012-03-14    0.11\n",
       "2012-03-15    0.11\n",
       "2012-03-16    0.07\n",
       "2012-03-17    0.11\n",
       "2012-03-18    0.12\n",
       "2012-03-19    0.11\n",
       "2012-03-20    0.10\n",
       "2012-03-21    0.12\n",
       "2012-03-22    0.10\n",
       "2012-03-23    0.27\n",
       "2012-03-24    0.09\n",
       "2012-03-25    0.17\n",
       "2012-03-26    0.21\n",
       "2012-03-27    0.28\n",
       "2012-03-28    0.07\n",
       "2012-03-29    0.14\n",
       "2012-03-30    0.27\n",
       "2012-03-31    0.11\n",
       "2012-04-01    0.24\n",
       "2012-04-02    0.24\n",
       "2012-04-03    0.14\n",
       "2012-04-04    0.06\n",
       "2012-04-05    0.24\n",
       "2012-04-06    0.18\n",
       "2012-04-07    0.14\n",
       "2012-04-08    0.12\n",
       "              ... \n",
       "2013-02-09    0.26\n",
       "2013-02-10    0.42\n",
       "2013-02-11    0.37\n",
       "2013-02-12    0.23\n",
       "2013-02-13    0.10\n",
       "2013-02-14    0.19\n",
       "2013-02-15    0.19\n",
       "2013-02-16    0.07\n",
       "2013-02-17    0.11\n",
       "2013-02-18    0.51\n",
       "2013-02-19    0.54\n",
       "2013-02-20    0.17\n",
       "2013-02-21    0.39\n",
       "2013-02-22    0.21\n",
       "2013-02-23    0.08\n",
       "2013-02-24    0.15\n",
       "2013-02-25    0.33\n",
       "2013-02-26    0.40\n",
       "2013-02-27    0.23\n",
       "2013-02-28    0.28\n",
       "2013-03-01    0.11\n",
       "2013-03-02    0.11\n",
       "2013-03-03    0.08\n",
       "2013-03-04    0.20\n",
       "2013-03-05    0.26\n",
       "2013-03-06    0.53\n",
       "2013-03-07    0.13\n",
       "2013-03-08    0.13\n",
       "2013-03-09    0.36\n",
       "2013-03-10    0.05\n",
       "dtype: float64"
      ]
     },
     "execution_count": 80,
     "metadata": {},
     "output_type": "execute_result"
    }
   ],
   "source": [
    "data.apply(lambda r: r[\"max_pressure\"] - r[\"min_pressure\"], axis=1)"
   ]
  },
  {
   "cell_type": "markdown",
   "metadata": {
    "button": false,
    "deletable": true,
    "editable": true,
    "new_sheet": false,
    "run_control": {
     "read_only": false
    }
   },
   "source": [
    "When you call `drop()`, though, it's flipped. To drop a column, you need to pass `axis=1`"
   ]
  },
  {
   "cell_type": "code",
   "execution_count": 81,
   "metadata": {
    "button": false,
    "collapsed": false,
    "deletable": true,
    "editable": true,
    "new_sheet": false,
    "run_control": {
     "read_only": false
    }
   },
   "outputs": [
    {
     "data": {
      "text/plain": [
       "Index(['max_temp', 'mean_temp', 'min_temp', 'max_dew', 'mean_dew', 'min_dew',\n",
       "       'max_humidity', 'mean_humidity', 'min_humidity', 'max_pressure',\n",
       "       'mean_pressure', 'min_pressure', 'max_visibilty', 'mean_visibility',\n",
       "       'min_visibility', 'max_wind', 'mean_wind', 'min_wind', 'precipitation',\n",
       "       'cloud_cover', 'wind_dir', 'rain', 'thunderstorm', 'fog', 'snow'],\n",
       "      dtype='object')"
      ]
     },
     "execution_count": 81,
     "metadata": {},
     "output_type": "execute_result"
    }
   ],
   "source": [
    "data.drop(\"events\", axis=1).columns"
   ]
  },
  {
   "cell_type": "code",
   "execution_count": null,
   "metadata": {
    "button": false,
    "collapsed": false,
    "deletable": true,
    "editable": true,
    "new_sheet": false,
    "run_control": {
     "read_only": false
    }
   },
   "outputs": [],
   "source": []
  },
  {
   "cell_type": "code",
   "execution_count": null,
   "metadata": {
    "button": false,
    "collapsed": false,
    "deletable": true,
    "editable": true,
    "new_sheet": false,
    "run_control": {
     "read_only": false
    }
   },
   "outputs": [],
   "source": []
  },
  {
   "cell_type": "code",
   "execution_count": null,
   "metadata": {
    "button": false,
    "collapsed": false,
    "deletable": true,
    "editable": true,
    "new_sheet": false,
    "run_control": {
     "read_only": false
    }
   },
   "outputs": [],
   "source": []
  },
  {
   "cell_type": "markdown",
   "metadata": {
    "button": false,
    "deletable": true,
    "editable": true,
    "new_sheet": false,
    "run_control": {
     "read_only": false
    }
   },
   "source": [
    "Resources\n",
    "\n",
    "- [Learn Pandas](https://bitbucket.org/hrojas/learn-pandas)\n",
    "- [Compute](http://nbviewer.ipython.org/urls/bitbucket.org/hrojas/learn-pandas/raw/master/lessons/Cookbook%20-%20Compute.ipynb)\n",
    "- [Merge](http://nbviewer.ipython.org/urls/bitbucket.org/hrojas/learn-pandas/raw/master/lessons/Cookbook%20-%20Merge.ipynb)\n",
    "- [Select](http://nbviewer.ipython.org/urls/bitbucket.org/hrojas/learn-pandas/raw/master/lessons/Cookbook%20-%20Select.ipynb)\n",
    "- [Sort](http://nbviewer.ipython.org/urls/bitbucket.org/hrojas/learn-pandas/raw/master/lessons/Cookbook%20-%20Sort.ipynb)\n",
    "\n",
    "\n",
    "- [Intro to Pandas](https://bitbucket.org/hrojas/learn-pandas)\n",
    "- [Timeseries](http://nbviewer.ipython.org/github/changhiskhan/talks/blob/master/pydata2012/pandas_timeseries.ipynb)\n",
    "- [Statistics in Python](http://www.randalolson.com/2012/08/06/statistical-analysis-made-easy-in-python/)\n",
    "\n",
    "http://datacommunitydc.org/blog/2013/07/python-for-data-analysis-the-landscape-of-tutorials/"
   ]
  },
  {
   "cell_type": "code",
   "execution_count": null,
   "metadata": {
    "button": false,
    "collapsed": false,
    "deletable": true,
    "editable": true,
    "new_sheet": false,
    "run_control": {
     "read_only": false
    }
   },
   "outputs": [],
   "source": []
  }
 ],
 "metadata": {
  "kernelspec": {
   "display_name": "Python 3",
   "language": "python",
   "name": "python3"
  },
  "language_info": {
   "codemirror_mode": {
    "name": "ipython",
    "version": 3
   },
   "file_extension": ".py",
   "mimetype": "text/x-python",
   "name": "python",
   "nbconvert_exporter": "python",
   "pygments_lexer": "ipython3",
   "version": "3.5.0"
  }
 },
 "nbformat": 4,
 "nbformat_minor": 0
}
