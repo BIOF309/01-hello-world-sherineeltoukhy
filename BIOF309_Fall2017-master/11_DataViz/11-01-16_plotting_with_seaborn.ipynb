{
 "cells": [
  {
   "cell_type": "markdown",
   "metadata": {},
   "source": [
    "---\n",
    "title: \"Plotting with Seaborn\"\n",
    "teaching: 15+\n",
    "exercises: 15+\n",
    "start: true\n",
    "---\n",
    "\n",
    "## Imports"
   ]
  },
  {
   "cell_type": "code",
   "execution_count": null,
   "metadata": {},
   "outputs": [],
   "source": [
    "# Some library functionality we shall use.\n",
    "import seaborn as sns\n",
    "import pandas  as pd\n",
    "import numpy   as np\n",
    "import matplotlib.pyplot as plt"
   ]
  },
  {
   "cell_type": "markdown",
   "metadata": {},
   "source": [
    "{: .python}"
   ]
  },
  {
   "cell_type": "code",
   "execution_count": null,
   "metadata": {},
   "outputs": [],
   "source": [
    "# see sns.set() for selecting a few basic parameters: style,\n",
    "# colorpalette, font family, etc.\n",
    "sns.set()"
   ]
  },
  {
   "cell_type": "markdown",
   "metadata": {},
   "source": [
    "{: .python}"
   ]
  },
  {
   "cell_type": "code",
   "execution_count": null,
   "metadata": {},
   "outputs": [],
   "source": [
    "# load the data\n",
    "df = pd.read_csv('https://raw.githubusercontent.com/OpenNeuroLab/metasearch/master/docs/data/phenotype_mri.csv')"
   ]
  },
  {
   "cell_type": "markdown",
   "metadata": {},
   "source": [
    "{: .python}\n",
    "\n",
    "## Quantitative and categorical vars via dtypes"
   ]
  },
  {
   "cell_type": "code",
   "execution_count": null,
   "metadata": {},
   "outputs": [],
   "source": [
    "# get types of data: data frame method: ``select_dtypes``\n",
    "\n",
    "# To select all *numeric* types use the numpy dtype ``numpy.number``\n",
    "var_qnt = list(df.select_dtypes(include=[np.number]))"
   ]
  },
  {
   "cell_type": "markdown",
   "metadata": {},
   "source": [
    "{: .python}"
   ]
  },
  {
   "cell_type": "code",
   "execution_count": null,
   "metadata": {},
   "outputs": [],
   "source": [
    "# To get some quick summary info on each quant variable across groups,\n",
    "# use the following (returns a DataFrame):\n",
    "df.describe()"
   ]
  },
  {
   "cell_type": "markdown",
   "metadata": {},
   "source": [
    "{: .python}"
   ]
  },
  {
   "cell_type": "code",
   "execution_count": null,
   "metadata": {},
   "outputs": [],
   "source": [
    "# To select Pandas categorical dtypes, use 'category'\n",
    "var_cat = list(df.select_dtypes(include=['category']))"
   ]
  },
  {
   "cell_type": "markdown",
   "metadata": {},
   "source": [
    "{: .python}"
   ]
  },
  {
   "cell_type": "code",
   "execution_count": null,
   "metadata": {},
   "outputs": [],
   "source": [
    "# However, in this case, we haven't made any specific 'category'\n",
    "# variables. See the types we have for each col (returns a Series):\n",
    "df.dtypes"
   ]
  },
  {
   "cell_type": "markdown",
   "metadata": {},
   "source": [
    "{: .python}"
   ]
  },
  {
   "cell_type": "code",
   "execution_count": null,
   "metadata": {},
   "outputs": [],
   "source": [
    "# So there are type \"object\" for non-quant ones, which we can select\n",
    "# as non-numerical\n",
    "var_cat = list(df.select_dtypes(exclude=[np.number]))\n",
    "# or could include 'object' type:\n",
    "# var_cat = list(df.select_dtypes(include=['object']))"
   ]
  },
  {
   "cell_type": "markdown",
   "metadata": {},
   "source": [
    "{: .python}\n",
    "\n",
    "For more about categorical variables, see [this pandas\n",
    "page](http://pandas.pydata.org/pandas-docs/stable/categorical.html).\n",
    "\n",
    "\n",
    "## dealing with missing values (NaNs)"
   ]
  },
  {
   "cell_type": "code",
   "execution_count": null,
   "metadata": {},
   "outputs": [],
   "source": [
    "# some data will be missing, possibly.  Too see how many non-Nans are\n",
    "# there for each variable, use (returns a Series):\n",
    "df.count()"
   ]
  },
  {
   "cell_type": "markdown",
   "metadata": {},
   "source": [
    "{: .python}"
   ]
  },
  {
   "cell_type": "code",
   "execution_count": null,
   "metadata": {},
   "outputs": [],
   "source": [
    "# If one has missing data in columns, some seaborn plotting functions\n",
    "# can remove them; some have a ``dropna=True`` ability to remove NaNs\n",
    "# from a column.  For many that *don't*, we can make a mini data\n",
    "# frame.  Note this function has two outputs: a (potentially) smaller\n",
    "# data frame, and the reduction in the number of rows.  There could be\n",
    "# much better ways of writing a related function, this is just a\n",
    "# quick example.\n",
    "def NoNoNaNette( df, cols=[] ):\n",
    "\n",
    "    if not(cols):\n",
    "        df2 = df[:].dropna()\n",
    "    else:\n",
    "        df2 = df[cols].dropna()\n",
    "\n",
    "    shin  = df.shape\n",
    "    shout = df2.shape\n",
    "\n",
    "    print(\"Input  shape:\", shin)\n",
    "    print(\"Output shape:\", shout)\n",
    "\n",
    "    # might be useful to return how many variables were left *out*\n",
    "    return df2, shin[0] - shout[0]"
   ]
  },
  {
   "cell_type": "markdown",
   "metadata": {},
   "source": [
    "{: .python}\n",
    "\n",
    "## some plotting"
   ]
  },
  {
   "cell_type": "code",
   "execution_count": null,
   "metadata": {},
   "outputs": [],
   "source": [
    "# -------------------  1a) Basic scatterplot -------------------------\n",
    "# quant vs quant, plots a confidence interval of fit by default.  This\n",
    "# function does *not* deal well with NaNs, so use the remover:\n",
    "df3, diff    = NoNoNaNette( df, ['age', 'full_iq'])\n",
    "my_lmplot    = sns.lmplot( 'age', 'full_iq', data=df3 )\n",
    "plt.show()"
   ]
  },
  {
   "cell_type": "markdown",
   "metadata": {},
   "source": [
    "{: .python}"
   ]
  },
  {
   "cell_type": "code",
   "execution_count": null,
   "metadata": {},
   "outputs": [],
   "source": [
    "# -------------------  1b) Basic scatterplot, extra cat ----------------\n",
    "\n",
    "# Can also divvy up with a category; here and below, generally given\n",
    "# as 'hue' because it adds a color variation to the plot\n",
    "df3, diff    = NoNoNaNette( df, ['age', 'full_iq', 'diagnosis'] )\n",
    "my_lmplot    = sns.lmplot( 'age', 'full_iq', data=df3, hue='diagnosis' )\n",
    "plt.show()"
   ]
  },
  {
   "cell_type": "markdown",
   "metadata": {},
   "source": [
    "{: .python}"
   ]
  },
  {
   "cell_type": "code",
   "execution_count": null,
   "metadata": {},
   "outputs": [],
   "source": [
    "# -------------------  1c) Basic scatterplot, extra opts ----------------\n",
    "\n",
    "df3, diff    = NoNoNaNette( df, ['age', 'full_iq', 'diagnosis'] )\n",
    "my_lmplot    = sns.lmplot( 'age', 'full_iq', data=df3, hue='diagnosis' )\n",
    "sns.plt.suptitle('Important data')   # useful plot title\n",
    "sns.plt.xlabel('age'+' (years)')     # change labels, e.g., with units\n",
    "#plt.tight_layout()  # see about this...\n",
    "plt.show()"
   ]
  },
  {
   "cell_type": "markdown",
   "metadata": {},
   "source": [
    "{: .python}"
   ]
  },
  {
   "cell_type": "code",
   "execution_count": null,
   "metadata": {},
   "outputs": [],
   "source": [
    "# ------------------ 2a) all quantitative pairs -------------------\n",
    "\n",
    "# Plot all quant pairs vs each other, and histograms along diagonal;\n",
    "# leave off first 'quant' var because it is just subj ID integer.\n",
    "\n",
    "# This plotting function *does* have a ``dropna=True`` in it.\n",
    "# However, the diagonal-plotter STILL complains about NaNs, so we can\n",
    "# either use the above NoNoNaNette(), or set the diagonal to be the\n",
    "# \"kernel density estimate\" instead of the bog standard histogram\n",
    "# along the diagonals.  NB: in this case, the NoNoNaNette-d version\n",
    "# would produce something different, because it gets rid of *any* row\n",
    "# with a nonzero, then plots the pairs; the other way, two variables\n",
    "# are selected and *then* the NaNy-rows between that pair are\n",
    "# deleted-- that can generally have different behavior!\n",
    "\n",
    "my_pairplot = sns.pairplot( df, diag_kind='kde' )\n",
    "plt.show()"
   ]
  },
  {
   "cell_type": "markdown",
   "metadata": {},
   "source": [
    "{: .python}\n",
    "\n",
    "## Sidenote:  plotting_context()"
   ]
  },
  {
   "cell_type": "code",
   "execution_count": null,
   "metadata": {},
   "outputs": [],
   "source": [
    "# What are default sundry values for various plot settings?  Check 'em\n",
    "# out: \n",
    "sns.plotting_context()"
   ]
  },
  {
   "cell_type": "markdown",
   "metadata": {},
   "source": [
    "{: .python}"
   ]
  },
  {
   "cell_type": "code",
   "execution_count": null,
   "metadata": {},
   "outputs": [],
   "source": [
    "# these can be changed in one fell swoop with some batched presets:\n",
    "sns.set_context(\"talk\")\n",
    "# also have: \"notebook\", \"paper\" and \"poster\""
   ]
  },
  {
   "cell_type": "markdown",
   "metadata": {},
   "source": [
    "{: .python}"
   ]
  },
  {
   "cell_type": "code",
   "execution_count": null,
   "metadata": {},
   "outputs": [],
   "source": [
    "# ... and check the new normal:\n",
    "sns.plotting_context()"
   ]
  },
  {
   "cell_type": "markdown",
   "metadata": {},
   "source": [
    "{: .python}"
   ]
  },
  {
   "cell_type": "code",
   "execution_count": null,
   "metadata": {},
   "outputs": [],
   "source": [
    "# To change some of these, one can do, for example:\n",
    "sns.set_context( rc={'lines.markeredgewidth': 0.0,\n",
    "                     'xtick.labelsize': 8.0})\n",
    "my_pairplot = sns.pairplot( df, diag_kind='kde')\n",
    "plt.show()"
   ]
  },
  {
   "cell_type": "markdown",
   "metadata": {},
   "source": [
    "{: .python}\n",
    "\n",
    "\n",
    "## Back to plotting"
   ]
  },
  {
   "cell_type": "code",
   "execution_count": null,
   "metadata": {},
   "outputs": [],
   "source": [
    "# -------------- 2b) all quantitative pairs, no NaNs ----------------\n",
    "\n",
    "# might be fun:\n",
    "sns.set_context(\"poster\")\n",
    "df4, diff = NoNoNaNette(df, var_qnt[1:]) \n",
    "my_pairplot = sns.pairplot( df4 )\n",
    "#plt.show()\n",
    "\n",
    "# Either plot or save fig (or both); one can control, for example, the\n",
    "# DPI, etc.\n",
    "fname = \"plot.png\" \n",
    "plt.savefig(fname, dpi=300)\n",
    "#plt.show()"
   ]
  },
  {
   "cell_type": "markdown",
   "metadata": {},
   "source": [
    "{: .python}\n",
    "\n",
    "Note: see [here](http://seaborn.pydata.org/tutorial/aesthetics.html):\n",
    "  for more on aesthetics description and settings, and\n",
    "  [here](http://seaborn.pydata.org/tutorial/color_palettes.html#palette-tutorial)\n",
    "  for some examples of color palettes.\n",
    "\n",
    "## Sidenote: displaying correlation values \n",
    "\n",
    "Unfortunately, there isn't a simple option to directly show the\n",
    "correlation values for the scatterplots, even though that might be\n",
    "nice to know when looking at things.  One reason for this could be\n",
    "that one can do a 'believability' test before, just looking for strong\n",
    "correlations by eye rather than become enamored with high values that\n",
    "might arise due to quirks-- fair deuce.  Some online comments about\n",
    "this say essentially, 'Well, plotting should be for viewing and\n",
    "calculating numbers should be separate'-- advocating this kind of\n",
    "purposeful limitation makes no sense to me here.\n",
    "\n",
    "Anyways, this is all to say that one has to 'hack' a bit to add\n",
    "correlation values to the plots.  And by 'hack', I mean: thank you,\n",
    "[Stackoverflow!](http://stackoverflow.com/questions/30942577/seaborn-correlation-coefficient-on-pairgrid)."
   ]
  },
  {
   "cell_type": "code",
   "execution_count": null,
   "metadata": {},
   "outputs": [],
   "source": [
    "# ------------- 2c) all quantitative pairs, corr values --------------\n",
    "\n",
    "# trivially modified from above (-> names changed to protect the\n",
    "# innocent):\n",
    "import scipy.stats as spst\n",
    "def corrfunc(x, y, **kws):\n",
    "    r, _ = spst.pearsonr(x, y)\n",
    "    ax = plt.gca()\n",
    "    ax.annotate(\"r = {:.2f}\".format(r),\n",
    "                xy=(.1, .9), xycoords=ax.transAxes)\n",
    "\n",
    "my_pairplot = sns.pairplot( df4,diag_kind='kde' )\n",
    "# this just puts the corr values into the LHT\n",
    "my_pairplot.map_lower(corrfunc)\n",
    "plt.show()"
   ]
  },
  {
   "cell_type": "markdown",
   "metadata": {},
   "source": [
    "{: .python}"
   ]
  }
 ],
 "metadata": {},
 "nbformat": 4,
 "nbformat_minor": 2
}
