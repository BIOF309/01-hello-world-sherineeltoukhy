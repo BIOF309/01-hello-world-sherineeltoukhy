{
 "cells": [
  {
   "cell_type": "markdown",
   "metadata": {
    "button": false,
    "deletable": true,
    "new_sheet": false,
    "run_control": {
     "read_only": false
    },
    "slideshow": {
     "slide_type": "slide"
    }
   },
   "source": [
    "# Introduction to Biopython\n",
    "---\n",
    "## R. Burke Squires\n",
    "---\n",
    "### NIAID Bioinformatics & Computational Biosciences Branch"
   ]
  },
  {
   "cell_type": "markdown",
   "metadata": {
    "button": false,
    "deletable": true,
    "new_sheet": false,
    "run_control": {
     "read_only": false
    },
    "slideshow": {
     "slide_type": "subslide"
    }
   },
   "source": [
    "This notebook is adapted from a Biopython Workshop given by Peter Cock [here](https://github.com/peterjc/biopython_workshop).\n",
    "\n",
    "Adapted by: \n",
    "- R. Burke Squires (NIH/NIAID) richard.squires at niaid.nih.gov\n",
    "- Carolyn Komatsoulis (NIH/NIAID) carolyn.komatsoulis at nih.gov"
   ]
  },
  {
   "cell_type": "markdown",
   "metadata": {
    "button": false,
    "deletable": true,
    "new_sheet": false,
    "run_control": {
     "read_only": false
    },
    "slideshow": {
     "slide_type": "slide"
    }
   },
   "source": [
    "## What is Biopython?\n",
    "\n",
    "1. Free, open source library for bioinformatics\n",
    "1. Supported by Open Bioinformatics Foundation (OBF) along with BioPerl, BioJava, BioSQL\n",
    "1. Runs on Mac OS X, Windows, Linux, etc.\n",
    "1. International team of volunteer developers\n",
    "1. Currently about three releases per year\n",
    "1. Extensive \"Biopython Tutorial & Cookbook\"\n"
   ]
  },
  {
   "cell_type": "markdown",
   "metadata": {
    "button": false,
    "collapsed": true,
    "deletable": true,
    "new_sheet": false,
    "run_control": {
     "read_only": false
    },
    "slideshow": {
     "slide_type": "slide"
    }
   },
   "source": [
    "## Python Package & Modules\n",
    "\n",
    "1. Python module: A source code file (.py) which can contain:\n",
    "    1. Classes\n",
    "    1. Functions\n",
    "    1. Global names (variables)\n",
    "1. Python package: A directory of python module(s)"
   ]
  },
  {
   "cell_type": "markdown",
   "metadata": {
    "button": false,
    "deletable": true,
    "new_sheet": false,
    "run_control": {
     "read_only": false
    },
    "slideshow": {
     "slide_type": "slide"
    }
   },
   "source": [
    "## Where Can I Find Details on Modules?\n",
    "\n",
    "- Install using anaconda\n",
    "\n",
    "    - **conda install biopython**\n",
    "    \n",
    "\n",
    "- In iPython or Python Interactive Shell: \n",
    "\n",
    "    - **from Bio import SeqIO**\n",
    "    \n",
    "    - **help(SeqIO)**                                              \n",
    "\n",
    "\n",
    "- All Biopython modules\n",
    "\n",
    "    - http://Biopython.org/DIST/docs/api/\n",
    "    \n",
    "    - \"API\" => application programmers interface"
   ]
  },
  {
   "cell_type": "code",
   "execution_count": null,
   "metadata": {
    "button": false,
    "collapsed": false,
    "deletable": true,
    "new_sheet": false,
    "run_control": {
     "read_only": false
    }
   },
   "outputs": [],
   "source": [
    "!date\n"
   ]
  },
  {
   "cell_type": "markdown",
   "metadata": {
    "button": false,
    "deletable": true,
    "new_sheet": false,
    "run_control": {
     "read_only": false
    },
    "slideshow": {
     "slide_type": "slide"
    }
   },
   "source": [
    "# Jumping into Biopython..."
   ]
  },
  {
   "cell_type": "markdown",
   "metadata": {
    "button": false,
    "deletable": true,
    "new_sheet": false,
    "run_control": {
     "read_only": false
    },
    "slideshow": {
     "slide_type": "slide"
    }
   },
   "source": [
    "Lets download the sequence file we will be using but implementing some biopython code:"
   ]
  },
  {
   "cell_type": "code",
   "execution_count": 1,
   "metadata": {
    "button": false,
    "collapsed": false,
    "deletable": true,
    "new_sheet": false,
    "run_control": {
     "read_only": false
    },
    "slideshow": {
     "slide_type": "fragment"
    }
   },
   "outputs": [
    {
     "ename": "ImportError",
     "evalue": "No module named 'Bio'",
     "output_type": "error",
     "traceback": [
      "\u001b[0;31m---------------------------------------------------------------------------\u001b[0m",
      "\u001b[0;31mImportError\u001b[0m                               Traceback (most recent call last)",
      "\u001b[0;32m<ipython-input-1-a968aa15cac2>\u001b[0m in \u001b[0;36m<module>\u001b[0;34m()\u001b[0m\n\u001b[0;32m----> 1\u001b[0;31m \u001b[0;32mfrom\u001b[0m \u001b[0mBio\u001b[0m \u001b[0;32mimport\u001b[0m \u001b[0mEntrez\u001b[0m\u001b[0;34m\u001b[0m\u001b[0m\n\u001b[0m\u001b[1;32m      2\u001b[0m \u001b[0;32mfrom\u001b[0m \u001b[0mBio\u001b[0m \u001b[0;32mimport\u001b[0m \u001b[0mSeqIO\u001b[0m\u001b[0;34m\u001b[0m\u001b[0m\n\u001b[1;32m      3\u001b[0m \u001b[0;34m\u001b[0m\u001b[0m\n\u001b[1;32m      4\u001b[0m \u001b[0mEntrez\u001b[0m\u001b[0;34m.\u001b[0m\u001b[0memail\u001b[0m\u001b[0;34m=\u001b[0m\u001b[0;34m'richard.squires@nih.gov'\u001b[0m \u001b[0;31m#please update with your email address\u001b[0m\u001b[0;34m\u001b[0m\u001b[0m\n\u001b[1;32m      5\u001b[0m \u001b[0mtemp\u001b[0m \u001b[0;34m=\u001b[0m \u001b[0mEntrez\u001b[0m\u001b[0;34m.\u001b[0m\u001b[0mefetch\u001b[0m\u001b[0;34m(\u001b[0m\u001b[0mdb\u001b[0m\u001b[0;34m=\u001b[0m\u001b[0;34m\"nucleotide\"\u001b[0m\u001b[0;34m,\u001b[0m \u001b[0mrettype\u001b[0m\u001b[0;34m=\u001b[0m\u001b[0;34m\"gb\"\u001b[0m\u001b[0;34m,\u001b[0m \u001b[0mid\u001b[0m\u001b[0;34m=\u001b[0m\u001b[0;34m\"NC_002549\"\u001b[0m\u001b[0;34m)\u001b[0m\u001b[0;34m\u001b[0m\u001b[0m\n",
      "\u001b[0;31mImportError\u001b[0m: No module named 'Bio'"
     ]
    }
   ],
   "source": [
    "from Bio import Entrez\n",
    "from Bio import SeqIO\n",
    "\n",
    "Entrez.email='richard.squires@nih.gov' #please update with your email address\n",
    "temp = Entrez.efetch(db=\"nucleotide\", rettype=\"gb\", id=\"NC_002549\") \n",
    "gbseq = SeqIO.read(temp, \"gb\")\n",
    "\n",
    "#open an output file and write data to it\n",
    "out = open(\"ebola.gb\",'w')\n",
    "SeqIO.write(gbseq, out, \"gb\")\n",
    "\n",
    "temp.close()\n",
    "out.close()\n",
    "\n",
    "#print(gbseq)\n",
    "#print(gbseq.seq)"
   ]
  },
  {
   "cell_type": "markdown",
   "metadata": {
    "button": false,
    "deletable": true,
    "new_sheet": false,
    "run_control": {
     "read_only": false
    },
    "slideshow": {
     "slide_type": "slide"
    }
   },
   "source": [
    "Next lets convert the GenBank file to a FASTA file for us to use..."
   ]
  },
  {
   "cell_type": "code",
   "execution_count": 4,
   "metadata": {
    "button": false,
    "collapsed": false,
    "deletable": true,
    "new_sheet": false,
    "run_control": {
     "read_only": false
    },
    "slideshow": {
     "slide_type": "slide"
    }
   },
   "outputs": [
    {
     "name": "stdout",
     "output_type": "stream",
     "text": [
      "You have converted 1 file(s).\n"
     ]
    }
   ],
   "source": [
    "from Bio import SeqIO\n",
    "count = SeqIO.convert(\"ebola.gb\", \"gb\", \"ebola.fa\", \"fasta\")\n",
    "print(\"You have converted %i file(s).\" % count)"
   ]
  },
  {
   "cell_type": "markdown",
   "metadata": {
    "button": false,
    "deletable": true,
    "new_sheet": false,
    "run_control": {
     "read_only": false
    },
    "slideshow": {
     "slide_type": "slide"
    }
   },
   "source": [
    "Now we want to extract the proteins translations from the GenBank file and save them to a new file:"
   ]
  },
  {
   "cell_type": "code",
   "execution_count": 7,
   "metadata": {
    "button": false,
    "collapsed": false,
    "deletable": true,
    "new_sheet": false,
    "run_control": {
     "read_only": false
    },
    "slideshow": {
     "slide_type": "slide"
    }
   },
   "outputs": [
    {
     "name": "stdout",
     "output_type": "stream",
     "text": [
      "Dealing with GenBank record NC_002549.1\n"
     ]
    }
   ],
   "source": [
    "from Bio import SeqIO\n",
    "gbk_filename = \"ebola.gb\"\n",
    "faa_filename = \"ebola.faa\"\n",
    "input_handle  = open(gbk_filename, \"r\")\n",
    "output_handle = open(faa_filename, \"w\")\n",
    "\n",
    "for seq_record in SeqIO.parse(input_handle, \"genbank\") :\n",
    "    print(\"Dealing with GenBank record %s\" % seq_record.id)\n",
    "    for seq_feature in seq_record.features :\n",
    "        if seq_feature.type==\"CDS\" :\n",
    "            assert len(seq_feature.qualifiers['translation'])==1\n",
    "            output_handle.write(\">%s from %s\\n%s\\n\" % (\n",
    "                   seq_feature.qualifiers['locus_tag'][0], #try also gene or product\n",
    "                   seq_record.name,\n",
    "                   seq_feature.qualifiers['translation'][0]))\n",
    "\n",
    "output_handle.close()\n",
    "input_handle.close()"
   ]
  },
  {
   "cell_type": "markdown",
   "metadata": {
    "button": false,
    "deletable": true,
    "new_sheet": false,
    "run_control": {
     "read_only": false
    },
    "slideshow": {
     "slide_type": "slide"
    }
   },
   "source": [
    "## Bio - SeqIO: Counting Records\n",
    "\n",
    "1. Count protein sequences in FASTA file, “ebola.fa”\n",
    "2. Can use “grep’’ to count the number of proteins\n",
    "\n",
    "        grep -c \"^>\" fasta.fa\n",
    "        4141\n",
    "\n",
    "\n",
    "3. Now let's count the records with Biopython using the \"SeqIO.parse\" function\n",
    "\n",
    "4. Saved as “count_fasta.py” in workshop folder\n"
   ]
  },
  {
   "cell_type": "markdown",
   "metadata": {
    "button": false,
    "deletable": true,
    "new_sheet": false,
    "run_control": {
     "read_only": false
    },
    "slideshow": {
     "slide_type": "slide"
    }
   },
   "source": [
    "## Bio - SeqIO: Count Records in a FASTA File"
   ]
  },
  {
   "cell_type": "markdown",
   "metadata": {
    "button": false,
    "collapsed": true,
    "deletable": true,
    "new_sheet": false,
    "run_control": {
     "read_only": false
    },
    "slideshow": {
     "slide_type": "subslide"
    }
   },
   "source": [
    "### Excersise:\n",
    "    \n",
    "    A. Modify this to count the number of records in the other FASTa files, both from E. Coli K12 and the potato genome (\"PGSC_DM_v3.4_pep_representative.fasta\")\n",
    "   \n",
    "    B. Using “sys.argv” get the filename as a command line argument, so that you can run it like this:\n",
    "        a. python count_fasta_adv.py NC_000913.ffn\n"
   ]
  },
  {
   "cell_type": "markdown",
   "metadata": {
    "button": false,
    "collapsed": true,
    "deletable": true,
    "new_sheet": false,
    "run_control": {
     "read_only": false
    },
    "slideshow": {
     "slide_type": "slide"
    }
   },
   "source": [
    "## Bio - SeqIO: Looking at the Sequence Records\n",
    "\n",
    "1. \"SeqIO.parse\" function creates SeqRecord objects. \n",
    "\n",
    "2. Biopython's \"SeqRecord\" objects are a container holding the sequence, and any annotation about it - most importantly the identifier.\n",
    "\n",
    "3. For FASTA files, the record identifier is taken to be the first word on the \">\" line -- anything after a space is *not* part of the identifier.\n",
    "\n",
    "4. This simple example prints out the record identifers and their lengths\n"
   ]
  },
  {
   "cell_type": "code",
   "execution_count": null,
   "metadata": {
    "button": false,
    "collapsed": false,
    "deletable": true,
    "new_sheet": false,
    "run_control": {
     "read_only": false
    },
    "slideshow": {
     "slide_type": "slide"
    }
   },
   "outputs": [],
   "source": [
    "from Bio import SeqIO\n",
    "filename = \"ebola.faa\"\n",
    "for record in SeqIO.parse(filename, \"fasta\"):\n",
    "    print(\"Record %s, length %i\" % (record.id, len(record.seq)))\n"
   ]
  },
  {
   "cell_type": "markdown",
   "metadata": {
    "button": false,
    "deletable": true,
    "new_sheet": false,
    "run_control": {
     "read_only": false
    },
    "slideshow": {
     "slide_type": "subslide"
    }
   },
   "source": [
    "### Excercise \n",
    "\n",
    "    A. Count how many sequences are <100 amino acids long\n",
    "    \n",
    "    B. Create a modified script \"total_length.py\" based on the above examples which counts the number of records and calculates the total length of all the sequences (i.e. \"21 + 820 + 310 + 428 + ... + 46 + 228\"), giving:\n",
    "        \n",
    "        a. $ python total_length.py\n",
    "        b. 4141 records, total length 1311442\n",
    "    \n",
    "    C. Plot a histogram of the sequence length distribution (tip - see the `Biopython Tutorial & Cookbook)\n"
   ]
  },
  {
   "cell_type": "markdown",
   "metadata": {
    "button": false,
    "deletable": true,
    "new_sheet": false,
    "run_control": {
     "read_only": false
    },
    "slideshow": {
     "slide_type": "slide"
    }
   },
   "source": [
    "\n",
    "\n",
    "1. The \"SeqRecord\" objects the identifiers are stored as standard Python strings (e.g. \".id\"). For the sequence, Biopython uses a string-like \"Seq\" object, accessed as \".seq\".\n",
    "\n",
    "2. In many ways the \"Seq\" objects act like Python strings, you can print them, take their length using the \"len(...)\" function, and slice them with square brackets to get a sub-sequence or a single letter.\n"
   ]
  },
  {
   "cell_type": "markdown",
   "metadata": {
    "button": false,
    "deletable": true,
    "new_sheet": false,
    "run_control": {
     "read_only": false
    },
    "slideshow": {
     "slide_type": "slide"
    }
   },
   "source": [
    "## Bio - SeqIO: Record Lengths\n",
    "\n",
    "1. Using \"SeqIO.parse(...)\" in a for loop, for each record print out the identifier, the first 10 letters of each sequences, the last 10 letters\n"
   ]
  },
  {
   "cell_type": "code",
   "execution_count": null,
   "metadata": {
    "button": false,
    "collapsed": false,
    "deletable": true,
    "new_sheet": false,
    "run_control": {
     "read_only": false
    },
    "slideshow": {
     "slide_type": "slide"
    }
   },
   "outputs": [],
   "source": [
    "from Bio import SeqIO\n",
    "filename = \"ebola.fa\"\n",
    "for record in SeqIO.parse(filename, \"fasta\"):\n",
    "    start_seq = record.seq[:10] # first 10 letters\n",
    "    end_seq = record.seq[-10:] # last 10 letters\n",
    "    print(record.id + \" \" + start_seq + \"...\" + end_seq)\n"
   ]
  },
  {
   "cell_type": "markdown",
   "metadata": {
    "button": false,
    "deletable": true,
    "new_sheet": false,
    "run_control": {
     "read_only": false
    },
    "slideshow": {
     "slide_type": "slide"
    }
   },
   "source": [
    "## Bio - SeqIO: Check for Initial Methionine\n",
    "\n",
    "1. How to check all the protein sequences start with a methionine (represented as the letter \"M\" in the standard IUPAC single letter amino acid code), and count how many records fail this."
   ]
  },
  {
   "cell_type": "code",
   "execution_count": null,
   "metadata": {
    "button": false,
    "collapsed": false,
    "deletable": true,
    "new_sheet": false,
    "run_control": {
     "read_only": false
    },
    "slideshow": {
     "slide_type": "slide"
    }
   },
   "outputs": [],
   "source": [
    "from Bio import SeqIO\n",
    "\n",
    "filename = \"ebola.faa\"\n",
    "bad = 0\n",
    "for record in SeqIO.parse(filename, \"fasta\"):\n",
    "    if not record.seq.startswith(\"M\"):\n",
    "        bad = bad + 1\n",
    "        print(record.id + \" starts \" + record.seq[0])\n",
    "\n",
    "print(\"Found \" + str(bad) + \" records in \" + filename + \" which did NOT start with M\")"
   ]
  },
  {
   "cell_type": "markdown",
   "metadata": {
    "button": false,
    "deletable": true,
    "new_sheet": false,
    "run_control": {
     "read_only": false
    },
    "slideshow": {
     "slide_type": "subslide"
    }
   },
   "source": [
    "Excercise:\n",
    "\n",
    "   1. Modify this script to print out the description of the problem records, not just the identifier. *Tip*: Try reading the documentation, e.g. Biopython's wiki page on the `SeqRecord <http://biopython.org/wiki/SeqRecord>`.\n"
   ]
  },
  {
   "cell_type": "markdown",
   "metadata": {
    "button": false,
    "deletable": true,
    "new_sheet": false,
    "run_control": {
     "read_only": false
    },
    "slideshow": {
     "slide_type": "slide"
    }
   },
   "source": [
    "### Discussion: \n",
    "\n",
    "- What did you notice about these record descriptions? \n",
    "- Can you think of any reasons why there could be so many genes/proteins with a problem at the start?\n"
   ]
  },
  {
   "cell_type": "markdown",
   "metadata": {
    "button": false,
    "deletable": true,
    "new_sheet": false,
    "run_control": {
     "read_only": false
    },
    "slideshow": {
     "slide_type": "slide"
    }
   },
   "source": [
    "## Bio - SeqIO: Check for Stop Codons\n",
    "\n",
    "1. Let's check the example protein FASTA files for any \"*\" symbols in the sequence. For this you can use several of the standard Python string operations which also apply to \"Seq\" objects\n"
   ]
  },
  {
   "cell_type": "code",
   "execution_count": null,
   "metadata": {
    "button": false,
    "collapsed": false,
    "deletable": true,
    "new_sheet": false,
    "run_control": {
     "read_only": false
    },
    "slideshow": {
     "slide_type": "slide"
    }
   },
   "outputs": [],
   "source": [
    "my_string = \"MLNTCRVPLTDRKVKEKRAMKQHKAMIVALIVICITAVV\\\n",
    "            AALVTRKDLCEVHIRTGQTEVAVFTAYESE*\"\n",
    "my_string.startswith(\"M\")"
   ]
  },
  {
   "cell_type": "code",
   "execution_count": null,
   "metadata": {
    "button": false,
    "collapsed": false,
    "deletable": true,
    "new_sheet": false,
    "run_control": {
     "read_only": false
    },
    "slideshow": {
     "slide_type": "fragment"
    }
   },
   "outputs": [],
   "source": [
    "my_string.endswith(\"*\")"
   ]
  },
  {
   "cell_type": "code",
   "execution_count": null,
   "metadata": {
    "button": false,
    "collapsed": false,
    "deletable": true,
    "new_sheet": false,
    "run_control": {
     "read_only": false
    },
    "slideshow": {
     "slide_type": "fragment"
    }
   },
   "outputs": [],
   "source": [
    "len(my_string)"
   ]
  },
  {
   "cell_type": "code",
   "execution_count": null,
   "metadata": {
    "button": false,
    "collapsed": false,
    "deletable": true,
    "new_sheet": false,
    "run_control": {
     "read_only": false
    },
    "slideshow": {
     "slide_type": "fragment"
    }
   },
   "outputs": [],
   "source": [
    "my_string.count(\"M\")"
   ]
  },
  {
   "cell_type": "code",
   "execution_count": null,
   "metadata": {
    "button": false,
    "collapsed": false,
    "deletable": true,
    "new_sheet": false,
    "run_control": {
     "read_only": false
    },
    "slideshow": {
     "slide_type": "fragment"
    }
   },
   "outputs": [],
   "source": [
    "my_string.count(\"*\")"
   ]
  },
  {
   "cell_type": "code",
   "execution_count": null,
   "metadata": {
    "button": false,
    "collapsed": false,
    "deletable": true,
    "new_sheet": false,
    "run_control": {
     "read_only": false
    },
    "slideshow": {
     "slide_type": "slide"
    }
   },
   "outputs": [],
   "source": [
    "from Bio import SeqIO\n",
    "filename = \"ebola.faa\"\n",
    "#filename = \"PGSC_DM_v3.4_pep_representative.fasta\"\n",
    "contains_star = 0\n",
    "ends_with_star = 0\n",
    "print(\"Checking \" + filename + \" for terminal stop codons\")\n",
    "for record in SeqIO.parse(filename, \"fasta\"):\n",
    "    if record.seq.count(\"*\"):\n",
    "        contains_star = contains_star + 1\n",
    "    if record.seq.endswith(\"*\"):\n",
    "        ends_with_star = ends_with_star + 1\n",
    "print(str(contains_star) + \" records with * in them\")\n",
    "print(str(ends_with_star) + \" with * at the end\")"
   ]
  },
  {
   "cell_type": "markdown",
   "metadata": {
    "button": false,
    "deletable": true,
    "new_sheet": false,
    "run_control": {
     "read_only": false
    },
    "slideshow": {
     "slide_type": "slide"
    }
   },
   "source": [
    "## Bio - SeqIO: Different File Formats:\n",
    "\n",
    "1. If you work with finished genomes, you'll often see nicely annotated files in the EMBL or GenBank format. Let's try this with the *Ebola* GenBank file, \"ebola.gb\", based on the previous example:\n"
   ]
  },
  {
   "cell_type": "code",
   "execution_count": null,
   "metadata": {
    "button": false,
    "collapsed": false,
    "deletable": true,
    "new_sheet": false,
    "run_control": {
     "read_only": false
    },
    "slideshow": {
     "slide_type": "fragment"
    }
   },
   "outputs": [],
   "source": [
    "from Bio import SeqIO\n",
    "fasta_record = SeqIO.read(\"ebola.fa\", \"fasta\")\n",
    "print(fasta_record.id + \" length \" + str(len(fasta_record)))"
   ]
  },
  {
   "cell_type": "code",
   "execution_count": null,
   "metadata": {
    "button": false,
    "collapsed": false,
    "deletable": true,
    "new_sheet": false,
    "run_control": {
     "read_only": false
    },
    "slideshow": {
     "slide_type": "fragment"
    }
   },
   "outputs": [],
   "source": [
    "genbank_record = SeqIO.read(\"ebola.gb\", \"genbank\")\n",
    "print(genbank_record.id + \" length \" + str(len(genbank_record)))"
   ]
  },
  {
   "cell_type": "markdown",
   "metadata": {
    "button": false,
    "deletable": true,
    "new_sheet": false,
    "run_control": {
     "read_only": false
    },
    "slideshow": {
     "slide_type": "slide"
    }
   },
   "source": [
    "## Writing Sequence Files in Biopython"
   ]
  },
  {
   "cell_type": "markdown",
   "metadata": {
    "button": false,
    "deletable": true,
    "new_sheet": false,
    "run_control": {
     "read_only": false
    },
    "slideshow": {
     "slide_type": "slide"
    }
   },
   "source": [
    "## Bio - SeqIO: Converting a Sequence File\n",
    "\n",
    "1. Recall we looked at the *E. coli* K12 chromosome as a FASTA file \"NC_000913.fna\" and as a GenBank file \"NC_000913.gbk\". Suppose we only had the GenBank file, and wanted to turn it into a FASTA file?\n",
    "\n",
    "2. Biopython's \"SeqIO\" module can read and write lots of sequence file formats, and has a handy helper function to convert a file.\n"
   ]
  },
  {
   "cell_type": "code",
   "execution_count": null,
   "metadata": {
    "button": false,
    "collapsed": false,
    "deletable": true,
    "new_sheet": false,
    "run_control": {
     "read_only": false
    },
    "slideshow": {
     "slide_type": "fragment"
    }
   },
   "outputs": [],
   "source": [
    "from Bio import SeqIO\n",
    "help(SeqIO.convert)"
   ]
  },
  {
   "cell_type": "code",
   "execution_count": null,
   "metadata": {
    "button": false,
    "collapsed": false,
    "deletable": true,
    "new_sheet": false,
    "run_control": {
     "read_only": false
    },
    "slideshow": {
     "slide_type": "fragment"
    }
   },
   "outputs": [],
   "source": [
    "from Bio import SeqIO\n",
    "input_filename = \"ebola.gb\"\n",
    "output_filename = \"ebola.fasta\"\n",
    "count = SeqIO.convert(input_filename, \"gb\", output_filename, \"fasta\")\n",
    "print(str(count) + \" records converted\")"
   ]
  },
  {
   "cell_type": "markdown",
   "metadata": {
    "button": false,
    "deletable": true,
    "new_sheet": false,
    "run_control": {
     "read_only": false
    },
    "slideshow": {
     "slide_type": "subslide"
    }
   },
   "source": [
    "### Exercise: \n",
    "   \n",
    "   1.Modify this to add command line parsing to take the input and output filenames as arguments\n"
   ]
  },
  {
   "cell_type": "markdown",
   "metadata": {
    "button": false,
    "deletable": true,
    "new_sheet": false,
    "run_control": {
     "read_only": false
    },
    "slideshow": {
     "slide_type": "slide"
    }
   },
   "source": [
    "## Bio - SeqIO: Filtering a Sequence File: \n",
    "\n",
    "1. Suppose we wanted to filter a FASTA file by length, for example exclude protein sequences less than 100 amino acids long."
   ]
  },
  {
   "cell_type": "code",
   "execution_count": null,
   "metadata": {
    "button": false,
    "collapsed": false,
    "deletable": true,
    "new_sheet": false,
    "run_control": {
     "read_only": false
    },
    "slideshow": {
     "slide_type": "fragment"
    }
   },
   "outputs": [],
   "source": [
    "from Bio import SeqIO\n",
    "input_filename = \"ebola.faa\"\n",
    "output_filename = \"ebola_long_only.faa\"\n",
    "count = 0\n",
    "total = 0\n",
    "output_handle = open(output_filename, \"w\")\n",
    "for record in SeqIO.parse(input_filename, \"fasta\"):\n",
    "    total = total + 1\n",
    "    if 500 <= len(record):\n",
    "        count = count + 1\n",
    "        SeqIO.write(record, output_handle, \"fasta\")\n",
    "output_handle.close()\n",
    "print(str(count) + \" records selected out of \" + str(total))"
   ]
  },
  {
   "cell_type": "markdown",
   "metadata": {
    "button": false,
    "deletable": true,
    "new_sheet": false,
    "run_control": {
     "read_only": false
    },
    "slideshow": {
     "slide_type": "slide"
    }
   },
   "source": [
    "## Bio - SeqIO: Editing Sequences\n",
    "\n",
    "1. Previous examples had a terminal \"*” character (stop codon). Python strings, Biopython \"Seq\" and \"SeqRecord\" objects can all be *sliced* to extract a sub-sequence or partial record. In this case, we want to take everything up to but excluding the final letter:\n"
   ]
  },
  {
   "cell_type": "code",
   "execution_count": null,
   "metadata": {
    "button": false,
    "collapsed": false,
    "deletable": true,
    "new_sheet": false,
    "run_control": {
     "read_only": false
    },
    "slideshow": {
     "slide_type": "fragment"
    }
   },
   "outputs": [],
   "source": [
    "my_seq = \"MTAIVIGAKILGIIYSSPQLRKCNSATQNDHSDLQISFWKDHLRQCTTNS*\"\n",
    "cut_seq = my_seq[:-1] # remove last letter\n",
    "print(cut_seq)"
   ]
  },
  {
   "cell_type": "markdown",
   "metadata": {
    "button": false,
    "deletable": true,
    "new_sheet": false,
    "run_control": {
     "read_only": false
    },
    "slideshow": {
     "slide_type": "subslide"
    }
   },
   "source": [
    "### Exercise: \n",
    "    \n",
    "1. Modify the following example to only remove the last letter if it is a \"\\*\" (and save the original record unchanged if it does not end with \"\\*\").\n"
   ]
  },
  {
   "cell_type": "code",
   "execution_count": null,
   "metadata": {
    "button": false,
    "collapsed": false,
    "deletable": true,
    "new_sheet": false,
    "run_control": {
     "read_only": false
    },
    "slideshow": {
     "slide_type": "fragment"
    }
   },
   "outputs": [],
   "source": [
    "from Bio import SeqIO\n",
    "input_filename = \"ebola.faa\"\n",
    "output_filename = \"ebola_no_stars.faa\"\n",
    "output_handle = open(output_filename, \"w\")\n",
    "for record in SeqIO.parse(input_filename, \"fasta\"):\n",
    "    record = record[:-1]\n",
    "    SeqIO.write(record,output_handle, \"fasta\")\n",
    "output_handle.close()"
   ]
  },
  {
   "cell_type": "markdown",
   "metadata": {
    "button": false,
    "deletable": true,
    "new_sheet": false,
    "run_control": {
     "read_only": false
    },
    "slideshow": {
     "slide_type": "slide"
    }
   },
   "source": [
    "## Bio - SeqIO: Filtering by Record Name\n",
    "\n",
    "1. A very common task is pulling out particular sequences from a large sequence file. Membership testing with Python lists (or sets) is one neat way to do this.\n",
    "\n",
    "2. Write a new script starting as follows which writes out the potato proteins on this list\n"
   ]
  },
  {
   "cell_type": "code",
   "execution_count": null,
   "metadata": {
    "button": false,
    "collapsed": false,
    "deletable": true,
    "new_sheet": false,
    "run_control": {
     "read_only": false
    },
    "slideshow": {
     "slide_type": "slide"
    }
   },
   "outputs": [],
   "source": [
    "from Bio import SeqIO\n",
    "wanted_ids = [\"ZEBOVgp1\", \"ZEBOVgp3\", \"ZEBOVgp4\"]\n",
    "input_filename = \"ebola.faa\"\n",
    "output_filename = \"wanted_proteins.fasta\"\n",
    "count = 0\n",
    "total = 0\n",
    "output_handle = open(output_filename, \"w\")\n",
    "for record in SeqIO.parse(input_filename, \"fasta\"):\n",
    "    total = total + 1\n",
    "    if record.id in wanted_ids:\n",
    "        count = count + 1\n",
    "        SeqIO.write(record, output_handle, \"fasta\")\n",
    "output_handle.close()\n",
    "print(str(count) + \" records selected out of \" + str(total))"
   ]
  },
  {
   "cell_type": "markdown",
   "metadata": {
    "button": false,
    "deletable": true,
    "new_sheet": false,
    "run_control": {
     "read_only": false
    },
    "slideshow": {
     "slide_type": "subslide"
    }
   },
   "source": [
    "### Advanced Exercise \n",
    "\n",
    "    A. Modify this to read the list of wanted identifiers from a plain text input file (one identifier per line).\n",
    "\n",
    "### Discussion:\n",
    "\n",
    "    A. What happens if a wanted identifier is not in the input file? \n",
    "    \n",
    "    B. What happens if an identifier appears twice? \n",
    "    \n",
    "    C. What order is the output file?\n"
   ]
  },
  {
   "cell_type": "markdown",
   "metadata": {
    "button": false,
    "deletable": true,
    "new_sheet": false,
    "run_control": {
     "read_only": false
    },
    "slideshow": {
     "slide_type": "slide"
    }
   },
   "source": [
    "## Bio - SeqIO: Selecting by Record Name\n",
    "1. What if you want the records in the specified order (regardless of the order in the FASTA file)?\n",
    "\n",
    "2. In this situation, you can't make a single for loop over the FASTA file. For a tiny file you could load everything into memory (e.g. as a Python dictionary), but that won't work on larger files. \n",
    "\n",
    "3. Instead, we can use Biopython’s \"SeqIO.index(...)\" function which lets us treat a sequence file like a Python dictionary.\n"
   ]
  },
  {
   "cell_type": "code",
   "execution_count": null,
   "metadata": {
    "button": false,
    "collapsed": false,
    "deletable": true,
    "new_sheet": false,
    "run_control": {
     "read_only": false
    },
    "slideshow": {
     "slide_type": "slide"
    }
   },
   "outputs": [],
   "source": [
    "from Bio import SeqIO\n",
    "filename = \"ebola.faa\"\n",
    "fasta_index = SeqIO.index(filename, \"fasta\")\n",
    "print(str(len(fasta_index)) + \" records in \" + filename)\n",
    "record = fasta_index[\"ZEBOVgp1\"]\n",
    "print(record)"
   ]
  },
  {
   "cell_type": "code",
   "execution_count": null,
   "metadata": {
    "button": false,
    "collapsed": false,
    "deletable": true,
    "new_sheet": false,
    "run_control": {
     "read_only": false
    },
    "slideshow": {
     "slide_type": "skip"
    }
   },
   "outputs": [],
   "source": [
    "from Bio import SeqIO\n",
    "wanted_ids = [\"PGSC0003DMP400019313\", \"PGSC0003DMP400020381\", \"PGSC0003DMP400020972\"]\n",
    "input_filename = \"PGSC_DM_v3.4_pep_representative.fasta\"\n",
    "output_filename = \"wanted_potato_proteins_in_order.fasta\"\n",
    "fasta_index = SeqIO.index(input_filename, \"fasta\")\n",
    "count = 0\n",
    "total = len(fasta_index)\n",
    "output_handle = open(output_filename, \"w\")\n",
    "for identifier in wanted_ids:\n",
    "    record = fasta_index[identifier]\n",
    "    SeqIO.write(record, output_handle, \"fasta\")\n",
    "    count = count + 1\n",
    "output_handle.close()\n",
    "print(str(count) + \" records selected out of \" + str(total))\n"
   ]
  },
  {
   "cell_type": "markdown",
   "metadata": {
    "button": false,
    "deletable": true,
    "new_sheet": false,
    "run_control": {
     "read_only": false
    },
    "slideshow": {
     "slide_type": "slide"
    }
   },
   "source": [
    "## Bio - AlignIO: Reading Multiple - sequence Alignments\n",
    "1. We're going to look at a small seed alignment for one of the PFAM domains, the `A2L zinc ribbon domain (A2L_zn_ribbon; PF08792). This was picked almost at random - it is small enough to see the entire alignment on screen, and has some obvious gap-rich columns.\n",
    "\n",
    "2. From the alignments tab on the Pfam webpage, you can download the raw alignment in several different formats (Selex, Stockholm, FASTA, and MSF). Biopython is able to work with FASTA (very simple) and Stockholm format (richly annotated).\n"
   ]
  },
  {
   "cell_type": "markdown",
   "metadata": {
    "button": false,
    "deletable": true,
    "new_sheet": false,
    "run_control": {
     "read_only": false
    },
    "slideshow": {
     "slide_type": "slide"
    }
   },
   "source": [
    "## Bio - AlignIO: Loading a Single Alignment:\n",
    "\n",
    "1. As in \"SeqIO\", under \"AlignIO\" we have both\n",
    "    \n",
    "    A. \"AlignIO.parse(...)\" for looping over multiple separate alignments \n",
    "\n",
    "    B. \"AlignIO.read(...)\" for loading a file containing a single alignment\n",
    "\n",
    "2. Most of the time you will be working with alignment files which contain a single alignment, so normally you will use \"AlignIO.read(..)\".\n",
    "\n",
    "3. Here is an example loading the Pfam seed alignment for the `A2L zinc ribbon domain (A2L_zn_ribbon; PF08792):\n"
   ]
  },
  {
   "cell_type": "code",
   "execution_count": 9,
   "metadata": {
    "button": false,
    "collapsed": false,
    "deletable": true,
    "new_sheet": false,
    "run_control": {
     "read_only": false
    },
    "slideshow": {
     "slide_type": "subslide"
    }
   },
   "outputs": [
    {
     "ename": "FileNotFoundError",
     "evalue": "[Errno 2] No such file or directory: 'PF08792_seed.sth'",
     "output_type": "error",
     "traceback": [
      "\u001b[0;31m---------------------------------------------------------------------------\u001b[0m",
      "\u001b[0;31mFileNotFoundError\u001b[0m                         Traceback (most recent call last)",
      "\u001b[0;32m<ipython-input-9-d71d74633ca8>\u001b[0m in \u001b[0;36m<module>\u001b[0;34m()\u001b[0m\n\u001b[1;32m      1\u001b[0m \u001b[0;32mfrom\u001b[0m \u001b[0mBio\u001b[0m \u001b[0;32mimport\u001b[0m \u001b[0mAlignIO\u001b[0m\u001b[0;34m\u001b[0m\u001b[0m\n\u001b[0;32m----> 2\u001b[0;31m \u001b[0malignment\u001b[0m \u001b[0;34m=\u001b[0m \u001b[0mAlignIO\u001b[0m\u001b[0;34m.\u001b[0m\u001b[0mread\u001b[0m\u001b[0;34m(\u001b[0m\u001b[0;34m\"PF08792_seed.sth\"\u001b[0m\u001b[0;34m,\u001b[0m \u001b[0;34m\"stockholm\"\u001b[0m\u001b[0;34m)\u001b[0m\u001b[0;34m\u001b[0m\u001b[0m\n\u001b[0m\u001b[1;32m      3\u001b[0m \u001b[0mprint\u001b[0m\u001b[0;34m(\u001b[0m\u001b[0malignment\u001b[0m\u001b[0;34m)\u001b[0m\u001b[0;34m\u001b[0m\u001b[0m\n",
      "\u001b[0;32m/Users/baseline/anaconda3/lib/python3.4/site-packages/Bio/AlignIO/__init__.py\u001b[0m in \u001b[0;36mread\u001b[0;34m(handle, format, seq_count, alphabet)\u001b[0m\n\u001b[1;32m    425\u001b[0m     \u001b[0miterator\u001b[0m \u001b[0;34m=\u001b[0m \u001b[0mparse\u001b[0m\u001b[0;34m(\u001b[0m\u001b[0mhandle\u001b[0m\u001b[0;34m,\u001b[0m \u001b[0mformat\u001b[0m\u001b[0;34m,\u001b[0m \u001b[0mseq_count\u001b[0m\u001b[0;34m,\u001b[0m \u001b[0malphabet\u001b[0m\u001b[0;34m)\u001b[0m\u001b[0;34m\u001b[0m\u001b[0m\n\u001b[1;32m    426\u001b[0m     \u001b[0;32mtry\u001b[0m\u001b[0;34m:\u001b[0m\u001b[0;34m\u001b[0m\u001b[0m\n\u001b[0;32m--> 427\u001b[0;31m         \u001b[0mfirst\u001b[0m \u001b[0;34m=\u001b[0m \u001b[0mnext\u001b[0m\u001b[0;34m(\u001b[0m\u001b[0miterator\u001b[0m\u001b[0;34m)\u001b[0m\u001b[0;34m\u001b[0m\u001b[0m\n\u001b[0m\u001b[1;32m    428\u001b[0m     \u001b[0;32mexcept\u001b[0m \u001b[0mStopIteration\u001b[0m\u001b[0;34m:\u001b[0m\u001b[0;34m\u001b[0m\u001b[0m\n\u001b[1;32m    429\u001b[0m         \u001b[0mfirst\u001b[0m \u001b[0;34m=\u001b[0m \u001b[0;32mNone\u001b[0m\u001b[0;34m\u001b[0m\u001b[0m\n",
      "\u001b[0;32m/Users/baseline/anaconda3/lib/python3.4/site-packages/Bio/AlignIO/__init__.py\u001b[0m in \u001b[0;36mparse\u001b[0;34m(handle, format, seq_count, alphabet)\u001b[0m\n\u001b[1;32m    348\u001b[0m         \u001b[0;32mraise\u001b[0m \u001b[0mTypeError\u001b[0m\u001b[0;34m(\u001b[0m\u001b[0;34m\"Need integer for seq_count (sequences per alignment)\"\u001b[0m\u001b[0;34m)\u001b[0m\u001b[0;34m\u001b[0m\u001b[0m\n\u001b[1;32m    349\u001b[0m \u001b[0;34m\u001b[0m\u001b[0m\n\u001b[0;32m--> 350\u001b[0;31m     \u001b[0;32mwith\u001b[0m \u001b[0mas_handle\u001b[0m\u001b[0;34m(\u001b[0m\u001b[0mhandle\u001b[0m\u001b[0;34m,\u001b[0m \u001b[0;34m'rU'\u001b[0m\u001b[0;34m)\u001b[0m \u001b[0;32mas\u001b[0m \u001b[0mfp\u001b[0m\u001b[0;34m:\u001b[0m\u001b[0;34m\u001b[0m\u001b[0m\n\u001b[0m\u001b[1;32m    351\u001b[0m         \u001b[0;31m# Map the file format to a sequence iterator:\u001b[0m\u001b[0;34m\u001b[0m\u001b[0;34m\u001b[0m\u001b[0m\n\u001b[1;32m    352\u001b[0m         \u001b[0;32mif\u001b[0m \u001b[0mformat\u001b[0m \u001b[0;32min\u001b[0m \u001b[0m_FormatToIterator\u001b[0m\u001b[0;34m:\u001b[0m\u001b[0;34m\u001b[0m\u001b[0m\n",
      "\u001b[0;32m/Users/baseline/anaconda3/lib/python3.4/contextlib.py\u001b[0m in \u001b[0;36m__enter__\u001b[0;34m(self)\u001b[0m\n\u001b[1;32m     57\u001b[0m     \u001b[0;32mdef\u001b[0m \u001b[0m__enter__\u001b[0m\u001b[0;34m(\u001b[0m\u001b[0mself\u001b[0m\u001b[0;34m)\u001b[0m\u001b[0;34m:\u001b[0m\u001b[0;34m\u001b[0m\u001b[0m\n\u001b[1;32m     58\u001b[0m         \u001b[0;32mtry\u001b[0m\u001b[0;34m:\u001b[0m\u001b[0;34m\u001b[0m\u001b[0m\n\u001b[0;32m---> 59\u001b[0;31m             \u001b[0;32mreturn\u001b[0m \u001b[0mnext\u001b[0m\u001b[0;34m(\u001b[0m\u001b[0mself\u001b[0m\u001b[0;34m.\u001b[0m\u001b[0mgen\u001b[0m\u001b[0;34m)\u001b[0m\u001b[0;34m\u001b[0m\u001b[0m\n\u001b[0m\u001b[1;32m     60\u001b[0m         \u001b[0;32mexcept\u001b[0m \u001b[0mStopIteration\u001b[0m\u001b[0;34m:\u001b[0m\u001b[0;34m\u001b[0m\u001b[0m\n\u001b[1;32m     61\u001b[0m             \u001b[0;32mraise\u001b[0m \u001b[0mRuntimeError\u001b[0m\u001b[0;34m(\u001b[0m\u001b[0;34m\"generator didn't yield\"\u001b[0m\u001b[0;34m)\u001b[0m \u001b[0;32mfrom\u001b[0m \u001b[0;32mNone\u001b[0m\u001b[0;34m\u001b[0m\u001b[0m\n",
      "\u001b[0;32m/Users/baseline/anaconda3/lib/python3.4/site-packages/Bio/File.py\u001b[0m in \u001b[0;36mas_handle\u001b[0;34m(handleish, mode, **kwargs)\u001b[0m\n\u001b[1;32m     88\u001b[0m                 \u001b[0;32myield\u001b[0m \u001b[0mfp\u001b[0m\u001b[0;34m\u001b[0m\u001b[0m\n\u001b[1;32m     89\u001b[0m         \u001b[0;32melse\u001b[0m\u001b[0;34m:\u001b[0m\u001b[0;34m\u001b[0m\u001b[0m\n\u001b[0;32m---> 90\u001b[0;31m             \u001b[0;32mwith\u001b[0m \u001b[0mopen\u001b[0m\u001b[0;34m(\u001b[0m\u001b[0mhandleish\u001b[0m\u001b[0;34m,\u001b[0m \u001b[0mmode\u001b[0m\u001b[0;34m,\u001b[0m \u001b[0;34m**\u001b[0m\u001b[0mkwargs\u001b[0m\u001b[0;34m)\u001b[0m \u001b[0;32mas\u001b[0m \u001b[0mfp\u001b[0m\u001b[0;34m:\u001b[0m\u001b[0;34m\u001b[0m\u001b[0m\n\u001b[0m\u001b[1;32m     91\u001b[0m                 \u001b[0;32myield\u001b[0m \u001b[0mfp\u001b[0m\u001b[0;34m\u001b[0m\u001b[0m\n\u001b[1;32m     92\u001b[0m     \u001b[0;32melse\u001b[0m\u001b[0;34m:\u001b[0m\u001b[0;34m\u001b[0m\u001b[0m\n",
      "\u001b[0;31mFileNotFoundError\u001b[0m: [Errno 2] No such file or directory: 'PF08792_seed.sth'"
     ]
    }
   ],
   "source": [
    "from Bio import AlignIO\n",
    "alignment = AlignIO.read(\"PF08792_seed.sth\", \"stockholm\")\n",
    "print(alignment)"
   ]
  },
  {
   "cell_type": "markdown",
   "metadata": {
    "button": false,
    "deletable": true,
    "new_sheet": false,
    "run_control": {
     "read_only": false
    },
    "slideshow": {
     "slide_type": "slide"
    }
   },
   "source": [
    "In many ways, the alignment acts like a list of \"SeqRecord\" objects (just like you would get from \"SeqIO\"). \n"
   ]
  },
  {
   "cell_type": "code",
   "execution_count": null,
   "metadata": {
    "button": false,
    "collapsed": false,
    "deletable": true,
    "new_sheet": false,
    "run_control": {
     "read_only": false
    },
    "slideshow": {
     "slide_type": "fragment"
    }
   },
   "outputs": [],
   "source": [
    "print(len(alignment))"
   ]
  },
  {
   "cell_type": "markdown",
   "metadata": {
    "button": false,
    "deletable": true,
    "new_sheet": false,
    "run_control": {
     "read_only": false
    },
    "slideshow": {
     "slide_type": "fragment"
    }
   },
   "source": [
    "The length of the alignment is the number of rows for example, and you can loop over the rows as individual \"SeqRecord\" objects:\n"
   ]
  },
  {
   "cell_type": "code",
   "execution_count": null,
   "metadata": {
    "button": false,
    "collapsed": false,
    "deletable": true,
    "new_sheet": false,
    "run_control": {
     "read_only": false
    },
    "slideshow": {
     "slide_type": "fragment"
    }
   },
   "outputs": [],
   "source": [
    "for record in alignment:\n",
    "    print(record.id + \" has \" + str(record.seq.count(\"-\")) + \" gaps\")\n"
   ]
  },
  {
   "cell_type": "markdown",
   "metadata": {
    "button": false,
    "deletable": true,
    "new_sheet": false,
    "run_control": {
     "read_only": false
    },
    "slideshow": {
     "slide_type": "subslide"
    }
   },
   "source": [
    "Homework:\n",
    "    \n",
    "    A. Write a python script called \"count_gaps.py\" which reports the number or records, the total number of gaps, and the mean (average) number of gaps per record:\n"
   ]
  },
  {
   "cell_type": "markdown",
   "metadata": {
    "button": false,
    "deletable": true,
    "new_sheet": false,
    "run_control": {
     "read_only": false
    },
    "slideshow": {
     "slide_type": "slide"
    }
   },
   "source": [
    "## Bio - AlignIO: Writing Multiple - sequence Alignment Files\n",
    "\n",
    "1. As you might guess from using \"SeqIO.convert(...)\" and \"SeqIO.write(...)\", there are matching \"AlignIO.convert()\" and \"AlignIO.write(...)\" functions.\n",
    "\n",
    "2. For example, this will convert the Stockholm formatted alignment into a relaxed PHYLIP format file:\n",
    "\n"
   ]
  },
  {
   "cell_type": "code",
   "execution_count": null,
   "metadata": {
    "button": false,
    "collapsed": false,
    "deletable": true,
    "new_sheet": false,
    "run_control": {
     "read_only": false
    },
    "slideshow": {
     "slide_type": "fragment"
    }
   },
   "outputs": [],
   "source": [
    "from Bio import AlignIO\n",
    "input_filename = \"PF08792_seed.sth”\n",
    "output_filename = \"PF08792_seed_converted.phy”\n",
    "AlignIO.convert(input_filename, \"stockholm\", output_filename, \"phylip-relaxed\")\n"
   ]
  },
  {
   "cell_type": "markdown",
   "metadata": {
    "button": false,
    "deletable": true,
    "new_sheet": false,
    "run_control": {
     "read_only": false
    },
    "slideshow": {
     "slide_type": "subslide"
    }
   },
   "source": [
    "Homework: \n",
    "\n",
    "1. Modify this example to convert the Stockholm file into a FASTA alignment file.\n"
   ]
  },
  {
   "cell_type": "markdown",
   "metadata": {
    "button": false,
    "deletable": true,
    "new_sheet": false,
    "run_control": {
     "read_only": false
    },
    "slideshow": {
     "slide_type": "slide"
    }
   },
   "source": [
    "This \"AlignIO.convert(...)\"  example is equivalent to using \"AlignIO.read(...)\" and \"AlignIO.write(...)\" explicitly:\n"
   ]
  },
  {
   "cell_type": "code",
   "execution_count": null,
   "metadata": {
    "button": false,
    "collapsed": false,
    "deletable": true,
    "new_sheet": false,
    "run_control": {
     "read_only": false
    },
    "slideshow": {
     "slide_type": "fragment"
    }
   },
   "outputs": [],
   "source": [
    "from Bio import AlignIO\n",
    "input_filename = \"PF08792_seed.sth”\n",
    "output_filename = \"PF08792_seed_converted.phy”\n",
    "alignment = AlignIO.read(input_filename, \"stockholm”)\n",
    "AlignIO.write(alignment, output_filename, \"phylip-relaxed\")\n"
   ]
  },
  {
   "cell_type": "markdown",
   "metadata": {
    "button": false,
    "deletable": true,
    "new_sheet": false,
    "run_control": {
     "read_only": false
    },
    "slideshow": {
     "slide_type": "fragment"
    }
   },
   "source": [
    "This form is most useful if you wish to modify the alignment in some way, which we will do next.\n"
   ]
  },
  {
   "cell_type": "markdown",
   "metadata": {
    "button": false,
    "deletable": true,
    "new_sheet": false,
    "run_control": {
     "read_only": false
    },
    "slideshow": {
     "slide_type": "slide"
    }
   },
   "source": [
    "## Bio - AlignIO: Sorting the Rows\n",
    "\n",
    "How you can sort the rows by identifier within Biopython:\n"
   ]
  },
  {
   "cell_type": "code",
   "execution_count": null,
   "metadata": {
    "button": false,
    "collapsed": false,
    "deletable": true,
    "new_sheet": false,
    "run_control": {
     "read_only": false
    },
    "slideshow": {
     "slide_type": "fragment"
    }
   },
   "outputs": [],
   "source": [
    "from Bio import AlignIO\n",
    "alignment = AlignIO.read(\"PF08792_seed.sth\", \"stockholm”)\n",
    "alignment.sort()\n",
    "print(alignment)"
   ]
  },
  {
   "cell_type": "markdown",
   "metadata": {
    "button": false,
    "deletable": true,
    "new_sheet": false,
    "run_control": {
     "read_only": false
    },
    "slideshow": {
     "slide_type": "subslide"
    }
   },
   "source": [
    "### Exercise:\n",
    "    \n",
    "1. Write a Python script \"sort_alignment_by_id.py\" which uses \"AlignIO.read(..)\" and \"AlignIO.write(..)\" to convert \"PF08792_seed.sth\" into a sorted FASTA file.\n",
    "    \n",
    "2. By default the alignment's sort method uses the identifers as the sort key, but much like how sorting a Python list works, you can override this.\n",
    "\n",
    "3. Define your own function taking a single argument (a \"SeqRecord\") which returns the number of gaps in the sequence. Use this to sort the alignment and print it to screen (or save it as a new file)\n"
   ]
  },
  {
   "cell_type": "markdown",
   "metadata": {
    "button": false,
    "deletable": true,
    "new_sheet": false,
    "run_control": {
     "read_only": false
    },
    "slideshow": {
     "slide_type": "slide"
    }
   },
   "source": [
    "## Sequence Features"
   ]
  },
  {
   "cell_type": "markdown",
   "metadata": {
    "button": false,
    "deletable": true,
    "new_sheet": false,
    "run_control": {
     "read_only": false
    },
    "slideshow": {
     "slide_type": "fragment"
    }
   },
   "source": [
    "## Sequence Features: Working with Sequence Features\n",
    "1. Most of the time GenBank files contain a single record for a single chromosome or plasmid, so we'll generally use the \"SeqIO.read(...)\" function. Remember the second argument is the file format, so if we start from the code to read in a FASTA file\n"
   ]
  },
  {
   "cell_type": "code",
   "execution_count": null,
   "metadata": {
    "button": false,
    "collapsed": false,
    "deletable": true,
    "new_sheet": false,
    "run_control": {
     "read_only": false
    },
    "slideshow": {
     "slide_type": "fragment"
    }
   },
   "outputs": [],
   "source": [
    "from Bio import SeqIO\n",
    "record = SeqIO.read(\"ebola.fa\", \"fasta\")\n",
    "print(record.id)"
   ]
  },
  {
   "cell_type": "code",
   "execution_count": null,
   "metadata": {
    "button": false,
    "collapsed": false,
    "deletable": true,
    "new_sheet": false,
    "run_control": {
     "read_only": false
    },
    "slideshow": {
     "slide_type": "slide"
    }
   },
   "outputs": [],
   "source": [
    "from Bio import SeqIO\n",
    "record = SeqIO.read(\"ebola.gb\", \"genbank\")\n",
    "print(record.id)\n",
    "print(len(record))\n",
    "print(len(record.features))\n"
   ]
  },
  {
   "cell_type": "code",
   "execution_count": null,
   "metadata": {
    "button": false,
    "collapsed": false,
    "deletable": true,
    "new_sheet": false,
    "run_control": {
     "read_only": false
    },
    "slideshow": {
     "slide_type": "fragment"
    }
   },
   "outputs": [],
   "source": [
    "my_gene = record.features[3]\n",
    "print(my_gene)"
   ]
  },
  {
   "cell_type": "markdown",
   "metadata": {
    "button": false,
    "deletable": true,
    "new_sheet": false,
    "run_control": {
     "read_only": false
    },
    "slideshow": {
     "slide_type": "slide"
    }
   },
   "source": [
    "Doing a print like this tries to give a human readable display. There are three key properties:\n",
    "    \n",
    "    1. \".type\" which is a string like \"gene\" or \"CDS\"\n",
    "\n",
    "    2. \".location\" which describes where on the genome this feature is, and\n",
    "    \n",
    "    3. \".qualifiers\" which is a Python dictionary full of all the annotation for the feature (things like gene identifiers).\n",
    "    \n",
    "This is what this gene looks like in the raw GenBank file::\n",
    "\n",
    "gene     337..2799\n",
    "\t/gene=\"thrA”\n",
    "\t/locus_tag=\"b0002\n",
    "\t/gene_synonym=\"ECK0002; Hs; JW0001; thrA1; thrA2; thrD”\n",
    "\t/db_xref=\"EcoGene:EG10998”\n",
    "\t/db_xref=\"GeneID:945803”\n",
    "\n"
   ]
  },
  {
   "cell_type": "markdown",
   "metadata": {
    "button": false,
    "deletable": true,
    "new_sheet": false,
    "run_control": {
     "read_only": false
    },
    "slideshow": {
     "slide_type": "slide"
    }
   },
   "source": [
    "## Sequence Features: Feature Locations\n",
    "\n",
    "We're going to focus on using the location information for different feature types. Continuint with the same example:"
   ]
  },
  {
   "cell_type": "code",
   "execution_count": null,
   "metadata": {
    "button": false,
    "collapsed": false,
    "deletable": true,
    "new_sheet": false,
    "run_control": {
     "read_only": false
    },
    "slideshow": {
     "slide_type": "slide"
    }
   },
   "outputs": [],
   "source": [
    "from Bio import SeqIO\n",
    "record = SeqIO.read(\"ebola.gb\", \"genbank\")\n",
    "my_gene = record.features[3]\n",
    "print(my_gene.qualifiers[\"locus_tag\"])"
   ]
  },
  {
   "cell_type": "code",
   "execution_count": null,
   "metadata": {
    "button": false,
    "collapsed": false,
    "deletable": true,
    "new_sheet": false,
    "run_control": {
     "read_only": false
    },
    "slideshow": {
     "slide_type": "fragment"
    }
   },
   "outputs": [],
   "source": [
    "print(my_gene.location)"
   ]
  },
  {
   "cell_type": "code",
   "execution_count": null,
   "metadata": {
    "button": false,
    "collapsed": false,
    "deletable": true,
    "new_sheet": false,
    "run_control": {
     "read_only": false
    },
    "slideshow": {
     "slide_type": "fragment"
    }
   },
   "outputs": [],
   "source": [
    "print(my_gene.location.start)"
   ]
  },
  {
   "cell_type": "code",
   "execution_count": null,
   "metadata": {
    "button": false,
    "collapsed": false,
    "deletable": true,
    "new_sheet": false,
    "run_control": {
     "read_only": false
    },
    "slideshow": {
     "slide_type": "fragment"
    }
   },
   "outputs": [],
   "source": [
    "print(my_gene.location.end)"
   ]
  },
  {
   "cell_type": "code",
   "execution_count": null,
   "metadata": {
    "button": false,
    "collapsed": false,
    "deletable": true,
    "new_sheet": false,
    "run_control": {
     "read_only": false
    },
    "slideshow": {
     "slide_type": "fragment"
    }
   },
   "outputs": [],
   "source": [
    "print(my_gene.location.strand)"
   ]
  },
  {
   "cell_type": "markdown",
   "metadata": {
    "button": false,
    "deletable": true,
    "new_sheet": false,
    "run_control": {
     "read_only": false
    },
    "slideshow": {
     "slide_type": "slide"
    }
   },
   "source": [
    "## Extracting Info from GenBank record"
   ]
  },
  {
   "cell_type": "code",
   "execution_count": null,
   "metadata": {
    "button": false,
    "collapsed": false,
    "deletable": true,
    "new_sheet": false,
    "run_control": {
     "read_only": false
    },
    "slideshow": {
     "slide_type": "fragment"
    }
   },
   "outputs": [],
   "source": [
    "from Bio import SeqIO\n",
    "for index, record in enumerate(SeqIO.parse(open(\"ebola.gb\"), \"genbank\")):\n",
    "     print(\"index %i, ID = %s, length %i, with %i feat. \" \\\n",
    "\t% (index, record.id, len(record.seq), len(record.features)))\n"
   ]
  },
  {
   "cell_type": "markdown",
   "metadata": {
    "button": false,
    "deletable": true,
    "new_sheet": false,
    "run_control": {
     "read_only": false
    },
    "slideshow": {
     "slide_type": "slide"
    }
   },
   "source": [
    "## BLAST"
   ]
  },
  {
   "cell_type": "markdown",
   "metadata": {
    "button": false,
    "deletable": true,
    "new_sheet": false,
    "run_control": {
     "read_only": false
    },
    "slideshow": {
     "slide_type": "slide"
    }
   },
   "source": [
    "## A Few BLAST Details\n",
    "\n",
    "(note: there was a picture on this slide. I need to figure that out)"
   ]
  },
  {
   "cell_type": "markdown",
   "metadata": {
    "button": false,
    "collapsed": true,
    "deletable": true,
    "new_sheet": false,
    "run_control": {
     "read_only": false
    },
    "slideshow": {
     "slide_type": "slide"
    }
   },
   "source": [
    "## BLAST Output (Text)\n",
    "    BLASTN 2.2.28+\n",
    "    Reference: Zheng Zhang, Scott Schwartz, Lukas Wagner, and\n",
    "    Webb Miller (2000), \"A greedy algorithm for aligning DNA\n",
    "    sequences\", J Comput Biol 2000; 7(1-2):203-14.\n",
    "\n",
    "    Reference for database indexing: Aleksandr Morgulis, George\n",
    "    Coulouris, Yan Raytselis, Thomas L. Madden, Richa Agarwala,\n",
    "    Alejandro A. Schaffer (2008), \"Database Indexing for\n",
    "    Production MegaBLAST Searches\", Bioinformatics 24:1757-1764.\n",
    "\n",
    "    RID: SJ2EFD07014\n",
    "\n",
    "    Database: Nucleotide collection (nt)\n",
    "               26,000,382 sequences; 49,159,429,833 total letters\n",
    "    Query= gi|2765658|emb|Z78533.1| C.irapeanum 5.8S rRNA gene and ITS1 and ITS2\n",
    "    DNA\n",
    "\n",
    "    Length=740\n",
    "\n",
    "                                                                 Score     E\n",
    "    Sequences producing significant alignments:                       (Bits)  Value\n",
    "\n",
    "    emb|Z78533.1|  C.irapeanum 5.8S rRNA gene and ITS1 and ITS2 DNA     1367   0.0   \n",
    "    emb|FR720328.1|  Cypripedium irapeanum ITS1, 5.8S rRNA gene, I...   1210   0.0  \n"
   ]
  },
  {
   "cell_type": "markdown",
   "metadata": {
    "button": false,
    "deletable": true,
    "new_sheet": false,
    "run_control": {
     "read_only": false
    },
    "slideshow": {
     "slide_type": "slide"
    }
   },
   "source": [
    "## BLAST Output (XML)\n",
    "\n",
    "    <?xml version=\"1.0\"?>\n",
    "    <!DOCTYPE BlastOutput PUBLIC \"-//NCBI//NCBI BlastOutput/EN\" \"http://www.ncbi.nlm.nih.gov/dtd/NCBI_BlastOutput.dtd\">\n",
    "    <BlastOutput>\n",
    "      <BlastOutput_program>blastn</BlastOutput_program>\n",
    "      <BlastOutput_version>BLASTN 2.2.28+</BlastOutput_version>\n",
    "      <BlastOutput_reference>Zheng Zhang, Scott Schwartz, Lukas Wagner, and Webb Miller (2000), &quot;A greedy algorithm for aligning DNA sequences&quot;, J Comput Biol 2000; 7(1-2):203-14.</BlastOutput_reference>\n",
    "      <BlastOutput_db>nr</BlastOutput_db>\n",
    "      <BlastOutput_query-ID>gi|2765658|emb|Z78533.1|</BlastOutput_query-ID>\n",
    "      <BlastOutput_query-def>C.irapeanum 5.8S rRNA gene and ITS1 and ITS2 DNA</BlastOutput_query-def>\n",
    "      <BlastOutput_query-len>740</BlastOutput_query-len>\n",
    "      <BlastOutput_param>\n",
    "        <Parameters>\n",
    "          <Parameters_expect>10</Parameters_expect>\n",
    "          <Parameters_sc-match>1</Parameters_sc-match>\n",
    "          <Parameters_sc-mismatch>-2</Parameters_sc-mismatch>\n",
    "          <Parameters_gap-open>0</Parameters_gap-open>\n",
    "          <Parameters_gap-extend>0</Parameters_gap-extend>\n",
    "          <Parameters_filter>L;m;</Parameters_filter>\n",
    "        </Parameters>\n",
    "      </BlastOutput_param>\n",
    "    <BlastOutput_iterations>\n",
    "    <Iteration>\n",
    "      <Iteration_iter-num>1</Iteration_iter-num>\n",
    "      <Iteration_query-ID>gi|2765658|emb|Z78533.1|</Iteration_query-ID>\n",
    "      <Iteration_query-def>C.irapeanum 5.8S rRNA gene and ITS1 and ITS2 DNA</Iteration_query-def>\n",
    "      <Iteration_query-len>740</Iteration_query-len>\n",
    "    <Iteration_hits>\n"
   ]
  },
  {
   "cell_type": "markdown",
   "metadata": {
    "button": false,
    "deletable": true,
    "new_sheet": false,
    "run_control": {
     "read_only": false
    },
    "slideshow": {
     "slide_type": "slide"
    }
   },
   "source": [
    "## BLAST a Sequence to File"
   ]
  },
  {
   "cell_type": "code",
   "execution_count": null,
   "metadata": {
    "button": false,
    "collapsed": false,
    "deletable": true,
    "new_sheet": false,
    "run_control": {
     "read_only": false
    },
    "slideshow": {
     "slide_type": "fragment"
    }
   },
   "outputs": [],
   "source": [
    "from Bio.Blast import NCBIWWW\n",
    "from Bio import SeqIO\n",
    "\n",
    "record = SeqIO.read(open(\"m_cold.fasta\"), format=\"fasta\")\n",
    "result_handle = NCBIWWW.qblast(\"blastn\", \"nt\", record.seq)\n",
    "save_file = open(\"my_blast.xml\", \"w\")\n",
    "save_file.write(result_handle.read())\n",
    "save_file.close()\n",
    "result_handle.close()"
   ]
  },
  {
   "cell_type": "markdown",
   "metadata": {
    "button": false,
    "deletable": true,
    "new_sheet": false,
    "run_control": {
     "read_only": false
    },
    "slideshow": {
     "slide_type": "slide"
    }
   },
   "source": [
    "## Parse BLAST Output"
   ]
  },
  {
   "cell_type": "code",
   "execution_count": null,
   "metadata": {
    "button": false,
    "collapsed": false,
    "deletable": true,
    "new_sheet": false,
    "run_control": {
     "read_only": false
    },
    "slideshow": {
     "slide_type": "fragment"
    }
   },
   "outputs": [],
   "source": [
    "from Bio.Blast import NCBIXML\n",
    "result_handle = open(\"my_blast.xml\")\n",
    "blast_record = NCBIXML.read(result_handle)\n",
    "E_VALUE_THRESH = 0.04\n",
    "for alignment in blast_record.alignments:\n",
    "     for hsp in alignment.hsps:\n",
    "         if hsp.expect < E_VALUE_THRESH:\n",
    "             print ('****Alignment****')\n",
    "             print ('sequence:', alignment.title)\n",
    "             print ('length:', alignment.length)\n",
    "             print ('e value:', hsp.expect)\n",
    "             print (hsp.query[0:75] + '...')\n",
    "             print (hsp.match[0:75] + '...')\n",
    "             print (hsp.sbjct[0:75] + '...')\n"
   ]
  },
  {
   "cell_type": "markdown",
   "metadata": {
    "button": false,
    "deletable": true,
    "new_sheet": false,
    "run_control": {
     "read_only": false
    },
    "slideshow": {
     "slide_type": "slide"
    }
   },
   "source": [
    "## Next-Gen Related Scripts\n",
    "\n",
    "[Source](http://Biopython.org/DIST/docs/tutorial/Tutorial.html#htoc217)"
   ]
  },
  {
   "cell_type": "markdown",
   "metadata": {
    "button": false,
    "deletable": true,
    "new_sheet": false,
    "run_control": {
     "read_only": false
    },
    "slideshow": {
     "slide_type": "slide"
    }
   },
   "source": [
    "## FASTA, QUAL <=> FASTQ Conversion\n",
    "\n",
    "Going from FASTQ to FASTA"
   ]
  },
  {
   "cell_type": "code",
   "execution_count": null,
   "metadata": {
    "button": false,
    "collapsed": false,
    "deletable": true,
    "new_sheet": false,
    "run_control": {
     "read_only": false
    },
    "slideshow": {
     "slide_type": "fragment"
    }
   },
   "outputs": [],
   "source": [
    "!wget ftp://ftp.sra.ebi.ac.uk/vol1/fastq/SRR020/SRR020192/SRR020192.fastq.gz\n",
    "!gunzip SRR020192.fastq.gz"
   ]
  },
  {
   "cell_type": "code",
   "execution_count": null,
   "metadata": {
    "button": false,
    "collapsed": false,
    "deletable": true,
    "new_sheet": false,
    "run_control": {
     "read_only": false
    },
    "slideshow": {
     "slide_type": "fragment"
    }
   },
   "outputs": [],
   "source": [
    "from Bio import SeqIO\n",
    "SeqIO.convert(\"SRR020192.fastq\", \"fastq\", \"SRR020192.fasta\", \"fasta\")"
   ]
  },
  {
   "cell_type": "markdown",
   "metadata": {
    "button": false,
    "deletable": true,
    "new_sheet": false,
    "run_control": {
     "read_only": false
    },
    "slideshow": {
     "slide_type": "slide"
    }
   },
   "source": [
    "Going from FASTQ to QUAL is also easy:\n"
   ]
  },
  {
   "cell_type": "code",
   "execution_count": null,
   "metadata": {
    "button": false,
    "collapsed": false,
    "deletable": true,
    "new_sheet": false,
    "run_control": {
     "read_only": false
    },
    "slideshow": {
     "slide_type": "fragment"
    }
   },
   "outputs": [],
   "source": [
    "from Bio import SeqIO\n",
    "SeqIO.convert(\"SRR020192.fastq\", \"fastq\", \"SRR020192.qual\", \"qual\")"
   ]
  },
  {
   "cell_type": "markdown",
   "metadata": {
    "button": false,
    "deletable": true,
    "new_sheet": false,
    "run_control": {
     "read_only": false
    },
    "slideshow": {
     "slide_type": "slide"
    }
   },
   "source": [
    "### FASTA and QUAL file to FASTQ:\n"
   ]
  },
  {
   "cell_type": "code",
   "execution_count": null,
   "metadata": {
    "button": false,
    "collapsed": false,
    "deletable": true,
    "new_sheet": false,
    "run_control": {
     "read_only": false
    },
    "scrolled": true,
    "slideshow": {
     "slide_type": "fragment"
    }
   },
   "outputs": [],
   "source": [
    "from Bio.SeqIO.QualityIO import PairedFastaQualIterator\n",
    "for record in PairedFastaQualIterator(open(\"SRR020192.fasta\"), open(\"SRR020192.qual\")):\n",
    "   print (record)\n"
   ]
  },
  {
   "cell_type": "markdown",
   "metadata": {
    "button": false,
    "deletable": true,
    "new_sheet": false,
    "run_control": {
     "read_only": false
    },
    "slideshow": {
     "slide_type": "slide"
    }
   },
   "source": [
    "## Clean up FASTQ Files by Phred Score"
   ]
  },
  {
   "cell_type": "code",
   "execution_count": null,
   "metadata": {
    "button": false,
    "collapsed": false,
    "deletable": true,
    "new_sheet": false,
    "run_control": {
     "read_only": false
    },
    "slideshow": {
     "slide_type": "fragment"
    }
   },
   "outputs": [],
   "source": [
    "from Bio import SeqIO\n",
    "good_reads = (rec for rec in \\\n",
    "\tSeqIO.parse(\"SRR020192.fastq\", \"fastq\") \\\n",
    "\tif min(rec.letter_annotations[\"phred_quality\"]) >= 20)\n",
    "count = SeqIO.write(good_reads, \"good_quality.fastq\", \"fastq\")\n",
    "print (\"Saved %i reads\" % count)"
   ]
  },
  {
   "cell_type": "markdown",
   "metadata": {
    "button": false,
    "deletable": true,
    "new_sheet": false,
    "run_control": {
     "read_only": false
    },
    "slideshow": {
     "slide_type": "slide"
    }
   },
   "source": [
    "## Trimming Off Adaptor Sequences"
   ]
  },
  {
   "cell_type": "code",
   "execution_count": null,
   "metadata": {
    "button": false,
    "collapsed": false,
    "deletable": true,
    "new_sheet": false,
    "run_control": {
     "read_only": false
    },
    "slideshow": {
     "slide_type": "fragment"
    }
   },
   "outputs": [],
   "source": [
    "from Bio import SeqIO\n",
    "def trim_adaptors(records, adaptor, min_len):\n",
    "    len_adaptor = len(adaptor) \t\t# cache this for later\n",
    "    for record in records:\n",
    "        len_record = len(record) \t# Cache this for later\n",
    "        if len(record) < min_len:\t# Too short to keep\n",
    "            continue\n",
    "        index = record.seq.find(adaptor)\n",
    "        if index == -1:\t\t# Aadaptor not found, so won't trim\n",
    "             yield record\n",
    "        elif len_record - index - len_adaptor >= min_len:\n",
    "            #after trimming this will still be long enough\n",
    "            yield record[index+len_adaptor:]\n",
    "\n",
    "original_reads = SeqIO.parse(\"SRR020192.fastq\", \"fastq\")\n",
    "trimmed_reads = trim_adaptors(original_reads, \"GATGACGGTGT\", 100)\n",
    "count = SeqIO.write(trimmed_reads, \"trimmed.fastq\", \"fastq\") \n",
    "print (\"Saved %i reads\" % count)\n"
   ]
  },
  {
   "cell_type": "markdown",
   "metadata": {
    "button": false,
    "deletable": true,
    "new_sheet": false,
    "run_control": {
     "read_only": false
    },
    "slideshow": {
     "slide_type": "slide"
    }
   },
   "source": [
    "## Working with NCBI Entrez"
   ]
  },
  {
   "cell_type": "markdown",
   "metadata": {
    "button": false,
    "deletable": true,
    "new_sheet": false,
    "run_control": {
     "read_only": false
    },
    "slideshow": {
     "slide_type": "slide"
    }
   },
   "source": [
    "### ESearch: Searching the Entrez databases\n",
    "\n",
    "To search any of these databases, we use Bio.Entrez.esearch(). For example, let’s search in PubMed for publications related to Biopython:"
   ]
  },
  {
   "cell_type": "code",
   "execution_count": null,
   "metadata": {
    "button": false,
    "collapsed": false,
    "deletable": true,
    "new_sheet": false,
    "run_control": {
     "read_only": false
    },
    "slideshow": {
     "slide_type": "fragment"
    }
   },
   "outputs": [],
   "source": [
    "from Bio import Entrez\n",
    "Entrez.email = \"richard.squires@nih.gov\"     # Always tell NCBI who you are\n",
    "handle = Entrez.esearch(db=\"pubmed\", term=\"biopython\")\n",
    "record = Entrez.read(handle)\n",
    "record[\"IdList\"]"
   ]
  },
  {
   "cell_type": "code",
   "execution_count": null,
   "metadata": {
    "button": false,
    "collapsed": false,
    "deletable": true,
    "new_sheet": false,
    "run_control": {
     "read_only": false
    },
    "slideshow": {
     "slide_type": "slide"
    }
   },
   "outputs": [],
   "source": [
    "from Bio import Entrez\n",
    "Entrez.email = \"richard.squires@nih.gov\"     # Always tell NCBI who you are\n",
    "handle = Entrez.efetch(db=\"nucleotide\", id=\"186972394\", rettype=\"gb\", retmode=\"text\")\n",
    "print(handle.read())"
   ]
  },
  {
   "cell_type": "markdown",
   "metadata": {
    "button": false,
    "deletable": true,
    "new_sheet": false,
    "run_control": {
     "read_only": false
    },
    "slideshow": {
     "slide_type": "slide"
    }
   },
   "source": [
    "## Biopython BioSQL Interface\n",
    "1. Can use MySQL or Postgres Database\n",
    "\n",
    "2. Must install and setup database software, database\n",
    "\n",
    "3. Must load data into database\n",
    "\n",
    "4. Python scripts in BioSQL folder (within biopython folder)\n"
   ]
  },
  {
   "cell_type": "code",
   "execution_count": null,
   "metadata": {
    "button": false,
    "collapsed": false,
    "deletable": true,
    "new_sheet": false,
    "run_control": {
     "read_only": false
    },
    "slideshow": {
     "slide_type": "slide"
    }
   },
   "outputs": [],
   "source": [
    "from BioSQL import BioSeqDatabase\n",
    "server = BioSeqDatabase.open_database(driver=\"MySQLdb\", user=\"root\", passwd = \"\", host = \"localhost\", db=\"bioseqdb\")\n",
    "db = server[\"orchids\"]\n",
    "for identifier in ['6273291', '6273290', '6273289'] :\n",
    "    seq_record = db.lookup(gi=identifier)\n",
    "    print(seq_record.id, seq_record.description[:50] + \"...\")\n",
    "    print(\"Sequence length %i,\" % len(seq_record.seq))"
   ]
  },
  {
   "cell_type": "markdown",
   "metadata": {
    "button": false,
    "deletable": true,
    "new_sheet": false,
    "run_control": {
     "read_only": false
    },
    "slideshow": {
     "slide_type": "slide"
    }
   },
   "source": [
    "## Additional Resources"
   ]
  },
  {
   "cell_type": "markdown",
   "metadata": {
    "button": false,
    "deletable": true,
    "new_sheet": false,
    "run_control": {
     "read_only": false
    },
    "slideshow": {
     "slide_type": "slide"
    }
   },
   "source": [
    "# EMBOSS\n",
    "1. European Molecular Biology Open Source Suite\n",
    "\n",
    "    A.http://emboss.sourceforge.net\n",
    "\n",
    "2.Command line programs to accomplish many bioinformatics tasks\n",
    "\n",
    "3.Try out (for NIH access) on [Helix](http://helixweb.nih.gov/emboss/)\n",
    "\n",
    "4.Biopython supports through [Bio.EMBOSS](http://Biopython.org/DIST/docs/api/Bio.Emboss-module.html)"
   ]
  },
  {
   "cell_type": "markdown",
   "metadata": {
    "button": false,
    "deletable": true,
    "new_sheet": false,
    "run_control": {
     "read_only": false
    },
    "slideshow": {
     "slide_type": "slide"
    }
   },
   "source": [
    "## Resources: Python Programming\n",
    "\n",
    "1. Websites\n",
    "\n",
    "    A.http://wiki.python.org/moin/BeginnersGuide/NonProgrammers\n",
    "    \n",
    "    B.http://www.pythonforbeginners.com\n",
    "\n",
    "2. Free eBook in HTML / PDF\n",
    "\n",
    "    A.http://greenteapress.com/thinkpython/\n",
    "    \n",
    "    B.http://openbookproject.net/books/bpp4awd/index.html\n",
    "\n",
    "3. Cheatsheets\n",
    "\n",
    "    A. http://www.pythonforbeginners.com/cheatsheet/python-cheat-sheets/\n",
    "\n",
    "4. Python Regular Expressions (pattern matching)\n",
    "\n",
    "    A.http://www.pythonregex.com\n",
    "\n",
    "5. Python Style Guide\n",
    "\n",
    "    A.http://www.python.org/dev/peps/pep-0008/\n"
   ]
  },
  {
   "cell_type": "markdown",
   "metadata": {
    "button": false,
    "deletable": true,
    "new_sheet": false,
    "run_control": {
     "read_only": false
    },
    "slideshow": {
     "slide_type": "slide"
    }
   },
   "source": [
    "## Goals\n",
    "1. Introduce you to the basics of the Biopython package and some of the more popular Biopython modules\n",
    "\n",
    "2. Enable you to find the information you need about Biopython \n",
    "\n",
    "3. Demonstrate how to apply Biopython to next-generation sequences data preparation\n",
    "\n",
    "4. Enable you to write or assemble scripts of your own or modify existing scripts for your own purposes\n",
    "\n",
    "5. Introduce you to EMBOSS software suite and ways to extend python and Biopython utilizing it.\n"
   ]
  },
  {
   "cell_type": "markdown",
   "metadata": {
    "button": false,
    "deletable": true,
    "new_sheet": false,
    "run_control": {
     "read_only": false
    },
    "slideshow": {
     "slide_type": "slide"
    }
   },
   "source": [
    "## Q & A\n",
    "\n",
    "Collaborations welcome\n",
    "\n",
    "ScienceApps@niaid.nih.gov\n"
   ]
  }
 ],
 "metadata": {
  "anaconda-cloud": {},
  "celltoolbar": "Slideshow",
  "kernelspec": {
   "display_name": "Python [Root]",
   "language": "python",
   "name": "Python [Root]"
  },
  "language_info": {
   "codemirror_mode": {
    "name": "ipython",
    "version": 3
   },
   "file_extension": ".py",
   "mimetype": "text/x-python",
   "name": "python",
   "nbconvert_exporter": "python",
   "pygments_lexer": "ipython3",
   "version": "3.5.2"
  }
 },
 "nbformat": 4,
 "nbformat_minor": 0
}
