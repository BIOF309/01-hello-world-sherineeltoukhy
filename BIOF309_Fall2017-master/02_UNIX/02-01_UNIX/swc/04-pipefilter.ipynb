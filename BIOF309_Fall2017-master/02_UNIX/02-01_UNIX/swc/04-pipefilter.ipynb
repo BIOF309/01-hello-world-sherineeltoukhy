{
 "cells": [
  {
   "cell_type": "markdown",
   "metadata": {
    "deletable": true,
    "editable": true
   },
   "source": [
    "---\n",
    "title: \"Pipes and Filters\"\n",
    "teaching: 15\n",
    "exercises: 0\n",
    "questions:\n",
    "- \"How can I combine existing commands to do new things?\"\n",
    "objectives:\n",
    "- \"Redirect a command's output to a file.\"\n",
    "- \"Process a file instead of keyboard input using redirection.\"\n",
    "- \"Construct command pipelines with two or more stages.\"\n",
    "- \"Explain what usually happens if a program or pipeline isn't given any input to process.\"\n",
    "- \"Explain Unix's 'small pieces, loosely joined' philosophy.\"\n",
    "keypoints:\n",
    "- \"`cat` displays the contents of its inputs.\"\n",
    "- \"`head` displays the first few lines of its input.\"\n",
    "- \"`tail` displays the last few lines of its input.\"\n",
    "- \"`sort` sorts its inputs.\"\n",
    "- \"`wc` counts lines, words, and characters in its inputs.\"\n",
    "- \"`*` matches zero or more characters in a filename, so `*.txt` matches all files ending in `.txt`.\"\n",
    "- \"`?` matches any single character in a filename, so `?.txt` matches `a.txt` but not `any.txt`.\"\n",
    "- \"`command > file` redirects a command's output to a file.\"\n",
    "- \"`first | second` is a pipeline: the output of the first command is used as the input to the second.\"\n",
    "- \"The best way to use the shell is to use pipes to combine simple single-purpose programs (filters).\"\n",
    "---\n",
    "\n",
    "Now that we know a few basic commands,\n",
    "we can finally look at the shell's most powerful feature:\n",
    "the ease with which it lets us combine existing programs in new ways.\n",
    "We'll start with a directory called `molecules`\n",
    "that contains six files describing some simple organic molecules.\n",
    "The `.pdb` extension indicates that these files are in Protein Data Bank format,\n",
    "a simple text format that specifies the type and position of each atom in the molecule."
   ]
  },
  {
   "cell_type": "code",
   "execution_count": 3,
   "metadata": {
    "collapsed": false,
    "deletable": true,
    "editable": true
   },
   "outputs": [
    {
     "name": "stdout",
     "output_type": "stream",
     "text": [
      " Volume in drive C is OSDisk\n",
      " Volume Serial Number is B4A0-C61A\n",
      "\n",
      " Directory of C:\\Users\\skarzynskimw\\Documents\\GitHub\\shell-novice\\_episodes\n",
      "\n",
      "03/17/2017  09:05 PM    <DIR>          .\n",
      "03/17/2017  09:05 PM    <DIR>          ..\n",
      "03/16/2017  10:34 PM                 0 .gitkeep\n",
      "03/17/2017  07:49 PM    <DIR>          .ipynb_checkpoints\n",
      "03/11/2017  11:33 PM             8,260 01-intro.ipynb\n",
      "03/16/2017  10:34 PM             6,920 01-intro.md\n",
      "03/17/2017  09:05 PM            71,726 02-filedir.ipynb\n",
      "03/16/2017  10:34 PM            31,649 02-filedir.md\n",
      "03/17/2017  12:48 AM            22,462 02-filedirJup.md\n",
      "03/17/2017  09:00 PM            88,207 03-create.ipynb\n",
      "03/16/2017  10:34 PM            20,707 03-create.md\n",
      "03/11/2017  11:07 PM            36,587 04-pipefilter.ipynb\n",
      "03/16/2017  10:34 PM            24,173 04-pipefilter.md\n",
      "03/11/2017  11:08 PM            27,883 05-find.ipynb\n",
      "03/16/2017  10:34 PM            20,090 05-loop.md\n",
      "03/11/2017  11:08 PM            25,411 06-script.ipynb\n",
      "03/16/2017  10:34 PM            15,919 06-script.md\n",
      "03/16/2017  10:34 PM            16,682 07-find.md\n",
      "03/17/2017  08:17 PM                 8 myname.txt\n",
      "              16 File(s)        416,684 bytes\n",
      "               3 Dir(s)  217,725,980,672 bytes free\n"
     ]
    }
   ],
   "source": [
    "ls"
   ]
  },
  {
   "cell_type": "code",
   "execution_count": 1,
   "metadata": {
    "collapsed": true
   },
   "outputs": [],
   "source": [
    "alias rm rm"
   ]
  },
  {
   "cell_type": "code",
   "execution_count": 6,
   "metadata": {
    "collapsed": false
   },
   "outputs": [
    {
     "data": {
      "application/json": {
       "cell": {
        "!": "OSMagics",
        "HTML": "Other",
        "SVG": "Other",
        "bash": "Other",
        "capture": "ExecutionMagics",
        "cmd": "Other",
        "debug": "ExecutionMagics",
        "file": "Other",
        "html": "DisplayMagics",
        "javascript": "DisplayMagics",
        "js": "DisplayMagics",
        "latex": "DisplayMagics",
        "perl": "Other",
        "prun": "ExecutionMagics",
        "ps": "Other",
        "pypy": "Other",
        "python": "Other",
        "python2": "Other",
        "python3": "Other",
        "ruby": "Other",
        "script": "ScriptMagics",
        "sh": "Other",
        "svg": "DisplayMagics",
        "sx": "OSMagics",
        "system": "OSMagics",
        "time": "ExecutionMagics",
        "timeit": "ExecutionMagics",
        "writefile": "OSMagics"
       },
       "line": {
        "alias": "OSMagics",
        "alias_magic": "BasicMagics",
        "autocall": "AutoMagics",
        "automagic": "AutoMagics",
        "autosave": "KernelMagics",
        "bookmark": "OSMagics",
        "cd": "OSMagics",
        "clear": "KernelMagics",
        "cls": "KernelMagics",
        "colors": "BasicMagics",
        "config": "ConfigMagics",
        "connect_info": "KernelMagics",
        "copy": "Other",
        "ddir": "Other",
        "debug": "ExecutionMagics",
        "dhist": "OSMagics",
        "dirs": "OSMagics",
        "doctest_mode": "BasicMagics",
        "echo": "Other",
        "ed": "Other",
        "edit": "KernelMagics",
        "env": "OSMagics",
        "gui": "BasicMagics",
        "hist": "Other",
        "history": "HistoryMagics",
        "killbgscripts": "ScriptMagics",
        "ldir": "Other",
        "less": "KernelMagics",
        "load": "CodeMagics",
        "load_ext": "ExtensionMagics",
        "loadpy": "CodeMagics",
        "logoff": "LoggingMagics",
        "logon": "LoggingMagics",
        "logstart": "LoggingMagics",
        "logstate": "LoggingMagics",
        "logstop": "LoggingMagics",
        "ls": "Other",
        "lsmagic": "BasicMagics",
        "macro": "ExecutionMagics",
        "magic": "BasicMagics",
        "matplotlib": "PylabMagics",
        "mkdir": "Other",
        "more": "KernelMagics",
        "notebook": "BasicMagics",
        "page": "BasicMagics",
        "pastebin": "CodeMagics",
        "pdb": "ExecutionMagics",
        "pdef": "NamespaceMagics",
        "pdoc": "NamespaceMagics",
        "pfile": "NamespaceMagics",
        "pinfo": "NamespaceMagics",
        "pinfo2": "NamespaceMagics",
        "popd": "OSMagics",
        "pprint": "BasicMagics",
        "precision": "BasicMagics",
        "profile": "BasicMagics",
        "prun": "ExecutionMagics",
        "ps": "Other",
        "psearch": "NamespaceMagics",
        "psource": "NamespaceMagics",
        "pushd": "OSMagics",
        "pwd": "OSMagics",
        "pycat": "OSMagics",
        "pylab": "PylabMagics",
        "qtconsole": "KernelMagics",
        "quickref": "BasicMagics",
        "recall": "HistoryMagics",
        "rehashx": "OSMagics",
        "reload_ext": "ExtensionMagics",
        "ren": "Other",
        "rep": "Other",
        "rerun": "HistoryMagics",
        "reset": "NamespaceMagics",
        "reset_selective": "NamespaceMagics",
        "rm": "Other",
        "rmdir": "Other",
        "run": "ExecutionMagics",
        "save": "CodeMagics",
        "sc": "OSMagics",
        "set_env": "OSMagics",
        "store": "StoreMagics",
        "sx": "OSMagics",
        "system": "OSMagics",
        "tb": "ExecutionMagics",
        "time": "ExecutionMagics",
        "timeit": "ExecutionMagics",
        "unalias": "OSMagics",
        "unload_ext": "ExtensionMagics",
        "who": "NamespaceMagics",
        "who_ls": "NamespaceMagics",
        "whos": "NamespaceMagics",
        "xdel": "NamespaceMagics",
        "xmode": "BasicMagics"
       }
      },
      "text/plain": [
       "Available line magics:\n",
       "%alias  %alias_magic  %autocall  %automagic  %autosave  %bookmark  %cd  %clear  %cls  %colors  %config  %connect_info  %copy  %ddir  %debug  %dhist  %dirs  %doctest_mode  %echo  %ed  %edit  %env  %gui  %hist  %history  %killbgscripts  %ldir  %less  %load  %load_ext  %loadpy  %logoff  %logon  %logstart  %logstate  %logstop  %ls  %lsmagic  %macro  %magic  %matplotlib  %mkdir  %more  %notebook  %page  %pastebin  %pdb  %pdef  %pdoc  %pfile  %pinfo  %pinfo2  %popd  %pprint  %precision  %profile  %prun  %ps  %psearch  %psource  %pushd  %pwd  %pycat  %pylab  %qtconsole  %quickref  %recall  %rehashx  %reload_ext  %ren  %rep  %rerun  %reset  %reset_selective  %rm  %rmdir  %run  %save  %sc  %set_env  %store  %sx  %system  %tb  %time  %timeit  %unalias  %unload_ext  %who  %who_ls  %whos  %xdel  %xmode\n",
       "\n",
       "Available cell magics:\n",
       "%%!  %%HTML  %%SVG  %%bash  %%capture  %%cmd  %%debug  %%file  %%html  %%javascript  %%js  %%latex  %%perl  %%prun  %%ps  %%pypy  %%python  %%python2  %%python3  %%ruby  %%script  %%sh  %%svg  %%sx  %%system  %%time  %%timeit  %%writefile\n",
       "\n",
       "Automagic is ON, % prefix IS NOT needed for line magics."
      ]
     },
     "execution_count": 6,
     "metadata": {},
     "output_type": "execute_result"
    }
   ],
   "source": [
    "lsmagic"
   ]
  },
  {
   "cell_type": "markdown",
   "metadata": {
    "deletable": true,
    "editable": true
   },
   "source": [
    "{: .bash}"
   ]
  },
  {
   "cell_type": "code",
   "execution_count": 4,
   "metadata": {
    "collapsed": true,
    "deletable": true,
    "editable": true
   },
   "outputs": [],
   "source": [
    "rm myname.txt"
   ]
  },
  {
   "cell_type": "code",
   "execution_count": 18,
   "metadata": {
    "collapsed": false
   },
   "outputs": [
    {
     "name": "stdout",
     "output_type": "stream",
     "text": [
      "The following commands were written to file `test.py`:\n",
      "get_ipython().magic('save -a test.py 18')\n"
     ]
    }
   ],
   "source": [
    "%save -a test.py 18"
   ]
  },
  {
   "cell_type": "markdown",
   "metadata": {
    "deletable": true,
    "editable": true
   },
   "source": [
    "{: .output}\n",
    "\n",
    "Let's go into that directory with `cd` and run the command `wc *.pdb`.\n",
    "`wc` is the \"word count\" command:\n",
    "it counts the number of lines, words, and characters in files.\n",
    "The `*` in `*.pdb` matches zero or more characters,\n",
    "so the shell turns `*.pdb` into a list of all `.pdb` files in the current directory:"
   ]
  },
  {
   "cell_type": "code",
   "execution_count": null,
   "metadata": {
    "collapsed": true,
    "deletable": true,
    "editable": true
   },
   "outputs": [],
   "source": [
    "$ cd molecules\n",
    "$ wc *.pdb"
   ]
  },
  {
   "cell_type": "markdown",
   "metadata": {
    "deletable": true,
    "editable": true
   },
   "source": [
    "{: .bash}"
   ]
  },
  {
   "cell_type": "code",
   "execution_count": null,
   "metadata": {
    "collapsed": true,
    "deletable": true,
    "editable": true
   },
   "outputs": [],
   "source": [
    "  20  156 1158 cubane.pdb\n",
    "  12   84  622 ethane.pdb\n",
    "   9   57  422 methane.pdb\n",
    "  30  246 1828 octane.pdb\n",
    "  21  165 1226 pentane.pdb\n",
    "  15  111  825 propane.pdb\n",
    " 107  819 6081 total"
   ]
  },
  {
   "cell_type": "markdown",
   "metadata": {
    "deletable": true,
    "editable": true
   },
   "source": [
    "{: .output}\n",
    "\n",
    "> ## Wildcards\n",
    ">\n",
    "> `*` is a **wildcard**. It matches zero or more\n",
    "> characters, so `*.pdb` matches `ethane.pdb`, `propane.pdb`, and every\n",
    "> file that ends with '.pdb'. On the other hand, `p*.pdb` only matches\n",
    "> `pentane.pdb` and `propane.pdb`, because the 'p' at the front only\n",
    "> matches filenames that begin with the letter 'p'.\n",
    ">\n",
    "> `?` is also a wildcard, but it only matches a single character. This\n",
    "> means that `p?.pdb` would match `pi.pdb` or `p5.pdb` (if we had these two\n",
    "> files in the `molecules` directory), but not `propane.pdb`.\n",
    "> We can use any number of wildcards at a time: for example, `p*.p?*`\n",
    "> matches anything that starts with a 'p' and ends with '.', 'p', and at\n",
    "> least one more character (since the `?` has to match one character, and\n",
    "> the final `*` can match any number of characters). Thus, `p*.p?*` would\n",
    "> match `preferred.practice`, and even `p.pi` (since the first `*` can\n",
    "> match no characters at all), but not `quality.practice` (doesn't start\n",
    "> with 'p') or `preferred.p` (there isn't at least one character after the\n",
    "> '.p').\n",
    ">\n",
    "> When the shell sees a wildcard, it expands the wildcard to create a\n",
    "> list of matching filenames *before* running the command that was\n",
    "> asked for. As an exception, if a wildcard expression does not match\n",
    "> any file, Bash will pass the expression as a parameter to the command\n",
    "> as it is. For example typing `ls *.pdf` in the `molecules` directory\n",
    "> (which contains only files with names ending with `.pdb`) results in\n",
    "> an error message that there is no file called `*.pdf`.\n",
    "> However, generally commands like `wc` and `ls` see the lists of\n",
    "> file names matching these expressions, but not the wildcards\n",
    "> themselves. It is the shell, not the other programs, that deals with\n",
    "> expanding wildcards, and this is another example of orthogonal design.\n",
    "{: .callout}\n",
    "\n",
    "> ## Using Wildcards\n",
    ">\n",
    "> When run in the `molecules` directory, which `ls` command(s) will\n",
    "> produce this output?\n",
    ">\n",
    "> `ethane.pdb   methane.pdb`\n",
    ">\n",
    "> 1. `ls *t*ane.pdb`\n",
    "> 2. `ls *t?ne.*`\n",
    "> 3. `ls *t??ne.pdb`\n",
    "> 4. `ls ethane.*`\n",
    "{: .challenge}\n",
    "\n",
    "If we run `wc -l` instead of just `wc`,\n",
    "the output shows only the number of lines per file:"
   ]
  },
  {
   "cell_type": "code",
   "execution_count": null,
   "metadata": {
    "collapsed": true,
    "deletable": true,
    "editable": true
   },
   "outputs": [],
   "source": [
    "$ wc -l *.pdb"
   ]
  },
  {
   "cell_type": "markdown",
   "metadata": {
    "deletable": true,
    "editable": true
   },
   "source": [
    "{: .bash}"
   ]
  },
  {
   "cell_type": "code",
   "execution_count": null,
   "metadata": {
    "collapsed": true,
    "deletable": true,
    "editable": true
   },
   "outputs": [],
   "source": [
    "  20  cubane.pdb\n",
    "  12  ethane.pdb\n",
    "   9  methane.pdb\n",
    "  30  octane.pdb\n",
    "  21  pentane.pdb\n",
    "  15  propane.pdb\n",
    " 107  total"
   ]
  },
  {
   "cell_type": "markdown",
   "metadata": {
    "deletable": true,
    "editable": true
   },
   "source": [
    "{: .output}\n",
    "\n",
    "We can also use `-w` to get only the number of words,\n",
    "or `-c` to get only the number of characters.\n",
    "\n",
    "Which of these files is shortest?\n",
    "It's an easy question to answer when there are only six files,\n",
    "but what if there were 6000?\n",
    "Our first step toward a solution is to run the command:"
   ]
  },
  {
   "cell_type": "code",
   "execution_count": null,
   "metadata": {
    "collapsed": true,
    "deletable": true,
    "editable": true
   },
   "outputs": [],
   "source": [
    "$ wc -l *.pdb > lengths.txt"
   ]
  },
  {
   "cell_type": "markdown",
   "metadata": {
    "deletable": true,
    "editable": true
   },
   "source": [
    "{: .bash}\n",
    "\n",
    "The greater than symbol, `>`, tells the shell to **redirect** the command's output\n",
    "to a file instead of printing it to the screen. (This is why there is no screen output:\n",
    "everything that `wc` would have printed has gone into the\n",
    "file `lengths.txt` instead.)  The shell will create\n",
    "the file if it doesn't exist. If the file exists, it will be\n",
    "silently overwritten, which may lead to data loss and thus requires\n",
    "some caution.\n",
    "`ls lengths.txt` confirms that the file exists:"
   ]
  },
  {
   "cell_type": "code",
   "execution_count": null,
   "metadata": {
    "collapsed": true,
    "deletable": true,
    "editable": true
   },
   "outputs": [],
   "source": [
    "$ ls lengths.txt"
   ]
  },
  {
   "cell_type": "markdown",
   "metadata": {
    "deletable": true,
    "editable": true
   },
   "source": [
    "{: .bash}"
   ]
  },
  {
   "cell_type": "code",
   "execution_count": null,
   "metadata": {
    "collapsed": true,
    "deletable": true,
    "editable": true
   },
   "outputs": [],
   "source": [
    "lengths.txt"
   ]
  },
  {
   "cell_type": "markdown",
   "metadata": {
    "deletable": true,
    "editable": true
   },
   "source": [
    "{: .output}\n",
    "\n",
    "We can now send the content of `lengths.txt` to the screen using `cat lengths.txt`.\n",
    "`cat` stands for \"concatenate\":\n",
    "it prints the contents of files one after another.\n",
    "There's only one file in this case,\n",
    "so `cat` just shows us what it contains:"
   ]
  },
  {
   "cell_type": "code",
   "execution_count": null,
   "metadata": {
    "collapsed": true,
    "deletable": true,
    "editable": true
   },
   "outputs": [],
   "source": [
    "$ cat lengths.txt"
   ]
  },
  {
   "cell_type": "markdown",
   "metadata": {
    "deletable": true,
    "editable": true
   },
   "source": [
    "{: .bash}"
   ]
  },
  {
   "cell_type": "code",
   "execution_count": null,
   "metadata": {
    "collapsed": true,
    "deletable": true,
    "editable": true
   },
   "outputs": [],
   "source": [
    "  20  cubane.pdb\n",
    "  12  ethane.pdb\n",
    "   9  methane.pdb\n",
    "  30  octane.pdb\n",
    "  21  pentane.pdb\n",
    "  15  propane.pdb\n",
    " 107  total"
   ]
  },
  {
   "cell_type": "markdown",
   "metadata": {
    "deletable": true,
    "editable": true
   },
   "source": [
    "{: .output}\n",
    "\n",
    "> ## Output Page by Page\n",
    ">\n",
    "> We'll continue to use `cat` in this lesson, for convenience and consistency,\n",
    "> but it has the disadvantage that it always dumps the whole file onto your screen.\n",
    "> More useful in practice is the command `less`,\n",
    "> which you use with `$ less lengths.txt`.\n",
    "> This displays a screenful of the file, and then stops.\n",
    "> You can go forward one screenful by pressing the spacebar,\n",
    "> or back one by pressing `b`.  Press `q` to quit.\n",
    "{: .callout}\n",
    "\n",
    "Now let's use the `sort` command to sort its contents.\n",
    "We will also use the `-n` flag to specify that the sort is\n",
    "numerical instead of alphabetical.\n",
    "This does *not* change the file;\n",
    "instead, it sends the sorted result to the screen:"
   ]
  },
  {
   "cell_type": "code",
   "execution_count": null,
   "metadata": {
    "collapsed": true,
    "deletable": true,
    "editable": true
   },
   "outputs": [],
   "source": [
    "$ sort -n lengths.txt"
   ]
  },
  {
   "cell_type": "markdown",
   "metadata": {
    "deletable": true,
    "editable": true
   },
   "source": [
    "{: .bash}"
   ]
  },
  {
   "cell_type": "code",
   "execution_count": null,
   "metadata": {
    "collapsed": true,
    "deletable": true,
    "editable": true
   },
   "outputs": [],
   "source": [
    "  9  methane.pdb\n",
    " 12  ethane.pdb\n",
    " 15  propane.pdb\n",
    " 20  cubane.pdb\n",
    " 21  pentane.pdb\n",
    " 30  octane.pdb\n",
    "107  total"
   ]
  },
  {
   "cell_type": "markdown",
   "metadata": {
    "deletable": true,
    "editable": true
   },
   "source": [
    "{: .output}\n",
    "\n",
    "We can put the sorted list of lines in another temporary file called `sorted-lengths.txt`\n",
    "by putting `> sorted-lengths.txt` after the command,\n",
    "just as we used `> lengths.txt` to put the output of `wc` into `lengths.txt`.\n",
    "Once we've done that,\n",
    "we can run another command called `head` to get the first few lines in `sorted-lengths.txt`:"
   ]
  },
  {
   "cell_type": "code",
   "execution_count": null,
   "metadata": {
    "collapsed": true,
    "deletable": true,
    "editable": true
   },
   "outputs": [],
   "source": [
    "$ sort -n lengths.txt > sorted-lengths.txt\n",
    "$ head -n 1 sorted-lengths.txt"
   ]
  },
  {
   "cell_type": "markdown",
   "metadata": {
    "deletable": true,
    "editable": true
   },
   "source": [
    "{: .bash}"
   ]
  },
  {
   "cell_type": "code",
   "execution_count": null,
   "metadata": {
    "collapsed": true,
    "deletable": true,
    "editable": true
   },
   "outputs": [],
   "source": [
    "  9  methane.pdb"
   ]
  },
  {
   "cell_type": "markdown",
   "metadata": {
    "deletable": true,
    "editable": true
   },
   "source": [
    "{: .output}\n",
    "\n",
    "Using the parameter `-n 1` with `head` tells it that\n",
    "we only want the first line of the file;\n",
    "`-n 20` would get the first 20,\n",
    "and so on.\n",
    "Since `sorted-lengths.txt` contains the lengths of our files ordered from least to greatest,\n",
    "the output of `head` must be the file with the fewest lines.\n",
    "\n",
    "> ## Redirecting to the same file\n",
    ">\n",
    "> It's a very bad idea to try redirecting\n",
    "> the output of a command that operates on a file\n",
    "> to the same file. For example:\n",
    ">\n",
    "> ~~~\n",
    "> $ sort -n lengths.txt > lengths.txt\n",
    "> ~~~\n",
    "> {: .bash}\n",
    ">\n",
    "> Doing something like this may give you\n",
    "> incorrect results and/or delete\n",
    "> the contents of `lengths.txt`.\n",
    "{: .callout}\n",
    "\n",
    "If you think this is confusing,\n",
    "you're in good company:\n",
    "even once you understand what `wc`, `sort`, and `head` do,\n",
    "all those intermediate files make it hard to follow what's going on.\n",
    "We can make it easier to understand by running `sort` and `head` together:"
   ]
  },
  {
   "cell_type": "code",
   "execution_count": null,
   "metadata": {
    "collapsed": true,
    "deletable": true,
    "editable": true
   },
   "outputs": [],
   "source": [
    "$ sort -n lengths.txt | head -n 1"
   ]
  },
  {
   "cell_type": "markdown",
   "metadata": {
    "deletable": true,
    "editable": true
   },
   "source": [
    "{: .bash}"
   ]
  },
  {
   "cell_type": "code",
   "execution_count": null,
   "metadata": {
    "collapsed": true,
    "deletable": true,
    "editable": true
   },
   "outputs": [],
   "source": [
    "  9  methane.pdb"
   ]
  },
  {
   "cell_type": "markdown",
   "metadata": {
    "deletable": true,
    "editable": true
   },
   "source": [
    "{: .output}\n",
    "\n",
    "The vertical bar, `|`, between the two commands is called a **pipe**.\n",
    "It tells the shell that we want to use\n",
    "the output of the command on the left\n",
    "as the input to the command on the right.\n",
    "The computer might create a temporary file if it needs to,\n",
    "or copy data from one program to the other in memory,\n",
    "or something else entirely;\n",
    "we don't have to know or care.\n",
    "\n",
    "Nothing prevents us from chaining pipes consecutively.\n",
    "That is, we can for example send the output of `wc` directly to `sort`,\n",
    "and then the resulting output to `head`.\n",
    "Thus we first use a pipe to send the output of `wc` to `sort`:"
   ]
  },
  {
   "cell_type": "code",
   "execution_count": null,
   "metadata": {
    "collapsed": true,
    "deletable": true,
    "editable": true
   },
   "outputs": [],
   "source": [
    "$ wc -l *.pdb | sort -n"
   ]
  },
  {
   "cell_type": "markdown",
   "metadata": {
    "deletable": true,
    "editable": true
   },
   "source": [
    "{: .bash}"
   ]
  },
  {
   "cell_type": "code",
   "execution_count": null,
   "metadata": {
    "collapsed": true,
    "deletable": true,
    "editable": true
   },
   "outputs": [],
   "source": [
    "   9 methane.pdb\n",
    "  12 ethane.pdb\n",
    "  15 propane.pdb\n",
    "  20 cubane.pdb\n",
    "  21 pentane.pdb\n",
    "  30 octane.pdb\n",
    " 107 total"
   ]
  },
  {
   "cell_type": "markdown",
   "metadata": {
    "deletable": true,
    "editable": true
   },
   "source": [
    "{: .output}\n",
    "\n",
    "And now we send the output of this pipe, through another pipe, to `head`, so that the full pipeline becomes:"
   ]
  },
  {
   "cell_type": "code",
   "execution_count": null,
   "metadata": {
    "collapsed": true,
    "deletable": true,
    "editable": true
   },
   "outputs": [],
   "source": [
    "$ wc -l *.pdb | sort -n | head -n 1"
   ]
  },
  {
   "cell_type": "markdown",
   "metadata": {
    "deletable": true,
    "editable": true
   },
   "source": [
    "{: .bash}"
   ]
  },
  {
   "cell_type": "code",
   "execution_count": null,
   "metadata": {
    "collapsed": true,
    "deletable": true,
    "editable": true
   },
   "outputs": [],
   "source": [
    "   9  methane.pdb"
   ]
  },
  {
   "cell_type": "markdown",
   "metadata": {
    "deletable": true,
    "editable": true
   },
   "source": [
    "{: .output}\n",
    "\n",
    "This is exactly like a mathematician nesting functions like *log(3x)*\n",
    "and saying \"the log of three times *x*\".\n",
    "In our case,\n",
    "the calculation is \"head of sort of line count of `*.pdb`\".\n",
    "\n",
    "Here's what actually happens behind the scenes when we create a pipe.\n",
    "When a computer runs a program --- any program --- it creates a **process**\n",
    "in memory to hold the program's software and its current state.\n",
    "Every process has an input channel called **standard input**.\n",
    "(By this point, you may be surprised that the name is so memorable, but don't worry:\n",
    "most Unix programmers call it \"stdin\").\n",
    "Every process also has a default output channel called **standard output**\n",
    "(or \"stdout\"). A third output channel called **standard error** (stderr) also \n",
    "exists. This channel is typically used for error or diagnostic messages, and it\n",
    "allows a user to pipe the output of one program into another while still receiving \n",
    "error messages in the terminal. \n",
    "\n",
    "The shell is actually just another program.\n",
    "Under normal circumstances,\n",
    "whatever we type on the keyboard is sent to the shell on its standard input,\n",
    "and whatever it produces on standard output is displayed on our screen.\n",
    "When we tell the shell to run a program,\n",
    "it creates a new process\n",
    "and temporarily sends whatever we type on our keyboard to that process's standard input,\n",
    "and whatever the process sends to standard output to the screen.\n",
    "\n",
    "Here's what happens when we run `wc -l *.pdb > lengths.txt`.\n",
    "The shell starts by telling the computer to create a new process to run the `wc` program.\n",
    "Since we've provided some filenames as parameters,\n",
    "`wc` reads from them instead of from standard input.\n",
    "And since we've used `>` to redirect output to a file,\n",
    "the shell connects the process's standard output to that file.\n",
    "\n",
    "If we run `wc -l *.pdb | sort -n` instead,\n",
    "the shell creates two processes\n",
    "(one for each process in the pipe)\n",
    "so that `wc` and `sort` run simultaneously.\n",
    "The standard output of `wc` is fed directly to the standard input of `sort`;\n",
    "since there's no redirection with `>`,\n",
    "`sort`'s output goes to the screen.\n",
    "And if we run `wc -l *.pdb | sort -n | head -n 1`,\n",
    "we get three processes with data flowing from the files,\n",
    "through `wc` to `sort`,\n",
    "and from `sort` through `head` to the screen.\n",
    "\n",
    "![Redirects and Pipes](../fig/redirects-and-pipes.png)\n",
    "\n",
    "This simple idea is why Unix has been so successful.\n",
    "Instead of creating enormous programs that try to do many different things,\n",
    "Unix programmers focus on creating lots of simple tools that each do one job well,\n",
    "and that work well with each other.\n",
    "This programming model is called \"pipes and filters\".\n",
    "We've already seen pipes;\n",
    "a **filter** is a program like `wc` or `sort`\n",
    "that transforms a stream of input into a stream of output.\n",
    "Almost all of the standard Unix tools can work this way:\n",
    "unless told to do otherwise,\n",
    "they read from standard input,\n",
    "do something with what they've read,\n",
    "and write to standard output.\n",
    "\n",
    "The key is that any program that reads lines of text from standard input\n",
    "and writes lines of text to standard output\n",
    "can be combined with every other program that behaves this way as well.\n",
    "You can *and should* write your programs this way\n",
    "so that you and other people can put those programs into pipes to multiply their power.\n",
    "\n",
    "> ## Redirecting Input\n",
    ">\n",
    "> As well as using `>` to redirect a program's output, we can use `<` to\n",
    "> redirect its input, i.e., to read from a file instead of from standard\n",
    "> input. For example, instead of writing `wc ammonia.pdb`, we could write\n",
    "> `wc < ammonia.pdb`. In the first case, `wc` gets a command line\n",
    "> parameter telling it what file to open. In the second, `wc` doesn't have\n",
    "> any command line parameters, so it reads from standard input, but we\n",
    "> have told the shell to send the contents of `ammonia.pdb` to `wc`'s\n",
    "> standard input.\n",
    "{: .callout}\n",
    "\n",
    "## Nelle's Pipeline: Checking Files\n",
    "\n",
    "Nelle has run her samples through the assay machines\n",
    "and created 1520 files in the `north-pacific-gyre/2012-07-03` directory described earlier.\n",
    "As a quick sanity check, starting from her home directory, Nelle types:"
   ]
  },
  {
   "cell_type": "code",
   "execution_count": null,
   "metadata": {
    "collapsed": true,
    "deletable": true,
    "editable": true
   },
   "outputs": [],
   "source": [
    "$ cd north-pacific-gyre/2012-07-03\n",
    "$ wc -l *.txt"
   ]
  },
  {
   "cell_type": "markdown",
   "metadata": {
    "deletable": true,
    "editable": true
   },
   "source": [
    "{: .bash}\n",
    "\n",
    "The output is 1520 lines that look like this:"
   ]
  },
  {
   "cell_type": "code",
   "execution_count": null,
   "metadata": {
    "collapsed": true,
    "deletable": true,
    "editable": true
   },
   "outputs": [],
   "source": [
    "300 NENE01729A.txt\n",
    "300 NENE01729B.txt\n",
    "300 NENE01736A.txt\n",
    "300 NENE01751A.txt\n",
    "300 NENE01751B.txt\n",
    "300 NENE01812A.txt\n",
    "... ..."
   ]
  },
  {
   "cell_type": "markdown",
   "metadata": {
    "deletable": true,
    "editable": true
   },
   "source": [
    "{: .output}\n",
    "\n",
    "Now she types this:"
   ]
  },
  {
   "cell_type": "code",
   "execution_count": null,
   "metadata": {
    "collapsed": true,
    "deletable": true,
    "editable": true
   },
   "outputs": [],
   "source": [
    "$ wc -l *.txt | sort -n | head -n 5"
   ]
  },
  {
   "cell_type": "markdown",
   "metadata": {
    "deletable": true,
    "editable": true
   },
   "source": [
    "{: .bash}"
   ]
  },
  {
   "cell_type": "code",
   "execution_count": null,
   "metadata": {
    "collapsed": true,
    "deletable": true,
    "editable": true
   },
   "outputs": [],
   "source": [
    " 240 NENE02018B.txt\n",
    " 300 NENE01729A.txt\n",
    " 300 NENE01729B.txt\n",
    " 300 NENE01736A.txt\n",
    " 300 NENE01751A.txt"
   ]
  },
  {
   "cell_type": "markdown",
   "metadata": {
    "deletable": true,
    "editable": true
   },
   "source": [
    "{: .output}\n",
    "\n",
    "Whoops: one of the files is 60 lines shorter than the others.\n",
    "When she goes back and checks it,\n",
    "she sees that she did that assay at 8:00 on a Monday morning --- someone\n",
    "was probably in using the machine on the weekend,\n",
    "and she forgot to reset it.\n",
    "Before re-running that sample,\n",
    "she checks to see if any files have too much data:"
   ]
  },
  {
   "cell_type": "code",
   "execution_count": null,
   "metadata": {
    "collapsed": true,
    "deletable": true,
    "editable": true
   },
   "outputs": [],
   "source": [
    "$ wc -l *.txt | sort -n | tail -n 5"
   ]
  },
  {
   "cell_type": "markdown",
   "metadata": {
    "deletable": true,
    "editable": true
   },
   "source": [
    "{: .bash}"
   ]
  },
  {
   "cell_type": "code",
   "execution_count": null,
   "metadata": {
    "collapsed": true,
    "deletable": true,
    "editable": true
   },
   "outputs": [],
   "source": [
    " 300 NENE02040B.txt\n",
    " 300 NENE02040Z.txt\n",
    " 300 NENE02043A.txt\n",
    " 300 NENE02043B.txt\n",
    "5040 total"
   ]
  },
  {
   "cell_type": "markdown",
   "metadata": {
    "deletable": true,
    "editable": true
   },
   "source": [
    "{: .output}\n",
    "\n",
    "Those numbers look good --- but what's that 'Z' doing there in the third-to-last line?\n",
    "All of her samples should be marked 'A' or 'B';\n",
    "by convention,\n",
    "her lab uses 'Z' to indicate samples with missing information.\n",
    "To find others like it, she does this:"
   ]
  },
  {
   "cell_type": "code",
   "execution_count": null,
   "metadata": {
    "collapsed": true,
    "deletable": true,
    "editable": true
   },
   "outputs": [],
   "source": [
    "$ ls *Z.txt"
   ]
  },
  {
   "cell_type": "markdown",
   "metadata": {
    "deletable": true,
    "editable": true
   },
   "source": [
    "{: .bash}"
   ]
  },
  {
   "cell_type": "code",
   "execution_count": null,
   "metadata": {
    "collapsed": true,
    "deletable": true,
    "editable": true
   },
   "outputs": [],
   "source": [
    "NENE01971Z.txt    NENE02040Z.txt"
   ]
  },
  {
   "cell_type": "markdown",
   "metadata": {
    "deletable": true,
    "editable": true
   },
   "source": [
    "{: .output}\n",
    "\n",
    "Sure enough,\n",
    "when she checks the log on her laptop,\n",
    "there's no depth recorded for either of those samples.\n",
    "Since it's too late to get the information any other way,\n",
    "she must exclude those two files from her analysis.\n",
    "She could just delete them using `rm`,\n",
    "but there are actually some analyses she might do later where depth doesn't matter,\n",
    "so instead, she'll just be careful later on to select files using the wildcard expression `*[AB].txt`.\n",
    "As always,\n",
    "the `*` matches any number of characters;\n",
    "the expression `[AB]` matches either an 'A' or a 'B',\n",
    "so this matches all the valid data files she has.\n",
    "\n",
    "> ## What Does `sort -n` Do?\n",
    ">\n",
    "> If we run `sort` on this file:\n",
    ">\n",
    "> ~~~\n",
    "> 10\n",
    "> 2\n",
    "> 19\n",
    "> 22\n",
    "> 6\n",
    "> ~~~\n",
    "> {: .source}\n",
    ">\n",
    "> the output is:\n",
    ">\n",
    "> ~~~\n",
    "> 10\n",
    "> 19\n",
    "> 2\n",
    "> 22\n",
    "> 6\n",
    "> ~~~\n",
    "> {: .output}\n",
    ">\n",
    "> If we run `sort -n` on the same input, we get this instead:\n",
    ">\n",
    "> ~~~\n",
    "> 2\n",
    "> 6\n",
    "> 10\n",
    "> 19\n",
    "> 22\n",
    "> ~~~\n",
    "> {: .output}\n",
    ">\n",
    "> Explain why `-n` has this effect.\n",
    ">\n",
    "> > ## Solution\n",
    "> > The `-n` flag specifies a numeric sort, rather than alphabetical.\n",
    "> {: .solution}\n",
    "{: .challenge}\n",
    "\n",
    "> ## What Does `<` Mean?\n",
    ">\n",
    "> Change directory to `data-shell` (the top level of our downloaded example data).\n",
    ">\n",
    "> What is the difference between:\n",
    ">\n",
    "> ~~~\n",
    "> $ wc -l notes.txt\n",
    "> ~~~\n",
    "> {: .bash}\n",
    ">\n",
    "> and:\n",
    ">\n",
    "> ~~~\n",
    "> $ wc -l < notes.txt\n",
    "> ~~~\n",
    "> {: .bash}\n",
    ">\n",
    "> > ## Solution\n",
    "> > `<` is used to redirect input to a command. \n",
    "> >\n",
    "> > In both examples, the shell returns the number of lines from the input to\n",
    "> > the `wc` command.\n",
    "> > In the first example, the input is a the file `notes.txt` and the file name is\n",
    "> > given in the output from the `wc` command.\n",
    "> > In the second example, the contents of the file `notes.txt` are redirected to\n",
    "> > standard input.\n",
    "> > It is as if we have entered the contents of the file by typing at the prompt.\n",
    "> > Hence the file name is not given in the output - just the number of lines.\n",
    "> > Try this for yourself:\n",
    "> >\n",
    "> > ```\n",
    "> > $ wc -l\n",
    "> > this\n",
    "> > is\n",
    "> > a test\n",
    "> > Ctrl-D # This lets the shell know you have finished typing the input\n",
    "> > ```\n",
    "> > {: .bash}\n",
    "> >\n",
    "> > ```\n",
    "> > 3\n",
    "> > ```\n",
    "> > {: .output}\n",
    "> {: .solution}\n",
    "{: .challenge}\n",
    "\n",
    "> ## What Does `>>` Mean?\n",
    ">\n",
    "> What is the difference between:\n",
    ">\n",
    "> ~~~\n",
    "> $ echo hello > testfile01.txt\n",
    "> ~~~\n",
    "> {: .bash}\n",
    ">\n",
    "> and:\n",
    ">\n",
    "> ~~~\n",
    "> $ echo hello >> testfile02.txt\n",
    "> ~~~\n",
    "> {: .bash}\n",
    ">\n",
    "> Hint: Try executing each command twice in a row and then examining the output files.\n",
    "{: .challenge}\n",
    "\n",
    "> ## More on Wildcards\n",
    ">\n",
    "> Sam has a directory containing calibration data, datasets, and descriptions of\n",
    "> the datasets:\n",
    ">\n",
    "> ~~~\n",
    "> 2015-10-23-calibration.txt\n",
    "> 2015-10-23-dataset1.txt\n",
    "> 2015-10-23-dataset2.txt\n",
    "> 2015-10-23-dataset_overview.txt\n",
    "> 2015-10-26-calibration.txt\n",
    "> 2015-10-26-dataset1.txt\n",
    "> 2015-10-26-dataset2.txt\n",
    "> 2015-10-26-dataset_overview.txt\n",
    "> 2015-11-23-calibration.txt\n",
    "> 2015-11-23-dataset1.txt\n",
    "> 2015-11-23-dataset2.txt\n",
    "> 2015-11-23-dataset_overview.txt\n",
    "> ~~~\n",
    "> {: .bash}\n",
    ">\n",
    "> Before heading off to another field trip, she wants to back up her data and\n",
    "> send some datasets to her colleague Bob. Sam uses the following commands\n",
    "> to get the job done:\n",
    ">\n",
    "> ~~~\n",
    "> $ cp *dataset* /backup/datasets\n",
    "> $ cp ____calibration____ /backup/calibration\n",
    "> $ cp 2015-____-____ ~/send_to_bob/all_november_files/\n",
    "> $ cp ____ ~/send_to_bob/all_datasets_created_on_a_23rd/\n",
    "> ~~~\n",
    "> {: .bash}\n",
    ">\n",
    "> Help Sam by filling in the blanks.\n",
    ">\n",
    "> > ## Solution\n",
    "> > ```\n",
    "> > $ cp *calibration.txt /backup/calibration\n",
    "> > $ cp 2015-11-* ~/send_to_bob/all_november_files/\n",
    "> > $ cp *-23-dataset* ~send_to_bob/all_datasets_created_on_a_23rd/\n",
    "> > ```\n",
    "> > {: .bash}\n",
    "> {: .solution}\n",
    "{: .challenge}\n",
    "\n",
    "> ## Piping Commands Together\n",
    ">\n",
    "> In our current directory, we want to find the 3 files which have the least number of\n",
    "> lines. Which command listed below would work?\n",
    ">\n",
    "> 1. `wc -l * > sort -n > head -n 3`\n",
    "> 2. `wc -l * | sort -n | head -n 1-3`\n",
    "> 3. `wc -l * | head -n 3 | sort -n`\n",
    "> 4. `wc -l * | sort -n | head -n 3`\n",
    ">\n",
    "> > ## Solution\n",
    "> > Option 4 is the solution.\n",
    "> > The pipe character `|` is used to feed the standard output from one process to\n",
    "> > the standard input of another.\n",
    "> > `>` is used to redirect standard output to a file.\n",
    "> > Try it in the `data-shell/molecules` directory!\n",
    "> {: .solution}\n",
    "{: .challenge}\n",
    "\n",
    "> ## Why Does `uniq` Only Remove Adjacent Duplicates?\n",
    ">\n",
    "> The command `uniq` removes adjacent duplicated lines from its input.\n",
    "> For example, the file `data-shell/data/salmon.txt` contains:\n",
    ">\n",
    "> ~~~\n",
    "> coho\n",
    "> coho\n",
    "> steelhead\n",
    "> coho\n",
    "> steelhead\n",
    "> steelhead\n",
    "> ~~~\n",
    "> {: .source}\n",
    ">\n",
    "> Running the command `uniq salmon.txt` from the `data-shell/data` directory produces:\n",
    ">\n",
    "> ~~~\n",
    "> coho\n",
    "> steelhead\n",
    "> coho\n",
    "> steelhead\n",
    "> ~~~\n",
    "> {: .output}\n",
    ">\n",
    "> Why do you think `uniq` only removes *adjacent* duplicated lines?\n",
    "> (Hint: think about very large data sets.) What other command could\n",
    "> you combine with it in a pipe to remove all duplicated lines?\n",
    ">\n",
    "> > ## Solution\n",
    "> > ```\n",
    "> > $ sort salmon.txt | uniq\n",
    "> > ```\n",
    "> > {: .bash}\n",
    "> {: .solution}\n",
    "{: .challenge}\n",
    "\n",
    "> ## Pipe Reading Comprehension\n",
    ">\n",
    "> A file called `animals.txt` (in the `data-shell/data` folder) contains the following data:\n",
    ">\n",
    "> ~~~\n",
    "> 2012-11-05,deer\n",
    "> 2012-11-05,rabbit\n",
    "> 2012-11-05,raccoon\n",
    "> 2012-11-06,rabbit\n",
    "> 2012-11-06,deer\n",
    "> 2012-11-06,fox\n",
    "> 2012-11-07,rabbit\n",
    "> 2012-11-07,bear\n",
    "> ~~~\n",
    "> {: .source}\n",
    ">\n",
    "> What text passes through each of the pipes and the final redirect in the pipeline below?\n",
    ">\n",
    "> ~~~\n",
    "> $ cat animals.txt | head -n 5 | tail -n 3 | sort -r > final.txt\n",
    "> ~~~\n",
    "> {: .bash}\n",
    "> Hint: build the pipeline up one command at a time to test your understanding\n",
    "{: .challenge}\n",
    "\n",
    "> ## Pipe Construction\n",
    ">\n",
    "> For the file `animals.txt` from the previous exercise, the command:\n",
    ">\n",
    "> ~~~\n",
    "> $ cut -d , -f 2 animals.txt\n",
    "> ~~~\n",
    "> {: .bash}\n",
    ">\n",
    "> produces the following output:\n",
    ">\n",
    "> ~~~\n",
    "> deer\n",
    "> rabbit\n",
    "> raccoon\n",
    "> rabbit\n",
    "> deer\n",
    "> fox\n",
    "> rabbit\n",
    "> bear\n",
    "> ~~~\n",
    "> {: .output}\n",
    ">\n",
    "> What other command(s) could be added to this in a pipeline to find\n",
    "> out what animals the file contains (without any duplicates in their\n",
    "> names)?\n",
    ">\n",
    "> > ## Solution\n",
    "> > ```\n",
    "> > $ cut -d , -f 2 animals.txt | sort | uniq\n",
    "> > ```\n",
    "> > {: .bash}\n",
    "> {: .solution}\n",
    "{: .challenge}\n",
    "\n",
    "> ## Removing Unneeded Files\n",
    ">\n",
    "> Suppose you want to delete your processed data files, and only keep\n",
    "> your raw files and processing script to save storage.\n",
    "> The raw files end in `.dat` and the processed files end in `.txt`.\n",
    "> Which of the following would remove all the processed data files,\n",
    "> and *only* the processed data files?\n",
    ">\n",
    "> 1. `rm ?.txt`\n",
    "> 2. `rm *.txt`\n",
    "> 3. `rm * .txt`\n",
    "> 4. `rm *.*`\n",
    ">\n",
    "> > ## Solution\n",
    "> > 1. This would remove `.txt` files with one-character names\n",
    "> > 2. This is correct answer\n",
    "> > 3. The shell would expand `*` to match everything in the current directory,\n",
    "> > so the command would try to remove all matched files and an additional\n",
    "> > file called `.txt`\n",
    "> > 4. The shell would expand `*.*` to match all files with any extension,\n",
    "> > so this command would delete all files\n",
    "> {: .solution}\n",
    "{: .challenge}\n",
    "\n",
    "> ## Wildcard Expressions\n",
    ">\n",
    "> Wildcard expressions can be very complex, but you can sometimes write\n",
    "> them in ways that only use simple syntax, at the expense of being a bit\n",
    "> more verbose.  \n",
    "> Consider the directory `data-shell/north-pacific-gyre/2012-07-03` :\n",
    "> the wildcard expression `*[AB].txt`\n",
    "> matches all files ending in `A.txt` or `B.txt`. Imagine you forgot about\n",
    "> this.\n",
    ">\n",
    "> 1.  Can you match the same set of files with basic wildcard expressions\n",
    ">     that do not use the `[]` syntax? *Hint*: You may need more than one\n",
    ">     expression.\n",
    ">\n",
    "> 2.  The expression that you found and the expression from the lesson match the\n",
    ">     same set of files in this example. What is the small difference between the\n",
    ">     outputs?\n",
    ">\n",
    "> 3.  Under what circumstances would your new expression produce an error message\n",
    ">     where the original one would not?\n",
    ">\n",
    "> > ## Solution\n",
    "> > 1. \n",
    "> >\n",
    "> > ```\n",
    "> > $ ls *A.txt\n",
    "> > $ ls *B.txt\n",
    "> > ```\n",
    "> > {: .bash}\n",
    "> > 2. The output from the new commands is separated because there are two commands.\n",
    "> > 3. When there are no files ending in `A.txt`, or there are no files ending in\n",
    "> > `B.txt`.\n",
    "> {: .solution}\n",
    "{: .challenge}\n",
    "\n",
    "> ## Which Pipe?\n",
    ">\n",
    "> The file `data-shell/data/animals.txt` contains 586 lines of data formatted as follows:\n",
    ">\n",
    "> ~~~\n",
    "> 2012-11-05,deer\n",
    "> 2012-11-05,rabbit\n",
    "> 2012-11-05,raccoon\n",
    "> 2012-11-06,rabbit\n",
    "> ...\n",
    "> ~~~\n",
    "> {: .output}\n",
    ">\n",
    "> Assuming your current directory is `data-shell/data/`,\n",
    "> what command would you use to produce a table that shows\n",
    "> the total count of each type of animal in the file?\n",
    ">\n",
    "> 1.  `grep {deer, rabbit, raccoon, deer, fox, bear} animals.txt | wc -l`\n",
    "> 2.  `sort animals.txt | uniq -c`\n",
    "> 3.  `sort -t, -k2,2 animals.txt | uniq -c`\n",
    "> 4.  `cut -d, -f 2 animals.txt | uniq -c`\n",
    "> 5.  `cut -d, -f 2 animals.txt | sort | uniq -c`\n",
    "> 6.  `cut -d, -f 2 animals.txt | sort | uniq -c | wc -l`\n",
    ">\n",
    "> > ## Solution\n",
    "> > 5. is the correct answer.\n",
    "> > If you have difficulty understanding why, try running the commands, or sub-sections of\n",
    "> > the pipelines (make sure you are in the `data-shell/data` directory).\n",
    "> {: .solution}\n",
    "{: .challenge}\n",
    "\n",
    "> ## Appending Data\n",
    ">\n",
    "> Consider the file `animals.txt`, used in previous exercise.\n",
    "> After these commands, select the answer that\n",
    "> corresponds to the file `animalsUpd.txt`:\n",
    ">\n",
    "> ~~~\n",
    "> $ head -3 animals.txt > animalsUpd.txt\n",
    "> $ tail -2 animals.txt >> animalsUpd.txt\n",
    "> ~~~\n",
    "> {: .bash}\n",
    ">\n",
    "> 1. The first three lines of `animals.txt`\n",
    "> 2. The last two lines of `animals.txt`\n",
    "> 3. The first three lines and the last two lines of `animals.txt`\n",
    "> 4. The second and third lines of `animals.txt`\n",
    ">\n",
    "> > ## Solution\n",
    "> > 3.\n",
    "> {: .solution}\n",
    "{: .challenge}"
   ]
  }
 ],
 "metadata": {
  "kernelspec": {
   "display_name": "Python 3",
   "language": "python",
   "name": "python3"
  },
  "language_info": {
   "codemirror_mode": {
    "name": "ipython",
    "version": 3
   },
   "file_extension": ".py",
   "mimetype": "text/x-python",
   "name": "python",
   "nbconvert_exporter": "python",
   "pygments_lexer": "ipython3",
   "version": "3.6.0"
  }
 },
 "nbformat": 4,
 "nbformat_minor": 2
}
