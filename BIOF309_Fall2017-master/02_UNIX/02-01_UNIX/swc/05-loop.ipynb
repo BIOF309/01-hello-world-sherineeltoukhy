{
 "cells": [
  {
   "cell_type": "markdown",
   "metadata": {},
   "source": [
    "---\n",
    "title: \"Loops\"\n",
    "teaching: 15\n",
    "exercises: 0\n",
    "questions:\n",
    "- \"How can I perform the same actions on many different files?\"\n",
    "objectives:\n",
    "- \"Write a loop that applies one or more commands separately to each file in a set of files.\"\n",
    "- \"Trace the values taken on by a loop variable during execution of the loop.\"\n",
    "- \"Explain the difference between a variable's name and its value.\"\n",
    "- \"Explain why spaces and some punctuation characters shouldn't be used in file names.\"\n",
    "- \"Demonstrate how to see what commands have recently been executed.\"\n",
    "- \"Re-run recently executed commands without retyping them.\"\n",
    "keypoints:\n",
    "- \"A `for` loop repeats commands once for every thing in a list.\"\n",
    "- \"Every `for` loop needs a variable to refer to the thing it is currently operating on.\"\n",
    "- \"Use `$name` to expand a variable (i.e., get its value). `${name}` can also be used.\"\n",
    "- \"Do not use spaces, quotes, or wildcard characters such as '*' or '?' in filenames, as it complicates variable expansion.\"\n",
    "- \"Give files consistent names that are easy to match with wildcard patterns to make it easy to select them for looping.\"\n",
    "- \"Use the up-arrow key to scroll up through previous commands to edit and repeat them.\"\n",
    "- \"Use `Ctrl-R` to search through the previously entered commands.\"\n",
    "- \"Use `history` to display recent commands, and `!number` to repeat a command by number.\"\n",
    "---\n",
    "\n",
    "**Loops** are key to productivity improvements through automation as they allow us to execute\n",
    "commands repetitively. Similar to wildcards and tab completion, using loops also reduces the\n",
    "amount of typing (and typing mistakes).\n",
    "Suppose we have several hundred genome data files named `basilisk.dat`, `unicorn.dat`, and so on.\n",
    "In this example,\n",
    "we'll use the `creatures` directory which only has two example files,\n",
    "but the principles can be applied to many many more files at once.\n",
    "We would like to modify these files, but also save a version of the original files, naming the copies\n",
    "`original-basilisk.dat` and `original-unicorn.dat`.\n",
    "We can't use:"
   ]
  },
  {
   "cell_type": "code",
   "execution_count": null,
   "metadata": {
    "collapsed": true
   },
   "outputs": [],
   "source": [
    "cp *.dat original-*.dat"
   ]
  },
  {
   "cell_type": "markdown",
   "metadata": {},
   "source": [
    "{: .bash}\n",
    "\n",
    "because that would expand to:"
   ]
  },
  {
   "cell_type": "code",
   "execution_count": null,
   "metadata": {
    "collapsed": true
   },
   "outputs": [],
   "source": [
    "cp basilisk.dat unicorn.dat original-*.dat"
   ]
  },
  {
   "cell_type": "markdown",
   "metadata": {},
   "source": [
    "{: .bash}\n",
    "\n",
    "This wouldn't back up our files, instead we get an error:"
   ]
  },
  {
   "cell_type": "code",
   "execution_count": null,
   "metadata": {
    "collapsed": true
   },
   "outputs": [],
   "source": [
    "cp: target `original-*.dat' is not a directory"
   ]
  },
  {
   "cell_type": "markdown",
   "metadata": {},
   "source": [
    "{: .error}\n",
    "\n",
    "This problem arises when `cp` receives more than two inputs. When this happens, it\n",
    "expects the last input to be a directory where it can copy all the files it was passed.\n",
    "Since there is no directory named `original-*.dat` in the `creatures` directory we get an\n",
    "error.\n",
    "\n",
    "Instead, we can use a **loop**\n",
    "to do some operation once for each thing in a list.\n",
    "Here's a simple example that displays the first three lines of each file in turn:"
   ]
  },
  {
   "cell_type": "code",
   "execution_count": null,
   "metadata": {
    "collapsed": true
   },
   "outputs": [],
   "source": [
    "$ for filename in basilisk.dat unicorn.dat\n",
    "> do\n",
    ">    head -n 3 $filename\n",
    "> done"
   ]
  },
  {
   "cell_type": "markdown",
   "metadata": {},
   "source": [
    "{: .bash}"
   ]
  },
  {
   "cell_type": "code",
   "execution_count": null,
   "metadata": {
    "collapsed": true
   },
   "outputs": [],
   "source": [
    "COMMON NAME: basilisk\n",
    "CLASSIFICATION: basiliscus vulgaris\n",
    "UPDATED: 1745-05-02\n",
    "COMMON NAME: unicorn\n",
    "CLASSIFICATION: equus monoceros\n",
    "UPDATED: 1738-11-24"
   ]
  },
  {
   "cell_type": "markdown",
   "metadata": {},
   "source": [
    "{: .output}\n",
    "\n",
    "When the shell sees the keyword `for`,\n",
    "it knows to repeat a command (or group of commands) once for each thing `in` a list.\n",
    "For each iteration,\n",
    "the name of the each thing is sequentially assigned to\n",
    "the **variable** and the commands inside the loop are executed before moving on to \n",
    "the next thing in the list.\n",
    "Inside the loop,\n",
    "we call for the variable's value by putting `$` in front of it.\n",
    "The `$` tells the shell interpreter to treat\n",
    "the **variable** as a variable name and substitute its value in its place,\n",
    "rather than treat it as text or an external command. \n",
    "\n",
    "In this example, the list is two filenames: `basilisk.dat` and `unicorn.dat`.\n",
    "Each time the loop iterates, it will assign a file name to the variable `filename`\n",
    "and run the `head` command.\n",
    "The first time through the loop,\n",
    "`$filename` is `basilisk.dat`. \n",
    "The interpreter runs the command `head` on `basilisk.dat`, \n",
    "and the prints the \n",
    "first three lines of `basilisk.dat`.\n",
    "For the second iteration, `$filename` becomes \n",
    "`unicorn.dat`. This time, the shell runs `head` on `unicorn.dat`\n",
    "and prints the first three lines of `unicorn.dat`. \n",
    "Since the list was only two items, the shell exits the `for` loop.\n",
    "\n",
    "When using variables it is also\n",
    "possible to put the names into curly braces to clearly delimit the variable\n",
    "name: `$filename` is equivalent to `${filename}`, but is different from\n",
    "`${file}name`. You may find this notation in other people's programs.\n",
    "\n",
    "> ## Follow the Prompt\n",
    ">\n",
    "> The shell prompt changes from `$` to `>` and back again as we were\n",
    "> typing in our loop. The second prompt, `>`, is different to remind\n",
    "> us that we haven't finished typing a complete command yet. A semicolon, `;`,\n",
    "> can be used to separate two commands written on a single line.\n",
    "{: .callout}\n",
    "\n",
    "> ## Same Symbols, Different Meanings\n",
    ">\n",
    "> Here we see `>` being used a shell prompt, whereas `>` is also\n",
    "> used to redirect output.\n",
    "> Similarly, `$` is used as a shell prompt, but, as we saw earler,\n",
    "> it is also used to ask the shell to get the value of a variable.\n",
    ">\n",
    "> If the *shell* prints `>` or `$` then it expects you to type something,\n",
    "> and the symbol is a prompt.\n",
    ">\n",
    "> If *you* type `>` or `$` yourself, it is an instruction from you that\n",
    "> the shell to redirect output or get the value of a variable.\n",
    "{: .callout}\n",
    "\n",
    "We have called the variable in this loop `filename`\n",
    "in order to make its purpose clearer to human readers.\n",
    "The shell itself doesn't care what the variable is called;\n",
    "if we wrote this loop as:"
   ]
  },
  {
   "cell_type": "code",
   "execution_count": null,
   "metadata": {
    "collapsed": true
   },
   "outputs": [],
   "source": [
    "for x in basilisk.dat unicorn.dat\n",
    "do\n",
    "    head -n 3 $x\n",
    "done"
   ]
  },
  {
   "cell_type": "markdown",
   "metadata": {},
   "source": [
    "{: .bash}\n",
    "\n",
    "or:"
   ]
  },
  {
   "cell_type": "code",
   "execution_count": null,
   "metadata": {
    "collapsed": true
   },
   "outputs": [],
   "source": [
    "for temperature in basilisk.dat unicorn.dat\n",
    "do\n",
    "    head -n 3 $temperature\n",
    "done"
   ]
  },
  {
   "cell_type": "markdown",
   "metadata": {},
   "source": [
    "{: .bash}\n",
    "\n",
    "it would work exactly the same way.\n",
    "*Don't do this.*\n",
    "Programs are only useful if people can understand them,\n",
    "so meaningless names (like `x`) or misleading names (like `temperature`)\n",
    "increase the odds that the program won't do what its readers think it does.\n",
    "\n",
    "Here's a slightly more complicated loop:"
   ]
  },
  {
   "cell_type": "code",
   "execution_count": null,
   "metadata": {
    "collapsed": true
   },
   "outputs": [],
   "source": [
    "for filename in *.dat\n",
    "do\n",
    "    echo $filename\n",
    "    head -n 100 $filename | tail -n 20\n",
    "done"
   ]
  },
  {
   "cell_type": "markdown",
   "metadata": {},
   "source": [
    "{: .bash}\n",
    "\n",
    "The shell starts by expanding `*.dat` to create the list of files it will process.\n",
    "The **loop body**\n",
    "then executes two commands for each of those files.\n",
    "The first, `echo`, just prints its command-line parameters to standard output.\n",
    "For example:"
   ]
  },
  {
   "cell_type": "code",
   "execution_count": null,
   "metadata": {
    "collapsed": true
   },
   "outputs": [],
   "source": [
    "$ echo hello there"
   ]
  },
  {
   "cell_type": "markdown",
   "metadata": {},
   "source": [
    "{: .bash}\n",
    "\n",
    "prints:"
   ]
  },
  {
   "cell_type": "code",
   "execution_count": null,
   "metadata": {
    "collapsed": true
   },
   "outputs": [],
   "source": [
    "hello there"
   ]
  },
  {
   "cell_type": "markdown",
   "metadata": {},
   "source": [
    "{: .output}\n",
    "\n",
    "In this case,\n",
    "since the shell expands `$filename` to be the name of a file,\n",
    "`echo $filename` just prints the name of the file.\n",
    "Note that we can't write this as:"
   ]
  },
  {
   "cell_type": "code",
   "execution_count": null,
   "metadata": {
    "collapsed": true
   },
   "outputs": [],
   "source": [
    "for filename in *.dat\n",
    "do\n",
    "    $filename\n",
    "    head -n 100 $filename | tail -n 20\n",
    "done"
   ]
  },
  {
   "cell_type": "markdown",
   "metadata": {},
   "source": [
    "{: .bash}\n",
    "\n",
    "because then the first time through the loop,\n",
    "when `$filename` expanded to `basilisk.dat`, the shell would try to run `basilisk.dat` as a program.\n",
    "Finally,\n",
    "the `head` and `tail` combination selects lines 81-100\n",
    "from whatever file is being processed\n",
    "(assuming the file has at least 100 lines).\n",
    "\n",
    "> ## Spaces in Names\n",
    ">\n",
    "> Whitespace is used to separate the elements on the list\n",
    "> that we are going to loop over. If on the list we have elements\n",
    "> with whitespace we need to quote those elements\n",
    "> and our variable when using it.\n",
    "> Suppose our data files are named:\n",
    ">\n",
    "> ~~~\n",
    "> red dragon.dat\n",
    "> purple unicorn.dat\n",
    "> ~~~\n",
    "> {: .source}\n",
    "> \n",
    "> We need to use\n",
    "> \n",
    "> ~~~\n",
    "> for filename in \"red dragon.dat\" \"purple unicorn.dat\"\n",
    "> do\n",
    ">     head -n 100 \"$filename\" | tail -n 20\n",
    "> done\n",
    "> ~~~\n",
    "> {: .bash}\n",
    ">\n",
    "> It is simpler just to avoid using whitespaces (or other special characters) in filenames.\n",
    "{: .callout}\n",
    "\n",
    "Going back to our original file copying problem,\n",
    "we can solve it using this loop:"
   ]
  },
  {
   "cell_type": "code",
   "execution_count": null,
   "metadata": {
    "collapsed": true
   },
   "outputs": [],
   "source": [
    "for filename in *.dat\n",
    "do\n",
    "    cp $filename original-$filename\n",
    "done"
   ]
  },
  {
   "cell_type": "markdown",
   "metadata": {},
   "source": [
    "{: .bash}\n",
    "\n",
    "This loop runs the `cp` command once for each filename.\n",
    "The first time,\n",
    "when `$filename` expands to `basilisk.dat`,\n",
    "the shell executes:"
   ]
  },
  {
   "cell_type": "code",
   "execution_count": null,
   "metadata": {
    "collapsed": true
   },
   "outputs": [],
   "source": [
    "cp basilisk.dat original-basilisk.dat"
   ]
  },
  {
   "cell_type": "markdown",
   "metadata": {},
   "source": [
    "{: .bash}\n",
    "\n",
    "The second time, the command is:"
   ]
  },
  {
   "cell_type": "code",
   "execution_count": null,
   "metadata": {
    "collapsed": true
   },
   "outputs": [],
   "source": [
    "cp unicorn.dat original-unicorn.dat"
   ]
  },
  {
   "cell_type": "markdown",
   "metadata": {},
   "source": [
    "{: .bash}\n",
    "\n",
    "Since the `cp` command does not normally produce any output, it's hard to check \n",
    "that the loop is doing the correct thing. By prefixing the command with `echo` \n",
    "it is possible to see each command as it _would_ be executed. The following diagram \n",
    "shows what happens when the modified script is executed, and demonstrates how the \n",
    "judicious use of `echo` is a good debugging technique.\n",
    "\n",
    "![For Loop in Action](../fig/shell_script_for_loop_flow_chart.svg)\n",
    "\n",
    "## Nelle's Pipeline: Processing Files\n",
    "\n",
    "Nelle is now ready to process her data files.\n",
    "Since she's still learning how to use the shell,\n",
    "she decides to build up the required commands in stages.\n",
    "Her first step is to make sure that she can select the right files --- remember,\n",
    "these are ones whose names end in 'A' or 'B', rather than 'Z'. Starting from her home directory, Nelle types:"
   ]
  },
  {
   "cell_type": "code",
   "execution_count": null,
   "metadata": {
    "collapsed": true
   },
   "outputs": [],
   "source": [
    "$ cd north-pacific-gyre/2012-07-03\n",
    "$ for datafile in *[AB].txt\n",
    "> do\n",
    ">     echo $datafile\n",
    "> done"
   ]
  },
  {
   "cell_type": "markdown",
   "metadata": {},
   "source": [
    "{: .bash}"
   ]
  },
  {
   "cell_type": "code",
   "execution_count": null,
   "metadata": {
    "collapsed": true
   },
   "outputs": [],
   "source": [
    "NENE01729A.txt\n",
    "NENE01729B.txt\n",
    "NENE01736A.txt\n",
    "...\n",
    "NENE02043A.txt\n",
    "NENE02043B.txt"
   ]
  },
  {
   "cell_type": "markdown",
   "metadata": {},
   "source": [
    "{: .output}\n",
    "\n",
    "Her next step is to decide\n",
    "what to call the files that the `goostats` analysis program will create.\n",
    "Prefixing each input file's name with \"stats\" seems simple,\n",
    "so she modifies her loop to do that:"
   ]
  },
  {
   "cell_type": "code",
   "execution_count": null,
   "metadata": {
    "collapsed": true
   },
   "outputs": [],
   "source": [
    "$ for datafile in *[AB].txt\n",
    "> do\n",
    ">     echo $datafile stats-$datafile\n",
    "> done"
   ]
  },
  {
   "cell_type": "markdown",
   "metadata": {},
   "source": [
    "{: .bash}"
   ]
  },
  {
   "cell_type": "code",
   "execution_count": null,
   "metadata": {
    "collapsed": true
   },
   "outputs": [],
   "source": [
    "NENE01729A.txt stats-NENE01729A.txt\n",
    "NENE01729B.txt stats-NENE01729B.txt\n",
    "NENE01736A.txt stats-NENE01736A.txt\n",
    "...\n",
    "NENE02043A.txt stats-NENE02043A.txt\n",
    "NENE02043B.txt stats-NENE02043B.txt"
   ]
  },
  {
   "cell_type": "markdown",
   "metadata": {},
   "source": [
    "{: .output}\n",
    "\n",
    "She hasn't actually run `goostats` yet,\n",
    "but now she's sure she can select the right files and generate the right output filenames.\n",
    "\n",
    "Typing in commands over and over again is becoming tedious,\n",
    "though,\n",
    "and Nelle is worried about making mistakes,\n",
    "so instead of re-entering her loop,\n",
    "she presses the up arrow.\n",
    "In response,\n",
    "the shell redisplays the whole loop on one line\n",
    "(using semi-colons to separate the pieces):"
   ]
  },
  {
   "cell_type": "code",
   "execution_count": null,
   "metadata": {
    "collapsed": true
   },
   "outputs": [],
   "source": [
    "$ for datafile in *[AB].txt; do echo $datafile stats-$datafile; done"
   ]
  },
  {
   "cell_type": "markdown",
   "metadata": {},
   "source": [
    "{: .bash}\n",
    "\n",
    "Using the left arrow key,\n",
    "Nelle backs up and changes the command `echo` to `bash goostats`:"
   ]
  },
  {
   "cell_type": "code",
   "execution_count": null,
   "metadata": {
    "collapsed": true
   },
   "outputs": [],
   "source": [
    "$ for datafile in *[AB].txt; do bash goostats $datafile stats-$datafile; done"
   ]
  },
  {
   "cell_type": "markdown",
   "metadata": {},
   "source": [
    "{: .bash}\n",
    "\n",
    "When she presses Enter,\n",
    "the shell runs the modified command.\n",
    "However, nothing appears to happen --- there is no output.\n",
    "After a moment, Nelle realizes that since her script doesn't print anything to the screen any longer,\n",
    "she has no idea whether it is running, much less how quickly.\n",
    "She kills the running command by typing `Ctrl-C`,\n",
    "uses up-arrow to repeat the command,\n",
    "and edits it to read:"
   ]
  },
  {
   "cell_type": "code",
   "execution_count": null,
   "metadata": {
    "collapsed": true
   },
   "outputs": [],
   "source": [
    "$ for datafile in *[AB].txt; do echo $datafile; bash goostats $datafile stats-$datafile; done"
   ]
  },
  {
   "cell_type": "markdown",
   "metadata": {},
   "source": [
    "{: .bash}\n",
    "\n",
    "> ## Beginning and End\n",
    ">\n",
    "> We can move to the beginning of a line in the shell by typing `Ctrl-A`\n",
    "> and to the end using `Ctrl-E`.\n",
    "{: .callout}\n",
    "\n",
    "When she runs her program now,\n",
    "it produces one line of output every five seconds or so:"
   ]
  },
  {
   "cell_type": "code",
   "execution_count": null,
   "metadata": {
    "collapsed": true
   },
   "outputs": [],
   "source": [
    "NENE01729A.txt\n",
    "NENE01729B.txt\n",
    "NENE01736A.txt\n",
    "..."
   ]
  },
  {
   "cell_type": "markdown",
   "metadata": {},
   "source": [
    "{: .output}\n",
    "\n",
    "1518 times 5 seconds,\n",
    "divided by 60,\n",
    "tells her that her script will take about two hours to run.\n",
    "As a final check,\n",
    "she opens another terminal window,\n",
    "goes into `north-pacific-gyre/2012-07-03`,\n",
    "and uses `cat stats-NENE01729B.txt`\n",
    "to examine one of the output files.\n",
    "It looks good,\n",
    "so she decides to get some coffee and catch up on her reading.\n",
    "\n",
    "> ## Those Who Know History Can Choose to Repeat It\n",
    ">\n",
    "> Another way to repeat previous work is to use the `history` command to\n",
    "> get a list of the last few hundred commands that have been executed, and\n",
    "> then to use `!123` (where \"123\" is replaced by the command number) to\n",
    "> repeat one of those commands. For example, if Nelle types this:\n",
    ">\n",
    "> ~~~\n",
    "> $ history | tail -n 5\n",
    "> ~~~\n",
    "> {: .bash}\n",
    "> ~~~\n",
    ">   456  ls -l NENE0*.txt\n",
    ">   457  rm stats-NENE01729B.txt.txt\n",
    ">   458  bash goostats NENE01729B.txt stats-NENE01729B.txt\n",
    ">   459  ls -l NENE0*.txt\n",
    ">   460  history\n",
    "> ~~~\n",
    "> {: .output}\n",
    ">\n",
    "> then she can re-run `goostats` on `NENE01729B.txt` simply by typing\n",
    "> `!458`.\n",
    "{: .callout}\n",
    "\n",
    "> ## Other History Commands\n",
    ">\n",
    "> There are a number of other shortcut commands for getting at the history.\n",
    ">\n",
    "> - `Ctrl-R` enters a history search mode \"reverse-i-search\" and looks for\n",
    "> matches to the text you enter next.\n",
    "> Press `Ctrl-R` again to cycle through matches.\n",
    "> - `!!` retrieves the immediately preceding command \n",
    "> (you may or may not find this more convenient than using the up-arrow)\n",
    "> - `!$` retrieves the last word of the  last command.\n",
    "> That's useful more often than you might expect: after\n",
    "> `bash goostats NENE01729B.txt stats-NENE01729B.txt`, you can type\n",
    "> `less !$` to look at the file `stats-NENE01729B.txt`, which is\n",
    "> quicker than doing up-arrow and editing the command-line.\n",
    "{: .callout}\n",
    "\n",
    "> ## Variables in Loops\n",
    ">\n",
    "> This exercise refers to the `data-shell/molecules` directory.\n",
    "> `ls` gives the following output:\n",
    ">\n",
    "> ~~~\n",
    "> cubane.pdb  ethane.pdb  methane.pdb  octane.pdb  pentane.pdb  propane.pdb\n",
    "> ~~~\n",
    "> {: .output}\n",
    ">\n",
    "> What is the output of the following code?\n",
    ">\n",
    "> ~~~\n",
    "> for datafile in *.pdb\n",
    "> do\n",
    ">     ls *.pdb\n",
    "> done\n",
    "> ~~~\n",
    "> {: .bash}\n",
    ">\n",
    "> Now, what is the output of the following code?\n",
    ">\n",
    "> ~~~\n",
    "> for datafile in *.pdb\n",
    "> do\n",
    ">\tls $datafile\n",
    "> done\n",
    "> ~~~\n",
    "> {: .bash}\n",
    ">\n",
    "> Why do these two loops give different outputs?\n",
    ">\n",
    "> > ## Solution\n",
    "> > The first code block gives the same output on each iteration through\n",
    "> > the loop.\n",
    "> > Bash expands the wildcard `*.pdb` within the loop body (as well as\n",
    "> > before the loop starts) to match all files ending in `.pdb`\n",
    "> > and then lists them using `ls`.\n",
    "> > The expanded loop would look like this:\n",
    "> > ```\n",
    "> > for datafile in cubane.pdb  ethane.pdb  methane.pdb  octane.pdb  pentane.pdb  propane.pdb\n",
    "> > do\n",
    "> >\tls cubane.pdb  ethane.pdb  methane.pdb  octane.pdb  pentane.pdb  propane.pdb\n",
    "> > done\n",
    "> > ```\n",
    "> > {: .bash}\n",
    "> >\n",
    "> > ```\n",
    "> > cubane.pdb  ethane.pdb  methane.pdb  octane.pdb  pentane.pdb  propane.pdb\n",
    "> > cubane.pdb  ethane.pdb  methane.pdb  octane.pdb  pentane.pdb  propane.pdb\n",
    "> > cubane.pdb  ethane.pdb  methane.pdb  octane.pdb  pentane.pdb  propane.pdb\n",
    "> > cubane.pdb  ethane.pdb  methane.pdb  octane.pdb  pentane.pdb  propane.pdb\n",
    "> > cubane.pdb  ethane.pdb  methane.pdb  octane.pdb  pentane.pdb  propane.pdb\n",
    "> > cubane.pdb  ethane.pdb  methane.pdb  octane.pdb  pentane.pdb  propane.pdb\n",
    "> > ```\n",
    "> > {: .output}\n",
    "> >\n",
    "> > The second code block lists a different file on each loop iteration.\n",
    "> > The value of the `datafile` variable is evaluated using `$datafile`,\n",
    "> > and then listed using `ls`.\n",
    "> >\n",
    "> > ```\n",
    "> > cubane.pdb  ethane.pdb  methane.pdb  octane.pdb  pentane.pdb  propane.pdb\n",
    "> > ```\n",
    "> > {: .output}\n",
    "> {: .solution}\n",
    "{: .challenge}\n",
    "\n",
    "> ## Saving to a File in a Loop - Part One\n",
    ">\n",
    "> In the same directory, what is the effect of this loop?\n",
    ">\n",
    "> ~~~\n",
    "> for species in *.pdb\n",
    "> do\n",
    ">     echo $species\n",
    ">     cat $species > alkanes.pdb\n",
    "> done\n",
    "> ~~~\n",
    "> {: .bash}\n",
    ">\n",
    "> 1.  Prints `cubane.pdb`, `ethane.pdb`, `methane.pdb`, `octane.pdb`, `pentane.pdb` and `propane.pdb`,\n",
    ">     and the text from `propane.pdb` will be saved to a file called `alkanes.pdb`.\n",
    "> 2.  Prints `cubane.pdb`, `ethane.pdb`, and `methane.pdb`, and the text from all three files would be\n",
    ">     concatenated and saved to a file called `alkanes.pdb`.\n",
    "> 3.  Prints `cubane.pdb`, `ethane.pdb`, `methane.pdb`, `octane.pdb`, and `pentane.pdb`, and the text\n",
    ">     from `propane.pdb` will be saved to a file called `alkanes.pdb`.\n",
    "> 4.  None of the above.\n",
    ">\n",
    "> > ## Solution\n",
    "> > 1. The text from each file in turn gets written to the `alkanes.pdb` file.\n",
    "> > However, the file gets overwritten on each loop interation, so the final content of `alkanes.pdb`\n",
    "> > is the text from the `propane.pdb` file.\n",
    "> {: .solution}\n",
    "{: .challenge}\n",
    "\n",
    "> ## Saving to a File in a Loop - Part Two\n",
    ">\n",
    "> In the same directory, what would be the output of the following loop?\n",
    ">\n",
    "> ~~~\n",
    "> for datafile in *.pdb\n",
    "> do\n",
    ">     cat $datafile >> all.pdb\n",
    "> done\n",
    "> ~~~\n",
    "> {: .bash}\n",
    ">\n",
    "> 1.  All of the text from `cubane.pdb`, `ethane.pdb`, `methane.pdb`, `octane.pdb`, and\n",
    ">     `pentane.pdb` would be concatenated and saved to a file called `all.pdb`.\n",
    "> 2.  The text from `ethane.pdb` will be saved to a file called `all.pdb`.\n",
    "> 3.  All of the text from `cubane.pdb`, `ethane.pdb`, `methane.pdb`, `octane.pdb`, `pentane.pdb`\n",
    ">     and `propane.pdb` would be concatenated and saved to a file called `all.pdb`.\n",
    "> 4.  All of the text from `cubane.pdb`, `ethane.pdb`, `methane.pdb`, `octane.pdb`, `pentane.pdb`\n",
    ">     and `propane.pdb` would be printed to the screen and saved to a file called `all.pdb`.\n",
    ">\n",
    "> > ## Solution\n",
    "> > 3 is the correct answer. `>>` appends to a file, rather than overwriting it with the redirected\n",
    "> > output from a command.\n",
    "> > Given the output from the `cat` command has been redirected, nothing is printed to the screen.\n",
    "> {: .solution}\n",
    "{: .challenge}\n",
    "\n",
    "> ## Limiting Sets of Files\n",
    ">\n",
    "> In the same directory, what would be the output of the following loop?\n",
    ">\n",
    "> ~~~\n",
    "> for filename in c*\n",
    "> do\n",
    ">     ls $filename \n",
    "> done\n",
    "> ~~~\n",
    "> {: .bash}\n",
    ">\n",
    "> 1.  No files are listed.\n",
    "> 2.  All files are listed.\n",
    "> 3.  Only `cubane.pdb`, `octane.pdb` and `pentane.pdb` are listed.\n",
    "> 4.  Only `cubane.pdb` is listed.\n",
    ">\n",
    "> > ## Solution\n",
    "> > 4 is the correct answer. `*` matches zero or more characters, so any file name starting with \n",
    "> > the letter c, followed by zero or more other characters will be matched.\n",
    "> {: .solution}\n",
    ">\n",
    "> How would the output differ from using this command instead?\n",
    ">\n",
    "> ~~~\n",
    "> for filename in *c*\n",
    "> do\n",
    ">     ls $filename \n",
    "> done\n",
    "> ~~~\n",
    "> {: .bash}\n",
    ">\n",
    "> 1.  The same files would be listed.\n",
    "> 2.  All the files are listed this time.\n",
    "> 3.  No files are listed this time.\n",
    "> 4.  The files `cubane.pdb` and `octane.pdb` will be listed.\n",
    "> 5.  Only the file `octane.pdb` will be listed.\n",
    ">\n",
    "> > ## Solution\n",
    "> > 5 is the correct answer. `*` matches zero or more characters, so a file name with zero or more\n",
    "> > characters before a letter c and zero or more characters after the letter c will be matched.\n",
    "> {: .solution}\n",
    "{: .challenge}\n",
    "\n",
    "> ## Doing a Dry Run\n",
    ">\n",
    "> A loop is a way to do many things at once --- or to make many mistakes at\n",
    "> once if it does the wrong thing. One way to check what a loop *would* do\n",
    "> is to `echo` the commands it would run instead of actually running them.\n",
    "> \n",
    "> Suppose we want to preview the commands the following loop will execute\n",
    "> without actually running those commands:\n",
    ">\n",
    "> ~~~\n",
    "> for file in *.pdb\n",
    "> do\n",
    ">   analyze $file > analyzed-$file\n",
    "> done\n",
    "> ~~~\n",
    "> {: .bash}\n",
    ">\n",
    "> What is the difference between the two loops below, and which one would we\n",
    "> want to run?\n",
    ">\n",
    "> ~~~\n",
    "> # Version 1\n",
    "> for file in *.pdb\n",
    "> do\n",
    ">   echo analyze $file > analyzed-$file\n",
    "> done\n",
    "> ~~~\n",
    "> {: .bash}\n",
    ">\n",
    "> ~~~\n",
    "> # Version 2\n",
    "> for file in *.pdb\n",
    "> do\n",
    ">   echo \"analyze $file > analyzed-$file\"\n",
    "> done\n",
    "> ~~~\n",
    "> {: .bash}\n",
    ">\n",
    "> > ## Solution\n",
    "> > The second version is the one we want to run.\n",
    "> > This prints to screen everything enclosed in the quote marks, expanding the\n",
    "> > loop variable name because we have prefixed it with a dollar sign.\n",
    "> >\n",
    "> > The first version redirects the output from the command `echo analyze $file` to\n",
    "> > a file, `analyzed-$file`. A series of files is generated: `cubane.pdb`,\n",
    "> > `ethane.pdb` etc.\n",
    "> > \n",
    "> > Try both versions for yourself to see the output! Be sure to open the \n",
    "> > `analyzed-*.pdb` files to view their contents.\n",
    "> {: .solution}\n",
    "{: .challenge}\n",
    "\n",
    "> ## Nested Loops\n",
    ">\n",
    "> Suppose we want to set up up a directory structure to organize\n",
    "> some experiments measuring reaction rate constants with different compounds\n",
    "> *and* different temperatures.  What would be the\n",
    "> result of the following code:\n",
    ">\n",
    "> ~~~\n",
    "> for species in cubane ethane methane\n",
    "> do\n",
    ">     for temperature in 25 30 37 40\n",
    ">     do\n",
    ">         mkdir $species-$temperature\n",
    ">     done\n",
    "> done\n",
    "> ~~~\n",
    "> {: .bash}\n",
    ">\n",
    "> > ## Solution\n",
    "> > We have a nested loop, i.e. contained within another loop, so for each species\n",
    "> > in the outer loop, the inner loop (the nested loop) iterates over the list of\n",
    "> > temperatures, and creates a new directory for each combination.\n",
    "> >\n",
    "> > Try running the code for yourself to see which directories are created!\n",
    "> {: .solution}\n",
    "{: .challenge}"
   ]
  }
 ],
 "metadata": {
  "kernelspec": {
   "display_name": "Python 3",
   "language": "python",
   "name": "python3"
  },
  "language_info": {
   "codemirror_mode": {
    "name": "ipython",
    "version": 3
   },
   "file_extension": ".py",
   "mimetype": "text/x-python",
   "name": "python",
   "nbconvert_exporter": "python",
   "pygments_lexer": "ipython3",
   "version": "3.6.0"
  }
 },
 "nbformat": 4,
 "nbformat_minor": 2
}
