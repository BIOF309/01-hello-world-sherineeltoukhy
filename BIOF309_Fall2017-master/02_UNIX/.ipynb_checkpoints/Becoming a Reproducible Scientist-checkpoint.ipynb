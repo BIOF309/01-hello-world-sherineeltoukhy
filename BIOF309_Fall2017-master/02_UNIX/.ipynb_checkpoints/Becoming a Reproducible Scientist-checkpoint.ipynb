{
 "cells": [
  {
   "cell_type": "markdown",
   "metadata": {},
   "source": [
    "# Becoming a Reproducible Scientist"
   ]
  },
  {
   "cell_type": "markdown",
   "metadata": {},
   "source": [
    "__Source:__\n",
    "\n",
    "The organization and version control notebooks below is from the Data Carpentry Reproducible Science Jupyter workshop held in Berkeley, CA in January 2017 [https://github.com/Reproducible-Science-Curriculum](https://github.com/Reproducible-Science-Curriculum)"
   ]
  },
  {
   "cell_type": "markdown",
   "metadata": {},
   "source": [
    "## 1. Introduction and Motivation"
   ]
  },
  {
   "cell_type": "markdown",
   "metadata": {},
   "source": [
    "[Organization](./Organization.ipynb)"
   ]
  },
  {
   "cell_type": "markdown",
   "metadata": {},
   "source": [
    "## 2. Version Control (with _git_)\n",
    "\n",
    "\n",
    "Try git (in the browser):  http://try.github.com/\n",
    "\n",
    "If you would like to follow along on your computer, check to see if you ahve git installed by running the cell below. If you would rather try this out but not on your computer go to [http://try.github.com/](http://try.github.com/)\n",
    "\n",
    "    !git --version\n",
    "    \n",
    "If you do not have _git_ installed you can run this command:\n",
    "\n",
    "    !conda install -c conda-forge git\n",
    "    \n",
    "Then you could open one of the two git tutorial Jupyter Notebooks:\n",
    "- [Revision-Control-Software](Revision-Control-Software.ipynb)\n",
    "- [Version_Control](Version_Control.ipynb)\n",
    "    \n",
    "For reference:\n",
    "\n",
    "[A Quick Introduction to Version Control with Git and GitHub, John D. Blischak , Emily R. Davenport, Greg Wilson\n",
    "Published: January 19, 2016. PLOS Comp Bio](http://journals.plos.org/ploscompbiol/article?id=10.1371/journal.pcbi.1004668)\n"
   ]
  },
  {
   "cell_type": "markdown",
   "metadata": {
    "collapsed": true
   },
   "source": [
    "## BEST practices:\n",
    "\n",
    "---\n",
    "Some of the Best practices include...ten concrete actions, given by Sandve et al. (2013), that we can take to make our research reproducible:\n",
    "    \n",
    "1. For every result, keep track of how it was produced\n",
    "1. Avoid manual data-manipulation steps\n",
    "1. Archive the exact versions of all external programs used\n",
    "1. Version-control all custom scripts\n",
    "1. Record all intermediate results, when possible in standard formats\n",
    "1. For analyses that include randomness, note underlying random seeds\n",
    "1. Always store raw data behind plots\n",
    "1. Generate hierarchical analysis output, allowing layers of increasing detail to be inspected\n",
    "1. Connect textual statements to underlying results\n",
    "1. Provide public access to scripts, runs, and results"
   ]
  },
  {
   "cell_type": "markdown",
   "metadata": {},
   "source": [
    "Additional References:\n",
    "    \n",
    "[Top-10 Readings in Reproducibility](https://hackernoon.com/barba-group-reproducibility-syllabus-e3757ee635cf)"
   ]
  },
  {
   "cell_type": "markdown",
   "metadata": {
    "collapsed": true
   },
   "source": [
    "# Call to Action\n",
    "\n",
    "---\n",
    "\n",
    "## What you can do today (or tomorrow) to become more of a reproducible scientist!"
   ]
  },
  {
   "cell_type": "code",
   "execution_count": null,
   "metadata": {
    "collapsed": true
   },
   "outputs": [],
   "source": []
  },
  {
   "cell_type": "code",
   "execution_count": null,
   "metadata": {
    "collapsed": true
   },
   "outputs": [],
   "source": []
  }
 ],
 "metadata": {
  "kernelspec": {
   "display_name": "Python [default]",
   "language": "python",
   "name": "python3"
  },
  "language_info": {
   "codemirror_mode": {
    "name": "ipython",
    "version": 3
   },
   "file_extension": ".py",
   "mimetype": "text/x-python",
   "name": "python",
   "nbconvert_exporter": "python",
   "pygments_lexer": "ipython3",
   "version": "3.5.3"
  }
 },
 "nbformat": 4,
 "nbformat_minor": 2
}
