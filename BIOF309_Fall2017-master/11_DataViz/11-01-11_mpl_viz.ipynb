{
 "cells": [
  {
   "cell_type": "markdown",
   "metadata": {},
   "source": [
    "# Visualizing with the `matplotlib`)\n",
    "***"
   ]
  },
  {
   "cell_type": "code",
   "execution_count": 1,
   "metadata": {
    "collapsed": false
   },
   "outputs": [],
   "source": [
    "%matplotlib inline\n",
    "\n",
    "import matplotlib.pyplot as plt\n",
    "import pandas as pd\n",
    "import numpy as np\n",
    "\n",
    "#import seaborn as sns\n",
    "#sns.set()\n",
    "#sns.set_context('notebook', font_scale=1.5)\n",
    "#cp = sns.color_palette()"
   ]
  },
  {
   "cell_type": "markdown",
   "metadata": {},
   "source": [
    "<br/>\n",
    "\n",
    "### Thing 1: Line Chart (with many lines)\n",
    "***"
   ]
  },
  {
   "cell_type": "code",
   "execution_count": 2,
   "metadata": {
    "collapsed": false
   },
   "outputs": [
    {
     "data": {
      "text/html": [
       "<div>\n",
       "<table border=\"1\" class=\"dataframe\">\n",
       "  <thead>\n",
       "    <tr style=\"text-align: right;\">\n",
       "      <th></th>\n",
       "      <th>dt</th>\n",
       "      <th>kind</th>\n",
       "      <th>value</th>\n",
       "    </tr>\n",
       "  </thead>\n",
       "  <tbody>\n",
       "    <tr>\n",
       "      <th>0</th>\n",
       "      <td>2000-01-01</td>\n",
       "      <td>A</td>\n",
       "      <td>1.442521</td>\n",
       "    </tr>\n",
       "    <tr>\n",
       "      <th>1</th>\n",
       "      <td>2000-01-02</td>\n",
       "      <td>A</td>\n",
       "      <td>1.981290</td>\n",
       "    </tr>\n",
       "    <tr>\n",
       "      <th>2</th>\n",
       "      <td>2000-01-03</td>\n",
       "      <td>A</td>\n",
       "      <td>1.586494</td>\n",
       "    </tr>\n",
       "    <tr>\n",
       "      <th>3</th>\n",
       "      <td>2000-01-04</td>\n",
       "      <td>A</td>\n",
       "      <td>1.378969</td>\n",
       "    </tr>\n",
       "    <tr>\n",
       "      <th>4</th>\n",
       "      <td>2000-01-05</td>\n",
       "      <td>A</td>\n",
       "      <td>-0.277937</td>\n",
       "    </tr>\n",
       "  </tbody>\n",
       "</table>\n",
       "</div>"
      ],
      "text/plain": [
       "          dt kind     value\n",
       "0 2000-01-01    A  1.442521\n",
       "1 2000-01-02    A  1.981290\n",
       "2 2000-01-03    A  1.586494\n",
       "3 2000-01-04    A  1.378969\n",
       "4 2000-01-05    A -0.277937"
      ]
     },
     "execution_count": 2,
     "metadata": {},
     "output_type": "execute_result"
    }
   ],
   "source": [
    "ts = pd.read_csv('data/ts.csv')\n",
    "\n",
    "# casting to datetime is important for\n",
    "# ensuring plots \"just work\"\n",
    "ts = ts.assign(dt = pd.to_datetime(ts.dt))\n",
    "ts.head()"
   ]
  },
  {
   "cell_type": "code",
   "execution_count": null,
   "metadata": {
    "collapsed": false
   },
   "outputs": [],
   "source": [
    "# in matplotlib-land, the notion of a \"tidy\"\n",
    "# dataframe matters not\n",
    "dfp = ts.pivot(index='dt', columns='kind', values='value')\n",
    "dfp.head()"
   ]
  },
  {
   "cell_type": "code",
   "execution_count": null,
   "metadata": {
    "collapsed": false
   },
   "outputs": [],
   "source": [
    "fig, ax = plt.subplots(1, 1,\n",
    "                       figsize=(7.5, 5))\n",
    "\n",
    "for k in ts.kind.unique():\n",
    "    tmp = ts[ts.kind == k]\n",
    "    ax.plot(tmp.dt, tmp.value, label=k)\n",
    "\n",
    "ax.set(xlabel='Date',\n",
    "       ylabel='Value',\n",
    "       title='Random Timeseries')    \n",
    "    \n",
    "ax.legend(loc=2)\n",
    "fig.autofmt_xdate()"
   ]
  },
  {
   "cell_type": "code",
   "execution_count": null,
   "metadata": {
    "collapsed": false
   },
   "outputs": [],
   "source": [
    "fig, ax = plt.subplots(1, 1,\n",
    "                       figsize=(7.5, 5))\n",
    "\n",
    "ax.plot(dfp)\n",
    "\n",
    "ax.set(xlabel='Date',\n",
    "       ylabel='Value',\n",
    "       title='Random Timeseries')\n",
    "\n",
    "ax.legend(dfp.columns, loc=2)\n",
    "fig.autofmt_xdate()"
   ]
  },
  {
   "cell_type": "code",
   "execution_count": null,
   "metadata": {
    "collapsed": false
   },
   "outputs": [],
   "source": [
    "fig, ax = plt.subplots(1, 1, figsize=(7.5, 7.5))\n",
    "\n",
    "def scatter(group):\n",
    "    plt.plot(group['dt'],\n",
    "             group['value'],\n",
    "             label=group.name)\n",
    "\n",
    "ts.groupby('kind').apply(scatter)\n",
    "\n",
    "ax.set(xlabel='Petal Length',\n",
    "       ylabel='Petal Width',\n",
    "       title='Petal Width v. Length -- by Species')\n",
    "\n",
    "ax.legend(loc=2)"
   ]
  },
  {
   "cell_type": "markdown",
   "metadata": {},
   "source": [
    "<br/>\n",
    "\n",
    "### Thing 2: Scatter\n",
    "***"
   ]
  },
  {
   "cell_type": "code",
   "execution_count": null,
   "metadata": {
    "collapsed": false
   },
   "outputs": [],
   "source": [
    "df = pd.read_csv('data/iris.csv')\n",
    "df.head()"
   ]
  },
  {
   "cell_type": "code",
   "execution_count": null,
   "metadata": {
    "collapsed": false
   },
   "outputs": [],
   "source": [
    "fig, ax = plt.subplots(1, 1, figsize=(7.5, 7.5))\n",
    "\n",
    "for i, s in enumerate(df.species.unique()):\n",
    "    tmp = df[df.species == s]\n",
    "    ax.scatter(tmp.petalLength, tmp.petalWidth,\n",
    "               label=s)\n",
    "\n",
    "ax.set(xlabel='Petal Length',\n",
    "       ylabel='Petal Width',\n",
    "       title='Petal Width v. Length -- by Species')\n",
    "\n",
    "ax.legend(loc=2)"
   ]
  },
  {
   "cell_type": "code",
   "execution_count": null,
   "metadata": {
    "collapsed": false
   },
   "outputs": [],
   "source": [
    "fig, ax = plt.subplots(1, 1, figsize=(7.5, 7.5))\n",
    "\n",
    "for i, s in enumerate(df.species.unique()):\n",
    "    tmp = df[df.species == s]\n",
    "    ax.scatter(tmp.petalLength, tmp.petalWidth,\n",
    "               label=s, color=cp[i])\n",
    "\n",
    "ax.set(xlabel='Petal Length',\n",
    "       ylabel='Petal Width',\n",
    "       title='Petal Width v. Length -- by Species')\n",
    "\n",
    "ax.legend(loc=2)"
   ]
  },
  {
   "cell_type": "code",
   "execution_count": null,
   "metadata": {
    "collapsed": false
   },
   "outputs": [],
   "source": [
    "fig, ax = plt.subplots(1, 1, figsize=(7.5, 7.5))\n",
    "\n",
    "def scatter(group):\n",
    "    plt.plot(group['petalLength'],\n",
    "             group['petalWidth'],\n",
    "             'o', label=group.name)\n",
    "\n",
    "df.groupby('species').apply(scatter)\n",
    "\n",
    "ax.set(xlabel='Petal Length',\n",
    "       ylabel='Petal Width',\n",
    "       title='Petal Width v. Length -- by Species')\n",
    "\n",
    "ax.legend(loc=2)"
   ]
  },
  {
   "cell_type": "markdown",
   "metadata": {},
   "source": [
    "<br/>\n",
    "\n",
    "### Thing 3: Trellising the Above\n",
    "***"
   ]
  },
  {
   "cell_type": "code",
   "execution_count": null,
   "metadata": {
    "collapsed": false
   },
   "outputs": [],
   "source": [
    "fig, ax = plt.subplots(2, 2, figsize=(10, 10))\n",
    "\n",
    "for i, k in enumerate(ts.kind.unique()):\n",
    "    ax = plt.subplot(int('22' + str(i + 1)))\n",
    "    tmp = ts[ts.kind == k]\n",
    "    ax.plot(tmp.dt, tmp.value, label=k, c=cp[i])\n",
    "\n",
    "    ax.set(xlabel='Date',\n",
    "           ylabel='Value',\n",
    "           title=k)    \n",
    "    \n",
    "fig.autofmt_xdate()\n",
    "fig.tight_layout()"
   ]
  },
  {
   "cell_type": "code",
   "execution_count": null,
   "metadata": {
    "collapsed": false
   },
   "outputs": [],
   "source": [
    "fig, ax = plt.subplots(1, 3, figsize=(15, 5))\n",
    "\n",
    "for i, s in enumerate(df.species.unique()):\n",
    "    tmp = df[df.species == s]\n",
    "\n",
    "    ax[i].scatter(tmp.petalLength, tmp.petalWidth, c=cp[i])\n",
    "\n",
    "    ax[i].set(xlabel='Petal Length',\n",
    "              ylabel='Petal Width',\n",
    "              title=s)\n",
    "\n",
    "fig.tight_layout()"
   ]
  },
  {
   "cell_type": "code",
   "execution_count": null,
   "metadata": {
    "collapsed": false
   },
   "outputs": [],
   "source": [
    "fig, ax = plt.subplots(1, 3, figsize=(15, 5))\n",
    "\n",
    "for i, s in enumerate(df.species.unique()):\n",
    "    tmp = df[df.species == s]\n",
    "\n",
    "    ax[i].scatter(tmp.petalLength,\n",
    "                  tmp.petalWidth,\n",
    "                  c=cp[i])\n",
    "\n",
    "    ax[i].set(xlabel='Petal Length',\n",
    "              ylabel='Petal Width',\n",
    "              title=s)\n",
    "\n",
    "    ax[i].set_ylim(bottom=0, top=1.05*np.max(df.petalWidth))\n",
    "    ax[i].set_xlim(left=0, right=1.05*np.max(df.petalLength))\n",
    "    \n",
    "fig.tight_layout()"
   ]
  },
  {
   "cell_type": "code",
   "execution_count": null,
   "metadata": {
    "collapsed": false
   },
   "outputs": [],
   "source": [
    "tmp_n = df.shape[0] - df.shape[0]/2\n",
    "\n",
    "df['random_factor'] = np.random.permutation(['A'] * tmp_n + ['B'] * (df.shape[0] - tmp_n))\n",
    "df.head()"
   ]
  },
  {
   "cell_type": "code",
   "execution_count": null,
   "metadata": {
    "collapsed": false
   },
   "outputs": [],
   "source": [
    "fig, ax = plt.subplots(2, 3, figsize=(15, 10))\n",
    "\n",
    "# this is preposterous -- don't do this\n",
    "for i, s in enumerate(df.species.unique()):\n",
    "    for j, r in enumerate(df.random_factor.sort_values().unique()):\n",
    "        tmp = df[(df.species == s) & (df.random_factor == r)]\n",
    "\n",
    "        ax[j][i].scatter(tmp.petalLength,\n",
    "                         tmp.petalWidth,\n",
    "                         c=cp[i+j])\n",
    "\n",
    "        ax[j][i].set(xlabel='Petal Length',\n",
    "                     ylabel='Petal Width',\n",
    "                     title=s + '--' + r)\n",
    "\n",
    "        ax[j][i].set_ylim(bottom=0, top=1.05*np.max(df.petalWidth))\n",
    "        ax[j][i].set_xlim(left=0, right=1.05*np.max(df.petalLength))\n",
    "    \n",
    "fig.tight_layout()"
   ]
  },
  {
   "cell_type": "markdown",
   "metadata": {},
   "source": [
    "<br/>\n",
    "\n",
    "### Thing 4: Visualizing Distributions (Boxplot and Histogram)\n",
    "***"
   ]
  },
  {
   "cell_type": "code",
   "execution_count": null,
   "metadata": {
    "collapsed": false
   },
   "outputs": [],
   "source": [
    "fig, ax = plt.subplots(1, 1, figsize=(10, 10))\n",
    "\n",
    "ax.boxplot([df[df.species == s]['petalWidth'].values\n",
    "                for s in df.species.unique()])\n",
    "\n",
    "ax.set(xticklabels=df.species.unique(),\n",
    "       xlabel='Species',\n",
    "       ylabel='Petal Width',\n",
    "       title='Distribution of Petal Width by Species')"
   ]
  },
  {
   "cell_type": "code",
   "execution_count": null,
   "metadata": {
    "collapsed": false
   },
   "outputs": [],
   "source": [
    "fig, ax = plt.subplots(1, 1, figsize=(10, 10))\n",
    "\n",
    "for i, s in enumerate(df.species.unique()):\n",
    "    tmp = df[df.species == s]\n",
    "    ax.hist(tmp.petalWidth, label=s, alpha=.8)\n",
    "\n",
    "ax.set(xlabel='Petal Width',\n",
    "       ylabel='Frequency',\n",
    "       title='Distribution of Petal Width by Species')    \n",
    "\n",
    "ax.legend(loc=1)"
   ]
  },
  {
   "cell_type": "markdown",
   "metadata": {},
   "source": [
    "<br/>\n",
    "\n",
    "### Thing 5: Bar Chart\n",
    "***"
   ]
  },
  {
   "cell_type": "code",
   "execution_count": null,
   "metadata": {
    "collapsed": false
   },
   "outputs": [],
   "source": [
    "df = pd.read_csv('data/titanic.csv')\n",
    "df.head()"
   ]
  },
  {
   "cell_type": "code",
   "execution_count": null,
   "metadata": {
    "collapsed": false
   },
   "outputs": [],
   "source": [
    "dfg = df.groupby(['survived', 'pclass']).agg({'fare': 'mean'})\n",
    "dfg"
   ]
  },
  {
   "cell_type": "code",
   "execution_count": null,
   "metadata": {
    "collapsed": false
   },
   "outputs": [],
   "source": [
    "died = dfg.loc[0, :]\n",
    "survived = dfg.loc[1, :]"
   ]
  },
  {
   "cell_type": "code",
   "execution_count": null,
   "metadata": {
    "collapsed": false
   },
   "outputs": [],
   "source": [
    "# more or less copied from matplotlib's own\n",
    "# api example\n",
    "fig, ax = plt.subplots(1, 1, figsize=(12.5, 7))\n",
    "\n",
    "N = 3\n",
    "\n",
    "ind = np.arange(N)  # the x locations for the groups\n",
    "width = 0.35        # the width of the bars\n",
    "\n",
    "rects1 = ax.bar(ind, died.fare, width, color='r')\n",
    "rects2 = ax.bar(ind + width, survived.fare, width, color='y')\n",
    "\n",
    "# add some text for labels, title and axes ticks\n",
    "ax.set_ylabel('Fare')\n",
    "ax.set_title('Fare by survival and class')\n",
    "ax.set_xticks(ind + width)\n",
    "ax.set_xticklabels(('First', 'Second', 'Third'))\n",
    "\n",
    "ax.legend((rects1[0], rects2[0]), ('Died', 'Survived'))\n",
    "\n",
    "\n",
    "def autolabel(rects):\n",
    "    # attach some text labels\n",
    "    for rect in rects:\n",
    "        height = rect.get_height()\n",
    "        ax.text(rect.get_x() + rect.get_width()/2., 1.05*height,\n",
    "                '%d' % int(height),\n",
    "                ha='center', va='bottom')\n",
    "\n",
    "ax.set_ylim(0, 110)        \n",
    "\n",
    "autolabel(rects1)\n",
    "autolabel(rects2)\n",
    "\n",
    "plt.show()"
   ]
  },
  {
   "cell_type": "code",
   "execution_count": null,
   "metadata": {
    "collapsed": true
   },
   "outputs": [],
   "source": []
  }
 ],
 "metadata": {
  "anaconda-cloud": {},
  "kernelspec": {
   "display_name": "Python 3",
   "language": "python",
   "name": "python3"
  },
  "language_info": {
   "codemirror_mode": {
    "name": "ipython",
    "version": 3
   },
   "file_extension": ".py",
   "mimetype": "text/x-python",
   "name": "python",
   "nbconvert_exporter": "python",
   "pygments_lexer": "ipython3",
   "version": "3.6.0"
  }
 },
 "nbformat": 4,
 "nbformat_minor": 0
}
