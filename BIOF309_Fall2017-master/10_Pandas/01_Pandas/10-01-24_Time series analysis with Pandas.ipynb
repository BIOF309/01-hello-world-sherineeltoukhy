{
 "cells": [
  {
   "cell_type": "markdown",
   "metadata": {
    "button": false,
    "deletable": true,
    "new_sheet": false,
    "run_control": {
     "read_only": false
    }
   },
   "source": [
    "## Pandas \n",
    "#### An open source, BSD-licensed library providing high-performance, easy-to-use data structures and data analysis tools for the Python programming language.\n",
    "- [Pandas documentation](http://pandas.pydata.org/pandas-docs/dev)\n",
    "- [Pandas code repository](https://github.com/pydata/pandas)\n",
    "- [Pandas code example: Stock price analysis](https://github.com/pydata/pandas/blob/master/examples/finance.py)\n",
    "- [Pandas code example: Stock price regression](https://github.com/pydata/pandas/blob/master/examples/regressions.py)\n",
    "- [Clean data with Google Refine](http://code.google.com/p/google-refine/)"
   ]
  },
  {
   "cell_type": "code",
   "execution_count": 2,
   "metadata": {
    "button": false,
    "collapsed": false,
    "deletable": true,
    "new_sheet": false,
    "run_control": {
     "read_only": false
    }
   },
   "outputs": [],
   "source": [
    "import pandas as pd\n",
    "# html output of table\n",
    "from IPython.display import HTML\n",
    "\n",
    "dataset = 'Pandas'\n",
    "pd.set_printoptions(max_rows=10)"
   ]
  },
  {
   "cell_type": "code",
   "execution_count": 3,
   "metadata": {
    "button": false,
    "collapsed": false,
    "deletable": true,
    "new_sheet": false,
    "run_control": {
     "read_only": false
    }
   },
   "outputs": [],
   "source": [
    "users = pd.read_csv('data/' + dataset + 'Users.csv')\n",
    "posts = pd.read_csv('data/' + dataset + 'Posts.csv')\n",
    "answers = pd.read_csv('data/' + dataset + 'Answers.csv')\n",
    "answerers = pd.read_csv('data/' + dataset + 'Answerers.csv')\n",
    "\n",
    "all_users = users.append(answerers,ignore_index=True)"
   ]
  },
  {
   "cell_type": "code",
   "execution_count": 4,
   "metadata": {
    "button": false,
    "collapsed": false,
    "deletable": true,
    "new_sheet": false,
    "run_control": {
     "read_only": false
    }
   },
   "outputs": [
    {
     "data": {
      "text/html": [
       "<pre>\n",
       "&ltclass 'pandas.core.frame.DataFrame'&gt\n",
       "Int64Index: 1321 entries, 0 to 1320\n",
       "Data columns (total 31 columns):\n",
       "Id_post              1321  non-null values\n",
       "PostTypeId           1321  non-null values\n",
       "AcceptedAnswerId     915  non-null values\n",
       "CreationDate_post    1321  non-null values\n",
       "Score                1321  non-null values\n",
       "ViewCount            1321  non-null values\n",
       "Body                 1321  non-null values\n",
       "OwnerUserId          1321  non-null values\n",
       "OwnerDisplayName     1  non-null values\n",
       "LastEditorUserId     607  non-null values\n",
       "LastEditDate         607  non-null values\n",
       "LastActivityDate     1321  non-null values\n",
       "Title                1321  non-null values\n",
       "Tags                 1321  non-null values\n",
       "AnswerCount          1259  non-null values\n",
       "CommentCount         611  non-null values\n",
       "FavoriteCount        416  non-null values\n",
       "ClosedDate           29  non-null values\n",
       "Id_user              1321  non-null values\n",
       "Reputation           1321  non-null values\n",
       "CreationDate_user    1321  non-null values\n",
       "DisplayName          1321  non-null values\n",
       "LastAccessDate       1321  non-null values\n",
       "WebsiteUrl           256  non-null values\n",
       "Location             409  non-null values\n",
       "AboutMe              337  non-null values\n",
       "Views                1321  non-null values\n",
       "UpVotes              1321  non-null values\n",
       "DownVotes            1321  non-null values\n",
       "EmailHash            1321  non-null values\n",
       "Age                  256  non-null values\n",
       "dtypes: float64(6), int64(10), object(15)\n",
       "</pre>"
      ],
      "text/plain": [
       "<class 'pandas.core.frame.DataFrame'>\n",
       "Int64Index: 1321 entries, 0 to 1320\n",
       "Data columns (total 31 columns):\n",
       "Id_post              1321  non-null values\n",
       "PostTypeId           1321  non-null values\n",
       "AcceptedAnswerId     915  non-null values\n",
       "CreationDate_post    1321  non-null values\n",
       "Score                1321  non-null values\n",
       "ViewCount            1321  non-null values\n",
       "Body                 1321  non-null values\n",
       "OwnerUserId          1321  non-null values\n",
       "OwnerDisplayName     1  non-null values\n",
       "LastEditorUserId     607  non-null values\n",
       "LastEditDate         607  non-null values\n",
       "LastActivityDate     1321  non-null values\n",
       "Title                1321  non-null values\n",
       "Tags                 1321  non-null values\n",
       "AnswerCount          1259  non-null values\n",
       "CommentCount         611  non-null values\n",
       "FavoriteCount        416  non-null values\n",
       "ClosedDate           29  non-null values\n",
       "Id_user              1321  non-null values\n",
       "Reputation           1321  non-null values\n",
       "CreationDate_user    1321  non-null values\n",
       "DisplayName          1321  non-null values\n",
       "LastAccessDate       1321  non-null values\n",
       "WebsiteUrl           256  non-null values\n",
       "Location             409  non-null values\n",
       "AboutMe              337  non-null values\n",
       "Views                1321  non-null values\n",
       "UpVotes              1321  non-null values\n",
       "DownVotes            1321  non-null values\n",
       "EmailHash            1321  non-null values\n",
       "Age                  256  non-null values\n",
       "dtypes: float64(6), int64(10), object(15)"
      ]
     },
     "execution_count": 4,
     "metadata": {},
     "output_type": "execute_result"
    }
   ],
   "source": [
    "uposts = pd.merge(posts, all_users, left_on = 'OwnerUserId', right_on='Id', suffixes=['_post', '_user'])\n",
    "uposts"
   ]
  },
  {
   "cell_type": "code",
   "execution_count": 5,
   "metadata": {
    "button": false,
    "collapsed": false,
    "deletable": true,
    "new_sheet": false,
    "run_control": {
     "read_only": false
    }
   },
   "outputs": [
    {
     "data": {
      "text/plain": [
       "'2012-11-19 02:12:10'"
      ]
     },
     "execution_count": 5,
     "metadata": {},
     "output_type": "execute_result"
    }
   ],
   "source": [
    "# string, not computationally useful\n",
    "uposts.CreationDate_post[0]"
   ]
  },
  {
   "cell_type": "code",
   "execution_count": 7,
   "metadata": {
    "button": false,
    "collapsed": false,
    "deletable": true,
    "new_sheet": false,
    "run_control": {
     "read_only": false
    }
   },
   "outputs": [
    {
     "data": {
      "text/plain": [
       "<Timestamp: 2012-11-20 17:22:04>"
      ]
     },
     "execution_count": 7,
     "metadata": {},
     "output_type": "execute_result"
    }
   ],
   "source": [
    "# convert timestamp to datetime object\n",
    "tstamp = pd.to_datetime(uposts.CreationDate_post)[1]\n",
    "tstamp"
   ]
  },
  {
   "cell_type": "code",
   "execution_count": 8,
   "metadata": {
    "button": false,
    "collapsed": false,
    "deletable": true,
    "new_sheet": false,
    "run_control": {
     "read_only": false
    }
   },
   "outputs": [
    {
     "data": {
      "text/plain": [
       "1"
      ]
     },
     "execution_count": 8,
     "metadata": {},
     "output_type": "execute_result"
    }
   ],
   "source": [
    "tstamp.weekday()"
   ]
  },
  {
   "cell_type": "code",
   "execution_count": 9,
   "metadata": {
    "button": false,
    "collapsed": false,
    "deletable": true,
    "new_sheet": false,
    "run_control": {
     "read_only": false
    }
   },
   "outputs": [
    {
     "data": {
      "text/plain": [
       "CreationDate_post\n",
       "2012-11-19 02:12:10     74\n",
       "2012-11-20 17:22:04    107\n",
       "2012-12-30 17:19:57     65\n",
       "...\n",
       "2012-11-14 22:14:50     40\n",
       "2012-11-17 19:34:36     74\n",
       "2012-11-18 22:22:39    154\n",
       "Name: ViewCount, Length: 1321, dtype: int64"
      ]
     },
     "execution_count": 9,
     "metadata": {},
     "output_type": "execute_result"
    }
   ],
   "source": [
    "stamps = pd.to_datetime(uposts.CreationDate_post)\n",
    "post_views = uposts.ViewCount\n",
    "post_views.index = stamps\n",
    "post_views"
   ]
  },
  {
   "cell_type": "code",
   "execution_count": 10,
   "metadata": {
    "button": false,
    "collapsed": false,
    "deletable": true,
    "new_sheet": false,
    "run_control": {
     "read_only": false
    }
   },
   "outputs": [
    {
     "data": {
      "text/html": [
       "<div style=\"max-height:1000px;max-width:1500px;overflow:auto;\">\n",
       "<table border=\"1\" class=\"dataframe\">\n",
       "  <thead>\n",
       "    <tr style=\"text-align: right;\">\n",
       "      <th></th>\n",
       "      <th>count</th>\n",
       "      <th>sum</th>\n",
       "      <th>mean</th>\n",
       "      <th>min</th>\n",
       "      <th>max</th>\n",
       "    </tr>\n",
       "  </thead>\n",
       "  <tbody>\n",
       "    <tr>\n",
       "      <th>2011</th>\n",
       "      <td>   19</td>\n",
       "      <td>  37037</td>\n",
       "      <td> 1949.315789</td>\n",
       "      <td> 368</td>\n",
       "      <td> 6454</td>\n",
       "    </tr>\n",
       "    <tr>\n",
       "      <th>2012</th>\n",
       "      <td> 1073</td>\n",
       "      <td> 293750</td>\n",
       "      <td>  273.765144</td>\n",
       "      <td>  27</td>\n",
       "      <td> 3238</td>\n",
       "    </tr>\n",
       "    <tr>\n",
       "      <th>2013</th>\n",
       "      <td>  229</td>\n",
       "      <td>  13730</td>\n",
       "      <td>   59.956332</td>\n",
       "      <td>   5</td>\n",
       "      <td>  518</td>\n",
       "    </tr>\n",
       "  </tbody>\n",
       "</table>\n",
       "</div>"
      ],
      "text/plain": [
       "      count     sum         mean  min   max\n",
       "2011     19   37037  1949.315789  368  6454\n",
       "2012   1073  293750   273.765144   27  3238\n",
       "2013    229   13730    59.956332    5   518"
      ]
     },
     "execution_count": 10,
     "metadata": {},
     "output_type": "execute_result"
    }
   ],
   "source": [
    "post_views.groupby(post_views.index.year).agg(['count','sum','mean','min','max'])"
   ]
  },
  {
   "cell_type": "code",
   "execution_count": 15,
   "metadata": {
    "button": false,
    "collapsed": false,
    "deletable": true,
    "new_sheet": false,
    "run_control": {
     "read_only": false
    }
   },
   "outputs": [],
   "source": [
    "keys = [post_views.index.year, post_views.index.month ]\n"
   ]
  },
  {
   "cell_type": "code",
   "execution_count": 16,
   "metadata": {
    "button": false,
    "collapsed": false,
    "deletable": true,
    "new_sheet": false,
    "run_control": {
     "read_only": false
    }
   },
   "outputs": [
    {
     "data": {
      "text/html": [
       "<table border=\"1\" class=\"dataframe\">\n",
       "  <thead>\n",
       "    <tr style=\"text-align: right;\">\n",
       "      <th></th>\n",
       "      <th></th>\n",
       "      <th>count</th>\n",
       "      <th>sum</th>\n",
       "      <th>mean</th>\n",
       "    </tr>\n",
       "  </thead>\n",
       "  <tbody>\n",
       "    <tr>\n",
       "      <th rowspan=\"8\" valign=\"top\">2011</th>\n",
       "      <th>3 </th>\n",
       "      <td>   1</td>\n",
       "      <td>  1128</td>\n",
       "      <td> 1128.000000</td>\n",
       "    </tr>\n",
       "    <tr>\n",
       "      <th>4 </th>\n",
       "      <td>   4</td>\n",
       "      <td>  7828</td>\n",
       "      <td> 1957.000000</td>\n",
       "    </tr>\n",
       "    <tr>\n",
       "      <th>5 </th>\n",
       "      <td>   2</td>\n",
       "      <td> 12908</td>\n",
       "      <td> 6454.000000</td>\n",
       "    </tr>\n",
       "    <tr>\n",
       "      <th>6 </th>\n",
       "      <td>   1</td>\n",
       "      <td>  2035</td>\n",
       "      <td> 2035.000000</td>\n",
       "    </tr>\n",
       "    <tr>\n",
       "      <th>9 </th>\n",
       "      <td>   1</td>\n",
       "      <td>   960</td>\n",
       "      <td>  960.000000</td>\n",
       "    </tr>\n",
       "    <tr>\n",
       "      <th>10</th>\n",
       "      <td>   5</td>\n",
       "      <td>  8973</td>\n",
       "      <td> 1794.600000</td>\n",
       "    </tr>\n",
       "    <tr>\n",
       "      <th>11</th>\n",
       "      <td>   4</td>\n",
       "      <td>  2406</td>\n",
       "      <td>  601.500000</td>\n",
       "    </tr>\n",
       "    <tr>\n",
       "      <th>12</th>\n",
       "      <td>   1</td>\n",
       "      <td>   799</td>\n",
       "      <td>  799.000000</td>\n",
       "    </tr>\n",
       "    <tr>\n",
       "      <th rowspan=\"12\" valign=\"top\">2012</th>\n",
       "      <th>1 </th>\n",
       "      <td>   6</td>\n",
       "      <td>  4901</td>\n",
       "      <td>  816.833333</td>\n",
       "    </tr>\n",
       "    <tr>\n",
       "      <th>2 </th>\n",
       "      <td>   4</td>\n",
       "      <td>  3137</td>\n",
       "      <td>  784.250000</td>\n",
       "    </tr>\n",
       "    <tr>\n",
       "      <th>3 </th>\n",
       "      <td>  40</td>\n",
       "      <td> 27310</td>\n",
       "      <td>  682.750000</td>\n",
       "    </tr>\n",
       "    <tr>\n",
       "      <th>4 </th>\n",
       "      <td>  39</td>\n",
       "      <td> 25048</td>\n",
       "      <td>  642.256410</td>\n",
       "    </tr>\n",
       "    <tr>\n",
       "      <th>5 </th>\n",
       "      <td>  65</td>\n",
       "      <td> 35570</td>\n",
       "      <td>  547.230769</td>\n",
       "    </tr>\n",
       "    <tr>\n",
       "      <th>6 </th>\n",
       "      <td>  66</td>\n",
       "      <td> 27559</td>\n",
       "      <td>  417.560606</td>\n",
       "    </tr>\n",
       "    <tr>\n",
       "      <th>7 </th>\n",
       "      <td>  91</td>\n",
       "      <td> 40544</td>\n",
       "      <td>  445.538462</td>\n",
       "    </tr>\n",
       "    <tr>\n",
       "      <th>8 </th>\n",
       "      <td> 134</td>\n",
       "      <td> 40594</td>\n",
       "      <td>  302.940299</td>\n",
       "    </tr>\n",
       "    <tr>\n",
       "      <th>9 </th>\n",
       "      <td> 147</td>\n",
       "      <td> 32921</td>\n",
       "      <td>  223.952381</td>\n",
       "    </tr>\n",
       "    <tr>\n",
       "      <th>10</th>\n",
       "      <td> 148</td>\n",
       "      <td> 23630</td>\n",
       "      <td>  159.662162</td>\n",
       "    </tr>\n",
       "    <tr>\n",
       "      <th>11</th>\n",
       "      <td> 163</td>\n",
       "      <td> 18153</td>\n",
       "      <td>  111.368098</td>\n",
       "    </tr>\n",
       "    <tr>\n",
       "      <th>12</th>\n",
       "      <td> 170</td>\n",
       "      <td> 14383</td>\n",
       "      <td>   84.605882</td>\n",
       "    </tr>\n",
       "    <tr>\n",
       "      <th rowspan=\"2\" valign=\"top\">2013</th>\n",
       "      <th>1 </th>\n",
       "      <td> 211</td>\n",
       "      <td> 13112</td>\n",
       "      <td>   62.142180</td>\n",
       "    </tr>\n",
       "    <tr>\n",
       "      <th>2 </th>\n",
       "      <td>  18</td>\n",
       "      <td>   618</td>\n",
       "      <td>   34.333333</td>\n",
       "    </tr>\n",
       "  </tbody>\n",
       "</table>"
      ],
      "text/plain": [
       "<IPython.core.display.HTML at 0x10bf00c50>"
      ]
     },
     "execution_count": 16,
     "metadata": {},
     "output_type": "execute_result"
    }
   ],
   "source": [
    "# pivot table\n",
    "pview = post_views.groupby(keys).agg(['count','sum','mean'])\n",
    "HTML(pview.to_html()) "
   ]
  },
  {
   "cell_type": "code",
   "execution_count": 27,
   "metadata": {
    "button": false,
    "collapsed": false,
    "deletable": true,
    "new_sheet": false,
    "run_control": {
     "read_only": false
    }
   },
   "outputs": [
    {
     "data": {
      "text/html": [
       "<table border=\"1\" class=\"dataframe\">\n",
       "  <thead>\n",
       "    <tr>\n",
       "      <th></th>\n",
       "      <th colspan=\"3\" halign=\"left\">count</th>\n",
       "      <th colspan=\"3\" halign=\"left\">sum</th>\n",
       "      <th colspan=\"3\" halign=\"left\">mean</th>\n",
       "    </tr>\n",
       "    <tr>\n",
       "      <th></th>\n",
       "      <th>2011</th>\n",
       "      <th>2012</th>\n",
       "      <th>2013</th>\n",
       "      <th>2011</th>\n",
       "      <th>2012</th>\n",
       "      <th>2013</th>\n",
       "      <th>2011</th>\n",
       "      <th>2012</th>\n",
       "      <th>2013</th>\n",
       "    </tr>\n",
       "  </thead>\n",
       "  <tbody>\n",
       "    <tr>\n",
       "      <th>1 </th>\n",
       "      <td>NaN</td>\n",
       "      <td>   6</td>\n",
       "      <td> 211</td>\n",
       "      <td>   NaN</td>\n",
       "      <td>  4901</td>\n",
       "      <td> 13112</td>\n",
       "      <td>    NaN</td>\n",
       "      <td> 816.833333</td>\n",
       "      <td> 62.142180</td>\n",
       "    </tr>\n",
       "    <tr>\n",
       "      <th>2 </th>\n",
       "      <td>NaN</td>\n",
       "      <td>   4</td>\n",
       "      <td>  18</td>\n",
       "      <td>   NaN</td>\n",
       "      <td>  3137</td>\n",
       "      <td>   618</td>\n",
       "      <td>    NaN</td>\n",
       "      <td> 784.250000</td>\n",
       "      <td> 34.333333</td>\n",
       "    </tr>\n",
       "    <tr>\n",
       "      <th>3 </th>\n",
       "      <td>  1</td>\n",
       "      <td>  40</td>\n",
       "      <td> NaN</td>\n",
       "      <td>  1128</td>\n",
       "      <td> 27310</td>\n",
       "      <td>   NaN</td>\n",
       "      <td> 1128.0</td>\n",
       "      <td> 682.750000</td>\n",
       "      <td>       NaN</td>\n",
       "    </tr>\n",
       "    <tr>\n",
       "      <th>4 </th>\n",
       "      <td>  4</td>\n",
       "      <td>  39</td>\n",
       "      <td> NaN</td>\n",
       "      <td>  7828</td>\n",
       "      <td> 25048</td>\n",
       "      <td>   NaN</td>\n",
       "      <td> 1957.0</td>\n",
       "      <td> 642.256410</td>\n",
       "      <td>       NaN</td>\n",
       "    </tr>\n",
       "    <tr>\n",
       "      <th>5 </th>\n",
       "      <td>  2</td>\n",
       "      <td>  65</td>\n",
       "      <td> NaN</td>\n",
       "      <td> 12908</td>\n",
       "      <td> 35570</td>\n",
       "      <td>   NaN</td>\n",
       "      <td> 6454.0</td>\n",
       "      <td> 547.230769</td>\n",
       "      <td>       NaN</td>\n",
       "    </tr>\n",
       "    <tr>\n",
       "      <th>6 </th>\n",
       "      <td>  1</td>\n",
       "      <td>  66</td>\n",
       "      <td> NaN</td>\n",
       "      <td>  2035</td>\n",
       "      <td> 27559</td>\n",
       "      <td>   NaN</td>\n",
       "      <td> 2035.0</td>\n",
       "      <td> 417.560606</td>\n",
       "      <td>       NaN</td>\n",
       "    </tr>\n",
       "    <tr>\n",
       "      <th>7 </th>\n",
       "      <td>NaN</td>\n",
       "      <td>  91</td>\n",
       "      <td> NaN</td>\n",
       "      <td>   NaN</td>\n",
       "      <td> 40544</td>\n",
       "      <td>   NaN</td>\n",
       "      <td>    NaN</td>\n",
       "      <td> 445.538462</td>\n",
       "      <td>       NaN</td>\n",
       "    </tr>\n",
       "    <tr>\n",
       "      <th>8 </th>\n",
       "      <td>NaN</td>\n",
       "      <td> 134</td>\n",
       "      <td> NaN</td>\n",
       "      <td>   NaN</td>\n",
       "      <td> 40594</td>\n",
       "      <td>   NaN</td>\n",
       "      <td>    NaN</td>\n",
       "      <td> 302.940299</td>\n",
       "      <td>       NaN</td>\n",
       "    </tr>\n",
       "    <tr>\n",
       "      <th>9 </th>\n",
       "      <td>  1</td>\n",
       "      <td> 147</td>\n",
       "      <td> NaN</td>\n",
       "      <td>   960</td>\n",
       "      <td> 32921</td>\n",
       "      <td>   NaN</td>\n",
       "      <td>  960.0</td>\n",
       "      <td> 223.952381</td>\n",
       "      <td>       NaN</td>\n",
       "    </tr>\n",
       "    <tr>\n",
       "      <th>10</th>\n",
       "      <td>  5</td>\n",
       "      <td> 148</td>\n",
       "      <td> NaN</td>\n",
       "      <td>  8973</td>\n",
       "      <td> 23630</td>\n",
       "      <td>   NaN</td>\n",
       "      <td> 1794.6</td>\n",
       "      <td> 159.662162</td>\n",
       "      <td>       NaN</td>\n",
       "    </tr>\n",
       "    <tr>\n",
       "      <th>11</th>\n",
       "      <td>  4</td>\n",
       "      <td> 163</td>\n",
       "      <td> NaN</td>\n",
       "      <td>  2406</td>\n",
       "      <td> 18153</td>\n",
       "      <td>   NaN</td>\n",
       "      <td>  601.5</td>\n",
       "      <td> 111.368098</td>\n",
       "      <td>       NaN</td>\n",
       "    </tr>\n",
       "    <tr>\n",
       "      <th>12</th>\n",
       "      <td>  1</td>\n",
       "      <td> 170</td>\n",
       "      <td> NaN</td>\n",
       "      <td>   799</td>\n",
       "      <td> 14383</td>\n",
       "      <td>   NaN</td>\n",
       "      <td>  799.0</td>\n",
       "      <td>  84.605882</td>\n",
       "      <td>       NaN</td>\n",
       "    </tr>\n",
       "  </tbody>\n",
       "</table>"
      ],
      "text/plain": [
       "<IPython.core.display.HTML at 0x10e016c50>"
      ]
     },
     "execution_count": 27,
     "metadata": {},
     "output_type": "execute_result"
    }
   ],
   "source": [
    "HTML(pview.unstack(0).to_html()) "
   ]
  },
  {
   "cell_type": "code",
   "execution_count": 28,
   "metadata": {
    "button": false,
    "collapsed": false,
    "deletable": true,
    "new_sheet": false,
    "run_control": {
     "read_only": false
    }
   },
   "outputs": [
    {
     "data": {
      "text/html": [
       "<table border=\"1\" class=\"dataframe\">\n",
       "  <thead>\n",
       "    <tr>\n",
       "      <th></th>\n",
       "      <th colspan=\"3\" halign=\"left\">count</th>\n",
       "      <th colspan=\"3\" halign=\"left\">sum</th>\n",
       "      <th colspan=\"3\" halign=\"left\">mean</th>\n",
       "    </tr>\n",
       "    <tr>\n",
       "      <th></th>\n",
       "      <th>2011</th>\n",
       "      <th>2012</th>\n",
       "      <th>2013</th>\n",
       "      <th>2011</th>\n",
       "      <th>2012</th>\n",
       "      <th>2013</th>\n",
       "      <th>2011</th>\n",
       "      <th>2012</th>\n",
       "      <th>2013</th>\n",
       "    </tr>\n",
       "  </thead>\n",
       "  <tbody>\n",
       "    <tr>\n",
       "      <th>1 </th>\n",
       "      <td>NaN</td>\n",
       "      <td>   6</td>\n",
       "      <td> 211</td>\n",
       "      <td>   NaN</td>\n",
       "      <td>  4901</td>\n",
       "      <td> 13112</td>\n",
       "      <td>    NaN</td>\n",
       "      <td> 816.833333</td>\n",
       "      <td> 62.142180</td>\n",
       "    </tr>\n",
       "    <tr>\n",
       "      <th>2 </th>\n",
       "      <td>NaN</td>\n",
       "      <td>   4</td>\n",
       "      <td>  18</td>\n",
       "      <td>   NaN</td>\n",
       "      <td>  3137</td>\n",
       "      <td>   618</td>\n",
       "      <td>    NaN</td>\n",
       "      <td> 784.250000</td>\n",
       "      <td> 34.333333</td>\n",
       "    </tr>\n",
       "    <tr>\n",
       "      <th>3 </th>\n",
       "      <td>  1</td>\n",
       "      <td>  40</td>\n",
       "      <td> NaN</td>\n",
       "      <td>  1128</td>\n",
       "      <td> 27310</td>\n",
       "      <td>   NaN</td>\n",
       "      <td> 1128.0</td>\n",
       "      <td> 682.750000</td>\n",
       "      <td>       NaN</td>\n",
       "    </tr>\n",
       "    <tr>\n",
       "      <th>4 </th>\n",
       "      <td>  4</td>\n",
       "      <td>  39</td>\n",
       "      <td> NaN</td>\n",
       "      <td>  7828</td>\n",
       "      <td> 25048</td>\n",
       "      <td>   NaN</td>\n",
       "      <td> 1957.0</td>\n",
       "      <td> 642.256410</td>\n",
       "      <td>       NaN</td>\n",
       "    </tr>\n",
       "    <tr>\n",
       "      <th>5 </th>\n",
       "      <td>  2</td>\n",
       "      <td>  65</td>\n",
       "      <td> NaN</td>\n",
       "      <td> 12908</td>\n",
       "      <td> 35570</td>\n",
       "      <td>   NaN</td>\n",
       "      <td> 6454.0</td>\n",
       "      <td> 547.230769</td>\n",
       "      <td>       NaN</td>\n",
       "    </tr>\n",
       "    <tr>\n",
       "      <th>6 </th>\n",
       "      <td>  1</td>\n",
       "      <td>  66</td>\n",
       "      <td> NaN</td>\n",
       "      <td>  2035</td>\n",
       "      <td> 27559</td>\n",
       "      <td>   NaN</td>\n",
       "      <td> 2035.0</td>\n",
       "      <td> 417.560606</td>\n",
       "      <td>       NaN</td>\n",
       "    </tr>\n",
       "    <tr>\n",
       "      <th>7 </th>\n",
       "      <td>NaN</td>\n",
       "      <td>  91</td>\n",
       "      <td> NaN</td>\n",
       "      <td>   NaN</td>\n",
       "      <td> 40544</td>\n",
       "      <td>   NaN</td>\n",
       "      <td>    NaN</td>\n",
       "      <td> 445.538462</td>\n",
       "      <td>       NaN</td>\n",
       "    </tr>\n",
       "    <tr>\n",
       "      <th>8 </th>\n",
       "      <td>NaN</td>\n",
       "      <td> 134</td>\n",
       "      <td> NaN</td>\n",
       "      <td>   NaN</td>\n",
       "      <td> 40594</td>\n",
       "      <td>   NaN</td>\n",
       "      <td>    NaN</td>\n",
       "      <td> 302.940299</td>\n",
       "      <td>       NaN</td>\n",
       "    </tr>\n",
       "    <tr>\n",
       "      <th>9 </th>\n",
       "      <td>  1</td>\n",
       "      <td> 147</td>\n",
       "      <td> NaN</td>\n",
       "      <td>   960</td>\n",
       "      <td> 32921</td>\n",
       "      <td>   NaN</td>\n",
       "      <td>  960.0</td>\n",
       "      <td> 223.952381</td>\n",
       "      <td>       NaN</td>\n",
       "    </tr>\n",
       "    <tr>\n",
       "      <th>10</th>\n",
       "      <td>  5</td>\n",
       "      <td> 148</td>\n",
       "      <td> NaN</td>\n",
       "      <td>  8973</td>\n",
       "      <td> 23630</td>\n",
       "      <td>   NaN</td>\n",
       "      <td> 1794.6</td>\n",
       "      <td> 159.662162</td>\n",
       "      <td>       NaN</td>\n",
       "    </tr>\n",
       "    <tr>\n",
       "      <th>11</th>\n",
       "      <td>  4</td>\n",
       "      <td> 163</td>\n",
       "      <td> NaN</td>\n",
       "      <td>  2406</td>\n",
       "      <td> 18153</td>\n",
       "      <td>   NaN</td>\n",
       "      <td>  601.5</td>\n",
       "      <td> 111.368098</td>\n",
       "      <td>       NaN</td>\n",
       "    </tr>\n",
       "    <tr>\n",
       "      <th>12</th>\n",
       "      <td>  1</td>\n",
       "      <td> 170</td>\n",
       "      <td> NaN</td>\n",
       "      <td>   799</td>\n",
       "      <td> 14383</td>\n",
       "      <td>   NaN</td>\n",
       "      <td>  799.0</td>\n",
       "      <td>  84.605882</td>\n",
       "      <td>       NaN</td>\n",
       "    </tr>\n",
       "  </tbody>\n",
       "</table>"
      ],
      "text/plain": [
       "<IPython.core.display.HTML at 0x10e016810>"
      ]
     },
     "execution_count": 28,
     "metadata": {},
     "output_type": "execute_result"
    }
   ],
   "source": [
    "HTML(pview.unstack(0).to_html()) "
   ]
  },
  {
   "cell_type": "code",
   "execution_count": 29,
   "metadata": {
    "button": false,
    "collapsed": false,
    "deletable": true,
    "new_sheet": false,
    "run_control": {
     "read_only": false
    }
   },
   "outputs": [
    {
     "data": {
      "text/html": [
       "<table border=\"1\" class=\"dataframe\">\n",
       "  <thead>\n",
       "    <tr>\n",
       "      <th></th>\n",
       "      <th colspan=\"3\" halign=\"left\">count</th>\n",
       "      <th colspan=\"3\" halign=\"left\">sum</th>\n",
       "      <th colspan=\"3\" halign=\"left\">mean</th>\n",
       "    </tr>\n",
       "    <tr>\n",
       "      <th></th>\n",
       "      <th>2011</th>\n",
       "      <th>2012</th>\n",
       "      <th>2013</th>\n",
       "      <th>2011</th>\n",
       "      <th>2012</th>\n",
       "      <th>2013</th>\n",
       "      <th>2011</th>\n",
       "      <th>2012</th>\n",
       "      <th>2013</th>\n",
       "    </tr>\n",
       "  </thead>\n",
       "  <tbody>\n",
       "    <tr>\n",
       "      <th>1 </th>\n",
       "      <td> 0</td>\n",
       "      <td>   6</td>\n",
       "      <td> 211</td>\n",
       "      <td>     0</td>\n",
       "      <td>  4901</td>\n",
       "      <td> 13112</td>\n",
       "      <td>    0.0</td>\n",
       "      <td> 816.833333</td>\n",
       "      <td> 62.142180</td>\n",
       "    </tr>\n",
       "    <tr>\n",
       "      <th>2 </th>\n",
       "      <td> 0</td>\n",
       "      <td>   4</td>\n",
       "      <td>  18</td>\n",
       "      <td>     0</td>\n",
       "      <td>  3137</td>\n",
       "      <td>   618</td>\n",
       "      <td>    0.0</td>\n",
       "      <td> 784.250000</td>\n",
       "      <td> 34.333333</td>\n",
       "    </tr>\n",
       "    <tr>\n",
       "      <th>3 </th>\n",
       "      <td> 1</td>\n",
       "      <td>  40</td>\n",
       "      <td>   0</td>\n",
       "      <td>  1128</td>\n",
       "      <td> 27310</td>\n",
       "      <td>     0</td>\n",
       "      <td> 1128.0</td>\n",
       "      <td> 682.750000</td>\n",
       "      <td>  0.000000</td>\n",
       "    </tr>\n",
       "    <tr>\n",
       "      <th>4 </th>\n",
       "      <td> 4</td>\n",
       "      <td>  39</td>\n",
       "      <td>   0</td>\n",
       "      <td>  7828</td>\n",
       "      <td> 25048</td>\n",
       "      <td>     0</td>\n",
       "      <td> 1957.0</td>\n",
       "      <td> 642.256410</td>\n",
       "      <td>  0.000000</td>\n",
       "    </tr>\n",
       "    <tr>\n",
       "      <th>5 </th>\n",
       "      <td> 2</td>\n",
       "      <td>  65</td>\n",
       "      <td>   0</td>\n",
       "      <td> 12908</td>\n",
       "      <td> 35570</td>\n",
       "      <td>     0</td>\n",
       "      <td> 6454.0</td>\n",
       "      <td> 547.230769</td>\n",
       "      <td>  0.000000</td>\n",
       "    </tr>\n",
       "    <tr>\n",
       "      <th>6 </th>\n",
       "      <td> 1</td>\n",
       "      <td>  66</td>\n",
       "      <td>   0</td>\n",
       "      <td>  2035</td>\n",
       "      <td> 27559</td>\n",
       "      <td>     0</td>\n",
       "      <td> 2035.0</td>\n",
       "      <td> 417.560606</td>\n",
       "      <td>  0.000000</td>\n",
       "    </tr>\n",
       "    <tr>\n",
       "      <th>7 </th>\n",
       "      <td> 0</td>\n",
       "      <td>  91</td>\n",
       "      <td>   0</td>\n",
       "      <td>     0</td>\n",
       "      <td> 40544</td>\n",
       "      <td>     0</td>\n",
       "      <td>    0.0</td>\n",
       "      <td> 445.538462</td>\n",
       "      <td>  0.000000</td>\n",
       "    </tr>\n",
       "    <tr>\n",
       "      <th>8 </th>\n",
       "      <td> 0</td>\n",
       "      <td> 134</td>\n",
       "      <td>   0</td>\n",
       "      <td>     0</td>\n",
       "      <td> 40594</td>\n",
       "      <td>     0</td>\n",
       "      <td>    0.0</td>\n",
       "      <td> 302.940299</td>\n",
       "      <td>  0.000000</td>\n",
       "    </tr>\n",
       "    <tr>\n",
       "      <th>9 </th>\n",
       "      <td> 1</td>\n",
       "      <td> 147</td>\n",
       "      <td>   0</td>\n",
       "      <td>   960</td>\n",
       "      <td> 32921</td>\n",
       "      <td>     0</td>\n",
       "      <td>  960.0</td>\n",
       "      <td> 223.952381</td>\n",
       "      <td>  0.000000</td>\n",
       "    </tr>\n",
       "    <tr>\n",
       "      <th>10</th>\n",
       "      <td> 5</td>\n",
       "      <td> 148</td>\n",
       "      <td>   0</td>\n",
       "      <td>  8973</td>\n",
       "      <td> 23630</td>\n",
       "      <td>     0</td>\n",
       "      <td> 1794.6</td>\n",
       "      <td> 159.662162</td>\n",
       "      <td>  0.000000</td>\n",
       "    </tr>\n",
       "    <tr>\n",
       "      <th>11</th>\n",
       "      <td> 4</td>\n",
       "      <td> 163</td>\n",
       "      <td>   0</td>\n",
       "      <td>  2406</td>\n",
       "      <td> 18153</td>\n",
       "      <td>     0</td>\n",
       "      <td>  601.5</td>\n",
       "      <td> 111.368098</td>\n",
       "      <td>  0.000000</td>\n",
       "    </tr>\n",
       "    <tr>\n",
       "      <th>12</th>\n",
       "      <td> 1</td>\n",
       "      <td> 170</td>\n",
       "      <td>   0</td>\n",
       "      <td>   799</td>\n",
       "      <td> 14383</td>\n",
       "      <td>     0</td>\n",
       "      <td>  799.0</td>\n",
       "      <td>  84.605882</td>\n",
       "      <td>  0.000000</td>\n",
       "    </tr>\n",
       "  </tbody>\n",
       "</table>"
      ],
      "text/plain": [
       "<IPython.core.display.HTML at 0x10e016710>"
      ]
     },
     "execution_count": 29,
     "metadata": {},
     "output_type": "execute_result"
    }
   ],
   "source": [
    "HTML(pview.unstack(0).fillna(0).to_html()) "
   ]
  },
  {
   "cell_type": "code",
   "execution_count": 30,
   "metadata": {
    "button": false,
    "collapsed": false,
    "deletable": true,
    "new_sheet": false,
    "run_control": {
     "read_only": false
    }
   },
   "outputs": [
    {
     "data": {
      "text/html": [
       "<table border=\"1\" class=\"dataframe\">\n",
       "  <thead>\n",
       "    <tr style=\"text-align: right;\">\n",
       "      <th></th>\n",
       "      <th>2011</th>\n",
       "      <th>2012</th>\n",
       "      <th>2013</th>\n",
       "    </tr>\n",
       "  </thead>\n",
       "  <tbody>\n",
       "    <tr>\n",
       "      <th>1 </th>\n",
       "      <td>   NaN</td>\n",
       "      <td>  4901</td>\n",
       "      <td> 13112</td>\n",
       "    </tr>\n",
       "    <tr>\n",
       "      <th>2 </th>\n",
       "      <td>   NaN</td>\n",
       "      <td>  3137</td>\n",
       "      <td>   618</td>\n",
       "    </tr>\n",
       "    <tr>\n",
       "      <th>3 </th>\n",
       "      <td>  1128</td>\n",
       "      <td> 27310</td>\n",
       "      <td>   NaN</td>\n",
       "    </tr>\n",
       "    <tr>\n",
       "      <th>4 </th>\n",
       "      <td>  7828</td>\n",
       "      <td> 25048</td>\n",
       "      <td>   NaN</td>\n",
       "    </tr>\n",
       "    <tr>\n",
       "      <th>5 </th>\n",
       "      <td> 12908</td>\n",
       "      <td> 35570</td>\n",
       "      <td>   NaN</td>\n",
       "    </tr>\n",
       "    <tr>\n",
       "      <th>6 </th>\n",
       "      <td>  2035</td>\n",
       "      <td> 27559</td>\n",
       "      <td>   NaN</td>\n",
       "    </tr>\n",
       "    <tr>\n",
       "      <th>7 </th>\n",
       "      <td>   NaN</td>\n",
       "      <td> 40544</td>\n",
       "      <td>   NaN</td>\n",
       "    </tr>\n",
       "    <tr>\n",
       "      <th>8 </th>\n",
       "      <td>   NaN</td>\n",
       "      <td> 40594</td>\n",
       "      <td>   NaN</td>\n",
       "    </tr>\n",
       "    <tr>\n",
       "      <th>9 </th>\n",
       "      <td>   960</td>\n",
       "      <td> 32921</td>\n",
       "      <td>   NaN</td>\n",
       "    </tr>\n",
       "    <tr>\n",
       "      <th>10</th>\n",
       "      <td>  8973</td>\n",
       "      <td> 23630</td>\n",
       "      <td>   NaN</td>\n",
       "    </tr>\n",
       "    <tr>\n",
       "      <th>11</th>\n",
       "      <td>  2406</td>\n",
       "      <td> 18153</td>\n",
       "      <td>   NaN</td>\n",
       "    </tr>\n",
       "    <tr>\n",
       "      <th>12</th>\n",
       "      <td>   799</td>\n",
       "      <td> 14383</td>\n",
       "      <td>   NaN</td>\n",
       "    </tr>\n",
       "  </tbody>\n",
       "</table>"
      ],
      "text/plain": [
       "<IPython.core.display.HTML at 0x10e016cd0>"
      ]
     },
     "execution_count": 30,
     "metadata": {},
     "output_type": "execute_result"
    }
   ],
   "source": [
    "HTML(pview.unstack(0)['sum'].to_html()) "
   ]
  },
  {
   "cell_type": "code",
   "execution_count": 31,
   "metadata": {
    "button": false,
    "collapsed": false,
    "deletable": true,
    "new_sheet": false,
    "run_control": {
     "read_only": false
    }
   },
   "outputs": [
    {
     "data": {
      "text/plain": [
       "1     4901\n",
       "2     3137\n",
       "3    27310\n",
       "...\n",
       "10    23630\n",
       "11    18153\n",
       "12    14383\n",
       "Name: (sum, 2012), Length: 12, dtype: float64"
      ]
     },
     "execution_count": 31,
     "metadata": {},
     "output_type": "execute_result"
    }
   ],
   "source": [
    "pview.unstack(0)['sum', 2012]\n",
    "\n",
    "# 27310.0\n",
    "# pview.unstack(0)['sum', 2012][3]"
   ]
  },
  {
   "cell_type": "code",
   "execution_count": 32,
   "metadata": {
    "button": false,
    "collapsed": false,
    "deletable": true,
    "new_sheet": false,
    "run_control": {
     "read_only": false
    }
   },
   "outputs": [
    {
     "data": {
      "text/html": [
       "<table border=\"1\" class=\"dataframe\">\n",
       "  <thead>\n",
       "    <tr style=\"text-align: right;\">\n",
       "      <th></th>\n",
       "      <th></th>\n",
       "      <th>count</th>\n",
       "      <th>sum</th>\n",
       "      <th>mean</th>\n",
       "    </tr>\n",
       "  </thead>\n",
       "  <tbody>\n",
       "    <tr>\n",
       "      <th rowspan=\"2\" valign=\"top\">1 </th>\n",
       "      <th>2012</th>\n",
       "      <td>   6</td>\n",
       "      <td>  4901</td>\n",
       "      <td>  816.833333</td>\n",
       "    </tr>\n",
       "    <tr>\n",
       "      <th>2013</th>\n",
       "      <td> 211</td>\n",
       "      <td> 13112</td>\n",
       "      <td>   62.142180</td>\n",
       "    </tr>\n",
       "    <tr>\n",
       "      <th rowspan=\"2\" valign=\"top\">2 </th>\n",
       "      <th>2012</th>\n",
       "      <td>   4</td>\n",
       "      <td>  3137</td>\n",
       "      <td>  784.250000</td>\n",
       "    </tr>\n",
       "    <tr>\n",
       "      <th>2013</th>\n",
       "      <td>  18</td>\n",
       "      <td>   618</td>\n",
       "      <td>   34.333333</td>\n",
       "    </tr>\n",
       "    <tr>\n",
       "      <th rowspan=\"2\" valign=\"top\">3 </th>\n",
       "      <th>2011</th>\n",
       "      <td>   1</td>\n",
       "      <td>  1128</td>\n",
       "      <td> 1128.000000</td>\n",
       "    </tr>\n",
       "    <tr>\n",
       "      <th>2012</th>\n",
       "      <td>  40</td>\n",
       "      <td> 27310</td>\n",
       "      <td>  682.750000</td>\n",
       "    </tr>\n",
       "    <tr>\n",
       "      <th rowspan=\"2\" valign=\"top\">4 </th>\n",
       "      <th>2011</th>\n",
       "      <td>   4</td>\n",
       "      <td>  7828</td>\n",
       "      <td> 1957.000000</td>\n",
       "    </tr>\n",
       "    <tr>\n",
       "      <th>2012</th>\n",
       "      <td>  39</td>\n",
       "      <td> 25048</td>\n",
       "      <td>  642.256410</td>\n",
       "    </tr>\n",
       "    <tr>\n",
       "      <th rowspan=\"2\" valign=\"top\">5 </th>\n",
       "      <th>2011</th>\n",
       "      <td>   2</td>\n",
       "      <td> 12908</td>\n",
       "      <td> 6454.000000</td>\n",
       "    </tr>\n",
       "    <tr>\n",
       "      <th>2012</th>\n",
       "      <td>  65</td>\n",
       "      <td> 35570</td>\n",
       "      <td>  547.230769</td>\n",
       "    </tr>\n",
       "    <tr>\n",
       "      <th rowspan=\"2\" valign=\"top\">6 </th>\n",
       "      <th>2011</th>\n",
       "      <td>   1</td>\n",
       "      <td>  2035</td>\n",
       "      <td> 2035.000000</td>\n",
       "    </tr>\n",
       "    <tr>\n",
       "      <th>2012</th>\n",
       "      <td>  66</td>\n",
       "      <td> 27559</td>\n",
       "      <td>  417.560606</td>\n",
       "    </tr>\n",
       "    <tr>\n",
       "      <th>7 </th>\n",
       "      <th>2012</th>\n",
       "      <td>  91</td>\n",
       "      <td> 40544</td>\n",
       "      <td>  445.538462</td>\n",
       "    </tr>\n",
       "    <tr>\n",
       "      <th>8 </th>\n",
       "      <th>2012</th>\n",
       "      <td> 134</td>\n",
       "      <td> 40594</td>\n",
       "      <td>  302.940299</td>\n",
       "    </tr>\n",
       "    <tr>\n",
       "      <th rowspan=\"2\" valign=\"top\">9 </th>\n",
       "      <th>2011</th>\n",
       "      <td>   1</td>\n",
       "      <td>   960</td>\n",
       "      <td>  960.000000</td>\n",
       "    </tr>\n",
       "    <tr>\n",
       "      <th>2012</th>\n",
       "      <td> 147</td>\n",
       "      <td> 32921</td>\n",
       "      <td>  223.952381</td>\n",
       "    </tr>\n",
       "    <tr>\n",
       "      <th rowspan=\"2\" valign=\"top\">10</th>\n",
       "      <th>2011</th>\n",
       "      <td>   5</td>\n",
       "      <td>  8973</td>\n",
       "      <td> 1794.600000</td>\n",
       "    </tr>\n",
       "    <tr>\n",
       "      <th>2012</th>\n",
       "      <td> 148</td>\n",
       "      <td> 23630</td>\n",
       "      <td>  159.662162</td>\n",
       "    </tr>\n",
       "    <tr>\n",
       "      <th rowspan=\"2\" valign=\"top\">11</th>\n",
       "      <th>2011</th>\n",
       "      <td>   4</td>\n",
       "      <td>  2406</td>\n",
       "      <td>  601.500000</td>\n",
       "    </tr>\n",
       "    <tr>\n",
       "      <th>2012</th>\n",
       "      <td> 163</td>\n",
       "      <td> 18153</td>\n",
       "      <td>  111.368098</td>\n",
       "    </tr>\n",
       "    <tr>\n",
       "      <th rowspan=\"2\" valign=\"top\">12</th>\n",
       "      <th>2011</th>\n",
       "      <td>   1</td>\n",
       "      <td>   799</td>\n",
       "      <td>  799.000000</td>\n",
       "    </tr>\n",
       "    <tr>\n",
       "      <th>2012</th>\n",
       "      <td> 170</td>\n",
       "      <td> 14383</td>\n",
       "      <td>   84.605882</td>\n",
       "    </tr>\n",
       "  </tbody>\n",
       "</table>"
      ],
      "text/plain": [
       "<IPython.core.display.HTML at 0x10e5cef50>"
      ]
     },
     "execution_count": 32,
     "metadata": {},
     "output_type": "execute_result"
    }
   ],
   "source": [
    "pd.options.display.max_columns = 25\n",
    "HTML(pview.unstack(0).stack().to_html()) "
   ]
  },
  {
   "cell_type": "code",
   "execution_count": 43,
   "metadata": {
    "button": false,
    "collapsed": false,
    "deletable": true,
    "new_sheet": false,
    "run_control": {
     "read_only": false
    }
   },
   "outputs": [
    {
     "data": {
      "text/plain": [
       "<matplotlib.axes.AxesSubplot at 0x13cf99c10>"
      ]
     },
     "execution_count": 43,
     "metadata": {},
     "output_type": "execute_result"
    },
    {
     "data": {
      "image/png": "[encoded data removed]",
      "text/plain": [
       "<matplotlib.figure.Figure at 0x13cfa7f10>"
      ]
     },
     "metadata": {},
     "output_type": "display_data"
    }
   ],
   "source": [
    "pview = post_views.groupby(keys) \n",
    "# plot reference http://pandas.pydata.org/pandas-docs/dev/visualization.html\n",
    "pview.resample('M',how='count').plot(kind='bar')\n",
    "                                    "
   ]
  },
  {
   "cell_type": "code",
   "execution_count": 44,
   "metadata": {
    "button": false,
    "collapsed": false,
    "deletable": true,
    "new_sheet": false,
    "run_control": {
     "read_only": false
    }
   },
   "outputs": [
    {
     "data": {
      "text/plain": [
       "         CreationDate_post\n",
       "2011  3  2011-03-31            1128\n",
       "      4  2011-04-30            7828\n",
       "      5  2011-05-31           12908\n",
       "...\n",
       "2012  12  2012-12-31           14383\n",
       "2013  1   2013-01-31           13112\n",
       "      2   2013-02-28             618\n",
       "Length: 22, dtype: int64"
      ]
     },
     "execution_count": 44,
     "metadata": {},
     "output_type": "execute_result"
    }
   ],
   "source": [
    "# frequency conversion and resampling of regular time-series data.\n",
    "pview.resample('M',how='sum')"
   ]
  },
  {
   "cell_type": "code",
   "execution_count": 45,
   "metadata": {
    "button": false,
    "collapsed": false,
    "deletable": true,
    "new_sheet": false,
    "run_control": {
     "read_only": false
    }
   },
   "outputs": [
    {
     "data": {
      "text/plain": [
       "<matplotlib.axes.AxesSubplot at 0x13cf8d6d0>"
      ]
     },
     "execution_count": 45,
     "metadata": {},
     "output_type": "execute_result"
    },
    {
     "data": {
      "image/png": "[encoded data removed]",
      "text/plain": [
       "<matplotlib.figure.Figure at 0x13cdb5a10>"
      ]
     },
     "metadata": {},
     "output_type": "display_data"
    }
   ],
   "source": [
    "# http://pandas.pydata.org/pandas-docs/dev/timeseries.html\n",
    "pview.resample('M',how='count').plot(kind='barh')"
   ]
  },
  {
   "cell_type": "code",
   "execution_count": 46,
   "metadata": {
    "button": false,
    "collapsed": false,
    "deletable": true,
    "new_sheet": false,
    "run_control": {
     "read_only": false
    }
   },
   "outputs": [
    {
     "data": {
      "text/plain": [
       "<matplotlib.axes.AxesSubplot at 0x13cd9e310>"
      ]
     },
     "execution_count": 46,
     "metadata": {},
     "output_type": "execute_result"
    },
    {
     "data": {
      "image/png": "[encoded data removed]",
      "text/plain": [
       "<matplotlib.figure.Figure at 0x13f71f2d0>"
      ]
     },
     "metadata": {},
     "output_type": "display_data"
    }
   ],
   "source": [
    "pview.resample('M',how='count').plot(kind='kde')"
   ]
  }
 ],
 "metadata": {
  "kernelspec": {
   "display_name": "Python 3",
   "language": "python",
   "name": "python3"
  },
  "language_info": {
   "codemirror_mode": {
    "name": "ipython",
    "version": 3
   },
   "file_extension": ".py",
   "mimetype": "text/x-python",
   "name": "python",
   "nbconvert_exporter": "python",
   "pygments_lexer": "ipython3",
   "version": "3.5.0"
  }
 },
 "nbformat": 4,
 "nbformat_minor": 0
}
