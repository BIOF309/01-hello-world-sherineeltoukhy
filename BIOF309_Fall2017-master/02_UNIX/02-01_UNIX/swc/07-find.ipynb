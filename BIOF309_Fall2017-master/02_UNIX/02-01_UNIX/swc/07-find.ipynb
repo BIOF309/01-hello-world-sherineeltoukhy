{
 "cells": [
  {
   "cell_type": "markdown",
   "metadata": {},
   "source": [
    "---\n",
    "title: \"Finding Things\"\n",
    "teaching: 15\n",
    "exercises: 0\n",
    "questions:\n",
    "- \"How can I find files?\"\n",
    "- \"How can I find things in files?\"\n",
    "objectives:\n",
    "- \"Use `grep` to select lines from text files that match simple patterns.\"\n",
    "- \"Use `find` to find files whose names match simple patterns.\"\n",
    "- \"Use the output of one command as the command-line parameters to another command.\"\n",
    "- \"Explain what is meant by 'text' and 'binary' files, and why many common tools don't handle the latter well.\"\n",
    "keypoints:\n",
    "- \"`find` finds files with specific properties that match patterns.\"\n",
    "- \"`grep` selects lines in files that match patterns.\"\n",
    "- \"`--help` is a flag supported by many bash commands, and programs that can be run from within Bash, to display more information on how to use these commands or programs.\"\n",
    "- \"`man command` displays the manual page for a given command.\"\n",
    "- \"`$(command)` inserts a command's output in place.\"\n",
    "---\n",
    "\n",
    "In the same way that many of us now use \"Google\" as a \n",
    "verb meaning \"to find\", Unix programmers often use the \n",
    "word \"grep\".\n",
    "\"grep\" is a contraction of \"global/regular expression/print\",\n",
    "a common sequence of operations in early Unix text editors.\n",
    "It is also the name of a very useful command-line program.\n",
    "\n",
    "`grep` finds and prints lines in files that match a pattern.\n",
    "For our examples,\n",
    "we will use a file that contains three haikus taken from a\n",
    "1998 competition in *Salon* magazine. For this set of examples,\n",
    "we're going to be working in the writing subdirectory:"
   ]
  },
  {
   "cell_type": "code",
   "execution_count": null,
   "metadata": {},
   "outputs": [],
   "source": [
    "$ cd\n",
    "$ cd writing\n",
    "$ cat haiku.txt"
   ]
  },
  {
   "cell_type": "markdown",
   "metadata": {},
   "source": [
    "{: .bash}"
   ]
  },
  {
   "cell_type": "code",
   "execution_count": null,
   "metadata": {},
   "outputs": [],
   "source": [
    "The Tao that is seen\n",
    "Is not the true Tao, until\n",
    "You bring fresh toner.\n",
    "\n",
    "With searching comes loss\n",
    "and the presence of absence:\n",
    "\"My Thesis\" not found.\n",
    "\n",
    "Yesterday it worked\n",
    "Today it is not working\n",
    "Software is like that."
   ]
  },
  {
   "cell_type": "markdown",
   "metadata": {},
   "source": [
    "{: .output}\n",
    "\n",
    "> ## Forever, or Five Years\n",
    ">\n",
    "> We haven't linked to the original haikus because they don't appear to be on *Salon*'s site any longer.\n",
    "> As [Jeff Rothenberg said](http://www.clir.org/pubs/archives/ensuring.pdf),\n",
    "> \"Digital information lasts forever --- or five years, whichever comes first.\"\n",
    "{: .callout}\n",
    "\n",
    "Let's find lines that contain the word \"not\":"
   ]
  },
  {
   "cell_type": "code",
   "execution_count": null,
   "metadata": {},
   "outputs": [],
   "source": [
    "$ grep not haiku.txt"
   ]
  },
  {
   "cell_type": "markdown",
   "metadata": {},
   "source": [
    "{: .bash}"
   ]
  },
  {
   "cell_type": "code",
   "execution_count": null,
   "metadata": {},
   "outputs": [],
   "source": [
    "Is not the true Tao, until\n",
    "\"My Thesis\" not found\n",
    "Today it is not working"
   ]
  },
  {
   "cell_type": "markdown",
   "metadata": {},
   "source": [
    "{: .output}\n",
    "\n",
    "Here, `not` is the pattern we're searching for.\n",
    "It's pretty simple:\n",
    "every alphanumeric character matches against itself.\n",
    "After the pattern comes the name or names of the files we're searching in.\n",
    "The output is the three lines in the file that contain the letters \"not\".\n",
    "\n",
    "Let's try a different pattern: \"The\"."
   ]
  },
  {
   "cell_type": "code",
   "execution_count": null,
   "metadata": {},
   "outputs": [],
   "source": [
    "$ grep The haiku.txt"
   ]
  },
  {
   "cell_type": "markdown",
   "metadata": {},
   "source": [
    "{: .bash}"
   ]
  },
  {
   "cell_type": "code",
   "execution_count": null,
   "metadata": {},
   "outputs": [],
   "source": [
    "The Tao that is seen\n",
    "\"My Thesis\" not found."
   ]
  },
  {
   "cell_type": "markdown",
   "metadata": {},
   "source": [
    "{: .output}\n",
    "\n",
    "This time,\n",
    "two lines that include the letters \"The\" are outputted.\n",
    "However, one instance of those letters is contained within a larger word,\n",
    "\"Thesis\".\n",
    "\n",
    "To restrict matches to lines containing the word \"The\" on its own,\n",
    "we can give `grep` with the `-w` flag.\n",
    "This will limit matches to word boundaries."
   ]
  },
  {
   "cell_type": "code",
   "execution_count": null,
   "metadata": {},
   "outputs": [],
   "source": [
    "$ grep -w The haiku.txt"
   ]
  },
  {
   "cell_type": "markdown",
   "metadata": {},
   "source": [
    "{: .bash}"
   ]
  },
  {
   "cell_type": "code",
   "execution_count": null,
   "metadata": {},
   "outputs": [],
   "source": [
    "The Tao that is seen"
   ]
  },
  {
   "cell_type": "markdown",
   "metadata": {},
   "source": [
    "{: .output}\n",
    "\n",
    "Note that a \"word boundary\" includes the start and end of a line, so not\n",
    "just letters surrounded by spaces. \n",
    "Sometimes we don't\n",
    "want to search for a single word, but a phrase. This is also easy to do with\n",
    "`grep` by putting the phrase in quotes."
   ]
  },
  {
   "cell_type": "code",
   "execution_count": null,
   "metadata": {},
   "outputs": [],
   "source": [
    "$ grep -w \"is not\" haiku.txt"
   ]
  },
  {
   "cell_type": "markdown",
   "metadata": {},
   "source": [
    "{: .bash}"
   ]
  },
  {
   "cell_type": "code",
   "execution_count": null,
   "metadata": {},
   "outputs": [],
   "source": [
    "Today it is not working"
   ]
  },
  {
   "cell_type": "markdown",
   "metadata": {},
   "source": [
    "{: .output}\n",
    "\n",
    "We've now seen that you don't have to have quotes around single words,\n",
    "but it is useful to use quotes when searching for multiple words.\n",
    "It also helps to make it easier to distinguish between the search term or phrase\n",
    "and the file being searched.\n",
    "We will use quotes in the remaining examples.\n",
    "\n",
    "Another useful option is `-n`, which numbers the lines that match:"
   ]
  },
  {
   "cell_type": "code",
   "execution_count": null,
   "metadata": {},
   "outputs": [],
   "source": [
    "$ grep -n \"it\" haiku.txt"
   ]
  },
  {
   "cell_type": "markdown",
   "metadata": {},
   "source": [
    "{: .bash}"
   ]
  },
  {
   "cell_type": "code",
   "execution_count": null,
   "metadata": {},
   "outputs": [],
   "source": [
    "5:With searching comes loss\n",
    "9:Yesterday it worked\n",
    "10:Today it is not working"
   ]
  },
  {
   "cell_type": "markdown",
   "metadata": {},
   "source": [
    "{: .output}\n",
    "\n",
    "Here, we can see that lines 5, 9, and 10 contain the letters \"it\".\n",
    "\n",
    "We can combine options (i.e. flags) as we do with other Unix commands.\n",
    "For example, let's find the lines that contain the word \"the\". We can combine\n",
    "the option `-w` to find the lines that contain the word \"the\" and `-n` to number the lines that match:"
   ]
  },
  {
   "cell_type": "code",
   "execution_count": null,
   "metadata": {},
   "outputs": [],
   "source": [
    "$ grep -n -w \"the\" haiku.txt"
   ]
  },
  {
   "cell_type": "markdown",
   "metadata": {},
   "source": [
    "{: .bash}"
   ]
  },
  {
   "cell_type": "code",
   "execution_count": null,
   "metadata": {},
   "outputs": [],
   "source": [
    "2:Is not the true Tao, until\n",
    "6:and the presence of absence:"
   ]
  },
  {
   "cell_type": "markdown",
   "metadata": {},
   "source": [
    "{: .output}\n",
    "\n",
    "Now we want to use the option `-i` to make our search case-insensitive:"
   ]
  },
  {
   "cell_type": "code",
   "execution_count": null,
   "metadata": {},
   "outputs": [],
   "source": [
    "$ grep -n -w -i \"the\" haiku.txt"
   ]
  },
  {
   "cell_type": "markdown",
   "metadata": {},
   "source": [
    "{: .bash}"
   ]
  },
  {
   "cell_type": "code",
   "execution_count": null,
   "metadata": {},
   "outputs": [],
   "source": [
    "1:The Tao that is seen\n",
    "2:Is not the true Tao, until\n",
    "6:and the presence of absence:"
   ]
  },
  {
   "cell_type": "markdown",
   "metadata": {},
   "source": [
    "{: .output}\n",
    "\n",
    "Now, we want to use the option `-v` to invert our search, i.e., we want to output\n",
    "the lines that do not contain the word \"the\"."
   ]
  },
  {
   "cell_type": "code",
   "execution_count": null,
   "metadata": {},
   "outputs": [],
   "source": [
    "$ grep -n -w -v \"the\" haiku.txt"
   ]
  },
  {
   "cell_type": "markdown",
   "metadata": {},
   "source": [
    "{: .bash}"
   ]
  },
  {
   "cell_type": "code",
   "execution_count": null,
   "metadata": {},
   "outputs": [],
   "source": [
    "1:The Tao that is seen\n",
    "3:You bring fresh toner.\n",
    "4:\n",
    "5:With searching comes loss\n",
    "7:\"My Thesis\" not found.\n",
    "8:\n",
    "9:Yesterday it worked\n",
    "10:Today it is not working\n",
    "11:Software is like that."
   ]
  },
  {
   "cell_type": "markdown",
   "metadata": {},
   "source": [
    "{: .output}\n",
    "\n",
    "`grep` has lots of other options. To find out what they are, we can type:"
   ]
  },
  {
   "cell_type": "code",
   "execution_count": null,
   "metadata": {},
   "outputs": [],
   "source": [
    "$ grep --help"
   ]
  },
  {
   "cell_type": "markdown",
   "metadata": {},
   "source": [
    "{: .bash}"
   ]
  },
  {
   "cell_type": "code",
   "execution_count": null,
   "metadata": {},
   "outputs": [],
   "source": [
    "Usage: grep [OPTION]... PATTERN [FILE]...\n",
    "Search for PATTERN in each FILE or standard input.\n",
    "PATTERN is, by default, a basic regular expression (BRE).\n",
    "Example: grep -i 'hello world' menu.h main.c\n",
    "\n",
    "Regexp selection and interpretation:\n",
    "  -E, --extended-regexp     PATTERN is an extended regular expression (ERE)\n",
    "  -F, --fixed-strings       PATTERN is a set of newline-separated fixed strings\n",
    "  -G, --basic-regexp        PATTERN is a basic regular expression (BRE)\n",
    "  -P, --perl-regexp         PATTERN is a Perl regular expression\n",
    "  -e, --regexp=PATTERN      use PATTERN for matching\n",
    "  -f, --file=FILE           obtain PATTERN from FILE\n",
    "  -i, --ignore-case         ignore case distinctions\n",
    "  -w, --word-regexp         force PATTERN to match only whole words\n",
    "  -x, --line-regexp         force PATTERN to match only whole lines\n",
    "  -z, --null-data           a data line ends in 0 byte, not newline\n",
    "\n",
    "Miscellaneous:\n",
    "...        ...        ..."
   ]
  },
  {
   "cell_type": "markdown",
   "metadata": {},
   "source": [
    "{: .output}\n",
    "\n",
    "> ## Wildcards\n",
    ">\n",
    "> `grep`'s real power doesn't come from its options, though; it comes from\n",
    "> the fact that patterns can include wildcards. (The technical name for\n",
    "> these is **regular expressions**, which\n",
    "> is what the \"re\" in \"grep\" stands for.) Regular expressions are both complex\n",
    "> and powerful; if you want to do complex searches, please look at the lesson\n",
    "> on [our website](http://v4.software-carpentry.org/regexp/index.html). As a taster, we can\n",
    "> find lines that have an 'o' in the second position like this:\n",
    ">\n",
    "> ~~~\n",
    "> $ grep -E '^.o' haiku.txt\n",
    "> ~~~\n",
    "> {: .bash}\n",
    ">\n",
    "> ~~~\n",
    "> You bring fresh toner.\n",
    "> Today it is not working\n",
    "> Software is like that.\n",
    "> ~~~\n",
    "> {: .output}\n",
    ">\n",
    "> We use the `-E` flag and put the pattern in quotes to prevent the shell\n",
    "> from trying to interpret it. (If the pattern contained a `*`, for\n",
    "> example, the shell would try to expand it before running `grep`.) The\n",
    "> `^` in the pattern anchors the match to the start of the line. The `.`\n",
    "> matches a single character (just like `?` in the shell), while the `o`\n",
    "> matches an actual 'o'.\n",
    "{: .callout}\n",
    "\n",
    "While `grep` finds lines in files,\n",
    "the `find` command finds files themselves.\n",
    "Again,\n",
    "it has a lot of options;\n",
    "to show how the simplest ones work, we'll use the directory tree shown below.\n",
    "\n",
    "![File Tree for Find Example](../fig/find-file-tree.svg)\n",
    "\n",
    "Nelle's `writing` directory contains one file called `haiku.txt` and four subdirectories:\n",
    "`thesis` (which contains a sadly empty file, `empty-draft.md`),\n",
    "`data` (which contains two files `one.txt` and `two.txt`),\n",
    "a `tools` directory that contains the programs `format` and `stats`,\n",
    "and a subdirectory called `old`, with a file `oldtool`.\n",
    "\n",
    "For our first command,\n",
    "let's run `find .`."
   ]
  },
  {
   "cell_type": "code",
   "execution_count": null,
   "metadata": {},
   "outputs": [],
   "source": [
    "$ find ."
   ]
  },
  {
   "cell_type": "markdown",
   "metadata": {},
   "source": [
    "{: .bash}"
   ]
  },
  {
   "cell_type": "code",
   "execution_count": null,
   "metadata": {},
   "outputs": [],
   "source": [
    ".\n",
    "./old\n",
    "./old/.gitkeep\n",
    "./data\n",
    "./data/one.txt\n",
    "./data/two.txt\n",
    "./tools\n",
    "./tools/format\n",
    "./tools/old\n",
    "./tools/old/oldtool\n",
    "./tools/stats\n",
    "./haiku.txt\n",
    "./thesis\n",
    "./thesis/empty-draft.md"
   ]
  },
  {
   "cell_type": "markdown",
   "metadata": {},
   "source": [
    "{: .output}\n",
    "\n",
    "As always,\n",
    "the `.` on its own means the current working directory,\n",
    "which is where we want our search to start.\n",
    "`find`'s output is the names of every file **and** directory\n",
    "under the current working directory.\n",
    "This can seem useless at first but `find` has many options\n",
    "to filter the output and in this lesson we will discover some \n",
    "of them.\n",
    "\n",
    "The first option in our list is\n",
    "`-type d` that means \"things that are directories\".\n",
    "Sure enough,\n",
    "`find`'s output is the names of the five directories in our little tree\n",
    "(including `.`):"
   ]
  },
  {
   "cell_type": "code",
   "execution_count": null,
   "metadata": {},
   "outputs": [],
   "source": [
    "$ find . -type d"
   ]
  },
  {
   "cell_type": "markdown",
   "metadata": {},
   "source": [
    "{: .bash}"
   ]
  },
  {
   "cell_type": "code",
   "execution_count": null,
   "metadata": {},
   "outputs": [],
   "source": [
    "./\n",
    "./data\n",
    "./thesis\n",
    "./tools\n",
    "./tools/old"
   ]
  },
  {
   "cell_type": "markdown",
   "metadata": {},
   "source": [
    "{: .output}\n",
    "\n",
    "If we change `-type d` to `-type f`,\n",
    "we get a listing of all the files instead:"
   ]
  },
  {
   "cell_type": "code",
   "execution_count": null,
   "metadata": {},
   "outputs": [],
   "source": [
    "$ find . -type f"
   ]
  },
  {
   "cell_type": "markdown",
   "metadata": {},
   "source": [
    "{: .bash}"
   ]
  },
  {
   "cell_type": "code",
   "execution_count": null,
   "metadata": {},
   "outputs": [],
   "source": [
    "./haiku.txt\n",
    "./tools/stats\n",
    "./tools/old/oldtool\n",
    "./tools/format\n",
    "./thesis/empty-draft.md\n",
    "./data/one.txt\n",
    "./data/two.txt"
   ]
  },
  {
   "cell_type": "markdown",
   "metadata": {},
   "source": [
    "{: .output}\n",
    "\n",
    "Now let's try matching by name:"
   ]
  },
  {
   "cell_type": "code",
   "execution_count": null,
   "metadata": {},
   "outputs": [],
   "source": [
    "$ find . -name *.txt"
   ]
  },
  {
   "cell_type": "markdown",
   "metadata": {},
   "source": [
    "{: .bash}"
   ]
  },
  {
   "cell_type": "code",
   "execution_count": null,
   "metadata": {},
   "outputs": [],
   "source": [
    "./haiku.txt"
   ]
  },
  {
   "cell_type": "markdown",
   "metadata": {},
   "source": [
    "{: .output}\n",
    "\n",
    "We expected it to find all the text files,\n",
    "but it only prints out `./haiku.txt`.\n",
    "The problem is that the shell expands wildcard characters like `*` *before* commands run.\n",
    "Since `*.txt` in the current directory expands to `haiku.txt`,\n",
    "the command we actually ran was:"
   ]
  },
  {
   "cell_type": "code",
   "execution_count": null,
   "metadata": {},
   "outputs": [],
   "source": [
    "$ find . -name haiku.txt"
   ]
  },
  {
   "cell_type": "markdown",
   "metadata": {},
   "source": [
    "{: .bash}\n",
    "\n",
    "`find` did what we asked; we just asked for the wrong thing.\n",
    "\n",
    "To get what we want,\n",
    "let's do what we did with `grep`:\n",
    "put `*.txt` in single quotes to prevent the shell from expanding the `*` wildcard.\n",
    "This way,\n",
    "`find` actually gets the pattern `*.txt`, not the expanded filename `haiku.txt`:"
   ]
  },
  {
   "cell_type": "code",
   "execution_count": null,
   "metadata": {},
   "outputs": [],
   "source": [
    "$ find . -name '*.txt'"
   ]
  },
  {
   "cell_type": "markdown",
   "metadata": {},
   "source": [
    "{: .bash}"
   ]
  },
  {
   "cell_type": "code",
   "execution_count": null,
   "metadata": {},
   "outputs": [],
   "source": [
    "./data/one.txt\n",
    "./data/two.txt\n",
    "./haiku.txt"
   ]
  },
  {
   "cell_type": "markdown",
   "metadata": {},
   "source": [
    "{: .output}\n",
    "\n",
    "> ## Listing vs. Finding\n",
    ">\n",
    "> `ls` and `find` can be made to do similar things given the right options,\n",
    "> but under normal circumstances,\n",
    "> `ls` lists everything it can,\n",
    "> while `find` searches for things with certain properties and shows them.\n",
    "{: .callout}\n",
    "\n",
    "As we said earlier,\n",
    "the command line's power lies in combining tools.\n",
    "We've seen how to do that with pipes;\n",
    "let's look at another technique.\n",
    "As we just saw,\n",
    "`find . -name '*.txt'` gives us a list of all text files in or below the current directory.\n",
    "How can we combine that with `wc -l` to count the lines in all those files?\n",
    "\n",
    "The simplest way is to put the `find` command inside `$()`:"
   ]
  },
  {
   "cell_type": "code",
   "execution_count": null,
   "metadata": {},
   "outputs": [],
   "source": [
    "$ wc -l $(find . -name '*.txt')"
   ]
  },
  {
   "cell_type": "markdown",
   "metadata": {},
   "source": [
    "{: .bash}"
   ]
  },
  {
   "cell_type": "code",
   "execution_count": null,
   "metadata": {},
   "outputs": [],
   "source": [
    "11 ./haiku.txt\n",
    "300 ./data/two.txt\n",
    "70 ./data/one.txt\n",
    "381 total"
   ]
  },
  {
   "cell_type": "markdown",
   "metadata": {},
   "source": [
    "{: .output}\n",
    "\n",
    "When the shell executes this command,\n",
    "the first thing it does is run whatever is inside the `$()`.\n",
    "It then replaces the `$()` expression with that command's output.\n",
    "Since the output of `find` is the three filenames `./data/one.txt`, `./data/two.txt`, and `./haiku.txt`,\n",
    "the shell constructs the command:"
   ]
  },
  {
   "cell_type": "code",
   "execution_count": null,
   "metadata": {},
   "outputs": [],
   "source": [
    "$ wc -l ./data/one.txt ./data/two.txt ./haiku.txt"
   ]
  },
  {
   "cell_type": "markdown",
   "metadata": {},
   "source": [
    "{: .bash}\n",
    "\n",
    "which is what we wanted.\n",
    "This expansion is exactly what the shell does when it expands wildcards like `*` and `?`,\n",
    "but lets us use any command we want as our own \"wildcard\".\n",
    "\n",
    "It's very common to use `find` and `grep` together.\n",
    "The first finds files that match a pattern;\n",
    "the second looks for lines inside those files that match another pattern.\n",
    "Here, for example, we can find PDB files that contain iron atoms\n",
    "by looking for the string \"FE\" in all the `.pdb` files above the current directory:"
   ]
  },
  {
   "cell_type": "code",
   "execution_count": null,
   "metadata": {},
   "outputs": [],
   "source": [
    "$ grep \"FE\" $(find .. -name '*.pdb')"
   ]
  },
  {
   "cell_type": "markdown",
   "metadata": {},
   "source": [
    "{: .bash}"
   ]
  },
  {
   "cell_type": "code",
   "execution_count": null,
   "metadata": {},
   "outputs": [],
   "source": [
    "../data/pdb/heme.pdb:ATOM     25 FE           1      -0.924   0.535  -0.518"
   ]
  },
  {
   "cell_type": "markdown",
   "metadata": {},
   "source": [
    "{: .output}\n",
    "\n",
    "> ## Binary Files\n",
    ">\n",
    "> We have focused exclusively on finding things in text files. What if\n",
    "> your data is stored as images, in databases, or in some other format?\n",
    "> One option would be to extend tools like `grep` to handle those formats.\n",
    "> This hasn't happened, and probably won't, because there are too many\n",
    "> formats to support.\n",
    ">\n",
    "> The second option is to convert the data to text, or extract the\n",
    "> text-ish bits from the data. This is probably the most common approach,\n",
    "> since it only requires people to build one tool per data format (to\n",
    "> extract information). On the one hand, it makes simple things easy to\n",
    "> do. On the negative side, complex things are usually impossible. For\n",
    "> example, it's easy enough to write a program that will extract X and Y\n",
    "> dimensions from image files for `grep` to play with, but how would you\n",
    "> write something to find values in a spreadsheet whose cells contained\n",
    "> formulas?\n",
    ">\n",
    "> The third choice is to recognize that the shell and text processing have\n",
    "> their limits, and to use another programming language.\n",
    "> When the time comes to do this, don't be too hard on the shell: many\n",
    "> modern programming languages have borrowed a lot of\n",
    "> ideas from it, and imitation is also the sincerest form of praise.\n",
    "{: .callout}\n",
    "\n",
    "The Unix shell is older than most of the people who use it. It has\n",
    "survived so long because it is one of the most productive programming\n",
    "environments ever created --- maybe even *the* most productive. Its syntax\n",
    "may be cryptic, but people who have mastered it can experiment with\n",
    "different commands interactively, then use what they have learned to\n",
    "automate their work. Graphical user interfaces may be better at the\n",
    "first, but the shell is still unbeaten at the second. And as Alfred\n",
    "North Whitehead wrote in 1911, \"Civilization advances by extending the\n",
    "number of important operations which we can perform without thinking\n",
    "about them.\"\n",
    "\n",
    "> ## Using `grep`\n",
    ">\n",
    "> Referring to `haiku.txt`\n",
    "> presented at the begin of this topic,\n",
    "> which command would result in the following output:\n",
    ">\n",
    "> ~~~\n",
    "> and the presence of absence:\n",
    "> ~~~\n",
    "> {: .output}\n",
    ">\n",
    "> 1. `grep \"of\" haiku.txt`\n",
    "> 2. `grep -E \"of\" haiku.txt`\n",
    "> 3. `grep -w \"of\" haiku.txt`\n",
    "> 4. `grep -i \"of\" haiku.txt`\n",
    "{: .challenge}\n",
    "\n",
    "> ## `find` Pipeline Reading Comprehension\n",
    ">\n",
    "> Write a short explanatory comment for the following shell script:\n",
    ">\n",
    "> ~~~\n",
    "> wc -l $(find . -name '*.dat') | sort -n\n",
    "> ~~~\n",
    "> {: .bash}\n",
    "{: .challenge}\n",
    "\n",
    "> ## Matching and Subtracting\n",
    ">\n",
    "> The `-v` flag to `grep` inverts pattern matching, so that only lines\n",
    "> which do *not* match the pattern are printed. Given that, which of\n",
    "> the following commands will find all files in `/data` whose names\n",
    "> end in `ose.dat` (e.g., `sucrose.dat` or `maltose.dat`), but do\n",
    "> *not* contain the word `temp`?\n",
    ">\n",
    "> 1.  `find /data -name '*.dat' | grep ose | grep -v temp`\n",
    "> 2.  `find /data -name ose.dat | grep -v temp`\n",
    "> 3.  `grep -v \"temp\" $(find /data -name '*ose.dat')`\n",
    "> 4.  None of the above.\n",
    "{: .challenge}\n",
    "\n",
    "> ## Tracking a Species\n",
    "> \n",
    "> Leah has several hundred \n",
    "> data files saved in one directory, each of which is formatted like this:\n",
    "> \n",
    "> ~~~\n",
    "> 2013-11-05,deer,5\n",
    "> 2013-11-05,rabbit,22\n",
    "> 2013-11-05,raccoon,7\n",
    "> 2013-11-06,rabbit,19\n",
    "> 2013-11-06,deer,2\n",
    "> ~~~\n",
    "> {: .source}\n",
    ">\n",
    "> She wants to write a shell script that takes a directory and a species \n",
    "> as command-line parameters and return one file called `species.txt` \n",
    "> containing a list of dates and the number of that species seen on that date,\n",
    "> such as this file for rabbits:\n",
    "> \n",
    "> ~~~\n",
    "> 2013-11-05,22\n",
    "> 2013-11-06,19\n",
    "> 2013-11-07,18\n",
    "> ~~~\n",
    "> {: .source}\n",
    ">\n",
    "> Put these commands and pipes in the right order to achieve this:\n",
    "> \n",
    "> ~~~\n",
    "> cut -d : -f 2  \n",
    "> >  \n",
    "> |  \n",
    "> grep -w $1 -r $2  \n",
    "> |  \n",
    "> $1.txt  \n",
    "> cut -d , -f 1,3  \n",
    "> ~~~\n",
    "> {: .bash}\n",
    ">\n",
    "> Hint: use `man grep` to look for how to grep text recursively in a directory\n",
    "> and `man cut` to select more than one field in a line.\n",
    "{: .challenge}\n",
    "\n",
    "> ## Little Women\n",
    ">\n",
    "> You and your friend, having just finished reading *Little Women* by\n",
    "> Louisa May Alcott, are in an argument.  Of the four sisters in the\n",
    "> book, Jo, Meg, Beth, and Amy, your friend thinks that Jo was the\n",
    "> most mentioned.  You, however, are certain it was Amy.  Luckily, you\n",
    "> have a file `LittleWomen.txt` containing the full text of the novel.\n",
    "> Using a `for` loop, how would you tabulate the number of times each\n",
    "> of the four sisters is mentioned?\n",
    ">\n",
    "> Hint: one solution might employ\n",
    "> the commands `grep` and `wc` and a `|`, while another might utilize\n",
    "> `grep` options.\n",
    "{: .challenge}\n",
    "\n",
    "> ## Finding Files With Different Properties\n",
    "> \n",
    "> The `find` command can be given several other criteria known as \"tests\"\n",
    "> to locate files with specific attributes, such as creation time, size,\n",
    "> permissions, or ownership.  Use `man find` to explore these, and then\n",
    "> write a single command to find all files in or below the current directory\n",
    "> that were modified by the user `ahmed` in the last 24 hours.\n",
    ">\n",
    "> Hint 1: you will need to use three tests: `-type`, `-mtime`, and `-user`.\n",
    ">\n",
    "> Hint 2: The value for `-mtime` will need to be negative---why?\n",
    ">\n",
    "> Solution: Assuming that Nelle’s home is our working directory we type:\n",
    ">\n",
    "> ~~~\n",
    "> $ find ./ -type f -mtime -1 -user ahmed\n",
    "> ~~~\n",
    "> {: .bash}\n",
    "{: .challenge}"
   ]
  }
 ],
 "metadata": {},
 "nbformat": 4,
 "nbformat_minor": 2
}
