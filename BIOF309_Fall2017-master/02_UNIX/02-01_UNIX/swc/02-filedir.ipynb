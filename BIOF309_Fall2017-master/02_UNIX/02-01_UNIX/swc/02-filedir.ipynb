{
 "cells": [
  {
   "cell_type": "markdown",
   "metadata": {
    "deletable": true,
    "editable": true
   },
   "source": [
    "## Navigating Files and Directories\n",
    "Teaching: 15 minute\n",
    "Exercises: 0 minute\n",
    "\n",
    "Questions:\n",
    "- \"How can I move around on my computer?\"\n",
    "- \"How can I see what files and directories I have?\"\n",
    "- \"How can I specify the location of a file or directory on my computer?\"\n",
    "\n",
    "Objectives:\n",
    "- \"Explain the similarities and differences between a file and a directory.\"\n",
    "- \"Translate an absolute path into a relative path and vice versa.\"\n",
    "- \"Construct absolute and relative paths that identify specific files and directories.\"\n",
    "- \"Explain the steps in the shell's read-run-print cycle.\"\n",
    "- \"Identify the actual command, flags, and filenames in a command-line call.\"\n",
    "- \"Demonstrate the use of tab completion, and explain its advantages.\"\n",
    "\n",
    "Key Points:\n",
    "- \"The file system is responsible for managing information on the disk.\"\n",
    "- \"Information is stored in files, which are stored in directories (folders).\"\n",
    "- \"Directories can also store other directories, which forms a directory tree.\"\n",
    "- \"`cd path` changes the current working directory.\"\n",
    "- \"`ls path` prints a listing of a specific file or directory; `ls` on its own lists the current working directory.\"\n",
    "- \"`pwd` prints the user's current working directory.\"\n",
    "- \"`/` on its own is the root directory of the whole file system.\"\n",
    "- \"A relative path specifies a location starting from the current location.\"\n",
    "- \"An absolute path specifies a location from the root of the file system.\"\n",
    "- \"Directory names in a path are separated with '/' on Unix, but '\\\\\\\\' on Windows.\"\n",
    "- \"'..' means 'the directory above the current one'; '.' on its own means 'the current directory'.\"\n",
    "- \"Most files' names are `something.extension`. The extension isn't required, and doesn't guarantee anything, but is normally used to indicate the type of data in the file.\"\n",
    "- \"Most commands take options (flags) which begin with a '-'.\"\n",
    "---\n",
    "\n",
    "The part of the operating system responsible for managing files and directories\n",
    "is called the **file system**.\n",
    "It organizes our data into files,\n",
    "which hold information,\n",
    "and directories (also called \"folders\"),\n",
    "which hold files or other directories.\n",
    "\n",
    "Several commands are frequently used to create, inspect, rename, and delete files and directories.\n",
    "Now we will start exploring them, using Jupyter Notebook.\n",
    "\n",
    "## Jupyter Notebook\n",
    "\n",
    "\"The Jupyter Notebook is an open-source web application that allows you to create and share documents that contain live code, equations, visualizations and explanatory text.\" The main advantage of Jupyter Notebook is interactivity.\n",
    "\n"
   ]
  },
  {
   "cell_type": "markdown",
   "metadata": {
    "deletable": true,
    "editable": true
   },
   "source": [
    "First, let's find out where we are in the file tree by running a command called `pwd`\n",
    "(which stands for \"print working directory\").\n",
    "At any moment,\n",
    "our **current working directory**\n",
    "is our current default directory,\n",
    "i.e.,\n",
    "the directory that the computer assumes we want to run commands in\n",
    "unless we explicitly specify something else."
   ]
  },
  {
   "cell_type": "code",
   "execution_count": 14,
   "metadata": {
    "collapsed": false,
    "deletable": true,
    "editable": true
   },
   "outputs": [
    {
     "data": {
      "text/plain": [
       "'C:\\\\Users\\\\skarzynskimw'"
      ]
     },
     "execution_count": 14,
     "metadata": {},
     "output_type": "execute_result"
    }
   ],
   "source": [
    "pwd"
   ]
  },
  {
   "cell_type": "markdown",
   "metadata": {
    "deletable": true,
    "editable": true
   },
   "source": [
    "> ## Home Directory Variation\n",
    ">\n",
    "> The home directory path will look different on different operating systems.\n",
    "> On Linux it may look like `/home/nelle`,\n",
    "> and on Windows it will be similar to `C:\\Documents and Settings\\nelle` or\n",
    "> `C:\\Users\\nelle`.  \n",
    "> (Note that it may look slightly different for different versions of Windows.)\n",
    "> In future examples, we've used Mac output as the default - Linux and Windows\n",
    "> output may differ slightly, but should be generally similar.  \n",
    "\n",
    "To understand what a \"home directory\" is,\n",
    "let's have a look at how the file system as a whole is organized.  For the\n",
    "sake of example, we'll be\n",
    "illustrating the filesystem on our scientist Nelle's computer.  After this\n",
    "illustration, you'll be learning commands to explore your own filesystem,\n",
    "which will be constructed in a similar way, but not be exactly identical.  \n",
    "\n",
    "On Nelle's computer, the filesystem looks like this:\n",
    "\n",
    "![The File System](../fig/filesystem.svg)\n",
    "\n",
    "At the top is the **root directory**\n",
    "that holds everything else.\n",
    "We refer to it using a slash character `/` on its own;\n",
    "this is the leading slash in `/Users/nelle`.\n",
    "\n",
    "Inside that directory are several other directories:\n",
    "`bin` (which is where some built-in programs are stored),\n",
    "`data` (for miscellaneous data files),\n",
    "`Users` (where users' personal directories are located),\n",
    "`tmp` (for temporary files that don't need to be stored long-term),\n",
    "and so on.  \n",
    "\n",
    "We know that our current working directory `/Users/nelle` is stored inside `/Users`\n",
    "because `/Users` is the first part of its name.\n",
    "Similarly,\n",
    "we know that `/Users` is stored inside the root directory `/`\n",
    "because its name begins with `/`.\n",
    "\n",
    "> ## Slashes\n",
    ">\n",
    "> Notice that there are two meanings for the `/` character.\n",
    "> When it appears at the front of a file or directory name,\n",
    "> it refers to the root directory. When it appears *inside* a name,\n",
    "> it's just a separator.\n",
    "\n",
    "Underneath `/Users`,\n",
    "we find one directory for each user with an account on Nelle's machine,\n",
    "her colleagues the Mummy and Wolfman.  \n",
    "\n",
    "![Home Directories](../fig/home-directories.svg)\n",
    "\n",
    "The Mummy's files are stored in `/Users/imhotep`,\n",
    "Wolfman's in `/Users/larry`,\n",
    "and Nelle's in `/Users/nelle`.  Because Nelle is the user in our\n",
    "examples here, this is why we get `/Users/nelle` as our home directory.  \n",
    "Typically, when you open a new command prompt you will be in\n",
    "your home directory to start.  \n",
    "\n",
    "Now let's learn the command that will let us see the contents of our\n",
    "own filesystem.  We can see what's in our home directory by running `ls`,\n",
    "which stands for \"listing\":"
   ]
  },
  {
   "cell_type": "markdown",
   "metadata": {
    "deletable": true,
    "editable": true
   },
   "source": [
    "(Again, your results may be slightly different depending on your operating\n",
    "system and how you have customized your filesystem.)\n",
    "\n",
    "`ls` prints the names of the files and directories in the current directory in\n",
    "alphabetical order,\n",
    "arranged neatly into columns."
   ]
  },
  {
   "cell_type": "markdown",
   "metadata": {
    "deletable": true,
    "editable": true
   },
   "source": [
    "Many bash commands, and programs that people have written that can be\n",
    "run from within bash, support a `--help` flag to display more\n",
    "information on how to use the commands or programs.\n",
    "\n",
    "For more information on how to use `ls` we can type `man ls`.\n",
    "`man` is the Unix \"manual\" command:\n",
    "it prints a description of a command and its options,\n",
    "and (if you're lucky) provides a few examples of how to use it.\n",
    "\n",
    "> ## `man` and Git for Windows\n",
    ">\n",
    "> The bash shell provided by Git for Windows does not\n",
    "> support the `man` command. Doing a web search for\n",
    "> `unix man page COMMAND` (e.g. `unix man page grep`)\n",
    "> provides links to numerous copies of the Unix manual\n",
    "> pages online.\n",
    "> For example, GNU provides links to its\n",
    "> [manuals](http://www.gnu.org/manual/manual.html):\n",
    "> these include [grep](http://www.gnu.org/software/grep/manual/),\n",
    "> and the\n",
    "> [core GNU utilities](http://www.gnu.org/software/coreutils/manual/coreutils.html),\n",
    "> which covers many commands introduced within this lesson.\n",
    "\n",
    "To navigate through the `man` pages,\n",
    "you may use the up and down arrow keys to move line-by-line,\n",
    "or try the \"b\" and spacebar keys to skip up and down by full page.\n",
    "Quit the `man` pages by typing \"q\".\n",
    "\n",
    "Here,\n",
    "we can see that our home directory contains mostly **sub-directories**.\n",
    "Any names in your output that don't have trailing slashes,\n",
    "are plain old **files**.\n",
    "\n",
    "We can also use `ls` to see the contents of a different directory.  Let's take a\n",
    "look at our `Desktop` directory by running `ls Desktop`."
   ]
  },
  {
   "cell_type": "code",
   "execution_count": 15,
   "metadata": {
    "collapsed": false,
    "deletable": true,
    "editable": true
   },
   "outputs": [
    {
     "name": "stdout",
     "output_type": "stream",
     "text": [
      " Volume in drive C is OSDisk\n",
      " Volume Serial Number is B4A0-C61A\n",
      "\n",
      " Directory of C:\\Users\\skarzynskimw\n",
      "\n",
      "04/12/2017  03:32 PM    <DIR>          .\n",
      "04/12/2017  03:32 PM    <DIR>          ..\n",
      "01/25/2017  06:39 PM    <DIR>          .anaconda\n",
      "03/13/2017  12:16 PM    <DIR>          .atom\n",
      "03/27/2017  02:30 AM             5,746 .bash_history\n",
      "03/11/2017  08:48 PM             1,150 .bash_profile\n",
      "03/05/2017  05:34 PM    <DIR>          .conda\n",
      "04/12/2017  04:11 PM                43 .condarc\n",
      "03/05/2017  05:18 PM    <DIR>          .continuum\n",
      "03/21/2017  02:28 PM               241 .gitconfig\n",
      "03/16/2017  03:34 PM    <DIR>          .ipynb_checkpoints\n",
      "03/14/2017  12:35 PM    <DIR>          .ipython\n",
      "03/11/2017  07:50 PM    <DIR>          .jupyter\n",
      "03/16/2017  09:29 AM    <DIR>          .matplotlib\n",
      "02/07/2017  10:42 AM    <DIR>          .oracle_jre_usage\n",
      "03/26/2017  12:54 PM       656,352,977 .RData\n",
      "02/17/2016  11:54 AM               128 .Rhistory\n",
      "02/07/2017  10:01 AM    <DIR>          .spyder-py3\n",
      "03/13/2017  08:52 AM    <DIR>          .ssh\n",
      "02/16/2016  01:16 PM    <DIR>          .swc\n",
      "01/28/2016  12:33 PM    <DIR>          .swt\n",
      "02/16/2016  04:10 PM                 0 .txt\n",
      "03/16/2017  12:17 PM    <DIR>          .VirtualBox\n",
      "03/17/2017  11:06 AM    <DIR>          AnacondaProjects\n",
      "03/13/2017  01:53 PM             1,370 bash.exe.stackdump\n",
      "01/19/2016  08:39 AM    <DIR>          Contacts\n",
      "02/17/2017  07:25 PM    <DIR>          Coursera-SwiftKey\n",
      "04/05/2017  10:26 AM    <DIR>          Desktop\n",
      "04/09/2017  04:25 PM    <DIR>          Documents\n",
      "04/12/2017  02:47 PM    <DIR>          Downloads\n",
      "02/17/2016  09:38 AM                 9 draft.txt\n",
      "01/19/2016  08:39 AM    <DIR>          Favorites\n",
      "01/28/2016  12:33 PM    <DIR>          flowjoInit\n",
      "11/03/2016  11:30 AM    <DIR>          FlowJoRemoteFileCache\n",
      "02/07/2017  10:42 AM    <DIR>          Geneious 9.0 Data\n",
      "02/08/2017  11:04 AM    <DIR>          Geneious 9.1 Data\n",
      "04/12/2017  02:47 PM    <DIR>          GitHub\n",
      "04/06/2016  12:48 PM           851,838 Image_Lab_Install_log.txt\n",
      "02/18/2017  11:09 PM    <DIR>          Links\n",
      "02/08/2017  06:40 PM    <DIR>          machine-learning\n",
      "01/19/2016  08:39 AM    <DIR>          Music\n",
      "02/16/2016  01:16 PM             1,432 nano.rc\n",
      "04/09/2017  01:21 PM    <DIR>          Pictures\n",
      "02/08/2017  07:04 PM    <DIR>          pyBeginner\n",
      "03/17/2017  09:26 AM    <DIR>          repro_course\n",
      "03/12/2017  06:45 PM           118,183 rodeo.log\n",
      "01/19/2016  08:39 AM    <DIR>          Saved Games\n",
      "01/19/2016  08:39 AM    <DIR>          Searches\n",
      "03/16/2017  11:37 PM    <DIR>          shell-novice\n",
      "03/11/2017  08:02 PM    <DIR>          SWC1UNIX\n",
      "03/21/2016  02:21 PM    <DIR>          TAT2016\n",
      "04/15/2016  07:51 PM             1,728 TH1 Cytokines and Related Genes_Mar1_2012.txt\n",
      "04/15/2016  08:02 PM             1,728 TH1 Cytokines and Related Genes_Mar1_2012edited.txt\n",
      "03/13/2017  01:52 PM    <DIR>          tmp\n",
      "07/18/2016  09:28 PM    <DIR>          Tracing\n",
      "01/19/2016  08:39 AM    <DIR>          Videos\n",
      "03/04/2017  03:54 PM    <DIR>          VirtualBox VMs\n",
      "              14 File(s)    657,336,573 bytes\n",
      "              43 Dir(s)  196,621,176,832 bytes free\n"
     ]
    }
   ],
   "source": [
    "ls"
   ]
  },
  {
   "cell_type": "markdown",
   "metadata": {
    "deletable": true,
    "editable": true
   },
   "source": [
    "Your output should be a list of all the files and sub-directories on your\n",
    "Desktop, including the `data-shell` directory you downloaded at\n",
    "the start of the lesson.  Take a look at your Desktop to confirm that\n",
    "your output is accurate.  \n",
    "\n",
    "As you may now see, using a bash shell is strongly dependent on the idea that\n",
    "your files are organized in an hierarchical file system.  \n",
    "Organizing things hierarchically in this way helps us keep track of our work:\n",
    "it's possible to put hundreds of files in our home directory,\n",
    "just as it's possible to pile hundreds of printed papers on our desk,\n",
    "but it's a self-defeating strategy.\n",
    "\n",
    "Now that we know the `data-shell` directory is located on our Desktop, we\n",
    "can change our location to a different directory, so we are no longer located in\n",
    "our home directory.  "
   ]
  },
  {
   "cell_type": "markdown",
   "metadata": {
    "deletable": true,
    "editable": true
   },
   "source": [
    "The command to change locations is `cd` followed by a\n",
    "directory name to change our working directory.\n",
    "`cd` stands for \"change directory\",\n",
    "which is a bit misleading:\n",
    "the command doesn't change the directory,\n",
    "it changes the shell's idea of what directory we are in.\n",
    "\n",
    "Let's say we want to move to the `data` directory we saw above.  We can\n",
    "use the following series of commands to get there:"
   ]
  },
  {
   "cell_type": "code",
   "execution_count": 207,
   "metadata": {
    "collapsed": false,
    "deletable": true,
    "editable": true
   },
   "outputs": [
    {
     "name": "stdout",
     "output_type": "stream",
     "text": [
      "C:\\Users\\skarzynskimw\\Desktop\n"
     ]
    }
   ],
   "source": [
    "cd Desktop"
   ]
  },
  {
   "cell_type": "code",
   "execution_count": 208,
   "metadata": {
    "collapsed": false,
    "deletable": true,
    "editable": true
   },
   "outputs": [
    {
     "name": "stdout",
     "output_type": "stream",
     "text": [
      "C:\\Users\\skarzynskimw\\Desktop\\data-shell\n"
     ]
    }
   ],
   "source": [
    "cd data-shell"
   ]
  },
  {
   "cell_type": "code",
   "execution_count": 209,
   "metadata": {
    "collapsed": false,
    "deletable": true,
    "editable": true
   },
   "outputs": [
    {
     "name": "stdout",
     "output_type": "stream",
     "text": [
      "C:\\Users\\skarzynskimw\\Desktop\\data-shell\\data\n"
     ]
    }
   ],
   "source": [
    "cd data"
   ]
  },
  {
   "cell_type": "markdown",
   "metadata": {
    "deletable": true,
    "editable": true
   },
   "source": [
    "These commands will move us from our home directory onto our Desktop, then into\n",
    "the `data-shell` directory, then into the `data` directory.  `cd` doesn't print anything,\n",
    "but if we run `pwd` after it, we can see that we are now\n",
    "in `/Users/nelle/Desktop/data-shell/data`.\n",
    "If we run `ls` without arguments now,\n",
    "it lists the contents of `/Users/nelle/Desktop/data-shell/data`,\n",
    "because that's where we now are:"
   ]
  },
  {
   "cell_type": "code",
   "execution_count": 210,
   "metadata": {
    "collapsed": false,
    "deletable": true,
    "editable": true
   },
   "outputs": [
    {
     "data": {
      "text/plain": [
       "'C:\\\\Users\\\\skarzynskimw\\\\Desktop\\\\data-shell\\\\data'"
      ]
     },
     "execution_count": 210,
     "metadata": {},
     "output_type": "execute_result"
    }
   ],
   "source": [
    "pwd"
   ]
  },
  {
   "cell_type": "markdown",
   "metadata": {
    "deletable": true,
    "editable": true
   },
   "source": [
    "We now know how to go down the directory tree, but\n",
    "how do we go up?  We might try the following:"
   ]
  },
  {
   "cell_type": "code",
   "execution_count": 211,
   "metadata": {
    "collapsed": false,
    "deletable": true,
    "editable": true
   },
   "outputs": [
    {
     "name": "stdout",
     "output_type": "stream",
     "text": [
      "[WinError 2] The system cannot find the file specified: 'data-shell'\n",
      "C:\\Users\\skarzynskimw\\Desktop\\data-shell\\data\n"
     ]
    }
   ],
   "source": [
    "cd data-shell"
   ]
  },
  {
   "cell_type": "markdown",
   "metadata": {
    "deletable": true,
    "editable": true
   },
   "source": [
    "But we get an error!  Why is this?  \n",
    "\n",
    "With our methods so far,\n",
    "`cd` can only see sub-directories inside your current directory.  There are\n",
    "different ways to see directories above your current location; we'll start\n",
    "with the simplest.  \n",
    "\n",
    "There is a shortcut in the shell to move up one directory level\n",
    "that looks like this:"
   ]
  },
  {
   "cell_type": "code",
   "execution_count": 212,
   "metadata": {
    "collapsed": false,
    "deletable": true,
    "editable": true
   },
   "outputs": [
    {
     "name": "stdout",
     "output_type": "stream",
     "text": [
      "C:\\Users\\skarzynskimw\\Desktop\\data-shell\n"
     ]
    }
   ],
   "source": [
    "cd .."
   ]
  },
  {
   "cell_type": "markdown",
   "metadata": {
    "deletable": true,
    "editable": true
   },
   "source": [
    "`..` is a special directory name meaning\n",
    "\"the directory containing this one\",\n",
    "or more succinctly,\n",
    "the **parent** of the current directory.\n",
    "Sure enough,\n",
    "if we run `pwd` after running `cd ..`, we confirm that we're back in `/Users/nelle/Desktop/data-shell`:"
   ]
  },
  {
   "cell_type": "code",
   "execution_count": 213,
   "metadata": {
    "collapsed": false,
    "deletable": true,
    "editable": true
   },
   "outputs": [
    {
     "data": {
      "text/plain": [
       "'C:\\\\Users\\\\skarzynskimw\\\\Desktop\\\\data-shell'"
      ]
     },
     "execution_count": 213,
     "metadata": {},
     "output_type": "execute_result"
    }
   ],
   "source": [
    "pwd"
   ]
  },
  {
   "cell_type": "markdown",
   "metadata": {
    "deletable": true,
    "editable": true
   },
   "source": [
    "These then, are the basic commands for navigating the filesystem on your computer:\n",
    "`pwd`, `ls` and `cd`.  Let's explore some variations on those commands.  What happens\n",
    "if you type `cd` on its own, without giving\n",
    "a directory?"
   ]
  },
  {
   "cell_type": "code",
   "execution_count": 214,
   "metadata": {
    "collapsed": false,
    "deletable": true,
    "editable": true
   },
   "outputs": [
    {
     "name": "stdout",
     "output_type": "stream",
     "text": [
      "C:\\Users\\skarzynskimw\n"
     ]
    }
   ],
   "source": [
    "cd"
   ]
  },
  {
   "cell_type": "markdown",
   "metadata": {
    "deletable": true,
    "editable": true
   },
   "source": [
    "How can you check what happened?  `pwd` gives us the answer!"
   ]
  },
  {
   "cell_type": "code",
   "execution_count": 215,
   "metadata": {
    "collapsed": false,
    "deletable": true,
    "editable": true
   },
   "outputs": [
    {
     "data": {
      "text/plain": [
       "'C:\\\\Users\\\\skarzynskimw'"
      ]
     },
     "execution_count": 215,
     "metadata": {},
     "output_type": "execute_result"
    }
   ],
   "source": [
    "pwd"
   ]
  },
  {
   "cell_type": "markdown",
   "metadata": {
    "deletable": true,
    "editable": true
   },
   "source": [
    "It turns out that `cd` without an argument will return you to your home directory,\n",
    "which is great if you've gotten lost in your own filesystem.  "
   ]
  },
  {
   "cell_type": "markdown",
   "metadata": {
    "deletable": true,
    "editable": true
   },
   "source": [
    "> ## Hidden Files and Directories\n",
    ">\n",
    "> ls shows hidden directories `..` and `.`, you may also see a hidden file\n",
    "> such as `.bash_profile`. This file usually contains shell configuration\n",
    "> settings. You may also see other files and directories beginning\n",
    "> with `.`. These are usually files and directories that are used to configure\n",
    "> different programs on your computer. The prefix `.` is used to prevent these\n",
    "> configuration files from cluttering the terminal when a standard `ls` command\n",
    "> is used."
   ]
  },
  {
   "cell_type": "markdown",
   "metadata": {
    "deletable": true,
    "editable": true
   },
   "source": [
    "Let's try returning to the `data` directory from before.  Last time, we used\n",
    "three commands, but we can actually string together the list of directories\n",
    "to move to `data` in one step:"
   ]
  },
  {
   "cell_type": "code",
   "execution_count": 216,
   "metadata": {
    "collapsed": false,
    "deletable": true,
    "editable": true
   },
   "outputs": [
    {
     "name": "stdout",
     "output_type": "stream",
     "text": [
      "C:\\Users\\skarzynskimw\\Desktop\\data-shell\\data\n"
     ]
    }
   ],
   "source": [
    "cd Desktop/data-shell/data/"
   ]
  },
  {
   "cell_type": "markdown",
   "metadata": {
    "deletable": true,
    "editable": true
   },
   "source": [
    "Check that we've moved to the right place by running `pwd` and `ls`  \n",
    "\n",
    "If we want to move up one level from the data directory, we could use `cd ..`.  But\n",
    "there is another way to move to any directory, regardless of your\n",
    "current location.  \n",
    "\n",
    "So far, when specifying directory names, or even a directory path (as above),\n",
    "we have been using **relative paths**.  When you use a relative path with a command\n",
    "like `ls` or `cd`, it tries to find that location  from where we are,\n",
    "rather than from the root of the file system.  \n",
    "\n",
    "However, it is possible to specify the **absolute path** to a directory by\n",
    "including its entire path from the root directory, which is indicated by a\n",
    "leading slash.  The leading `/` tells the computer to follow the path from\n",
    "the root of the file system, so it always refers to exactly one directory,\n",
    "no matter where we are when we run the command.\n",
    "\n",
    "This allows us to move to our `data-shell` directory from anywhere on\n",
    "the filesystem (including from inside `data`).  To find the absolute path\n",
    "we're looking for, we can use `pwd` and then extract the piece we need\n",
    "to move to `data-shell`."
   ]
  },
  {
   "cell_type": "code",
   "execution_count": 217,
   "metadata": {
    "collapsed": false,
    "deletable": true,
    "editable": true
   },
   "outputs": [
    {
     "data": {
      "text/plain": [
       "'C:\\\\Users\\\\skarzynskimw\\\\Desktop\\\\data-shell\\\\data'"
      ]
     },
     "execution_count": 217,
     "metadata": {},
     "output_type": "execute_result"
    }
   ],
   "source": [
    "pwd"
   ]
  },
  {
   "cell_type": "markdown",
   "metadata": {
    "deletable": true,
    "editable": true
   },
   "source": [
    "> ## Two More Shortcuts\n",
    ">\n",
    "> The shell interprets the character `~` (tilde) at the start of a path to\n",
    "> mean \"the current user's home directory\". For example, if Nelle's home\n",
    "> directory is `/Users/nelle`, then `~/data` is equivalent to\n",
    "> `/Users/nelle/data`. This only works if it is the first character in the\n",
    "> path: `here/there/~/elsewhere` is *not* `here/there/Users/nelle/elsewhere`.\n",
    ">\n",
    "> Another shortcut is the `-` (dash) character.  `cd` will translate `-` into\n",
    "> *the previous directory I was in*, which is faster than having to remember,\n",
    "> then type, the full path.  This is a *very* efficient way of moving back\n",
    "> and forth between directories. The difference between `cd ..` and `cd -` is\n",
    "> that the former brings you *up*, while the latter brings you *back*. You can\n",
    "> think of it as the *Last Channel* button on a TV remote."
   ]
  },
  {
   "cell_type": "code",
   "execution_count": 8,
   "metadata": {
    "collapsed": false,
    "deletable": true,
    "editable": true
   },
   "outputs": [
    {
     "name": "stdout",
     "output_type": "stream",
     "text": [
      "C:\\Users\\skarzynskimw\n"
     ]
    }
   ],
   "source": [
    "cd ~"
   ]
  },
  {
   "cell_type": "code",
   "execution_count": 9,
   "metadata": {
    "collapsed": false,
    "deletable": true,
    "editable": true
   },
   "outputs": [
    {
     "name": "stdout",
     "output_type": "stream",
     "text": [
      "C:\\Users\n"
     ]
    }
   ],
   "source": [
    "cd .."
   ]
  },
  {
   "cell_type": "code",
   "execution_count": 10,
   "metadata": {
    "collapsed": false,
    "deletable": true,
    "editable": true
   },
   "outputs": [
    {
     "name": "stdout",
     "output_type": "stream",
     "text": [
      "C:\\Users\\skarzynskimw\n"
     ]
    }
   ],
   "source": [
    "cd -"
   ]
  },
  {
   "cell_type": "markdown",
   "metadata": {
    "deletable": true,
    "editable": true
   },
   "source": [
    "### Nelle's Pipeline: Organizing Files\n",
    "\n",
    "Knowing just this much about files and directories,\n",
    "Nelle is ready to organize the files that the protein assay machine will create.\n",
    "First,\n",
    "she creates a directory called `north-pacific-gyre`\n",
    "(to remind herself where the data came from).\n",
    "Inside that,\n",
    "she creates a directory called `2012-07-03`,\n",
    "which is the date she started processing the samples.\n",
    "She used to use names like `conference-paper` and `revised-results`,\n",
    "but she found them hard to understand after a couple of years.\n",
    "(The final straw was when she found herself creating\n",
    "a directory called `revised-revised-results-3`.)\n",
    "\n",
    "> ## Sorting Output\n",
    ">\n",
    "> Nelle names her directories \"year-month-day\",\n",
    "> with leading zeroes for months and days,\n",
    "> because the shell displays file and directory names in alphabetical order.\n",
    "> If she used month names,\n",
    "> December would come before July;\n",
    "> if she didn't use leading zeroes,\n",
    "> November ('11') would come before July ('7'). Similarly, putting the year first\n",
    "> means that June 2012 will come before June 2013."
   ]
  },
  {
   "cell_type": "markdown",
   "metadata": {
    "deletable": true,
    "editable": true
   },
   "source": [
    "## Tab completion \n",
    "Now let's take Nelle to the north-pacific-gyre subdirectory of the `data-shell` directory ,\n",
    "using the cd command and tab completion:\n",
    "type De, press tab, type da, press tab, type no, press tab, type 20, press tab"
   ]
  },
  {
   "cell_type": "code",
   "execution_count": null,
   "metadata": {
    "collapsed": true
   },
   "outputs": [],
   "source": []
  },
  {
   "cell_type": "code",
   "execution_count": 221,
   "metadata": {
    "collapsed": false,
    "deletable": true,
    "editable": true
   },
   "outputs": [
    {
     "name": "stdout",
     "output_type": "stream",
     "text": [
      "C:\\Users\\skarzynskimw\\Desktop\\data-shell\\north-pacific-gyre\\2012-07-03\n"
     ]
    }
   ],
   "source": [
    "cd Desktop/data-shell/north-pacific-gyre/2012-07-03/"
   ]
  },
  {
   "cell_type": "markdown",
   "metadata": {
    "deletable": true,
    "editable": true
   },
   "source": [
    "You can see that whenever you press tab,\n",
    "the shell automatically completes the directory name for us.\n",
    "Try using the cd command to return to the data-shell directory. Then go to the writing subdirectory of data-shell. Next, type the letter t, followed by tab.\n",
    "Pressing tab when there is more than one choice, brings up a list of choices, in this case the Desktop and data directories."
   ]
  },
  {
   "cell_type": "code",
   "execution_count": null,
   "metadata": {
    "collapsed": true
   },
   "outputs": [],
   "source": []
  },
  {
   "cell_type": "markdown",
   "metadata": {
    "deletable": true,
    "editable": true
   },
   "source": [
    "# Exercises "
   ]
  },
  {
   "cell_type": "markdown",
   "metadata": {
    "deletable": true,
    "editable": true
   },
   "source": [
    "> ## Absolute vs Relative Paths\n",
    ">\n",
    "> Starting from `/Users/amanda/data/`,\n",
    "> which of the following commands could Amanda use to navigate to her home directory,\n",
    "> which is `/Users/amanda`?\n",
    ">\n",
    "> 1. `cd .`\n",
    "> 2. `cd /`\n",
    "> 3. `cd /home/amanda`\n",
    "> 4. `cd ../..`\n",
    "> 5. `cd ~`\n",
    "> 6. `cd home`\n",
    "> 7. `cd ~/data/..`\n",
    "> 8. `cd`\n",
    "> 9. `cd ..`\n",
    ">\n",
    "> > ## Solution\n",
    "> > 1. No: `.` stands for the current directory.\n",
    "> > 2. No: `/` stands for the root directory.\n",
    "> > 3. No: Amanda's home directory is `/Users/amanda`.\n",
    "> > 4. No: this goes up two levels, i.e. ends in `/Users`.\n",
    "> > 5. Yes: `~` stands for the user's home directory, in this case `/Users/amanda`.\n",
    "> > 6. No: this would navigate into a directory `home` in the current directory if it exists.\n",
    "> > 7. Yes: unnecessarily complicated, but correct.\n",
    "> > 8. Yes: shortcut to go back to the user's home directory.\n",
    "> > 9. Yes: goes up one level."
   ]
  }
 ],
 "metadata": {
  "kernelspec": {
   "display_name": "Python 3",
   "language": "python",
   "name": "python3"
  },
  "language_info": {
   "codemirror_mode": {
    "name": "ipython",
    "version": 3
   },
   "file_extension": ".py",
   "mimetype": "text/x-python",
   "name": "python",
   "nbconvert_exporter": "python",
   "pygments_lexer": "ipython3",
   "version": "3.6.0"
  }
 },
 "nbformat": 4,
 "nbformat_minor": 2
}
