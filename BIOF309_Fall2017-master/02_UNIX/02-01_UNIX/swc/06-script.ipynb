{
 "cells": [
  {
   "cell_type": "markdown",
   "metadata": {},
   "source": [
    "---\n",
    "title: \"Shell Scripts\"\n",
    "teaching: 15\n",
    "exercises: 0\n",
    "questions:\n",
    "- \"How can I save and re-use commands?\"\n",
    "objectives:\n",
    "- \"Write a shell script that runs a command or series of commands for a fixed set of files.\"\n",
    "- \"Run a shell script from the command line.\"\n",
    "- \"Write a shell script that operates on a set of files defined by the user on the command line.\"\n",
    "- \"Create pipelines that include shell scripts you, and others, have written.\"\n",
    "keypoints:\n",
    "- \"Save commands in files (usually called shell scripts) for re-use.\"\n",
    "- \"`bash filename` runs the commands saved in a file.\"\n",
    "- \"`$@` refers to all of a shell script's command-line parameters.\"\n",
    "- \"`$1`, `$2`, etc., refer to the first command-line parameter, the second command-line parameter, etc.\"\n",
    "- \"Place variables in quotes if the values might have spaces in them.\"\n",
    "- \"Letting users decide what files to process is more flexible and more consistent with built-in Unix commands.\"\n",
    "---\n",
    "\n",
    "We are finally ready to see what makes the shell such a powerful programming environment.\n",
    "We are going to take the commands we repeat frequently and save them in files\n",
    "so that we can re-run all those operations again later by typing a single command.\n",
    "For historical reasons,\n",
    "a bunch of commands saved in a file is usually called a **shell script**,\n",
    "but make no mistake:\n",
    "these are actually small programs.\n",
    "\n",
    "Let's start by going back to `molecules/` and creating a new file, `middle.sh` which will\n",
    "become our shell script:"
   ]
  },
  {
   "cell_type": "code",
   "execution_count": null,
   "metadata": {},
   "outputs": [],
   "source": [
    "$ cd molecules\n",
    "$ nano middle.sh"
   ]
  },
  {
   "cell_type": "markdown",
   "metadata": {},
   "source": [
    "{: .bash}\n",
    "\n",
    "The command `nano middle.sh` opens the file `middle.sh` within the text editor \"nano\"\n",
    "(which runs within the shell).\n",
    "If the file does not exist, it will be created.\n",
    "We can use the text editor to directly edit the file -- we'll simply insert the following line:"
   ]
  },
  {
   "cell_type": "code",
   "execution_count": null,
   "metadata": {},
   "outputs": [],
   "source": [
    "head -n 15 octane.pdb | tail -n 5"
   ]
  },
  {
   "cell_type": "markdown",
   "metadata": {},
   "source": [
    "{: .source}\n",
    "\n",
    "This is a variation on the pipe we constructed earlier:\n",
    "it selects lines 11-15 of the file `octane.pdb`.\n",
    "Remember, we are *not* running it as a command just yet:\n",
    "we are putting the commands in a file.\n",
    "\n",
    "Then we save the file (`Ctrl-O` in nano),\n",
    " and exit the text editor (`Ctrl-X` in nano).\n",
    "Check that the directory `molecules` now contains a file called `middle.sh`.\n",
    "\n",
    "Once we have saved the file,\n",
    "we can ask the shell to execute the commands it contains.\n",
    "Our shell is called `bash`, so we run the following command:"
   ]
  },
  {
   "cell_type": "code",
   "execution_count": null,
   "metadata": {},
   "outputs": [],
   "source": [
    "$ bash middle.sh"
   ]
  },
  {
   "cell_type": "markdown",
   "metadata": {},
   "source": [
    "{: .bash}"
   ]
  },
  {
   "cell_type": "code",
   "execution_count": null,
   "metadata": {},
   "outputs": [],
   "source": [
    "ATOM      9  H           1      -4.502   0.681   0.785  1.00  0.00\n",
    "ATOM     10  H           1      -5.254  -0.243  -0.537  1.00  0.00\n",
    "ATOM     11  H           1      -4.357   1.252  -0.895  1.00  0.00\n",
    "ATOM     12  H           1      -3.009  -0.741  -1.467  1.00  0.00\n",
    "ATOM     13  H           1      -3.172  -1.337   0.206  1.00  0.00"
   ]
  },
  {
   "cell_type": "markdown",
   "metadata": {},
   "source": [
    "{: .output}\n",
    "\n",
    "Sure enough,\n",
    "our script's output is exactly what we would get if we ran that pipeline directly.\n",
    "\n",
    "> ## Text vs. Whatever\n",
    ">\n",
    "> We usually call programs like Microsoft Word or LibreOffice Writer \"text\n",
    "> editors\", but we need to be a bit more careful when it comes to\n",
    "> programming. By default, Microsoft Word uses `.docx` files to store not\n",
    "> only text, but also formatting information about fonts, headings, and so\n",
    "> on. This extra information isn't stored as characters, and doesn't mean\n",
    "> anything to tools like `head`: they expect input files to contain\n",
    "> nothing but the letters, digits, and punctuation on a standard computer\n",
    "> keyboard. When editing programs, therefore, you must either use a plain\n",
    "> text editor, or be careful to save files as plain text.\n",
    "{: .callout}\n",
    "\n",
    "What if we want to select lines from an arbitrary file?\n",
    "We could edit `middle.sh` each time to change the filename,\n",
    "but that would probably take longer than just retyping the command.\n",
    "Instead, let's edit `middle.sh` and make it more versatile:"
   ]
  },
  {
   "cell_type": "code",
   "execution_count": null,
   "metadata": {},
   "outputs": [],
   "source": [
    "$ nano middle.sh"
   ]
  },
  {
   "cell_type": "markdown",
   "metadata": {},
   "source": [
    "{: .bash}\n",
    "\n",
    "Now, within \"nano\", replace the text `octane.pdb` with the special variable called `$1`:"
   ]
  },
  {
   "cell_type": "code",
   "execution_count": null,
   "metadata": {},
   "outputs": [],
   "source": [
    "head -n 15 \"$1\" | tail -n 5"
   ]
  },
  {
   "cell_type": "markdown",
   "metadata": {},
   "source": [
    "{: .output}\n",
    "\n",
    "Inside a shell script,\n",
    "`$1` means \"the first filename (or other parameter) on the command line\".\n",
    "We can now run our script like this:"
   ]
  },
  {
   "cell_type": "code",
   "execution_count": null,
   "metadata": {},
   "outputs": [],
   "source": [
    "$ bash middle.sh octane.pdb"
   ]
  },
  {
   "cell_type": "markdown",
   "metadata": {},
   "source": [
    "{: .bash}"
   ]
  },
  {
   "cell_type": "code",
   "execution_count": null,
   "metadata": {},
   "outputs": [],
   "source": [
    "ATOM      9  H           1      -4.502   0.681   0.785  1.00  0.00\n",
    "ATOM     10  H           1      -5.254  -0.243  -0.537  1.00  0.00\n",
    "ATOM     11  H           1      -4.357   1.252  -0.895  1.00  0.00\n",
    "ATOM     12  H           1      -3.009  -0.741  -1.467  1.00  0.00\n",
    "ATOM     13  H           1      -3.172  -1.337   0.206  1.00  0.00"
   ]
  },
  {
   "cell_type": "markdown",
   "metadata": {},
   "source": [
    "{: .output}\n",
    "\n",
    "or on a different file like this:"
   ]
  },
  {
   "cell_type": "code",
   "execution_count": null,
   "metadata": {},
   "outputs": [],
   "source": [
    "$ bash middle.sh pentane.pdb"
   ]
  },
  {
   "cell_type": "markdown",
   "metadata": {},
   "source": [
    "{: .bash}"
   ]
  },
  {
   "cell_type": "code",
   "execution_count": null,
   "metadata": {},
   "outputs": [],
   "source": [
    "ATOM      9  H           1       1.324   0.350  -1.332  1.00  0.00\n",
    "ATOM     10  H           1       1.271   1.378   0.122  1.00  0.00\n",
    "ATOM     11  H           1      -0.074  -0.384   1.288  1.00  0.00\n",
    "ATOM     12  H           1      -0.048  -1.362  -0.205  1.00  0.00\n",
    "ATOM     13  H           1      -1.183   0.500  -1.412  1.00  0.00"
   ]
  },
  {
   "cell_type": "markdown",
   "metadata": {},
   "source": [
    "{: .output}\n",
    "\n",
    "> ## Double-Quotes Around Arguments\n",
    ">\n",
    "> For the same reason that we put the loop variable inside double-quotes,\n",
    "> in case the filename happens to contain any spaces,\n",
    "> we surround `$1` with double-quotes.\n",
    "{: .callout}\n",
    "\n",
    "We still need to edit `middle.sh` each time we want to adjust the range of lines,\n",
    "though.\n",
    "Let's fix that by using the special variables `$2` and `$3` for the\n",
    "number of lines to be passed to `head` and `tail` respectively:"
   ]
  },
  {
   "cell_type": "code",
   "execution_count": null,
   "metadata": {},
   "outputs": [],
   "source": [
    "$ nano middle.sh"
   ]
  },
  {
   "cell_type": "markdown",
   "metadata": {},
   "source": [
    "{: .bash}"
   ]
  },
  {
   "cell_type": "code",
   "execution_count": null,
   "metadata": {},
   "outputs": [],
   "source": [
    "head -n \"$2\" \"$1\" | tail -n \"$3\""
   ]
  },
  {
   "cell_type": "markdown",
   "metadata": {},
   "source": [
    "{: .output}\n",
    "\n",
    "We can now run:"
   ]
  },
  {
   "cell_type": "code",
   "execution_count": null,
   "metadata": {},
   "outputs": [],
   "source": [
    "$ bash middle.sh pentane.pdb 15 5"
   ]
  },
  {
   "cell_type": "markdown",
   "metadata": {},
   "source": [
    "{: .bash}"
   ]
  },
  {
   "cell_type": "code",
   "execution_count": null,
   "metadata": {},
   "outputs": [],
   "source": [
    "ATOM      9  H           1       1.324   0.350  -1.332  1.00  0.00\n",
    "ATOM     10  H           1       1.271   1.378   0.122  1.00  0.00\n",
    "ATOM     11  H           1      -0.074  -0.384   1.288  1.00  0.00\n",
    "ATOM     12  H           1      -0.048  -1.362  -0.205  1.00  0.00\n",
    "ATOM     13  H           1      -1.183   0.500  -1.412  1.00  0.00"
   ]
  },
  {
   "cell_type": "markdown",
   "metadata": {},
   "source": [
    "{: .output}\n",
    "\n",
    "By changing the arguments to our command we can change our script's\n",
    "behaviour:"
   ]
  },
  {
   "cell_type": "code",
   "execution_count": null,
   "metadata": {},
   "outputs": [],
   "source": [
    "$ bash middle.sh pentane.pdb 20 5"
   ]
  },
  {
   "cell_type": "markdown",
   "metadata": {},
   "source": [
    "{: .bash}"
   ]
  },
  {
   "cell_type": "code",
   "execution_count": null,
   "metadata": {},
   "outputs": [],
   "source": [
    "ATOM     14  H           1      -1.259   1.420   0.112  1.00  0.00\n",
    "ATOM     15  H           1      -2.608  -0.407   1.130  1.00  0.00\n",
    "ATOM     16  H           1      -2.540  -1.303  -0.404  1.00  0.00\n",
    "ATOM     17  H           1      -3.393   0.254  -0.321  1.00  0.00\n",
    "TER      18              1"
   ]
  },
  {
   "cell_type": "markdown",
   "metadata": {},
   "source": [
    "{: .output}\n",
    "\n",
    "This works,\n",
    "but it may take the next person who reads `middle.sh` a moment to figure out what it does.\n",
    "We can improve our script by adding some **comments** at the top:"
   ]
  },
  {
   "cell_type": "code",
   "execution_count": null,
   "metadata": {},
   "outputs": [],
   "source": [
    "$ nano middle.sh"
   ]
  },
  {
   "cell_type": "markdown",
   "metadata": {},
   "source": [
    "{: .bash}"
   ]
  },
  {
   "cell_type": "code",
   "execution_count": null,
   "metadata": {},
   "outputs": [],
   "source": [
    "# Select lines from the middle of a file.\n",
    "# Usage: bash middle.sh filename end_line num_lines\n",
    "head -n \"$2\" \"$1\" | tail -n \"$3\""
   ]
  },
  {
   "cell_type": "markdown",
   "metadata": {},
   "source": [
    "{: .output}\n",
    "\n",
    "A comment starts with a `#` character and runs to the end of the line.\n",
    "The computer ignores comments,\n",
    "but they're invaluable for helping people (including your future self) understand and use scripts.\n",
    "The only caveat is that each time you modify the script,\n",
    "you should check that the comment is still accurate:\n",
    "an explanation that sends the reader in the wrong direction is worse than none at all.\n",
    "\n",
    "What if we want to process many files in a single pipeline?\n",
    "For example, if we want to sort our `.pdb` files by length, we would type:"
   ]
  },
  {
   "cell_type": "code",
   "execution_count": null,
   "metadata": {},
   "outputs": [],
   "source": [
    "$ wc -l *.pdb | sort -n"
   ]
  },
  {
   "cell_type": "markdown",
   "metadata": {},
   "source": [
    "{: .bash}\n",
    "\n",
    "because `wc -l` lists the number of lines in the files\n",
    "(recall that `wc` stands for 'word count', adding the `-l` flag means 'count lines' instead)\n",
    "and `sort -n` sorts things numerically.\n",
    "We could put this in a file,\n",
    "but then it would only ever sort a list of `.pdb` files in the current directory.\n",
    "If we want to be able to get a sorted list of other kinds of files,\n",
    "we need a way to get all those names into the script.\n",
    "We can't use `$1`, `$2`, and so on\n",
    "because we don't know how many files there are.\n",
    "Instead, we use the special variable `$@`,\n",
    "which means,\n",
    "\"All of the command-line parameters to the shell script.\"\n",
    "We also should put `$@` inside double-quotes\n",
    "to handle the case of parameters containing spaces\n",
    "(`\"$@\"` is equivalent to `\"$1\"` `\"$2\"` ...)\n",
    "Here's an example:"
   ]
  },
  {
   "cell_type": "code",
   "execution_count": null,
   "metadata": {},
   "outputs": [],
   "source": [
    "$ nano sorted.sh"
   ]
  },
  {
   "cell_type": "markdown",
   "metadata": {},
   "source": [
    "{: .bash}"
   ]
  },
  {
   "cell_type": "code",
   "execution_count": null,
   "metadata": {},
   "outputs": [],
   "source": [
    "# Sort filenames by their length.\n",
    "# Usage: bash sorted.sh one_or_more_filenames\n",
    "wc -l \"$@\" | sort -n"
   ]
  },
  {
   "cell_type": "markdown",
   "metadata": {},
   "source": [
    "{: .output}"
   ]
  },
  {
   "cell_type": "code",
   "execution_count": null,
   "metadata": {},
   "outputs": [],
   "source": [
    "$ bash sorted.sh *.pdb ../creatures/*.dat"
   ]
  },
  {
   "cell_type": "markdown",
   "metadata": {},
   "source": [
    "{: .bash}"
   ]
  },
  {
   "cell_type": "code",
   "execution_count": null,
   "metadata": {},
   "outputs": [],
   "source": [
    "9 methane.pdb\n",
    "12 ethane.pdb\n",
    "15 propane.pdb\n",
    "20 cubane.pdb\n",
    "21 pentane.pdb\n",
    "30 octane.pdb\n",
    "163 ../creatures/basilisk.dat\n",
    "163 ../creatures/unicorn.dat"
   ]
  },
  {
   "cell_type": "markdown",
   "metadata": {},
   "source": [
    "{: .output}\n",
    "\n",
    "> ## Why Isn't It Doing Anything?\n",
    ">\n",
    "> What happens if a script is supposed to process a bunch of files, but we\n",
    "> don't give it any filenames? For example, what if we type:\n",
    ">\n",
    "> ~~~\n",
    "> $ bash sorted.sh\n",
    "> ~~~\n",
    "> {: .bash}\n",
    ">\n",
    "> but don't say `*.dat` (or anything else)? In this case, `$@` expands to\n",
    "> nothing at all, so the pipeline inside the script is effectively:\n",
    ">\n",
    "> ~~~\n",
    "> $ wc -l | sort -n\n",
    "> ~~~\n",
    "> {: .bash}\n",
    ">\n",
    "> Since it doesn't have any filenames, `wc` assumes it is supposed to\n",
    "> process standard input, so it just sits there and waits for us to give\n",
    "> it some data interactively. From the outside, though, all we see is it\n",
    "> sitting there: the script doesn't appear to do anything.\n",
    "{: .callout}\n",
    "\n",
    "\n",
    "Suppose we have just run a series of commands that did something useful --- for example,\n",
    "that created a graph we'd like to use in a paper.\n",
    "We'd like to be able to re-create the graph later if we need to,\n",
    "so we want to save the commands in a file.\n",
    "Instead of typing them in again\n",
    "(and potentially getting them wrong)\n",
    "we can do this:"
   ]
  },
  {
   "cell_type": "code",
   "execution_count": null,
   "metadata": {},
   "outputs": [],
   "source": [
    "$ history | tail -n 5 > redo-figure-3.sh"
   ]
  },
  {
   "cell_type": "markdown",
   "metadata": {},
   "source": [
    "{: .bash}\n",
    "\n",
    "The file `redo-figure-3.sh` now contains:"
   ]
  },
  {
   "cell_type": "code",
   "execution_count": null,
   "metadata": {},
   "outputs": [],
   "source": [
    "297 bash goostats -r NENE01729B.txt stats-NENE01729B.txt\n",
    "298 bash goodiff stats-NENE01729B.txt /data/validated/01729.txt > 01729-differences.txt\n",
    "299 cut -d ',' -f 2-3 01729-differences.txt > 01729-time-series.txt\n",
    "300 ygraph --format scatter --color bw --borders none 01729-time-series.txt figure-3.png\n",
    "301 history | tail -n 5 > redo-figure-3.sh"
   ]
  },
  {
   "cell_type": "markdown",
   "metadata": {},
   "source": [
    "{: .source}\n",
    "\n",
    "After a moment's work in an editor to remove the serial numbers on the commands,\n",
    "and to remove the final line where we called the `history` command,\n",
    "we have a completely accurate record of how we created that figure.\n",
    "\n",
    "In practice, most people develop shell scripts by running commands at the shell prompt a few times\n",
    "to make sure they're doing the right thing,\n",
    "then saving them in a file for re-use.\n",
    "This style of work allows people to recycle\n",
    "what they discover about their data and their workflow with one call to `history`\n",
    "and a bit of editing to clean up the output\n",
    "and save it as a shell script.\n",
    "\n",
    "## Nelle's Pipeline: Creating a Script\n",
    "\n",
    "An off-hand comment from her supervisor has made Nelle realize that\n",
    "she should have provided a couple of extra parameters to `goostats` when she processed her files.\n",
    "This might have been a disaster if she had done all the analysis by hand,\n",
    "but thanks to `for` loops,\n",
    "it will only take a couple of hours to re-do.\n",
    "\n",
    "But experience has taught her that if something needs to be done twice,\n",
    "it will probably need to be done a third or fourth time as well.\n",
    "She runs the editor and writes the following:"
   ]
  },
  {
   "cell_type": "code",
   "execution_count": null,
   "metadata": {},
   "outputs": [],
   "source": [
    "# Calculate reduced stats for data files at J = 100 c/bp.\n",
    "for datafile in \"$@\"\n",
    "do\n",
    "    echo $datafile\n",
    "    bash goostats -J 100 -r $datafile stats-$datafile\n",
    "done"
   ]
  },
  {
   "cell_type": "markdown",
   "metadata": {},
   "source": [
    "{: .bash}\n",
    "\n",
    "(The parameters `-J 100` and `-r` are the ones her supervisor said she should have used.)\n",
    "She saves this in a file called `do-stats.sh`\n",
    "so that she can now re-do the first stage of her analysis by typing:"
   ]
  },
  {
   "cell_type": "code",
   "execution_count": null,
   "metadata": {},
   "outputs": [],
   "source": [
    "$ bash do-stats.sh *[AB].txt"
   ]
  },
  {
   "cell_type": "markdown",
   "metadata": {},
   "source": [
    "{: .bash}\n",
    "\n",
    "She can also do this:"
   ]
  },
  {
   "cell_type": "code",
   "execution_count": null,
   "metadata": {},
   "outputs": [],
   "source": [
    "$ bash do-stats.sh *[AB].txt | wc -l"
   ]
  },
  {
   "cell_type": "markdown",
   "metadata": {},
   "source": [
    "{: .bash}\n",
    "\n",
    "so that the output is just the number of files processed\n",
    "rather than the names of the files that were processed.\n",
    "\n",
    "One thing to note about Nelle's script is that\n",
    "it lets the person running it decide what files to process.\n",
    "She could have written it as:"
   ]
  },
  {
   "cell_type": "code",
   "execution_count": null,
   "metadata": {},
   "outputs": [],
   "source": [
    "# Calculate reduced stats for  A and Site B data files at J = 100 c/bp.\n",
    "for datafile in *[AB].txt\n",
    "do\n",
    "    echo $datafile\n",
    "    bash goostats -J 100 -r $datafile stats-$datafile\n",
    "done"
   ]
  },
  {
   "cell_type": "markdown",
   "metadata": {},
   "source": [
    "{: .bash}\n",
    "\n",
    "The advantage is that this always selects the right files:\n",
    "she doesn't have to remember to exclude the 'Z' files.\n",
    "The disadvantage is that it *always* selects just those files --- she can't run it on all files\n",
    "(including the 'Z' files),\n",
    "or on the 'G' or 'H' files her colleagues in Antarctica are producing,\n",
    "without editing the script.\n",
    "If she wanted to be more adventurous,\n",
    "she could modify her script to check for command-line parameters,\n",
    "and use `*[AB].txt` if none were provided.\n",
    "Of course, this introduces another tradeoff between flexibility and complexity.\n",
    "\n",
    "> ## Variables in Shell Scripts\n",
    ">\n",
    "> In the `molecules` directory, imagine you have a shell script called `script.sh` containing the\n",
    "> following commands:\n",
    ">\n",
    "> ~~~\n",
    "> head -n $2 $1\n",
    "> tail -n $3 $1\n",
    "> ~~~\n",
    "> {: .bash}\n",
    ">\n",
    "> While you are in the `molecules` directory, you type the following command:\n",
    ">\n",
    "> ~~~\n",
    "> bash script.sh '*.pdb' 1 1\n",
    "> ~~~\n",
    "> {: .bash}\n",
    ">\n",
    "> Which of the following outputs would you expect to see?\n",
    ">\n",
    "> 1. All of the lines between the first and the last lines of each file ending in `.pdb`\n",
    ">    in the `molecules` directory\n",
    "> 2. The first and the last line of each file ending in `.pdb` in the `molecules` directory\n",
    "> 3. The first and the last line of each file in the `molecules` directory\n",
    "> 4. An error because of the quotes around `*.pdb`\n",
    "{: .challenge}\n",
    "\n",
    "> ## List Unique Species\n",
    ">\n",
    "> Leah has several hundred data files, each of which is formatted like this:\n",
    ">\n",
    "> ~~~\n",
    "> 2013-11-05,deer,5\n",
    "> 2013-11-05,rabbit,22\n",
    "> 2013-11-05,raccoon,7\n",
    "> 2013-11-06,rabbit,19\n",
    "> 2013-11-06,deer,2\n",
    "> 2013-11-06,fox,1\n",
    "> 2013-11-07,rabbit,18\n",
    "> 2013-11-07,bear,1\n",
    "> ~~~\n",
    "> {: .source}\n",
    ">\n",
    "> Write a shell script called `species.sh` that takes any number of\n",
    "> filenames as command-line parameters, and uses `cut`, `sort`, and\n",
    "> `uniq` to print a list of the unique species appearing in each of\n",
    "> those files separately.\n",
    "{: .challenge}\n",
    "\n",
    "> ## Find the Longest File With a Given Extension\n",
    ">\n",
    "> Write a shell script called `longest.sh` that takes the name of a\n",
    "> directory and a filename extension as its parameters, and prints\n",
    "> out the name of the file with the most lines in that directory\n",
    "> with that extension. For example:\n",
    ">\n",
    "> ~~~\n",
    "> $ bash longest.sh /tmp/data pdb\n",
    "> ~~~\n",
    "> {: .bash}\n",
    ">\n",
    "> would print the name of the `.pdb` file in `/tmp/data` that has\n",
    "> the most lines.\n",
    "{: .challenge}\n",
    "\n",
    "> ## Why Record Commands in the History Before Running Them?\n",
    ">\n",
    "> If you run the command:\n",
    ">\n",
    "> ~~~\n",
    "> $ history | tail -n 5 > recent.sh\n",
    "> ~~~\n",
    "> {: .bash}\n",
    ">\n",
    "> the last command in the file is the `history` command itself, i.e.,\n",
    "> the shell has added `history` to the command log before actually\n",
    "> running it. In fact, the shell *always* adds commands to the log\n",
    "> before running them. Why do you think it does this?\n",
    "{: .challenge}\n",
    "\n",
    "> ## Script Reading Comprehension\n",
    ">\n",
    "> Joel's `data` directory contains three files: `fructose.dat`,\n",
    "> `glucose.dat`, and `sucrose.dat`. Explain what a script called\n",
    "> `example.sh` would do when run as `bash example.sh *.dat` if it\n",
    "> contained the following lines:\n",
    ">\n",
    "> ~~~\n",
    "> # Script 1\n",
    "> echo *.*\n",
    "> ~~~\n",
    "> {: .bash}\n",
    ">\n",
    "> ~~~\n",
    "> # Script 2\n",
    "> for filename in $1 $2 $3\n",
    "> do\n",
    ">     cat $filename\n",
    "> done\n",
    "> ~~~\n",
    "> {: .bash}\n",
    ">\n",
    "> ~~~\n",
    "> # Script 3\n",
    "> echo $@.dat\n",
    "> ~~~\n",
    "> {: .bash}\n",
    "{: .challenge}\n",
    "\n",
    "> ## Debugging Scripts\n",
    ">\n",
    "> Suppose you have saved the following script in a file called `do-errors.sh`\n",
    "> in Nelle's `north-pacific-gyre/2012-07-03` directory:\n",
    ">\n",
    "> ~~~\n",
    "> # Calculate reduced stats for data files at J = 100 c/bp.\n",
    "> for datafile in \"$@\"\n",
    "> do\n",
    ">     echo $datfile\n",
    ">     bash goostats -J 100 -r $datafile stats-$datafile\n",
    "> done\n",
    "> ~~~\n",
    "> {: .bash}\n",
    ">\n",
    "> When you run it:\n",
    ">\n",
    "> ~~~\n",
    "> $ bash do-errors.sh *[AB].txt\n",
    "> ~~~\n",
    "> {: .bash}\n",
    ">\n",
    "> the output is blank.\n",
    "> To figure out why, re-run the script using the `-x` option:\n",
    ">\n",
    "> ~~~\n",
    "> bash -x do-errors.sh *[AB].txt\n",
    "> ~~~\n",
    "> {: .bash}\n",
    ">\n",
    "> What is the output showing you?\n",
    "> Which line is responsible for the error?\n",
    "{: .challenge}"
   ]
  }
 ],
 "metadata": {},
 "nbformat": 4,
 "nbformat_minor": 2
}
