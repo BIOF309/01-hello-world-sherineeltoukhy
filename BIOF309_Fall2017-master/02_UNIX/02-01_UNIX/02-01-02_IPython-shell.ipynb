{
  "cells": [
    {
      "cell_type": "markdown",
      "source": [
        "# Questions to think about...\n",
        "- \"Where, exactly, is my data? Where should it be?\"\n",
        "- \"Where is the computer analyzing my data? Can I make it go faster?\"\n",
        "- \"How do all of these places relate to each other?\"\n",
        "- \"What is the shell and why do I care?\"\n",
        "- \"What is python? What is IPython? What is Juypter?\"\n",
        "- \"What are the tools we'll be using in the course?\"\n",
        "# Objectives:\n",
        "- \"Understand how the components in your computing stack relate to one another\"\n",
        "- \"Understand the different ways of interacting with your computer and what the pros and cons are\"\n",
        "- \"Explain when and why command-line interfaces should be used instead of graphical interfaces.\"\n",
        "- \"Explain the advantages of remote computing including cloud and high performance computing.\"\n",
        "- \"Explain how to access the NIMH dedicated computing resources in the most convenient manner.\"\n",
        "- \"Get exposed to IPython and learn it's strengths.\"\n",
        "- \"Learn shortcuts and hotkeys to make command line computing fast and efficient\"\n",
        "keypoints:\n",
        "- \"A shell is a program whose primary purpose is to read commands and run other\n",
        "programs.\"\n",
        "- \"The shell’s main advantages are its high action-to-keystroke ratio, its\n",
        "support for automating repetitive tasks, and that it can be used to access\n",
        "networked machines.\"\n",
        "- \"The shell’s main disadvantages are its primarily textual nature and how\n",
        "cryptic its commands and operation can be.\"\n",
        "- \"We will work on a remote instance of the linux operating system\"\n",
        "- \"Although there are many ways to work remotely, we will use a graphical\n",
        "interface using NoMachine.\"\n",
        "- \"We will use an IPython console to interact with the Python interpretter\"\n",
        "- \"We will learn basic commands for working with the computer file system:\n",
        "`pwd`, `ls`, `mkdir` and `cd`.\"\n",
        "-  \"Understand the difference between alias, system commands, and IPython magics\"\n",
        "- \"Show how `cd` behaves differently because each system call is a subprocess\"\n",
        "---\n"
      ],
      "metadata": {}
    },
    {
      "cell_type": "code",
      "source": [
        "%automagic"
      ],
      "outputs": [],
      "execution_count": null,
      "metadata": {}
    },
    {
      "cell_type": "markdown",
      "source": [
        "{: .python}"
      ],
      "metadata": {}
    },
    {
      "cell_type": "code",
      "source": [
        "Automagic is OFF, % prefix IS needed for line magics."
      ],
      "outputs": [],
      "execution_count": null,
      "metadata": {}
    },
    {
      "cell_type": "markdown",
      "source": [
        "The Bash shell is a [great thing to learn](https://swcarpentry.github.io/shell-novice/), but we want to focus on teaching you reproducible computing concepts without getting bogged down in the syntax of too many different languages.\n",
        "{: .solution}\n",
        "\n\n",
        "The [Jupyter qtconsole](https://jupyter.readthedocs.io/en/latest/index.html) is\n",
        "a developing environment that is optimized for interactive computing typical of\n",
        "scientific analyses. It provides lots of convenient commands and shortcuts for\n",
        "this. Different languages can be used with this interface. In our case we will be\n",
        "using IPython. It provides us with a convenient interface to the system shell\n",
        "and the Python interpreter. We will start by typing in the IPython command:"
      ],
      "metadata": {}
    },
    {
      "cell_type": "code",
      "source": [
        "%pwd"
      ],
      "outputs": [],
      "execution_count": null,
      "metadata": {}
    },
    {
      "cell_type": "markdown",
      "source": [
        "{: .source}"
      ],
      "metadata": {}
    },
    {
      "cell_type": "code",
      "source": [
        "/Users/this_user"
      ],
      "outputs": [],
      "execution_count": null,
      "metadata": {}
    },
    {
      "cell_type": "markdown",
      "source": [
        "{: .output}\n",
        "\n",
        "This returns the present working directory, the file-system-context\n",
        "for the commands that we execute. We can refer to these files by simply typing\n",
        "their names. We can list these files by using the next command:"
      ],
      "metadata": {}
    },
    {
      "cell_type": "code",
      "source": [
        "%ls"
      ],
      "outputs": [],
      "execution_count": null,
      "metadata": {}
    },
    {
      "cell_type": "markdown",
      "source": [
        "{: .source}\n",
        "\n",
        "The `%ls` command returns all the files in the present working directory. When\n",
        "we wish to perform actions on these files we can refer to them directly by\n",
        "their names and the shell will understand which files we are referring to.\n",
        "Later we will talk about how to add new files to the current directory but for\n",
        "now we will use the `%mkdir` command to add a directory into our present\n",
        "working directory:"
      ],
      "metadata": {}
    },
    {
      "cell_type": "code",
      "source": [
        "%mkdir repro_course"
      ],
      "outputs": [],
      "execution_count": null,
      "metadata": {}
    },
    {
      "cell_type": "markdown",
      "source": [
        "{: .source}\n",
        "\n",
        "## IPython magics and system commands\n",
        "\n",
        "The above commands can be entered into the IPython in slightly different ways.\n",
        "Instead of using the \"%\" sign we can instead use the \"!\" sign and we will still\n",
        "get the same results (although we will not be able to make the same directory\n",
        "again)."
      ],
      "metadata": {}
    },
    {
      "cell_type": "code",
      "source": [
        "!pwd\n",
        "!ls\n",
        "!mkdir repro_course"
      ],
      "outputs": [],
      "execution_count": null,
      "metadata": {}
    },
    {
      "cell_type": "markdown",
      "source": [
        "{: .source}"
      ],
      "metadata": {}
    },
    {
      "cell_type": "code",
      "source": [
        "/Users/this_user\n",
        "... A list of files in the current directory...\n",
        "mkdir: cannot create directory `repro_course': File exists"
      ],
      "outputs": [],
      "execution_count": null,
      "metadata": {}
    },
    {
      "cell_type": "markdown",
      "source": [
        "{: .output}\n",
        "\n",
        "When we use the \"%\" sign it denotes that the command is an \"IPython magic\". These\n",
        "are special commands available in IPython that make doing some common tasks\n",
        "easier on the command line. The \"!\" instead evalutate the command with the system\n",
        "shell. On a Linux or Mac OSX operating system this will likely be the Bash\n",
        "shell. All of these commands exist in Bash; however, on a Windows operating\n",
        "system the pwd system command does not exist. You can see we have to be careful\n",
        "about using system commands. Some will be operating system dependent. Since the\n",
        "IPython magics will work regardless of the operating system used, we shall\n",
        "instead use those when we can.\n",
        "\n",
        "## System commands start a new sub-process\n",
        "Apart from the different system commands across platforms there is another\n",
        "reason we might have a preference for IPython magics. Each system command starts\n",
        "up a sub-process, executes the commands, and then closes. The effect of this can\n",
        "be seen very easily when we use the \"!cd\" system command to change directories."
      ],
      "metadata": {}
    },
    {
      "cell_type": "code",
      "source": [
        "%pwd\n",
        "!cd repro_course\n",
        "%pwd"
      ],
      "outputs": [],
      "execution_count": null,
      "metadata": {}
    },
    {
      "cell_type": "markdown",
      "source": [
        "{: .source}"
      ],
      "metadata": {}
    },
    {
      "cell_type": "code",
      "source": [
        "/Users/this_user\n",
        "/Users/this_user"
      ],
      "outputs": [],
      "execution_count": null,
      "metadata": {}
    },
    {
      "cell_type": "markdown",
      "source": [
        "{: .output}\n",
        "\n",
        "This would not be the behavior we would wish from a command that changes our\n",
        "present working directory. This occurs because the changes made to the\n",
        "environment in the sub-process are not propagated back to the IPython shell. If\n",
        "we use the IPython magic `%cd` we get the behavior we want."
      ],
      "metadata": {}
    },
    {
      "cell_type": "code",
      "source": [
        "%pwd\n",
        "%cd repro_course\n",
        "%pwd"
      ],
      "outputs": [],
      "execution_count": null,
      "metadata": {}
    },
    {
      "cell_type": "markdown",
      "source": [
        "{: .source}"
      ],
      "metadata": {}
    },
    {
      "cell_type": "code",
      "source": [
        "/Users/this_user\n",
        "/Users/this_user/repro_course\n",
        "/Users/this_user/repro_course"
      ],
      "outputs": [],
      "execution_count": null,
      "metadata": {}
    },
    {
      "cell_type": "markdown",
      "source": [
        "{: .output}\n",
        "\n",
        "*  As we work through the course we will continue to learn some convenient\n",
        "shortcuts available to use in the IPython shell; however, most of the time we\n",
        "will be writing commands that are in the Python language.\n",
        "\n\n",
        "## Convenient shortcuts to remember\n",
        "\n",
        "*   Use tab completion when possible. The computer is more precise than we are.\n",
        "*   We can cycle through previous commands using up and down arrows.\n",
        "*   We can cycle through previous commands starting with the current text using\n",
        "Ctl + n/p.\n",
        "*   Ctl + Enter / Shift + Enter allow us to run commands in different\n",
        "ways."
      ],
      "metadata": {}
    }
  ],
  "metadata": {
    "kernelspec": {
      "name": "python3",
      "language": "python",
      "display_name": "Python 3"
    },
    "kernel_info": {
      "name": "python3"
    },
    "language_info": {
      "mimetype": "text/x-python",
      "codemirror_mode": {
        "name": "ipython",
        "version": 3
      },
      "file_extension": ".py",
      "version": "3.5.3",
      "nbconvert_exporter": "python",
      "pygments_lexer": "ipython3",
      "name": "python"
    },
    "nteract": {
      "version": "0.2.0"
    }
  },
  "nbformat": 4,
  "nbformat_minor": 2
}