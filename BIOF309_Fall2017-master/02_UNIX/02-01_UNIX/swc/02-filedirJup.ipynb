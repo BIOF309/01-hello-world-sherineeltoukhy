{
 "cells": [
  {
   "cell_type": "markdown",
   "metadata": {},
   "source": [
    "## Navigating Files and Directories\n",
    "Teaching: 15 minute\n",
    "Exercises: 0 minute\n",
    "\n",
    "Questions:\n",
    "- \"How can I move around on my computer?\"\n",
    "- \"How can I see what files and directories I have?\"\n",
    "- \"How can I specify the location of a file or directory on my computer?\"\n",
    "\n",
    "Objectives:\n",
    "- \"Explain the similarities and differences between a file and a directory.\"\n",
    "- \"Translate an absolute path into a relative path and vice versa.\"\n",
    "- \"Construct absolute and relative paths that identify specific files and directories.\"\n",
    "- \"Explain the steps in the shell's read-run-print cycle.\"\n",
    "- \"Identify the actual command, flags, and filenames in a command-line call.\"\n",
    "- \"Demonstrate the use of tab completion, and explain its advantages.\"\n",
    "\n",
    "Key Points:\n",
    "- \"The file system is responsible for managing information on the disk.\"\n",
    "- \"Information is stored in files, which are stored in directories (folders).\"\n",
    "- \"Directories can also store other directories, which forms a directory tree.\"\n",
    "- \"`cd path` changes the current working directory.\"\n",
    "- \"`ls path` prints a listing of a specific file or directory; `ls` on its own lists the current working directory.\"\n",
    "- \"`pwd` prints the user's current working directory.\"\n",
    "- \"`whoami` shows the user's current identity.\"\n",
    "- \"`/` on its own is the root directory of the whole file system.\"\n",
    "- \"A relative path specifies a location starting from the current location.\"\n",
    "- \"An absolute path specifies a location from the root of the file system.\"\n",
    "- \"Directory names in a path are separated with '/' on Unix, but '\\\\\\\\' on Windows.\"\n",
    "- \"'..' means 'the directory above the current one'; '.' on its own means 'the current directory'.\"\n",
    "- \"Most files' names are `something.extension`. The extension isn't required, and doesn't guarantee anything, but is normally used to indicate the type of data in the file.\"\n",
    "- \"Most commands take options (flags) which begin with a '-'.\"\n",
    "---\n",
    "\n",
    "The part of the operating system responsible for managing files and directories\n",
    "is called the **file system**.\n",
    "It organizes our data into files,\n",
    "which hold information,\n",
    "and directories (also called \"folders\"),\n",
    "which hold files or other directories.\n",
    "\n",
    "Several commands are frequently used to create, inspect, rename, and delete files and directories.\n",
    "Now we will start exploring them, using Jupyter Notebook.\n",
    "\n",
    "## Jupyter Notebook\n",
    "\n",
    "\"The Jupyter Notebook is an open-source web application that allows you to create and share documents that contain live code, equations, visualizations and explanatory text.\" The main advantage of Jupyter Notebook is interactivity.\n",
    "\n",
    "## Using UNIX-style shell commands in Jupyter QtConsole and Notebook\n",
    "\n",
    "You should use all of the commands in this lesson without any modification except whoami. For whoami, add an exclamation point (!) in front of this command i.e. !whoami. We will go over the difference between including and not including the exclamation point (!) later.\n",
    "\n",
    "The dollar sign is a **prompt**, which shows us that the shell is waiting for input;\n",
    "your shell may use a different character as a prompt and may add information before\n",
    "the prompt. When typing commands, either from these lessons or from other sources,\n",
    "do not type the prompt, only the commands that follow it.\n",
    "\n",
    "Type the command `whoami`,\n",
    "then press the Enter key (sometimes marked Return) to send the command to the shell.\n",
    "The command's output is the ID of the current user,\n",
    "i.e.,\n",
    "it shows us who the shell thinks we are:"
   ]
  },
  {
   "cell_type": "code",
   "execution_count": null,
   "metadata": {},
   "outputs": [],
   "source": [
    "!whoami"
   ]
  },
  {
   "cell_type": "code",
   "execution_count": null,
   "metadata": {},
   "outputs": [],
   "source": [
    "skarzynskimw\n"
   ]
  },
  {
   "cell_type": "markdown",
   "metadata": {},
   "source": [
    "More specifically, when we type `whoami` the shell:\n",
    "\n",
    "1.  finds a program called `whoami`,\n",
    "2.  runs that program,\n",
    "3.  displays that program's output, then\n",
    "4.  displays a new prompt to tell us that it's ready for more commands.\n",
    "\n",
    "\n",
    "> ## Username Variation\n",
    ">\n",
    "> In this lesson, we have used the username `nelle` (associated\n",
    "> with our hypothetical scientist Nelle) in example input and output throughout.  \n",
    "> However, when\n",
    "> you type this lesson's commands on your computer,\n",
    "> you should see and use something different,\n",
    "> namely, the username associated with the user account on your computer.  This\n",
    "> username will be the output from `whoami`.  In\n",
    "> what follows, `nelle` should always be replaced by that username.  \n",
    "\n",
    "Next,\n",
    "let's find out where we are by running a command called `pwd`\n",
    "(which stands for \"print working directory\").\n",
    "At any moment,\n",
    "our **current working directory**\n",
    "is our current default directory,\n",
    "i.e.,\n",
    "the directory that the computer assumes we want to run commands in\n",
    "unless we explicitly specify something else.\n",
    "Here,\n",
    "the computer's response is `/Users/nelle`,\n",
    "which is Nelle's **home directory**:"
   ]
  },
  {
   "cell_type": "code",
   "execution_count": null,
   "metadata": {},
   "outputs": [],
   "source": [
    "pwd"
   ]
  },
  {
   "cell_type": "code",
   "execution_count": null,
   "metadata": {},
   "outputs": [],
   "source": [
    "'C:\\\\Users\\\\skarzynskimw'\n",
    "\n"
   ]
  },
  {
   "cell_type": "markdown",
   "metadata": {},
   "source": [
    "> ## Home Directory Variation\n",
    ">\n",
    "> The home directory path will look different on different operating systems.\n",
    "> On Linux it may look like `/home/nelle`,\n",
    "> and on Windows it will be similar to `C:\\Documents and Settings\\nelle` or\n",
    "> `C:\\Users\\nelle`.  \n",
    "> (Note that it may look slightly different for different versions of Windows.)\n",
    "> In future examples, we've used Mac output as the default - Linux and Windows\n",
    "> output may differ slightly, but should be generally similar.  \n",
    "\n",
    "To understand what a \"home directory\" is,\n",
    "let's have a look at how the file system as a whole is organized.  For the\n",
    "sake of example, we'll be\n",
    "illustrating the filesystem on our scientist Nelle's computer.  After this\n",
    "illustration, you'll be learning commands to explore your own filesystem,\n",
    "which will be constructed in a similar way, but not be exactly identical.  \n",
    "\n",
    "On Nelle's computer, the filesystem looks like this:\n",
    "\n",
    "![The File System](../fig/filesystem.svg)\n",
    "\n",
    "At the top is the **root directory**\n",
    "that holds everything else.\n",
    "We refer to it using a slash character `/` on its own;\n",
    "this is the leading slash in `/Users/nelle`.\n",
    "\n",
    "Inside that directory are several other directories:\n",
    "`bin` (which is where some built-in programs are stored),\n",
    "`data` (for miscellaneous data files),\n",
    "`Users` (where users' personal directories are located),\n",
    "`tmp` (for temporary files that don't need to be stored long-term),\n",
    "and so on.  \n",
    "\n",
    "We know that our current working directory `/Users/nelle` is stored inside `/Users`\n",
    "because `/Users` is the first part of its name.\n",
    "Similarly,\n",
    "we know that `/Users` is stored inside the root directory `/`\n",
    "because its name begins with `/`.\n",
    "\n",
    "> ## Slashes\n",
    ">\n",
    "> Notice that there are two meanings for the `/` character.\n",
    "> When it appears at the front of a file or directory name,\n",
    "> it refers to the root directory. When it appears *inside* a name,\n",
    "> it's just a separator.\n",
    "\n",
    "Underneath `/Users`,\n",
    "we find one directory for each user with an account on Nelle's machine,\n",
    "her colleagues the Mummy and Wolfman.  \n",
    "\n",
    "![Home Directories](../fig/home-directories.svg)\n",
    "\n",
    "The Mummy's files are stored in `/Users/imhotep`,\n",
    "Wolfman's in `/Users/larry`,\n",
    "and Nelle's in `/Users/nelle`.  Because Nelle is the user in our\n",
    "examples here, this is why we get `/Users/nelle` as our home directory.  \n",
    "Typically, when you open a new command prompt you will be in\n",
    "your home directory to start.  \n",
    "\n",
    "Now let's learn the command that will let us see the contents of our\n",
    "own filesystem.  We can see what's in our home directory by running `ls`,\n",
    "which stands for \"listing\":\n",
    "\n",
    "(Again, your results may be slightly different depending on your operating\n",
    "system and how you have customized your filesystem.)\n",
    "\n",
    "`ls` prints the names of the files and directories in the current directory in\n",
    "alphabetical order,\n",
    "arranged neatly into columns.\n",
    "\n",
    "Many bash commands, and programs that people have written that can be\n",
    "run from within bash, support a `--help` flag to display more\n",
    "information on how to use the commands or programs.\n",
    "\n",
    "For more information on how to use `ls` we can type `man ls`.\n",
    "`man` is the Unix \"manual\" command:\n",
    "it prints a description of a command and its options,\n",
    "and (if you're lucky) provides a few examples of how to use it.\n",
    "\n",
    "> ## `man` and Git for Windows\n",
    ">\n",
    "> The bash shell provided by Git for Windows does not\n",
    "> support the `man` command. Doing a web search for\n",
    "> `unix man page COMMAND` (e.g. `unix man page grep`)\n",
    "> provides links to numerous copies of the Unix manual\n",
    "> pages online.\n",
    "> For example, GNU provides links to its\n",
    "> [manuals](http://www.gnu.org/manual/manual.html):\n",
    "> these include [grep](http://www.gnu.org/software/grep/manual/),\n",
    "> and the\n",
    "> [core GNU utilities](http://www.gnu.org/software/coreutils/manual/coreutils.html),\n",
    "> which covers many commands introduced within this lesson.\n",
    "\n",
    "To navigate through the `man` pages,\n",
    "you may use the up and down arrow keys to move line-by-line,\n",
    "or try the \"b\" and spacebar keys to skip up and down by full page.\n",
    "Quit the `man` pages by typing \"q\".\n",
    "\n",
    "Here,\n",
    "we can see that our home directory contains mostly **sub-directories**.\n",
    "Any names in your output that don't have trailing slashes,\n",
    "are plain old **files**.\n",
    "\n",
    "We can also use `ls` to see the contents of a different directory.  Let's take a\n",
    "look at our `Desktop` directory by running `ls Desktop`."
   ]
  },
  {
   "cell_type": "code",
   "execution_count": null,
   "metadata": {},
   "outputs": [],
   "source": [
    "ls Desktop"
   ]
  },
  {
   "cell_type": "code",
   "execution_count": null,
   "metadata": {},
   "outputs": [],
   "source": [
    "Volume in drive C is OSDisk\n",
    "Volume Serial Number is B4A0-C61A\n",
    "    \n",
    "Directory of C:\\Users\\skarzynskimw\\Desktop"
   ]
  },
  {
   "cell_type": "markdown",
   "metadata": {},
   "source": [
    "03/16/2017  04:57 PM    <DIR>          .\n",
    "    03/16/2017  04:57 PM    <DIR>          ..\n",
    "    02/19/2016  12:27 PM                 0 .open\n",
    "    05/18/2016  03:07 PM        12,782,002 16-May-2016 all ADCC experiments.wsp\n",
    "    05/16/2016  12:09 PM        10,818,256 16-May-2016.wsp\n",
    "    04/06/2016  12:13 PM    <DIR>          20160406\n",
    "    11/03/2016  01:23 PM           204,325 20161103 Workspace.wsp\n",
    "    10/01/2012  04:08 PM            66,438 600_118541752.jpeg\n",
    "    07/17/2016  03:23 PM    <DIR>          Adrian NEW.Data\n",
    "    07/16/2016  05:39 PM        14,539,382 Adrian NEW.enl\n",
    "    04/18/2016  09:21 PM    <DIR>          Amnis ImageStream Data\n",
    "    05/18/2016  03:09 PM               783 Anti-C3d.lnk\n",
    "    03/09/2017  04:35 PM             2,171 Atom.lnk\n",
    "    03/07/2017  10:33 AM             2,064 Blue Jeans.lnk\n",
    "    05/06/2016  12:23 PM            22,282 Boost Figure Legends 20160505.docx\n",
    "    05/18/2016  03:07 PM        13,914,053 Boost Figures DRAFT 20160518.pptx\n",
    "    07/05/2016  10:28 PM         6,273,393 Boost Figures DRAFT 20160705.pptx\n",
    "    08/17/2016  01:35 PM         8,605,691 Boost Figures DRAFT 20160817.pptx\n",
    "    03/25/2016  10:51 PM         9,422,202 Boost Figures DRAFT.pptx\n",
    "    03/25/2016  09:06 PM         9,718,167 Boost Figures DRAFT2.pptx\n",
    "    05/06/2016  11:50 AM        10,062,424 Boost Figures DRAFT20160505.pptx\n",
    "    08/17/2016  01:29 PM           101,184 Boost Manuscript 20160817.docx\n",
    "    07/17/2016  11:35 AM    <DIR>          Boostuximab POP.Data\n",
    "    09/12/2016  07:32 AM           119,746 Boostuximab POP.enl\n",
    "    03/23/2016  11:11 AM         1,025,024 BRD4 CoIP JQ1 dose response blot - Full.ppt\n",
    "    03/06/2017  11:13 AM           242,111 choosing_a_good_chart2.jpg\n",
    "    03/06/2017  11:12 AM            46,219 choosing_a_good_chart2.pdf\n",
    "    04/17/2016  12:39 PM    <DIR>          cohort III 8063\n",
    "    04/17/2016  02:03 PM    <DIR>          cohort IV 7900 7960\n",
    "    04/17/2016  12:41 PM    <DIR>          cohort V 8145 7865\n",
    "    03/15/2017  11:54 PM           858,447 ColloquiumAgenda2017.pdf\n",
    "    03/10/2017  07:54 PM             7,695 CPFP1stYearPlans.png\n",
    "    11/22/2015  08:39 PM    <DIR>          data-shell\n",
    "    02/18/2016  12:34 PM                 0 draft.txt\n",
    "    10/01/2012  04:08 PM            65,441 event_105065492.jpeg\n",
    "    02/07/2017  10:33 AM            40,233 Geneious.PNG\n",
    "    02/08/2017  06:17 PM             2,177 Git Shell.lnk\n",
    "    01/08/2017  12:14 AM               308 GitHub.appref-ms\n",
    "    02/17/2016  09:14 AM    <DIR>          inflamData\n",
    "    02/12/2016  05:07 PM         1,072,925 Lab meetingMWS.pptx\n",
    "    04/27/2016  11:50 AM    <DIR>          MartinSkarzynski 20160408 BiAb\n",
    "    04/27/2016  11:50 AM    <DIR>          MartinSkarzynski 20160408 BiAb_001\n",
    "    04/27/2016  11:50 AM    <DIR>          MartinSkarzynski 20160408 BiAb_002\n",
    "    03/11/2017  07:16 PM             7,232 MartinSkarzynskiPhoto.jpg\n",
    "    10/01/2012  04:08 PM            29,961 member_8747578.jpeg\n",
    "    02/15/2016  12:07 PM               997 MTPuTTY.lnk\n",
    "    10/09/2014  11:42 AM            70,934 Orloff award.jpeg\n",
    "    02/19/2016  12:59 PM               737 out.csv\n",
    "    04/12/2016  12:50 PM               524 Plans&2do\n",
    "    01/19/2016  10:51 AM    <DIR>          Programs to install\n",
    "    01/01/2017  08:47 PM             1,061 R i386 3.3.2.lnk\n",
    "    01/01/2017  08:47 PM             1,054 R x64 3.3.2.lnk\n",
    "    02/08/2017  06:56 PM             2,161 Rodeo.lnk\n",
    "    03/16/2017  02:58 PM           168,355 shell-novice-data.zip\n",
    "    03/08/2017  12:30 PM           168,355 shell-novice-data2.zip\n",
    "    02/15/2016  12:24 PM             3,185 Shortcut to SecureDownloadManager.exe.lnk\n",
    "    02/19/2016  09:40 AM    <DIR>          sql-novice-survey\n",
    "    02/19/2016  09:20 AM    <DIR>          sql-survey-data\n",
    "    02/19/2016  12:31 PM             3,072 surver-demo.db\n",
    "    02/19/2016  12:44 PM                 0 survery.db\n",
    "    02/19/2016  12:58 PM                 0 survey\n",
    "    02/19/2016  09:19 AM            20,480 survey.db\n",
    "    02/19/2016  12:56 PM               470 test.sql\n",
    "    04/18/2016  09:21 PM    <DIR>          Trogo\n",
    "    07/15/2016  05:07 PM         3,262,751 Trogo Figure 20160715.pptx\n",
    "    07/05/2016  10:30 PM            29,184 TrogoFigureLegendsMethodsResults.doc\n",
    "                  48 File(s)    103,785,656 bytes\n",
    "                  18 Dir(s)  223,941,660,672 bytes free\n",
    "    \n",
    "\n",
    "Your output should be a list of all the files and sub-directories on your\n",
    "Desktop, including the `data-shell` directory you downloaded at\n",
    "the start of the lesson.  Take a look at your Desktop to confirm that\n",
    "your output is accurate.  \n",
    "\n",
    "As you may now see, using a bash shell is strongly dependent on the idea that\n",
    "your files are organized in an hierarchical file system.  \n",
    "Organizing things hierarchically in this way helps us keep track of our work:\n",
    "it's possible to put hundreds of files in our home directory,\n",
    "just as it's possible to pile hundreds of printed papers on our desk,\n",
    "but it's a self-defeating strategy.\n",
    "\n",
    "Now that we know the `data-shell` directory is located on our Desktop, we\n",
    "can change our location to a different directory, so we are no longer located in\n",
    "our home directory.  \n",
    "\n",
    "The command to change locations is `cd` followed by a\n",
    "directory name to change our working directory.\n",
    "`cd` stands for \"change directory\",\n",
    "which is a bit misleading:\n",
    "the command doesn't change the directory,\n",
    "it changes the shell's idea of what directory we are in.\n",
    "\n",
    "Let's say we want to move to the `data` directory we saw above.  We can\n",
    "use the following series of commands to get there:"
   ]
  },
  {
   "cell_type": "code",
   "execution_count": null,
   "metadata": {},
   "outputs": [],
   "source": [
    "cd Desktop"
   ]
  },
  {
   "cell_type": "code",
   "execution_count": null,
   "metadata": {},
   "outputs": [],
   "source": [
    "C:\\Users\\skarzynskimw\\Desktop\n",
    "\n"
   ]
  },
  {
   "cell_type": "code",
   "execution_count": null,
   "metadata": {},
   "outputs": [],
   "source": [
    "cd data-shell"
   ]
  },
  {
   "cell_type": "code",
   "execution_count": null,
   "metadata": {},
   "outputs": [],
   "source": [
    "C:\\Users\\skarzynskimw\\Desktop\\data-shell\n",
    "\n"
   ]
  },
  {
   "cell_type": "code",
   "execution_count": null,
   "metadata": {},
   "outputs": [],
   "source": [
    "cd data"
   ]
  },
  {
   "cell_type": "code",
   "execution_count": null,
   "metadata": {},
   "outputs": [],
   "source": [
    "C:\\Users\\skarzynskimw\\Desktop\\data-shell\\data\n"
   ]
  },
  {
   "cell_type": "markdown",
   "metadata": {},
   "source": [
    "These commands will move us from our home directory onto our Desktop, then into\n",
    "the `data-shell` directory, then into the `data` directory.  `cd` doesn't print anything,\n",
    "but if we run `pwd` after it, we can see that we are now\n",
    "in `/Users/nelle/Desktop/data-shell/data`.\n",
    "If we run `ls` without arguments now,\n",
    "it lists the contents of `/Users/nelle/Desktop/data-shell/data`,\n",
    "because that's where we now are:"
   ]
  },
  {
   "cell_type": "code",
   "execution_count": null,
   "metadata": {},
   "outputs": [],
   "source": [
    "pwd"
   ]
  },
  {
   "cell_type": "code",
   "execution_count": null,
   "metadata": {},
   "outputs": [],
   "source": [
    "'C:\\\\Users\\\\skarzynskimw\\\\Desktop\\\\data-shell\\\\data'\n",
    "\n"
   ]
  },
  {
   "cell_type": "markdown",
   "metadata": {},
   "source": [
    "We now know how to go down the directory tree, but\n",
    "how do we go up?  We might try the following:"
   ]
  },
  {
   "cell_type": "code",
   "execution_count": null,
   "metadata": {},
   "outputs": [],
   "source": [
    "cd data-shell"
   ]
  },
  {
   "cell_type": "code",
   "execution_count": null,
   "metadata": {},
   "outputs": [],
   "source": [
    "[WinError 2] The system cannot find the file specified: 'data-shell'\n",
    "C:\\Users\\skarzynskimw\\Desktop\\data-shell\\data\n"
   ]
  },
  {
   "cell_type": "markdown",
   "metadata": {},
   "source": [
    "But we get an error!  Why is this?  \n",
    "\n",
    "With our methods so far,\n",
    "`cd` can only see sub-directories inside your current directory.  There are\n",
    "different ways to see directories above your current location; we'll start\n",
    "with the simplest.  \n",
    "\n",
    "There is a shortcut in the shell to move up one directory level\n",
    "that looks like this:"
   ]
  },
  {
   "cell_type": "code",
   "execution_count": null,
   "metadata": {},
   "outputs": [],
   "source": [
    "cd .."
   ]
  },
  {
   "cell_type": "code",
   "execution_count": null,
   "metadata": {},
   "outputs": [],
   "source": [
    "C:\\Users\\skarzynskimw\\Desktop\\data-shell\n"
   ]
  },
  {
   "cell_type": "markdown",
   "metadata": {},
   "source": [
    "`..` is a special directory name meaning\n",
    "\"the directory containing this one\",\n",
    "or more succinctly,\n",
    "the **parent** of the current directory.\n",
    "Sure enough,\n",
    "if we run `pwd` after running `cd ..`, we confirm that we're back in `/Users/nelle/Desktop/data-shell`:"
   ]
  },
  {
   "cell_type": "code",
   "execution_count": null,
   "metadata": {},
   "outputs": [],
   "source": [
    "pwd"
   ]
  },
  {
   "cell_type": "code",
   "execution_count": null,
   "metadata": {},
   "outputs": [],
   "source": [
    "'C:\\\\Users\\\\skarzynskimw\\\\Desktop\\\\data-shell'\n",
    "\n"
   ]
  },
  {
   "cell_type": "markdown",
   "metadata": {},
   "source": [
    "These then, are the basic commands for navigating the filesystem on your computer:\n",
    "`pwd`, `ls` and `cd`.  Let's explore some variations on those commands.  What happens\n",
    "if you type `cd` on its own, without giving\n",
    "a directory?"
   ]
  },
  {
   "cell_type": "code",
   "execution_count": null,
   "metadata": {},
   "outputs": [],
   "source": [
    "cd"
   ]
  },
  {
   "cell_type": "code",
   "execution_count": null,
   "metadata": {},
   "outputs": [],
   "source": [
    "C:\\Users\\skarzynskimw\n"
   ]
  },
  {
   "cell_type": "markdown",
   "metadata": {},
   "source": [
    "How can you check what happened?  `pwd` gives us the answer!"
   ]
  },
  {
   "cell_type": "code",
   "execution_count": null,
   "metadata": {},
   "outputs": [],
   "source": [
    "pwd"
   ]
  },
  {
   "cell_type": "code",
   "execution_count": null,
   "metadata": {},
   "outputs": [],
   "source": [
    "'C:\\\\Users\\\\skarzynskimw'\n",
    "\n"
   ]
  },
  {
   "cell_type": "markdown",
   "metadata": {},
   "source": [
    "It turns out that `cd` without an argument will return you to your home directory,\n",
    "which is great if you've gotten lost in your own filesystem.  \n",
    "\n",
    "> ## Hidden Files and Directories\n",
    ">\n",
    "> ls shows hidden directories `..` and `.`, you may also see a hidden file\n",
    "> such as `.bash_profile`. This file usually contains shell configuration\n",
    "> settings. You may also see other files and directories beginning\n",
    "> with `.`. These are usually files and directories that are used to configure\n",
    "> different programs on your computer. The prefix `.` is used to prevent these\n",
    "> configuration files from cluttering the terminal when a standard `ls` command\n",
    "> is used.\n",
    "\n",
    "Let's try returning to the `data` directory from before.  Last time, we used\n",
    "three commands, but we can actually string together the list of directories\n",
    "to move to `data` in one step:"
   ]
  },
  {
   "cell_type": "code",
   "execution_count": null,
   "metadata": {},
   "outputs": [],
   "source": [
    "cd Desktop/data-shell/data/"
   ]
  },
  {
   "cell_type": "code",
   "execution_count": null,
   "metadata": {},
   "outputs": [],
   "source": [
    "C:\\Users\\skarzynskimw\\Desktop\\data-shell\\data\n"
   ]
  },
  {
   "cell_type": "markdown",
   "metadata": {},
   "source": [
    "Check that we've moved to the right place by running `pwd` and `ls`  \n",
    "\n",
    "If we want to move up one level from the data directory, we could use `cd ..`.  But\n",
    "there is another way to move to any directory, regardless of your\n",
    "current location.  \n",
    "\n",
    "So far, when specifying directory names, or even a directory path (as above),\n",
    "we have been using **relative paths**.  When you use a relative path with a command\n",
    "like `ls` or `cd`, it tries to find that location  from where we are,\n",
    "rather than from the root of the file system.  \n",
    "\n",
    "However, it is possible to specify the **absolute path** to a directory by\n",
    "including its entire path from the root directory, which is indicated by a\n",
    "leading slash.  The leading `/` tells the computer to follow the path from\n",
    "the root of the file system, so it always refers to exactly one directory,\n",
    "no matter where we are when we run the command.\n",
    "\n",
    "This allows us to move to our `data-shell` directory from anywhere on\n",
    "the filesystem (including from inside `data`).  To find the absolute path\n",
    "we're looking for, we can use `pwd` and then extract the piece we need\n",
    "to move to `data-shell`."
   ]
  },
  {
   "cell_type": "code",
   "execution_count": null,
   "metadata": {},
   "outputs": [],
   "source": [
    "pwd"
   ]
  },
  {
   "cell_type": "code",
   "execution_count": null,
   "metadata": {},
   "outputs": [],
   "source": [
    "'C:\\\\Users\\\\skarzynskimw\\\\Desktop\\\\data-shell\\\\data'\n",
    "\n"
   ]
  },
  {
   "cell_type": "markdown",
   "metadata": {},
   "source": [
    "> ## Two More Shortcuts\n",
    ">\n",
    "> The shell interprets the character `~` (tilde) at the start of a path to\n",
    "> mean \"the current user's home directory\". For example, if Nelle's home\n",
    "> directory is `/Users/nelle`, then `~/data` is equivalent to\n",
    "> `/Users/nelle/data`. This only works if it is the first character in the\n",
    "> path: `here/there/~/elsewhere` is *not* `here/there/Users/nelle/elsewhere`.\n",
    ">\n",
    "> Another shortcut is the `-` (dash) character.  `cd` will translate `-` into\n",
    "> *the previous directory I was in*, which is faster than having to remember,\n",
    "> then type, the full path.  This is a *very* efficient way of moving back\n",
    "> and forth between directories. The difference between `cd ..` and `cd -` is\n",
    "> that the former brings you *up*, while the latter brings you *back*. You can\n",
    "> think of it as the *Last Channel* button on a TV remote."
   ]
  },
  {
   "cell_type": "code",
   "execution_count": null,
   "metadata": {},
   "outputs": [],
   "source": [
    "cd ~"
   ]
  },
  {
   "cell_type": "code",
   "execution_count": null,
   "metadata": {},
   "outputs": [],
   "source": [
    "C:\\Users\\skarzynskimw\n",
    "\n"
   ]
  },
  {
   "cell_type": "code",
   "execution_count": null,
   "metadata": {},
   "outputs": [],
   "source": [
    "cd .."
   ]
  },
  {
   "cell_type": "code",
   "execution_count": null,
   "metadata": {},
   "outputs": [],
   "source": [
    "C:\\Users\n",
    "\n"
   ]
  },
  {
   "cell_type": "code",
   "execution_count": null,
   "metadata": {},
   "outputs": [],
   "source": [
    "cd -"
   ]
  },
  {
   "cell_type": "code",
   "execution_count": null,
   "metadata": {},
   "outputs": [],
   "source": [
    "C:\\Users\\skarzynskimw\n"
   ]
  },
  {
   "cell_type": "markdown",
   "metadata": {},
   "source": [
    "### Nelle's Pipeline: Organizing Files\n",
    "\n",
    "Knowing just this much about files and directories,\n",
    "Nelle is ready to organize the files that the protein assay machine will create.\n",
    "First,\n",
    "she creates a directory called `north-pacific-gyre`\n",
    "(to remind herself where the data came from).\n",
    "Inside that,\n",
    "she creates a directory called `2012-07-03`,\n",
    "which is the date she started processing the samples.\n",
    "She used to use names like `conference-paper` and `revised-results`,\n",
    "but she found them hard to understand after a couple of years.\n",
    "(The final straw was when she found herself creating\n",
    "a directory called `revised-revised-results-3`.)\n",
    "\n",
    "> ## Sorting Output\n",
    ">\n",
    "> Nelle names her directories \"year-month-day\",\n",
    "> with leading zeroes for months and days,\n",
    "> because the shell displays file and directory names in alphabetical order.\n",
    "> If she used month names,\n",
    "> December would come before July;\n",
    "> if she didn't use leading zeroes,\n",
    "> November ('11') would come before July ('7'). Similarly, putting the year first\n",
    "> means that June 2012 will come before June 2013.\n",
    "\n",
    "## Tab completion \n",
    "Now let's take Nelle to the north-pacific-gyre subdirectory of the `data-shell` directory ,\n",
    "using the cd command and tab completion:\n",
    "type De, press tab, type da, press tab, type no, press tab, type 20, press tab"
   ]
  },
  {
   "cell_type": "code",
   "execution_count": null,
   "metadata": {},
   "outputs": [],
   "source": [
    "cd Desktop/data-shell/north-pacific-gyre/2012-07-03/"
   ]
  },
  {
   "cell_type": "code",
   "execution_count": null,
   "metadata": {},
   "outputs": [],
   "source": [
    "C:\\Users\\skarzynskimw\\Desktop\\data-shell\\north-pacific-gyre\\2012-07-03\n"
   ]
  },
  {
   "cell_type": "markdown",
   "metadata": {},
   "source": [
    "You can see that whenever you press tab,\n",
    "the shell automatically completes the directory name for us.\n",
    "Try using the cd command to return to the data-shell directory. Then go to the writing subdirectory of data-shell. Next, type the letter t, followed by tab.\n",
    "Pressing tab when there is more than one choice, brings up a list of choices, in this case the Desktop and data directories."
   ]
  },
  {
   "cell_type": "markdown",
   "metadata": {},
   "source": [
    "# Exercizes \n",
    "\n",
    "> ## Absolute vs Relative Paths\n",
    ">\n",
    "> Starting from `/Users/amanda/data/`,\n",
    "> which of the following commands could Amanda use to navigate to her home directory,\n",
    "> which is `/Users/amanda`?\n",
    ">\n",
    "> 1. `cd .`\n",
    "> 2. `cd /`\n",
    "> 3. `cd /home/amanda`\n",
    "> 4. `cd ../..`\n",
    "> 5. `cd ~`\n",
    "> 6. `cd home`\n",
    "> 7. `cd ~/data/..`\n",
    "> 8. `cd`\n",
    "> 9. `cd ..`\n",
    ">\n",
    "> > ## Solution\n",
    "> > 1. No: `.` stands for the current directory.\n",
    "> > 2. No: `/` stands for the root directory.\n",
    "> > 3. No: Amanda's home directory is `/Users/amanda`.\n",
    "> > 4. No: this goes up two levels, i.e. ends in `/Users`.\n",
    "> > 5. Yes: `~` stands for the user's home directory, in this case `/Users/amanda`.\n",
    "> > 6. No: this would navigate into a directory `home` in the current directory if it exists.\n",
    "> > 7. Yes: unnecessarily complicated, but correct.\n",
    "> > 8. Yes: shortcut to go back to the user's home directory.\n",
    "> > 9. Yes: goes up one level."
   ]
  }
 ],
 "metadata": {},
 "nbformat": 4,
 "nbformat_minor": 2
}
