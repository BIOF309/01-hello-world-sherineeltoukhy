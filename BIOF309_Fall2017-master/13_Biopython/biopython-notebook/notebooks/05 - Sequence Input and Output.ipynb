{
 "cells": [
  {
   "cell_type": "markdown",
   "metadata": {},
   "source": [
    "**Source of the materials**: Biopython Tutorial and Cookbook (adapted)"
   ]
  },
  {
   "cell_type": "markdown",
   "metadata": {},
   "source": [
    "# Sequence Input/Output"
   ]
  },
  {
   "cell_type": "markdown",
   "metadata": {},
   "source": [
    "In this noteboo we'll discuss in more detail the Bio.SeqIO module, which was briefly introduced before. This aims to provide a simple interface for working with assorted sequence file formats in a uniform way.\n",
    "See also the Bio.SeqIO wiki page (http://biopython.org/wiki/SeqIO), and the built in documentation (also http://biopython.org/DIST/docs/api/Bio.SeqIO-module.html :"
   ]
  },
  {
   "cell_type": "code",
   "execution_count": 1,
   "metadata": {
    "collapsed": false
   },
   "outputs": [],
   "source": [
    "import gzip\n",
    "from io import StringIO\n",
    "\n",
    "from Bio import Entrez\n",
    "from Bio import ExPASy\n",
    "from Bio import SeqIO\n",
    "from Bio.Alphabet import generic_protein\n",
    "from Bio.Seq import Seq\n",
    "from Bio.SeqRecord import SeqRecord\n",
    "from Bio.SeqUtils.CheckSum import seguid"
   ]
  },
  {
   "cell_type": "markdown",
   "metadata": {},
   "source": [
    "The catch is that you have to work with SeqRecord objects plus annotation like an identifier and description."
   ]
  },
  {
   "cell_type": "markdown",
   "metadata": {},
   "source": [
    "## Parsing or Reading Sequences"
   ]
  },
  {
   "cell_type": "markdown",
   "metadata": {},
   "source": [
    "The workhorse function Bio.SeqIO.parse() is used to read in sequence data as SeqRecord objects.  This function expects two arguments:\n",
    "\n",
    "* The first argument is a _handle_ to read the data from, or a filename. A handle is typically a file opened for reading, but could be the output from a command line program, or data downloaded from the internet.\n",
    "\n",
    "* The second argument is a lower case string specifying sequence format -- we don't try and guess the file format for you!  See http://biopython.org/wiki/SeqIO for a full listing of supported formats.\n",
    "\n",
    "There is an optional argument alphabet to specify the alphabet to be used.  This is useful for file formats like FASTA where otherwise Bio.SeqIO will default to a generic alphabet.\n",
    "\n",
    "The Bio.SeqIO.parse() function returns an _iterator_ which gives SeqRecord objects. Iterators are typically used in a for loop as shown below.\n",
    "\n",
    "Sometimes you'll find yourself dealing with files which contain only a single record.  For this situation use the function Bio.SeqIO.read() which takes the same arguments.  Provided there is one and only one record in the file, this is returned as a SeqRecord object.  Otherwise an exception is raised."
   ]
  },
  {
   "cell_type": "markdown",
   "metadata": {},
   "source": [
    "## Reading Sequence Files"
   ]
  },
  {
   "cell_type": "markdown",
   "metadata": {},
   "source": [
    "In general Bio.SeqIO.parse() is used to read in sequence files as SeqRecord objects, and is typically used with a for loop like this:\n"
   ]
  },
  {
   "cell_type": "code",
   "execution_count": 2,
   "metadata": {
    "collapsed": false
   },
   "outputs": [
    {
     "name": "stdout",
     "output_type": "stream",
     "text": [
      "gi|2765658|emb|Z78533.1|CIZ78533\n",
      "Seq('CGTAACAAGGTTTCCGTAGGTGAACCTGCGGAAGGATCATTGATGAGACCGTGG...CGC', SingleLetterAlphabet())\n",
      "740\n",
      "gi|2765657|emb|Z78532.1|CCZ78532\n",
      "Seq('CGTAACAAGGTTTCCGTAGGTGAACCTGCGGAAGGATCATTGTTGAGACAACAG...GGC', SingleLetterAlphabet())\n",
      "753\n",
      "gi|2765656|emb|Z78531.1|CFZ78531\n",
      "Seq('CGTAACAAGGTTTCCGTAGGTGAACCTGCGGAAGGATCATTGTTGAGACAGCAG...TAA', SingleLetterAlphabet())\n",
      "748\n"
     ]
    }
   ],
   "source": [
    "# we show the first 3 only\n",
    "for i, seq_record in enumerate(SeqIO.parse(\"data/ls_orchid.fasta\", \"fasta\")):\n",
    "    print(seq_record.id)\n",
    "    print(repr(seq_record.seq))\n",
    "    print(len(seq_record))\n",
    "    if i == 2:\n",
    "        break"
   ]
  },
  {
   "cell_type": "markdown",
   "metadata": {},
   "source": [
    "The above example is repeated from a previous notebook, and will load the orchid DNA sequences in the FASTA format file.  If instead you wanted to load a GenBank format file then all you need to do is change the filename and the format string:"
   ]
  },
  {
   "cell_type": "code",
   "execution_count": 3,
   "metadata": {
    "collapsed": false
   },
   "outputs": [
    {
     "name": "stdout",
     "output_type": "stream",
     "text": [
      "Z78533.1\n",
      "CGTAACAAGGTTTCCGTAGGTGAACCTGCGGAAGGATCATTGATGAGACCGTGGAATAAACGATCGAGTGAATCCGGAGGACCGGTGTACTCAGCTCACCGGGGGCATTGCTCCCGTGGTGACCCTGATTTGTTGTTGGGCCGCCTCGGGAGCGTCCATGGCGGGTTTGAACCTCTAGCCCGGCGCAGTTTGGGCGCCAAGCCATATGAAAGCATCACCGGCGAATGGCATTGTCTTCCCCAAAACCCGGAGCGGCGGCGTGCTGTCGCGTGCCCAATGAATTTTGATGACTCTCGCAAACGGGAATCTTGGCTCTTTGCATCGGATGGAAGGACGCAGCGAAATGCGATAAGTGGTGTGAATTGCAAGATCCCGTGAACCATCGAGTCTTTTGAACGCAAGTTGCGCCCGAGGCCATCAGGCTAAGGGCACGCCTGCTTGGGCGTCGCGCTTCGTCTCTCTCCTGCCAATGCTTGCCCGGCATACAGCCAGGCCGGCGTGGTGCGGATGTGAAAGATTGGCCCCTTGTGCCTAGGTGCGGCGGGTCCAAGAGCTGGTGTTTTGATGGCCCGGAACCCGGCAAGAGGTGGACGGATGCTGGCAGCAGCTGCCGTGCGAATCCCCCATGTTGTCGTGCTTGTCGGACAGGCAGGAGAACCCTTCCGAACCCCAATGGAGGGCGGTTGACCGCCATTCGGATGTGACCCCAGGTCAGGCGGGGGCACCCGCTGAGTTTACGC\n",
      "740\n",
      "Z78532.1\n",
      "CGTAACAAGGTTTCCGTAGGTGAACCTGCGGAAGGATCATTGTTGAGACAACAGAATATATGATCGAGTGAATCTGGAGGACCTGTGGTAACTCAGCTCGTCGTGGCACTGCTTTTGTCGTGACCCTGCTTTGTTGTTGGGCCTCCTCAAGAGCTTTCATGGCAGGTTTGAACTTTAGTACGGTGCAGTTTGCGCCAAGTCATATAAAGCATCACTGATGAATGACATTATTGTCAGAAAAAATCAGAGGGGCAGTATGCTACTGAGCATGCCAGTGAATTTTTATGACTCTCGCAACGGATATCTTGGCTCTAACATCGATGAAGAACGCAGCTAAATGCGATAAGTGGTGTGAATTGCAGAATCCCGTGAACCATCGAGTCTTTGAACGCAAGTTGCGCTCGAGGCCATCAGGCTAAGGGCACGCCTGCCTGGGCGTCGTGTGTTGCGTCTCTCCTACCAATGCTTGCTTGGCATATCGCTAAGCTGGCATTATACGGATGTGAATGATTGGCCCCTTGTGCCTAGGTGCGGTGGGTCTAAGGATTGTTGCTTTGATGGGTAGGAATGTGGCACGAGGTGGAGAATGCTAACAGTCATAAGGCTGCTATTTGAATCCCCCATGTTGTTGTATTTTTTCGAACCTACACAAGAACCTAATTGAACCCCAATGGAGCTAAAATAACCATTGGGCAGTTGATTTCCATTCAGATGCGACCCCAGGTCAGGCGGGGCCACCCGCTGAGTTGAGGC\n",
      "753\n",
      "Z78531.1\n",
      "CGTAACAAGGTTTCCGTAGGTGAACCTGCGGAAGGATCATTGTTGAGACAGCAGAACATACGATCGAGTGAATCCGGAGGACCCGTGGTTACACGGCTCACCGTGGCTTTGCTCTCGTGGTGAACCCGGTTTGCGACCGGGCCGCCTCGGGAACTTTCATGGCGGGTTTGAACGTCTAGCGCGGCGCAGTTTGCGCCAAGTCATATGGAGCGTCACCGATGGATGGCATTTTTGTCAAGAAAAACTCGGAGGGGCGGCGTCTGTTGCGCGTGCCAATGAATTTATGACGACTCTCGGCAACGGGATATCTGGCTCTTGCATCGATGAAGAACGCAGCGAAATGCGATAAGTGGTGTGAATTGCAGAATCCCGCGAACCATCGAGTCTTTGAACGCAAGTTGCGCCCGAGGCCATCAGGCTAAGGGCACGCCTGCCTGGGCGTCGTGTGCTGCGTCTCTCCTGATAATGCTTGATTGGCATGCGGCTAGTCTGTCATTGTGAGGACGTGAAAGATTGGCCCCTTGCGCCTAGGTGCGGCGGGTCTAAGCATCGGTGTTCTGATGGCCCGGAACTTGGCAGTAGGTGGAGGATGCTGGCAGCCGCAAGGCTGCCGTTCGAATCCCCCGTGTTGTCGTACTCGTCAGGCCTACAGAAGAACCTGTTTGAACCCCCAGTGGACGCAAAACCGCCCTCGGGCGGTGATTTCCATTCAGATGCGACCCCAGTCAGGCGGGCCACCCGTGAGTAA\n",
      "748\n"
     ]
    }
   ],
   "source": [
    "#we show the frist 3\n",
    "for i, seq_record in enumerate(SeqIO.parse(\"data/ls_orchid.gbk\", \"genbank\")):\n",
    "    print(seq_record.id)\n",
    "    print(seq_record.seq)\n",
    "    print(len(seq_record))\n",
    "    if i == 2:\n",
    "        break"
   ]
  },
  {
   "cell_type": "markdown",
   "metadata": {},
   "source": [
    "Similarly, if you wanted to read in a file in another file format, then assuming Bio.SeqIO.parse() supports it you would just need to change the format string as appropriate, for example 'swiss' for SwissProt files or 'embl' for EMBL text files. There is a full listing on the wiki page (http://biopython.org/wiki/SeqIO) and in the built in documentation (also \\http://biopython.org/DIST/docs/api/Bio.SeqIO-module.html).\n",
    "\n",
    "Another very common way to use a Python iterator is within a list comprehension (or\n",
    "a generator expression).  For example, if all you wanted to extract from the file was\n",
    "a list of the record identifiers we can easily do this with the following list comprehension:"
   ]
  },
  {
   "cell_type": "code",
   "execution_count": 4,
   "metadata": {
    "collapsed": false
   },
   "outputs": [
    {
     "data": {
      "text/plain": [
       "['Z78533.1',\n",
       " 'Z78532.1',\n",
       " 'Z78531.1',\n",
       " 'Z78530.1',\n",
       " 'Z78529.1',\n",
       " 'Z78527.1',\n",
       " 'Z78526.1',\n",
       " 'Z78525.1',\n",
       " 'Z78524.1',\n",
       " 'Z78523.1']"
      ]
     },
     "execution_count": 4,
     "metadata": {},
     "output_type": "execute_result"
    }
   ],
   "source": [
    "[seq_record.id for seq_record in SeqIO.parse(\"data/ls_orchid.gbk\", \"genbank\")][:10]  # ten only"
   ]
  },
  {
   "cell_type": "markdown",
   "metadata": {},
   "source": [
    "### Iterating over the records in a sequence file"
   ]
  },
  {
   "cell_type": "markdown",
   "metadata": {},
   "source": [
    "In the above examples, we have usually used a for loop to iterate over all the records one by one.  You can use the for loop with all sorts of Python objects (including lists, tuples and strings) which support the iteration interface.\n",
    "\n",
    "The object returned by Bio.SeqIO is actually an iterator which returns SeqRecord objects.  You get to see each record in turn, but once and only once.  The plus point is that an iterator can save you memory when dealing with large files.\n",
    "\n",
    "Instead of using a for loop, can also use the next() function on an iterator to step through the entries, like this:"
   ]
  },
  {
   "cell_type": "code",
   "execution_count": 5,
   "metadata": {
    "collapsed": false
   },
   "outputs": [
    {
     "name": "stdout",
     "output_type": "stream",
     "text": [
      "gi|2765658|emb|Z78533.1|CIZ78533\n",
      "gi|2765658|emb|Z78533.1|CIZ78533 C.irapeanum 5.8S rRNA gene and ITS1 and ITS2 DNA\n",
      "gi|2765657|emb|Z78532.1|CCZ78532\n",
      "gi|2765657|emb|Z78532.1|CCZ78532 C.californicum 5.8S rRNA gene and ITS1 and ITS2 DNA\n"
     ]
    }
   ],
   "source": [
    "record_iterator = SeqIO.parse(\"data/ls_orchid.fasta\", \"fasta\")\n",
    "\n",
    "first_record = next(record_iterator)\n",
    "print(first_record.id)\n",
    "print(first_record.description)\n",
    "\n",
    "second_record = next(record_iterator)\n",
    "print(second_record.id)\n",
    "print(second_record.description)"
   ]
  },
  {
   "cell_type": "markdown",
   "metadata": {},
   "source": [
    "Note that if you try to use next() and there are no more results, you'll get the special StopIteration exception.\n",
    "\n",
    "One special case to consider is when your sequence files have multiple records, but you only want the first one.  In this situation the following code is very concise:"
   ]
  },
  {
   "cell_type": "code",
   "execution_count": 6,
   "metadata": {
    "collapsed": false
   },
   "outputs": [
    {
     "data": {
      "text/plain": [
       "SeqRecord(seq=Seq('CGTAACAAGGTTTCCGTAGGTGAACCTGCGGAAGGATCATTGATGAGACCGTGG...CGC', IUPACAmbiguousDNA()), id='Z78533.1', name='Z78533', description='C.irapeanum 5.8S rRNA gene and ITS1 and ITS2 DNA.', dbxrefs=[])"
      ]
     },
     "execution_count": 6,
     "metadata": {},
     "output_type": "execute_result"
    }
   ],
   "source": [
    "next(SeqIO.parse(\"data/ls_orchid.gbk\", \"genbank\"))"
   ]
  },
  {
   "cell_type": "markdown",
   "metadata": {},
   "source": [
    "A word of warning here -- using the next() function like this will silently ignore any additional records in the file.\n",
    "If your files have _one and only one_ record, like some of the online examples later in this chapter, or a GenBank file for a single chromosome, then use the new Bio.SeqIO.read() function instead.\n",
    "This will check there are no extra unexpected records present.\n"
   ]
  },
  {
   "cell_type": "markdown",
   "metadata": {},
   "source": [
    "### Getting a list of the records in a sequence file"
   ]
  },
  {
   "cell_type": "markdown",
   "metadata": {},
   "source": [
    "In the previous section we talked about the fact that Bio.SeqIO.parse() gives you a SeqRecord iterator, and that you get the records one by one.  Very often you need to be able to access the records in any order. The Python list data type is perfect for this, and we can turn the record iterator into a list of SeqRecord objects using the built-in Python function list() like so:"
   ]
  },
  {
   "cell_type": "code",
   "execution_count": 7,
   "metadata": {
    "collapsed": false
   },
   "outputs": [
    {
     "name": "stdout",
     "output_type": "stream",
     "text": [
      "Found 94 records\n",
      "The last record\n",
      "Z78439.1\n",
      "Seq('CATTGTTGAGATCACATAATAATTGATCGAGTTAATCTGGAGGATCTGTTTACT...GCC', IUPACAmbiguousDNA())\n",
      "592\n",
      "The first record\n",
      "Z78533.1\n",
      "Seq('CGTAACAAGGTTTCCGTAGGTGAACCTGCGGAAGGATCATTGATGAGACCGTGG...CGC', IUPACAmbiguousDNA())\n",
      "740\n"
     ]
    }
   ],
   "source": [
    "records = list(SeqIO.parse(\"data/ls_orchid.gbk\", \"genbank\"))\n",
    "\n",
    "print(\"Found %i records\" % len(records))\n",
    "\n",
    "print(\"The last record\")\n",
    "last_record = records[-1] #using Python's list tricks\n",
    "print(last_record.id)\n",
    "print(repr(last_record.seq))\n",
    "print(len(last_record))\n",
    "\n",
    "print(\"The first record\")\n",
    "first_record = records[0] #remember, Python counts from zero\n",
    "print(first_record.id)\n",
    "print(repr(first_record.seq))\n",
    "print(len(first_record))\n"
   ]
  },
  {
   "cell_type": "markdown",
   "metadata": {},
   "source": [
    "You can of course still use a for loop with a list of SeqRecord objects.  Using a list is much more flexible than an iterator (for example, you can determine the number of records from the length of the list), but does need more memory because it will hold all the records in memory at once."
   ]
  },
  {
   "cell_type": "markdown",
   "metadata": {},
   "source": [
    "### Extracting data"
   ]
  },
  {
   "cell_type": "markdown",
   "metadata": {},
   "source": [
    "The SeqRecord object and its annotation structures are described more fully in\n",
    "in another notebook. As an example of how annotations are stored, we'll look at the output from parsing the first record in the orchid GenBank file."
   ]
  },
  {
   "cell_type": "code",
   "execution_count": 8,
   "metadata": {
    "collapsed": false
   },
   "outputs": [
    {
     "name": "stdout",
     "output_type": "stream",
     "text": [
      "ID: Z78533.1\n",
      "Name: Z78533\n",
      "Description: C.irapeanum 5.8S rRNA gene and ITS1 and ITS2 DNA.\n",
      "Number of features: 5\n",
      "/data_file_division=PLN\n",
      "/date=30-NOV-2006\n",
      "/accessions=['Z78533']\n",
      "/sequence_version=1\n",
      "/gi=2765658\n",
      "/keywords=['5.8S ribosomal RNA', '5.8S rRNA gene', 'internal transcribed spacer', 'ITS1', 'ITS2']\n",
      "/source=Cypripedium irapeanum\n",
      "/organism=Cypripedium irapeanum\n",
      "/taxonomy=['Eukaryota', 'Viridiplantae', 'Streptophyta', 'Embryophyta', 'Tracheophyta', 'Spermatophyta', 'Magnoliophyta', 'Liliopsida', 'Asparagales', 'Orchidaceae', 'Cypripedioideae', 'Cypripedium']\n",
      "/references=[Reference(title='Phylogenetics of the slipper orchids (Cypripedioideae: Orchidaceae): nuclear rDNA ITS sequences', ...), Reference(title='Direct Submission', ...)]\n",
      "/topology=linear\n",
      "Seq('CGTAACAAGGTTTCCGTAGGTGAACCTGCGGAAGGATCATTGATGAGACCGTGG...CGC', IUPACAmbiguousDNA())\n"
     ]
    }
   ],
   "source": [
    "record_iterator = SeqIO.parse(\"data/ls_orchid.gbk\", \"genbank\")\n",
    "first_record = next(record_iterator)\n",
    "print(first_record)"
   ]
  },
  {
   "cell_type": "markdown",
   "metadata": {},
   "source": [
    "This gives a human readable summary of most of the annotation data for the SeqRecord.\n",
    "For this example we're going to use the .annotations attribute which is just a Python dictionary.\n",
    "The contents of this annotations dictionary were shown when we printed the record above.\n",
    "You can also print them out directly:\n",
    "\n",
    "print(first_record.annotations)\n",
    "\n",
    "Like any Python dictionary, you can easily get a list of the keys:\n",
    "\n",
    "print(first_record.annotations.keys())\n",
    "\n",
    "or values:\n",
    "\n",
    "    print(first_record.annotations.values())\n",
    "\n",
    "In general, the annotation values are strings, or lists of strings.  One special case is any references in the file get stored as reference objects.  \n",
    "\n",
    "Suppose you wanted to extract a list of the species from the GenBank file. The information we want, _Cypripedium irapeanum_, is held in the annotations dictionary under 'source' and 'organism', which we can access like this:"
   ]
  },
  {
   "cell_type": "code",
   "execution_count": 9,
   "metadata": {
    "collapsed": false
   },
   "outputs": [
    {
     "name": "stdout",
     "output_type": "stream",
     "text": [
      "Cypripedium irapeanum\n",
      "Cypripedium irapeanum\n"
     ]
    }
   ],
   "source": [
    "print(first_record.annotations[\"source\"])\n",
    "print(first_record.annotations[\"organism\"])"
   ]
  },
  {
   "cell_type": "markdown",
   "metadata": {},
   "source": [
    "In general, 'organism' is used for the scientific name (in Latin, e.g. _Arabidopsis thaliana_),\n",
    "while 'source' will often be the common name (e.g. thale cress).  In this example, as is often the case,\n",
    "the two fields are identical.  \n",
    "\n",
    "Now let's go through all the records, building up a list of the species each orchid sequence is from:"
   ]
  },
  {
   "cell_type": "code",
   "execution_count": 10,
   "metadata": {
    "collapsed": false
   },
   "outputs": [
    {
     "name": "stdout",
     "output_type": "stream",
     "text": [
      "['Cypripedium irapeanum', 'Cypripedium californicum', 'Cypripedium fasciculatum', 'Cypripedium margaritaceum', 'Cypripedium lichiangense', 'Cypripedium yatabeanum', 'Cypripedium guttatum', 'Cypripedium acaule', 'Cypripedium formosanum', 'Cypripedium himalaicum']\n"
     ]
    }
   ],
   "source": [
    "all_species = []\n",
    "for seq_record in SeqIO.parse(\"data/ls_orchid.gbk\", \"genbank\"):\n",
    "    all_species.append(seq_record.annotations[\"organism\"])\n",
    "print(all_species[:10])  # we print only 10"
   ]
  },
  {
   "cell_type": "markdown",
   "metadata": {},
   "source": [
    "Another way of writing this code is to use a list comprehension:\n"
   ]
  },
  {
   "cell_type": "code",
   "execution_count": 11,
   "metadata": {
    "collapsed": false
   },
   "outputs": [
    {
     "name": "stdout",
     "output_type": "stream",
     "text": [
      "['Cypripedium irapeanum', 'Cypripedium californicum', 'Cypripedium fasciculatum', 'Cypripedium margaritaceum', 'Cypripedium lichiangense', 'Cypripedium yatabeanum', 'Cypripedium guttatum', 'Cypripedium acaule', 'Cypripedium formosanum', 'Cypripedium himalaicum']\n"
     ]
    }
   ],
   "source": [
    "all_species = [seq_record.annotations[\"organism\"] for seq_record in \\\n",
    "               SeqIO.parse(\"data/ls_orchid.gbk\", \"genbank\")]\n",
    "print(all_species[:10])"
   ]
  },
  {
   "cell_type": "markdown",
   "metadata": {},
   "source": [
    "Great.  That was pretty easy because GenBank files are annotated in a standardised way.\n",
    "\n",
    "Now, let's suppose you wanted to extract a list of the species from a FASTA file, rather than the GenBank file.  The bad news is you will have to write some code to extract the data you want from the record's description line - if the information is in the file in the first place!  Our example FASTA format file starts like this:\n",
    "\n",
    "    >gi|2765658|emb|Z78533.1|CIZ78533 C.irapeanum 5.8S rRNA gene and ITS1 and ITS2 DNA\n",
    "    CGTAACAAGGTTTCCGTAGGTGAACCTGCGGAAGGATCATTGATGAGACCGTGGAATAAACGATCGAGTG\n",
    "    AATCCGGAGGACCGGTGTACTCAGCTCACCGGGGGCATTGCTCCCGTGGTGACCCTGATTTGTTGTTGGG\n",
    "    ...\n",
    "\n",
    "You can check by hand, but for every record the species name is in the description line as the second word. This means if we break up each record's .description at the spaces, then the species is there as field number one (field zero is the record identifier).  That means we can do this:"
   ]
  },
  {
   "cell_type": "code",
   "execution_count": 12,
   "metadata": {
    "collapsed": false
   },
   "outputs": [
    {
     "name": "stdout",
     "output_type": "stream",
     "text": [
      "['C.irapeanum', 'C.californicum', 'C.fasciculatum', 'C.margaritaceum', 'C.lichiangense', 'C.yatabeanum', 'C.guttatum', 'C.acaule', 'C.formosanum', 'C.himalaicum']\n"
     ]
    }
   ],
   "source": [
    "all_species = []\n",
    "for seq_record in SeqIO.parse(\"data/ls_orchid.fasta\", \"fasta\"):\n",
    "    all_species.append(seq_record.description.split()[1])\n",
    "print(all_species[:10])"
   ]
  },
  {
   "cell_type": "markdown",
   "metadata": {},
   "source": [
    "The concise alternative using list comprehensions would be:\n"
   ]
  },
  {
   "cell_type": "code",
   "execution_count": 13,
   "metadata": {
    "collapsed": false
   },
   "outputs": [
    {
     "name": "stdout",
     "output_type": "stream",
     "text": [
      "['C.irapeanum', 'C.californicum', 'C.fasciculatum', 'C.margaritaceum', 'C.lichiangense', 'C.yatabeanum', 'C.guttatum', 'C.acaule', 'C.formosanum', 'C.himalaicum']\n"
     ]
    }
   ],
   "source": [
    "all_species == [seq_record.description.split()[1] for seq_record in \\\n",
    "                SeqIO.parse(\"data/ls_orchid.fasta\", \"fasta\")]\n",
    "print(all_species[:10])"
   ]
  },
  {
   "cell_type": "markdown",
   "metadata": {},
   "source": [
    "In general, extracting information from the FASTA description line is not very nice.\n",
    "If you can get your sequences in a well annotated file format like GenBank or EMBL,\n",
    "then this sort of annotation information is much easier to deal with.\n",
    "\n"
   ]
  },
  {
   "cell_type": "markdown",
   "metadata": {},
   "source": [
    "## Parsing sequences from compressed files"
   ]
  },
  {
   "cell_type": "markdown",
   "metadata": {},
   "source": [
    "In the previous section, we looked at parsing sequence data from a file.\n",
    "Instead of using a filename, you can give Bio.SeqIO a handle, and in this section\n",
    "we'll use handles to parse sequence from compressed files.\n",
    "\n",
    "As you'll have seen above, we can use Bio.SeqIO.read() or\n",
    "Bio.SeqIO.parse() with a filename - for instance this quick\n",
    "example calculates the total length of the sequences in a multiple\n",
    "record GenBank file using a generator expression:"
   ]
  },
  {
   "cell_type": "code",
   "execution_count": 14,
   "metadata": {
    "collapsed": false
   },
   "outputs": [
    {
     "name": "stdout",
     "output_type": "stream",
     "text": [
      "67518\n"
     ]
    }
   ],
   "source": [
    "print(sum(len(r) for r in SeqIO.parse(\"data/ls_orchid.gbk\", \"gb\")))"
   ]
  },
  {
   "cell_type": "markdown",
   "metadata": {},
   "source": [
    "Here we use a file handle instead, using the \\verb|with| statement\n",
    "to close the handle automatically:\n"
   ]
  },
  {
   "cell_type": "code",
   "execution_count": 15,
   "metadata": {
    "collapsed": false
   },
   "outputs": [
    {
     "name": "stdout",
     "output_type": "stream",
     "text": [
      "67518\n"
     ]
    }
   ],
   "source": [
    "with open(\"data/ls_orchid.gbk\") as handle:\n",
    "    print(sum(len(r) for r in SeqIO.parse(handle, \"gb\")))"
   ]
  },
  {
   "cell_type": "markdown",
   "metadata": {},
   "source": [
    "Or, the old fashioned way where you manually close the handle:\n"
   ]
  },
  {
   "cell_type": "code",
   "execution_count": 16,
   "metadata": {
    "collapsed": false
   },
   "outputs": [
    {
     "name": "stdout",
     "output_type": "stream",
     "text": [
      "67518\n"
     ]
    }
   ],
   "source": [
    "handle = open(\"data/ls_orchid.gbk\")\n",
    "print(sum(len(r) for r in SeqIO.parse(handle, \"gb\")))\n",
    "handle.close()"
   ]
  },
  {
   "cell_type": "markdown",
   "metadata": {},
   "source": [
    "Now, suppose we have a gzip compressed file instead? These are very\n",
    "commonly used on Linux. We can use Python's gzip module to open\n",
    "the compressed file for reading - which gives us a handle object:"
   ]
  },
  {
   "cell_type": "code",
   "execution_count": 17,
   "metadata": {
    "collapsed": false
   },
   "outputs": [
    {
     "name": "stdout",
     "output_type": "stream",
     "text": [
      "67518\n"
     ]
    }
   ],
   "source": [
    "handle = gzip.open(\"data/ls_orchid.gbk.gz\", \"rt\")\n",
    "print(sum(len(r) for r in SeqIO.parse(handle, \"gb\")))\n",
    "handle.close()"
   ]
  },
  {
   "cell_type": "markdown",
   "metadata": {},
   "source": [
    "There is a gzip (GNU Zip) variant called BGZF (Blocked GNU Zip Format),\n",
    "which can be treated like an ordinary gzip file for reading, but has\n",
    "advantages for random access later which we'll talk about later."
   ]
  },
  {
   "cell_type": "markdown",
   "metadata": {},
   "source": [
    "## Parsing sequences from the net"
   ]
  },
  {
   "cell_type": "markdown",
   "metadata": {},
   "source": [
    "In the previous sections, we looked at parsing sequence data from a file\n",
    "(using a filename or handle), and from compressed files (using a handle).\n",
    "Here we'll use Bio.SeqIO with another type of handle, a network\n",
    "connection, to download and parse sequences from the internet.\n",
    "\n",
    "Note that just because you _can_ download sequence data and parse it into\n",
    "a SeqRecord object in one go doesn't mean this is a good idea.\n",
    "In general, you should probably download sequences _once_ and save them to\n",
    "a file for reuse."
   ]
  },
  {
   "cell_type": "markdown",
   "metadata": {},
   "source": [
    "### Parsing GenBank records from the net"
   ]
  },
  {
   "cell_type": "markdown",
   "metadata": {},
   "source": [
    "Let's just connect to the NCBI and get a few _Opuntia_ (prickly-pear)\n",
    "sequences from GenBank using their GI numbers.\n",
    "\n",
    "First of all, let's fetch just one record.  If you don't care about the\n",
    "annotations and features downloading a FASTA file is a good choice as these\n",
    "are compact.  Now remember, when you expect the handle to contain one and\n",
    "only one record, use the Bio.SeqIO.read() function:"
   ]
  },
  {
   "cell_type": "code",
   "execution_count": 18,
   "metadata": {
    "collapsed": false
   },
   "outputs": [
    {
     "name": "stdout",
     "output_type": "stream",
     "text": [
      "AF191665.1 with 0 features\n"
     ]
    }
   ],
   "source": [
    "Entrez.email = \"A.N.Other@example.com\"\n",
    "handle = Entrez.efetch(db=\"nucleotide\", rettype=\"fasta\", retmode=\"text\", id=\"6273291\")\n",
    "seq_record = SeqIO.read(handle, \"fasta\")\n",
    "handle.close()\n",
    "print(\"%s with %i features\" % (seq_record.id, len(seq_record.features)))"
   ]
  },
  {
   "cell_type": "markdown",
   "metadata": {},
   "source": [
    "The NCBI will also let you ask for the file in other formats, in particular as\n",
    "a GenBank file. Until Easter 2009, the Entrez EFetch API let you use ``genbank''\n",
    "as the return type, however the NCBI now insist on using the official\n",
    "return types of 'gb' (or 'gp' for proteins) as described on\n",
    "http://www.ncbi.nlm.nih.gov/entrez/query/static/efetchseq_help.html.\n",
    "\n",
    "As a result we support 'gb' as an alias for 'genbank' in Bio.SeqIO."
   ]
  },
  {
   "cell_type": "code",
   "execution_count": 19,
   "metadata": {
    "collapsed": false
   },
   "outputs": [
    {
     "name": "stdout",
     "output_type": "stream",
     "text": [
      "AF191665.1 with 3 features\n"
     ]
    }
   ],
   "source": [
    "Entrez.email = \"A.N.Other@example.com\"\n",
    "handle = Entrez.efetch(db=\"nucleotide\", rettype=\"gb\", retmode=\"text\", id=\"6273291\")\n",
    "seq_record = SeqIO.read(handle, \"gb\") #using \"gb\" as an alias for \"genbank\"\n",
    "handle.close()\n",
    "print(\"%s with %i features\" % (seq_record.id, len(seq_record.features)))"
   ]
  },
  {
   "cell_type": "markdown",
   "metadata": {},
   "source": [
    "Notice this time we have three features.\n",
    "\n",
    "Now let's fetch several records.  This time the handle contains multiple records,\n",
    "so we must use the \\verb|Bio.SeqIO.parse()| function:\n"
   ]
  },
  {
   "cell_type": "code",
   "execution_count": 20,
   "metadata": {
    "collapsed": false
   },
   "outputs": [
    {
     "name": "stdout",
     "output_type": "stream",
     "text": [
      "AF191665.1 Opuntia marenae rpl16 gene; chloroplast gene for c...\n",
      "Sequence length 902,\n",
      "3 features,\n",
      "from: chloroplast Grusonia marenae\n",
      "AF191664.1 Opuntia clavata rpl16 gene; chloroplast gene for c...\n",
      "Sequence length 899,\n",
      "3 features,\n",
      "from: chloroplast Grusonia clavata\n",
      "AF191663.1 Opuntia bradtiana rpl16 gene; chloroplast gene for...\n",
      "Sequence length 899,\n",
      "3 features,\n",
      "from: chloroplast Grusonia bradtiana\n"
     ]
    }
   ],
   "source": [
    "Entrez.email = \"A.N.Other@example.com\"\n",
    "handle = Entrez.efetch(db=\"nucleotide\", rettype=\"gb\", retmode=\"text\",\n",
    "                       id=\"6273291,6273290,6273289\")\n",
    "for seq_record in SeqIO.parse(handle, \"gb\"):\n",
    "    print (seq_record.id, seq_record.description[:50] + \"...\")\n",
    "    print (\"Sequence length %i,\" % len(seq_record))\n",
    "    print (\"%i features,\" % len(seq_record.features))\n",
    "    print (\"from: %s\" % seq_record.annotations[\"source\"])\n",
    "handle.close()"
   ]
  },
  {
   "cell_type": "markdown",
   "metadata": {},
   "source": [
    "### Parsing SwissProt sequences from the net"
   ]
  },
  {
   "cell_type": "markdown",
   "metadata": {},
   "source": [
    "Now let's use a handle to download a SwissProt file from ExPASy (SwissProt will be covered in detail in another notebook).\n",
    "As mentioned above, when you expect the handle to contain one and only one record,\n",
    "use the Bio.SeqIO.read() function:"
   ]
  },
  {
   "cell_type": "code",
   "execution_count": 21,
   "metadata": {
    "collapsed": false
   },
   "outputs": [
    {
     "name": "stdout",
     "output_type": "stream",
     "text": [
      "O23729\n",
      "CHS3_BROFI\n",
      "RecName: Full=Chalcone synthase 3; EC=2.3.1.74; AltName: Full=Naringenin-chalcone synthase 3;\n",
      "Seq('MAPAMEEIRQAQRAEGPAAVLAIGTSTPPNALYQADYPDYYFRITKSEHLTELK...GAE', ProteinAlphabet())\n",
      "Length 394\n",
      "['Acyltransferase', 'Flavonoid biosynthesis', 'Transferase']\n"
     ]
    }
   ],
   "source": [
    "handle = ExPASy.get_sprot_raw(\"O23729\")\n",
    "seq_record = SeqIO.read(handle, \"swiss\")\n",
    "handle.close()\n",
    "print(seq_record.id)\n",
    "print(seq_record.name)\n",
    "print(seq_record.description)\n",
    "print(repr(seq_record.seq))\n",
    "print(\"Length %i\" % len(seq_record))\n",
    "print(seq_record.annotations[\"keywords\"])"
   ]
  },
  {
   "cell_type": "markdown",
   "metadata": {},
   "source": [
    "## Sequence files as dictionaries"
   ]
  },
  {
   "cell_type": "markdown",
   "metadata": {},
   "source": [
    "We're now going to introduce three related functions in the \\verb|Bio.SeqIO|\n",
    "module which allow dictionary like random access to a multi-sequence file.\n",
    "There is a trade off here between flexibility and memory usage. In summary:\n",
    "\n",
    "* **Bio.SeqIO.to_dict()** is the most flexible but also the most\n",
    "memory demanding option. This is basically\n",
    "a helper function to build a normal Python dictionary with each entry\n",
    "held as a SeqRecord object in memory, allowing you to modify the\n",
    "records.\n",
    "\n",
    "* **Bio.SeqIO.index()** is a useful middle ground, acting like a\n",
    "read only dictionary and parsing sequences into SeqRecord objects\n",
    "on demand.\n",
    "\n",
    "* **Bio.SeqIO.index_db()** also acts like a read only dictionary\n",
    "but stores the identifiers and file offsets in a file on disk (as an\n",
    "SQLite3 database), meaning it has very low memory requirements, but will be a little bit slower."
   ]
  },
  {
   "cell_type": "markdown",
   "metadata": {},
   "source": [
    "### Sequence files as Dictionaries -- In memory"
   ]
  },
  {
   "cell_type": "markdown",
   "metadata": {},
   "source": [
    "The next thing that we'll do with our ubiquitous orchid files is to show how\n",
    "to index them and access them like a database using the Python dictionary\n",
    "data type. This is very useful for moderately large files\n",
    "where you only need to access certain elements of the file, and makes for a nice\n",
    "quick 'n dirty database. For dealing with larger files where memory becomes a\n",
    "problem, see below.\n",
    "\n",
    "You can use the function Bio.SeqIO.to_dict() to make a SeqRecord dictionary\n",
    "(in memory).  By default this will use each record's identifier (i.e. the .id\n",
    "attribute) as the key.  Let's try this using our GenBank file:"
   ]
  },
  {
   "cell_type": "code",
   "execution_count": 22,
   "metadata": {
    "collapsed": false
   },
   "outputs": [],
   "source": [
    "orchid_dict = SeqIO.to_dict(SeqIO.parse(\"data/ls_orchid.gbk\", \"genbank\"))"
   ]
  },
  {
   "cell_type": "markdown",
   "metadata": {},
   "source": [
    "There is just one required argument for Bio.SeqIO.to_dict(), a list or\n",
    "generator giving SeqRecord objects. Here we have just used the output\n",
    "from the SeqIO.parse function. As the name suggests, this returns a\n",
    "Python dictionary.\n",
    "\n",
    "Since this variable orchid_dict is an ordinary Python dictionary, we can look at all of the keys we have available:"
   ]
  },
  {
   "cell_type": "code",
   "execution_count": 23,
   "metadata": {
    "collapsed": false
   },
   "outputs": [
    {
     "name": "stdout",
     "output_type": "stream",
     "text": [
      "94\n",
      "dict_keys(['Z78533.1', 'Z78532.1', 'Z78531.1', 'Z78530.1', 'Z78529.1', 'Z78527.1', 'Z78526.1', 'Z78525.1', 'Z78524.1', 'Z78523.1', 'Z78522.1', 'Z78521.1', 'Z78520.1', 'Z78519.1', 'Z78518.1', 'Z78517.1', 'Z78516.1', 'Z78515.1', 'Z78514.1', 'Z78513.1', 'Z78512.1', 'Z78511.1', 'Z78510.1', 'Z78509.1', 'Z78508.1', 'Z78507.1', 'Z78506.1', 'Z78505.1', 'Z78504.1', 'Z78503.1', 'Z78502.1', 'Z78501.1', 'Z78500.1', 'Z78499.1', 'Z78498.1', 'Z78497.1', 'Z78496.1', 'Z78495.1', 'Z78494.1', 'Z78493.1', 'Z78492.1', 'Z78491.1', 'Z78490.1', 'Z78489.1', 'Z78488.1', 'Z78487.1', 'Z78486.1', 'Z78485.1', 'Z78484.1', 'Z78483.1', 'Z78482.1', 'Z78481.1', 'Z78480.1', 'Z78479.1', 'Z78478.1', 'Z78477.1', 'Z78476.1', 'Z78475.1', 'Z78474.1', 'Z78473.1', 'Z78472.1', 'Z78471.1', 'Z78470.1', 'Z78469.1', 'Z78468.1', 'Z78467.1', 'Z78466.1', 'Z78465.1', 'Z78464.1', 'Z78463.1', 'Z78462.1', 'Z78461.1', 'Z78460.1', 'Z78459.1', 'Z78458.1', 'Z78457.1', 'Z78456.1', 'Z78455.1', 'Z78454.1', 'Z78453.1', 'Z78452.1', 'Z78451.1', 'Z78450.1', 'Z78449.1', 'Z78448.1', 'Z78447.1', 'Z78446.1', 'Z78445.1', 'Z78444.1', 'Z78443.1', 'Z78442.1', 'Z78441.1', 'Z78440.1', 'Z78439.1'])\n"
     ]
    }
   ],
   "source": [
    "print(len(orchid_dict))\n",
    "print(orchid_dict.keys())"
   ]
  },
  {
   "cell_type": "markdown",
   "metadata": {},
   "source": [
    "If you really want to, you can even look at all the records at once:\n"
   ]
  },
  {
   "cell_type": "code",
   "execution_count": 24,
   "metadata": {
    "collapsed": false
   },
   "outputs": [
    {
     "data": {
      "text/plain": [
       "[SeqRecord(seq=Seq('CGTAACAAGGTTTCCGTAGGTGAACCTGCGGAAGGATCATTGATGAGACCGTGG...CGC', IUPACAmbiguousDNA()), id='Z78533.1', name='Z78533', description='C.irapeanum 5.8S rRNA gene and ITS1 and ITS2 DNA.', dbxrefs=[]),\n",
       " SeqRecord(seq=Seq('CGTAACAAGGTTTCCGTAGGTGAACCTGCGGAAGGATCATTGTTGAGACAACAG...GGC', IUPACAmbiguousDNA()), id='Z78532.1', name='Z78532', description='C.californicum 5.8S rRNA gene and ITS1 and ITS2 DNA.', dbxrefs=[]),\n",
       " SeqRecord(seq=Seq('CGTAACAAGGTTTCCGTAGGTGAACCTGCGGAAGGATCATTGTTGAGACAGCAG...TAA', IUPACAmbiguousDNA()), id='Z78531.1', name='Z78531', description='C.fasciculatum 5.8S rRNA gene and ITS1 and ITS2 DNA.', dbxrefs=[]),\n",
       " SeqRecord(seq=Seq('CGTAACAAGGTTTCCGTAGGTGAACCTGCGGAAGGATCATTGTTGAAACAACAT...CAT', IUPACAmbiguousDNA()), id='Z78530.1', name='Z78530', description='C.margaritaceum 5.8S rRNA gene and ITS1 and ITS2 DNA.', dbxrefs=[]),\n",
       " SeqRecord(seq=Seq('ACGGCGAGCTGCCGAAGGACATTGTTGAGACAGCAGAATATACGATTGAGTGAA...AAA', IUPACAmbiguousDNA()), id='Z78529.1', name='Z78529', description='C.lichiangense 5.8S rRNA gene and ITS1 and ITS2 DNA.', dbxrefs=[])]"
      ]
     },
     "execution_count": 24,
     "metadata": {},
     "output_type": "execute_result"
    }
   ],
   "source": [
    "list(orchid_dict.values())[:5]  # Ok not all at once..."
   ]
  },
  {
   "cell_type": "markdown",
   "metadata": {},
   "source": [
    "We can access a single \\verb|SeqRecord| object via the keys and manipulate the object as normal:\n"
   ]
  },
  {
   "cell_type": "code",
   "execution_count": 25,
   "metadata": {
    "collapsed": false
   },
   "outputs": [
    {
     "name": "stdout",
     "output_type": "stream",
     "text": [
      "P.supardii 5.8S rRNA gene and ITS1 and ITS2 DNA.\n",
      "Seq('CGTAACAAGGTTTCCGTAGGTGAACCTGCGGAAGGATCATTGTTGAGATCACAT...GGT', IUPACAmbiguousDNA())\n"
     ]
    }
   ],
   "source": [
    "seq_record = orchid_dict[\"Z78475.1\"]\n",
    "print(seq_record.description)\n",
    "print(repr(seq_record.seq))"
   ]
  },
  {
   "cell_type": "markdown",
   "metadata": {},
   "source": [
    "So, it is very easy to create an in memory 'database' of our GenBank records.  Next we'll try this for the FASTA file instead.\n",
    "\n",
    "Note that those of you with prior Python experience should all be able to construct a dictionary like this 'by hand'.  However, typical dictionary construction methods will not deal with the case of repeated keys very nicely.  Using the Bio.SeqIO.to_dict() will explicitly check for duplicate keys, and raise an exception if any are found."
   ]
  },
  {
   "cell_type": "markdown",
   "metadata": {},
   "source": [
    "#### Specifying the dictionary keys"
   ]
  },
  {
   "cell_type": "markdown",
   "metadata": {},
   "source": [
    "Using the same code as above, but for the FASTA file instead:\n"
   ]
  },
  {
   "cell_type": "code",
   "execution_count": 26,
   "metadata": {
    "collapsed": false
   },
   "outputs": [
    {
     "name": "stdout",
     "output_type": "stream",
     "text": [
      "['gi|2765658|emb|Z78533.1|CIZ78533', 'gi|2765657|emb|Z78532.1|CCZ78532', 'gi|2765656|emb|Z78531.1|CFZ78531', 'gi|2765655|emb|Z78530.1|CMZ78530', 'gi|2765654|emb|Z78529.1|CLZ78529']\n"
     ]
    }
   ],
   "source": [
    "orchid_dict = SeqIO.to_dict(SeqIO.parse(\"data/ls_orchid.fasta\", \"fasta\"))\n",
    "print(list(orchid_dict.keys())[:5])"
   ]
  },
  {
   "cell_type": "markdown",
   "metadata": {},
   "source": [
    "You should recognise these strings from when we parsed the FASTA file earlier.  Suppose you would rather have something else as the keys - like the accession numbers.  This brings us nicely to SeqIO.to_dict()'s optional argument key_function, which lets you define what to use as the dictionary key for your records.\n",
    "\n",
    "First you must write your own function to return the key you want (as a string) when given a SeqRecord object.  In general, the details of function will depend on the sort of input records you are dealing with.  But for our orchids, we can just split up the record's identifier using the 'pipe' character (the vertical line) and return the fourth entry (field three):"
   ]
  },
  {
   "cell_type": "code",
   "execution_count": 27,
   "metadata": {
    "collapsed": false
   },
   "outputs": [],
   "source": [
    "def get_accession(record):\n",
    "    \"\"\"\"Given a SeqRecord, return the accession number as a string.\n",
    "  \n",
    "    e.g. \"gi|2765613|emb|Z78488.1|PTZ78488\" -> \"Z78488.1\"\n",
    "    \"\"\"\n",
    "    parts = record.id.split(\"|\")\n",
    "    assert len(parts) == 5 and parts[0] == \"gi\" and parts[2] == \"emb\"\n",
    "    return parts[3]"
   ]
  },
  {
   "cell_type": "markdown",
   "metadata": {},
   "source": [
    "Then we can give this function to the SeqIO.to_dict() function to use in building the dictionary:"
   ]
  },
  {
   "cell_type": "code",
   "execution_count": 28,
   "metadata": {
    "collapsed": false
   },
   "outputs": [
    {
     "name": "stdout",
     "output_type": "stream",
     "text": [
      "dict_keys(['Z78533.1', 'Z78532.1', 'Z78531.1', 'Z78530.1', 'Z78529.1', 'Z78527.1', 'Z78526.1', 'Z78525.1', 'Z78524.1', 'Z78523.1', 'Z78522.1', 'Z78521.1', 'Z78520.1', 'Z78519.1', 'Z78518.1', 'Z78517.1', 'Z78516.1', 'Z78515.1', 'Z78514.1', 'Z78513.1', 'Z78512.1', 'Z78511.1', 'Z78510.1', 'Z78509.1', 'Z78508.1', 'Z78507.1', 'Z78506.1', 'Z78505.1', 'Z78504.1', 'Z78503.1', 'Z78502.1', 'Z78501.1', 'Z78500.1', 'Z78499.1', 'Z78498.1', 'Z78497.1', 'Z78496.1', 'Z78495.1', 'Z78494.1', 'Z78493.1', 'Z78492.1', 'Z78491.1', 'Z78490.1', 'Z78489.1', 'Z78488.1', 'Z78487.1', 'Z78486.1', 'Z78485.1', 'Z78484.1', 'Z78483.1', 'Z78482.1', 'Z78481.1', 'Z78480.1', 'Z78479.1', 'Z78478.1', 'Z78477.1', 'Z78476.1', 'Z78475.1', 'Z78474.1', 'Z78473.1', 'Z78472.1', 'Z78471.1', 'Z78470.1', 'Z78469.1', 'Z78468.1', 'Z78467.1', 'Z78466.1', 'Z78465.1', 'Z78464.1', 'Z78463.1', 'Z78462.1', 'Z78461.1', 'Z78460.1', 'Z78459.1', 'Z78458.1', 'Z78457.1', 'Z78456.1', 'Z78455.1', 'Z78454.1', 'Z78453.1', 'Z78452.1', 'Z78451.1', 'Z78450.1', 'Z78449.1', 'Z78448.1', 'Z78447.1', 'Z78446.1', 'Z78445.1', 'Z78444.1', 'Z78443.1', 'Z78442.1', 'Z78441.1', 'Z78440.1', 'Z78439.1'])\n"
     ]
    }
   ],
   "source": [
    "orchid_dict = SeqIO.to_dict(SeqIO.parse(\"data/ls_orchid.fasta\", \"fasta\"), key_function=get_accession)\n",
    "print(orchid_dict.keys())"
   ]
  },
  {
   "cell_type": "markdown",
   "metadata": {},
   "source": [
    "Finally, as desired, the new dictionary keys:"
   ]
  },
  {
   "cell_type": "markdown",
   "metadata": {},
   "source": [
    "#### Indexing a dictionary using the SEGUID checksum"
   ]
  },
  {
   "cell_type": "markdown",
   "metadata": {},
   "source": [
    "To give another example of working with dictionaries of SeqRecord objects, we'll use the SEGUID checksum function.  This is a relatively recent checksum, and collisions should be very rare (i.e. two different sequences with the same checksum), an improvement on the CRC64 checksum.\n",
    "\n",
    "Once again, working with the orchids GenBank file:"
   ]
  },
  {
   "cell_type": "code",
   "execution_count": 29,
   "metadata": {
    "collapsed": false
   },
   "outputs": [
    {
     "name": "stdout",
     "output_type": "stream",
     "text": [
      "Z78533.1 JUEoWn6DPhgZ9nAyowsgtoD9TTo\n",
      "Z78532.1 MN/s0q9zDoCVEEc+k/IFwCNF2pY\n",
      "Z78531.1 xN45pACrTnmBH8a8Y9cWSgoLrwE\n",
      "Z78530.1 yMhI5UUQfFOPcoJXb9B19XUyYlY\n",
      "Z78529.1 s1Pnjq9zoSHoI/CG9jQr4GyeMZY\n"
     ]
    }
   ],
   "source": [
    "for i, record in enumerate(SeqIO.parse(\"data/ls_orchid.gbk\", \"genbank\")):\n",
    "    print(record.id, seguid(record.seq))\n",
    "    if i == 4:  # OK, 5 is enough!\n",
    "        break"
   ]
  },
  {
   "cell_type": "markdown",
   "metadata": {},
   "source": [
    "Now, recall the Bio.SeqIO.to_dict() function's key_function argument expects a function which turns a SeqRecord into a string.  We can't use the seguid() function directly because it expects to be given a Seq object (or a string).  However, we can use Python's lambda feature to create a 'one off' function to give to Bio.SeqIO.to_dict() instead:"
   ]
  },
  {
   "cell_type": "code",
   "execution_count": 30,
   "metadata": {
    "collapsed": false
   },
   "outputs": [
    {
     "name": "stdout",
     "output_type": "stream",
     "text": [
      "Z78532.1\n",
      "C.californicum 5.8S rRNA gene and ITS1 and ITS2 DNA.\n"
     ]
    }
   ],
   "source": [
    "seguid_dict = SeqIO.to_dict(SeqIO.parse(\"data/ls_orchid.gbk\", \"genbank\"),\n",
    "                            lambda rec : seguid(rec.seq))\n",
    "record = seguid_dict[\"MN/s0q9zDoCVEEc+k/IFwCNF2pY\"]\n",
    "print(record.id)\n",
    "print(record.description)"
   ]
  },
  {
   "cell_type": "markdown",
   "metadata": {},
   "source": [
    "That should have retrieved the record Z78532.1, the second entry in the file."
   ]
  },
  {
   "cell_type": "markdown",
   "metadata": {},
   "source": [
    "### Sequence files as Dictionaries -- Indexed files"
   ]
  },
  {
   "cell_type": "markdown",
   "metadata": {},
   "source": [
    "As the previous couple of examples tried to illustrate, using\n",
    "Bio.SeqIO.to_dict() is very flexible. However, because it holds\n",
    "everything in memory, the size of file you can work with is limited by your\n",
    "computer's RAM. In general, this will only work on small to medium files.\n",
    "\n",
    "For larger files you should consider\n",
    "Bio.SeqIO.index(), which works a little differently. Although\n",
    "it still returns a dictionary like object, this does _not_ keep\n",
    "_everything_ in memory. Instead, it just records where each record\n",
    "is within the file -- when you ask for a particular record, it then parses\n",
    "it on demand.\n",
    "\n",
    "As an example, let's use the same GenBank file as before:"
   ]
  },
  {
   "cell_type": "code",
   "execution_count": 31,
   "metadata": {
    "collapsed": false
   },
   "outputs": [
    {
     "name": "stdout",
     "output_type": "stream",
     "text": [
      "94\n",
      "<dict_keyiterator object at 0x104e0dc28>\n",
      "P.supardii 5.8S rRNA gene and ITS1 and ITS2 DNA.\n",
      "CGTAACAAGGTTTCCGTAGGTGAACCTGCGGAAGGATCATTGTTGAGATCACATAATAATTGATCGAGTTAATCTGGAGGATCAGTTTACTTTGGTCACCCATGGGCATCTGCTCTTGCAGTGACCTGGATTTGCCATCGAGCCTCCTTGGGAGCTTTCTTGCTGGCGATCTAAACCCGTCCCGGCGCAGTTTTGCGCCAAGTCATATGACACATAATTGGAAGGGGGTGGCATGCTGCCTTGACCCTCCCCAAATTATTTTTTTGACAACTCTCAGCAACGGATATCTCGGCTCTTNNNNNNNNNNNNNNNNNNNNNNNNNNNNNNNNNNNNNNNNNNNNNNNNNNNNNNNNNNNNNNNNNNNNNNNNNNNNNNNNNNNNNNNNNNNNNNNNATCAGGCCAAGGGCACGCCTGCCTGGGCATTGCGAGTCATATCTCTCCCTTAATGAGGCTGTCCATACATACTGTTCAGCCAATGCGGATGTGAGTTTGGCCCCTTGTTCTTTGGTACGGGGGGTCTAAGAGCTGCATGGGCTTTTGATGGTCCAAAATACGGCAAGAGGTGGACGAACTATGCTACAACAAAATTGTTGTGCGAATGCCCCGGGTTGTCGTATTAGATGGGCCAGCATAATCTAAAGACCCTTTTGAACCCCATTGGAGGCCCATCAACCCATGATCAGTTGACGGCCATTTGGTTGCGACCCAGGTCAGGT\n"
     ]
    }
   ],
   "source": [
    "orchid_dict = SeqIO.index(\"data/ls_orchid.gbk\", \"genbank\")\n",
    "print(len(orchid_dict))\n",
    "print(orchid_dict.keys())\n",
    "seq_record = orchid_dict[\"Z78475.1\"]\n",
    "print(seq_record.description)\n",
    "print(seq_record.seq)"
   ]
  },
  {
   "cell_type": "markdown",
   "metadata": {},
   "source": [
    "Note that Bio.SeqIO.index() won't take a handle,\n",
    "but only a filename. There are good reasons for this, but it is a little\n",
    "technical. The second argument is the file format (a lower case string as\n",
    "used in the other Bio.SeqIO functions). You can use many other\n",
    "simple file formats, including FASTA and FASTQ files. However, alignment\n",
    "formats like PHYLIP or Clustal are not supported. Finally as an optional\n",
    "argument you can supply an alphabet, or a key function.\n",
    "\n",
    "Here is the same example using the FASTA file - all we change is the\n",
    "filename and the format name:"
   ]
  },
  {
   "cell_type": "code",
   "execution_count": 32,
   "metadata": {
    "collapsed": false
   },
   "outputs": [
    {
     "name": "stdout",
     "output_type": "stream",
     "text": [
      "94\n",
      "['gi|2765658|emb|Z78533.1|CIZ78533', 'gi|2765657|emb|Z78532.1|CCZ78532', 'gi|2765656|emb|Z78531.1|CFZ78531', 'gi|2765655|emb|Z78530.1|CMZ78530', 'gi|2765654|emb|Z78529.1|CLZ78529', 'gi|2765652|emb|Z78527.1|CYZ78527', 'gi|2765651|emb|Z78526.1|CGZ78526', 'gi|2765650|emb|Z78525.1|CAZ78525', 'gi|2765649|emb|Z78524.1|CFZ78524', 'gi|2765648|emb|Z78523.1|CHZ78523', 'gi|2765647|emb|Z78522.1|CMZ78522', 'gi|2765646|emb|Z78521.1|CCZ78521', 'gi|2765645|emb|Z78520.1|CSZ78520', 'gi|2765644|emb|Z78519.1|CPZ78519', 'gi|2765643|emb|Z78518.1|CRZ78518', 'gi|2765642|emb|Z78517.1|CFZ78517', 'gi|2765641|emb|Z78516.1|CPZ78516', 'gi|2765640|emb|Z78515.1|MXZ78515', 'gi|2765639|emb|Z78514.1|PSZ78514', 'gi|2765638|emb|Z78513.1|PBZ78513', 'gi|2765637|emb|Z78512.1|PWZ78512', 'gi|2765636|emb|Z78511.1|PEZ78511', 'gi|2765635|emb|Z78510.1|PCZ78510', 'gi|2765634|emb|Z78509.1|PPZ78509', 'gi|2765633|emb|Z78508.1|PLZ78508', 'gi|2765632|emb|Z78507.1|PLZ78507', 'gi|2765631|emb|Z78506.1|PLZ78506', 'gi|2765630|emb|Z78505.1|PSZ78505', 'gi|2765629|emb|Z78504.1|PKZ78504', 'gi|2765628|emb|Z78503.1|PCZ78503', 'gi|2765627|emb|Z78502.1|PBZ78502', 'gi|2765626|emb|Z78501.1|PCZ78501', 'gi|2765625|emb|Z78500.1|PWZ78500', 'gi|2765624|emb|Z78499.1|PMZ78499', 'gi|2765623|emb|Z78498.1|PMZ78498', 'gi|2765622|emb|Z78497.1|PDZ78497', 'gi|2765621|emb|Z78496.1|PAZ78496', 'gi|2765620|emb|Z78495.1|PEZ78495', 'gi|2765619|emb|Z78494.1|PNZ78494', 'gi|2765618|emb|Z78493.1|PGZ78493', 'gi|2765617|emb|Z78492.1|PBZ78492', 'gi|2765616|emb|Z78491.1|PCZ78491', 'gi|2765615|emb|Z78490.1|PFZ78490', 'gi|2765614|emb|Z78489.1|PDZ78489', 'gi|2765613|emb|Z78488.1|PTZ78488', 'gi|2765612|emb|Z78487.1|PHZ78487', 'gi|2765611|emb|Z78486.1|PBZ78486', 'gi|2765610|emb|Z78485.1|PHZ78485', 'gi|2765609|emb|Z78484.1|PCZ78484', 'gi|2765608|emb|Z78483.1|PVZ78483', 'gi|2765607|emb|Z78482.1|PEZ78482', 'gi|2765606|emb|Z78481.1|PIZ78481', 'gi|2765605|emb|Z78480.1|PGZ78480', 'gi|2765604|emb|Z78479.1|PPZ78479', 'gi|2765603|emb|Z78478.1|PVZ78478', 'gi|2765602|emb|Z78477.1|PVZ78477', 'gi|2765601|emb|Z78476.1|PGZ78476', 'gi|2765600|emb|Z78475.1|PSZ78475', 'gi|2765599|emb|Z78474.1|PKZ78474', 'gi|2765598|emb|Z78473.1|PSZ78473', 'gi|2765597|emb|Z78472.1|PLZ78472', 'gi|2765596|emb|Z78471.1|PDZ78471', 'gi|2765595|emb|Z78470.1|PPZ78470', 'gi|2765594|emb|Z78469.1|PHZ78469', 'gi|2765593|emb|Z78468.1|PAZ78468', 'gi|2765592|emb|Z78467.1|PSZ78467', 'gi|2765591|emb|Z78466.1|PPZ78466', 'gi|2765590|emb|Z78465.1|PRZ78465', 'gi|2765589|emb|Z78464.1|PGZ78464', 'gi|2765588|emb|Z78463.1|PGZ78463', 'gi|2765587|emb|Z78462.1|PSZ78462', 'gi|2765586|emb|Z78461.1|PWZ78461', 'gi|2765585|emb|Z78460.1|PCZ78460', 'gi|2765584|emb|Z78459.1|PDZ78459', 'gi|2765583|emb|Z78458.1|PHZ78458', 'gi|2765582|emb|Z78457.1|PCZ78457', 'gi|2765581|emb|Z78456.1|PTZ78456', 'gi|2765580|emb|Z78455.1|PJZ78455', 'gi|2765579|emb|Z78454.1|PFZ78454', 'gi|2765578|emb|Z78453.1|PSZ78453', 'gi|2765577|emb|Z78452.1|PBZ78452', 'gi|2765576|emb|Z78451.1|PHZ78451', 'gi|2765575|emb|Z78450.1|PPZ78450', 'gi|2765574|emb|Z78449.1|PMZ78449', 'gi|2765573|emb|Z78448.1|PAZ78448', 'gi|2765572|emb|Z78447.1|PVZ78447', 'gi|2765571|emb|Z78446.1|PAZ78446', 'gi|2765570|emb|Z78445.1|PUZ78445', 'gi|2765569|emb|Z78444.1|PAZ78444', 'gi|2765568|emb|Z78443.1|PLZ78443', 'gi|2765567|emb|Z78442.1|PBZ78442', 'gi|2765566|emb|Z78441.1|PSZ78441', 'gi|2765565|emb|Z78440.1|PPZ78440', 'gi|2765564|emb|Z78439.1|PBZ78439']\n"
     ]
    }
   ],
   "source": [
    "orchid_dict = SeqIO.index(\"data/ls_orchid.fasta\", \"fasta\")\n",
    "print(len(orchid_dict))\n",
    "print(list(orchid_dict.keys()))"
   ]
  },
  {
   "cell_type": "markdown",
   "metadata": {},
   "source": [
    "### Specifying the dictionary keys"
   ]
  },
  {
   "cell_type": "markdown",
   "metadata": {},
   "source": [
    "Suppose you want to use the same keys as before? \n",
    "You'll need to write a tiny function to map from the FASTA identifier\n",
    "(as a string) to the key you want:"
   ]
  },
  {
   "cell_type": "code",
   "execution_count": 33,
   "metadata": {
    "collapsed": false
   },
   "outputs": [],
   "source": [
    "def get_acc(identifier):\n",
    "    \"\"\"\"Given a SeqRecord identifier string, return the accession number as a string.\n",
    "  \n",
    "    e.g. \"gi|2765613|emb|Z78488.1|PTZ78488\" -> \"Z78488.1\"\n",
    "    \"\"\"\n",
    "    parts = identifier.split(\"|\")\n",
    "    assert len(parts) == 5 and parts[0] == \"gi\" and parts[2] == \"emb\"\n",
    "    return parts[3]"
   ]
  },
  {
   "cell_type": "markdown",
   "metadata": {},
   "source": [
    "Then we can give this function to the Bio.SeqIO.index()\n",
    "function to use in building the dictionary:"
   ]
  },
  {
   "cell_type": "code",
   "execution_count": 34,
   "metadata": {
    "collapsed": false
   },
   "outputs": [
    {
     "name": "stdout",
     "output_type": "stream",
     "text": [
      "['Z78533.1', 'Z78532.1', 'Z78531.1', 'Z78530.1', 'Z78529.1', 'Z78527.1', 'Z78526.1', 'Z78525.1', 'Z78524.1', 'Z78523.1', 'Z78522.1', 'Z78521.1', 'Z78520.1', 'Z78519.1', 'Z78518.1', 'Z78517.1', 'Z78516.1', 'Z78515.1', 'Z78514.1', 'Z78513.1', 'Z78512.1', 'Z78511.1', 'Z78510.1', 'Z78509.1', 'Z78508.1', 'Z78507.1', 'Z78506.1', 'Z78505.1', 'Z78504.1', 'Z78503.1', 'Z78502.1', 'Z78501.1', 'Z78500.1', 'Z78499.1', 'Z78498.1', 'Z78497.1', 'Z78496.1', 'Z78495.1', 'Z78494.1', 'Z78493.1', 'Z78492.1', 'Z78491.1', 'Z78490.1', 'Z78489.1', 'Z78488.1', 'Z78487.1', 'Z78486.1', 'Z78485.1', 'Z78484.1', 'Z78483.1', 'Z78482.1', 'Z78481.1', 'Z78480.1', 'Z78479.1', 'Z78478.1', 'Z78477.1', 'Z78476.1', 'Z78475.1', 'Z78474.1', 'Z78473.1', 'Z78472.1', 'Z78471.1', 'Z78470.1', 'Z78469.1', 'Z78468.1', 'Z78467.1', 'Z78466.1', 'Z78465.1', 'Z78464.1', 'Z78463.1', 'Z78462.1', 'Z78461.1', 'Z78460.1', 'Z78459.1', 'Z78458.1', 'Z78457.1', 'Z78456.1', 'Z78455.1', 'Z78454.1', 'Z78453.1', 'Z78452.1', 'Z78451.1', 'Z78450.1', 'Z78449.1', 'Z78448.1', 'Z78447.1', 'Z78446.1', 'Z78445.1', 'Z78444.1', 'Z78443.1', 'Z78442.1', 'Z78441.1', 'Z78440.1', 'Z78439.1']\n"
     ]
    }
   ],
   "source": [
    "orchid_dict = SeqIO.index(\"data/ls_orchid.fasta\", \"fasta\", key_function=get_acc)\n",
    "print(list(orchid_dict.keys()))"
   ]
  },
  {
   "cell_type": "markdown",
   "metadata": {},
   "source": [
    "#### Getting the raw data for a record"
   ]
  },
  {
   "cell_type": "markdown",
   "metadata": {},
   "source": [
    "The dictionary-like object from Bio.SeqIO.index() gives you each\n",
    "entry as a SeqRecord object. However, it is sometimes useful to\n",
    "be able to get the original raw data straight from the file. For this\n",
    "use the get_raw() method which takes a\n",
    "single argument (the record identifier) and returns a string (extracted\n",
    "from the file without modification).\n",
    "\n",
    "A motivating example is extracting a subset of a records from a large\n",
    "file where either Bio.SeqIO.write() does not (yet) support the\n",
    "output file format (e.g. the plain text SwissProt file format) or\n",
    "where you need to preserve the text exactly (e.g. GenBank or EMBL\n",
    "output from Biopython does not yet preserve every last bit of\n",
    "annotation).\n",
    "\n",
    "Let's suppose you have download the whole of UniProt in the plain\n",
    "text SwissPort file format from their FTP site\n",
    "(ftp://ftp.uniprot.org/pub/databases/uniprot/current_release/knowledgebase/complete/uniprot_sprot.dat.gz - Careful big download)\n",
    "and uncompressed it as the file uniprot_sprot.dat, and you\n",
    "want to extract just a few records from it:\n",
    "\n",
    "[We should find a smaller example here, Tiago]"
   ]
  },
  {
   "cell_type": "code",
   "execution_count": 41,
   "metadata": {
    "collapsed": false
   },
   "outputs": [
    {
     "name": "stdout",
     "output_type": "stream",
     "text": [
      "  % Total    % Received % Xferd  Average Speed   Time    Time     Time  Current\r\n",
      "                                 Dload  Upload   Total   Spent    Left  Speed\r\n",
      "\r",
      "  0     0    0     0    0     0      0      0 --:--:-- --:--:-- --:--:--     0\r",
      "  0  522M    0  215k    0     0   257k      0  0:34:36 --:--:--  0:34:36  294k\r",
      "  0  522M    0 1016k    0     0   555k      0  0:16:03  0:00:01  0:16:02  589k\r",
      "  0  522M    0 2255k    0     0   798k      0  0:11:10  0:00:02  0:11:08  829k\r",
      "  0  522M    0 3027k    0     0   788k      0  0:11:18  0:00:03  0:11:15  810k\r",
      "  0  522M    0 3731k    0     0   766k      0  0:11:38  0:00:04  0:11:34  783k\r",
      "  0  522M    0 4409k    0     0   751k      0  0:11:51  0:00:05  0:11:46  833k\r",
      "  0  522M    0 5112k    0     0   748k      0  0:11:54  0:00:06  0:11:48  819k\r",
      "  1  522M    1 6013k    0     0   758k      0  0:11:45  0:00:07  0:11:38  737k\r",
      "  1  522M    1 7328k    0     0   830k      0  0:10:44  0:00:08  0:10:36  862k\r",
      "  1  522M    1 8445k    0     0   856k      0  0:10:24  0:00:09  0:10:15  943k\r",
      "  1  522M    1 9438k    0     0   871k      0  0:10:13  0:00:10  0:10:03 1013k\r",
      "  1  522M    1 10.2M    0     0   886k      0  0:10:03  0:00:11  0:09:52 1075k\r",
      "  2  522M    2 10.9M    0     0   874k      0  0:10:12  0:00:12  0:10:00 1060k\r",
      "  2  522M    2 11.7M    0     0   868k      0  0:10:15  0:00:13  0:10:02  936k\r",
      "  2  522M    2 12.5M    0     0   863k      0  0:10:19  0:00:14  0:10:05  878k\r",
      "  2  522M    2 13.4M    0     0   872k      0  0:10:12  0:00:15  0:09:57  875k\r",
      "  2  522M    2 14.6M    0     0   889k      0  0:10:01  0:00:16  0:09:45  894k\r",
      "  2  522M    2 15.0M    0     0   864k      0  0:10:18  0:00:17  0:10:01  840k\r",
      "  3  522M    3 16.0M    0     0   871k      0  0:10:13  0:00:18  0:09:55  878k\r",
      "  3  522M    3 16.8M    0     0   869k      0  0:10:14  0:00:19  0:09:55  888k\r",
      "  3  522M    3 17.7M    0     0   874k      0  0:10:11  0:00:20  0:09:51  879k\r",
      "  3  522M    3 18.6M    0     0   872k      0  0:10:12  0:00:21  0:09:51  817k\r",
      "  3  522M    3 19.4M    0     0   872k      0  0:10:13  0:00:22  0:09:51  899k\r",
      "  3  522M    3 20.2M    0     0   870k      0  0:10:14  0:00:23  0:09:51  869k\r",
      "  4  522M    4 21.2M    0     0   876k      0  0:10:10  0:00:24  0:09:46  903k\r",
      "  4  522M    4 22.1M    0     0   879k      0  0:10:08  0:00:25  0:09:43  901k\r",
      "  4  522M    4 22.9M    0     0   874k      0  0:10:11  0:00:26  0:09:45  883k\r",
      "  4  522M    4 23.6M    0     0   871k      0  0:10:13  0:00:27  0:09:46  866k\r",
      "  4  522M    4 24.3M    0     0   863k      0  0:10:19  0:00:28  0:09:51  830k\r",
      "  4  522M    4 24.8M    0     0   852k      0  0:10:27  0:00:29  0:09:58  733k\r",
      "  4  522M    4 25.6M    0     0   851k      0  0:10:28  0:00:30  0:09:58  707k\r",
      "  5  522M    5 26.5M    0     0   853k      0  0:10:26  0:00:31  0:09:55  740k\r",
      "  5  522M    5 27.1M    0     0   848k      0  0:10:30  0:00:32  0:09:58  719k\r",
      "  5  522M    5 28.4M    0     0   859k      0  0:10:22  0:00:33  0:09:49  835k\r",
      "  5  522M    5 29.3M    0     0   861k      0  0:10:20  0:00:34  0:09:46  914k\r",
      "  5  522M    5 30.1M    0     0   857k      0  0:10:23  0:00:35  0:09:48  891k\r",
      "  5  522M    5 30.5M    0     0   849k      0  0:10:29  0:00:36  0:09:53  820k\r",
      "  5  522M    5 30.8M    0     0   835k      0  0:10:40  0:00:37  0:10:03  750k\r",
      "  6  522M    6 31.8M    0     0   838k      0  0:10:37  0:00:38  0:09:59  696k\r",
      "  6  522M    6 32.8M    0     0   843k      0  0:10:33  0:00:39  0:09:54  720k\r",
      "  6  522M    6 33.6M    0     0   844k      0  0:10:33  0:00:40  0:09:53  751k\r",
      "  6  522M    6 34.4M    0     0   836k      0  0:10:39  0:00:42  0:09:57  752k\r",
      "  6  522M    6 35.1M    0     0   839k      0  0:10:36  0:00:42  0:09:54  872k\r",
      "  6  522M    6 36.0M    0     0   842k      0  0:10:34  0:00:43  0:09:51  874k\r",
      "  7  522M    7 36.6M    0     0   836k      0  0:10:39  0:00:44  0:09:55  774k\r",
      "  7  522M    7 37.7M    0     0   843k      0  0:10:33  0:00:45  0:09:48  836k\r",
      "  7  522M    7 38.5M    0     0   843k      0  0:10:34  0:00:46  0:09:48  899k\r",
      "  7  522M    7 39.3M    0     0   843k      0  0:10:34  0:00:47  0:09:47  870k\r",
      "  7  522M    7 39.9M    0     0   838k      0  0:10:37  0:00:48  0:09:49  801k\r",
      "  7  522M    7 40.8M    0     0   838k      0  0:10:37  0:00:49  0:09:48  859k\r",
      "  8  522M    8 42.4M    0     0   855k      0  0:10:25  0:00:50  0:09:35  957k\r",
      "  8  522M    8 46.3M    0     0   915k      0  0:09:44  0:00:51  0:08:53 1587k\r",
      "  8  522M    8 46.5M    0     0   901k      0  0:09:53  0:00:52  0:09:01 1464k\r",
      "  8  522M    8 46.5M    0     0   885k      0  0:10:04  0:00:53  0:09:11 1339k\r",
      "  9  522M    9 47.1M    0     0   881k      0  0:10:07  0:00:54  0:09:13 1306k\r",
      "  9  522M    9 47.8M    0     0   878k      0  0:10:09  0:00:55  0:09:14 1111k\r",
      "  9  522M    9 48.4M    0     0   872k      0  0:10:12  0:00:56  0:09:16  433k\r",
      "  9  522M    9 49.1M    0     0   870k      0  0:10:14  0:00:57  0:09:17  538k\r",
      "  9  522M    9 49.9M    0     0   868k      0  0:10:15  0:00:58  0:09:17  688k\r",
      "  9  522M    9 50.7M    0     0   868k      0  0:10:16  0:00:59  0:09:17  726k\r",
      "  9  522M    9 51.5M    0     0   867k      0  0:10:16  0:01:00  0:09:16  747k\r",
      " 10  522M   10 52.2M    0     0   865k      0  0:10:17  0:01:01  0:09:16  786k\r",
      " 10  522M   10 53.3M    0     0   869k      0  0:10:14  0:01:02  0:09:12  866k\r",
      " 10  522M   10 54.3M    0     0   870k      0  0:10:14  0:01:03  0:09:11  895k\r",
      " 10  522M   10 55.0M    0     0   869k      0  0:10:15  0:01:04  0:09:11  882k\r",
      " 10  522M   10 55.9M    0     0   870k      0  0:10:14  0:01:05  0:09:09  912k\r",
      " 10  522M   10 57.0M    0     0   874k      0  0:10:11  0:01:06  0:09:05  979k\r",
      " 11  522M   11 57.9M    0     0   874k      0  0:10:11  0:01:07  0:09:04  933k\r",
      " 11  522M   11 58.8M    0     0   876k      0  0:10:10  0:01:08  0:09:02  943k\r",
      " 11  522M   11 59.2M    0     0   869k      0  0:10:15  0:01:09  0:09:06  870k\r",
      " 11  522M   11 60.1M    0     0   869k      0  0:10:15  0:01:10  0:09:05  848k\r",
      " 11  522M   11 61.1M    0     0   872k      0  0:10:13  0:01:11  0:09:02  840k\r",
      " 11  522M   11 62.0M    0     0   872k      0  0:10:12  0:01:12  0:09:00  847k\r",
      " 12  522M   12 63.0M    0     0   873k      0  0:10:12  0:01:13  0:08:59  840k\r",
      " 12  522M   12 63.8M    0     0   874k      0  0:10:12  0:01:14  0:08:58  937k\r",
      " 12  522M   12 64.6M    0     0   872k      0  0:10:12  0:01:15  0:08:57  924k\r",
      " 12  522M   12 65.3M    0     0   870k      0  0:10:14  0:01:16  0:08:58  851k\r",
      " 12  522M   12 66.0M    0     0   868k      0  0:10:16  0:01:17  0:08:59  805k\r",
      " 12  522M   12 66.9M    0     0   869k      0  0:10:15  0:01:18  0:08:57  810k\r",
      " 12  522M   12 67.1M    0     0   860k      0  0:10:21  0:01:19  0:09:02  660k\r",
      " 12  522M   12 67.8M    0     0   859k      0  0:10:22  0:01:20  0:09:02  659k\r",
      " 13  522M   13 68.8M    0     0   861k      0  0:10:20  0:01:21  0:08:59  724k\r",
      " 13  522M   13 69.7M    0     0   861k      0  0:10:20  0:01:22  0:08:58  759k\r",
      " 13  522M   13 70.3M    0     0   859k      0  0:10:22  0:01:23  0:08:59  693k\r",
      " 13  522M   13 70.7M    0     0   854k      0  0:10:26  0:01:24  0:09:02  754k\r",
      " 13  522M   13 71.7M    0     0   855k      0  0:10:25  0:01:25  0:09:00  789k\r",
      " 13  522M   13 72.6M    0     0   856k      0  0:10:24  0:01:26  0:08:58  763k\r",
      " 14  522M   14 73.6M    0     0   858k      0  0:10:22  0:01:27  0:08:55  808k\r",
      " 14  522M   14 74.2M    0     0   855k      0  0:10:25  0:01:28  0:08:57  790k\r",
      " 14  522M   14 74.8M    0     0   853k      0  0:10:26  0:01:29  0:08:57  833k\r",
      " 14  522M   14 75.3M    0     0   849k      0  0:10:30  0:01:30  0:09:00  739k\r",
      " 14  522M   14 75.9M    0     0   847k      0  0:10:31  0:01:31  0:09:00  695k\r",
      " 14  522M   14 76.8M    0     0   847k      0  0:10:31  0:01:32  0:08:59  650k\r",
      " 14  522M   14 77.7M    0     0   848k      0  0:10:30  0:01:33  0:08:57  728k\r",
      " 14  522M   14 78.2M    0     0   845k      0  0:10:33  0:01:34  0:08:59  699k\r",
      " 15  522M   15 79.1M    0     0   845k      0  0:10:32  0:01:35  0:08:57  784k\r",
      " 15  522M   15 79.7M    0     0   843k      0  0:10:34  0:01:36  0:08:58  775k\r",
      " 15  522M   15 80.4M    0     0   842k      0  0:10:35  0:01:37  0:08:58  738k\r",
      " 15  522M   15 81.2M    0     0   841k      0  0:10:35  0:01:38  0:08:57  714k\r",
      " 15  522M   15 81.9M    0     0   840k      0  0:10:36  0:01:39  0:08:57  762k\r",
      " 15  522M   15 82.9M    0     0   842k      0  0:10:35  0:01:40  0:08:55  777k\r",
      " 16  522M   16 83.6M    0     0   840k      0  0:10:36  0:01:41  0:08:55  788k\r",
      " 16  522M   16 84.4M    0     0   840k      0  0:10:36  0:01:42  0:08:54  813k\r",
      " 16  522M   16 85.2M    0     0   840k      0  0:10:36  0:01:43  0:08:53  820k\r",
      " 16  522M   16 85.8M    0     0   838k      0  0:10:38  0:01:44  0:08:54  783k\r",
      " 16  522M   16 86.6M    0     0   837k      0  0:10:38  0:01:45  0:08:53  749k\r",
      " 16  522M   16 87.5M    0     0   839k      0  0:10:37  0:01:46  0:08:51  801k\r",
      " 16  522M   16 88.3M    0     0   838k      0  0:10:37  0:01:47  0:08:50  795k\r",
      " 17  522M   17 88.9M    0     0   834k      0  0:10:41  0:01:49  0:08:52  703k\r",
      " 17  522M   17 89.6M    0     0   835k      0  0:10:40  0:01:49  0:08:51  780k\r",
      " 17  522M   17 90.4M    0     0   836k      0  0:10:39  0:01:50  0:08:49  797k\r",
      " 17  522M   17 91.1M    0     0   834k      0  0:10:40  0:01:51  0:08:49  743k\r",
      " 17  522M   17 91.8M    0     0   833k      0  0:10:41  0:01:52  0:08:49  726k\r",
      " 17  522M   17 92.5M    0     0   832k      0  0:10:42  0:01:53  0:08:49  794k\r",
      " 17  522M   17 93.3M    0     0   832k      0  0:10:42  0:01:54  0:08:48  759k\r",
      " 18  522M   18 94.2M    0     0   833k      0  0:10:42  0:01:55  0:08:47  765k\r",
      " 18  522M   18 95.1M    0     0   833k      0  0:10:41  0:01:56  0:08:45  800k\r",
      " 18  522M   18 96.0M    0     0   834k      0  0:10:40  0:01:57  0:08:43  855k\r",
      " 18  522M   18 96.9M    0     0   835k      0  0:10:40  0:01:58  0:08:42  906k\r",
      " 18  522M   18 97.6M    0     0   834k      0  0:10:40  0:01:59  0:08:41  891k\r",
      " 18  522M   18 98.2M    0     0   832k      0  0:10:42  0:02:00  0:08:42  830k\r",
      " 18  522M   18 98.9M    0     0   831k      0  0:10:43  0:02:01  0:08:42  793k\r",
      " 19  522M   19 99.7M    0     0   831k      0  0:10:43  0:02:02  0:08:41  761k\r",
      " 19  522M   19  100M    0     0   833k      0  0:10:41  0:02:03  0:08:38  792k\r",
      " 19  522M   19  101M    0     0   832k      0  0:10:42  0:02:04  0:08:38  767k\r",
      " 19  522M   19  102M    0     0   833k      0  0:10:41  0:02:05  0:08:36  854k\r",
      " 19  522M   19  103M    0     0   836k      0  0:10:39  0:02:06  0:08:33  950k\r",
      " 20  522M   20  104M    0     0   836k      0  0:10:39  0:02:07  0:08:32  969k\r",
      " 20  522M   20  105M    0     0   835k      0  0:10:40  0:02:08  0:08:32  882k\r",
      " 20  522M   20  105M    0     0   833k      0  0:10:41  0:02:09  0:08:32  878k\r",
      " 20  522M   20  106M    0     0   830k      0  0:10:44  0:02:10  0:08:34  748k\r",
      " 20  522M   20  106M    0     0   830k      0  0:10:43  0:02:11  0:08:32  688k\r",
      " 20  522M   20  107M    0     0   831k      0  0:10:43  0:02:12  0:08:31  691k\r",
      " 20  522M   20  108M    0     0   831k      0  0:10:43  0:02:13  0:08:30  728k\r",
      " 20  522M   20  109M    0     0   831k      0  0:10:42  0:02:14  0:08:28  783k\r",
      " 21  522M   21  110M    0     0   831k      0  0:10:42  0:02:15  0:08:27  869k\r",
      " 21  522M   21  111M    0     0   831k      0  0:10:43  0:02:16  0:08:27  846k\r",
      " 21  522M   21  111M    0     0   829k      0  0:10:44  0:02:17  0:08:27  774k\r",
      " 21  522M   21  112M    0     0   829k      0  0:10:44  0:02:18  0:08:26  774k\r",
      " 21  522M   21  113M    0     0   831k      0  0:10:43  0:02:19  0:08:24  808k\r",
      " 21  522M   21  114M    0     0   831k      0  0:10:43  0:02:20  0:08:23  816k\r",
      " 22  522M   22  115M    0     0   831k      0  0:10:43  0:02:21  0:08:22  827k\r",
      " 22  522M   22  115M    0     0   828k      0  0:10:45  0:02:22  0:08:23  810k\r",
      " 22  522M   22  116M    0     0   829k      0  0:10:44  0:02:23  0:08:21  823k\r",
      " 22  522M   22  117M    0     0   829k      0  0:10:44  0:02:24  0:08:20  780k\r",
      " 22  522M   22  117M    0     0   827k      0  0:10:46  0:02:25  0:08:21  729k\r",
      " 22  522M   22  118M    0     0   826k      0  0:10:47  0:02:26  0:08:21  690k\r",
      " 22  522M   22  119M    0     0   827k      0  0:10:46  0:02:27  0:08:19  787k\r",
      " 23  522M   23  120M    0     0   829k      0  0:10:45  0:02:28  0:08:17  817k\r",
      " 23  522M   23  121M    0     0   829k      0  0:10:44  0:02:29  0:08:15  834k\r",
      " 23  522M   23  122M    0     0   828k      0  0:10:45  0:02:30  0:08:15  847k\r",
      " 23  522M   23  122M    0     0   827k      0  0:10:46  0:02:31  0:08:15  860k\r",
      " 23  522M   23  123M    0     0   826k      0  0:10:46  0:02:32  0:08:14  812k\r",
      " 23  522M   23  124M    0     0   827k      0  0:10:46  0:02:33  0:08:13  767k\r",
      " 23  522M   23  124M    0     0   826k      0  0:10:47  0:02:34  0:08:13  725k\r",
      " 24  522M   24  125M    0     0   824k      0  0:10:48  0:02:35  0:08:13  699k\r",
      " 24  522M   24  126M    0     0   823k      0  0:10:49  0:02:36  0:08:13  700k\r",
      " 24  522M   24  127M    0     0   824k      0  0:10:48  0:02:37  0:08:11  759k\r",
      " 24  522M   24  128M    0     0   826k      0  0:10:47  0:02:38  0:08:09  811k\r",
      " 24  522M   24  128M    0     0   826k      0  0:10:47  0:02:39  0:08:08  827k\r",
      " 24  522M   24  129M    0     0   826k      0  0:10:47  0:02:40  0:08:07  888k\r",
      " 24  522M   24  130M    0     0   826k      0  0:10:47  0:02:41  0:08:06  912k\r",
      " 25  522M   25  131M    0     0   826k      0  0:10:47  0:02:42  0:08:05  890k\r",
      " 25  522M   25  132M    0     0   827k      0  0:10:46  0:02:43  0:08:03  854k\r",
      " 25  522M   25  133M    0     0   827k      0  0:10:46  0:02:44  0:08:02  881k\r",
      " 25  522M   25  133M    0     0   826k      0  0:10:47  0:02:45  0:08:02  827k\r",
      " 25  522M   25  134M    0     0   827k      0  0:10:46  0:02:46  0:08:00  874k\r",
      " 25  522M   25  135M    0     0   826k      0  0:10:47  0:02:47  0:08:00  825k\r",
      " 26  522M   26  136M    0     0   826k      0  0:10:46  0:02:48  0:07:58  812k\r",
      " 26  522M   26  137M    0     0   826k      0  0:10:47  0:02:49  0:07:58  775k\r",
      " 26  522M   26  138M    0     0   827k      0  0:10:46  0:02:50  0:07:56  877k\r",
      " 26  522M   26  138M    0     0   828k      0  0:10:45  0:02:51  0:07:54  843k\r",
      " 26  522M   26  139M    0     0   828k      0  0:10:45  0:02:52  0:07:53  884k\r",
      " 26  522M   26  140M    0     0   827k      0  0:10:46  0:02:53  0:07:53  857k\r",
      " 27  522M   27  143M    0     0   843k      0  0:10:34  0:02:54  0:07:40 1421k\r",
      " 28  522M   28  147M    0     0   857k      0  0:10:23  0:02:55  0:07:28 1883k\r",
      " 28  522M   28  150M    0     0   873k      0  0:10:12  0:02:56  0:07:16 2429k\r",
      " 29  522M   29  154M    0     0   890k      0  0:10:00  0:02:57  0:07:03 3038k\r",
      " 30  522M   30  158M    0     0   906k      0  0:09:49  0:02:58  0:06:51 3646k\r",
      " 31  522M   31  162M    0     0   927k      0  0:09:36  0:02:59  0:06:37 3876k\r",
      " 31  522M   31  165M    0     0   935k      0  0:09:31  0:03:00  0:06:31 3679k\r",
      " 31  522M   31  166M    0     0   935k      0  0:09:31  0:03:01  0:06:30 3150k\r",
      " 32  522M   32  167M    0     0   937k      0  0:09:30  0:03:02  0:06:28 2594k\r",
      " 32  522M   32  168M    0     0   936k      0  0:09:31  0:03:03  0:06:28 2005k\r",
      " 32  522M   32  168M    0     0   935k      0  0:09:31  0:03:04  0:06:27 1210k\r",
      " 32  522M   32  169M    0     0   935k      0  0:09:31  0:03:05  0:06:26  919k\r",
      " 32  522M   32  170M    0     0   935k      0  0:09:31  0:03:06  0:06:25  933k\r",
      " 32  522M   32  171M    0     0   935k      0  0:09:31  0:03:07  0:06:24  887k\r",
      " 32  522M   32  172M    0     0   934k      0  0:09:32  0:03:08  0:06:24  861k\r",
      " 33  522M   33  172M    0     0   932k      0  0:09:33  0:03:09  0:06:24  831k\r",
      " 33  522M   33  173M    0     0   931k      0  0:09:34  0:03:10  0:06:24  789k\r",
      " 33  522M   33  174M    0     0   931k      0  0:09:34  0:03:11  0:06:23  764k\r",
      " 33  522M   33  174M    0     0   928k      0  0:09:35  0:03:12  0:06:23  666k\r",
      " 33  522M   33  175M    0     0   929k      0  0:09:35  0:03:13  0:06:22  736k\r",
      " 33  522M   33  177M    0     0   930k      0  0:09:34  0:03:14  0:06:20  844k\r",
      " 34  522M   34  180M    0     0   942k      0  0:09:27  0:03:15  0:06:12 1341k\r",
      " 36  522M   36  189M    0     0   987k      0  0:09:01  0:03:16  0:05:45 3127k\r",
      " 36  522M   36  193M    0     0   999k      0  0:08:55  0:03:17  0:05:38 3770k\r",
      " 37  522M   37  193M    0     0   996k      0  0:08:56  0:03:18  0:05:38 3595k\r",
      " 37  522M   37  194M    0     0   996k      0  0:08:56  0:03:19  0:05:37 3557k\r",
      " 37  522M   37  195M    0     0   994k      0  0:08:57  0:03:20  0:05:37 3052k\r",
      " 37  522M   37  195M    0     0   993k      0  0:08:58  0:03:21  0:05:37 1227k\r",
      " 37  522M   37  196M    0     0   992k      0  0:08:59  0:03:22  0:05:37  715k\r",
      " 37  522M   37  197M    0     0   992k      0  0:08:58  0:03:23  0:05:35  823k\r",
      " 37  522M   37  198M    0     0   991k      0  0:08:59  0:03:24  0:05:35  818k\r",
      " 38  522M   38  199M    0     0   991k      0  0:08:59  0:03:25  0:05:34  870k\r",
      " 38  522M   38  200M    0     0   991k      0  0:08:59  0:03:26  0:05:33  941k\r",
      " 38  522M   38  200M    0     0   990k      0  0:09:00  0:03:27  0:05:33  900k\r",
      " 38  522M   38  201M    0     0   989k      0  0:09:00  0:03:28  0:05:32  854k\r",
      " 38  522M   38  202M    0     0   989k      0  0:09:00  0:03:29  0:05:31  903k\r",
      " 39  522M   39  203M    0     0   990k      0  0:09:00  0:03:30  0:05:30  947k\r",
      " 39  522M   39  205M    0     0   991k      0  0:08:59  0:03:31  0:05:28  954k\r",
      " 39  522M   39  205M    0     0   990k      0  0:08:59  0:03:32  0:05:27 1025k\r",
      " 39  522M   39  206M    0     0   989k      0  0:09:00  0:03:33  0:05:27  993k\r",
      " 39  522M   39  207M    0     0   988k      0  0:09:01  0:03:34  0:05:27  932k\r",
      " 39  522M   39  208M    0     0   988k      0  0:09:01  0:03:35  0:05:26  903k\r",
      " 40  522M   40  209M    0     0   987k      0  0:09:01  0:03:36  0:05:25  817k\r",
      " 40  522M   40  209M    0     0   986k      0  0:09:02  0:03:37  0:05:25  780k\r",
      " 40  522M   40  210M    0     0   985k      0  0:09:02  0:03:38  0:05:24  813k\r",
      " 40  522M   40  211M    0     0   984k      0  0:09:03  0:03:39  0:05:24  814k\r",
      " 40  522M   40  212M    0     0   983k      0  0:09:04  0:03:40  0:05:24  756k\r",
      " 40  522M   40  212M    0     0   983k      0  0:09:04  0:03:41  0:05:23  812k\r",
      " 40  522M   40  213M    0     0   983k      0  0:09:04  0:03:42  0:05:22  858k\r",
      " 41  522M   41  214M    0     0   982k      0  0:09:04  0:03:43  0:05:21  845k\r",
      " 41  522M   41  215M    0     0   981k      0  0:09:04  0:03:44  0:05:20  859k\r",
      " 41  522M   41  216M    0     0   982k      0  0:09:04  0:03:45  0:05:19  926k\r",
      " 41  522M   41  217M    0     0   982k      0  0:09:04  0:03:46  0:05:18  974k\r",
      " 41  522M   41  218M    0     0   982k      0  0:09:04  0:03:47  0:05:17  928k\r",
      " 42  522M   42  219M    0     0   981k      0  0:09:04  0:03:48  0:05:16  966k\r",
      " 42  522M   42  220M    0     0   980k      0  0:09:05  0:03:49  0:05:16  919k\r",
      " 42  522M   42  220M    0     0   979k      0  0:09:06  0:03:50  0:05:16  843k\r",
      " 42  522M   42  221M    0     0   976k      0  0:09:07  0:03:51  0:05:16  697k\r",
      " 42  522M   42  221M    0     0   975k      0  0:09:08  0:03:52  0:05:16  670k\r",
      " 42  522M   42  222M    0     0   976k      0  0:09:07  0:03:53  0:05:14  713k\r",
      " 42  522M   42  223M    0     0   975k      0  0:09:08  0:03:54  0:05:14  732k\r",
      " 42  522M   42  224M    0     0   974k      0  0:09:09  0:03:55  0:05:14  753k\r",
      " 43  522M   43  225M    0     0   973k      0  0:09:09  0:03:56  0:05:13  816k\r",
      " 43  522M   43  225M    0     0   972k      0  0:09:10  0:03:57  0:05:13  821k\r",
      " 43  522M   43  226M    0     0   970k      0  0:09:11  0:03:58  0:05:13  705k\r",
      " 43  522M   43  226M    0     0   968k      0  0:09:12  0:03:59  0:05:13  669k\r",
      " 43  522M   43  227M    0     0   968k      0  0:09:12  0:04:00  0:05:12  706k\r",
      " 43  522M   43  228M    0     0   967k      0  0:09:12  0:04:01  0:05:11  686k\r",
      " 43  522M   43  229M    0     0   966k      0  0:09:13  0:04:02  0:05:11  711k\r",
      " 44  522M   44  230M    0     0   967k      0  0:09:12  0:04:03  0:05:09  819k\r",
      " 44  522M   44  231M    0     0   968k      0  0:09:12  0:04:04  0:05:08  934k\r",
      " 44  522M   44  232M    0     0   965k      0  0:09:14  0:04:06  0:05:08  803k\r",
      " 44  522M   44  232M    0     0   964k      0  0:09:14  0:04:06  0:05:08  842k\r",
      " 44  522M   44  233M    0     0   965k      0  0:09:14  0:04:07  0:05:07  900k\r",
      " 44  522M   44  234M    0     0   965k      0  0:09:14  0:04:08  0:05:06  851k\r",
      " 45  522M   45  235M    0     0   965k      0  0:09:13  0:04:09  0:05:04  850k\r",
      " 45  522M   45  236M    0     0   966k      0  0:09:13  0:04:10  0:05:03 1042k\r",
      " 45  522M   45  237M    0     0   965k      0  0:09:13  0:04:11  0:05:02 1010k\r",
      " 45  522M   45  238M    0     0   965k      0  0:09:14  0:04:12  0:05:02  950k\r",
      " 45  522M   45  239M    0     0   964k      0  0:09:14  0:04:13  0:05:01  939k\r",
      " 45  522M   45  239M    0     0   963k      0  0:09:15  0:04:14  0:05:01  863k\r",
      " 46  522M   46  240M    0     0   963k      0  0:09:14  0:04:15  0:04:59  827k\r",
      " 46  522M   46  241M    0     0   962k      0  0:09:15  0:04:16  0:04:59  804k\r",
      " 46  522M   46  242M    0     0   961k      0  0:09:16  0:04:17  0:04:59  802k\r",
      " 46  522M   46  242M    0     0   961k      0  0:09:16  0:04:18  0:04:58  792k\r",
      " 46  522M   46  244M    0     0   962k      0  0:09:15  0:04:19  0:04:56  907k\r",
      " 46  522M   46  245M    0     0   962k      0  0:09:16  0:04:20  0:04:56  870k\r",
      " 47  522M   47  245M    0     0   961k      0  0:09:16  0:04:21  0:04:55  893k\r",
      " 47  522M   47  246M    0     0   961k      0  0:09:16  0:04:22  0:04:54  948k\r",
      " 47  522M   47  247M    0     0   961k      0  0:09:16  0:04:23  0:04:53  980k\r",
      " 47  522M   47  248M    0     0   960k      0  0:09:17  0:04:24  0:04:53  837k\r",
      " 47  522M   47  249M    0     0   961k      0  0:09:16  0:04:25  0:04:51  908k\r",
      " 47  522M   47  250M    0     0   961k      0  0:09:16  0:04:26  0:04:50  980k\r",
      " 48  522M   48  251M    0     0   961k      0  0:09:16  0:04:27  0:04:49  929k\r",
      " 48  522M   48  252M    0     0   960k      0  0:09:16  0:04:28  0:04:48  906k\r",
      " 48  522M   48  253M    0     0   960k      0  0:09:16  0:04:29  0:04:47  969k\r",
      " 48  522M   48  253M    0     0   960k      0  0:09:17  0:04:30  0:04:47  910k\r",
      " 48  522M   48  254M    0     0   959k      0  0:09:17  0:04:31  0:04:46  820k\r",
      " 48  522M   48  255M    0     0   957k      0  0:09:18  0:04:32  0:04:46  770k\r",
      " 49  522M   49  256M    0     0   957k      0  0:09:18  0:04:33  0:04:45  793k\r",
      " 49  522M   49  257M    0     0   957k      0  0:09:18  0:04:34  0:04:44  813k\r",
      " 49  522M   49  258M    0     0   957k      0  0:09:18  0:04:35  0:04:43  832k\r",
      " 49  522M   49  258M    0     0   956k      0  0:09:19  0:04:36  0:04:43  796k\r",
      " 49  522M   49  259M    0     0   955k      0  0:09:19  0:04:37  0:04:42  852k\r",
      " 49  522M   49  260M    0     0   956k      0  0:09:19  0:04:38  0:04:41  912k\r",
      " 50  522M   50  261M    0     0   957k      0  0:09:18  0:04:39  0:04:39  944k\r",
      " 50  522M   50  262M    0     0   955k      0  0:09:19  0:04:40  0:04:39  849k\r",
      " 50  522M   50  263M    0     0   956k      0  0:09:19  0:04:41  0:04:38  968k\r",
      " 50  522M   50  264M    0     0   956k      0  0:09:19  0:04:42  0:04:37  985k\r",
      " 50  522M   50  264M    0     0   955k      0  0:09:19  0:04:43  0:04:36  872k\r",
      " 50  522M   50  266M    0     0   956k      0  0:09:19  0:04:44  0:04:35  919k\r",
      " 51  522M   51  267M    0     0   956k      0  0:09:19  0:04:45  0:04:34 1006k\r",
      " 51  522M   51  267M    0     0   956k      0  0:09:19  0:04:46  0:04:33  939k\r",
      " 51  522M   51  268M    0     0   955k      0  0:09:20  0:04:47  0:04:33  886k\r",
      " 51  522M   51  269M    0     0   954k      0  0:09:20  0:04:48  0:04:32  931k\r",
      " 51  522M   51  270M    0     0   954k      0  0:09:20  0:04:49  0:04:31  801k\r",
      " 51  522M   51  270M    0     0   954k      0  0:09:20  0:04:50  0:04:30  797k\r",
      " 52  522M   52  271M    0     0   953k      0  0:09:20  0:04:51  0:04:29  823k\r",
      " 52  522M   52  272M    0     0   953k      0  0:09:21  0:04:52  0:04:29  839k\r",
      " 52  522M   52  273M    0     0   952k      0  0:09:21  0:04:53  0:04:28  813k\r",
      " 52  522M   52  274M    0     0   952k      0  0:09:21  0:04:54  0:04:27  846k\r",
      " 52  522M   52  275M    0     0   953k      0  0:09:21  0:04:55  0:04:26  905k\r",
      " 52  522M   52  276M    0     0   952k      0  0:09:21  0:04:56  0:04:25  879k\r",
      " 53  522M   53  277M    0     0   953k      0  0:09:21  0:04:57  0:04:24  954k\r",
      " 53  522M   53  278M    0     0   953k      0  0:09:20  0:04:58  0:04:22 1038k\r",
      " 53  522M   53  279M    0     0   953k      0  0:09:20  0:04:59  0:04:21 1050k\r",
      " 53  522M   53  280M    0     0   953k      0  0:09:20  0:05:00  0:04:20  983k\r",
      " 53  522M   53  280M    0     0   952k      0  0:09:21  0:05:01  0:04:20  963k\r",
      " 53  522M   53  281M    0     0   952k      0  0:09:21  0:05:02  0:04:19  907k\r",
      " 54  522M   54  282M    0     0   952k      0  0:09:21  0:05:03  0:04:18  853k\r",
      " 54  522M   54  284M    0     0   956k      0  0:09:19  0:05:04  0:04:15 1082k\r",
      " 54  522M   54  287M    0     0   961k      0  0:09:16  0:05:05  0:04:11 1402k\r",
      " 55  522M   55  288M    0     0   961k      0  0:09:16  0:05:07  0:04:09 1444k\r",
      " 55  522M   55  289M    0     0   961k      0  0:09:16  0:05:07  0:04:09 1510k\r",
      " 55  522M   55  290M    0     0   962k      0  0:09:16  0:05:08  0:04:08 1555k\r",
      " 55  522M   55  290M    0     0   961k      0  0:09:16  0:05:09  0:04:07 1293k\r",
      " 55  522M   55  291M    0     0   960k      0  0:09:16  0:05:10  0:04:06  950k\r",
      " 56  522M   56  292M    0     0   960k      0  0:09:16  0:05:11  0:04:05  946k\r",
      " 56  522M   56  293M    0     0   960k      0  0:09:17  0:05:12  0:04:05  880k\r",
      " 56  522M   56  294M    0     0   959k      0  0:09:17  0:05:13  0:04:04  820k\r",
      " 56  522M   56  294M    0     0   959k      0  0:09:17  0:05:14  0:04:03  820k\r",
      " 56  522M   56  295M    0     0   958k      0  0:09:17  0:05:15  0:04:02  834k\r",
      " 56  522M   56  296M    0     0   958k      0  0:09:18  0:05:16  0:04:02  783k\r",
      " 56  522M   56  297M    0     0   957k      0  0:09:18  0:05:17  0:04:01  810k\r",
      " 57  522M   57  298M    0     0   957k      0  0:09:18  0:05:18  0:04:00  819k\r",
      " 57  522M   57  299M    0     0   957k      0  0:09:18  0:05:19  0:03:59  841k\r",
      " 57  522M   57  299M    0     0   957k      0  0:09:18  0:05:20  0:03:58  848k\r",
      " 57  522M   57  300M    0     0   957k      0  0:09:18  0:05:21  0:03:57  904k\r",
      " 57  522M   57  302M    0     0   958k      0  0:09:17  0:05:22  0:03:55 1028k\r",
      " 58  522M   58  303M    0     0   959k      0  0:09:17  0:05:23  0:03:54 1062k\r",
      " 58  522M   58  304M    0     0   959k      0  0:09:17  0:05:24  0:03:53 1101k\r",
      " 58  522M   58  305M    0     0   959k      0  0:09:17  0:05:25  0:03:52 1137k\r",
      " 58  522M   58  306M    0     0   961k      0  0:09:16  0:05:26  0:03:50 1226k\r",
      " 58  522M   58  307M    0     0   960k      0  0:09:17  0:05:27  0:03:50 1043k\r",
      " 59  522M   59  308M    0     0   960k      0  0:09:17  0:05:28  0:03:49 1036k\r",
      " 59  522M   59  309M    0     0   959k      0  0:09:17  0:05:29  0:03:48  978k\r",
      " 59  522M   59  310M    0     0   959k      0  0:09:17  0:05:30  0:03:47  952k\r",
      " 59  522M   59  311M    0     0   960k      0  0:09:17  0:05:31  0:03:46  876k\r",
      " 59  522M   59  312M    0     0   960k      0  0:09:17  0:05:32  0:03:45  963k\r",
      " 59  522M   59  312M    0     0   959k      0  0:09:17  0:05:33  0:03:44  933k\r",
      " 60  522M   60  314M    0     0   960k      0  0:09:16  0:05:34  0:03:42 1024k\r",
      " 60  522M   60  314M    0     0   959k      0  0:09:17  0:05:35  0:03:42  949k\r",
      " 60  522M   60  315M    0     0   959k      0  0:09:17  0:05:36  0:03:41  950k\r",
      " 60  522M   60  316M    0     0   959k      0  0:09:17  0:05:37  0:03:40  937k\r",
      " 60  522M   60  317M    0     0   960k      0  0:09:16  0:05:38  0:03:38  996k\r",
      " 61  522M   61  318M    0     0   960k      0  0:09:17  0:05:39  0:03:38  918k\r",
      " 61  522M   61  319M    0     0   960k      0  0:09:16  0:05:40  0:03:36 1043k\r",
      " 61  522M   61  320M    0     0   961k      0  0:09:16  0:05:41  0:03:35 1039k\r",
      " 61  522M   61  321M    0     0   960k      0  0:09:16  0:05:42  0:03:34 1002k\r",
      " 61  522M   61  322M    0     0   960k      0  0:09:17  0:05:43  0:03:34  951k\r",
      " 61  522M   61  323M    0     0   960k      0  0:09:17  0:05:44  0:03:33  958k\r",
      " 62  522M   62  324M    0     0   960k      0  0:09:16  0:05:45  0:03:31  947k\r",
      " 62  522M   62  325M    0     0   961k      0  0:09:16  0:05:46  0:03:30  964k\r",
      " 62  522M   62  326M    0     0   961k      0  0:09:16  0:05:47  0:03:29 1012k\r",
      " 62  522M   62  327M    0     0   960k      0  0:09:16  0:05:48  0:03:28  982k\r",
      " 62  522M   62  328M    0     0   961k      0  0:09:16  0:05:49  0:03:27 1012k\r",
      " 63  522M   63  329M    0     0   961k      0  0:09:16  0:05:50  0:03:26 1047k\r",
      " 63  522M   63  330M    0     0   961k      0  0:09:16  0:05:51  0:03:25  975k\r",
      " 63  522M   63  331M    0     0   960k      0  0:09:16  0:05:52  0:03:24  943k\r",
      " 63  522M   63  331M    0     0   960k      0  0:09:16  0:05:53  0:03:23  958k\r",
      " 63  522M   63  332M    0     0   960k      0  0:09:16  0:05:54  0:03:22  921k\r",
      " 63  522M   63  333M    0     0   960k      0  0:09:17  0:05:55  0:03:22  841k\r",
      " 64  522M   64  334M    0     0   960k      0  0:09:17  0:05:56  0:03:21  874k\r",
      " 64  522M   64  335M    0     0   959k      0  0:09:17  0:05:57  0:03:20  887k\r",
      " 64  522M   64  336M    0     0   959k      0  0:09:17  0:05:58  0:03:19  901k\r",
      " 64  522M   64  337M    0     0   959k      0  0:09:17  0:05:59  0:03:18  915k\r",
      " 64  522M   64  338M    0     0   959k      0  0:09:17  0:06:00  0:03:17  901k\r",
      " 64  522M   64  338M    0     0   958k      0  0:09:18  0:06:01  0:03:17  814k\r",
      " 65  522M   65  339M    0     0   958k      0  0:09:18  0:06:02  0:03:16  859k\r",
      " 65  522M   65  340M    0     0   958k      0  0:09:18  0:06:03  0:03:15  869k\r",
      " 65  522M   65  341M    0     0   958k      0  0:09:17  0:06:04  0:03:13  894k\r",
      " 65  522M   65  342M    0     0   958k      0  0:09:17  0:06:05  0:03:12  906k\r",
      " 65  522M   65  343M    0     0   958k      0  0:09:18  0:06:06  0:03:12  970k\r",
      " 65  522M   65  344M    0     0   957k      0  0:09:18  0:06:07  0:03:11  903k\r",
      " 66  522M   66  344M    0     0   957k      0  0:09:18  0:06:08  0:03:10  886k\r",
      " 66  522M   66  345M    0     0   957k      0  0:09:18  0:06:09  0:03:09  866k\r",
      " 66  522M   66  346M    0     0   957k      0  0:09:18  0:06:10  0:03:08  893k\r",
      " 66  522M   66  347M    0     0   957k      0  0:09:18  0:06:11  0:03:07  904k\r",
      " 66  522M   66  348M    0     0   957k      0  0:09:18  0:06:12  0:03:06  924k\r",
      " 66  522M   66  349M    0     0   957k      0  0:09:18  0:06:14  0:03:04  943k\r",
      " 67  522M   67  350M    0     0   956k      0  0:09:19  0:06:14  0:03:05  896k\r",
      " 67  522M   67  350M    0     0   956k      0  0:09:19  0:06:15  0:03:04  839k\r",
      " 67  522M   67  351M    0     0   955k      0  0:09:19  0:06:16  0:03:03  829k\r",
      " 67  522M   67  352M    0     0   955k      0  0:09:19  0:06:17  0:03:02  835k\r",
      " 67  522M   67  354M    0     0   957k      0  0:09:18  0:06:18  0:03:00  923k\r",
      " 67  522M   67  354M    0     0   956k      0  0:09:19  0:06:19  0:03:00  954k\r",
      " 68  522M   68  355M    0     0   957k      0  0:09:18  0:06:20  0:02:58 1029k\r",
      " 68  522M   68  356M    0     0   957k      0  0:09:18  0:06:21  0:02:57 1070k\r",
      " 68  522M   68  357M    0     0   956k      0  0:09:19  0:06:22  0:02:57 1015k\r",
      " 68  522M   68  358M    0     0   956k      0  0:09:19  0:06:23  0:02:56  897k\r",
      " 68  522M   68  359M    0     0   956k      0  0:09:19  0:06:24  0:02:55  924k\r",
      " 68  522M   68  360M    0     0   956k      0  0:09:19  0:06:25  0:02:54  889k\r",
      " 69  522M   69  361M    0     0   956k      0  0:09:19  0:06:26  0:02:53  907k\r",
      " 69  522M   69  362M    0     0   956k      0  0:09:19  0:06:27  0:02:52  962k\r",
      " 69  522M   69  363M    0     0   956k      0  0:09:19  0:06:28  0:02:51  959k\r",
      " 69  522M   69  363M    0     0   955k      0  0:09:19  0:06:29  0:02:50  910k\r",
      " 69  522M   69  364M    0     0   955k      0  0:09:20  0:06:30  0:02:50  871k\r",
      " 69  522M   69  365M    0     0   954k      0  0:09:20  0:06:31  0:02:49  799k\r",
      " 70  522M   70  365M    0     0   953k      0  0:09:20  0:06:32  0:02:48  738k\r",
      " 70  522M   70  366M    0     0   954k      0  0:09:20  0:06:33  0:02:47  791k\r",
      " 70  522M   70  367M    0     0   953k      0  0:09:20  0:06:34  0:02:46  799k\r",
      " 70  522M   70  368M    0     0   954k      0  0:09:20  0:06:35  0:02:45  894k\r",
      " 70  522M   70  370M    0     0   955k      0  0:09:19  0:06:36  0:02:43 1011k\r",
      " 71  522M   71  371M    0     0   956k      0  0:09:19  0:06:37  0:02:42 1158k\r",
      " 71  522M   71  371M    0     0   954k      0  0:09:20  0:06:38  0:02:42  940k\r",
      " 71  522M   71  372M    0     0   954k      0  0:09:20  0:06:39  0:02:41  971k\r",
      " 71  522M   71  373M    0     0   954k      0  0:09:20  0:06:40  0:02:40  932k\r",
      " 71  522M   71  374M    0     0   953k      0  0:09:20  0:06:41  0:02:39  824k\r",
      " 71  522M   71  374M    0     0   952k      0  0:09:21  0:06:42  0:02:39  681k\r",
      " 71  522M   71  375M    0     0   951k      0  0:09:21  0:06:43  0:02:38  780k\r",
      " 72  522M   72  376M    0     0   952k      0  0:09:21  0:06:44  0:02:37  822k\r",
      " 72  522M   72  377M    0     0   952k      0  0:09:21  0:06:45  0:02:36  802k\r",
      " 72  522M   72  378M    0     0   952k      0  0:09:21  0:06:46  0:02:35  866k\r",
      " 72  522M   72  379M    0     0   952k      0  0:09:21  0:06:47  0:02:34  940k\r",
      " 72  522M   72  380M    0     0   952k      0  0:09:21  0:06:48  0:02:33 1041k\r",
      " 72  522M   72  381M    0     0   952k      0  0:09:21  0:06:49  0:02:32  979k\r",
      " 73  522M   73  382M    0     0   952k      0  0:09:21  0:06:50  0:02:31  987k\r",
      " 73  522M   73  383M    0     0   952k      0  0:09:21  0:06:51  0:02:30  955k\r",
      " 73  522M   73  383M    0     0   952k      0  0:09:21  0:06:52  0:02:29  910k\r",
      " 73  522M   73  384M    0     0   951k      0  0:09:22  0:06:53  0:02:29  854k\r",
      " 73  522M   73  385M    0     0   951k      0  0:09:22  0:06:54  0:02:28  815k\r",
      " 74  522M   74  387M    0     0   953k      0  0:09:21  0:06:55  0:02:26  976k\r",
      " 74  522M   74  388M    0     0   953k      0  0:09:20  0:06:56  0:02:24 1032k\r",
      " 74  522M   74  389M    0     0   954k      0  0:09:20  0:06:57  0:02:23 1120k\r",
      " 74  522M   74  390M    0     0   955k      0  0:09:19  0:06:58  0:02:21 1242k\r",
      " 74  522M   74  391M    0     0   954k      0  0:09:20  0:06:59  0:02:21 1228k\r",
      " 75  522M   75  391M    0     0   953k      0  0:09:21  0:07:00  0:02:21  982k\r",
      " 75  522M   75  392M    0     0   952k      0  0:09:21  0:07:01  0:02:20  860k\r",
      " 75  522M   75  393M    0     0   952k      0  0:09:21  0:07:02  0:02:19  772k\r",
      " 75  522M   75  393M    0     0   950k      0  0:09:22  0:07:04  0:02:18  585k\r",
      " 75  522M   75  394M    0     0   950k      0  0:09:22  0:07:04  0:02:18  600k\r",
      " 75  522M   75  394M    0     0   948k      0  0:09:23  0:07:05  0:02:18  563k\r",
      " 75  522M   75  395M    0     0   948k      0  0:09:24  0:07:06  0:02:18  598k\r",
      " 75  522M   75  395M    0     0   946k      0  0:09:24  0:07:07  0:02:17  511k\r",
      " 75  522M   75  396M    0     0   946k      0  0:09:24  0:07:08  0:02:16  609k\r",
      " 76  522M   76  397M    0     0   946k      0  0:09:25  0:07:09  0:02:16  631k\r",
      " 76  522M   76  398M    0     0   947k      0  0:09:24  0:07:10  0:02:14  792k\r",
      " 76  522M   76  399M    0     0   946k      0  0:09:25  0:07:11  0:02:14  801k\r",
      " 76  522M   76  400M    0     0   946k      0  0:09:25  0:07:12  0:02:13  925k\r",
      " 76  522M   76  400M    0     0   946k      0  0:09:25  0:07:13  0:02:12  905k\r",
      " 76  522M   76  402M    0     0   946k      0  0:09:25  0:07:14  0:02:11  963k\r",
      " 77  522M   77  403M    0     0   947k      0  0:09:24  0:07:15  0:02:09  977k\r",
      " 77  522M   77  404M    0     0   947k      0  0:09:24  0:07:16  0:02:08 1005k\r",
      " 77  522M   77  404M    0     0   946k      0  0:09:24  0:07:17  0:02:07  964k\r",
      " 77  522M   77  405M    0     0   946k      0  0:09:25  0:07:18  0:02:07  934k\r",
      " 77  522M   77  406M    0     0   946k      0  0:09:24  0:07:19  0:02:05  958k\r",
      " 78  522M   78  407M    0     0   947k      0  0:09:24  0:07:20  0:02:04  927k\r",
      " 78  522M   78  408M    0     0   947k      0  0:09:24  0:07:21  0:02:03  915k\r",
      " 78  522M   78  409M    0     0   946k      0  0:09:25  0:07:22  0:02:03  923k\r",
      " 78  522M   78  410M    0     0   946k      0  0:09:25  0:07:23  0:02:02  982k\r",
      " 78  522M   78  411M    0     0   947k      0  0:09:24  0:07:24  0:02:00  984k\r",
      " 78  522M   78  412M    0     0   947k      0  0:09:24  0:07:25  0:01:59  980k\r",
      " 79  522M   79  413M    0     0   947k      0  0:09:24  0:07:26  0:01:58  959k\r",
      " 79  522M   79  414M    0     0   947k      0  0:09:24  0:07:27  0:01:57  987k\r",
      " 79  522M   79  415M    0     0   947k      0  0:09:24  0:07:28  0:01:56  984k\r",
      " 79  522M   79  415M    0     0   946k      0  0:09:24  0:07:29  0:01:55  912k\r",
      " 79  522M   79  416M    0     0   946k      0  0:09:25  0:07:30  0:01:55  833k\r",
      " 79  522M   79  417M    0     0   946k      0  0:09:25  0:07:31  0:01:54  886k\r",
      " 80  522M   80  418M    0     0   946k      0  0:09:25  0:07:32  0:01:53  846k\r",
      " 80  522M   80  419M    0     0   946k      0  0:09:25  0:07:33  0:01:52  867k\r",
      " 80  522M   80  420M    0     0   946k      0  0:09:25  0:07:34  0:01:51  926k\r",
      " 80  522M   80  421M    0     0   947k      0  0:09:24  0:07:35  0:01:49 1042k\r",
      " 80  522M   80  422M    0     0   947k      0  0:09:24  0:07:36  0:01:48 1017k\r",
      " 81  522M   81  423M    0     0   946k      0  0:09:24  0:07:37  0:01:47 1029k\r",
      " 81  522M   81  424M    0     0   946k      0  0:09:25  0:07:38  0:01:47  971k\r",
      " 81  522M   81  425M    0     0   946k      0  0:09:25  0:07:39  0:01:46  923k\r",
      " 81  522M   81  426M    0     0   947k      0  0:09:24  0:07:40  0:01:44  930k\r",
      " 81  522M   81  427M    0     0   947k      0  0:09:24  0:07:41  0:01:43  974k\r",
      " 81  522M   81  428M    0     0   947k      0  0:09:24  0:07:42  0:01:42  973k\r",
      " 82  522M   82  428M    0     0   947k      0  0:09:24  0:07:43  0:01:41  993k\r",
      " 82  522M   82  430M    0     0   947k      0  0:09:24  0:07:44  0:01:40 1031k\r",
      " 82  522M   82  430M    0     0   947k      0  0:09:24  0:07:45  0:01:39  955k\r",
      " 82  522M   82  432M    0     0   948k      0  0:09:24  0:07:46  0:01:38 1015k\r",
      " 82  522M   82  433M    0     0   948k      0  0:09:24  0:07:47  0:01:37 1053k\r",
      " 83  522M   83  434M    0     0   948k      0  0:09:24  0:07:48  0:01:36 1051k\r",
      " 83  522M   83  434M    0     0   948k      0  0:09:24  0:07:49  0:01:35 1007k\r",
      " 83  522M   83  436M    0     0   948k      0  0:09:24  0:07:50  0:01:34 1064k\r",
      " 83  522M   83  437M    0     0   948k      0  0:09:23  0:07:51  0:01:32  967k\r",
      " 83  522M   83  437M    0     0   948k      0  0:09:23  0:07:52  0:01:31  961k\r",
      " 83  522M   83  438M    0     0   948k      0  0:09:24  0:07:53  0:01:31  939k\r",
      " 84  522M   84  439M    0     0   948k      0  0:09:24  0:07:54  0:01:30  972k\r",
      " 84  522M   84  440M    0     0   948k      0  0:09:23  0:07:55  0:01:28  958k\r",
      " 84  522M   84  442M    0     0   949k      0  0:09:23  0:07:56  0:01:27 1023k\r",
      " 84  522M   84  443M    0     0   950k      0  0:09:22  0:07:57  0:01:25 1130k\r",
      " 85  522M   85  444M    0     0   950k      0  0:09:22  0:07:58  0:01:24 1171k\r",
      " 85  522M   85  445M    0     0   950k      0  0:09:22  0:07:59  0:01:23 1176k\r",
      " 85  522M   85  446M    0     0   950k      0  0:09:22  0:08:00  0:01:22 1115k\r",
      " 85  522M   85  447M    0     0   950k      0  0:09:23  0:08:01  0:01:22 1020k\r",
      " 85  522M   85  447M    0     0   949k      0  0:09:23  0:08:02  0:01:21  900k\r",
      " 85  522M   85  448M    0     0   949k      0  0:09:23  0:08:03  0:01:20  844k\r",
      " 85  522M   85  449M    0     0   948k      0  0:09:23  0:08:04  0:01:19  754k\r",
      " 86  522M   86  449M    0     0   947k      0  0:09:24  0:08:05  0:01:19  723k\r",
      " 86  522M   86  450M    0     0   948k      0  0:09:23  0:08:06  0:01:17  798k\r",
      " 86  522M   86  451M    0     0   948k      0  0:09:23  0:08:07  0:01:16  841k\r",
      " 86  522M   86  452M    0     0   948k      0  0:09:23  0:08:08  0:01:15  907k\r",
      " 86  522M   86  453M    0     0   948k      0  0:09:23  0:08:09  0:01:14  944k\r",
      " 87  522M   87  454M    0     0   948k      0  0:09:24  0:08:10  0:01:14  988k\r",
      " 87  522M   87  455M    0     0   947k      0  0:09:24  0:08:11  0:01:13  866k\r",
      " 87  522M   87  456M    0     0   947k      0  0:09:24  0:08:12  0:01:12  874k\r",
      " 87  522M   87  457M    0     0   948k      0  0:09:23  0:08:13  0:01:10  924k\r",
      " 87  522M   87  458M    0     0   948k      0  0:09:23  0:08:14  0:01:09  967k\r",
      " 87  522M   87  459M    0     0   948k      0  0:09:23  0:08:15  0:01:08 1000k\r",
      " 88  522M   88  460M    0     0   949k      0  0:09:23  0:08:16  0:01:07 1100k\r",
      " 88  522M   88  461M    0     0   949k      0  0:09:23  0:08:17  0:01:06 1142k\r",
      " 88  522M   88  462M    0     0   949k      0  0:09:23  0:08:18  0:01:05 1053k\r",
      " 88  522M   88  463M    0     0   949k      0  0:09:23  0:08:19  0:01:04  986k\r",
      " 88  522M   88  464M    0     0   948k      0  0:09:23  0:08:20  0:01:03  947k\r",
      " 89  522M   89  465M    0     0   948k      0  0:09:23  0:08:21  0:01:02  917k\r",
      " 89  522M   89  466M    0     0   949k      0  0:09:23  0:08:22  0:01:01  922k\r",
      " 89  522M   89  467M    0     0   949k      0  0:09:23  0:08:23  0:01:00  967k\r",
      " 89  522M   89  468M    0     0   949k      0  0:09:23  0:08:24  0:00:59 1000k\r",
      " 89  522M   89  468M    0     0   948k      0  0:09:23  0:08:25  0:00:58  959k\r",
      " 89  522M   89  469M    0     0   949k      0  0:09:23  0:08:26  0:00:57  970k\r",
      " 90  522M   90  470M    0     0   949k      0  0:09:23  0:08:27  0:00:56  912k\r",
      " 90  522M   90  471M    0     0   949k      0  0:09:23  0:08:28  0:00:55  927k\r",
      " 90  522M   90  473M    0     0   950k      0  0:09:22  0:08:29  0:00:53 1007k\r",
      " 90  522M   90  474M    0     0   950k      0  0:09:22  0:08:30  0:00:52 1115k\r",
      " 90  522M   90  475M    0     0   950k      0  0:09:22  0:08:31  0:00:51 1095k\r",
      " 91  522M   91  476M    0     0   950k      0  0:09:22  0:08:32  0:00:50 1091k\r",
      " 91  522M   91  476M    0     0   950k      0  0:09:22  0:08:33  0:00:49 1025k\r",
      " 91  522M   91  477M    0     0   950k      0  0:09:22  0:08:34  0:00:48  977k\r",
      " 91  522M   91  478M    0     0   950k      0  0:09:23  0:08:35  0:00:48  902k\r",
      " 91  522M   91  479M    0     0   950k      0  0:09:22  0:08:36  0:00:46  918k\r",
      " 91  522M   91  480M    0     0   950k      0  0:09:23  0:08:37  0:00:46  882k\r",
      " 92  522M   92  480M    0     0   949k      0  0:09:23  0:08:38  0:00:45  813k\r",
      " 92  522M   92  481M    0     0   948k      0  0:09:23  0:08:39  0:00:44  775k\r",
      " 92  522M   92  482M    0     0   949k      0  0:09:23  0:08:40  0:00:43  848k\r",
      " 92  522M   92  483M    0     0   948k      0  0:09:23  0:08:41  0:00:42  803k\r",
      " 92  522M   92  484M    0     0   948k      0  0:09:24  0:08:42  0:00:42  783k\r",
      " 92  522M   92  485M    0     0   949k      0  0:09:23  0:08:43  0:00:40  956k\r",
      " 93  522M   93  486M    0     0   949k      0  0:09:23  0:08:44  0:00:39  975k\r",
      " 93  522M   93  487M    0     0   949k      0  0:09:23  0:08:45  0:00:38  934k\r",
      " 93  522M   93  488M    0     0   948k      0  0:09:23  0:08:46  0:00:37  947k\r",
      " 93  522M   93  488M    0     0   948k      0  0:09:24  0:08:47  0:00:37  919k\r",
      " 93  522M   93  489M    0     0   947k      0  0:09:24  0:08:48  0:00:36  821k\r",
      " 93  522M   93  490M    0     0   947k      0  0:09:24  0:08:49  0:00:35  796k\r",
      " 94  522M   94  491M    0     0   947k      0  0:09:24  0:08:50  0:00:34  811k\r",
      " 94  522M   94  492M    0     0   947k      0  0:09:24  0:08:51  0:00:33  826k\r",
      " 94  522M   94  493M    0     0   947k      0  0:09:24  0:08:52  0:00:32  926k\r",
      " 94  522M   94  494M    0     0   947k      0  0:09:24  0:08:53  0:00:31  934k\r",
      " 94  522M   94  494M    0     0   946k      0  0:09:25  0:08:54  0:00:31  843k\r",
      " 94  522M   94  495M    0     0   947k      0  0:09:24  0:08:55  0:00:29  949k\r",
      " 95  522M   95  496M    0     0   947k      0  0:09:24  0:08:56  0:00:28  982k\r",
      " 95  522M   95  498M    0     0   948k      0  0:09:24  0:08:57  0:00:27  976k\r",
      " 95  522M   95  498M    0     0   948k      0  0:09:24  0:08:58  0:00:26  974k\r",
      " 95  522M   95  499M    0     0   947k      0  0:09:24  0:08:59  0:00:25 1072k\r",
      " 95  522M   95  500M    0     0   947k      0  0:09:24  0:09:00  0:00:24  920k\r",
      " 95  522M   95  501M    0     0   947k      0  0:09:24  0:09:01  0:00:23  874k\r",
      " 96  522M   96  501M    0     0   946k      0  0:09:24  0:09:02  0:00:22  795k\r",
      " 96  522M   96  502M    0     0   946k      0  0:09:24  0:09:03  0:00:21  820k\r",
      " 96  522M   96  503M    0     0   946k      0  0:09:24  0:09:04  0:00:20  854k\r",
      " 96  522M   96  504M    0     0   946k      0  0:09:25  0:09:05  0:00:20  852k\r",
      " 96  522M   96  505M    0     0   947k      0  0:09:24  0:09:06  0:00:18  923k\r",
      " 96  522M   96  506M    0     0   947k      0  0:09:24  0:09:07  0:00:17  968k\r",
      " 98  522M   98  512M    0     0   956k      0  0:09:19  0:09:08  0:00:11 2014k\r",
      " 99  522M   99  519M    0     0   966k      0  0:09:13  0:09:09  0:00:04 3100k\r",
      "100  522M  100  522M    0     0   971k      0  0:09:10  0:09:10 --:--:-- 3924k\r\n"
     ]
    }
   ],
   "source": [
    "#Use this to download the file\n",
    "!curl 'ftp://ftp.uniprot.org/pub/databases/uniprot/current_release/knowledgebase/complete/uniprot_sprot.dat.gz' -o data/uniprot_sprot.dat.gz\n",
    "!gzip -d data/uniprot_sprot.dat.gz"
   ]
  },
  {
   "cell_type": "code",
   "execution_count": 42,
   "metadata": {
    "collapsed": false
   },
   "outputs": [],
   "source": [
    "uniprot = SeqIO.index(\"data/uniprot_sprot.dat\", \"swiss\")\n",
    "handle = open(\"data/selected.dat\", \"w\")\n",
    "for acc in [\"P33487\", \"P19801\", \"P13689\", \"Q8JZQ5\", \"Q9TRC7\"]:\n",
    "    handle.write(uniprot.get_raw(acc).decode(\"utf-8\"))\n",
    "handle.close()"
   ]
  },
  {
   "cell_type": "markdown",
   "metadata": {},
   "source": [
    "There is a longer example in sorting section using the\n",
    "SeqIO.index() function to sort a large sequence file (without\n",
    "loading everything into memory at once)."
   ]
  },
  {
   "cell_type": "markdown",
   "metadata": {},
   "source": [
    "### Sequence files as Dictionaries -- Database indexed files"
   ]
  },
  {
   "cell_type": "markdown",
   "metadata": {},
   "source": [
    "Biopython 1.57 introduced an alternative, Bio.SeqIO.index_db(), which\n",
    "can work on even extremely large files since it stores the record information\n",
    "as a file on disk (using an SQLite3 database) rather than in memory. Also,\n",
    "you can index multiple files together (providing all the record identifiers\n",
    "are unique).\n",
    "\n",
    "The Bio.SeqIO.index() function takes three required arguments:\n",
    "\n",
    "* Index filename, we suggest using something ending .idx. This index file is actually an SQLite3 database.\n",
    "\n",
    "* List of sequence filenames to index (or a single filename)\n",
    "\n",
    "* File format (lower case string as used in the rest of the SeqIO module).\n",
    "\n",
    "As an example, consider the GenBank flat file releases from the NCBI FTP site,\n",
    "ftp://ftp.ncbi.nih.gov/genbank/, which are gzip compressed GenBank files.\n",
    "As of GenBank release 182, there are 16 files making up the viral sequences,\n",
    "gbvrl1.seq, ..., gbvrl16.seq, containing in total almost\n",
    "one million records. You can index them like this:"
   ]
  },
  {
   "cell_type": "code",
   "execution_count": null,
   "metadata": {
    "collapsed": false
   },
   "outputs": [],
   "source": [
    "#this will download the files - Currently there are more than 16, but we will do only 4\n",
    "import os\n",
    "for i in range(1, 5):\n",
    "    os.system('wget ftp://ftp.ncbi.nih.gov/genbank/gbvrl%i.seq.gz -O data/gbvrl%i.seq.gz' % (i, i))\n",
    "    os.system('gzip -d data/gbvrl%i.seq.gz' % i)"
   ]
  },
  {
   "cell_type": "code",
   "execution_count": null,
   "metadata": {
    "collapsed": false
   },
   "outputs": [],
   "source": [
    "files = [\"data/gbvrl%i.seq\" % i for i in range(1, 5)]\n",
    "gb_vrl = SeqIO.index_db(\"data/gbvrl.idx\", files, \"genbank\")\n",
    "print(\"%i sequences indexed\" % len(gb_vrl))"
   ]
  },
  {
   "cell_type": "markdown",
   "metadata": {},
   "source": [
    "That takes about two minutes to run on my machine. If you rerun it then the\n",
    "index file (here gbvrl.idx) is reloaded in under a second. You can\n",
    "use the index as a read only Python dictionary - without having to worry\n",
    "about which file the sequence comes from, e.g.\n"
   ]
  },
  {
   "cell_type": "code",
   "execution_count": null,
   "metadata": {
    "collapsed": false,
    "scrolled": false
   },
   "outputs": [],
   "source": [
    "print(next(gb_vrl.keys()))"
   ]
  },
  {
   "cell_type": "code",
   "execution_count": null,
   "metadata": {
    "collapsed": false
   },
   "outputs": [],
   "source": [
    "print(gb_vrl[\"AB000048.1\"].description)"
   ]
  },
  {
   "cell_type": "markdown",
   "metadata": {},
   "source": [
    "#### Getting the raw data for a record"
   ]
  },
  {
   "cell_type": "markdown",
   "metadata": {},
   "source": [
    "Just as with the Bio.SeqIO.index() function, the dictionary like object also lets you\n",
    "get at the raw text of each record:"
   ]
  },
  {
   "cell_type": "code",
   "execution_count": null,
   "metadata": {
    "collapsed": false
   },
   "outputs": [],
   "source": [
    "print(gb_vrl.get_raw(\"AB000048.1\"))"
   ]
  },
  {
   "cell_type": "markdown",
   "metadata": {},
   "source": [
    "### Indexing compressed files"
   ]
  },
  {
   "cell_type": "markdown",
   "metadata": {},
   "source": [
    "Very often when you are indexing a sequence file it can be quite large - so\n",
    "you may want to compress it on disk. Unfortunately efficient random access\n",
    "is difficult with the more common file formats like gzip and bzip2. In this\n",
    "setting, BGZF (Blocked GNU Zip Format) can be very helpful. This is a variant\n",
    "of gzip (and can be decompressed using standard gzip tools) popularised by\n",
    "the BAM file format, http://samtools.sourceforge.net/, and\n",
    "http://samtools.sourceforge.net/tabix.shtml.\n",
    "\n",
    "To create a BGZF compressed file you can use the command line tool bgzip\n",
    "which comes with samtools. In our examples we use a filename extension\n",
    "*.bgz, so they can be distinguished from normal gzipped files (named\n",
    "*.gz). You can also use the Bio.bgzf module to read and write\n",
    "BGZF files from within Python.\n",
    "\n",
    "The Bio.SeqIO.index() and Bio.SeqIO.index_db() can both be\n",
    "used with BGZF compressed files. For example, if you started with an\n",
    "uncompressed GenBank file:"
   ]
  },
  {
   "cell_type": "code",
   "execution_count": null,
   "metadata": {
    "collapsed": false
   },
   "outputs": [],
   "source": [
    "orchid_dict = SeqIO.index(\"data/ls_orchid.gbk\", \"genbank\")\n",
    "print(len(orchid_dict))"
   ]
  },
  {
   "cell_type": "markdown",
   "metadata": {},
   "source": [
    "You could compress this (while keeping the original file) at the command\n",
    "line using the following command:\n",
    "\n",
    "    $ bgzip -c ls_orchid.gbk > ls_orchid.gbk.bgz\n",
    "\n",
    "You can use the compressed file in exactly the same way:"
   ]
  },
  {
   "cell_type": "code",
   "execution_count": null,
   "metadata": {
    "collapsed": false
   },
   "outputs": [],
   "source": [
    "orchid_dict = SeqIO.index(\"data/ls_orchid.gbk.bgz\", \"genbank\")\n",
    "print(len(orchid_dict))"
   ]
  },
  {
   "cell_type": "markdown",
   "metadata": {},
   "source": [
    "or"
   ]
  },
  {
   "cell_type": "code",
   "execution_count": null,
   "metadata": {
    "collapsed": false
   },
   "outputs": [],
   "source": [
    "orchid_dict = SeqIO.index_db(\"data/ls_orchid.gbk.bgz.idx\", \"data/ls_orchid.gbk.bgz\", \"genbank\")\n",
    "print(len(orchid_dict))"
   ]
  },
  {
   "cell_type": "markdown",
   "metadata": {},
   "source": [
    "The SeqIO indexing automatically detects the BGZF compression. Note\n",
    "that you can't use the same index file for the uncompressed and compressed files."
   ]
  },
  {
   "cell_type": "markdown",
   "metadata": {},
   "source": [
    "### Discussion"
   ]
  },
  {
   "cell_type": "markdown",
   "metadata": {},
   "source": [
    "So, which of these methods should you use and why? It depends on what you are\n",
    "trying to do (and how much data you are dealing with). However, in general\n",
    "picking Bio.SeqIO.index() is a good starting point. If you are dealing\n",
    "with millions of records, multiple files, or repeated analyses, then look at\n",
    "Bio.SeqIO.index_db().\n",
    "\n",
    "Reasons to choose Bio.SeqIO.to_dict() over either\n",
    "Bio.SeqIO.index() or Bio.SeqIO.index_db() boil down to a need\n",
    "for flexibility despite its high memory needs. The advantage of storing the\n",
    "SeqRecord objects in memory is they can be changed, added to, or\n",
    "removed at will. In addition to the downside of high memory consumption,\n",
    "indexing can also take longer because all the records must be fully parsed.\n",
    "\n",
    "Both Bio.SeqIO.index() and Bio.SeqIO.index_db() only parse\n",
    "records on demand. When indexing, they scan the file once looking for the\n",
    "start of each record and do as little work as possible to extract the\n",
    "identifier.\n",
    "\n",
    "Reasons to choose Bio.SeqIO.index() over Bio.SeqIO.index_db()\n",
    "include:\n",
    "\n",
    "* Faster to build the index (more noticeable in simple file formats)\n",
    "\n",
    "* Slightly faster access as SeqRecord objects (but the difference is only\n",
    "really noticeable for simple to parse file formats).\n",
    "\n",
    "* Can use any immutable Python object as the dictionary keys (e.g. a\n",
    "tuple of strings, or a frozen set) not just strings.\n",
    "\n",
    "* Don't need to worry about the index database being out of date if the\n",
    "sequence file being indexed has changed.\n",
    "\n",
    "Reasons to choose Bio.SeqIO.index_db() over Bio.SeqIO.index()\n",
    "include:\n",
    "\n",
    "* Not memory limited - this is already important with files from second\n",
    "generation sequencing where 10s of millions of sequences are common, and\n",
    "using Bio.SeqIO.index() can require more than 4GB of RAM and therefore\n",
    "a 64bit version of Python.\n",
    "\n",
    "* Because the index is kept on disk, it can be reused. Although building\n",
    "the index database file takes longer, if you have a script which will be\n",
    "rerun on the same datafiles in future, this could save time in the long run.\n",
    "\n",
    "* Indexing multiple files together\n",
    "\n",
    "* The get_raw() method can be much faster, since for most file\n",
    "formats the length of each record is stored as well as its offset."
   ]
  },
  {
   "cell_type": "markdown",
   "metadata": {},
   "source": [
    "## Writing sequence files"
   ]
  },
  {
   "cell_type": "markdown",
   "metadata": {},
   "source": [
    "We've talked about using Bio.SeqIO.parse() for sequence input (reading files), and now we'll look at Bio.SeqIO.write() which is for sequence output (writing files).  This is a function taking three arguments: some SeqRecord objects, a handle or filename to write to, and a sequence format.\n",
    "\n",
    "Here is an example, where we start by creating a few SeqRecord objects the hard way (by hand, rather than by loading them from a file):"
   ]
  },
  {
   "cell_type": "code",
   "execution_count": null,
   "metadata": {
    "collapsed": false
   },
   "outputs": [],
   "source": [
    "rec1 = SeqRecord(Seq(\"MMYQQGCFAGGTVLRLAKDLAENNRGARVLVVCSEITAVTFRGPSETHLDSMVGQALFGD\" \\\n",
    "                    +\"GAGAVIVGSDPDLSVERPLYELVWTGATLLPDSEGAIDGHLREVGLTFHLLKDVPGLISK\" \\\n",
    "                    +\"NIEKSLKEAFTPLGISDWNSTFWIAHPGGPAILDQVEAKLGLKEEKMRATREVLSEYGNM\" \\\n",
    "                    +\"SSAC\", generic_protein),\n",
    "                 id=\"gi|14150838|gb|AAK54648.1|AF376133_1\",\n",
    "                 description=\"chalcone synthase [Cucumis sativus]\")\n",
    "\n",
    "rec2 = SeqRecord(Seq(\"YPDYYFRITNREHKAELKEKFQRMCDKSMIKKRYMYLTEEILKENPSMCEYMAPSLDARQ\" \\\n",
    "                    +\"DMVVVEIPKLGKEAAVKAIKEWGQ\", generic_protein),\n",
    "                 id=\"gi|13919613|gb|AAK33142.1|\",\n",
    "                 description=\"chalcone synthase [Fragaria vesca subsp. bracteata]\")\n",
    "\n",
    "rec3 = SeqRecord(Seq(\"MVTVEEFRRAQCAEGPATVMAIGTATPSNCVDQSTYPDYYFRITNSEHKVELKEKFKRMC\" \\\n",
    "                    +\"EKSMIKKRYMHLTEEILKENPNICAYMAPSLDARQDIVVVEVPKLGKEAAQKAIKEWGQP\" \\\n",
    "                    +\"KSKITHLVFCTTSGVDMPGCDYQLTKLLGLRPSVKRFMMYQQGCFAGGTVLRMAKDLAEN\" \\\n",
    "                    +\"NKGARVLVVCSEITAVTFRGPNDTHLDSLVGQALFGDGAAAVIIGSDPIPEVERPLFELV\" \\\n",
    "                    +\"SAAQTLLPDSEGAIDGHLREVGLTFHLLKDVPGLISKNIEKSLVEAFQPLGISDWNSLFW\" \\\n",
    "                    +\"IAHPGGPAILDQVELKLGLKQEKLKATRKVLSNYGNMSSACVLFILDEMRKASAKEGLGT\" \\\n",
    "                    +\"TGEGLEWGVLFGFGPGLTVETVVLHSVAT\", generic_protein),\n",
    "                 id=\"gi|13925890|gb|AAK49457.1|\",\n",
    "                 description=\"chalcone synthase [Nicotiana tabacum]\")\n",
    "               \n",
    "my_records = [rec1, rec2, rec3]"
   ]
  },
  {
   "cell_type": "markdown",
   "metadata": {},
   "source": [
    "Now we have a list of SeqRecord objects, we'll write them to a FASTA format file:\n"
   ]
  },
  {
   "cell_type": "code",
   "execution_count": null,
   "metadata": {
    "collapsed": false
   },
   "outputs": [],
   "source": [
    "SeqIO.write(my_records, \"data/my_example.faa\", \"fasta\")"
   ]
  },
  {
   "cell_type": "markdown",
   "metadata": {},
   "source": [
    "And if you open this file in your favourite text editor it should look like this:\n",
    "\n",
    "    >gi|14150838|gb|AAK54648.1|AF376133_1 chalcone synthase [Cucumis sativus]\n",
    "    MMYQQGCFAGGTVLRLAKDLAENNRGARVLVVCSEITAVTFRGPSETHLDSMVGQALFGD\n",
    "    GAGAVIVGSDPDLSVERPLYELVWTGATLLPDSEGAIDGHLREVGLTFHLLKDVPGLISK\n",
    "    NIEKSLKEAFTPLGISDWNSTFWIAHPGGPAILDQVEAKLGLKEEKMRATREVLSEYGNM\n",
    "    SSAC\n",
    "    >gi|13919613|gb|AAK33142.1| chalcone synthase [Fragaria vesca subsp. bracteata]\n",
    "    YPDYYFRITNREHKAELKEKFQRMCDKSMIKKRYMYLTEEILKENPSMCEYMAPSLDARQ\n",
    "    DMVVVEIPKLGKEAAVKAIKEWGQ\n",
    "    >gi|13925890|gb|AAK49457.1| chalcone synthase [Nicotiana tabacum]\n",
    "    MVTVEEFRRAQCAEGPATVMAIGTATPSNCVDQSTYPDYYFRITNSEHKVELKEKFKRMC\n",
    "    EKSMIKKRYMHLTEEILKENPNICAYMAPSLDARQDIVVVEVPKLGKEAAQKAIKEWGQP\n",
    "    KSKITHLVFCTTSGVDMPGCDYQLTKLLGLRPSVKRFMMYQQGCFAGGTVLRMAKDLAEN\n",
    "    NKGARVLVVCSEITAVTFRGPNDTHLDSLVGQALFGDGAAAVIIGSDPIPEVERPLFELV\n",
    "    SAAQTLLPDSEGAIDGHLREVGLTFHLLKDVPGLISKNIEKSLVEAFQPLGISDWNSLFW\n",
    "    IAHPGGPAILDQVELKLGLKQEKLKATRKVLSNYGNMSSACVLFILDEMRKASAKEGLGT\n",
    "    TGEGLEWGVLFGFGPGLTVETVVLHSVAT\n",
    "\n",
    "Suppose you wanted to know how many records the Bio.SeqIO.write() function wrote to the handle?\n",
    "If your records were in a list you could just use len(my_records), however you can't do that when your records come from a generator/iterator.  TheBio.SeqIO.write() function returns the number of SeqRecord objects written to the file.   \n",
    "\n",
    "**Note** - If you tell the Bio.SeqIO.write() function to write to a file that already exists, the old file will be overwritten without any warning."
   ]
  },
  {
   "cell_type": "markdown",
   "metadata": {},
   "source": [
    "### Round trips"
   ]
  },
  {
   "cell_type": "markdown",
   "metadata": {},
   "source": [
    "\n",
    "Some people like their parsers to be 'round-tripable', meaning if you read in\n",
    "a file and write it back out again it is unchanged. This requires that the parser\n",
    "must extract enough information to reproduce the original file _exactly_.\n",
    "Bio.SeqIO does _not_ aim to do this.\n",
    "\n",
    "As a trivial example, any line wrapping of the sequence data in FASTA files is\n",
    "allowed. An identical SeqRecord would be given from parsing the following\n",
    "two examples which differ only in their line breaks:\n",
    "\n",
    "    >YAL068C-7235.2170 Putative promoter sequence\n",
    "    TACGAGAATAATTTCTCATCATCCAGCTTTAACACAAAATTCGCACAGTTTTCGTTAAGA\n",
    "    GAACTTAACATTTTCTTATGACGTAAATGAAGTTTATATATAAATTTCCTTTTTATTGGA\n",
    "    \n",
    "    >YAL068C-7235.2170 Putative promoter sequence\n",
    "    TACGAGAATAATTTCTCATCATCCAGCTTTAACACAAAATTCGCA\n",
    "    CAGTTTTCGTTAAGAGAACTTAACATTTTCTTATGACGTAAATGA\n",
    "    AGTTTATATATAAATTTCCTTTTTATTGGA\n",
    "\n",
    "To make a round-tripable FASTA parser you would need to keep track of where the\n",
    "sequence line breaks occurred, and this extra information is usually pointless.\n",
    "Instead Biopython uses a default line wrapping of $60$ characters on output.\n",
    "The same problem with white space applies in many other file formats too.\n",
    "Another issue in some cases is that Biopython does not (yet) preserve every\n",
    "last bit of annotation (e.g. GenBank and EMBL).\n",
    "\n",
    "Occasionally preserving the original layout (with any quirks it may have) is\n",
    "important. See the section about raw access about the get_raw()\n",
    "method of the Bio.SeqIO.index() dictionary-like object for one potential\n",
    "solution."
   ]
  },
  {
   "cell_type": "markdown",
   "metadata": {},
   "source": [
    "### Converting between sequence file formats"
   ]
  },
  {
   "cell_type": "markdown",
   "metadata": {},
   "source": [
    "In previous example we used a list of SeqRecord objects as input to the Bio.SeqIO.write() function, but it will also accept a SeqRecord iterator like we get from Bio.SeqIO.parse() - this lets us do file conversion by combining these two functions.\n",
    "\n",
    "For this example we'll read in the GenBank format file and write it out in FASTA format:"
   ]
  },
  {
   "cell_type": "code",
   "execution_count": null,
   "metadata": {
    "collapsed": false
   },
   "outputs": [],
   "source": [
    "records = SeqIO.parse(\"data/ls_orchid.gbk\", \"genbank\")\n",
    "count = SeqIO.write(records, \"data/my_example.fasta\", \"fasta\")\n",
    "print(\"Converted %i records\" % count)"
   ]
  },
  {
   "cell_type": "markdown",
   "metadata": {},
   "source": [
    "Still, that is a little bit complicated. So, because file conversion is such a\n",
    "common task, there is a helper function letting you replace that with just:\n"
   ]
  },
  {
   "cell_type": "code",
   "execution_count": null,
   "metadata": {
    "collapsed": false
   },
   "outputs": [],
   "source": [
    "count = SeqIO.convert(\"data/ls_orchid.gbk\", \"genbank\", \"data/my_example.fasta\", \"fasta\")\n",
    "print(\"Converted %i records\" % count)"
   ]
  },
  {
   "cell_type": "markdown",
   "metadata": {},
   "source": [
    "The Bio.SeqIO.convert() function will take handles _or_ filenames.\n",
    "Watch out though - if the output file already exists, it will overwrite it!\n",
    "To find out more, see the built in help:"
   ]
  },
  {
   "cell_type": "code",
   "execution_count": null,
   "metadata": {
    "collapsed": false
   },
   "outputs": [],
   "source": [
    "help(SeqIO.convert)"
   ]
  },
  {
   "cell_type": "markdown",
   "metadata": {},
   "source": [
    "In principle, just by changing the filenames and the format names, this code\n",
    "could be used to convert between any file formats available in Biopython.\n",
    "However, writing some formats requires information (e.g. quality scores) which\n",
    "other files formats don't contain. For example, while you can turn a FASTQ\n",
    "file into a FASTA file, you can't do the reverse.\n",
    "\n",
    "Finally, as an added incentive for using the Bio.SeqIO.convert() function\n",
    "(on top of the fact your code will be shorter), doing it this way may also be\n",
    "faster! The reason for this is the convert function can take advantage of\n",
    "several file format specific optimisations and tricks."
   ]
  },
  {
   "cell_type": "markdown",
   "metadata": {},
   "source": [
    "### Converting a file of sequences to their reverse complements"
   ]
  },
  {
   "cell_type": "markdown",
   "metadata": {},
   "source": [
    "Suppose you had a file of nucleotide sequences, and you wanted to turn it into a file containing their reverse complement sequences.  This time a little bit of work is required to transform the SeqRecord objects we get from our input file into something suitable for saving to our output file.\n",
    "\n",
    "To start with, we'll use Bio.SeqIO.parse() to load some nucleotide\n",
    "sequences from a file, then print out their reverse complements using\n",
    "the Seq object's built in .reverse_complement() method:"
   ]
  },
  {
   "cell_type": "code",
   "execution_count": null,
   "metadata": {
    "collapsed": false
   },
   "outputs": [],
   "source": [
    "for i, record in enumerate(SeqIO.parse(\"data/ls_orchid.gbk\", \"genbank\")):\n",
    "    print(record.id)\n",
    "    print(record.seq.reverse_complement())\n",
    "    if i == 2:  # 3 is enough\n",
    "        break"
   ]
  },
  {
   "cell_type": "markdown",
   "metadata": {},
   "source": [
    "Now, if we want to save these reverse complements to a file, we'll need to make SeqRecord objects.\n",
    "We can use  the SeqRecord object's built in .reverse_complement() method but we must decide how to name our new records.\n",
    "\n",
    "This is an excellent place to demonstrate the power of list comprehensions which make a list in memory:"
   ]
  },
  {
   "cell_type": "code",
   "execution_count": null,
   "metadata": {
    "collapsed": false
   },
   "outputs": [],
   "source": [
    "records = [rec.reverse_complement(id=\"rc_\"+rec.id, description = \"reverse complement\") \\\n",
    "           for rec in SeqIO.parse(\"data/ls_orchid.fasta\", \"fasta\")]\n",
    "len(records)"
   ]
  },
  {
   "cell_type": "markdown",
   "metadata": {},
   "source": [
    "Now list comprehensions have a nice trick up their sleeves, you can add a conditional statement:"
   ]
  },
  {
   "cell_type": "code",
   "execution_count": null,
   "metadata": {
    "collapsed": false
   },
   "outputs": [],
   "source": [
    "records = [rec.reverse_complement(id=\"rc_\"+rec.id, description = \"reverse complement\") \\\n",
    "           for rec in SeqIO.parse(\"data/ls_orchid.fasta\", \"fasta\") if len(rec)<700]\n",
    "len(records)"
   ]
  },
  {
   "cell_type": "markdown",
   "metadata": {},
   "source": [
    "That would create an in memory list of reverse complement records where the sequence length was under 700 base pairs. However, we can do exactly the same with a generator expression - but with the advantage that this does not create a list of all the records in memory at once:\n"
   ]
  },
  {
   "cell_type": "code",
   "execution_count": null,
   "metadata": {
    "collapsed": false
   },
   "outputs": [],
   "source": [
    "records = (rec.reverse_complement(id=\"rc_\"+rec.id, description = \"reverse complement\") \\\n",
    "          for rec in SeqIO.parse(\"data/ls_orchid.fasta\", \"fasta\") if len(rec)<700)"
   ]
  },
  {
   "cell_type": "markdown",
   "metadata": {},
   "source": [
    "As a complete example:\n"
   ]
  },
  {
   "cell_type": "code",
   "execution_count": null,
   "metadata": {
    "collapsed": false
   },
   "outputs": [],
   "source": [
    "records = (rec.reverse_complement(id=\"rc_\"+rec.id, description = \"reverse complement\") \\\n",
    "           for rec in SeqIO.parse(\"data/ls_orchid.fasta\", \"fasta\") if len(rec)<700)\n",
    "SeqIO.write(records, \"data/rev_comp.fasta\", \"fasta\")"
   ]
  },
  {
   "cell_type": "markdown",
   "metadata": {},
   "source": [
    "### Getting your SeqRecord objects as formatted strings"
   ]
  },
  {
   "cell_type": "markdown",
   "metadata": {},
   "source": [
    "Suppose that you don't really want to write your records to a file or handle - instead you want a string containing the records in a particular file format.  The Bio.SeqIO interface is based on handles, but Python has a useful built in module which provides a string based handle.\n",
    "\n",
    "For an example of how you might use this, let's load in a bunch of SeqRecord objects from our orchids GenBank file, and create a string containing the records in FASTA format:"
   ]
  },
  {
   "cell_type": "code",
   "execution_count": null,
   "metadata": {
    "collapsed": false
   },
   "outputs": [],
   "source": [
    "records = SeqIO.parse(\"data/ls_orchid.gbk\", \"genbank\")\n",
    "out_handle = StringIO()\n",
    "SeqIO.write(records, out_handle, \"fasta\")\n",
    "fasta_data = out_handle.getvalue()\n",
    "print(fasta_data)"
   ]
  },
  {
   "cell_type": "markdown",
   "metadata": {},
   "source": [
    "This isn't entirely straightforward the first time you see it!  On the bright side, for the special case where you would like a string containing a _single_ record in a particular file format, use the the SeqRecord class' format() method.\n",
    "\n",
    "Note that although we don't encourage it, you _can_ use the format() method to write to a file, for example something like this:"
   ]
  },
  {
   "cell_type": "code",
   "execution_count": null,
   "metadata": {
    "collapsed": false
   },
   "outputs": [],
   "source": [
    "out_handle = open(\"data/ls_orchid_long.tab\", \"w\")\n",
    "for record in SeqIO.parse(\"data/ls_orchid.gbk\", \"genbank\"):\n",
    "    if len(record) > 100:\n",
    "        out_handle.write(record.format(\"tab\"))\n",
    "out_handle.close()"
   ]
  },
  {
   "cell_type": "markdown",
   "metadata": {},
   "source": [
    "While this style of code will work for a simple sequential file format like FASTA or the simple tab separated format used here, it will _not_ work for more complex or interlaced file formats. This is why we still recommend using Bio.SeqIO.write(), as in the following example:"
   ]
  },
  {
   "cell_type": "code",
   "execution_count": null,
   "metadata": {
    "collapsed": false
   },
   "outputs": [],
   "source": [
    "records = (rec for rec in SeqIO.parse(\"data/ls_orchid.gbk\", \"genbank\") if len(rec) > 100)\n",
    "SeqIO.write(records, \"data/ls_orchid.tab\", \"tab\")"
   ]
  },
  {
   "cell_type": "markdown",
   "metadata": {},
   "source": [
    "Making a single call to SeqIO.write(...) is also much quicker than\n",
    "multiple calls to the SeqRecord.format(...) method."
   ]
  }
 ],
 "metadata": {
  "kernelspec": {
   "display_name": "Python 3",
   "language": "python",
   "name": "python3"
  },
  "language_info": {
   "codemirror_mode": {
    "name": "ipython",
    "version": 3
   },
   "file_extension": ".py",
   "mimetype": "text/x-python",
   "name": "python",
   "nbconvert_exporter": "python",
   "pygments_lexer": "ipython3",
   "version": "3.6.0"
  }
 },
 "nbformat": 4,
 "nbformat_minor": 1
}
