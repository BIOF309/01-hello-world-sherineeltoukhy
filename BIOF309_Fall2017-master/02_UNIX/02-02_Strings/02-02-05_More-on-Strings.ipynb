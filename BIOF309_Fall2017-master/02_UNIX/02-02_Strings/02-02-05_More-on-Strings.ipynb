{
  "cells": [
    {
      "cell_type": "markdown",
      "source": [
        "## Strings"
      ],
      "metadata": {}
    },
    {
      "cell_type": "markdown",
      "source": [
        "Strings are ordered text based data which are represented by enclosing the same in single/double/triple quotes."
      ],
      "metadata": {}
    },
    {
      "cell_type": "code",
      "source": [
        "String0 = 'Taj Mahal is beautiful'\n",
        "String1 = \"Taj Mahal is beautiful\"\n",
        "String2 = '''Taj Mahal\n",
        "is\n",
        "beautiful'''"
      ],
      "outputs": [],
      "execution_count": 1,
      "metadata": {
        "collapsed": false
      }
    },
    {
      "cell_type": "code",
      "source": [
        "print String0 , type(String0)\n",
        "print String1, type(String1)\n",
        "print String2, type(String2)"
      ],
      "outputs": [
        {
          "output_type": "stream",
          "name": "stdout",
          "text": [
            "Taj Mahal is beautiful <type 'str'>\n",
            "Taj Mahal is beautiful <type 'str'>\n",
            "Taj Mahal\n",
            "is\n",
            "beautiful <type 'str'>\n"
          ]
        }
      ],
      "execution_count": 2,
      "metadata": {
        "collapsed": false
      }
    },
    {
      "cell_type": "markdown",
      "source": [
        "String Indexing and Slicing are similar to Lists which was explained in detail earlier."
      ],
      "metadata": {}
    },
    {
      "cell_type": "code",
      "source": [
        "print String0[4]\n",
        "print String0[4:]"
      ],
      "outputs": [
        {
          "output_type": "stream",
          "name": "stdout",
          "text": [
            "M\n",
            "Mahal is beautiful\n"
          ]
        }
      ],
      "execution_count": 3,
      "metadata": {
        "collapsed": false
      }
    },
    {
      "cell_type": "markdown",
      "source": [
        "###Built-in Functions"
      ],
      "metadata": {}
    },
    {
      "cell_type": "markdown",
      "source": [
        "**find( )** function returns the index value of the given data that is to found in the string. If it is not found it returns **-1**. Remember to not confuse the returned -1 for reverse indexing value."
      ],
      "metadata": {}
    },
    {
      "cell_type": "code",
      "source": [
        "print String0.find('al')\n",
        "print String0.find('am')"
      ],
      "outputs": [
        {
          "output_type": "stream",
          "name": "stdout",
          "text": [
            "7\n",
            "-1\n"
          ]
        }
      ],
      "execution_count": 4,
      "metadata": {
        "collapsed": false
      }
    },
    {
      "cell_type": "markdown",
      "source": [
        "The index value returned is the index of the first element in the input data."
      ],
      "metadata": {}
    },
    {
      "cell_type": "code",
      "source": [
        "print String0[7]"
      ],
      "outputs": [
        {
          "output_type": "stream",
          "name": "stdout",
          "text": [
            "a\n"
          ]
        }
      ],
      "execution_count": 5,
      "metadata": {
        "collapsed": false
      }
    },
    {
      "cell_type": "markdown",
      "source": [
        "One can also input **find( )** function between which index values it has to search."
      ],
      "metadata": {}
    },
    {
      "cell_type": "code",
      "source": [
        "print String0.find('j',1)\n",
        "print String0.find('j',1,3)"
      ],
      "outputs": [
        {
          "output_type": "stream",
          "name": "stdout",
          "text": [
            "2\n",
            "2\n"
          ]
        }
      ],
      "execution_count": 6,
      "metadata": {
        "collapsed": false
      }
    },
    {
      "cell_type": "markdown",
      "source": [
        "**capitalize( )** is used to capitalize the first element in the string."
      ],
      "metadata": {}
    },
    {
      "cell_type": "code",
      "source": [
        "String3 = 'observe the first letter in this sentence.'\n",
        "print String3.capitalize()"
      ],
      "outputs": [
        {
          "output_type": "stream",
          "name": "stdout",
          "text": [
            "Observe the first letter in this sentence.\n"
          ]
        }
      ],
      "execution_count": 7,
      "metadata": {
        "collapsed": false
      }
    },
    {
      "cell_type": "markdown",
      "source": [
        "**center( )** is used to center align the string by specifying the field width."
      ],
      "metadata": {}
    },
    {
      "cell_type": "code",
      "source": [
        "String0.center(70)"
      ],
      "outputs": [
        {
          "output_type": "execute_result",
          "execution_count": 8,
          "data": {
            "text/plain": [
              "'                        Taj Mahal is beautiful                        '"
            ]
          },
          "metadata": {}
        }
      ],
      "execution_count": 8,
      "metadata": {
        "collapsed": false
      }
    },
    {
      "cell_type": "markdown",
      "source": [
        "One can also fill the left out spaces with any other character."
      ],
      "metadata": {}
    },
    {
      "cell_type": "code",
      "source": [
        "String0.center(70,'-')"
      ],
      "outputs": [
        {
          "output_type": "execute_result",
          "execution_count": 9,
          "data": {
            "text/plain": [
              "'------------------------Taj Mahal is beautiful------------------------'"
            ]
          },
          "metadata": {}
        }
      ],
      "execution_count": 9,
      "metadata": {
        "collapsed": false
      }
    },
    {
      "cell_type": "markdown",
      "source": [
        "**zfill( )** is used for zero padding by specifying the field width."
      ],
      "metadata": {}
    },
    {
      "cell_type": "code",
      "source": [
        "String0.zfill(30)"
      ],
      "outputs": [
        {
          "output_type": "execute_result",
          "execution_count": 10,
          "data": {
            "text/plain": [
              "'00000000Taj Mahal is beautiful'"
            ]
          },
          "metadata": {}
        }
      ],
      "execution_count": 10,
      "metadata": {
        "collapsed": false
      }
    },
    {
      "cell_type": "markdown",
      "source": [
        "**expandtabs( )** allows you to change the spacing of the tab character. '\\t' which is by default set to 8 spaces."
      ],
      "metadata": {}
    },
    {
      "cell_type": "code",
      "source": [
        "s = 'h\\te\\tl\\tl\\to'\n",
        "print s\n",
        "print s.expandtabs(1)\n",
        "print s.expandtabs()"
      ],
      "outputs": [
        {
          "output_type": "stream",
          "name": "stdout",
          "text": [
            "h\te\tl\tl\to\n",
            "h e l l o\n",
            "h       e       l       l       o\n"
          ]
        }
      ],
      "execution_count": 11,
      "metadata": {
        "collapsed": false
      }
    },
    {
      "cell_type": "markdown",
      "source": [
        "**index( )** works the same way as **find( )** function the only difference is find returns '-1' when the input element is not found in the string but **index( )** function throws a ValueError"
      ],
      "metadata": {
        "collapsed": true
      }
    },
    {
      "cell_type": "code",
      "source": [
        "print String0.index('Taj')\n",
        "print String0.index('Mahal',0)\n",
        "print String0.index('Mahal',10,20)"
      ],
      "outputs": [
        {
          "output_type": "stream",
          "name": "stdout",
          "text": [
            "0\n",
            "4\n"
          ]
        },
        {
          "output_type": "error",
          "ename": "ValueError",
          "evalue": "substring not found",
          "traceback": [
            "\u001b[0;31m---------------------------------------------------------------------------\u001b[0m",
            "\u001b[0;31mValueError\u001b[0m                                Traceback (most recent call last)",
            "\u001b[0;32m<ipython-input-12-6062e7a32deb>\u001b[0m in \u001b[0;36m<module>\u001b[0;34m()\u001b[0m\n\u001b[1;32m      1\u001b[0m \u001b[0;32mprint\u001b[0m \u001b[0mString0\u001b[0m\u001b[0;34m.\u001b[0m\u001b[0mindex\u001b[0m\u001b[0;34m(\u001b[0m\u001b[0;34m'Taj'\u001b[0m\u001b[0;34m)\u001b[0m\u001b[0;34m\u001b[0m\u001b[0m\n\u001b[1;32m      2\u001b[0m \u001b[0;32mprint\u001b[0m \u001b[0mString0\u001b[0m\u001b[0;34m.\u001b[0m\u001b[0mindex\u001b[0m\u001b[0;34m(\u001b[0m\u001b[0;34m'Mahal'\u001b[0m\u001b[0;34m,\u001b[0m\u001b[0;36m0\u001b[0m\u001b[0;34m)\u001b[0m\u001b[0;34m\u001b[0m\u001b[0m\n\u001b[0;32m----> 3\u001b[0;31m \u001b[0;32mprint\u001b[0m \u001b[0mString0\u001b[0m\u001b[0;34m.\u001b[0m\u001b[0mindex\u001b[0m\u001b[0;34m(\u001b[0m\u001b[0;34m'Mahal'\u001b[0m\u001b[0;34m,\u001b[0m\u001b[0;36m10\u001b[0m\u001b[0;34m,\u001b[0m\u001b[0;36m20\u001b[0m\u001b[0;34m)\u001b[0m\u001b[0;34m\u001b[0m\u001b[0m\n\u001b[0m",
            "\u001b[0;31mValueError\u001b[0m: substring not found"
          ]
        }
      ],
      "execution_count": 12,
      "metadata": {
        "collapsed": false
      }
    },
    {
      "cell_type": "markdown",
      "source": [
        "**endswith( )** function is used to check if the given string ends with the particular char which is given as input."
      ],
      "metadata": {
        "collapsed": false
      }
    },
    {
      "cell_type": "code",
      "source": [
        "print String0.endswith('y')"
      ],
      "outputs": [
        {
          "output_type": "stream",
          "name": "stdout",
          "text": [
            "False\n"
          ]
        }
      ],
      "execution_count": 13,
      "metadata": {
        "collapsed": false
      }
    },
    {
      "cell_type": "markdown",
      "source": [
        "The start and stop index values can also be specified."
      ],
      "metadata": {}
    },
    {
      "cell_type": "code",
      "source": [
        "print String0.endswith('l',0)\n",
        "print String0.endswith('M',0,5)"
      ],
      "outputs": [
        {
          "output_type": "stream",
          "name": "stdout",
          "text": [
            "True\n",
            "True\n"
          ]
        }
      ],
      "execution_count": 14,
      "metadata": {
        "collapsed": false
      }
    },
    {
      "cell_type": "markdown",
      "source": [
        "**count( )** function counts the number of char in the given string. The start and the stop index can also be specified or left blank. (These are Implicit arguments which will be dealt in functions)"
      ],
      "metadata": {}
    },
    {
      "cell_type": "code",
      "source": [
        "print String0.count('a',0)\n",
        "print String0.count('a',5,10)"
      ],
      "outputs": [
        {
          "output_type": "stream",
          "name": "stdout",
          "text": [
            "4\n",
            "2\n"
          ]
        }
      ],
      "execution_count": 15,
      "metadata": {
        "collapsed": false
      }
    },
    {
      "cell_type": "markdown",
      "source": [
        "**join( )** function is used add a char in between the elements of the input string."
      ],
      "metadata": {
        "collapsed": false
      }
    },
    {
      "cell_type": "code",
      "source": [
        "'a'.join('*_-')"
      ],
      "outputs": [
        {
          "output_type": "execute_result",
          "execution_count": 16,
          "data": {
            "text/plain": [
              "'*a_a-'"
            ]
          },
          "metadata": {}
        }
      ],
      "execution_count": 16,
      "metadata": {
        "collapsed": false
      }
    },
    {
      "cell_type": "markdown",
      "source": [
        "'*_-' is the input string and char 'a' is added in between each element"
      ],
      "metadata": {}
    },
    {
      "cell_type": "markdown",
      "source": [
        "**join( )** function can also be used to convert a list into a string."
      ],
      "metadata": {}
    },
    {
      "cell_type": "code",
      "source": [
        "a = list(String0)\n",
        "print a\n",
        "b = ''.join(a)\n",
        "print b"
      ],
      "outputs": [
        {
          "output_type": "stream",
          "name": "stdout",
          "text": [
            "['T', 'a', 'j', ' ', 'M', 'a', 'h', 'a', 'l', ' ', 'i', 's', ' ', 'b', 'e', 'a', 'u', 't', 'i', 'f', 'u', 'l']\n",
            "Taj Mahal is beautiful\n"
          ]
        }
      ],
      "execution_count": 17,
      "metadata": {
        "collapsed": false
      }
    },
    {
      "cell_type": "markdown",
      "source": [
        "Before converting it into a string **join( )** function can be used to insert any char in between the list elements."
      ],
      "metadata": {}
    },
    {
      "cell_type": "code",
      "source": [
        "c = '/'.join(a)[18:]\n",
        "print c"
      ],
      "outputs": [
        {
          "output_type": "stream",
          "name": "stdout",
          "text": [
            " /i/s/ /b/e/a/u/t/i/f/u/l\n"
          ]
        }
      ],
      "execution_count": 18,
      "metadata": {
        "collapsed": false
      }
    },
    {
      "cell_type": "markdown",
      "source": [
        "**split( )** function is used to convert a string back to a list. Think of it as the opposite of the **join()** function."
      ],
      "metadata": {
        "collapsed": false
      }
    },
    {
      "cell_type": "code",
      "source": [
        "d = c.split('/')\n",
        "print d"
      ],
      "outputs": [
        {
          "output_type": "stream",
          "name": "stdout",
          "text": [
            "[' ', 'i', 's', ' ', 'b', 'e', 'a', 'u', 't', 'i', 'f', 'u', 'l']\n"
          ]
        }
      ],
      "execution_count": 19,
      "metadata": {
        "collapsed": false
      }
    },
    {
      "cell_type": "markdown",
      "source": [
        "In **split( )** function one can also specify the number of times you want to split the string or the number of elements the new returned list should conatin. The number of elements is always one more than the specified number this is because it is split the number of times specified."
      ],
      "metadata": {}
    },
    {
      "cell_type": "code",
      "source": [
        "e = c.split('/',3)\n",
        "print e\n",
        "print len(e)"
      ],
      "outputs": [
        {
          "output_type": "stream",
          "name": "stdout",
          "text": [
            "[' ', 'i', 's', ' /b/e/a/u/t/i/f/u/l']\n",
            "4\n"
          ]
        }
      ],
      "execution_count": 20,
      "metadata": {
        "collapsed": false
      }
    },
    {
      "cell_type": "markdown",
      "source": [
        "**lower( )** converts any capital letter to small letter."
      ],
      "metadata": {}
    },
    {
      "cell_type": "code",
      "source": [
        "print String0\n",
        "print String0.lower()"
      ],
      "outputs": [
        {
          "output_type": "stream",
          "name": "stdout",
          "text": [
            "Taj Mahal is beautiful\n",
            "taj mahal is beautiful\n"
          ]
        }
      ],
      "execution_count": 21,
      "metadata": {
        "collapsed": false
      }
    },
    {
      "cell_type": "markdown",
      "source": [
        "**upper( )** converts any small letter to capital letter."
      ],
      "metadata": {}
    },
    {
      "cell_type": "code",
      "source": [
        "String0.upper()"
      ],
      "outputs": [
        {
          "output_type": "execute_result",
          "execution_count": 22,
          "data": {
            "text/plain": [
              "'TAJ MAHAL IS BEAUTIFUL'"
            ]
          },
          "metadata": {}
        }
      ],
      "execution_count": 22,
      "metadata": {
        "collapsed": false
      }
    },
    {
      "cell_type": "markdown",
      "source": [
        "**replace( )** function replaces the element with another element."
      ],
      "metadata": {}
    },
    {
      "cell_type": "code",
      "source": [
        "String0.replace('Taj Mahal','Bengaluru')"
      ],
      "outputs": [
        {
          "output_type": "execute_result",
          "execution_count": 23,
          "data": {
            "text/plain": [
              "'Bengaluru is beautiful'"
            ]
          },
          "metadata": {}
        }
      ],
      "execution_count": 23,
      "metadata": {
        "collapsed": false
      }
    },
    {
      "cell_type": "markdown",
      "source": [
        "**strip( )** function is used to delete elements from the right end and the left end which is not required."
      ],
      "metadata": {}
    },
    {
      "cell_type": "code",
      "source": [
        "f = '    hello      '"
      ],
      "outputs": [],
      "execution_count": 24,
      "metadata": {
        "collapsed": true
      }
    },
    {
      "cell_type": "markdown",
      "source": [
        "If no char is specified then it will delete all the spaces that is present in the right and left hand side of the data."
      ],
      "metadata": {}
    },
    {
      "cell_type": "code",
      "source": [
        "f.strip()"
      ],
      "outputs": [
        {
          "output_type": "execute_result",
          "execution_count": 25,
          "data": {
            "text/plain": [
              "'hello'"
            ]
          },
          "metadata": {}
        }
      ],
      "execution_count": 25,
      "metadata": {
        "collapsed": false
      }
    },
    {
      "cell_type": "markdown",
      "source": [
        "**strip( )** function, when a char is specified then it deletes that char if it is present in the two ends of the specified string."
      ],
      "metadata": {}
    },
    {
      "cell_type": "code",
      "source": [
        "f = '   ***----hello---*******     '"
      ],
      "outputs": [],
      "execution_count": 26,
      "metadata": {
        "collapsed": true
      }
    },
    {
      "cell_type": "code",
      "source": [
        "f.strip('*')"
      ],
      "outputs": [
        {
          "output_type": "execute_result",
          "execution_count": 27,
          "data": {
            "text/plain": [
              "'   ***----hello---*******     '"
            ]
          },
          "metadata": {}
        }
      ],
      "execution_count": 27,
      "metadata": {
        "collapsed": false
      }
    },
    {
      "cell_type": "markdown",
      "source": [
        "The asterisk had to be deleted but is not. This is because there is a space in both the right and left hand side. So in strip function. The characters need to be inputted in the specific order in which they are present."
      ],
      "metadata": {}
    },
    {
      "cell_type": "code",
      "source": [
        "print f.strip(' *')\n",
        "print f.strip(' *-')"
      ],
      "outputs": [
        {
          "output_type": "stream",
          "name": "stdout",
          "text": [
            "----hello---\n",
            "hello\n"
          ]
        }
      ],
      "execution_count": 28,
      "metadata": {
        "collapsed": false
      }
    },
    {
      "cell_type": "markdown",
      "source": [
        "**lstrip( )** and **rstrip( )** function have the same functionality as strip function but the only difference is **lstrip( )** deletes only towards the left side and **rstrip( )** towards the right."
      ],
      "metadata": {
        "collapsed": false
      }
    },
    {
      "cell_type": "code",
      "source": [
        "print f.lstrip(' *')\n",
        "print f.rstrip(' *')"
      ],
      "outputs": [
        {
          "output_type": "stream",
          "name": "stdout",
          "text": [
            "----hello---*******     \n",
            "   ***----hello---\n"
          ]
        }
      ],
      "execution_count": 29,
      "metadata": {
        "collapsed": false
      }
    },
    {
      "cell_type": "markdown",
      "source": [
        "##Dictionaries"
      ],
      "metadata": {}
    },
    {
      "cell_type": "markdown",
      "source": [
        "Dictionaries are more used like a database because here you can index a particular sequence with your user defined string."
      ],
      "metadata": {}
    },
    {
      "cell_type": "markdown",
      "source": [
        "To define a dictionary, equate a variable to { } or dict()"
      ],
      "metadata": {}
    },
    {
      "cell_type": "code",
      "source": [
        "d0 = {}\n",
        "d1 = dict()\n",
        "print type(d0), type(d1)"
      ],
      "outputs": [
        {
          "output_type": "stream",
          "name": "stdout",
          "text": [
            "<type 'dict'> <type 'dict'>\n"
          ]
        }
      ],
      "execution_count": 30,
      "metadata": {
        "collapsed": false
      }
    },
    {
      "cell_type": "markdown",
      "source": [
        "Dictionary works somewhat like a list but with an added capability of assigning it's own index style."
      ],
      "metadata": {}
    },
    {
      "cell_type": "code",
      "source": [
        "d0['One'] = 1\n",
        "d0['OneTwo'] = 12 \n",
        "print d0"
      ],
      "outputs": [
        {
          "output_type": "stream",
          "name": "stdout",
          "text": [
            "{'OneTwo': 12, 'One': 1}\n"
          ]
        }
      ],
      "execution_count": 31,
      "metadata": {
        "collapsed": false
      }
    },
    {
      "cell_type": "markdown",
      "source": [
        "That is how a dictionary looks like. Now you are able to access '1' by the index value set at 'One'"
      ],
      "metadata": {}
    },
    {
      "cell_type": "code",
      "source": [
        "print d0['One']"
      ],
      "outputs": [
        {
          "output_type": "stream",
          "name": "stdout",
          "text": [
            "1\n"
          ]
        }
      ],
      "execution_count": 32,
      "metadata": {
        "collapsed": false
      }
    },
    {
      "cell_type": "markdown",
      "source": [
        "Two lists which are related can be merged to form a dictionary."
      ],
      "metadata": {}
    },
    {
      "cell_type": "code",
      "source": [
        "names = ['One', 'Two', 'Three', 'Four', 'Five']\n",
        "numbers = [1, 2, 3, 4, 5]"
      ],
      "outputs": [],
      "execution_count": 33,
      "metadata": {
        "collapsed": false
      }
    },
    {
      "cell_type": "markdown",
      "source": [
        "**zip( )** function is used to combine two lists"
      ],
      "metadata": {}
    },
    {
      "cell_type": "code",
      "source": [
        "d2 = zip(names,numbers)\n",
        "print d2"
      ],
      "outputs": [
        {
          "output_type": "stream",
          "name": "stdout",
          "text": [
            "[('One', 1), ('Two', 2), ('Three', 3), ('Four', 4), ('Five', 5)]\n"
          ]
        }
      ],
      "execution_count": 34,
      "metadata": {
        "collapsed": false
      }
    },
    {
      "cell_type": "markdown",
      "source": [
        "The two lists are combined to form a single list and each elements are clubbed with their respective elements from the other list inside a tuple. Tuples because that is what is assigned and the value should not change.\n",
        "\nFurther, To convert the above into a dictionary. **dict( )** function is used."
      ],
      "metadata": {
        "collapsed": false
      }
    },
    {
      "cell_type": "code",
      "source": [
        "a1 = dict(d2)\n",
        "print a1"
      ],
      "outputs": [
        {
          "output_type": "stream",
          "name": "stdout",
          "text": [
            "{'Four': 4, 'Five': 5, 'Three': 3, 'Two': 2, 'One': 1}\n"
          ]
        }
      ],
      "execution_count": 35,
      "metadata": {
        "collapsed": false
      }
    },
    {
      "cell_type": "markdown",
      "source": [
        "###Built-in Functions"
      ],
      "metadata": {}
    },
    {
      "cell_type": "markdown",
      "source": [
        "**clear( )** function is used to erase the entire database that was created."
      ],
      "metadata": {}
    },
    {
      "cell_type": "code",
      "source": [
        "a1.clear()\n",
        "print a1"
      ],
      "outputs": [
        {
          "output_type": "stream",
          "name": "stdout",
          "text": [
            "{}\n"
          ]
        }
      ],
      "execution_count": 36,
      "metadata": {
        "collapsed": false
      }
    },
    {
      "cell_type": "markdown",
      "source": [
        "Dictionary can also be built using loops."
      ],
      "metadata": {}
    },
    {
      "cell_type": "code",
      "source": [
        "for i in range(len(names)):\n",
        "    a1[names[i]] = numbers[i]\n",
        "print a1"
      ],
      "outputs": [
        {
          "output_type": "stream",
          "name": "stdout",
          "text": [
            "{'Four': 4, 'Five': 5, 'Three': 3, 'Two': 2, 'One': 1}\n"
          ]
        }
      ],
      "execution_count": 37,
      "metadata": {
        "collapsed": false
      }
    },
    {
      "cell_type": "markdown",
      "source": [
        "**values( )** function returns a list with all the assigned values in the dictionary."
      ],
      "metadata": {}
    },
    {
      "cell_type": "code",
      "source": [
        "a1.values()"
      ],
      "outputs": [
        {
          "output_type": "execute_result",
          "execution_count": 38,
          "data": {
            "text/plain": [
              "[4, 5, 3, 2, 1]"
            ]
          },
          "metadata": {}
        }
      ],
      "execution_count": 38,
      "metadata": {
        "collapsed": false
      }
    },
    {
      "cell_type": "markdown",
      "source": [
        "**keys( )** function returns all the index or the keys to which contains the values that it was assigned to."
      ],
      "metadata": {}
    },
    {
      "cell_type": "code",
      "source": [
        "a1.keys()"
      ],
      "outputs": [
        {
          "output_type": "execute_result",
          "execution_count": 39,
          "data": {
            "text/plain": [
              "['Four', 'Five', 'Three', 'Two', 'One']"
            ]
          },
          "metadata": {}
        }
      ],
      "execution_count": 39,
      "metadata": {
        "collapsed": false
      }
    },
    {
      "cell_type": "markdown",
      "source": [
        "**items( )** is returns a list containing both the list but each element in the dictionary is inside a tuple. This is same as the result that was obtained when zip function was used."
      ],
      "metadata": {}
    },
    {
      "cell_type": "code",
      "source": [
        "a1.items()"
      ],
      "outputs": [
        {
          "output_type": "execute_result",
          "execution_count": 40,
          "data": {
            "text/plain": [
              "[('Four', 4), ('Five', 5), ('Three', 3), ('Two', 2), ('One', 1)]"
            ]
          },
          "metadata": {}
        }
      ],
      "execution_count": 40,
      "metadata": {
        "collapsed": false
      }
    },
    {
      "cell_type": "markdown",
      "source": [
        "**pop( )** function is used to get the remove that particular element and this removed element can be assigned to a new variable. But remember only the value is stored and not the key. Because the is just a index value."
      ],
      "metadata": {}
    },
    {
      "cell_type": "code",
      "source": [
        "a2 = a1.pop('Four')\n",
        "print a1\n",
        "print a2"
      ],
      "outputs": [
        {
          "output_type": "stream",
          "name": "stdout",
          "text": [
            "{'Five': 5, 'Three': 3, 'Two': 2, 'One': 1}\n",
            "4\n"
          ]
        }
      ],
      "execution_count": 41,
      "metadata": {
        "collapsed": false
      }
    }
  ],
  "metadata": {
    "kernelspec": {
      "display_name": "Python 2",
      "language": "python",
      "name": "python2"
    },
    "language_info": {
      "codemirror_mode": {
        "name": "ipython",
        "version": 2
      },
      "file_extension": ".py",
      "mimetype": "text/x-python",
      "name": "python",
      "nbconvert_exporter": "python",
      "pygments_lexer": "ipython2",
      "version": "2.7.10"
    },
    "nteract": {
      "version": "0.2.0"
    }
  },
  "nbformat": 4,
  "nbformat_minor": 0
}