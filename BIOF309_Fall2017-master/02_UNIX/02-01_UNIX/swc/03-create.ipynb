{
 "cells": [
  {
   "cell_type": "markdown",
   "metadata": {
    "deletable": true,
    "editable": true
   },
   "source": [
    "# Working With Files and Directories\n",
    "\n",
    "Questions:\n",
    "- \"How can I create, copy, and delete files and directories?\"\n",
    "- \"How can I edit files?\"\n",
    "Objectives:\n",
    "- \"Create a directory hierarchy that matches a given diagram.\"\n",
    "- \"Create files in that hierarchy using an editor or by copying and renaming existing files.\"\n",
    "- \"Display the contents of a directory using the command line.\"\n",
    "- \"Delete specified files and/or directories.\"\n",
    "Keypoints:\n",
    "- \"`cp old new` copies a file.\"\n",
    "- \"`mkdir path` creates a new directory.\"\n",
    "- \"`mv old new` moves (renames) a file or directory.\"\n",
    "- \"`rm path` removes (deletes) a file.\"\n",
    "- \"Use of the Control key may be described in many ways, including `Ctrl-X`, `Control-X`, and `^X`.\"\n",
    "- \"The shell does not have a trash bin: once something is deleted, it's really gone.\"\n",
    "- \"Nano is a very simple text editor: please use something else for real work.\"\n",
    "---\n",
    "\n",
    "We now know how to explore files and directories,\n",
    "but how do we create them in the first place?\n",
    "Let's go back to our `data-shell` directory on the Desktop\n",
    "and use `ls` to see what it contains:"
   ]
  },
  {
   "cell_type": "code",
   "execution_count": 1,
   "metadata": {
    "collapsed": false,
    "deletable": true,
    "editable": true
   },
   "outputs": [
    {
     "name": "stdout",
     "output_type": "stream",
     "text": [
      "C:\\Users\\skarzynskimw\n"
     ]
    }
   ],
   "source": [
    "cd"
   ]
  },
  {
   "cell_type": "code",
   "execution_count": 2,
   "metadata": {
    "collapsed": false,
    "deletable": true,
    "editable": true,
    "scrolled": true
   },
   "outputs": [
    {
     "name": "stdout",
     "output_type": "stream",
     "text": [
      "C:\\Users\\skarzynskimw\\Desktop\\data-shell\n"
     ]
    }
   ],
   "source": [
    "cd Desktop/data-shell/"
   ]
  },
  {
   "cell_type": "code",
   "execution_count": 3,
   "metadata": {
    "collapsed": false,
    "deletable": true,
    "editable": true
   },
   "outputs": [
    {
     "name": "stdout",
     "output_type": "stream",
     "text": [
      " Volume in drive C is OSDisk\n",
      " Volume Serial Number is B4A0-C61A\n",
      "\n",
      " Directory of C:\\Users\\skarzynskimw\\Desktop\\data-shell\n",
      "\n",
      "03/17/2017  10:56 AM    <DIR>          .\n",
      "03/17/2017  10:56 AM    <DIR>          ..\n",
      "11/22/2015  08:39 PM               199 .bash_profile\n",
      "11/17/2015  11:02 AM    <DIR>          creatures\n",
      "11/17/2015  11:02 AM    <DIR>          data\n",
      "11/17/2015  11:02 AM    <DIR>          Desktop\n",
      "11/17/2015  11:02 AM    <DIR>          molecules\n",
      "11/17/2015  11:02 AM    <DIR>          north-pacific-gyre\n",
      "11/17/2015  11:02 AM                86 notes.txt\n",
      "11/17/2015  11:02 AM                32 pizza.cfg\n",
      "11/17/2015  11:02 AM            21,583 solar.pdf\n",
      "03/17/2017  11:14 AM    <DIR>          thesis\n",
      "11/17/2015  11:02 AM    <DIR>          writing\n",
      "               4 File(s)         21,900 bytes\n",
      "               9 Dir(s)  196,699,070,464 bytes free\n"
     ]
    }
   ],
   "source": [
    "ls"
   ]
  },
  {
   "cell_type": "markdown",
   "metadata": {
    "deletable": true,
    "editable": true
   },
   "source": [
    "Let's create a new directory called `thesis` using the command `mkdir thesis`\n",
    "(which has no output):"
   ]
  },
  {
   "cell_type": "code",
   "execution_count": 9,
   "metadata": {
    "collapsed": false,
    "deletable": true,
    "editable": true,
    "scrolled": true
   },
   "outputs": [],
   "source": [
    "mkdir thesis"
   ]
  },
  {
   "cell_type": "markdown",
   "metadata": {
    "deletable": true,
    "editable": true
   },
   "source": [
    "As you might guess from its name,\n",
    "`mkdir` means \"make directory\".\n",
    "Since `thesis` is a relative path\n",
    "(i.e., doesn't have a leading slash),\n",
    "the new directory is created in the current working directory:"
   ]
  },
  {
   "cell_type": "code",
   "execution_count": null,
   "metadata": {
    "collapsed": false,
    "deletable": true,
    "editable": true
   },
   "outputs": [],
   "source": [
    "ls"
   ]
  },
  {
   "cell_type": "markdown",
   "metadata": {
    "deletable": true,
    "editable": true
   },
   "source": [
    "> ## Two ways of doing the same thing\n",
    "> Using the shell to create a directory is no different than using a file explorer.\n",
    "> If you open the current directory using your operating system's graphical file explorer,\n",
    "> the `thesis` directory will appear there too.\n",
    "> While they are two different ways of interacting with the files,\n",
    "> the files and directories themselves are the same.\n",
    "\n",
    "> ## Good names for files and directories\n",
    ">\n",
    "> Complicated names of files and directories can make your life painful\n",
    "> when working on the command line. Here we provide a few useful\n",
    "> tips for the names of your files.\n",
    ">\n",
    "> 1. Don't use whitespaces.\n",
    ">\n",
    ">    Whitespaces can make a name more meaningful\n",
    ">    but since whitespace is used to break arguments on the command line\n",
    ">    is better to avoid them on name of files and directories.\n",
    ">    You can use `-` or `_` instead of whitespace.\n",
    ">\n",
    "> 2. Don't begin the name with `-` (dash).\n",
    ">\n",
    ">    Commands treat names starting with `-` as options.\n",
    ">\n",
    "> 3. Stick with letters, numbers, `.` (period), `-` (dash) and `_` (underscore).\n",
    ">\n",
    ">    Many other characters have special meanings on the command line.\n",
    ">    We will learn about some of these during this lesson.\n",
    ">    There are special characters that can cause your command to not work as\n",
    ">    expected and can even result in data loss.\n",
    ">\n",
    "> If you need to refer to names of files or directories that have whitespace\n",
    "> or another non-alphanumeric character, you should surround the name in quotes (`\"\"`).\n",
    "\n",
    "Since we've just created the `thesis` directory, there's nothing in it yet:"
   ]
  },
  {
   "cell_type": "code",
   "execution_count": 12,
   "metadata": {
    "collapsed": false,
    "deletable": true,
    "editable": true
   },
   "outputs": [
    {
     "name": "stdout",
     "output_type": "stream",
     "text": [
      " Volume in drive C is OSDisk\n",
      " Volume Serial Number is B4A0-C61A\n",
      "\n",
      " Directory of C:\\Users\\skarzynskimw\\Desktop\\data-shell\\thesis\n",
      "\n",
      "04/12/2017  05:34 PM    <DIR>          .\n",
      "04/12/2017  05:34 PM    <DIR>          ..\n",
      "               0 File(s)              0 bytes\n",
      "               2 Dir(s)  196,698,312,704 bytes free\n"
     ]
    }
   ],
   "source": [
    "ls thesis"
   ]
  },
  {
   "cell_type": "markdown",
   "metadata": {
    "deletable": true,
    "editable": true
   },
   "source": [
    "Let's change our working directory to `thesis` using `cd`,\n",
    "then use the echo command to create a file called `myname.txt`:"
   ]
  },
  {
   "cell_type": "code",
   "execution_count": 13,
   "metadata": {
    "collapsed": false,
    "deletable": true,
    "editable": true
   },
   "outputs": [
    {
     "name": "stdout",
     "output_type": "stream",
     "text": [
      "C:\\Users\\skarzynskimw\\Desktop\\data-shell\\thesis\n"
     ]
    }
   ],
   "source": [
    "cd thesis"
   ]
  },
  {
   "cell_type": "code",
   "execution_count": 14,
   "metadata": {
    "collapsed": false,
    "deletable": true,
    "editable": true
   },
   "outputs": [],
   "source": [
    "echo Nelle > myname.txt"
   ]
  },
  {
   "cell_type": "code",
   "execution_count": 15,
   "metadata": {
    "collapsed": false
   },
   "outputs": [
    {
     "name": "stdout",
     "output_type": "stream",
     "text": [
      " Volume in drive C is OSDisk\n",
      " Volume Serial Number is B4A0-C61A\n",
      "\n",
      " Directory of C:\\Users\\skarzynskimw\\Desktop\\data-shell\\thesis\n",
      "\n",
      "04/12/2017  05:36 PM    <DIR>          .\n",
      "04/12/2017  05:36 PM    <DIR>          ..\n",
      "04/12/2017  05:36 PM                 8 myname.txt\n",
      "               1 File(s)              8 bytes\n",
      "               2 Dir(s)  196,698,353,664 bytes free\n"
     ]
    }
   ],
   "source": [
    "ls"
   ]
  },
  {
   "cell_type": "markdown",
   "metadata": {},
   "source": [
    "The > symbol takes the output from the left side and enters it as input on the right side. In this case the output of echo Nelle should be Nelle. This output should be entered into a text file named myname.txt. First, let's confirm that we made this text file by running the ls command."
   ]
  },
  {
   "cell_type": "markdown",
   "metadata": {},
   "source": [
    "Now let's take a look at the contents of myname.txt using the more command"
   ]
  },
  {
   "cell_type": "code",
   "execution_count": 16,
   "metadata": {
    "collapsed": false,
    "deletable": true,
    "editable": true
   },
   "outputs": [],
   "source": [
    "more myname.txt"
   ]
  },
  {
   "cell_type": "markdown",
   "metadata": {},
   "source": [
    "We can create the a text file called using the echo command as below:"
   ]
  },
  {
   "cell_type": "code",
   "execution_count": 25,
   "metadata": {
    "collapsed": true,
    "deletable": true,
    "editable": true
   },
   "outputs": [],
   "source": [
    "echo \"UNIX is easy!\" > draft.txt"
   ]
  },
  {
   "cell_type": "markdown",
   "metadata": {},
   "source": [
    "Now check that the draft.txt file is actually there."
   ]
  },
  {
   "cell_type": "code",
   "execution_count": 26,
   "metadata": {
    "collapsed": false
   },
   "outputs": [
    {
     "name": "stdout",
     "output_type": "stream",
     "text": [
      " Volume in drive C is OSDisk\n",
      " Volume Serial Number is B4A0-C61A\n",
      "\n",
      " Directory of C:\\Users\\skarzynskimw\\Desktop\\data-shell\\thesis\n",
      "\n",
      "04/12/2017  05:45 PM    <DIR>          .\n",
      "04/12/2017  05:45 PM    <DIR>          ..\n",
      "04/12/2017  05:45 PM                18 draft.txt\n",
      "04/12/2017  05:36 PM                 8 myname.txt\n",
      "04/12/2017  05:37 PM                18 text.txt\n",
      "               3 File(s)             44 bytes\n",
      "               2 Dir(s)  196,810,006,528 bytes free\n"
     ]
    }
   ],
   "source": [
    "ls"
   ]
  },
  {
   "cell_type": "markdown",
   "metadata": {},
   "source": [
    "Now let's at the contents of draft.txt"
   ]
  },
  {
   "cell_type": "code",
   "execution_count": 27,
   "metadata": {
    "collapsed": true
   },
   "outputs": [],
   "source": [
    "more draft.txt"
   ]
  },
  {
   "cell_type": "markdown",
   "metadata": {
    "deletable": true,
    "editable": true
   },
   "source": [
    "Let's tidy up by running `rm draft.txt`:"
   ]
  },
  {
   "cell_type": "code",
   "execution_count": 23,
   "metadata": {
    "collapsed": false,
    "deletable": true,
    "editable": true
   },
   "outputs": [],
   "source": [
    "rm draft.txt"
   ]
  },
  {
   "cell_type": "markdown",
   "metadata": {
    "deletable": true,
    "editable": true
   },
   "source": [
    "This command removes files (`rm` is short for \"remove\").\n",
    "If we run `ls` again,\n",
    "its output is empty once more,\n",
    "which tells us that our file is gone:"
   ]
  },
  {
   "cell_type": "code",
   "execution_count": 24,
   "metadata": {
    "collapsed": false,
    "deletable": true,
    "editable": true
   },
   "outputs": [
    {
     "name": "stdout",
     "output_type": "stream",
     "text": [
      " Volume in drive C is OSDisk\n",
      " Volume Serial Number is B4A0-C61A\n",
      "\n",
      " Directory of C:\\Users\\skarzynskimw\\Desktop\\data-shell\\thesis\n",
      "\n",
      "04/12/2017  05:37 PM    <DIR>          .\n",
      "04/12/2017  05:37 PM    <DIR>          ..\n",
      "04/12/2017  05:36 PM                 8 myname.txt\n",
      "04/12/2017  05:37 PM                18 text.txt\n",
      "               2 File(s)             26 bytes\n",
      "               2 Dir(s)  196,698,308,608 bytes free\n"
     ]
    }
   ],
   "source": [
    "ls"
   ]
  },
  {
   "cell_type": "markdown",
   "metadata": {
    "deletable": true,
    "editable": true
   },
   "source": [
    "> ## Deleting Is Forever\n",
    ">\n",
    "> The Unix shell doesn't have a trash bin that we can recover deleted\n",
    "> files from (though most graphical interfaces to Unix do).  Instead,\n",
    "> when we delete files, they are unhooked from the file system so that\n",
    "> their storage space on disk can be recycled. Tools for finding and\n",
    "> recovering deleted files do exist, but there's no guarantee they'll\n",
    "> work in any particular situation, since the computer may recycle the\n",
    "> file's disk space right away.\n",
    "\n",
    "Let's re-create that file\n",
    "and then move up one directory to `/Users/nelle/Desktop/data-shell` using `cd ..`:"
   ]
  },
  {
   "cell_type": "code",
   "execution_count": null,
   "metadata": {
    "collapsed": true,
    "deletable": true,
    "editable": true
   },
   "outputs": [],
   "source": [
    "pwd"
   ]
  },
  {
   "cell_type": "code",
   "execution_count": null,
   "metadata": {
    "collapsed": true,
    "deletable": true,
    "editable": true
   },
   "outputs": [],
   "source": [
    "cd .."
   ]
  },
  {
   "cell_type": "markdown",
   "metadata": {
    "deletable": true,
    "editable": true
   },
   "source": [
    "If we try to remove the entire `thesis` directory using `rm thesis`,\n",
    "we get an error message:"
   ]
  },
  {
   "cell_type": "code",
   "execution_count": null,
   "metadata": {
    "collapsed": true,
    "deletable": true,
    "editable": true
   },
   "outputs": [],
   "source": [
    "rm thesis"
   ]
  },
  {
   "cell_type": "code",
   "execution_count": null,
   "metadata": {
    "collapsed": true,
    "deletable": true,
    "editable": true
   },
   "outputs": [],
   "source": [
    "rm: cannot remove `thesis': Is a directory"
   ]
  },
  {
   "cell_type": "markdown",
   "metadata": {
    "deletable": true,
    "editable": true
   },
   "source": [
    "This happens because `rm` by default only works on files, not directories.\n",
    "\n",
    "To really get rid of `thesis` we must also delete the file `draft.txt`.\n",
    "We can do this with the [recursive](https://en.wikipedia.org/wiki/Recursion) option for `rm`:"
   ]
  },
  {
   "cell_type": "code",
   "execution_count": null,
   "metadata": {
    "collapsed": true,
    "deletable": true,
    "editable": true
   },
   "outputs": [],
   "source": [
    "rm -r thesis"
   ]
  },
  {
   "cell_type": "markdown",
   "metadata": {
    "deletable": true,
    "editable": true
   },
   "source": [
    "> ## With Great Power Comes Great Responsibility\n",
    ">\n",
    "> Removing the files in a directory recursively can be very dangerous\n",
    "> operation. If we're concerned about what we might be deleting we can\n",
    "> add the \"interactive\" flag `-i` to `rm` which will ask us for confirmation\n",
    "> before each step\n",
    ">\n",
    "> ~~~\n",
    "> $ rm -r -i thesis\n",
    "> rm: descend into directory ‘thesis’? y\n",
    "> rm: remove regular file ‘thesis/draft.txt’? y\n",
    "> rm: remove directory ‘thesis’? y\n",
    "> ~~~\n",
    ">\n",
    "> This removes everything in the directory, then the directory itself, asking\n",
    "> at each step for you to confirm the deletion.\n",
    "\n",
    "\n",
    "Let's create that directory and file one more time."
   ]
  },
  {
   "cell_type": "code",
   "execution_count": 46,
   "metadata": {
    "collapsed": false,
    "deletable": true,
    "editable": true
   },
   "outputs": [
    {
     "data": {
      "text/plain": [
       "'C:\\\\Users\\\\skarzynskimw\\\\Desktop\\\\data-shell\\\\thesis'"
      ]
     },
     "execution_count": 46,
     "metadata": {},
     "output_type": "execute_result"
    }
   ],
   "source": [
    "pwd"
   ]
  },
  {
   "cell_type": "code",
   "execution_count": null,
   "metadata": {
    "collapsed": true,
    "deletable": true,
    "editable": true
   },
   "outputs": [],
   "source": [
    "mkdir thesis"
   ]
  },
  {
   "cell_type": "code",
   "execution_count": 28,
   "metadata": {
    "collapsed": true,
    "deletable": true,
    "editable": true
   },
   "outputs": [],
   "source": [
    "echo \"UNIX is easy!\" > draft.txt"
   ]
  },
  {
   "cell_type": "markdown",
   "metadata": {
    "deletable": true,
    "editable": true
   },
   "source": [
    "`draft.txt` isn't a particularly informative name,\n",
    "so let's change the file's name using `mv`,\n",
    "which is short for \"move\":"
   ]
  },
  {
   "cell_type": "code",
   "execution_count": 31,
   "metadata": {
    "collapsed": true
   },
   "outputs": [],
   "source": [
    "alias mv mv"
   ]
  },
  {
   "cell_type": "code",
   "execution_count": 39,
   "metadata": {
    "collapsed": false,
    "deletable": true,
    "editable": true
   },
   "outputs": [
    {
     "name": "stderr",
     "output_type": "stream",
     "text": [
      "mv: cannot stat './thesis/draft.txt': No such file or directory\n"
     ]
    }
   ],
   "source": [
    "mv draft.txt quotes.txt"
   ]
  },
  {
   "cell_type": "markdown",
   "metadata": {
    "deletable": true,
    "editable": true
   },
   "source": [
    "The first parameter tells `mv` what we're \"moving\",\n",
    "while the second is where it's to go.\n",
    "In this case,\n",
    "we're moving `thesis/draft.txt` to `thesis/quotes.txt`,\n",
    "which has the same effect as renaming the file.\n",
    "Sure enough,\n",
    "`ls` shows us that `thesis` now contains one file called `quotes.txt`:"
   ]
  },
  {
   "cell_type": "code",
   "execution_count": 48,
   "metadata": {
    "collapsed": false,
    "deletable": true,
    "editable": true
   },
   "outputs": [
    {
     "name": "stdout",
     "output_type": "stream",
     "text": [
      " Volume in drive C is OSDisk\n",
      " Volume Serial Number is B4A0-C61A\n",
      "\n",
      " Directory of C:\\Users\\skarzynskimw\\Desktop\\data-shell\\thesis\n",
      "\n",
      "04/12/2017  06:03 PM    <DIR>          .\n",
      "04/12/2017  06:03 PM    <DIR>          ..\n",
      "04/12/2017  05:36 PM                 8 myname.txt\n",
      "04/12/2017  05:37 PM                18 text.txt\n",
      "               2 File(s)             26 bytes\n",
      "               2 Dir(s)  196,806,103,040 bytes free\n"
     ]
    }
   ],
   "source": [
    "ls"
   ]
  },
  {
   "cell_type": "code",
   "execution_count": 36,
   "metadata": {
    "collapsed": false,
    "deletable": true,
    "editable": true
   },
   "outputs": [],
   "source": [
    "more quotes.txt"
   ]
  },
  {
   "cell_type": "markdown",
   "metadata": {
    "deletable": true,
    "editable": true
   },
   "source": [
    "One has to be careful when specifying the target file name, since `mv` will\n",
    "silently overwrite any existing file with the same name, which could\n",
    "lead to data loss. An additional flag, `mv -i` (or `mv --interactive`),\n",
    "can be used to make `mv` ask you for confirmation before overwriting.\n",
    "\n",
    "Just for the sake of consistency,\n",
    "`mv` also works on directories --- there is no separate `mvdir` command.\n",
    "\n",
    "Let's move `quotes.txt` into the current working directory.\n",
    "We use `mv` once again,\n",
    "but this time we'll just use the name of a directory as the second parameter\n",
    "to tell `mv` that we want to keep the filename,\n",
    "but put the file somewhere new.\n",
    "(This is why the command is called \"move\".)\n",
    "In this case,\n",
    "the directory name we use is the special directory name `..` that we mentioned earlier."
   ]
  },
  {
   "cell_type": "markdown",
   "metadata": {},
   "source": [
    "Let's use the mv command to send the quotes.txt to the data-shell directory"
   ]
  },
  {
   "cell_type": "code",
   "execution_count": 47,
   "metadata": {
    "collapsed": false,
    "deletable": true,
    "editable": true
   },
   "outputs": [
    {
     "name": "stderr",
     "output_type": "stream",
     "text": [
      "mv: cannot stat 'quotes.txt': No such file or directory\n"
     ]
    }
   ],
   "source": [
    "mv quotes.txt .."
   ]
  },
  {
   "cell_type": "markdown",
   "metadata": {
    "deletable": true,
    "editable": true
   },
   "source": [
    "The effect is to move the file from the directory it was in to the current working directory.\n",
    "`ls` now shows us that `thesis` is empty:"
   ]
  },
  {
   "cell_type": "code",
   "execution_count": null,
   "metadata": {
    "collapsed": true,
    "deletable": true,
    "editable": true
   },
   "outputs": [],
   "source": [
    "ls thesis"
   ]
  },
  {
   "cell_type": "markdown",
   "metadata": {
    "deletable": true,
    "editable": true
   },
   "source": [
    "Further,\n",
    "`ls` with a filename or directory name as a parameter only lists that file or directory.\n",
    "We can use this to see that `quotes.txt` is still in our current directory:"
   ]
  },
  {
   "cell_type": "markdown",
   "metadata": {
    "deletable": true,
    "editable": true
   },
   "source": [
    "The `cp` command works very much like `mv`,\n",
    "except it copies a file instead of moving it.\n",
    "We can check that it did the right thing using `ls`\n",
    "with two paths as parameters --- like most Unix commands,\n",
    "`ls` can be given multiple paths at once:"
   ]
  },
  {
   "cell_type": "code",
   "execution_count": 51,
   "metadata": {
    "collapsed": false
   },
   "outputs": [
    {
     "name": "stdout",
     "output_type": "stream",
     "text": [
      "C:\\Users\\skarzynskimw\\Desktop\\data-shell\n"
     ]
    }
   ],
   "source": [
    "cd .."
   ]
  },
  {
   "cell_type": "code",
   "execution_count": 55,
   "metadata": {
    "collapsed": true
   },
   "outputs": [],
   "source": [
    "alias cp cp"
   ]
  },
  {
   "cell_type": "code",
   "execution_count": 57,
   "metadata": {
    "collapsed": false,
    "deletable": true,
    "editable": true,
    "scrolled": true
   },
   "outputs": [],
   "source": [
    "cp quotes.txt thesis/quotes.txt"
   ]
  },
  {
   "cell_type": "markdown",
   "metadata": {
    "deletable": true,
    "editable": true
   },
   "source": [
    "To prove that we made a copy,\n",
    "let's delete the `quotes.txt` file in the current directory\n",
    "and then run that same `ls` again."
   ]
  },
  {
   "cell_type": "code",
   "execution_count": 58,
   "metadata": {
    "collapsed": true
   },
   "outputs": [],
   "source": [
    "rm quotes.txt"
   ]
  },
  {
   "cell_type": "code",
   "execution_count": 60,
   "metadata": {
    "collapsed": false,
    "deletable": true,
    "editable": true
   },
   "outputs": [
    {
     "name": "stdout",
     "output_type": "stream",
     "text": [
      " Volume in drive C is OSDisk\n",
      " Volume Serial Number is B4A0-C61A\n",
      "\n",
      " Directory of C:\\Users\\skarzynskimw\\Desktop\\data-shell\\thesis\n",
      "\n",
      "04/12/2017  06:10 PM    <DIR>          .\n",
      "04/12/2017  06:10 PM    <DIR>          ..\n",
      "04/12/2017  05:36 PM                 8 myname.txt\n",
      "04/12/2017  06:10 PM                18 quotes.txt\n",
      "04/12/2017  05:37 PM                18 text.txt\n",
      "               3 File(s)             44 bytes\n",
      "               2 Dir(s)  196,806,361,088 bytes free\n"
     ]
    }
   ],
   "source": [
    "ls thesis"
   ]
  },
  {
   "cell_type": "markdown",
   "metadata": {
    "deletable": true,
    "editable": true
   },
   "source": [
    "> ## What's In A Name?\n",
    ">\n",
    "> You may have noticed that all of Nelle's files' names are \"something dot\n",
    "> something\", and in this part of the lesson, we always used the extension\n",
    "> `.txt`.  This is just a convention: we can call a file `mythesis` or\n",
    "> almost anything else we want. However, most people use two-part names\n",
    "> most of the time to help them (and their programs) tell different kinds\n",
    "> of files apart. The second part of such a name is called the\n",
    "> **filename extension**, and indicates\n",
    "> what type of data the file holds: `.txt` signals a plain text file, `.pdf`\n",
    "> indicates a PDF document, `.cfg` is a configuration file full of parameters\n",
    "> for some program or other, `.png` is a PNG image, and so on.\n",
    ">\n",
    "> This is just a convention, albeit an important one. Files contain\n",
    "> bytes: it's up to us and our programs to interpret those bytes\n",
    "> according to the rules for plain text files, PDF documents, configuration\n",
    "> files, images, and so on.\n",
    ">\n",
    "> Naming a PNG image of a whale as `whale.mp3` doesn't somehow\n",
    "> magically turn it into a recording of whalesong, though it *might*\n",
    "> cause the operating system to try to open it with a music player\n",
    "> when someone double-clicks it.\n",
    "\n",
    "\n",
    "> ## Renaming Files\n",
    ">\n",
    "> Suppose that you created a `.txt` file in your current directory to contain a list of the\n",
    "> statistical tests you will need to do to analyze your data, and named it: `statstics.txt`\n",
    ">\n",
    "> After creating and saving this file you realize you misspelled the filename! You want to\n",
    "> correct the mistake, which of the following commands could you use to do so?\n",
    ">\n",
    "> 1. `cp statstics.txt statistics.txt`\n",
    "> 2. `mv statstics.txt statistics.txt`\n",
    "> 3. `mv statstics.txt .`\n",
    "> 4. `cp statstics.txt .`\n",
    ">\n",
    "> > ## Solution\n",
    "> > 1. No.  While this would create a file with the correct name, the incorrectly named file still exists in the directory\n",
    "> > and would need to be deleted.\n",
    "> > 2. Yes, this would work to rename the file.\n",
    "> > 3. No, the period(.) indicates where to move the file, but does not provide a new file name; identical file names\n",
    "> > cannot be created.\n",
    "> > 4. No, the period(.) indicates where to copy the file, but does not provide a new file name; identical file names\n",
    "> > cannot be created.\n",
    "\n",
    "\n",
    "> ## Moving and Copying\n",
    ">\n",
    "> What is the output of the closing `ls` command in the sequence shown below?\n",
    ">\n",
    "> ~~~\n",
    "> $ pwd\n",
    "> ~~~\n",
    "> \n",
    "> ~~~\n",
    "> /Users/jamie/data\n",
    "> ~~~\n",
    "> \n",
    "> ~~~\n",
    "> $ ls\n",
    "> ~~~\n",
    "> \n",
    "> ~~~\n",
    "> proteins.dat\n",
    "> ~~~\n",
    "> \n",
    "> ~~~\n",
    "> $ mkdir recombine\n",
    "> $ mv proteins.dat recombine\n",
    "> $ cp recombine/proteins.dat ../proteins-saved.dat\n",
    "> $ ls\n",
    "> ~~~\n",
    "> \n",
    ">\n",
    "> 1.   `proteins-saved.dat recombine`\n",
    "> 2.   `recombine`\n",
    "> 3.   `proteins.dat recombine`\n",
    "> 4.   `proteins-saved.dat`\n",
    ">\n",
    "> > ## Solution\n",
    "> > We start in the `/Users/jamie/data` directory, and create a new folder called `recombine`.\n",
    "> > The second line moves (`mv`) the file `proteins.dat` to the new folder (`recombine`).\n",
    "> > The third line makes a copy of the file we just moved.  The tricky part here is where the file was\n",
    "> > copied to.  Recall that `..` means \"go up a level\", so the copied file is now in `/Users/jamie`.\n",
    "> > Notice that `..` is interpreted with respect to the current working\n",
    "> > directory, **not** with respect to the location of the file being copied.\n",
    "> > So, the only thing that will show using ls (in `/Users/jamie/data`) is the recombine folder.\n",
    "> >\n",
    "> > 1. No, see explanation above.  `proteins-saved.dat` is located at `/Users/jamie`\n",
    "> > 2. Yes\n",
    "> > 3. No, see explanation above.  `proteins.dat` is located at `/Users/jamie/data/recombine`\n",
    "> > 4. No, see explanation above.  `proteins-saved.dat` is located at `/Users/jamie`\n",
    "\n",
    "\n",
    "> ## Organizing Directories and Files\n",
    ">\n",
    "> Jamie is working on a project and she sees that her files aren't very well\n",
    "> organized:\n",
    ">\n",
    "> ~~~\n",
    "> $ ls -F\n",
    "> ~~~\n",
    "> \n",
    "> ~~~\n",
    "> analyzed/  fructose.dat    raw/   sucrose.dat\n",
    "> ~~~\n",
    "> \n",
    ">\n",
    "> The `fructose.dat` and `sucrose.dat` files contain output from her data\n",
    "> analysis. What command(s) covered in this lesson does she need to run so that the commands below will\n",
    "> produce the output shown?\n",
    ">\n",
    "> ~~~\n",
    "> $ ls -F\n",
    "> ~~~\n",
    "> \n",
    "> ~~~\n",
    "> analyzed/   raw/\n",
    "> ~~~\n",
    "> \n",
    "> ~~~\n",
    "> $ ls analyzed\n",
    "> ~~~\n",
    "> \n",
    "> ~~~\n",
    "> fructose.dat    sucrose.dat\n",
    "> ~~~\n",
    ">\n",
    "> > ## Solution\n",
    "> > ```\n",
    "> > mv *.dat analyzed\n",
    "> > ```\n",
    "> > \n",
    "> > Jamie needs to move her files `fructose.dat` and `sucrose.dat` to the `analyzed` directory.\n",
    "> > The shell will expand *.dat to match all .dat files in the current directory.\n",
    "> > The `mv` command then moves the list of .dat files to the \"analyzed\" directory.\n",
    "\n",
    "\n",
    "> ## Copy with Multiple Filenames\n",
    ">\n",
    "> For this exercise, you can test the commands in the `data-shell/data directory`.\n",
    ">\n",
    "> In the example below, what does `cp` do when given several filenames and a directory name?\n",
    ">\n",
    "> ~~~\n",
    "> $ mkdir backup\n",
    "> $ cp amino-acids.txt animals.txt backup/\n",
    "> ~~~\n",
    "> \n",
    ">\n",
    "> In the example below, what does `cp` do when given three or more file names?\n",
    ">\n",
    "> ~~~\n",
    "> $ ls -F\n",
    "> ~~~\n",
    "> \n",
    "> ~~~\n",
    "> amino-acids.txt  animals.txt  backup/  elements/  morse.txt  pdb/  planets.txt  salmon.txt  sunspot.txt\n",
    "> ~~~\n",
    "> \n",
    "> ~~~\n",
    "> $ cp amino-acids.txt animals.txt morse.txt \n",
    "> ~~~\n",
    "> \n",
    ">\n",
    "> > ## Solution\n",
    "> > If given more than one file name followed by a directory name (i.e. the destination directory must \n",
    "> > be the last argument), `cp` copies the files to the named directory.\n",
    "> >\n",
    "> > If given three file names, `cp` throws an error because it is expecting a directory\n",
    "> > name as the last argument.\n",
    "> >\n",
    "> > ```\n",
    "> > cp: target ‘morse.txt’ is not a directory\n",
    "> > ```\n",
    "\n",
    "\n",
    "> ## Listing Recursively and By Time\n",
    ">\n",
    "> The command `ls -R` lists the contents of directories recursively,\n",
    "> i.e., lists their sub-directories, sub-sub-directories, and so on\n",
    "> in alphabetical order at each level.\n",
    "> The command `ls -t` lists things by time of last change,\n",
    "> with most recently changed files or directories first.\n",
    "> In what order does `ls -R -t` display things?\n",
    "\n",
    "\n",
    "> ## Creating Files a Different Way\n",
    ">\n",
    "> We have seen how to create text files using the `nano` editor.\n",
    "> Now, try the following command in your home directory:\n",
    ">\n",
    "> ~~~\n",
    "> $ cd                  # go to your home directory\n",
    "> $ touch my_file.txt\n",
    "> ~~~\n",
    "> \n",
    ">\n",
    "> 1.  What did the touch command do?\n",
    ">     When you look at your home directory using the GUI file explorer,\n",
    ">     does the file show up?\n",
    ">\n",
    "> 2.  Use `ls -l` to inspect the files.  How large is `my_file.txt`?\n",
    ">\n",
    "> 3.  When might you want to create a file this way?\n",
    "\n",
    "\n",
    "> ## Moving to the Current Folder\n",
    ">\n",
    "> After running the following commands,\n",
    "> Jamie realizes that she put the files `sucrose.dat` and `maltose.dat` into the wrong folder:\n",
    ">\n",
    "> ~~~\n",
    "> $ ls -F\n",
    "> raw/ analyzed/\n",
    "> $ ls -F analyzed\n",
    "> fructose.dat glucose.dat maltose.dat sucrose.dat\n",
    "> $ cd raw/\n",
    "> ~~~\n",
    ">\n",
    "> Fill in the blanks to move these files to the current folder\n",
    "> (i.e., the one she is currently in):\n",
    ">\n",
    "> ~~~\n",
    "> $ mv ___/sucrose.dat  ___/maltose.dat ___\n",
    "> ~~~\n",
    "> > ## Solution\n",
    "> > ```\n",
    "> > $ mv ../analyzed/sucrose.dat ../analyzed/maltose.dat .\n",
    "> > ```\n",
    "> > \n",
    "> > Recall that `..` refers to the parent directory (i.e. one above the current directory)\n",
    "> > and that `.` refers to the current directory.\n",
    "\n",
    "\n",
    "> ## Using `rm` Safely\n",
    ">\n",
    "> What happens when we type `rm -i thesis/quotations.txt`?\n",
    "> Why would we want this protection when using `rm`?\n",
    ">\n",
    "> > ## Solution\n",
    "> >\n",
    "> > Ask for confirmation.\n",
    "\n",
    "> ## Copy a folder structure sans files\n",
    ">\n",
    "> You're starting a new experiment, and would like to duplicate the file\n",
    "> structure from your previous experiment without the data files so you can\n",
    "> add new data.\n",
    ">\n",
    "> Assume that the file structure is in a folder called '2016-05-18-data',\n",
    "> which contains folders named 'raw' and 'processed' that contain data files.\n",
    "> The goal is to copy the file structure of the `2016-05-18-data` folder\n",
    "> into a folder called `2016-05-20-data` and remove the data files from\n",
    "> the directory you just created.\n",
    ">\n",
    "> Which of the following set of commands would achieve this objective?\n",
    "> What would the other commands do?\n",
    ">\n",
    "> ~~~\n",
    "> $ cp -r 2016-05-18-data/ 2016-05-20-data/\n",
    "> $ rm 2016-05-20-data/data/raw/*\n",
    "> $ rm 2016-05-20-data/data/processed/*\n",
    "> ~~~\n",
    "> \n",
    "> ~~~\n",
    "> $ rm 2016-05-20-data/data/raw/*\n",
    "> $ rm 2016-05-20-data/data/processed/*\n",
    "> $ cp -r 2016-05-18-data/ 2016-5-20-data/\n",
    "> ~~~\n",
    "> \n",
    "> ~~~\n",
    "> $ cp -r 2016-05-18-data/ 2016-05-20-data/\n",
    "> $ rm -r -i 2016-05-20-data/\n",
    "> ~~~\n",
    "> >\n",
    "> > ## Solution\n",
    "> > The first set of commands achieves this objective.\n",
    "> > First we have a recursive copy of a data folder.\n",
    "> > Then two `rm` commands which remove all files in the specified directories.\n",
    "> > The shell expands the '*' wild card to match all files and subdirectories.\n",
    "> >\n",
    "> > The second set of commands have the wrong order: \n",
    "> > attempting to delete files which haven't yet been copied,\n",
    "> > followed by the recursive copy command which would copy them.\n",
    "> >\n",
    "> > The third set of commands would achieve the objective, but in a time-consuming way:\n",
    "> > the first command copies the directory recursively, but the second command deletes\n",
    "> > interactively, prompting for confirmation for each file and directory."
   ]
  }
 ],
 "metadata": {
  "kernelspec": {
   "display_name": "Python 3",
   "language": "python",
   "name": "python3"
  },
  "language_info": {
   "codemirror_mode": {
    "name": "ipython",
    "version": 3
   },
   "file_extension": ".py",
   "mimetype": "text/x-python",
   "name": "python",
   "nbconvert_exporter": "python",
   "pygments_lexer": "ipython3",
   "version": "3.6.0"
  }
 },
 "nbformat": 4,
 "nbformat_minor": 2
}
